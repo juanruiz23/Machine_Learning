{
  "nbformat": 4,
  "nbformat_minor": 0,
  "metadata": {
    "colab": {
      "name": "Proyecto 4.ipynb",
      "provenance": [],
      "collapsed_sections": []
    },
    "kernelspec": {
      "name": "python3",
      "display_name": "Python 3"
    },
    "language_info": {
      "name": "python"
    }
  },
  "cells": [
    {
      "cell_type": "code",
      "metadata": {
        "id": "MN2cmC1YGqqI"
      },
      "source": [
        "import numpy as np\n",
        "import pandas as pd"
      ],
      "execution_count": null,
      "outputs": []
    },
    {
      "cell_type": "code",
      "metadata": {
        "id": "55HrDqls1K4Z"
      },
      "source": [
        "class Regresion:\n",
        "  def __init__(self, df,nombre_Y,intercepto = True,Betas = True):\n",
        "    \n",
        "    self.df = df\n",
        "    self.nombre_Y = nombre_Y\n",
        "    self.intercepto = intercepto\n",
        "    self.Betas = Betas\n",
        "\n",
        "    a = 0\n",
        "    for j in range(self.df.shape[1]):\n",
        "      for i in self.df.index:\n",
        "        if (str(type(self.df[self.df.columns[j]][i])) == \"<class 'numpy.int64'>\") or (str(type(self.df[self.df.columns[j]][i])) ==\"<class 'numpy.float64'>\"):\n",
        "          a += 1 \n",
        "        else: \n",
        "          a = a\n",
        "    \n",
        "    if a == (self.df.shape[0]*self.df.shape[1]):\n",
        "      None\n",
        "    else:\n",
        "      return print(\"Hay un error, el Data Frame tiene datos no numericos\")\n",
        "      \n",
        "\n",
        "  def fit(self):\n",
        "    if self.intercepto == True:\n",
        "      Y = self.df[self.nombre_Y]\n",
        "      Y = Y.to_numpy()\n",
        "      X = self.df.drop([self.nombre_Y], axis = 1)\n",
        "      X.insert(0,\"Bo\",1)\n",
        "      X = X.to_numpy()\n",
        "      self.betas = np.linalg.inv(np.transpose(X).dot(X)).dot(np.transpose(X)).dot(Y)\n",
        "      return self.betas\n",
        "    \n",
        "    else:\n",
        "      Y = self.df[self.nombre_Y]\n",
        "      Y = Y.to_numpy()\n",
        "      X = self.df.drop([self.nombre_Y], axis = 1)\n",
        "      X = X.to_numpy()\n",
        "      self.betas = np.linalg.inv(np.transpose(X).dot(X)).dot(np.transpose(X)).dot(Y)\n",
        "      return self.betas\n",
        "\n",
        "  def predict(self,valores_estimar):\n",
        "    if self.intercepto == True:\n",
        "      uno = np.array([1])\n",
        "      valores_estimar = np.append(uno,valores_estimar)\n",
        "      Y_estimado = valores_estimar.dot(np.transpose(self.betas))\n",
        "      return Y_estimado\n",
        "    else:\n",
        "      Y_estimado = valores_estimar.dot(np.transpose(self.betas))\n",
        "      return Y_estimado\n",
        "\n"
      ],
      "execution_count": null,
      "outputs": []
    },
    {
      "cell_type": "code",
      "metadata": {
        "id": "1sVpCmTnvwu7"
      },
      "source": [
        "Dic = {\"x\":[1,2,3,4,5,6,7,8,9,10],\n",
        "       \"y\":[28.4, 44.1, 57.2, 68.8,67.4, 82.0, 103.0, 114.6, 138.3, 147.6],\n",
        "       \"x_1\":[1,2,4,4,5,6,7,7,9,10]} "
      ],
      "execution_count": null,
      "outputs": []
    },
    {
      "cell_type": "code",
      "metadata": {
        "id": "KBsFQfJNvyoc"
      },
      "source": [
        "Data = pd.DataFrame(Dic) "
      ],
      "execution_count": null,
      "outputs": []
    },
    {
      "cell_type": "code",
      "metadata": {
        "colab": {
          "base_uri": "https://localhost:8080/"
        },
        "id": "vFxgt7oxjlXi",
        "outputId": "ddd5b7ee-093e-4412-a5a9-9f6b5f2c0a13"
      },
      "source": [
        "valores = np.array([2,3]) ; valores"
      ],
      "execution_count": null,
      "outputs": [
        {
          "output_type": "execute_result",
          "data": {
            "text/plain": [
              "array([2, 3])"
            ]
          },
          "metadata": {},
          "execution_count": 7
        }
      ]
    },
    {
      "cell_type": "code",
      "metadata": {
        "id": "Ghhpbd3Vvywo"
      },
      "source": [
        "Modelo = Regresion(Data, \"y\", intercepto= False)"
      ],
      "execution_count": null,
      "outputs": []
    },
    {
      "cell_type": "code",
      "metadata": {
        "colab": {
          "base_uri": "https://localhost:8080/"
        },
        "id": "EAff1DMmvy0r",
        "outputId": "595b6657-fd07-4a39-8407-9e2bfa421215"
      },
      "source": [
        "Modelo.fit()"
      ],
      "execution_count": null,
      "outputs": [
        {
          "output_type": "execute_result",
          "data": {
            "text/plain": [
              "array([6.11986577, 8.93355705])"
            ]
          },
          "metadata": {},
          "execution_count": 9
        }
      ]
    },
    {
      "cell_type": "code",
      "metadata": {
        "colab": {
          "base_uri": "https://localhost:8080/"
        },
        "id": "dRRdgDVBfjzf",
        "outputId": "9e531ac0-72b8-4b18-99a4-461882775948"
      },
      "source": [
        "Modelo.predict(valores)"
      ],
      "execution_count": null,
      "outputs": [
        {
          "output_type": "execute_result",
          "data": {
            "text/plain": [
              "39.04040268456329"
            ]
          },
          "metadata": {},
          "execution_count": 10
        }
      ]
    },
    {
      "cell_type": "code",
      "metadata": {
        "id": "UgMWycWEICiQ"
      },
      "source": [
        "# Detectar errores"
      ],
      "execution_count": null,
      "outputs": []
    },
    {
      "cell_type": "code",
      "metadata": {
        "id": "kzvjMIacICpu"
      },
      "source": [
        "Dic = {\"x\":[1,2,3,4,5,6,7,8,9,10],\n",
        "       \"y\":[28.4, 44.1, 57.2, 68.8,67.4, 82.0, 103.0, 114.6, 138.3, 147.6],\n",
        "       \"x_1\":[1,2,4,4,5,6,7,7,9,\"Hola\"]} "
      ],
      "execution_count": null,
      "outputs": []
    },
    {
      "cell_type": "code",
      "metadata": {
        "id": "9xWVl0wfICtC"
      },
      "source": [
        "Data = pd.DataFrame(Dic) "
      ],
      "execution_count": null,
      "outputs": []
    },
    {
      "cell_type": "code",
      "metadata": {
        "colab": {
          "base_uri": "https://localhost:8080/"
        },
        "id": "Tl9feAZQIIhc",
        "outputId": "4c6a295f-f303-4e28-ed4d-e9d04aa5948c"
      },
      "source": [
        "valores = np.array([2,3]) ; valores"
      ],
      "execution_count": null,
      "outputs": [
        {
          "output_type": "execute_result",
          "data": {
            "text/plain": [
              "array([2, 3])"
            ]
          },
          "metadata": {},
          "execution_count": 14
        }
      ]
    },
    {
      "cell_type": "code",
      "metadata": {
        "colab": {
          "base_uri": "https://localhost:8080/"
        },
        "id": "uYap6o7SIIkl",
        "outputId": "37759d02-7713-470e-ebb8-0bae50653bab"
      },
      "source": [
        "Modelo = Regresion(Data, \"y\", intercepto= True)"
      ],
      "execution_count": null,
      "outputs": [
        {
          "output_type": "stream",
          "name": "stdout",
          "text": [
            "Hay un error, el Data Frame tiene datos no numericos\n"
          ]
        }
      ]
    }
  ]
}