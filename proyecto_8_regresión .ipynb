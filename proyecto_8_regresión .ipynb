{
  "nbformat": 4,
  "nbformat_minor": 0,
  "metadata": {
    "colab": {
      "name": "proyecto_8_regresión.ipynb",
      "provenance": [],
      "collapsed_sections": []
    },
    "kernelspec": {
      "display_name": "Python 3",
      "name": "python3"
    },
    "language_info": {
      "name": "python"
    }
  },
  "cells": [
    {
      "cell_type": "markdown",
      "metadata": {
        "id": "6Shk0L8dvvT2"
      },
      "source": [
        "#PROYECTO 8 \n",
        "##PUNTO 1 \n",
        "\n",
        "\n",
        "\n",
        "\n",
        "\n"
      ]
    },
    {
      "cell_type": "code",
      "metadata": {
        "colab": {
          "base_uri": "https://localhost:8080/"
        },
        "id": "0wD09N5Kn4XS",
        "outputId": "b4ea6b17-4863-4c3e-9e62-8ffdea5db292"
      },
      "source": [
        "pip install wbgapi"
      ],
      "execution_count": null,
      "outputs": [
        {
          "output_type": "stream",
          "name": "stdout",
          "text": [
            "Collecting wbgapi\n",
            "  Downloading wbgapi-1.0.7-py3-none-any.whl (35 kB)\n",
            "Requirement already satisfied: tabulate in /usr/local/lib/python3.7/dist-packages (from wbgapi) (0.8.9)\n",
            "Requirement already satisfied: PyYAML in /usr/local/lib/python3.7/dist-packages (from wbgapi) (3.13)\n",
            "Requirement already satisfied: requests in /usr/local/lib/python3.7/dist-packages (from wbgapi) (2.23.0)\n",
            "Requirement already satisfied: certifi>=2017.4.17 in /usr/local/lib/python3.7/dist-packages (from requests->wbgapi) (2021.5.30)\n",
            "Requirement already satisfied: chardet<4,>=3.0.2 in /usr/local/lib/python3.7/dist-packages (from requests->wbgapi) (3.0.4)\n",
            "Requirement already satisfied: idna<3,>=2.5 in /usr/local/lib/python3.7/dist-packages (from requests->wbgapi) (2.10)\n",
            "Requirement already satisfied: urllib3!=1.25.0,!=1.25.1,<1.26,>=1.21.1 in /usr/local/lib/python3.7/dist-packages (from requests->wbgapi) (1.24.3)\n",
            "Installing collected packages: wbgapi\n",
            "Successfully installed wbgapi-1.0.7\n"
          ]
        }
      ]
    },
    {
      "cell_type": "code",
      "metadata": {
        "colab": {
          "base_uri": "https://localhost:8080/"
        },
        "id": "i_P3H2C8n8jP",
        "outputId": "4f11b178-1581-4e20-9098-f689dc7c7eac"
      },
      "source": [
        "pip install wooldridge"
      ],
      "execution_count": null,
      "outputs": [
        {
          "output_type": "stream",
          "name": "stdout",
          "text": [
            "Collecting wooldridge\n",
            "  Downloading wooldridge-0.4.4-py3-none-any.whl (5.1 MB)\n",
            "\u001b[K     |████████████████████████████████| 5.1 MB 8.5 MB/s \n",
            "\u001b[?25hRequirement already satisfied: pandas in /usr/local/lib/python3.7/dist-packages (from wooldridge) (1.1.5)\n",
            "Requirement already satisfied: python-dateutil>=2.7.3 in /usr/local/lib/python3.7/dist-packages (from pandas->wooldridge) (2.8.2)\n",
            "Requirement already satisfied: numpy>=1.15.4 in /usr/local/lib/python3.7/dist-packages (from pandas->wooldridge) (1.19.5)\n",
            "Requirement already satisfied: pytz>=2017.2 in /usr/local/lib/python3.7/dist-packages (from pandas->wooldridge) (2018.9)\n",
            "Requirement already satisfied: six>=1.5 in /usr/local/lib/python3.7/dist-packages (from python-dateutil>=2.7.3->pandas->wooldridge) (1.15.0)\n",
            "Installing collected packages: wooldridge\n",
            "Successfully installed wooldridge-0.4.4\n"
          ]
        }
      ]
    },
    {
      "cell_type": "code",
      "metadata": {
        "id": "cQu66CAlnd-j"
      },
      "source": [
        "import numpy as np\n",
        "import pandas as pd\n",
        "import wbgapi as wb\n",
        "import wooldridge as wd"
      ],
      "execution_count": null,
      "outputs": []
    },
    {
      "cell_type": "code",
      "metadata": {
        "colab": {
          "base_uri": "https://localhost:8080/",
          "height": 530
        },
        "id": "nSWV2mMzoZKg",
        "outputId": "f6ccd7d8-3171-4ab8-da50-e364d2513284"
      },
      "source": [
        "Df =  pd.read_csv('/content/UPersonas.csv', sep=','  , engine='python') ; Df"
      ],
      "execution_count": null,
      "outputs": [
        {
          "output_type": "execute_result",
          "data": {
            "text/html": [
              "<div>\n",
              "<style scoped>\n",
              "    .dataframe tbody tr th:only-of-type {\n",
              "        vertical-align: middle;\n",
              "    }\n",
              "\n",
              "    .dataframe tbody tr th {\n",
              "        vertical-align: top;\n",
              "    }\n",
              "\n",
              "    .dataframe thead th {\n",
              "        text-align: right;\n",
              "    }\n",
              "</style>\n",
              "<table border=\"1\" class=\"dataframe\">\n",
              "  <thead>\n",
              "    <tr style=\"text-align: right;\">\n",
              "      <th></th>\n",
              "      <th>Unnamed: 0</th>\n",
              "      <th>ola</th>\n",
              "      <th>consecutivo</th>\n",
              "      <th>llave</th>\n",
              "      <th>hogar</th>\n",
              "      <th>llave_n16</th>\n",
              "      <th>hogar_n16</th>\n",
              "      <th>orden</th>\n",
              "      <th>seguimiento</th>\n",
              "      <th>llave_ID_lb</th>\n",
              "      <th>llaveper</th>\n",
              "      <th>llaveper_n16</th>\n",
              "      <th>edad</th>\n",
              "      <th>edad_meses</th>\n",
              "      <th>edad_tot_meses</th>\n",
              "      <th>sexo</th>\n",
              "      <th>parentesco</th>\n",
              "      <th>id_dpto_nac</th>\n",
              "      <th>id_mpio_nac</th>\n",
              "      <th>pais_nac</th>\n",
              "      <th>nac_dia</th>\n",
              "      <th>nac_mes</th>\n",
              "      <th>nac_ano</th>\n",
              "      <th>embarazada</th>\n",
              "      <th>estado_civil</th>\n",
              "      <th>vive_conyuge</th>\n",
              "      <th>orden_conyuge</th>\n",
              "      <th>fecha_edad</th>\n",
              "      <th>mes_unionm</th>\n",
              "      <th>ano_unionm</th>\n",
              "      <th>edad_unionm</th>\n",
              "      <th>etnia</th>\n",
              "      <th>padre_vive</th>\n",
              "      <th>orden_padre</th>\n",
              "      <th>madre_vive</th>\n",
              "      <th>orden_madre</th>\n",
              "      <th>parent_inform</th>\n",
              "      <th>inform_orden</th>\n",
              "      <th>novedad_perso</th>\n",
              "      <th>afiliacion</th>\n",
              "      <th>...</th>\n",
              "      <th>siempre_ayuda</th>\n",
              "      <th>hace_la_paga</th>\n",
              "      <th>violar_ley</th>\n",
              "      <th>justicia_propia</th>\n",
              "      <th>uso_violencia</th>\n",
              "      <th>voto_popular</th>\n",
              "      <th>ind_bienestar</th>\n",
              "      <th>desigualdad</th>\n",
              "      <th>paga_soborno</th>\n",
              "      <th>ayu_congresista</th>\n",
              "      <th>resolvio_congres</th>\n",
              "      <th>ayu_alcalde</th>\n",
              "      <th>resolvio_alcalde</th>\n",
              "      <th>ayu_lcomunal</th>\n",
              "      <th>resolvio_lcomunal</th>\n",
              "      <th>medid1_molestan</th>\n",
              "      <th>medid2_molestan</th>\n",
              "      <th>medid3a_molestan</th>\n",
              "      <th>medid3b_molestan</th>\n",
              "      <th>medid3c_molestan</th>\n",
              "      <th>medid3d_molestan</th>\n",
              "      <th>firma_paz</th>\n",
              "      <th>evitar_iva</th>\n",
              "      <th>fuente_tv</th>\n",
              "      <th>fuente_diarios</th>\n",
              "      <th>fuente_radio</th>\n",
              "      <th>fuente_revistas</th>\n",
              "      <th>fuente_libros</th>\n",
              "      <th>fuente_internet</th>\n",
              "      <th>fuente_amigos</th>\n",
              "      <th>acepta_dinero</th>\n",
              "      <th>vr_aleatorio</th>\n",
              "      <th>vende_voto</th>\n",
              "      <th>valor_voto</th>\n",
              "      <th>voto_secreto</th>\n",
              "      <th>voto_ofrecido</th>\n",
              "      <th>nom_partido</th>\n",
              "      <th>fexpers_2010</th>\n",
              "      <th>fpers_2010</th>\n",
              "      <th>fpers_2016</th>\n",
              "    </tr>\n",
              "  </thead>\n",
              "  <tbody>\n",
              "    <tr>\n",
              "      <th>0</th>\n",
              "      <td>0</td>\n",
              "      <td>3</td>\n",
              "      <td>111001</td>\n",
              "      <td>11100101.0</td>\n",
              "      <td>1.0</td>\n",
              "      <td>1.110010e+09</td>\n",
              "      <td>1</td>\n",
              "      <td>1</td>\n",
              "      <td>1</td>\n",
              "      <td>11100101.0</td>\n",
              "      <td>1.110010e+09</td>\n",
              "      <td>1.110010e+11</td>\n",
              "      <td>60.0</td>\n",
              "      <td>9.0</td>\n",
              "      <td>NaN</td>\n",
              "      <td>2.0</td>\n",
              "      <td>1.0</td>\n",
              "      <td>NaN</td>\n",
              "      <td>NaN</td>\n",
              "      <td>NaN</td>\n",
              "      <td>15.0</td>\n",
              "      <td>5.0</td>\n",
              "      <td>1955.0</td>\n",
              "      <td>NaN</td>\n",
              "      <td>3.0</td>\n",
              "      <td>NaN</td>\n",
              "      <td>NaN</td>\n",
              "      <td>NaN</td>\n",
              "      <td>NaN</td>\n",
              "      <td>NaN</td>\n",
              "      <td>NaN</td>\n",
              "      <td>NaN</td>\n",
              "      <td>3.0</td>\n",
              "      <td>NaN</td>\n",
              "      <td>2.0</td>\n",
              "      <td>NaN</td>\n",
              "      <td>NaN</td>\n",
              "      <td>NaN</td>\n",
              "      <td>0.0</td>\n",
              "      <td>1.0</td>\n",
              "      <td>...</td>\n",
              "      <td>1.0</td>\n",
              "      <td>4.0</td>\n",
              "      <td>2.0</td>\n",
              "      <td>2.0</td>\n",
              "      <td>4.0</td>\n",
              "      <td>2.0</td>\n",
              "      <td>1.0</td>\n",
              "      <td>1.0</td>\n",
              "      <td>3.0</td>\n",
              "      <td>2.0</td>\n",
              "      <td>NaN</td>\n",
              "      <td>2.0</td>\n",
              "      <td>NaN</td>\n",
              "      <td>2.0</td>\n",
              "      <td>NaN</td>\n",
              "      <td>4.0</td>\n",
              "      <td>NaN</td>\n",
              "      <td>NaN</td>\n",
              "      <td>NaN</td>\n",
              "      <td>NaN</td>\n",
              "      <td>NaN</td>\n",
              "      <td>3.0</td>\n",
              "      <td>2.0</td>\n",
              "      <td>1.0</td>\n",
              "      <td>2.0</td>\n",
              "      <td>2.0</td>\n",
              "      <td>2.0</td>\n",
              "      <td>2.0</td>\n",
              "      <td>2.0</td>\n",
              "      <td>1.0</td>\n",
              "      <td>NaN</td>\n",
              "      <td></td>\n",
              "      <td>1.0</td>\n",
              "      <td>$150.000</td>\n",
              "      <td>2.0</td>\n",
              "      <td>2.0</td>\n",
              "      <td>NaN</td>\n",
              "      <td>1.095778</td>\n",
              "      <td>1552.986910</td>\n",
              "      <td>1543.77</td>\n",
              "    </tr>\n",
              "    <tr>\n",
              "      <th>1</th>\n",
              "      <td>1</td>\n",
              "      <td>3</td>\n",
              "      <td>111001</td>\n",
              "      <td>NaN</td>\n",
              "      <td>NaN</td>\n",
              "      <td>1.110010e+09</td>\n",
              "      <td>1</td>\n",
              "      <td>6</td>\n",
              "      <td>2</td>\n",
              "      <td>NaN</td>\n",
              "      <td>NaN</td>\n",
              "      <td>1.110010e+11</td>\n",
              "      <td>40.0</td>\n",
              "      <td>2.0</td>\n",
              "      <td>NaN</td>\n",
              "      <td>2.0</td>\n",
              "      <td>3.0</td>\n",
              "      <td>14.0</td>\n",
              "      <td>193.0</td>\n",
              "      <td>NaN</td>\n",
              "      <td>22.0</td>\n",
              "      <td>12.0</td>\n",
              "      <td>1975.0</td>\n",
              "      <td>2.0</td>\n",
              "      <td>2.0</td>\n",
              "      <td>1.0</td>\n",
              "      <td>7.0</td>\n",
              "      <td>NaN</td>\n",
              "      <td>NaN</td>\n",
              "      <td>NaN</td>\n",
              "      <td>NaN</td>\n",
              "      <td>6.0</td>\n",
              "      <td>2.0</td>\n",
              "      <td>NaN</td>\n",
              "      <td>1.0</td>\n",
              "      <td>1.0</td>\n",
              "      <td>NaN</td>\n",
              "      <td>NaN</td>\n",
              "      <td>32.0</td>\n",
              "      <td>NaN</td>\n",
              "      <td>...</td>\n",
              "      <td>NaN</td>\n",
              "      <td>NaN</td>\n",
              "      <td>NaN</td>\n",
              "      <td>NaN</td>\n",
              "      <td>NaN</td>\n",
              "      <td>NaN</td>\n",
              "      <td>NaN</td>\n",
              "      <td>NaN</td>\n",
              "      <td>NaN</td>\n",
              "      <td>NaN</td>\n",
              "      <td>NaN</td>\n",
              "      <td>NaN</td>\n",
              "      <td>NaN</td>\n",
              "      <td>NaN</td>\n",
              "      <td>NaN</td>\n",
              "      <td>NaN</td>\n",
              "      <td>NaN</td>\n",
              "      <td>NaN</td>\n",
              "      <td>NaN</td>\n",
              "      <td>NaN</td>\n",
              "      <td>NaN</td>\n",
              "      <td>NaN</td>\n",
              "      <td>NaN</td>\n",
              "      <td>NaN</td>\n",
              "      <td>NaN</td>\n",
              "      <td>NaN</td>\n",
              "      <td>NaN</td>\n",
              "      <td>NaN</td>\n",
              "      <td>NaN</td>\n",
              "      <td>NaN</td>\n",
              "      <td>NaN</td>\n",
              "      <td>NaN</td>\n",
              "      <td>NaN</td>\n",
              "      <td>NaN</td>\n",
              "      <td>NaN</td>\n",
              "      <td>NaN</td>\n",
              "      <td>NaN</td>\n",
              "      <td>NaN</td>\n",
              "      <td>NaN</td>\n",
              "      <td>1543.77</td>\n",
              "    </tr>\n",
              "    <tr>\n",
              "      <th>2</th>\n",
              "      <td>2</td>\n",
              "      <td>3</td>\n",
              "      <td>111001</td>\n",
              "      <td>NaN</td>\n",
              "      <td>NaN</td>\n",
              "      <td>1.110010e+09</td>\n",
              "      <td>1</td>\n",
              "      <td>7</td>\n",
              "      <td>2</td>\n",
              "      <td>NaN</td>\n",
              "      <td>NaN</td>\n",
              "      <td>1.110010e+11</td>\n",
              "      <td>67.0</td>\n",
              "      <td>7.0</td>\n",
              "      <td>NaN</td>\n",
              "      <td>1.0</td>\n",
              "      <td>11.0</td>\n",
              "      <td>2.0</td>\n",
              "      <td>120.0</td>\n",
              "      <td>NaN</td>\n",
              "      <td>28.0</td>\n",
              "      <td>7.0</td>\n",
              "      <td>1948.0</td>\n",
              "      <td>NaN</td>\n",
              "      <td>2.0</td>\n",
              "      <td>1.0</td>\n",
              "      <td>6.0</td>\n",
              "      <td>NaN</td>\n",
              "      <td>NaN</td>\n",
              "      <td>NaN</td>\n",
              "      <td>NaN</td>\n",
              "      <td>6.0</td>\n",
              "      <td>3.0</td>\n",
              "      <td>NaN</td>\n",
              "      <td>3.0</td>\n",
              "      <td>NaN</td>\n",
              "      <td>NaN</td>\n",
              "      <td>NaN</td>\n",
              "      <td>21.0</td>\n",
              "      <td>NaN</td>\n",
              "      <td>...</td>\n",
              "      <td>NaN</td>\n",
              "      <td>NaN</td>\n",
              "      <td>NaN</td>\n",
              "      <td>NaN</td>\n",
              "      <td>NaN</td>\n",
              "      <td>NaN</td>\n",
              "      <td>NaN</td>\n",
              "      <td>NaN</td>\n",
              "      <td>NaN</td>\n",
              "      <td>NaN</td>\n",
              "      <td>NaN</td>\n",
              "      <td>NaN</td>\n",
              "      <td>NaN</td>\n",
              "      <td>NaN</td>\n",
              "      <td>NaN</td>\n",
              "      <td>NaN</td>\n",
              "      <td>NaN</td>\n",
              "      <td>NaN</td>\n",
              "      <td>NaN</td>\n",
              "      <td>NaN</td>\n",
              "      <td>NaN</td>\n",
              "      <td>NaN</td>\n",
              "      <td>NaN</td>\n",
              "      <td>NaN</td>\n",
              "      <td>NaN</td>\n",
              "      <td>NaN</td>\n",
              "      <td>NaN</td>\n",
              "      <td>NaN</td>\n",
              "      <td>NaN</td>\n",
              "      <td>NaN</td>\n",
              "      <td>NaN</td>\n",
              "      <td>NaN</td>\n",
              "      <td>NaN</td>\n",
              "      <td>NaN</td>\n",
              "      <td>NaN</td>\n",
              "      <td>NaN</td>\n",
              "      <td>NaN</td>\n",
              "      <td>NaN</td>\n",
              "      <td>NaN</td>\n",
              "      <td>3213.04</td>\n",
              "    </tr>\n",
              "    <tr>\n",
              "      <th>3</th>\n",
              "      <td>3</td>\n",
              "      <td>3</td>\n",
              "      <td>111001</td>\n",
              "      <td>NaN</td>\n",
              "      <td>NaN</td>\n",
              "      <td>1.110010e+09</td>\n",
              "      <td>1</td>\n",
              "      <td>8</td>\n",
              "      <td>2</td>\n",
              "      <td>NaN</td>\n",
              "      <td>NaN</td>\n",
              "      <td>1.110010e+11</td>\n",
              "      <td>22.0</td>\n",
              "      <td>0.0</td>\n",
              "      <td>NaN</td>\n",
              "      <td>1.0</td>\n",
              "      <td>5.0</td>\n",
              "      <td>21.0</td>\n",
              "      <td>102.0</td>\n",
              "      <td>NaN</td>\n",
              "      <td>27.0</td>\n",
              "      <td>2.0</td>\n",
              "      <td>1994.0</td>\n",
              "      <td>NaN</td>\n",
              "      <td>5.0</td>\n",
              "      <td>NaN</td>\n",
              "      <td>NaN</td>\n",
              "      <td>NaN</td>\n",
              "      <td>NaN</td>\n",
              "      <td>NaN</td>\n",
              "      <td>NaN</td>\n",
              "      <td>6.0</td>\n",
              "      <td>2.0</td>\n",
              "      <td>NaN</td>\n",
              "      <td>1.0</td>\n",
              "      <td>6.0</td>\n",
              "      <td>NaN</td>\n",
              "      <td>NaN</td>\n",
              "      <td>29.0</td>\n",
              "      <td>NaN</td>\n",
              "      <td>...</td>\n",
              "      <td>NaN</td>\n",
              "      <td>NaN</td>\n",
              "      <td>NaN</td>\n",
              "      <td>NaN</td>\n",
              "      <td>NaN</td>\n",
              "      <td>NaN</td>\n",
              "      <td>NaN</td>\n",
              "      <td>NaN</td>\n",
              "      <td>NaN</td>\n",
              "      <td>NaN</td>\n",
              "      <td>NaN</td>\n",
              "      <td>NaN</td>\n",
              "      <td>NaN</td>\n",
              "      <td>NaN</td>\n",
              "      <td>NaN</td>\n",
              "      <td>NaN</td>\n",
              "      <td>NaN</td>\n",
              "      <td>NaN</td>\n",
              "      <td>NaN</td>\n",
              "      <td>NaN</td>\n",
              "      <td>NaN</td>\n",
              "      <td>NaN</td>\n",
              "      <td>NaN</td>\n",
              "      <td>NaN</td>\n",
              "      <td>NaN</td>\n",
              "      <td>NaN</td>\n",
              "      <td>NaN</td>\n",
              "      <td>NaN</td>\n",
              "      <td>NaN</td>\n",
              "      <td>NaN</td>\n",
              "      <td>NaN</td>\n",
              "      <td>NaN</td>\n",
              "      <td>NaN</td>\n",
              "      <td>NaN</td>\n",
              "      <td>NaN</td>\n",
              "      <td>NaN</td>\n",
              "      <td>NaN</td>\n",
              "      <td>NaN</td>\n",
              "      <td>NaN</td>\n",
              "      <td>3175.81</td>\n",
              "    </tr>\n",
              "    <tr>\n",
              "      <th>4</th>\n",
              "      <td>4</td>\n",
              "      <td>3</td>\n",
              "      <td>111003</td>\n",
              "      <td>11100301.0</td>\n",
              "      <td>1.0</td>\n",
              "      <td>1.110031e+09</td>\n",
              "      <td>1</td>\n",
              "      <td>1</td>\n",
              "      <td>1</td>\n",
              "      <td>11100301.0</td>\n",
              "      <td>1.110030e+09</td>\n",
              "      <td>1.110031e+11</td>\n",
              "      <td>53.0</td>\n",
              "      <td>9.0</td>\n",
              "      <td>NaN</td>\n",
              "      <td>2.0</td>\n",
              "      <td>1.0</td>\n",
              "      <td>17.0</td>\n",
              "      <td>164.0</td>\n",
              "      <td>NaN</td>\n",
              "      <td>10.0</td>\n",
              "      <td>5.0</td>\n",
              "      <td>1962.0</td>\n",
              "      <td>NaN</td>\n",
              "      <td>4.0</td>\n",
              "      <td>NaN</td>\n",
              "      <td>NaN</td>\n",
              "      <td>NaN</td>\n",
              "      <td>NaN</td>\n",
              "      <td>NaN</td>\n",
              "      <td>NaN</td>\n",
              "      <td>8.0</td>\n",
              "      <td>2.0</td>\n",
              "      <td>NaN</td>\n",
              "      <td>2.0</td>\n",
              "      <td>NaN</td>\n",
              "      <td>NaN</td>\n",
              "      <td>NaN</td>\n",
              "      <td>29.0</td>\n",
              "      <td>1.0</td>\n",
              "      <td>...</td>\n",
              "      <td>2.0</td>\n",
              "      <td>3.0</td>\n",
              "      <td>3.0</td>\n",
              "      <td>3.0</td>\n",
              "      <td>3.0</td>\n",
              "      <td>2.0</td>\n",
              "      <td>2.0</td>\n",
              "      <td>2.0</td>\n",
              "      <td>3.0</td>\n",
              "      <td>2.0</td>\n",
              "      <td>NaN</td>\n",
              "      <td>2.0</td>\n",
              "      <td>NaN</td>\n",
              "      <td>2.0</td>\n",
              "      <td>NaN</td>\n",
              "      <td>5.0</td>\n",
              "      <td>NaN</td>\n",
              "      <td>NaN</td>\n",
              "      <td>NaN</td>\n",
              "      <td>NaN</td>\n",
              "      <td>NaN</td>\n",
              "      <td>2.0</td>\n",
              "      <td>2.0</td>\n",
              "      <td>1.0</td>\n",
              "      <td>2.0</td>\n",
              "      <td>2.0</td>\n",
              "      <td>2.0</td>\n",
              "      <td>2.0</td>\n",
              "      <td>2.0</td>\n",
              "      <td>2.0</td>\n",
              "      <td>NaN</td>\n",
              "      <td></td>\n",
              "      <td>1.0</td>\n",
              "      <td>$30.000</td>\n",
              "      <td>1.0</td>\n",
              "      <td>2.0</td>\n",
              "      <td>MOVIMIENTO SIGNIFICATIVO DE CIUDADANOS PROGRES...</td>\n",
              "      <td>1.095778</td>\n",
              "      <td>1552.986910</td>\n",
              "      <td>2600.98</td>\n",
              "    </tr>\n",
              "    <tr>\n",
              "      <th>...</th>\n",
              "      <td>...</td>\n",
              "      <td>...</td>\n",
              "      <td>...</td>\n",
              "      <td>...</td>\n",
              "      <td>...</td>\n",
              "      <td>...</td>\n",
              "      <td>...</td>\n",
              "      <td>...</td>\n",
              "      <td>...</td>\n",
              "      <td>...</td>\n",
              "      <td>...</td>\n",
              "      <td>...</td>\n",
              "      <td>...</td>\n",
              "      <td>...</td>\n",
              "      <td>...</td>\n",
              "      <td>...</td>\n",
              "      <td>...</td>\n",
              "      <td>...</td>\n",
              "      <td>...</td>\n",
              "      <td>...</td>\n",
              "      <td>...</td>\n",
              "      <td>...</td>\n",
              "      <td>...</td>\n",
              "      <td>...</td>\n",
              "      <td>...</td>\n",
              "      <td>...</td>\n",
              "      <td>...</td>\n",
              "      <td>...</td>\n",
              "      <td>...</td>\n",
              "      <td>...</td>\n",
              "      <td>...</td>\n",
              "      <td>...</td>\n",
              "      <td>...</td>\n",
              "      <td>...</td>\n",
              "      <td>...</td>\n",
              "      <td>...</td>\n",
              "      <td>...</td>\n",
              "      <td>...</td>\n",
              "      <td>...</td>\n",
              "      <td>...</td>\n",
              "      <td>...</td>\n",
              "      <td>...</td>\n",
              "      <td>...</td>\n",
              "      <td>...</td>\n",
              "      <td>...</td>\n",
              "      <td>...</td>\n",
              "      <td>...</td>\n",
              "      <td>...</td>\n",
              "      <td>...</td>\n",
              "      <td>...</td>\n",
              "      <td>...</td>\n",
              "      <td>...</td>\n",
              "      <td>...</td>\n",
              "      <td>...</td>\n",
              "      <td>...</td>\n",
              "      <td>...</td>\n",
              "      <td>...</td>\n",
              "      <td>...</td>\n",
              "      <td>...</td>\n",
              "      <td>...</td>\n",
              "      <td>...</td>\n",
              "      <td>...</td>\n",
              "      <td>...</td>\n",
              "      <td>...</td>\n",
              "      <td>...</td>\n",
              "      <td>...</td>\n",
              "      <td>...</td>\n",
              "      <td>...</td>\n",
              "      <td>...</td>\n",
              "      <td>...</td>\n",
              "      <td>...</td>\n",
              "      <td>...</td>\n",
              "      <td>...</td>\n",
              "      <td>...</td>\n",
              "      <td>...</td>\n",
              "      <td>...</td>\n",
              "      <td>...</td>\n",
              "      <td>...</td>\n",
              "      <td>...</td>\n",
              "      <td>...</td>\n",
              "      <td>...</td>\n",
              "    </tr>\n",
              "    <tr>\n",
              "      <th>10869</th>\n",
              "      <td>10869</td>\n",
              "      <td>3</td>\n",
              "      <td>173153</td>\n",
              "      <td>17315301.0</td>\n",
              "      <td>1.0</td>\n",
              "      <td>1.731530e+09</td>\n",
              "      <td>1</td>\n",
              "      <td>1</td>\n",
              "      <td>1</td>\n",
              "      <td>17315301.0</td>\n",
              "      <td>1.731530e+09</td>\n",
              "      <td>1.731530e+11</td>\n",
              "      <td>58.0</td>\n",
              "      <td>6.0</td>\n",
              "      <td>NaN</td>\n",
              "      <td>1.0</td>\n",
              "      <td>1.0</td>\n",
              "      <td>NaN</td>\n",
              "      <td>NaN</td>\n",
              "      <td>NaN</td>\n",
              "      <td>18.0</td>\n",
              "      <td>12.0</td>\n",
              "      <td>1957.0</td>\n",
              "      <td>NaN</td>\n",
              "      <td>3.0</td>\n",
              "      <td>NaN</td>\n",
              "      <td>NaN</td>\n",
              "      <td>NaN</td>\n",
              "      <td>NaN</td>\n",
              "      <td>NaN</td>\n",
              "      <td>NaN</td>\n",
              "      <td>NaN</td>\n",
              "      <td>3.0</td>\n",
              "      <td>NaN</td>\n",
              "      <td>2.0</td>\n",
              "      <td>NaN</td>\n",
              "      <td>NaN</td>\n",
              "      <td>NaN</td>\n",
              "      <td>0.0</td>\n",
              "      <td>1.0</td>\n",
              "      <td>...</td>\n",
              "      <td>2.0</td>\n",
              "      <td>3.0</td>\n",
              "      <td>3.0</td>\n",
              "      <td>2.0</td>\n",
              "      <td>2.0</td>\n",
              "      <td>2.0</td>\n",
              "      <td>2.0</td>\n",
              "      <td>2.0</td>\n",
              "      <td>3.0</td>\n",
              "      <td>2.0</td>\n",
              "      <td>NaN</td>\n",
              "      <td>2.0</td>\n",
              "      <td>NaN</td>\n",
              "      <td>2.0</td>\n",
              "      <td>NaN</td>\n",
              "      <td>NaN</td>\n",
              "      <td>1.0</td>\n",
              "      <td>2.0</td>\n",
              "      <td>1.0</td>\n",
              "      <td>1.0</td>\n",
              "      <td>1.0</td>\n",
              "      <td>1.0</td>\n",
              "      <td>3.0</td>\n",
              "      <td>1.0</td>\n",
              "      <td>2.0</td>\n",
              "      <td>2.0</td>\n",
              "      <td>2.0</td>\n",
              "      <td>2.0</td>\n",
              "      <td>2.0</td>\n",
              "      <td>2.0</td>\n",
              "      <td>NaN</td>\n",
              "      <td></td>\n",
              "      <td>2.0</td>\n",
              "      <td>$10.000</td>\n",
              "      <td>2.0</td>\n",
              "      <td>2.0</td>\n",
              "      <td>NaN</td>\n",
              "      <td>1.131644</td>\n",
              "      <td>1603.816808</td>\n",
              "      <td>2360.60</td>\n",
              "    </tr>\n",
              "    <tr>\n",
              "      <th>10870</th>\n",
              "      <td>10870</td>\n",
              "      <td>3</td>\n",
              "      <td>173154</td>\n",
              "      <td>17315401.0</td>\n",
              "      <td>1.0</td>\n",
              "      <td>1.731540e+09</td>\n",
              "      <td>1</td>\n",
              "      <td>1</td>\n",
              "      <td>1</td>\n",
              "      <td>17315401.0</td>\n",
              "      <td>1.731540e+09</td>\n",
              "      <td>1.731540e+11</td>\n",
              "      <td>34.0</td>\n",
              "      <td>11.0</td>\n",
              "      <td>NaN</td>\n",
              "      <td>2.0</td>\n",
              "      <td>2.0</td>\n",
              "      <td>NaN</td>\n",
              "      <td>NaN</td>\n",
              "      <td>NaN</td>\n",
              "      <td>16.0</td>\n",
              "      <td>7.0</td>\n",
              "      <td>1981.0</td>\n",
              "      <td>2.0</td>\n",
              "      <td>1.0</td>\n",
              "      <td>1.0</td>\n",
              "      <td>2.0</td>\n",
              "      <td>1.0</td>\n",
              "      <td>2.0</td>\n",
              "      <td>2006.0</td>\n",
              "      <td>NaN</td>\n",
              "      <td>NaN</td>\n",
              "      <td>3.0</td>\n",
              "      <td>NaN</td>\n",
              "      <td>2.0</td>\n",
              "      <td>NaN</td>\n",
              "      <td>NaN</td>\n",
              "      <td>NaN</td>\n",
              "      <td>0.0</td>\n",
              "      <td>1.0</td>\n",
              "      <td>...</td>\n",
              "      <td>1.0</td>\n",
              "      <td>4.0</td>\n",
              "      <td>2.0</td>\n",
              "      <td>2.0</td>\n",
              "      <td>4.0</td>\n",
              "      <td>1.0</td>\n",
              "      <td>2.0</td>\n",
              "      <td>1.0</td>\n",
              "      <td>4.0</td>\n",
              "      <td>2.0</td>\n",
              "      <td>NaN</td>\n",
              "      <td>2.0</td>\n",
              "      <td>NaN</td>\n",
              "      <td>1.0</td>\n",
              "      <td>2.0</td>\n",
              "      <td>NaN</td>\n",
              "      <td>3.0</td>\n",
              "      <td>2.0</td>\n",
              "      <td>2.0</td>\n",
              "      <td>2.0</td>\n",
              "      <td>1.0</td>\n",
              "      <td>1.0</td>\n",
              "      <td>1.0</td>\n",
              "      <td>1.0</td>\n",
              "      <td>2.0</td>\n",
              "      <td>2.0</td>\n",
              "      <td>2.0</td>\n",
              "      <td>2.0</td>\n",
              "      <td>2.0</td>\n",
              "      <td>1.0</td>\n",
              "      <td>1.0</td>\n",
              "      <td>$50.000</td>\n",
              "      <td>NaN</td>\n",
              "      <td></td>\n",
              "      <td>1.0</td>\n",
              "      <td>2.0</td>\n",
              "      <td>NaN</td>\n",
              "      <td>0.852457</td>\n",
              "      <td>1208.140567</td>\n",
              "      <td>1612.97</td>\n",
              "    </tr>\n",
              "    <tr>\n",
              "      <th>10871</th>\n",
              "      <td>10871</td>\n",
              "      <td>3</td>\n",
              "      <td>173154</td>\n",
              "      <td>17315401.0</td>\n",
              "      <td>1.0</td>\n",
              "      <td>1.731540e+09</td>\n",
              "      <td>1</td>\n",
              "      <td>2</td>\n",
              "      <td>1</td>\n",
              "      <td>17315402.0</td>\n",
              "      <td>1.731540e+09</td>\n",
              "      <td>1.731540e+11</td>\n",
              "      <td>36.0</td>\n",
              "      <td>4.0</td>\n",
              "      <td>NaN</td>\n",
              "      <td>1.0</td>\n",
              "      <td>1.0</td>\n",
              "      <td>NaN</td>\n",
              "      <td>NaN</td>\n",
              "      <td>NaN</td>\n",
              "      <td>7.0</td>\n",
              "      <td>2.0</td>\n",
              "      <td>1980.0</td>\n",
              "      <td>NaN</td>\n",
              "      <td>1.0</td>\n",
              "      <td>1.0</td>\n",
              "      <td>1.0</td>\n",
              "      <td>1.0</td>\n",
              "      <td>2.0</td>\n",
              "      <td>2006.0</td>\n",
              "      <td>NaN</td>\n",
              "      <td>NaN</td>\n",
              "      <td>2.0</td>\n",
              "      <td>NaN</td>\n",
              "      <td>2.0</td>\n",
              "      <td>NaN</td>\n",
              "      <td>NaN</td>\n",
              "      <td>NaN</td>\n",
              "      <td>0.0</td>\n",
              "      <td>1.0</td>\n",
              "      <td>...</td>\n",
              "      <td>NaN</td>\n",
              "      <td>NaN</td>\n",
              "      <td>NaN</td>\n",
              "      <td>NaN</td>\n",
              "      <td>NaN</td>\n",
              "      <td>NaN</td>\n",
              "      <td>NaN</td>\n",
              "      <td>NaN</td>\n",
              "      <td>NaN</td>\n",
              "      <td>NaN</td>\n",
              "      <td>NaN</td>\n",
              "      <td>NaN</td>\n",
              "      <td>NaN</td>\n",
              "      <td>NaN</td>\n",
              "      <td>NaN</td>\n",
              "      <td>NaN</td>\n",
              "      <td>NaN</td>\n",
              "      <td>NaN</td>\n",
              "      <td>NaN</td>\n",
              "      <td>NaN</td>\n",
              "      <td>NaN</td>\n",
              "      <td>NaN</td>\n",
              "      <td>NaN</td>\n",
              "      <td>NaN</td>\n",
              "      <td>NaN</td>\n",
              "      <td>NaN</td>\n",
              "      <td>NaN</td>\n",
              "      <td>NaN</td>\n",
              "      <td>NaN</td>\n",
              "      <td>NaN</td>\n",
              "      <td>NaN</td>\n",
              "      <td>NaN</td>\n",
              "      <td>NaN</td>\n",
              "      <td>NaN</td>\n",
              "      <td>NaN</td>\n",
              "      <td>NaN</td>\n",
              "      <td>NaN</td>\n",
              "      <td>0.980217</td>\n",
              "      <td>1389.208287</td>\n",
              "      <td>2442.41</td>\n",
              "    </tr>\n",
              "    <tr>\n",
              "      <th>10872</th>\n",
              "      <td>10872</td>\n",
              "      <td>3</td>\n",
              "      <td>173154</td>\n",
              "      <td>17315401.0</td>\n",
              "      <td>1.0</td>\n",
              "      <td>1.731540e+09</td>\n",
              "      <td>1</td>\n",
              "      <td>3</td>\n",
              "      <td>1</td>\n",
              "      <td>17315403.0</td>\n",
              "      <td>1.731540e+09</td>\n",
              "      <td>1.731540e+11</td>\n",
              "      <td>13.0</td>\n",
              "      <td>6.0</td>\n",
              "      <td>NaN</td>\n",
              "      <td>1.0</td>\n",
              "      <td>4.0</td>\n",
              "      <td>NaN</td>\n",
              "      <td>NaN</td>\n",
              "      <td>NaN</td>\n",
              "      <td>14.0</td>\n",
              "      <td>12.0</td>\n",
              "      <td>2002.0</td>\n",
              "      <td>NaN</td>\n",
              "      <td>5.0</td>\n",
              "      <td>NaN</td>\n",
              "      <td>NaN</td>\n",
              "      <td>NaN</td>\n",
              "      <td>NaN</td>\n",
              "      <td>NaN</td>\n",
              "      <td>NaN</td>\n",
              "      <td>NaN</td>\n",
              "      <td>3.0</td>\n",
              "      <td>NaN</td>\n",
              "      <td>1.0</td>\n",
              "      <td>1.0</td>\n",
              "      <td>7.0</td>\n",
              "      <td>1.0</td>\n",
              "      <td>0.0</td>\n",
              "      <td>NaN</td>\n",
              "      <td>...</td>\n",
              "      <td>NaN</td>\n",
              "      <td>NaN</td>\n",
              "      <td>NaN</td>\n",
              "      <td>NaN</td>\n",
              "      <td>NaN</td>\n",
              "      <td>NaN</td>\n",
              "      <td>NaN</td>\n",
              "      <td>NaN</td>\n",
              "      <td>NaN</td>\n",
              "      <td>NaN</td>\n",
              "      <td>NaN</td>\n",
              "      <td>NaN</td>\n",
              "      <td>NaN</td>\n",
              "      <td>NaN</td>\n",
              "      <td>NaN</td>\n",
              "      <td>NaN</td>\n",
              "      <td>NaN</td>\n",
              "      <td>NaN</td>\n",
              "      <td>NaN</td>\n",
              "      <td>NaN</td>\n",
              "      <td>NaN</td>\n",
              "      <td>NaN</td>\n",
              "      <td>NaN</td>\n",
              "      <td>NaN</td>\n",
              "      <td>NaN</td>\n",
              "      <td>NaN</td>\n",
              "      <td>NaN</td>\n",
              "      <td>NaN</td>\n",
              "      <td>NaN</td>\n",
              "      <td>NaN</td>\n",
              "      <td>NaN</td>\n",
              "      <td>NaN</td>\n",
              "      <td>NaN</td>\n",
              "      <td>NaN</td>\n",
              "      <td>NaN</td>\n",
              "      <td>NaN</td>\n",
              "      <td>NaN</td>\n",
              "      <td>1.054922</td>\n",
              "      <td>1495.083178</td>\n",
              "      <td>1565.04</td>\n",
              "    </tr>\n",
              "    <tr>\n",
              "      <th>10873</th>\n",
              "      <td>10873</td>\n",
              "      <td>3</td>\n",
              "      <td>173154</td>\n",
              "      <td>17315401.0</td>\n",
              "      <td>1.0</td>\n",
              "      <td>1.731540e+09</td>\n",
              "      <td>1</td>\n",
              "      <td>4</td>\n",
              "      <td>2</td>\n",
              "      <td>NaN</td>\n",
              "      <td>1.731540e+09</td>\n",
              "      <td>1.731540e+06</td>\n",
              "      <td>NaN</td>\n",
              "      <td>NaN</td>\n",
              "      <td>NaN</td>\n",
              "      <td>NaN</td>\n",
              "      <td>NaN</td>\n",
              "      <td>NaN</td>\n",
              "      <td>NaN</td>\n",
              "      <td>None</td>\n",
              "      <td>NaN</td>\n",
              "      <td>NaN</td>\n",
              "      <td>NaN</td>\n",
              "      <td>NaN</td>\n",
              "      <td>NaN</td>\n",
              "      <td>NaN</td>\n",
              "      <td>NaN</td>\n",
              "      <td>NaN</td>\n",
              "      <td>NaN</td>\n",
              "      <td>NaN</td>\n",
              "      <td>NaN</td>\n",
              "      <td>NaN</td>\n",
              "      <td>NaN</td>\n",
              "      <td>NaN</td>\n",
              "      <td>NaN</td>\n",
              "      <td>NaN</td>\n",
              "      <td>NaN</td>\n",
              "      <td>NaN</td>\n",
              "      <td>NaN</td>\n",
              "      <td>NaN</td>\n",
              "      <td>...</td>\n",
              "      <td>NaN</td>\n",
              "      <td>NaN</td>\n",
              "      <td>NaN</td>\n",
              "      <td>NaN</td>\n",
              "      <td>NaN</td>\n",
              "      <td>NaN</td>\n",
              "      <td>NaN</td>\n",
              "      <td>NaN</td>\n",
              "      <td>NaN</td>\n",
              "      <td>NaN</td>\n",
              "      <td>NaN</td>\n",
              "      <td>NaN</td>\n",
              "      <td>NaN</td>\n",
              "      <td>NaN</td>\n",
              "      <td>NaN</td>\n",
              "      <td>NaN</td>\n",
              "      <td>NaN</td>\n",
              "      <td>NaN</td>\n",
              "      <td>NaN</td>\n",
              "      <td>NaN</td>\n",
              "      <td>NaN</td>\n",
              "      <td>NaN</td>\n",
              "      <td>NaN</td>\n",
              "      <td>NaN</td>\n",
              "      <td>NaN</td>\n",
              "      <td>NaN</td>\n",
              "      <td>NaN</td>\n",
              "      <td>NaN</td>\n",
              "      <td>NaN</td>\n",
              "      <td>NaN</td>\n",
              "      <td>NaN</td>\n",
              "      <td>None</td>\n",
              "      <td>NaN</td>\n",
              "      <td>None</td>\n",
              "      <td>NaN</td>\n",
              "      <td>NaN</td>\n",
              "      <td>None</td>\n",
              "      <td>NaN</td>\n",
              "      <td>NaN</td>\n",
              "      <td>NaN</td>\n",
              "    </tr>\n",
              "  </tbody>\n",
              "</table>\n",
              "<p>10874 rows × 647 columns</p>\n",
              "</div>"
            ],
            "text/plain": [
              "       Unnamed: 0  ola  consecutivo  ...  fexpers_2010   fpers_2010  fpers_2016\n",
              "0               0    3       111001  ...      1.095778  1552.986910     1543.77\n",
              "1               1    3       111001  ...           NaN          NaN     1543.77\n",
              "2               2    3       111001  ...           NaN          NaN     3213.04\n",
              "3               3    3       111001  ...           NaN          NaN     3175.81\n",
              "4               4    3       111003  ...      1.095778  1552.986910     2600.98\n",
              "...           ...  ...          ...  ...           ...          ...         ...\n",
              "10869       10869    3       173153  ...      1.131644  1603.816808     2360.60\n",
              "10870       10870    3       173154  ...      0.852457  1208.140567     1612.97\n",
              "10871       10871    3       173154  ...      0.980217  1389.208287     2442.41\n",
              "10872       10872    3       173154  ...      1.054922  1495.083178     1565.04\n",
              "10873       10873    3       173154  ...           NaN          NaN         NaN\n",
              "\n",
              "[10874 rows x 647 columns]"
            ]
          },
          "metadata": {},
          "execution_count": 6
        }
      ]
    },
    {
      "cell_type": "code",
      "metadata": {
        "colab": {
          "base_uri": "https://localhost:8080/"
        },
        "id": "mMLb2G3brn0Q",
        "outputId": "e6e5a09c-0cd5-40eb-8329-5858ee0d65d7"
      },
      "source": [
        "Df.drop_duplicates"
      ],
      "execution_count": null,
      "outputs": [
        {
          "output_type": "execute_result",
          "data": {
            "text/plain": [
              "<bound method DataFrame.drop_duplicates of        Unnamed: 0  ola  consecutivo  ...  fexpers_2010   fpers_2010  fpers_2016\n",
              "0               0    3       111001  ...      1.095778  1552.986910     1543.77\n",
              "1               1    3       111001  ...           NaN          NaN     1543.77\n",
              "2               2    3       111001  ...           NaN          NaN     3213.04\n",
              "3               3    3       111001  ...           NaN          NaN     3175.81\n",
              "4               4    3       111003  ...      1.095778  1552.986910     2600.98\n",
              "...           ...  ...          ...  ...           ...          ...         ...\n",
              "10869       10869    3       173153  ...      1.131644  1603.816808     2360.60\n",
              "10870       10870    3       173154  ...      0.852457  1208.140567     1612.97\n",
              "10871       10871    3       173154  ...      0.980217  1389.208287     2442.41\n",
              "10872       10872    3       173154  ...      1.054922  1495.083178     1565.04\n",
              "10873       10873    3       173154  ...           NaN          NaN         NaN\n",
              "\n",
              "[10874 rows x 647 columns]>"
            ]
          },
          "metadata": {},
          "execution_count": 7
        }
      ]
    },
    {
      "cell_type": "code",
      "metadata": {
        "id": "Pkz4fvlPxcEo"
      },
      "source": [
        "Df['vr_salario'] = Df['vr_salario'].fillna('No')"
      ],
      "execution_count": null,
      "outputs": []
    },
    {
      "cell_type": "code",
      "metadata": {
        "id": "l_BDdzLAzYqh"
      },
      "source": [
        "Base = Df[Df['vr_salario'] != 'No']"
      ],
      "execution_count": null,
      "outputs": []
    },
    {
      "cell_type": "code",
      "metadata": {
        "colab": {
          "base_uri": "https://localhost:8080/"
        },
        "id": "GivxBpc5z7z_",
        "outputId": "58f42263-8cb7-4ffa-e549-4854e0fa3595"
      },
      "source": [
        "Base['vr_salario']"
      ],
      "execution_count": null,
      "outputs": [
        {
          "output_type": "execute_result",
          "data": {
            "text/plain": [
              "7        1.026e+06\n",
              "9           750000\n",
              "17          689000\n",
              "18         1.5e+06\n",
              "25          700000\n",
              "           ...    \n",
              "10823      1.6e+06\n",
              "10829       690000\n",
              "10830      1.1e+06\n",
              "10846      1.3e+06\n",
              "10871       680000\n",
              "Name: vr_salario, Length: 1446, dtype: object"
            ]
          },
          "metadata": {},
          "execution_count": 10
        }
      ]
    },
    {
      "cell_type": "code",
      "metadata": {
        "colab": {
          "base_uri": "https://localhost:8080/"
        },
        "id": "wnbwLvtX_wMt",
        "outputId": "ec967936-8d0e-447a-ea80-b2888a075717"
      },
      "source": [
        "Base['afiliacion'] = Base['afiliacion'].fillna(0)"
      ],
      "execution_count": null,
      "outputs": [
        {
          "output_type": "stream",
          "name": "stderr",
          "text": [
            "/usr/local/lib/python3.7/dist-packages/ipykernel_launcher.py:1: SettingWithCopyWarning: \n",
            "A value is trying to be set on a copy of a slice from a DataFrame.\n",
            "Try using .loc[row_indexer,col_indexer] = value instead\n",
            "\n",
            "See the caveats in the documentation: https://pandas.pydata.org/pandas-docs/stable/user_guide/indexing.html#returning-a-view-versus-a-copy\n",
            "  \"\"\"Entry point for launching an IPython kernel.\n"
          ]
        }
      ]
    },
    {
      "cell_type": "code",
      "metadata": {
        "colab": {
          "base_uri": "https://localhost:8080/"
        },
        "id": "iPSkx6bT_5pD",
        "outputId": "02eb7e35-715f-4021-aab8-59cfe77b877f"
      },
      "source": [
        "Base['afiliacion'].shape"
      ],
      "execution_count": null,
      "outputs": [
        {
          "output_type": "execute_result",
          "data": {
            "text/plain": [
              "(1446,)"
            ]
          },
          "metadata": {},
          "execution_count": 12
        }
      ]
    },
    {
      "cell_type": "code",
      "metadata": {
        "colab": {
          "base_uri": "https://localhost:8080/"
        },
        "id": "tzjUn4VfqgCC",
        "outputId": "31b12d4a-9232-40b5-ff55-9166b338eb65"
      },
      "source": [
        "Base['llave'] = Base['llave'].isna()\n",
        "\n"
      ],
      "execution_count": null,
      "outputs": [
        {
          "output_type": "stream",
          "name": "stderr",
          "text": [
            "/usr/local/lib/python3.7/dist-packages/ipykernel_launcher.py:1: SettingWithCopyWarning: \n",
            "A value is trying to be set on a copy of a slice from a DataFrame.\n",
            "Try using .loc[row_indexer,col_indexer] = value instead\n",
            "\n",
            "See the caveats in the documentation: https://pandas.pydata.org/pandas-docs/stable/user_guide/indexing.html#returning-a-view-versus-a-copy\n",
            "  \"\"\"Entry point for launching an IPython kernel.\n"
          ]
        }
      ]
    },
    {
      "cell_type": "code",
      "metadata": {
        "id": "PiiRWbL8vVSW"
      },
      "source": [
        "Base = Base[Base['llave'] == False]"
      ],
      "execution_count": null,
      "outputs": []
    },
    {
      "cell_type": "code",
      "metadata": {
        "id": "Y2hNg-7wzb_S"
      },
      "source": [
        "Base['Total_hijos'] = Base['hijos_hombres']+ Base['hijas_mujeres']"
      ],
      "execution_count": null,
      "outputs": []
    },
    {
      "cell_type": "code",
      "metadata": {
        "id": "fEmQ38b31AeK"
      },
      "source": [
        "Base['Total_hijos'] = Base['Total_hijos'].fillna(0)"
      ],
      "execution_count": null,
      "outputs": []
    },
    {
      "cell_type": "code",
      "metadata": {
        "colab": {
          "base_uri": "https://localhost:8080/"
        },
        "id": "qdso1GGX2z0Y",
        "outputId": "90aa8dbb-e412-407b-e8ef-73e7f9fe5b18"
      },
      "source": [
        "Base['Total_hijos']"
      ],
      "execution_count": null,
      "outputs": [
        {
          "output_type": "execute_result",
          "data": {
            "text/plain": [
              "7        2.0\n",
              "9        0.0\n",
              "17       0.0\n",
              "18       0.0\n",
              "25       0.0\n",
              "        ... \n",
              "10808    0.0\n",
              "10822    0.0\n",
              "10823    2.0\n",
              "10846    0.0\n",
              "10871    0.0\n",
              "Name: Total_hijos, Length: 1283, dtype: float64"
            ]
          },
          "metadata": {},
          "execution_count": 17
        }
      ]
    },
    {
      "cell_type": "code",
      "metadata": {
        "colab": {
          "base_uri": "https://localhost:8080/"
        },
        "id": "4OdWkUCV6G42",
        "outputId": "4e9e01c0-efc2-428b-fc26-384c20ecaf04"
      },
      "source": [
        "Base['edad']#= Df['edad']>=12 # Personas en edad de trabajar \n",
        "#Df = Df[Df['edad'] == True]"
      ],
      "execution_count": null,
      "outputs": [
        {
          "output_type": "execute_result",
          "data": {
            "text/plain": [
              "7        30.0\n",
              "9        31.0\n",
              "17       32.0\n",
              "18       37.0\n",
              "25       59.0\n",
              "         ... \n",
              "10808    41.0\n",
              "10822    33.0\n",
              "10823    35.0\n",
              "10846    38.0\n",
              "10871    36.0\n",
              "Name: edad, Length: 1283, dtype: float64"
            ]
          },
          "metadata": {},
          "execution_count": 18
        }
      ]
    },
    {
      "cell_type": "code",
      "metadata": {
        "colab": {
          "base_uri": "https://localhost:8080/"
        },
        "id": "84gjfIuw1BfH",
        "outputId": "6d91201f-9b79-4bed-c4f5-f5ae6cd5812e"
      },
      "source": [
        "Base['nivel_educ'].isna().sum()"
      ],
      "execution_count": null,
      "outputs": [
        {
          "output_type": "execute_result",
          "data": {
            "text/plain": [
              "1167"
            ]
          },
          "metadata": {},
          "execution_count": 19
        }
      ]
    },
    {
      "cell_type": "code",
      "metadata": {
        "colab": {
          "base_uri": "https://localhost:8080/"
        },
        "id": "X15BU4DH3Imw",
        "outputId": "4312b1ba-2040-45fa-9906-2c106753cc75"
      },
      "source": [
        "2234/2692 # Base.shape "
      ],
      "execution_count": null,
      "outputs": [
        {
          "output_type": "execute_result",
          "data": {
            "text/plain": [
              "0.8298662704309064"
            ]
          },
          "metadata": {},
          "execution_count": 20
        }
      ]
    },
    {
      "cell_type": "code",
      "metadata": {
        "colab": {
          "base_uri": "https://localhost:8080/",
          "height": 547
        },
        "id": "SGzriyB6nuTp",
        "outputId": "eee4cd00-9e95-4dcd-ada1-9d250bf8676d"
      },
      "source": [
        "Base"
      ],
      "execution_count": null,
      "outputs": [
        {
          "output_type": "execute_result",
          "data": {
            "text/html": [
              "<div>\n",
              "<style scoped>\n",
              "    .dataframe tbody tr th:only-of-type {\n",
              "        vertical-align: middle;\n",
              "    }\n",
              "\n",
              "    .dataframe tbody tr th {\n",
              "        vertical-align: top;\n",
              "    }\n",
              "\n",
              "    .dataframe thead th {\n",
              "        text-align: right;\n",
              "    }\n",
              "</style>\n",
              "<table border=\"1\" class=\"dataframe\">\n",
              "  <thead>\n",
              "    <tr style=\"text-align: right;\">\n",
              "      <th></th>\n",
              "      <th>Unnamed: 0</th>\n",
              "      <th>ola</th>\n",
              "      <th>consecutivo</th>\n",
              "      <th>llave</th>\n",
              "      <th>hogar</th>\n",
              "      <th>llave_n16</th>\n",
              "      <th>hogar_n16</th>\n",
              "      <th>orden</th>\n",
              "      <th>seguimiento</th>\n",
              "      <th>llave_ID_lb</th>\n",
              "      <th>llaveper</th>\n",
              "      <th>llaveper_n16</th>\n",
              "      <th>edad</th>\n",
              "      <th>edad_meses</th>\n",
              "      <th>edad_tot_meses</th>\n",
              "      <th>sexo</th>\n",
              "      <th>parentesco</th>\n",
              "      <th>id_dpto_nac</th>\n",
              "      <th>id_mpio_nac</th>\n",
              "      <th>pais_nac</th>\n",
              "      <th>nac_dia</th>\n",
              "      <th>nac_mes</th>\n",
              "      <th>nac_ano</th>\n",
              "      <th>embarazada</th>\n",
              "      <th>estado_civil</th>\n",
              "      <th>vive_conyuge</th>\n",
              "      <th>orden_conyuge</th>\n",
              "      <th>fecha_edad</th>\n",
              "      <th>mes_unionm</th>\n",
              "      <th>ano_unionm</th>\n",
              "      <th>edad_unionm</th>\n",
              "      <th>etnia</th>\n",
              "      <th>padre_vive</th>\n",
              "      <th>orden_padre</th>\n",
              "      <th>madre_vive</th>\n",
              "      <th>orden_madre</th>\n",
              "      <th>parent_inform</th>\n",
              "      <th>inform_orden</th>\n",
              "      <th>novedad_perso</th>\n",
              "      <th>afiliacion</th>\n",
              "      <th>...</th>\n",
              "      <th>hace_la_paga</th>\n",
              "      <th>violar_ley</th>\n",
              "      <th>justicia_propia</th>\n",
              "      <th>uso_violencia</th>\n",
              "      <th>voto_popular</th>\n",
              "      <th>ind_bienestar</th>\n",
              "      <th>desigualdad</th>\n",
              "      <th>paga_soborno</th>\n",
              "      <th>ayu_congresista</th>\n",
              "      <th>resolvio_congres</th>\n",
              "      <th>ayu_alcalde</th>\n",
              "      <th>resolvio_alcalde</th>\n",
              "      <th>ayu_lcomunal</th>\n",
              "      <th>resolvio_lcomunal</th>\n",
              "      <th>medid1_molestan</th>\n",
              "      <th>medid2_molestan</th>\n",
              "      <th>medid3a_molestan</th>\n",
              "      <th>medid3b_molestan</th>\n",
              "      <th>medid3c_molestan</th>\n",
              "      <th>medid3d_molestan</th>\n",
              "      <th>firma_paz</th>\n",
              "      <th>evitar_iva</th>\n",
              "      <th>fuente_tv</th>\n",
              "      <th>fuente_diarios</th>\n",
              "      <th>fuente_radio</th>\n",
              "      <th>fuente_revistas</th>\n",
              "      <th>fuente_libros</th>\n",
              "      <th>fuente_internet</th>\n",
              "      <th>fuente_amigos</th>\n",
              "      <th>acepta_dinero</th>\n",
              "      <th>vr_aleatorio</th>\n",
              "      <th>vende_voto</th>\n",
              "      <th>valor_voto</th>\n",
              "      <th>voto_secreto</th>\n",
              "      <th>voto_ofrecido</th>\n",
              "      <th>nom_partido</th>\n",
              "      <th>fexpers_2010</th>\n",
              "      <th>fpers_2010</th>\n",
              "      <th>fpers_2016</th>\n",
              "      <th>Total_hijos</th>\n",
              "    </tr>\n",
              "  </thead>\n",
              "  <tbody>\n",
              "    <tr>\n",
              "      <th>7</th>\n",
              "      <td>7</td>\n",
              "      <td>3</td>\n",
              "      <td>111003</td>\n",
              "      <td>False</td>\n",
              "      <td>5.0</td>\n",
              "      <td>1.110031e+09</td>\n",
              "      <td>1</td>\n",
              "      <td>4</td>\n",
              "      <td>2</td>\n",
              "      <td>11100304.0</td>\n",
              "      <td>1.110031e+09</td>\n",
              "      <td>1.110031e+11</td>\n",
              "      <td>30.0</td>\n",
              "      <td>5.0</td>\n",
              "      <td>NaN</td>\n",
              "      <td>2.0</td>\n",
              "      <td>3.0</td>\n",
              "      <td>NaN</td>\n",
              "      <td>NaN</td>\n",
              "      <td>NaN</td>\n",
              "      <td>13.0</td>\n",
              "      <td>9.0</td>\n",
              "      <td>1985.0</td>\n",
              "      <td>2.0</td>\n",
              "      <td>1.0</td>\n",
              "      <td>1.0</td>\n",
              "      <td>6.0</td>\n",
              "      <td>NaN</td>\n",
              "      <td>NaN</td>\n",
              "      <td>NaN</td>\n",
              "      <td>NaN</td>\n",
              "      <td>NaN</td>\n",
              "      <td>3.0</td>\n",
              "      <td>NaN</td>\n",
              "      <td>1.0</td>\n",
              "      <td>1.0</td>\n",
              "      <td>NaN</td>\n",
              "      <td>4.0</td>\n",
              "      <td>0.0</td>\n",
              "      <td>1.0</td>\n",
              "      <td>...</td>\n",
              "      <td>3.0</td>\n",
              "      <td>2.0</td>\n",
              "      <td>3.0</td>\n",
              "      <td>3.0</td>\n",
              "      <td>2.0</td>\n",
              "      <td>2.0</td>\n",
              "      <td>2.0</td>\n",
              "      <td>3.0</td>\n",
              "      <td>2.0</td>\n",
              "      <td>NaN</td>\n",
              "      <td>2.0</td>\n",
              "      <td>NaN</td>\n",
              "      <td>2.0</td>\n",
              "      <td>NaN</td>\n",
              "      <td>5.0</td>\n",
              "      <td>NaN</td>\n",
              "      <td>NaN</td>\n",
              "      <td>NaN</td>\n",
              "      <td>NaN</td>\n",
              "      <td>NaN</td>\n",
              "      <td>2.0</td>\n",
              "      <td>2.0</td>\n",
              "      <td>1.0</td>\n",
              "      <td>2.0</td>\n",
              "      <td>2.0</td>\n",
              "      <td>2.0</td>\n",
              "      <td>2.0</td>\n",
              "      <td>1.0</td>\n",
              "      <td>2.0</td>\n",
              "      <td>NaN</td>\n",
              "      <td></td>\n",
              "      <td>2.0</td>\n",
              "      <td>$50.000</td>\n",
              "      <td>2.0</td>\n",
              "      <td>2.0</td>\n",
              "      <td>MOVIMIENTO SIGNIFICATIVO DE CIUDADANOS PROGRES...</td>\n",
              "      <td>0.989732</td>\n",
              "      <td>1402.693654</td>\n",
              "      <td>1589.85</td>\n",
              "      <td>2.0</td>\n",
              "    </tr>\n",
              "    <tr>\n",
              "      <th>9</th>\n",
              "      <td>9</td>\n",
              "      <td>3</td>\n",
              "      <td>111003</td>\n",
              "      <td>False</td>\n",
              "      <td>5.0</td>\n",
              "      <td>1.110031e+09</td>\n",
              "      <td>1</td>\n",
              "      <td>6</td>\n",
              "      <td>2</td>\n",
              "      <td>11100306.0</td>\n",
              "      <td>1.110031e+09</td>\n",
              "      <td>1.110031e+11</td>\n",
              "      <td>31.0</td>\n",
              "      <td>10.0</td>\n",
              "      <td>NaN</td>\n",
              "      <td>1.0</td>\n",
              "      <td>11.0</td>\n",
              "      <td>NaN</td>\n",
              "      <td>NaN</td>\n",
              "      <td>NaN</td>\n",
              "      <td>16.0</td>\n",
              "      <td>4.0</td>\n",
              "      <td>1984.0</td>\n",
              "      <td>NaN</td>\n",
              "      <td>1.0</td>\n",
              "      <td>1.0</td>\n",
              "      <td>4.0</td>\n",
              "      <td>NaN</td>\n",
              "      <td>NaN</td>\n",
              "      <td>NaN</td>\n",
              "      <td>NaN</td>\n",
              "      <td>NaN</td>\n",
              "      <td>3.0</td>\n",
              "      <td>NaN</td>\n",
              "      <td>2.0</td>\n",
              "      <td>NaN</td>\n",
              "      <td>NaN</td>\n",
              "      <td>6.0</td>\n",
              "      <td>0.0</td>\n",
              "      <td>1.0</td>\n",
              "      <td>...</td>\n",
              "      <td>NaN</td>\n",
              "      <td>NaN</td>\n",
              "      <td>NaN</td>\n",
              "      <td>NaN</td>\n",
              "      <td>NaN</td>\n",
              "      <td>NaN</td>\n",
              "      <td>NaN</td>\n",
              "      <td>NaN</td>\n",
              "      <td>NaN</td>\n",
              "      <td>NaN</td>\n",
              "      <td>NaN</td>\n",
              "      <td>NaN</td>\n",
              "      <td>NaN</td>\n",
              "      <td>NaN</td>\n",
              "      <td>NaN</td>\n",
              "      <td>NaN</td>\n",
              "      <td>NaN</td>\n",
              "      <td>NaN</td>\n",
              "      <td>NaN</td>\n",
              "      <td>NaN</td>\n",
              "      <td>NaN</td>\n",
              "      <td>NaN</td>\n",
              "      <td>NaN</td>\n",
              "      <td>NaN</td>\n",
              "      <td>NaN</td>\n",
              "      <td>NaN</td>\n",
              "      <td>NaN</td>\n",
              "      <td>NaN</td>\n",
              "      <td>NaN</td>\n",
              "      <td>NaN</td>\n",
              "      <td>NaN</td>\n",
              "      <td>NaN</td>\n",
              "      <td>NaN</td>\n",
              "      <td>NaN</td>\n",
              "      <td>NaN</td>\n",
              "      <td>NaN</td>\n",
              "      <td>1.184795</td>\n",
              "      <td>1679.145590</td>\n",
              "      <td>2538.97</td>\n",
              "      <td>0.0</td>\n",
              "    </tr>\n",
              "    <tr>\n",
              "      <th>17</th>\n",
              "      <td>17</td>\n",
              "      <td>3</td>\n",
              "      <td>111006</td>\n",
              "      <td>False</td>\n",
              "      <td>1.0</td>\n",
              "      <td>1.110060e+09</td>\n",
              "      <td>1</td>\n",
              "      <td>4</td>\n",
              "      <td>2</td>\n",
              "      <td>NaN</td>\n",
              "      <td>1.110060e+09</td>\n",
              "      <td>1.110060e+11</td>\n",
              "      <td>32.0</td>\n",
              "      <td>7.0</td>\n",
              "      <td>NaN</td>\n",
              "      <td>1.0</td>\n",
              "      <td>1.0</td>\n",
              "      <td>NaN</td>\n",
              "      <td>NaN</td>\n",
              "      <td>NaN</td>\n",
              "      <td>25.0</td>\n",
              "      <td>7.0</td>\n",
              "      <td>1983.0</td>\n",
              "      <td>NaN</td>\n",
              "      <td>2.0</td>\n",
              "      <td>1.0</td>\n",
              "      <td>1.0</td>\n",
              "      <td>2.0</td>\n",
              "      <td>NaN</td>\n",
              "      <td>NaN</td>\n",
              "      <td>21.0</td>\n",
              "      <td>NaN</td>\n",
              "      <td>2.0</td>\n",
              "      <td>NaN</td>\n",
              "      <td>2.0</td>\n",
              "      <td>NaN</td>\n",
              "      <td>NaN</td>\n",
              "      <td>1.0</td>\n",
              "      <td>0.0</td>\n",
              "      <td>1.0</td>\n",
              "      <td>...</td>\n",
              "      <td>NaN</td>\n",
              "      <td>NaN</td>\n",
              "      <td>NaN</td>\n",
              "      <td>NaN</td>\n",
              "      <td>NaN</td>\n",
              "      <td>NaN</td>\n",
              "      <td>NaN</td>\n",
              "      <td>NaN</td>\n",
              "      <td>NaN</td>\n",
              "      <td>NaN</td>\n",
              "      <td>NaN</td>\n",
              "      <td>NaN</td>\n",
              "      <td>NaN</td>\n",
              "      <td>NaN</td>\n",
              "      <td>NaN</td>\n",
              "      <td>NaN</td>\n",
              "      <td>NaN</td>\n",
              "      <td>NaN</td>\n",
              "      <td>NaN</td>\n",
              "      <td>NaN</td>\n",
              "      <td>NaN</td>\n",
              "      <td>NaN</td>\n",
              "      <td>NaN</td>\n",
              "      <td>NaN</td>\n",
              "      <td>NaN</td>\n",
              "      <td>NaN</td>\n",
              "      <td>NaN</td>\n",
              "      <td>NaN</td>\n",
              "      <td>NaN</td>\n",
              "      <td>NaN</td>\n",
              "      <td>NaN</td>\n",
              "      <td>NaN</td>\n",
              "      <td>NaN</td>\n",
              "      <td>NaN</td>\n",
              "      <td>NaN</td>\n",
              "      <td>NaN</td>\n",
              "      <td>NaN</td>\n",
              "      <td>NaN</td>\n",
              "      <td>2538.97</td>\n",
              "      <td>0.0</td>\n",
              "    </tr>\n",
              "    <tr>\n",
              "      <th>18</th>\n",
              "      <td>18</td>\n",
              "      <td>3</td>\n",
              "      <td>111009</td>\n",
              "      <td>False</td>\n",
              "      <td>1.0</td>\n",
              "      <td>1.110090e+09</td>\n",
              "      <td>1</td>\n",
              "      <td>1</td>\n",
              "      <td>1</td>\n",
              "      <td>11100901.0</td>\n",
              "      <td>1.110090e+09</td>\n",
              "      <td>1.110090e+11</td>\n",
              "      <td>37.0</td>\n",
              "      <td>5.0</td>\n",
              "      <td>NaN</td>\n",
              "      <td>1.0</td>\n",
              "      <td>1.0</td>\n",
              "      <td>NaN</td>\n",
              "      <td>NaN</td>\n",
              "      <td>NaN</td>\n",
              "      <td>27.0</td>\n",
              "      <td>9.0</td>\n",
              "      <td>1978.0</td>\n",
              "      <td>NaN</td>\n",
              "      <td>2.0</td>\n",
              "      <td>1.0</td>\n",
              "      <td>2.0</td>\n",
              "      <td>2.0</td>\n",
              "      <td>NaN</td>\n",
              "      <td>NaN</td>\n",
              "      <td>21.0</td>\n",
              "      <td>NaN</td>\n",
              "      <td>3.0</td>\n",
              "      <td>NaN</td>\n",
              "      <td>3.0</td>\n",
              "      <td>NaN</td>\n",
              "      <td>NaN</td>\n",
              "      <td>NaN</td>\n",
              "      <td>0.0</td>\n",
              "      <td>1.0</td>\n",
              "      <td>...</td>\n",
              "      <td>NaN</td>\n",
              "      <td>NaN</td>\n",
              "      <td>NaN</td>\n",
              "      <td>NaN</td>\n",
              "      <td>NaN</td>\n",
              "      <td>NaN</td>\n",
              "      <td>NaN</td>\n",
              "      <td>NaN</td>\n",
              "      <td>NaN</td>\n",
              "      <td>NaN</td>\n",
              "      <td>NaN</td>\n",
              "      <td>NaN</td>\n",
              "      <td>NaN</td>\n",
              "      <td>NaN</td>\n",
              "      <td>NaN</td>\n",
              "      <td>NaN</td>\n",
              "      <td>NaN</td>\n",
              "      <td>NaN</td>\n",
              "      <td>NaN</td>\n",
              "      <td>NaN</td>\n",
              "      <td>NaN</td>\n",
              "      <td>NaN</td>\n",
              "      <td>NaN</td>\n",
              "      <td>NaN</td>\n",
              "      <td>NaN</td>\n",
              "      <td>NaN</td>\n",
              "      <td>NaN</td>\n",
              "      <td>NaN</td>\n",
              "      <td>NaN</td>\n",
              "      <td>NaN</td>\n",
              "      <td>NaN</td>\n",
              "      <td>NaN</td>\n",
              "      <td>NaN</td>\n",
              "      <td>NaN</td>\n",
              "      <td>NaN</td>\n",
              "      <td>NaN</td>\n",
              "      <td>0.394932</td>\n",
              "      <td>559.715155</td>\n",
              "      <td>846.32</td>\n",
              "      <td>0.0</td>\n",
              "    </tr>\n",
              "    <tr>\n",
              "      <th>25</th>\n",
              "      <td>25</td>\n",
              "      <td>3</td>\n",
              "      <td>111011</td>\n",
              "      <td>False</td>\n",
              "      <td>1.0</td>\n",
              "      <td>1.110110e+09</td>\n",
              "      <td>1</td>\n",
              "      <td>1</td>\n",
              "      <td>1</td>\n",
              "      <td>11101101.0</td>\n",
              "      <td>1.110110e+09</td>\n",
              "      <td>1.110110e+11</td>\n",
              "      <td>59.0</td>\n",
              "      <td>3.0</td>\n",
              "      <td>NaN</td>\n",
              "      <td>1.0</td>\n",
              "      <td>1.0</td>\n",
              "      <td>NaN</td>\n",
              "      <td>NaN</td>\n",
              "      <td>NaN</td>\n",
              "      <td>10.0</td>\n",
              "      <td>11.0</td>\n",
              "      <td>1956.0</td>\n",
              "      <td>NaN</td>\n",
              "      <td>2.0</td>\n",
              "      <td>1.0</td>\n",
              "      <td>2.0</td>\n",
              "      <td>2.0</td>\n",
              "      <td>NaN</td>\n",
              "      <td>NaN</td>\n",
              "      <td>27.0</td>\n",
              "      <td>NaN</td>\n",
              "      <td>3.0</td>\n",
              "      <td>NaN</td>\n",
              "      <td>3.0</td>\n",
              "      <td>NaN</td>\n",
              "      <td>NaN</td>\n",
              "      <td>NaN</td>\n",
              "      <td>0.0</td>\n",
              "      <td>1.0</td>\n",
              "      <td>...</td>\n",
              "      <td>NaN</td>\n",
              "      <td>NaN</td>\n",
              "      <td>NaN</td>\n",
              "      <td>NaN</td>\n",
              "      <td>NaN</td>\n",
              "      <td>NaN</td>\n",
              "      <td>NaN</td>\n",
              "      <td>NaN</td>\n",
              "      <td>NaN</td>\n",
              "      <td>NaN</td>\n",
              "      <td>NaN</td>\n",
              "      <td>NaN</td>\n",
              "      <td>NaN</td>\n",
              "      <td>NaN</td>\n",
              "      <td>NaN</td>\n",
              "      <td>NaN</td>\n",
              "      <td>NaN</td>\n",
              "      <td>NaN</td>\n",
              "      <td>NaN</td>\n",
              "      <td>NaN</td>\n",
              "      <td>NaN</td>\n",
              "      <td>NaN</td>\n",
              "      <td>NaN</td>\n",
              "      <td>NaN</td>\n",
              "      <td>NaN</td>\n",
              "      <td>NaN</td>\n",
              "      <td>NaN</td>\n",
              "      <td>NaN</td>\n",
              "      <td>NaN</td>\n",
              "      <td>NaN</td>\n",
              "      <td>NaN</td>\n",
              "      <td>NaN</td>\n",
              "      <td>NaN</td>\n",
              "      <td>NaN</td>\n",
              "      <td>NaN</td>\n",
              "      <td>NaN</td>\n",
              "      <td>0.361549</td>\n",
              "      <td>512.404173</td>\n",
              "      <td>745.68</td>\n",
              "      <td>0.0</td>\n",
              "    </tr>\n",
              "    <tr>\n",
              "      <th>...</th>\n",
              "      <td>...</td>\n",
              "      <td>...</td>\n",
              "      <td>...</td>\n",
              "      <td>...</td>\n",
              "      <td>...</td>\n",
              "      <td>...</td>\n",
              "      <td>...</td>\n",
              "      <td>...</td>\n",
              "      <td>...</td>\n",
              "      <td>...</td>\n",
              "      <td>...</td>\n",
              "      <td>...</td>\n",
              "      <td>...</td>\n",
              "      <td>...</td>\n",
              "      <td>...</td>\n",
              "      <td>...</td>\n",
              "      <td>...</td>\n",
              "      <td>...</td>\n",
              "      <td>...</td>\n",
              "      <td>...</td>\n",
              "      <td>...</td>\n",
              "      <td>...</td>\n",
              "      <td>...</td>\n",
              "      <td>...</td>\n",
              "      <td>...</td>\n",
              "      <td>...</td>\n",
              "      <td>...</td>\n",
              "      <td>...</td>\n",
              "      <td>...</td>\n",
              "      <td>...</td>\n",
              "      <td>...</td>\n",
              "      <td>...</td>\n",
              "      <td>...</td>\n",
              "      <td>...</td>\n",
              "      <td>...</td>\n",
              "      <td>...</td>\n",
              "      <td>...</td>\n",
              "      <td>...</td>\n",
              "      <td>...</td>\n",
              "      <td>...</td>\n",
              "      <td>...</td>\n",
              "      <td>...</td>\n",
              "      <td>...</td>\n",
              "      <td>...</td>\n",
              "      <td>...</td>\n",
              "      <td>...</td>\n",
              "      <td>...</td>\n",
              "      <td>...</td>\n",
              "      <td>...</td>\n",
              "      <td>...</td>\n",
              "      <td>...</td>\n",
              "      <td>...</td>\n",
              "      <td>...</td>\n",
              "      <td>...</td>\n",
              "      <td>...</td>\n",
              "      <td>...</td>\n",
              "      <td>...</td>\n",
              "      <td>...</td>\n",
              "      <td>...</td>\n",
              "      <td>...</td>\n",
              "      <td>...</td>\n",
              "      <td>...</td>\n",
              "      <td>...</td>\n",
              "      <td>...</td>\n",
              "      <td>...</td>\n",
              "      <td>...</td>\n",
              "      <td>...</td>\n",
              "      <td>...</td>\n",
              "      <td>...</td>\n",
              "      <td>...</td>\n",
              "      <td>...</td>\n",
              "      <td>...</td>\n",
              "      <td>...</td>\n",
              "      <td>...</td>\n",
              "      <td>...</td>\n",
              "      <td>...</td>\n",
              "      <td>...</td>\n",
              "      <td>...</td>\n",
              "      <td>...</td>\n",
              "      <td>...</td>\n",
              "      <td>...</td>\n",
              "    </tr>\n",
              "    <tr>\n",
              "      <th>10808</th>\n",
              "      <td>10808</td>\n",
              "      <td>3</td>\n",
              "      <td>173119</td>\n",
              "      <td>False</td>\n",
              "      <td>6.0</td>\n",
              "      <td>1.731191e+09</td>\n",
              "      <td>6</td>\n",
              "      <td>4</td>\n",
              "      <td>2</td>\n",
              "      <td>17311904.0</td>\n",
              "      <td>1.731191e+09</td>\n",
              "      <td>1.731191e+11</td>\n",
              "      <td>41.0</td>\n",
              "      <td>3.0</td>\n",
              "      <td>NaN</td>\n",
              "      <td>1.0</td>\n",
              "      <td>1.0</td>\n",
              "      <td>NaN</td>\n",
              "      <td>NaN</td>\n",
              "      <td>NaN</td>\n",
              "      <td>4.0</td>\n",
              "      <td>4.0</td>\n",
              "      <td>1975.0</td>\n",
              "      <td>NaN</td>\n",
              "      <td>2.0</td>\n",
              "      <td>1.0</td>\n",
              "      <td>3.0</td>\n",
              "      <td>1.0</td>\n",
              "      <td>10.0</td>\n",
              "      <td>2010.0</td>\n",
              "      <td>NaN</td>\n",
              "      <td>NaN</td>\n",
              "      <td>2.0</td>\n",
              "      <td>NaN</td>\n",
              "      <td>2.0</td>\n",
              "      <td>NaN</td>\n",
              "      <td>NaN</td>\n",
              "      <td>NaN</td>\n",
              "      <td>0.0</td>\n",
              "      <td>1.0</td>\n",
              "      <td>...</td>\n",
              "      <td>4.0</td>\n",
              "      <td>4.0</td>\n",
              "      <td>4.0</td>\n",
              "      <td>4.0</td>\n",
              "      <td>1.0</td>\n",
              "      <td>4.0</td>\n",
              "      <td>1.0</td>\n",
              "      <td>4.0</td>\n",
              "      <td>2.0</td>\n",
              "      <td>NaN</td>\n",
              "      <td>2.0</td>\n",
              "      <td>NaN</td>\n",
              "      <td>2.0</td>\n",
              "      <td>NaN</td>\n",
              "      <td>4.0</td>\n",
              "      <td>NaN</td>\n",
              "      <td>NaN</td>\n",
              "      <td>NaN</td>\n",
              "      <td>NaN</td>\n",
              "      <td>NaN</td>\n",
              "      <td>4.0</td>\n",
              "      <td>2.0</td>\n",
              "      <td>1.0</td>\n",
              "      <td>1.0</td>\n",
              "      <td>1.0</td>\n",
              "      <td>2.0</td>\n",
              "      <td>2.0</td>\n",
              "      <td>1.0</td>\n",
              "      <td>1.0</td>\n",
              "      <td>2.0</td>\n",
              "      <td>$10.000</td>\n",
              "      <td>NaN</td>\n",
              "      <td></td>\n",
              "      <td>1.0</td>\n",
              "      <td>2.0</td>\n",
              "      <td>NaN</td>\n",
              "      <td>1.341167</td>\n",
              "      <td>1900.762799</td>\n",
              "      <td>1377.05</td>\n",
              "      <td>0.0</td>\n",
              "    </tr>\n",
              "    <tr>\n",
              "      <th>10822</th>\n",
              "      <td>10822</td>\n",
              "      <td>3</td>\n",
              "      <td>173129</td>\n",
              "      <td>False</td>\n",
              "      <td>1.0</td>\n",
              "      <td>1.731290e+09</td>\n",
              "      <td>1</td>\n",
              "      <td>1</td>\n",
              "      <td>1</td>\n",
              "      <td>17312901.0</td>\n",
              "      <td>1.731290e+09</td>\n",
              "      <td>1.731290e+11</td>\n",
              "      <td>33.0</td>\n",
              "      <td>9.0</td>\n",
              "      <td>NaN</td>\n",
              "      <td>1.0</td>\n",
              "      <td>1.0</td>\n",
              "      <td>NaN</td>\n",
              "      <td>NaN</td>\n",
              "      <td>NaN</td>\n",
              "      <td>28.0</td>\n",
              "      <td>8.0</td>\n",
              "      <td>1982.0</td>\n",
              "      <td>NaN</td>\n",
              "      <td>1.0</td>\n",
              "      <td>1.0</td>\n",
              "      <td>2.0</td>\n",
              "      <td>2.0</td>\n",
              "      <td>NaN</td>\n",
              "      <td>NaN</td>\n",
              "      <td>25.0</td>\n",
              "      <td>NaN</td>\n",
              "      <td>2.0</td>\n",
              "      <td>NaN</td>\n",
              "      <td>2.0</td>\n",
              "      <td>NaN</td>\n",
              "      <td>NaN</td>\n",
              "      <td>NaN</td>\n",
              "      <td>0.0</td>\n",
              "      <td>1.0</td>\n",
              "      <td>...</td>\n",
              "      <td>3.0</td>\n",
              "      <td>3.0</td>\n",
              "      <td>2.0</td>\n",
              "      <td>3.0</td>\n",
              "      <td>3.0</td>\n",
              "      <td>2.0</td>\n",
              "      <td>2.0</td>\n",
              "      <td>3.0</td>\n",
              "      <td>2.0</td>\n",
              "      <td>NaN</td>\n",
              "      <td>2.0</td>\n",
              "      <td>NaN</td>\n",
              "      <td>2.0</td>\n",
              "      <td>NaN</td>\n",
              "      <td>NaN</td>\n",
              "      <td>3.0</td>\n",
              "      <td>3.0</td>\n",
              "      <td>1.0</td>\n",
              "      <td>2.0</td>\n",
              "      <td>1.0</td>\n",
              "      <td>2.0</td>\n",
              "      <td>2.0</td>\n",
              "      <td>2.0</td>\n",
              "      <td>2.0</td>\n",
              "      <td>2.0</td>\n",
              "      <td>2.0</td>\n",
              "      <td>2.0</td>\n",
              "      <td>2.0</td>\n",
              "      <td>1.0</td>\n",
              "      <td>NaN</td>\n",
              "      <td></td>\n",
              "      <td>2.0</td>\n",
              "      <td>$50.000</td>\n",
              "      <td>1.0</td>\n",
              "      <td>2.0</td>\n",
              "      <td>NO QUIERE RESPONDER</td>\n",
              "      <td>1.404404</td>\n",
              "      <td>1990.385276</td>\n",
              "      <td>2549.39</td>\n",
              "      <td>0.0</td>\n",
              "    </tr>\n",
              "    <tr>\n",
              "      <th>10823</th>\n",
              "      <td>10823</td>\n",
              "      <td>3</td>\n",
              "      <td>173129</td>\n",
              "      <td>False</td>\n",
              "      <td>1.0</td>\n",
              "      <td>1.731290e+09</td>\n",
              "      <td>1</td>\n",
              "      <td>2</td>\n",
              "      <td>1</td>\n",
              "      <td>17312902.0</td>\n",
              "      <td>1.731290e+09</td>\n",
              "      <td>1.731290e+11</td>\n",
              "      <td>35.0</td>\n",
              "      <td>10.0</td>\n",
              "      <td>NaN</td>\n",
              "      <td>2.0</td>\n",
              "      <td>2.0</td>\n",
              "      <td>NaN</td>\n",
              "      <td>NaN</td>\n",
              "      <td>NaN</td>\n",
              "      <td>14.0</td>\n",
              "      <td>8.0</td>\n",
              "      <td>1980.0</td>\n",
              "      <td>2.0</td>\n",
              "      <td>1.0</td>\n",
              "      <td>1.0</td>\n",
              "      <td>1.0</td>\n",
              "      <td>2.0</td>\n",
              "      <td>NaN</td>\n",
              "      <td>NaN</td>\n",
              "      <td>26.0</td>\n",
              "      <td>NaN</td>\n",
              "      <td>2.0</td>\n",
              "      <td>NaN</td>\n",
              "      <td>2.0</td>\n",
              "      <td>NaN</td>\n",
              "      <td>NaN</td>\n",
              "      <td>NaN</td>\n",
              "      <td>0.0</td>\n",
              "      <td>1.0</td>\n",
              "      <td>...</td>\n",
              "      <td>NaN</td>\n",
              "      <td>NaN</td>\n",
              "      <td>NaN</td>\n",
              "      <td>NaN</td>\n",
              "      <td>NaN</td>\n",
              "      <td>NaN</td>\n",
              "      <td>NaN</td>\n",
              "      <td>NaN</td>\n",
              "      <td>NaN</td>\n",
              "      <td>NaN</td>\n",
              "      <td>NaN</td>\n",
              "      <td>NaN</td>\n",
              "      <td>NaN</td>\n",
              "      <td>NaN</td>\n",
              "      <td>NaN</td>\n",
              "      <td>NaN</td>\n",
              "      <td>NaN</td>\n",
              "      <td>NaN</td>\n",
              "      <td>NaN</td>\n",
              "      <td>NaN</td>\n",
              "      <td>NaN</td>\n",
              "      <td>NaN</td>\n",
              "      <td>NaN</td>\n",
              "      <td>NaN</td>\n",
              "      <td>NaN</td>\n",
              "      <td>NaN</td>\n",
              "      <td>NaN</td>\n",
              "      <td>NaN</td>\n",
              "      <td>NaN</td>\n",
              "      <td>NaN</td>\n",
              "      <td>NaN</td>\n",
              "      <td>NaN</td>\n",
              "      <td>NaN</td>\n",
              "      <td>NaN</td>\n",
              "      <td>NaN</td>\n",
              "      <td>NaN</td>\n",
              "      <td>1.227246</td>\n",
              "      <td>1739.309420</td>\n",
              "      <td>2130.98</td>\n",
              "      <td>2.0</td>\n",
              "    </tr>\n",
              "    <tr>\n",
              "      <th>10846</th>\n",
              "      <td>10846</td>\n",
              "      <td>3</td>\n",
              "      <td>173147</td>\n",
              "      <td>False</td>\n",
              "      <td>1.0</td>\n",
              "      <td>1.731470e+09</td>\n",
              "      <td>1</td>\n",
              "      <td>1</td>\n",
              "      <td>1</td>\n",
              "      <td>17314701.0</td>\n",
              "      <td>1.731470e+09</td>\n",
              "      <td>1.731470e+11</td>\n",
              "      <td>38.0</td>\n",
              "      <td>11.0</td>\n",
              "      <td>NaN</td>\n",
              "      <td>1.0</td>\n",
              "      <td>1.0</td>\n",
              "      <td>NaN</td>\n",
              "      <td>NaN</td>\n",
              "      <td>NaN</td>\n",
              "      <td>20.0</td>\n",
              "      <td>7.0</td>\n",
              "      <td>1977.0</td>\n",
              "      <td>NaN</td>\n",
              "      <td>1.0</td>\n",
              "      <td>1.0</td>\n",
              "      <td>2.0</td>\n",
              "      <td>1.0</td>\n",
              "      <td>7.0</td>\n",
              "      <td>2002.0</td>\n",
              "      <td>NaN</td>\n",
              "      <td>NaN</td>\n",
              "      <td>2.0</td>\n",
              "      <td>NaN</td>\n",
              "      <td>2.0</td>\n",
              "      <td>NaN</td>\n",
              "      <td>NaN</td>\n",
              "      <td>NaN</td>\n",
              "      <td>0.0</td>\n",
              "      <td>1.0</td>\n",
              "      <td>...</td>\n",
              "      <td>NaN</td>\n",
              "      <td>NaN</td>\n",
              "      <td>NaN</td>\n",
              "      <td>NaN</td>\n",
              "      <td>NaN</td>\n",
              "      <td>NaN</td>\n",
              "      <td>NaN</td>\n",
              "      <td>NaN</td>\n",
              "      <td>NaN</td>\n",
              "      <td>NaN</td>\n",
              "      <td>NaN</td>\n",
              "      <td>NaN</td>\n",
              "      <td>NaN</td>\n",
              "      <td>NaN</td>\n",
              "      <td>NaN</td>\n",
              "      <td>NaN</td>\n",
              "      <td>NaN</td>\n",
              "      <td>NaN</td>\n",
              "      <td>NaN</td>\n",
              "      <td>NaN</td>\n",
              "      <td>NaN</td>\n",
              "      <td>NaN</td>\n",
              "      <td>NaN</td>\n",
              "      <td>NaN</td>\n",
              "      <td>NaN</td>\n",
              "      <td>NaN</td>\n",
              "      <td>NaN</td>\n",
              "      <td>NaN</td>\n",
              "      <td>NaN</td>\n",
              "      <td>NaN</td>\n",
              "      <td>NaN</td>\n",
              "      <td>NaN</td>\n",
              "      <td>NaN</td>\n",
              "      <td>NaN</td>\n",
              "      <td>NaN</td>\n",
              "      <td>NaN</td>\n",
              "      <td>2.011750</td>\n",
              "      <td>2851.144198</td>\n",
              "      <td>3311.85</td>\n",
              "      <td>0.0</td>\n",
              "    </tr>\n",
              "    <tr>\n",
              "      <th>10871</th>\n",
              "      <td>10871</td>\n",
              "      <td>3</td>\n",
              "      <td>173154</td>\n",
              "      <td>False</td>\n",
              "      <td>1.0</td>\n",
              "      <td>1.731540e+09</td>\n",
              "      <td>1</td>\n",
              "      <td>2</td>\n",
              "      <td>1</td>\n",
              "      <td>17315402.0</td>\n",
              "      <td>1.731540e+09</td>\n",
              "      <td>1.731540e+11</td>\n",
              "      <td>36.0</td>\n",
              "      <td>4.0</td>\n",
              "      <td>NaN</td>\n",
              "      <td>1.0</td>\n",
              "      <td>1.0</td>\n",
              "      <td>NaN</td>\n",
              "      <td>NaN</td>\n",
              "      <td>NaN</td>\n",
              "      <td>7.0</td>\n",
              "      <td>2.0</td>\n",
              "      <td>1980.0</td>\n",
              "      <td>NaN</td>\n",
              "      <td>1.0</td>\n",
              "      <td>1.0</td>\n",
              "      <td>1.0</td>\n",
              "      <td>1.0</td>\n",
              "      <td>2.0</td>\n",
              "      <td>2006.0</td>\n",
              "      <td>NaN</td>\n",
              "      <td>NaN</td>\n",
              "      <td>2.0</td>\n",
              "      <td>NaN</td>\n",
              "      <td>2.0</td>\n",
              "      <td>NaN</td>\n",
              "      <td>NaN</td>\n",
              "      <td>NaN</td>\n",
              "      <td>0.0</td>\n",
              "      <td>1.0</td>\n",
              "      <td>...</td>\n",
              "      <td>NaN</td>\n",
              "      <td>NaN</td>\n",
              "      <td>NaN</td>\n",
              "      <td>NaN</td>\n",
              "      <td>NaN</td>\n",
              "      <td>NaN</td>\n",
              "      <td>NaN</td>\n",
              "      <td>NaN</td>\n",
              "      <td>NaN</td>\n",
              "      <td>NaN</td>\n",
              "      <td>NaN</td>\n",
              "      <td>NaN</td>\n",
              "      <td>NaN</td>\n",
              "      <td>NaN</td>\n",
              "      <td>NaN</td>\n",
              "      <td>NaN</td>\n",
              "      <td>NaN</td>\n",
              "      <td>NaN</td>\n",
              "      <td>NaN</td>\n",
              "      <td>NaN</td>\n",
              "      <td>NaN</td>\n",
              "      <td>NaN</td>\n",
              "      <td>NaN</td>\n",
              "      <td>NaN</td>\n",
              "      <td>NaN</td>\n",
              "      <td>NaN</td>\n",
              "      <td>NaN</td>\n",
              "      <td>NaN</td>\n",
              "      <td>NaN</td>\n",
              "      <td>NaN</td>\n",
              "      <td>NaN</td>\n",
              "      <td>NaN</td>\n",
              "      <td>NaN</td>\n",
              "      <td>NaN</td>\n",
              "      <td>NaN</td>\n",
              "      <td>NaN</td>\n",
              "      <td>0.980217</td>\n",
              "      <td>1389.208287</td>\n",
              "      <td>2442.41</td>\n",
              "      <td>0.0</td>\n",
              "    </tr>\n",
              "  </tbody>\n",
              "</table>\n",
              "<p>1283 rows × 648 columns</p>\n",
              "</div>"
            ],
            "text/plain": [
              "       Unnamed: 0  ola  consecutivo  ...   fpers_2010  fpers_2016  Total_hijos\n",
              "7               7    3       111003  ...  1402.693654     1589.85          2.0\n",
              "9               9    3       111003  ...  1679.145590     2538.97          0.0\n",
              "17             17    3       111006  ...          NaN     2538.97          0.0\n",
              "18             18    3       111009  ...   559.715155      846.32          0.0\n",
              "25             25    3       111011  ...   512.404173      745.68          0.0\n",
              "...           ...  ...          ...  ...          ...         ...          ...\n",
              "10808       10808    3       173119  ...  1900.762799     1377.05          0.0\n",
              "10822       10822    3       173129  ...  1990.385276     2549.39          0.0\n",
              "10823       10823    3       173129  ...  1739.309420     2130.98          2.0\n",
              "10846       10846    3       173147  ...  2851.144198     3311.85          0.0\n",
              "10871       10871    3       173154  ...  1389.208287     2442.41          0.0\n",
              "\n",
              "[1283 rows x 648 columns]"
            ]
          },
          "metadata": {},
          "execution_count": 21
        }
      ]
    },
    {
      "cell_type": "code",
      "metadata": {
        "colab": {
          "base_uri": "https://localhost:8080/"
        },
        "id": "_vrLk36-oY1a",
        "outputId": "941c347c-7c65-4550-ab27-bee983cbeaa1"
      },
      "source": [
        "Base['estado_civil']"
      ],
      "execution_count": null,
      "outputs": [
        {
          "output_type": "execute_result",
          "data": {
            "text/plain": [
              "7        1.0\n",
              "9        1.0\n",
              "17       2.0\n",
              "18       2.0\n",
              "25       2.0\n",
              "        ... \n",
              "10808    2.0\n",
              "10822    1.0\n",
              "10823    1.0\n",
              "10846    1.0\n",
              "10871    1.0\n",
              "Name: estado_civil, Length: 1283, dtype: float64"
            ]
          },
          "metadata": {},
          "execution_count": 22
        }
      ]
    },
    {
      "cell_type": "code",
      "metadata": {
        "colab": {
          "base_uri": "https://localhost:8080/"
        },
        "id": "zn4LviFaobGt",
        "outputId": "c038c2a6-d84b-4429-8a64-cde2307f45a7"
      },
      "source": [
        "Base['tipo_contrato'].isna()"
      ],
      "execution_count": 197,
      "outputs": [
        {
          "output_type": "execute_result",
          "data": {
            "text/plain": [
              "0"
            ]
          },
          "metadata": {},
          "execution_count": 197
        }
      ]
    },
    {
      "cell_type": "code",
      "metadata": {
        "colab": {
          "base_uri": "https://localhost:8080/"
        },
        "id": "YipokvdxpZu7",
        "outputId": "30af7080-2ee2-4581-8223-7314bf2b0f0a"
      },
      "source": [
        "Base['horas_normal']"
      ],
      "execution_count": null,
      "outputs": [
        {
          "output_type": "execute_result",
          "data": {
            "text/plain": [
              "7        48.0\n",
              "9        50.0\n",
              "17       48.0\n",
              "18       48.0\n",
              "25       84.0\n",
              "         ... \n",
              "10808    48.0\n",
              "10822    48.0\n",
              "10823    55.0\n",
              "10846    42.0\n",
              "10871    48.0\n",
              "Name: horas_normal, Length: 1283, dtype: float64"
            ]
          },
          "metadata": {},
          "execution_count": 24
        }
      ]
    },
    {
      "cell_type": "code",
      "metadata": {
        "colab": {
          "base_uri": "https://localhost:8080/"
        },
        "id": "CJUP5tH3pmnO",
        "outputId": "ed55a5c8-102b-48ba-973a-fdb2808bb60d"
      },
      "source": [
        "Base['n_empleados']"
      ],
      "execution_count": null,
      "outputs": [
        {
          "output_type": "execute_result",
          "data": {
            "text/plain": [
              "7        6.0\n",
              "9        6.0\n",
              "17       6.0\n",
              "18       2.0\n",
              "25       2.0\n",
              "        ... \n",
              "10808    6.0\n",
              "10822    5.0\n",
              "10823    5.0\n",
              "10846    3.0\n",
              "10871    2.0\n",
              "Name: n_empleados, Length: 1283, dtype: float64"
            ]
          },
          "metadata": {},
          "execution_count": 25
        }
      ]
    },
    {
      "cell_type": "code",
      "metadata": {
        "colab": {
          "base_uri": "https://localhost:8080/"
        },
        "id": "TPWb1bJDtxln",
        "outputId": "32cfe377-0a8a-4eb2-ea01-caa55aacdf07"
      },
      "source": [
        "Base['Total_hijos']"
      ],
      "execution_count": null,
      "outputs": [
        {
          "output_type": "execute_result",
          "data": {
            "text/plain": [
              "7        2.0\n",
              "9        0.0\n",
              "17       0.0\n",
              "18       0.0\n",
              "25       0.0\n",
              "        ... \n",
              "10808    0.0\n",
              "10822    0.0\n",
              "10823    2.0\n",
              "10846    0.0\n",
              "10871    0.0\n",
              "Name: Total_hijos, Length: 1283, dtype: float64"
            ]
          },
          "metadata": {},
          "execution_count": 26
        }
      ]
    },
    {
      "cell_type": "code",
      "metadata": {
        "id": "3MhPM_-R3A3d"
      },
      "source": [
        "Base['vr_salario'] = Base['vr_salario'].astype(int)"
      ],
      "execution_count": null,
      "outputs": []
    },
    {
      "cell_type": "code",
      "metadata": {
        "id": "qGBJUd-b4k8f"
      },
      "source": [
        "Base['estado_civil'] = Base['estado_civil'].astype(int)"
      ],
      "execution_count": null,
      "outputs": []
    },
    {
      "cell_type": "code",
      "metadata": {
        "id": "a5GPwsS5-U8u"
      },
      "source": [
        "Base['tipo_contrato'] = Base['tipo_contrato'].fillna(0)"
      ],
      "execution_count": null,
      "outputs": []
    },
    {
      "cell_type": "code",
      "metadata": {
        "id": "5LU22nv49-cC"
      },
      "source": [
        "Base['tipo_contrato'] = Base['tipo_contrato'].astype(int)"
      ],
      "execution_count": null,
      "outputs": []
    },
    {
      "cell_type": "code",
      "metadata": {
        "id": "v6rBlcQ3-z1l"
      },
      "source": [
        "Base['n_empleados'] = Base['n_empleados'].fillna(0)"
      ],
      "execution_count": null,
      "outputs": []
    },
    {
      "cell_type": "code",
      "metadata": {
        "id": "2sMJ2guD_BHW"
      },
      "source": [
        "Base['n_empleados'] = Base['n_empleados'].astype(int)"
      ],
      "execution_count": null,
      "outputs": []
    },
    {
      "cell_type": "code",
      "metadata": {
        "id": "JPmlWuMI_NZ2"
      },
      "source": [
        "Base['estado_civil'] = Base['estado_civil'].astype(int)"
      ],
      "execution_count": null,
      "outputs": []
    },
    {
      "cell_type": "code",
      "metadata": {
        "id": "jg8E1_wE_eje"
      },
      "source": [
        "Base['Total_hijos'] = Base['Total_hijos'].astype(int)"
      ],
      "execution_count": null,
      "outputs": []
    },
    {
      "cell_type": "code",
      "metadata": {
        "id": "O3YMKSDoBQDl"
      },
      "source": [
        "Base['afiliacion'] = Base['afiliacion'].astype(int)"
      ],
      "execution_count": null,
      "outputs": []
    },
    {
      "cell_type": "code",
      "metadata": {
        "id": "BXwXD4awt3k_"
      },
      "source": [
        "Base_total = Base.loc[:, ['edad','sexo','estado_civil','Total_hijos', 'tipo_contrato', 'afiliacion', 'n_empleados', 'vr_salario']] #BASE FINAL"
      ],
      "execution_count": null,
      "outputs": []
    },
    {
      "cell_type": "markdown",
      "metadata": {
        "id": "A4jn1gZzYmw2"
      },
      "source": [
        "## Punto 2\n",
        "\n",
        "Filtre el dataset seleccionando únicamente siete variables que considere relevantes para explicar la variable 'vr_salario'. (Una ayuda: edad, sexo y estado_civil, deben ser las primeras tres). Justifique la selección."
      ]
    },
    {
      "cell_type": "markdown",
      "metadata": {
        "id": "9p3HO6QnwQvt"
      },
      "source": [
        "Se tomó la variable 'Total_hijos' = Es la suma de las variables 'hijos_hombres' e 'hijas_mujeres'. Tambien se seleccionaron variables como 'tipo_contrato' y 'n_empleados' ya que ellas pueden explicar el valor del salario. \n",
        "Segun Edgar Silva Quintero quien realizo un master en economia en la Universidad de Zaragoza escribió que los principales factores determinantes de los salarios en\n",
        "Colombia son aquellas variables anteriormente nombradas. Por ejemplo, él afirma que las empresas con mayor número de trabajadores pagan salarios más elevados por contar con personal más cualificado o por compensar a sus trabajadores por ofrecer puestos de trabajo más desagradables con un ambiente laboral inadecuado. \n",
        "Por otra parte, el tipo de contrato utilizado puede afectar la variable salario al momento de determinar si es un contrato verbal, contrato escrito a término\n",
        "indefinido o contrato escrito a término fijo.\n",
        "Variables como sexo, edad y estado civil se usaran para hacer comparaciones e identificar quienes tienen mayor o menor salario.\n",
        "\n",
        "Para explicar mejor el porque de la seleccion de estas variables se hace a continucion un analisis exploratorio de datos en el punto 3"
      ]
    },
    {
      "cell_type": "markdown",
      "metadata": {
        "id": "OQhTrCszY991"
      },
      "source": [
        "## Punto 3"
      ]
    },
    {
      "cell_type": "code",
      "metadata": {
        "id": "VJL6X2E20XPj"
      },
      "source": [
        "import matplotlib.pyplot as plt \n",
        "import seaborn as sns"
      ],
      "execution_count": null,
      "outputs": []
    },
    {
      "cell_type": "code",
      "metadata": {
        "colab": {
          "base_uri": "https://localhost:8080/",
          "height": 293
        },
        "id": "_sHUjHms1Bny",
        "outputId": "16e752b4-1989-42a0-b552-5d9966bf120a"
      },
      "source": [
        "plt.scatter(Base['edad'],Base['vr_salario'])"
      ],
      "execution_count": null,
      "outputs": [
        {
          "output_type": "execute_result",
          "data": {
            "text/plain": [
              "<matplotlib.collections.PathCollection at 0x7f2cbc0c5610>"
            ]
          },
          "metadata": {},
          "execution_count": 38
        },
        {
          "output_type": "display_data",
          "data": {
            "image/png": "[encoded data removed]",
            "text/plain": [
              "<Figure size 432x288 with 1 Axes>"
            ]
          },
          "metadata": {
            "needs_background": "light"
          }
        }
      ]
    },
    {
      "cell_type": "code",
      "metadata": {
        "colab": {
          "base_uri": "https://localhost:8080/"
        },
        "id": "S_uAtjIH6qG-",
        "outputId": "32a859a7-5bf8-48af-9af8-f4976d518df6"
      },
      "source": [
        "print('Correlación Pearson: ', Base['vr_salario'].corr(Base['edad'], method='pearson'))"
      ],
      "execution_count": null,
      "outputs": [
        {
          "output_type": "stream",
          "name": "stdout",
          "text": [
            "Correlación Pearson:  0.0991034280468331\n"
          ]
        }
      ]
    },
    {
      "cell_type": "code",
      "metadata": {
        "colab": {
          "base_uri": "https://localhost:8080/",
          "height": 1000
        },
        "id": "WM6C95da7YqY",
        "outputId": "788073c4-efb4-4c6d-9f61-0a3a5926500f"
      },
      "source": [
        "pip install pingouin"
      ],
      "execution_count": null,
      "outputs": [
        {
          "output_type": "stream",
          "name": "stdout",
          "text": [
            "Collecting pingouin\n",
            "  Downloading pingouin-0.4.0.tar.gz (206 kB)\n",
            "\u001b[?25l\r\u001b[K     |█▋                              | 10 kB 17.0 MB/s eta 0:00:01\r\u001b[K     |███▏                            | 20 kB 18.2 MB/s eta 0:00:01\r\u001b[K     |████▊                           | 30 kB 20.9 MB/s eta 0:00:01\r\u001b[K     |██████▍                         | 40 kB 24.5 MB/s eta 0:00:01\r\u001b[K     |████████                        | 51 kB 9.1 MB/s eta 0:00:01\r\u001b[K     |█████████▌                      | 61 kB 7.9 MB/s eta 0:00:01\r\u001b[K     |███████████                     | 71 kB 8.4 MB/s eta 0:00:01\r\u001b[K     |████████████▊                   | 81 kB 9.3 MB/s eta 0:00:01\r\u001b[K     |██████████████▎                 | 92 kB 6.7 MB/s eta 0:00:01\r\u001b[K     |███████████████▉                | 102 kB 7.3 MB/s eta 0:00:01\r\u001b[K     |█████████████████▍              | 112 kB 7.3 MB/s eta 0:00:01\r\u001b[K     |███████████████████             | 122 kB 7.3 MB/s eta 0:00:01\r\u001b[K     |████████████████████▋           | 133 kB 7.3 MB/s eta 0:00:01\r\u001b[K     |██████████████████████▏         | 143 kB 7.3 MB/s eta 0:00:01\r\u001b[K     |███████████████████████▊        | 153 kB 7.3 MB/s eta 0:00:01\r\u001b[K     |█████████████████████████▍      | 163 kB 7.3 MB/s eta 0:00:01\r\u001b[K     |███████████████████████████     | 174 kB 7.3 MB/s eta 0:00:01\r\u001b[K     |████████████████████████████▌   | 184 kB 7.3 MB/s eta 0:00:01\r\u001b[K     |██████████████████████████████  | 194 kB 7.3 MB/s eta 0:00:01\r\u001b[K     |███████████████████████████████▊| 204 kB 7.3 MB/s eta 0:00:01\r\u001b[K     |████████████████████████████████| 206 kB 7.3 MB/s \n",
            "\u001b[?25hRequirement already satisfied: numpy>=1.19 in /usr/local/lib/python3.7/dist-packages (from pingouin) (1.19.5)\n",
            "Collecting scipy>=1.7\n",
            "  Downloading scipy-1.7.1-cp37-cp37m-manylinux_2_5_x86_64.manylinux1_x86_64.whl (28.5 MB)\n",
            "\u001b[K     |████████████████████████████████| 28.5 MB 48 kB/s \n",
            "\u001b[?25hRequirement already satisfied: pandas>=1.0 in /usr/local/lib/python3.7/dist-packages (from pingouin) (1.1.5)\n",
            "Requirement already satisfied: matplotlib>=3.0.2 in /usr/local/lib/python3.7/dist-packages (from pingouin) (3.2.2)\n",
            "Requirement already satisfied: seaborn>=0.9.0 in /usr/local/lib/python3.7/dist-packages (from pingouin) (0.11.2)\n",
            "Collecting statsmodels>=0.12.0\n",
            "  Downloading statsmodels-0.13.0-cp37-cp37m-manylinux_2_17_x86_64.manylinux2014_x86_64.whl (9.8 MB)\n",
            "\u001b[K     |████████████████████████████████| 9.8 MB 45.7 MB/s \n",
            "\u001b[?25hRequirement already satisfied: scikit-learn in /usr/local/lib/python3.7/dist-packages (from pingouin) (0.22.2.post1)\n",
            "Collecting pandas_flavor>=0.2.0\n",
            "  Downloading pandas_flavor-0.2.0-py2.py3-none-any.whl (6.6 kB)\n",
            "Collecting outdated\n",
            "  Downloading outdated-0.2.1-py3-none-any.whl (7.5 kB)\n",
            "Requirement already satisfied: tabulate in /usr/local/lib/python3.7/dist-packages (from pingouin) (0.8.9)\n",
            "Requirement already satisfied: pyparsing!=2.0.4,!=2.1.2,!=2.1.6,>=2.0.1 in /usr/local/lib/python3.7/dist-packages (from matplotlib>=3.0.2->pingouin) (2.4.7)\n",
            "Requirement already satisfied: kiwisolver>=1.0.1 in /usr/local/lib/python3.7/dist-packages (from matplotlib>=3.0.2->pingouin) (1.3.2)\n",
            "Requirement already satisfied: cycler>=0.10 in /usr/local/lib/python3.7/dist-packages (from matplotlib>=3.0.2->pingouin) (0.10.0)\n",
            "Requirement already satisfied: python-dateutil>=2.1 in /usr/local/lib/python3.7/dist-packages (from matplotlib>=3.0.2->pingouin) (2.8.2)\n",
            "Requirement already satisfied: six in /usr/local/lib/python3.7/dist-packages (from cycler>=0.10->matplotlib>=3.0.2->pingouin) (1.15.0)\n",
            "Requirement already satisfied: pytz>=2017.2 in /usr/local/lib/python3.7/dist-packages (from pandas>=1.0->pingouin) (2018.9)\n",
            "Requirement already satisfied: xarray in /usr/local/lib/python3.7/dist-packages (from pandas_flavor>=0.2.0->pingouin) (0.18.2)\n",
            "Requirement already satisfied: patsy>=0.5.2 in /usr/local/lib/python3.7/dist-packages (from statsmodels>=0.12.0->pingouin) (0.5.2)\n",
            "Collecting littleutils\n",
            "  Downloading littleutils-0.2.2.tar.gz (6.6 kB)\n",
            "Requirement already satisfied: requests in /usr/local/lib/python3.7/dist-packages (from outdated->pingouin) (2.23.0)\n",
            "Requirement already satisfied: certifi>=2017.4.17 in /usr/local/lib/python3.7/dist-packages (from requests->outdated->pingouin) (2021.5.30)\n",
            "Requirement already satisfied: chardet<4,>=3.0.2 in /usr/local/lib/python3.7/dist-packages (from requests->outdated->pingouin) (3.0.4)\n",
            "Requirement already satisfied: idna<3,>=2.5 in /usr/local/lib/python3.7/dist-packages (from requests->outdated->pingouin) (2.10)\n",
            "Requirement already satisfied: urllib3!=1.25.0,!=1.25.1,<1.26,>=1.21.1 in /usr/local/lib/python3.7/dist-packages (from requests->outdated->pingouin) (1.24.3)\n",
            "Requirement already satisfied: joblib>=0.11 in /usr/local/lib/python3.7/dist-packages (from scikit-learn->pingouin) (1.0.1)\n",
            "Requirement already satisfied: setuptools>=40.4 in /usr/local/lib/python3.7/dist-packages (from xarray->pandas_flavor>=0.2.0->pingouin) (57.4.0)\n",
            "Building wheels for collected packages: pingouin, littleutils\n",
            "  Building wheel for pingouin (setup.py) ... \u001b[?25l\u001b[?25hdone\n",
            "  Created wheel for pingouin: filename=pingouin-0.4.0-py3-none-any.whl size=206904 sha256=a3380d20a5ca5164b9f7e0b8bc8f3532aea50832faa5d79b671cd41895aa514e\n",
            "  Stored in directory: /root/.cache/pip/wheels/8a/9d/c4/11677c2c4d5c0df9d1d4aa61528d868bb96e13b898e3f51c95\n",
            "  Building wheel for littleutils (setup.py) ... \u001b[?25l\u001b[?25hdone\n",
            "  Created wheel for littleutils: filename=littleutils-0.2.2-py3-none-any.whl size=7048 sha256=9c6ff2faa4e6868779076b925cf2d719d8a1f3d9d7febfa7965dc80400abb905\n",
            "  Stored in directory: /root/.cache/pip/wheels/d6/64/cd/32819b511a488e4993f2fab909a95330289c3f4e0f6ef4676d\n",
            "Successfully built pingouin littleutils\n",
            "Installing collected packages: scipy, littleutils, statsmodels, pandas-flavor, outdated, pingouin\n",
            "  Attempting uninstall: scipy\n",
            "    Found existing installation: scipy 1.4.1\n",
            "    Uninstalling scipy-1.4.1:\n",
            "      Successfully uninstalled scipy-1.4.1\n",
            "  Attempting uninstall: statsmodels\n",
            "    Found existing installation: statsmodels 0.10.2\n",
            "    Uninstalling statsmodels-0.10.2:\n",
            "      Successfully uninstalled statsmodels-0.10.2\n",
            "\u001b[31mERROR: pip's dependency resolver does not currently take into account all the packages that are installed. This behaviour is the source of the following dependency conflicts.\n",
            "albumentations 0.1.12 requires imgaug<0.2.7,>=0.2.5, but you have imgaug 0.2.9 which is incompatible.\u001b[0m\n",
            "Successfully installed littleutils-0.2.2 outdated-0.2.1 pandas-flavor-0.2.0 pingouin-0.4.0 scipy-1.7.1 statsmodels-0.13.0\n"
          ]
        },
        {
          "output_type": "display_data",
          "data": {
            "application/vnd.colab-display-data+json": {
              "pip_warning": {
                "packages": [
                  "scipy",
                  "statsmodels"
                ]
              }
            }
          },
          "metadata": {}
        }
      ]
    },
    {
      "cell_type": "code",
      "metadata": {
        "id": "yr3bo-SY7o1S"
      },
      "source": [
        "import pingouin as pg"
      ],
      "execution_count": null,
      "outputs": []
    },
    {
      "cell_type": "code",
      "metadata": {
        "colab": {
          "base_uri": "https://localhost:8080/",
          "height": 81
        },
        "id": "8VuOqHbR7ABt",
        "outputId": "c0d7987b-5d9a-4add-cb6b-c5552da7804b"
      },
      "source": [
        "display(pg.corr(Base['vr_salario'], Base['horas_normal'], method='pearson')) #NO TIENEN UNA CORRELACION LINEAL"
      ],
      "execution_count": null,
      "outputs": [
        {
          "output_type": "display_data",
          "data": {
            "text/html": [
              "<div>\n",
              "<style scoped>\n",
              "    .dataframe tbody tr th:only-of-type {\n",
              "        vertical-align: middle;\n",
              "    }\n",
              "\n",
              "    .dataframe tbody tr th {\n",
              "        vertical-align: top;\n",
              "    }\n",
              "\n",
              "    .dataframe thead th {\n",
              "        text-align: right;\n",
              "    }\n",
              "</style>\n",
              "<table border=\"1\" class=\"dataframe\">\n",
              "  <thead>\n",
              "    <tr style=\"text-align: right;\">\n",
              "      <th></th>\n",
              "      <th>n</th>\n",
              "      <th>r</th>\n",
              "      <th>CI95%</th>\n",
              "      <th>p-val</th>\n",
              "      <th>BF10</th>\n",
              "      <th>power</th>\n",
              "    </tr>\n",
              "  </thead>\n",
              "  <tbody>\n",
              "    <tr>\n",
              "      <th>pearson</th>\n",
              "      <td>1283</td>\n",
              "      <td>0.076248</td>\n",
              "      <td>[0.02, 0.13]</td>\n",
              "      <td>0.006287</td>\n",
              "      <td>1.456</td>\n",
              "      <td>0.780605</td>\n",
              "    </tr>\n",
              "  </tbody>\n",
              "</table>\n",
              "</div>"
            ],
            "text/plain": [
              "            n         r         CI95%     p-val   BF10     power\n",
              "pearson  1283  0.076248  [0.02, 0.13]  0.006287  1.456  0.780605"
            ]
          },
          "metadata": {}
        }
      ]
    },
    {
      "cell_type": "code",
      "metadata": {
        "colab": {
          "base_uri": "https://localhost:8080/",
          "height": 81
        },
        "id": "-Uy_OwoK9vZW",
        "outputId": "9f058bc1-d829-4ecb-affd-5ea56d7eb686"
      },
      "source": [
        "display(pg.corr(Base['vr_salario'], Base['edad'], method='pearson')) #NO TIENEN UNA CORRELACION LINEAL"
      ],
      "execution_count": null,
      "outputs": [
        {
          "output_type": "display_data",
          "data": {
            "text/html": [
              "<div>\n",
              "<style scoped>\n",
              "    .dataframe tbody tr th:only-of-type {\n",
              "        vertical-align: middle;\n",
              "    }\n",
              "\n",
              "    .dataframe tbody tr th {\n",
              "        vertical-align: top;\n",
              "    }\n",
              "\n",
              "    .dataframe thead th {\n",
              "        text-align: right;\n",
              "    }\n",
              "</style>\n",
              "<table border=\"1\" class=\"dataframe\">\n",
              "  <thead>\n",
              "    <tr style=\"text-align: right;\">\n",
              "      <th></th>\n",
              "      <th>n</th>\n",
              "      <th>r</th>\n",
              "      <th>CI95%</th>\n",
              "      <th>p-val</th>\n",
              "      <th>BF10</th>\n",
              "      <th>power</th>\n",
              "    </tr>\n",
              "  </thead>\n",
              "  <tbody>\n",
              "    <tr>\n",
              "      <th>pearson</th>\n",
              "      <td>1283</td>\n",
              "      <td>0.099103</td>\n",
              "      <td>[0.04, 0.15]</td>\n",
              "      <td>0.000378</td>\n",
              "      <td>19.279</td>\n",
              "      <td>0.945048</td>\n",
              "    </tr>\n",
              "  </tbody>\n",
              "</table>\n",
              "</div>"
            ],
            "text/plain": [
              "            n         r         CI95%     p-val    BF10     power\n",
              "pearson  1283  0.099103  [0.04, 0.15]  0.000378  19.279  0.945048"
            ]
          },
          "metadata": {}
        }
      ]
    },
    {
      "cell_type": "code",
      "metadata": {
        "colab": {
          "base_uri": "https://localhost:8080/",
          "height": 423
        },
        "id": "ejRHbcbhvPHO",
        "outputId": "0a5ed384-7a76-450a-eea5-b34c432f3499"
      },
      "source": [
        "Base_total"
      ],
      "execution_count": null,
      "outputs": [
        {
          "output_type": "execute_result",
          "data": {
            "text/html": [
              "<div>\n",
              "<style scoped>\n",
              "    .dataframe tbody tr th:only-of-type {\n",
              "        vertical-align: middle;\n",
              "    }\n",
              "\n",
              "    .dataframe tbody tr th {\n",
              "        vertical-align: top;\n",
              "    }\n",
              "\n",
              "    .dataframe thead th {\n",
              "        text-align: right;\n",
              "    }\n",
              "</style>\n",
              "<table border=\"1\" class=\"dataframe\">\n",
              "  <thead>\n",
              "    <tr style=\"text-align: right;\">\n",
              "      <th></th>\n",
              "      <th>edad</th>\n",
              "      <th>sexo</th>\n",
              "      <th>estado_civil</th>\n",
              "      <th>Total_hijos</th>\n",
              "      <th>tipo_contrato</th>\n",
              "      <th>afiliacion</th>\n",
              "      <th>n_empleados</th>\n",
              "      <th>vr_salario</th>\n",
              "    </tr>\n",
              "  </thead>\n",
              "  <tbody>\n",
              "    <tr>\n",
              "      <th>7</th>\n",
              "      <td>30.0</td>\n",
              "      <td>2.0</td>\n",
              "      <td>1</td>\n",
              "      <td>2</td>\n",
              "      <td>1</td>\n",
              "      <td>1</td>\n",
              "      <td>6</td>\n",
              "      <td>1026000</td>\n",
              "    </tr>\n",
              "    <tr>\n",
              "      <th>9</th>\n",
              "      <td>31.0</td>\n",
              "      <td>1.0</td>\n",
              "      <td>1</td>\n",
              "      <td>0</td>\n",
              "      <td>2</td>\n",
              "      <td>1</td>\n",
              "      <td>6</td>\n",
              "      <td>750000</td>\n",
              "    </tr>\n",
              "    <tr>\n",
              "      <th>17</th>\n",
              "      <td>32.0</td>\n",
              "      <td>1.0</td>\n",
              "      <td>2</td>\n",
              "      <td>0</td>\n",
              "      <td>2</td>\n",
              "      <td>1</td>\n",
              "      <td>6</td>\n",
              "      <td>689000</td>\n",
              "    </tr>\n",
              "    <tr>\n",
              "      <th>18</th>\n",
              "      <td>37.0</td>\n",
              "      <td>1.0</td>\n",
              "      <td>2</td>\n",
              "      <td>0</td>\n",
              "      <td>3</td>\n",
              "      <td>1</td>\n",
              "      <td>2</td>\n",
              "      <td>1500000</td>\n",
              "    </tr>\n",
              "    <tr>\n",
              "      <th>25</th>\n",
              "      <td>59.0</td>\n",
              "      <td>1.0</td>\n",
              "      <td>2</td>\n",
              "      <td>0</td>\n",
              "      <td>3</td>\n",
              "      <td>1</td>\n",
              "      <td>2</td>\n",
              "      <td>700000</td>\n",
              "    </tr>\n",
              "    <tr>\n",
              "      <th>...</th>\n",
              "      <td>...</td>\n",
              "      <td>...</td>\n",
              "      <td>...</td>\n",
              "      <td>...</td>\n",
              "      <td>...</td>\n",
              "      <td>...</td>\n",
              "      <td>...</td>\n",
              "      <td>...</td>\n",
              "    </tr>\n",
              "    <tr>\n",
              "      <th>10808</th>\n",
              "      <td>41.0</td>\n",
              "      <td>1.0</td>\n",
              "      <td>2</td>\n",
              "      <td>0</td>\n",
              "      <td>1</td>\n",
              "      <td>1</td>\n",
              "      <td>6</td>\n",
              "      <td>1600000</td>\n",
              "    </tr>\n",
              "    <tr>\n",
              "      <th>10822</th>\n",
              "      <td>33.0</td>\n",
              "      <td>1.0</td>\n",
              "      <td>1</td>\n",
              "      <td>0</td>\n",
              "      <td>1</td>\n",
              "      <td>1</td>\n",
              "      <td>5</td>\n",
              "      <td>760000</td>\n",
              "    </tr>\n",
              "    <tr>\n",
              "      <th>10823</th>\n",
              "      <td>35.0</td>\n",
              "      <td>2.0</td>\n",
              "      <td>1</td>\n",
              "      <td>2</td>\n",
              "      <td>1</td>\n",
              "      <td>1</td>\n",
              "      <td>5</td>\n",
              "      <td>1600000</td>\n",
              "    </tr>\n",
              "    <tr>\n",
              "      <th>10846</th>\n",
              "      <td>38.0</td>\n",
              "      <td>1.0</td>\n",
              "      <td>1</td>\n",
              "      <td>0</td>\n",
              "      <td>4</td>\n",
              "      <td>1</td>\n",
              "      <td>3</td>\n",
              "      <td>1300000</td>\n",
              "    </tr>\n",
              "    <tr>\n",
              "      <th>10871</th>\n",
              "      <td>36.0</td>\n",
              "      <td>1.0</td>\n",
              "      <td>1</td>\n",
              "      <td>0</td>\n",
              "      <td>4</td>\n",
              "      <td>1</td>\n",
              "      <td>2</td>\n",
              "      <td>680000</td>\n",
              "    </tr>\n",
              "  </tbody>\n",
              "</table>\n",
              "<p>1283 rows × 8 columns</p>\n",
              "</div>"
            ],
            "text/plain": [
              "       edad  sexo  estado_civil  ...  afiliacion  n_empleados  vr_salario\n",
              "7      30.0   2.0             1  ...           1            6     1026000\n",
              "9      31.0   1.0             1  ...           1            6      750000\n",
              "17     32.0   1.0             2  ...           1            6      689000\n",
              "18     37.0   1.0             2  ...           1            2     1500000\n",
              "25     59.0   1.0             2  ...           1            2      700000\n",
              "...     ...   ...           ...  ...         ...          ...         ...\n",
              "10808  41.0   1.0             2  ...           1            6     1600000\n",
              "10822  33.0   1.0             1  ...           1            5      760000\n",
              "10823  35.0   2.0             1  ...           1            5     1600000\n",
              "10846  38.0   1.0             1  ...           1            3     1300000\n",
              "10871  36.0   1.0             1  ...           1            2      680000\n",
              "\n",
              "[1283 rows x 8 columns]"
            ]
          },
          "metadata": {},
          "execution_count": 44
        }
      ]
    },
    {
      "cell_type": "markdown",
      "metadata": {
        "id": "RTh_3ihSv47u"
      },
      "source": [
        ""
      ]
    },
    {
      "cell_type": "markdown",
      "metadata": {
        "id": "QPhLUgAGwF_v"
      },
      "source": [
        "Una vez filtrada realice un análisis exploratorio corto de la información.\n",
        "\n",
        "- Se estudiaran 2.425 individuos.\n"
      ]
    },
    {
      "cell_type": "code",
      "metadata": {
        "colab": {
          "base_uri": "https://localhost:8080/",
          "height": 320
        },
        "id": "F0tQhWuHTmNW",
        "outputId": "2d9b8635-3030-45f6-ba4b-0b83f2e5b16e"
      },
      "source": [
        "Base_total.describe()"
      ],
      "execution_count": null,
      "outputs": [
        {
          "output_type": "execute_result",
          "data": {
            "text/html": [
              "<div>\n",
              "<style scoped>\n",
              "    .dataframe tbody tr th:only-of-type {\n",
              "        vertical-align: middle;\n",
              "    }\n",
              "\n",
              "    .dataframe tbody tr th {\n",
              "        vertical-align: top;\n",
              "    }\n",
              "\n",
              "    .dataframe thead th {\n",
              "        text-align: right;\n",
              "    }\n",
              "</style>\n",
              "<table border=\"1\" class=\"dataframe\">\n",
              "  <thead>\n",
              "    <tr style=\"text-align: right;\">\n",
              "      <th></th>\n",
              "      <th>edad</th>\n",
              "      <th>sexo</th>\n",
              "      <th>estado_civil</th>\n",
              "      <th>Total_hijos</th>\n",
              "      <th>tipo_contrato</th>\n",
              "      <th>afiliacion</th>\n",
              "      <th>n_empleados</th>\n",
              "      <th>vr_salario</th>\n",
              "    </tr>\n",
              "  </thead>\n",
              "  <tbody>\n",
              "    <tr>\n",
              "      <th>count</th>\n",
              "      <td>1283.000000</td>\n",
              "      <td>1283.000000</td>\n",
              "      <td>1283.000000</td>\n",
              "      <td>1283.000000</td>\n",
              "      <td>1283.000000</td>\n",
              "      <td>1283.000000</td>\n",
              "      <td>1283.000000</td>\n",
              "      <td>1.283000e+03</td>\n",
              "    </tr>\n",
              "    <tr>\n",
              "      <th>mean</th>\n",
              "      <td>42.874513</td>\n",
              "      <td>1.504287</td>\n",
              "      <td>2.070928</td>\n",
              "      <td>0.887763</td>\n",
              "      <td>2.320343</td>\n",
              "      <td>1.013250</td>\n",
              "      <td>3.983632</td>\n",
              "      <td>9.983980e+05</td>\n",
              "    </tr>\n",
              "    <tr>\n",
              "      <th>std</th>\n",
              "      <td>10.506546</td>\n",
              "      <td>0.500177</td>\n",
              "      <td>1.199501</td>\n",
              "      <td>1.400311</td>\n",
              "      <td>1.084330</td>\n",
              "      <td>0.182663</td>\n",
              "      <td>2.016441</td>\n",
              "      <td>8.659198e+05</td>\n",
              "    </tr>\n",
              "    <tr>\n",
              "      <th>min</th>\n",
              "      <td>11.000000</td>\n",
              "      <td>1.000000</td>\n",
              "      <td>1.000000</td>\n",
              "      <td>0.000000</td>\n",
              "      <td>0.000000</td>\n",
              "      <td>0.000000</td>\n",
              "      <td>0.000000</td>\n",
              "      <td>5.000000e+03</td>\n",
              "    </tr>\n",
              "    <tr>\n",
              "      <th>25%</th>\n",
              "      <td>35.000000</td>\n",
              "      <td>1.000000</td>\n",
              "      <td>1.000000</td>\n",
              "      <td>0.000000</td>\n",
              "      <td>2.000000</td>\n",
              "      <td>1.000000</td>\n",
              "      <td>2.000000</td>\n",
              "      <td>5.500000e+05</td>\n",
              "    </tr>\n",
              "    <tr>\n",
              "      <th>50%</th>\n",
              "      <td>42.000000</td>\n",
              "      <td>2.000000</td>\n",
              "      <td>2.000000</td>\n",
              "      <td>0.000000</td>\n",
              "      <td>2.000000</td>\n",
              "      <td>1.000000</td>\n",
              "      <td>5.000000</td>\n",
              "      <td>7.300000e+05</td>\n",
              "    </tr>\n",
              "    <tr>\n",
              "      <th>75%</th>\n",
              "      <td>51.000000</td>\n",
              "      <td>2.000000</td>\n",
              "      <td>3.000000</td>\n",
              "      <td>2.000000</td>\n",
              "      <td>3.000000</td>\n",
              "      <td>1.000000</td>\n",
              "      <td>6.000000</td>\n",
              "      <td>1.155000e+06</td>\n",
              "    </tr>\n",
              "    <tr>\n",
              "      <th>max</th>\n",
              "      <td>77.000000</td>\n",
              "      <td>2.000000</td>\n",
              "      <td>5.000000</td>\n",
              "      <td>8.000000</td>\n",
              "      <td>4.000000</td>\n",
              "      <td>2.000000</td>\n",
              "      <td>6.000000</td>\n",
              "      <td>7.000000e+06</td>\n",
              "    </tr>\n",
              "  </tbody>\n",
              "</table>\n",
              "</div>"
            ],
            "text/plain": [
              "              edad         sexo  ...  n_empleados    vr_salario\n",
              "count  1283.000000  1283.000000  ...  1283.000000  1.283000e+03\n",
              "mean     42.874513     1.504287  ...     3.983632  9.983980e+05\n",
              "std      10.506546     0.500177  ...     2.016441  8.659198e+05\n",
              "min      11.000000     1.000000  ...     0.000000  5.000000e+03\n",
              "25%      35.000000     1.000000  ...     2.000000  5.500000e+05\n",
              "50%      42.000000     2.000000  ...     5.000000  7.300000e+05\n",
              "75%      51.000000     2.000000  ...     6.000000  1.155000e+06\n",
              "max      77.000000     2.000000  ...     6.000000  7.000000e+06\n",
              "\n",
              "[8 rows x 8 columns]"
            ]
          },
          "metadata": {},
          "execution_count": 45
        }
      ]
    },
    {
      "cell_type": "markdown",
      "metadata": {
        "id": "GkcNNC5RUzCa"
      },
      "source": [
        "EDAD\n",
        "- Se puede decir que la edad promedio de los individuos estudiados es de aproximadamente 43 años.\n",
        "- La edad minima y maxima esta representada por 11 y 44 años respectivamente.\n",
        "- La mitad de los individuos tienen una edad inferior o igual a 42 años.\n",
        "\n",
        "SALARIO\n",
        "- Se puede decir que el salario promedio de los individuos estudiados es de aproximadamente 1.025.963 pesos. Esta encima del salario minimo $ 689.455 para el año 2016.\n",
        "- El salario minimo y maximo corresponden a 5000 pesos y 11.000.000 pesos respectivamente.\n",
        "- La mitad de individuos tienen un salario aproximadamente de 750.000 pesos.\n",
        "- La variabilidad de los datos se ve representada por "
      ]
    },
    {
      "cell_type": "code",
      "metadata": {
        "colab": {
          "base_uri": "https://localhost:8080/",
          "height": 276
        },
        "id": "nSKFSvOlkBDQ",
        "outputId": "b3ad02ba-19b8-4fab-e4e8-81e44173eaa6"
      },
      "source": [
        "plt.scatter(Base['edad'], Base['vr_salario'])\n",
        "plt.show()"
      ],
      "execution_count": null,
      "outputs": [
        {
          "output_type": "display_data",
          "data": {
            "image/png": "[encoded data removed]",
            "text/plain": [
              "<Figure size 432x288 with 1 Axes>"
            ]
          },
          "metadata": {
            "needs_background": "light"
          }
        }
      ]
    },
    {
      "cell_type": "markdown",
      "metadata": {
        "id": "ZSJWIkWC4k1f"
      },
      "source": [
        "Se puede decir que la edad no es una variable que sea altamente influyente en el salario."
      ]
    },
    {
      "cell_type": "code",
      "metadata": {
        "colab": {
          "base_uri": "https://localhost:8080/",
          "height": 276
        },
        "id": "CVvy1jvC4zF4",
        "outputId": "30c342b4-12a1-4601-8ddd-4c1ee93ddd0b"
      },
      "source": [
        "plt.scatter(Base['horas_normal'], Base['vr_salario'])\n",
        "plt.show()"
      ],
      "execution_count": null,
      "outputs": [
        {
          "output_type": "display_data",
          "data": {
            "image/png": "[encoded data removed]",
            "text/plain": [
              "<Figure size 432x288 with 1 Axes>"
            ]
          },
          "metadata": {
            "needs_background": "light"
          }
        }
      ]
    },
    {
      "cell_type": "code",
      "metadata": {
        "colab": {
          "base_uri": "https://localhost:8080/"
        },
        "id": "lxFfUwg5ntca",
        "outputId": "688c02f5-7ff0-4202-d3e6-91671369f609"
      },
      "source": [
        "estado_civil1 = Base_total.loc[:, 'estado_civil'] == 1\n",
        "df_est1 = Base_total.loc[estado_civil1]\n",
        "df_est1['vr_salario'].mean()"
      ],
      "execution_count": null,
      "outputs": [
        {
          "output_type": "execute_result",
          "data": {
            "text/plain": [
              "917252.3654223968"
            ]
          },
          "metadata": {},
          "execution_count": 48
        }
      ]
    },
    {
      "cell_type": "code",
      "metadata": {
        "colab": {
          "base_uri": "https://localhost:8080/"
        },
        "id": "-M7C8fBfoz8X",
        "outputId": "890de257-838c-4824-d4b1-9361fffcc685"
      },
      "source": [
        "estado_civil2 = Base_total.loc[:, 'estado_civil'] == 2\n",
        "df_est2 = Base_total.loc[estado_civil2]\n",
        "df_est2['vr_salario'].mean()"
      ],
      "execution_count": null,
      "outputs": [
        {
          "output_type": "execute_result",
          "data": {
            "text/plain": [
              "1334365.4507042253"
            ]
          },
          "metadata": {},
          "execution_count": 47
        }
      ]
    },
    {
      "cell_type": "code",
      "metadata": {
        "colab": {
          "base_uri": "https://localhost:8080/"
        },
        "id": "i1xm3p8zo4m9",
        "outputId": "4db030d4-9856-4983-ece4-f97b1ed416a2"
      },
      "source": [
        "estado_civil3 = Base_total.loc[:, 'estado_civil'] == 3\n",
        "df_est3 = Base_total.loc[estado_civil3]\n",
        "df_est3['vr_salario'].mean()"
      ],
      "execution_count": null,
      "outputs": [
        {
          "output_type": "execute_result",
          "data": {
            "text/plain": [
              "681765.5172413794"
            ]
          },
          "metadata": {},
          "execution_count": 48
        }
      ]
    },
    {
      "cell_type": "code",
      "metadata": {
        "colab": {
          "base_uri": "https://localhost:8080/"
        },
        "id": "Cdkrj0V1o9SV",
        "outputId": "a7cb8ead-d83d-4d59-e75b-715e03d8d2b6"
      },
      "source": [
        "estado_civil4 = Base_total.loc[:, 'estado_civil'] == 4\n",
        "df_est4 = Base_total.loc[estado_civil4]\n",
        "df_est4['vr_salario'].mean()"
      ],
      "execution_count": null,
      "outputs": [
        {
          "output_type": "execute_result",
          "data": {
            "text/plain": [
              "793770.8333333334"
            ]
          },
          "metadata": {},
          "execution_count": 49
        }
      ]
    },
    {
      "cell_type": "code",
      "metadata": {
        "colab": {
          "base_uri": "https://localhost:8080/"
        },
        "id": "nWF0sToXpA3f",
        "outputId": "e16f4c63-8987-4392-dee9-35a6bf0895ea"
      },
      "source": [
        "estado_civil5 = Base_total.loc[:, 'estado_civil'] == 5\n",
        "df_est5 = Base_total.loc[estado_civil5]\n",
        "df_est5['vr_salario'].mean()"
      ],
      "execution_count": null,
      "outputs": [
        {
          "output_type": "execute_result",
          "data": {
            "text/plain": [
              "767947.8260869565"
            ]
          },
          "metadata": {},
          "execution_count": 50
        }
      ]
    },
    {
      "cell_type": "code",
      "metadata": {
        "id": "1gQhisGwsmLI"
      },
      "source": [
        "ul= list(df_est1['vr_salario'])\n",
        "cas = list(df_est2['vr_salario'])\n",
        "sep = list(df_est3['vr_salario'])\n",
        "viud = list(df_est4['vr_salario'])\n",
        "sol = list(df_est5['vr_salario'])"
      ],
      "execution_count": null,
      "outputs": []
    },
    {
      "cell_type": "code",
      "metadata": {
        "colab": {
          "base_uri": "https://localhost:8080/",
          "height": 276
        },
        "id": "eg7n_W08lnJA",
        "outputId": "308d3569-04e5-4d6b-e4ee-a9bab60b8cc4"
      },
      "source": [
        "x= [930306,1293132,809697,807223,807557]\n",
        "cc = ['Union libre','Casados','Separados','Viudos', 'Solteros']\n",
        "plt.bar(cc, x)\n",
        "plt.show()"
      ],
      "execution_count": null,
      "outputs": [
        {
          "output_type": "display_data",
          "data": {
            "image/png": "[encoded data removed]",
            "text/plain": [
              "<Figure size 432x288 with 1 Axes>"
            ]
          },
          "metadata": {
            "needs_background": "light"
          }
        }
      ]
    },
    {
      "cell_type": "markdown",
      "metadata": {
        "id": "6oe27ga5lgSA"
      },
      "source": [
        "De acuerdo al grafico anterior se puede decir que en promedio el salario que obtienen los individuos que estan separados, viudos o solteros no tienen cambios significativos. Sin embargo, aquellas personas que estan casadas tienden a tener en promedio un salario mas elevado. "
      ]
    },
    {
      "cell_type": "code",
      "metadata": {
        "id": "EvANtEtOp_mT"
      },
      "source": [
        "import pandas as pd\n",
        "import numpy as np\n",
        "from scipy.stats import f_oneway\n",
        "from statsmodels.stats.multicomp import pairwise_tukeyhsd"
      ],
      "execution_count": null,
      "outputs": []
    },
    {
      "cell_type": "code",
      "metadata": {
        "colab": {
          "base_uri": "https://localhost:8080/"
        },
        "id": "8qi4LjzMqAcW",
        "outputId": "ccaebd98-fb30-471d-ad80-bdcec1ea077f"
      },
      "source": [
        "#enter data for three groups\n",
        "ul= list(df_est1['vr_salario'])\n",
        "cas = list(df_est2['vr_salario'])\n",
        "sep = list(df_est3['vr_salario'])\n",
        "viud = list(df_est4['vr_salario'])\n",
        "sol = list(df_est5['vr_salario'])\n",
        "\n",
        "\n",
        "#perform one-way ANOVA\n",
        "f_oneway(ul, cas, sep , viud , sol)"
      ],
      "execution_count": null,
      "outputs": [
        {
          "output_type": "execute_result",
          "data": {
            "text/plain": [
              "F_onewayResult(statistic=21.663646074975322, pvalue=4.281768977076886e-17)"
            ]
          },
          "metadata": {},
          "execution_count": 54
        }
      ]
    },
    {
      "cell_type": "code",
      "metadata": {
        "colab": {
          "base_uri": "https://localhost:8080/"
        },
        "id": "c9Jg1YcTtxU0",
        "outputId": "60256d49-203a-4063-f413-78878e4151a2"
      },
      "source": [
        "len(ul)"
      ],
      "execution_count": null,
      "outputs": [
        {
          "output_type": "execute_result",
          "data": {
            "text/plain": [
              "396"
            ]
          },
          "metadata": {},
          "execution_count": 55
        }
      ]
    },
    {
      "cell_type": "code",
      "metadata": {
        "colab": {
          "base_uri": "https://localhost:8080/"
        },
        "id": "nhdJY6YYt660",
        "outputId": "63465e1f-27dc-4a62-be71-e69db83c8c97"
      },
      "source": [
        "len(cas)"
      ],
      "execution_count": null,
      "outputs": [
        {
          "output_type": "execute_result",
          "data": {
            "text/plain": [
              "284"
            ]
          },
          "metadata": {},
          "execution_count": 56
        }
      ]
    },
    {
      "cell_type": "code",
      "metadata": {
        "colab": {
          "base_uri": "https://localhost:8080/"
        },
        "id": "sY36Sh-7t8jC",
        "outputId": "0bf1a9e9-ab00-43e0-a7c5-c35a5d2e0348"
      },
      "source": [
        "len(sep)"
      ],
      "execution_count": null,
      "outputs": [
        {
          "output_type": "execute_result",
          "data": {
            "text/plain": [
              "145"
            ]
          },
          "metadata": {},
          "execution_count": 57
        }
      ]
    },
    {
      "cell_type": "code",
      "metadata": {
        "colab": {
          "base_uri": "https://localhost:8080/"
        },
        "id": "r0lqAXdyt99r",
        "outputId": "b27ed461-c4f5-42c5-d248-dd9595f2b71d"
      },
      "source": [
        "len(viud)"
      ],
      "execution_count": null,
      "outputs": [
        {
          "output_type": "execute_result",
          "data": {
            "text/plain": [
              "24"
            ]
          },
          "metadata": {},
          "execution_count": 58
        }
      ]
    },
    {
      "cell_type": "code",
      "metadata": {
        "colab": {
          "base_uri": "https://localhost:8080/"
        },
        "id": "IHepXlLYuAjU",
        "outputId": "8e6ca495-cfe3-4e2a-8daa-398346d08347"
      },
      "source": [
        "len(sol)"
      ],
      "execution_count": null,
      "outputs": [
        {
          "output_type": "execute_result",
          "data": {
            "text/plain": [
              "69"
            ]
          },
          "metadata": {},
          "execution_count": 59
        }
      ]
    },
    {
      "cell_type": "code",
      "metadata": {
        "id": "fs99Q1oRuZUK"
      },
      "source": [
        "total = ul + cas + sep + viud + sol"
      ],
      "execution_count": null,
      "outputs": []
    },
    {
      "cell_type": "markdown",
      "metadata": {
        "id": "JhnHIAFdtQHC"
      },
      "source": [
        "Hay almenos una media que es diferente."
      ]
    },
    {
      "cell_type": "code",
      "metadata": {
        "id": "we1TL4Ud1-jS"
      },
      "source": [
        "import pandas as pd\n",
        "import scipy.stats as stats"
      ],
      "execution_count": null,
      "outputs": []
    },
    {
      "cell_type": "code",
      "metadata": {
        "id": "6ajN_Axx3Fuy",
        "colab": {
          "base_uri": "https://localhost:8080/"
        },
        "outputId": "f50fd80b-ab7a-46c3-f395-84ef6ad930fb"
      },
      "source": [
        "from scipy.stats import ttest_ind\n",
        "ttest_ind(ul, cas)\n"
      ],
      "execution_count": null,
      "outputs": [
        {
          "output_type": "execute_result",
          "data": {
            "text/plain": [
              "Ttest_indResult(statistic=-6.850117007253146, pvalue=1.6577711893385024e-11)"
            ]
          },
          "metadata": {},
          "execution_count": 62
        }
      ]
    },
    {
      "cell_type": "markdown",
      "metadata": {
        "id": "xY7h1X5U3V4U"
      },
      "source": [
        "La media de los salarios de las personas que tienen como estado civil 'Union libre' es estadisticamente diferente a los individuos que tienen como estado civil 'Casados'"
      ]
    },
    {
      "cell_type": "code",
      "metadata": {
        "colab": {
          "base_uri": "https://localhost:8080/"
        },
        "id": "OESpFZ6u3kOW",
        "outputId": "5d04158c-a766-4023-9d7b-429e49f780d5"
      },
      "source": [
        "ttest_ind(cas,viud)"
      ],
      "execution_count": null,
      "outputs": [
        {
          "output_type": "execute_result",
          "data": {
            "text/plain": [
              "Ttest_indResult(statistic=2.4018763061405357, pvalue=0.01690715836169868)"
            ]
          },
          "metadata": {},
          "execution_count": 63
        }
      ]
    },
    {
      "cell_type": "markdown",
      "metadata": {
        "id": "I84YDL1C3rde"
      },
      "source": [
        "La media de los salarios de las personas que tienen como estado civil 'Viudos' es estadisticamente diferente a los individuos que tienen como estado civil 'Casados'"
      ]
    },
    {
      "cell_type": "code",
      "metadata": {
        "colab": {
          "base_uri": "https://localhost:8080/"
        },
        "id": "EVF2gp173uzq",
        "outputId": "262d3b99-954f-4ca6-c0b2-37cbe5be6f97"
      },
      "source": [
        "ttest_ind(sep,viud)"
      ],
      "execution_count": null,
      "outputs": [
        {
          "output_type": "execute_result",
          "data": {
            "text/plain": [
              "Ttest_indResult(statistic=-0.8371390844460906, pvalue=0.40371077187083615)"
            ]
          },
          "metadata": {},
          "execution_count": 64
        }
      ]
    },
    {
      "cell_type": "code",
      "metadata": {
        "colab": {
          "base_uri": "https://localhost:8080/"
        },
        "id": "jyDJ65lB37Ac",
        "outputId": "91b72c81-cf23-4ecb-9417-2874a46d68cc"
      },
      "source": [
        "ttest_ind(viud,sol)"
      ],
      "execution_count": null,
      "outputs": [
        {
          "output_type": "execute_result",
          "data": {
            "text/plain": [
              "Ttest_indResult(statistic=0.15318885250096217, pvalue=0.8785885273516865)"
            ]
          },
          "metadata": {},
          "execution_count": 65
        }
      ]
    },
    {
      "cell_type": "markdown",
      "metadata": {
        "id": "0Jxs2i4K37d3"
      },
      "source": [
        "En cambio, la media de los salarios de las personas que tienen como estado civil 'Separados' no es significativamente diferente a la media de los salarios de los invidiuos que estan viudos y que estan solteros."
      ]
    },
    {
      "cell_type": "code",
      "metadata": {
        "id": "vCZd6yPzzqmX"
      },
      "source": [
        "from statsmodels.stats.multicomp import MultiComparison\n"
      ],
      "execution_count": null,
      "outputs": []
    },
    {
      "cell_type": "code",
      "metadata": {
        "colab": {
          "base_uri": "https://localhost:8080/",
          "height": 381
        },
        "id": "M6_JZJe5tTFX",
        "outputId": "88b4bced-3ff7-4b6c-9b4c-239eba9d4b26"
      },
      "source": [
        "#PRUEBA TUKEY (ESTA ES LA MEJOR OPCION PERO NO PUDE HACERLO)\n",
        "import pandas as pd\n",
        "df = pd.DataFrame({'salario': [ul,cas,sep,viud,sol],'group': np.repeat(['ul', 'cas', 'sep', 'viud', 'sol'], repeats=(918,857,388,56,206))}) \n",
        "\n",
        "# perform Tukey's test\n",
        "tukey = pairwise_tukeyhsd(endog=df['salario'],\n",
        "                          groups=df['group'],\n",
        "                          alpha=0.05)\n",
        "\n",
        "#display results\n",
        "print(tukey)"
      ],
      "execution_count": null,
      "outputs": [
        {
          "output_type": "error",
          "ename": "ValueError",
          "evalue": "ignored",
          "traceback": [
            "\u001b[0;31m---------------------------------------------------------------------------\u001b[0m",
            "\u001b[0;31mValueError\u001b[0m                                Traceback (most recent call last)",
            "\u001b[0;32m<ipython-input-67-20e4af824cfb>\u001b[0m in \u001b[0;36m<module>\u001b[0;34m()\u001b[0m\n\u001b[1;32m      1\u001b[0m \u001b[0;31m#PRUEBA TUKEY (ESTA ES LA MEJOR OPCION PERO NO PUDE HACERLO)\u001b[0m\u001b[0;34m\u001b[0m\u001b[0;34m\u001b[0m\u001b[0;34m\u001b[0m\u001b[0m\n\u001b[1;32m      2\u001b[0m \u001b[0;32mimport\u001b[0m \u001b[0mpandas\u001b[0m \u001b[0;32mas\u001b[0m \u001b[0mpd\u001b[0m\u001b[0;34m\u001b[0m\u001b[0;34m\u001b[0m\u001b[0m\n\u001b[0;32m----> 3\u001b[0;31m \u001b[0mdf\u001b[0m \u001b[0;34m=\u001b[0m \u001b[0mpd\u001b[0m\u001b[0;34m.\u001b[0m\u001b[0mDataFrame\u001b[0m\u001b[0;34m(\u001b[0m\u001b[0;34m{\u001b[0m\u001b[0;34m'salario'\u001b[0m\u001b[0;34m:\u001b[0m \u001b[0;34m[\u001b[0m\u001b[0mul\u001b[0m\u001b[0;34m,\u001b[0m\u001b[0mcas\u001b[0m\u001b[0;34m,\u001b[0m\u001b[0msep\u001b[0m\u001b[0;34m,\u001b[0m\u001b[0mviud\u001b[0m\u001b[0;34m,\u001b[0m\u001b[0msol\u001b[0m\u001b[0;34m]\u001b[0m\u001b[0;34m,\u001b[0m\u001b[0;34m'group'\u001b[0m\u001b[0;34m:\u001b[0m \u001b[0mnp\u001b[0m\u001b[0;34m.\u001b[0m\u001b[0mrepeat\u001b[0m\u001b[0;34m(\u001b[0m\u001b[0;34m[\u001b[0m\u001b[0;34m'ul'\u001b[0m\u001b[0;34m,\u001b[0m \u001b[0;34m'cas'\u001b[0m\u001b[0;34m,\u001b[0m \u001b[0;34m'sep'\u001b[0m\u001b[0;34m,\u001b[0m \u001b[0;34m'viud'\u001b[0m\u001b[0;34m,\u001b[0m \u001b[0;34m'sol'\u001b[0m\u001b[0;34m]\u001b[0m\u001b[0;34m,\u001b[0m \u001b[0mrepeats\u001b[0m\u001b[0;34m=\u001b[0m\u001b[0;34m(\u001b[0m\u001b[0;36m918\u001b[0m\u001b[0;34m,\u001b[0m\u001b[0;36m857\u001b[0m\u001b[0;34m,\u001b[0m\u001b[0;36m388\u001b[0m\u001b[0;34m,\u001b[0m\u001b[0;36m56\u001b[0m\u001b[0;34m,\u001b[0m\u001b[0;36m206\u001b[0m\u001b[0;34m)\u001b[0m\u001b[0;34m)\u001b[0m\u001b[0;34m}\u001b[0m\u001b[0;34m)\u001b[0m\u001b[0;34m\u001b[0m\u001b[0;34m\u001b[0m\u001b[0m\n\u001b[0m\u001b[1;32m      4\u001b[0m \u001b[0;34m\u001b[0m\u001b[0m\n\u001b[1;32m      5\u001b[0m \u001b[0;31m# perform Tukey's test\u001b[0m\u001b[0;34m\u001b[0m\u001b[0;34m\u001b[0m\u001b[0;34m\u001b[0m\u001b[0m\n",
            "\u001b[0;32m/usr/local/lib/python3.7/dist-packages/pandas/core/frame.py\u001b[0m in \u001b[0;36m__init__\u001b[0;34m(self, data, index, columns, dtype, copy)\u001b[0m\n\u001b[1;32m    466\u001b[0m \u001b[0;34m\u001b[0m\u001b[0m\n\u001b[1;32m    467\u001b[0m         \u001b[0;32melif\u001b[0m \u001b[0misinstance\u001b[0m\u001b[0;34m(\u001b[0m\u001b[0mdata\u001b[0m\u001b[0;34m,\u001b[0m \u001b[0mdict\u001b[0m\u001b[0;34m)\u001b[0m\u001b[0;34m:\u001b[0m\u001b[0;34m\u001b[0m\u001b[0;34m\u001b[0m\u001b[0m\n\u001b[0;32m--> 468\u001b[0;31m             \u001b[0mmgr\u001b[0m \u001b[0;34m=\u001b[0m \u001b[0minit_dict\u001b[0m\u001b[0;34m(\u001b[0m\u001b[0mdata\u001b[0m\u001b[0;34m,\u001b[0m \u001b[0mindex\u001b[0m\u001b[0;34m,\u001b[0m \u001b[0mcolumns\u001b[0m\u001b[0;34m,\u001b[0m \u001b[0mdtype\u001b[0m\u001b[0;34m=\u001b[0m\u001b[0mdtype\u001b[0m\u001b[0;34m)\u001b[0m\u001b[0;34m\u001b[0m\u001b[0;34m\u001b[0m\u001b[0m\n\u001b[0m\u001b[1;32m    469\u001b[0m         \u001b[0;32melif\u001b[0m \u001b[0misinstance\u001b[0m\u001b[0;34m(\u001b[0m\u001b[0mdata\u001b[0m\u001b[0;34m,\u001b[0m \u001b[0mma\u001b[0m\u001b[0;34m.\u001b[0m\u001b[0mMaskedArray\u001b[0m\u001b[0;34m)\u001b[0m\u001b[0;34m:\u001b[0m\u001b[0;34m\u001b[0m\u001b[0;34m\u001b[0m\u001b[0m\n\u001b[1;32m    470\u001b[0m             \u001b[0;32mimport\u001b[0m \u001b[0mnumpy\u001b[0m\u001b[0;34m.\u001b[0m\u001b[0mma\u001b[0m\u001b[0;34m.\u001b[0m\u001b[0mmrecords\u001b[0m \u001b[0;32mas\u001b[0m \u001b[0mmrecords\u001b[0m\u001b[0;34m\u001b[0m\u001b[0;34m\u001b[0m\u001b[0m\n",
            "\u001b[0;32m/usr/local/lib/python3.7/dist-packages/pandas/core/internals/construction.py\u001b[0m in \u001b[0;36minit_dict\u001b[0;34m(data, index, columns, dtype)\u001b[0m\n\u001b[1;32m    281\u001b[0m             \u001b[0marr\u001b[0m \u001b[0;32mif\u001b[0m \u001b[0;32mnot\u001b[0m \u001b[0mis_datetime64tz_dtype\u001b[0m\u001b[0;34m(\u001b[0m\u001b[0marr\u001b[0m\u001b[0;34m)\u001b[0m \u001b[0;32melse\u001b[0m \u001b[0marr\u001b[0m\u001b[0;34m.\u001b[0m\u001b[0mcopy\u001b[0m\u001b[0;34m(\u001b[0m\u001b[0;34m)\u001b[0m \u001b[0;32mfor\u001b[0m \u001b[0marr\u001b[0m \u001b[0;32min\u001b[0m \u001b[0marrays\u001b[0m\u001b[0;34m\u001b[0m\u001b[0;34m\u001b[0m\u001b[0m\n\u001b[1;32m    282\u001b[0m         ]\n\u001b[0;32m--> 283\u001b[0;31m     \u001b[0;32mreturn\u001b[0m \u001b[0marrays_to_mgr\u001b[0m\u001b[0;34m(\u001b[0m\u001b[0marrays\u001b[0m\u001b[0;34m,\u001b[0m \u001b[0mdata_names\u001b[0m\u001b[0;34m,\u001b[0m \u001b[0mindex\u001b[0m\u001b[0;34m,\u001b[0m \u001b[0mcolumns\u001b[0m\u001b[0;34m,\u001b[0m \u001b[0mdtype\u001b[0m\u001b[0;34m=\u001b[0m\u001b[0mdtype\u001b[0m\u001b[0;34m)\u001b[0m\u001b[0;34m\u001b[0m\u001b[0;34m\u001b[0m\u001b[0m\n\u001b[0m\u001b[1;32m    284\u001b[0m \u001b[0;34m\u001b[0m\u001b[0m\n\u001b[1;32m    285\u001b[0m \u001b[0;34m\u001b[0m\u001b[0m\n",
            "\u001b[0;32m/usr/local/lib/python3.7/dist-packages/pandas/core/internals/construction.py\u001b[0m in \u001b[0;36marrays_to_mgr\u001b[0;34m(arrays, arr_names, index, columns, dtype, verify_integrity)\u001b[0m\n\u001b[1;32m     76\u001b[0m         \u001b[0;31m# figure out the index, if necessary\u001b[0m\u001b[0;34m\u001b[0m\u001b[0;34m\u001b[0m\u001b[0;34m\u001b[0m\u001b[0m\n\u001b[1;32m     77\u001b[0m         \u001b[0;32mif\u001b[0m \u001b[0mindex\u001b[0m \u001b[0;32mis\u001b[0m \u001b[0;32mNone\u001b[0m\u001b[0;34m:\u001b[0m\u001b[0;34m\u001b[0m\u001b[0;34m\u001b[0m\u001b[0m\n\u001b[0;32m---> 78\u001b[0;31m             \u001b[0mindex\u001b[0m \u001b[0;34m=\u001b[0m \u001b[0mextract_index\u001b[0m\u001b[0;34m(\u001b[0m\u001b[0marrays\u001b[0m\u001b[0;34m)\u001b[0m\u001b[0;34m\u001b[0m\u001b[0;34m\u001b[0m\u001b[0m\n\u001b[0m\u001b[1;32m     79\u001b[0m         \u001b[0;32melse\u001b[0m\u001b[0;34m:\u001b[0m\u001b[0;34m\u001b[0m\u001b[0;34m\u001b[0m\u001b[0m\n\u001b[1;32m     80\u001b[0m             \u001b[0mindex\u001b[0m \u001b[0;34m=\u001b[0m \u001b[0mensure_index\u001b[0m\u001b[0;34m(\u001b[0m\u001b[0mindex\u001b[0m\u001b[0;34m)\u001b[0m\u001b[0;34m\u001b[0m\u001b[0;34m\u001b[0m\u001b[0m\n",
            "\u001b[0;32m/usr/local/lib/python3.7/dist-packages/pandas/core/internals/construction.py\u001b[0m in \u001b[0;36mextract_index\u001b[0;34m(data)\u001b[0m\n\u001b[1;32m    395\u001b[0m             \u001b[0mlengths\u001b[0m \u001b[0;34m=\u001b[0m \u001b[0mlist\u001b[0m\u001b[0;34m(\u001b[0m\u001b[0mset\u001b[0m\u001b[0;34m(\u001b[0m\u001b[0mraw_lengths\u001b[0m\u001b[0;34m)\u001b[0m\u001b[0;34m)\u001b[0m\u001b[0;34m\u001b[0m\u001b[0;34m\u001b[0m\u001b[0m\n\u001b[1;32m    396\u001b[0m             \u001b[0;32mif\u001b[0m \u001b[0mlen\u001b[0m\u001b[0;34m(\u001b[0m\u001b[0mlengths\u001b[0m\u001b[0;34m)\u001b[0m \u001b[0;34m>\u001b[0m \u001b[0;36m1\u001b[0m\u001b[0;34m:\u001b[0m\u001b[0;34m\u001b[0m\u001b[0;34m\u001b[0m\u001b[0m\n\u001b[0;32m--> 397\u001b[0;31m                 \u001b[0;32mraise\u001b[0m \u001b[0mValueError\u001b[0m\u001b[0;34m(\u001b[0m\u001b[0;34m\"arrays must all be same length\"\u001b[0m\u001b[0;34m)\u001b[0m\u001b[0;34m\u001b[0m\u001b[0;34m\u001b[0m\u001b[0m\n\u001b[0m\u001b[1;32m    398\u001b[0m \u001b[0;34m\u001b[0m\u001b[0m\n\u001b[1;32m    399\u001b[0m             \u001b[0;32mif\u001b[0m \u001b[0mhave_dicts\u001b[0m\u001b[0;34m:\u001b[0m\u001b[0;34m\u001b[0m\u001b[0;34m\u001b[0m\u001b[0m\n",
            "\u001b[0;31mValueError\u001b[0m: arrays must all be same length"
          ]
        }
      ]
    },
    {
      "cell_type": "code",
      "metadata": {
        "id": "eOX_cYIZWomb"
      },
      "source": [
        "import numpy as np\n",
        "from scipy import stats\n",
        "from scipy.stats import expon\n",
        "import matplotlib.pyplot as plt"
      ],
      "execution_count": null,
      "outputs": []
    },
    {
      "cell_type": "code",
      "metadata": {
        "id": "W-Nh4DJQWsYV"
      },
      "source": [
        "#  Parece que sigue una distribucion exponencial\n",
        "fig, axes = plt.subplots(1,1)\n",
        "x = np.linspace(expon.ppf(0.01),\n",
        "                expon.ppf(0.99), 100)\n",
        "plt.plot(x, expon.pdf(x))\n",
        "plt.title('Distribución Exponencial')\n",
        "plt.ylabel('f(x)')\n",
        "plt.xlabel('X')\n",
        "plt.hist(Base['vr_salario'])\n",
        "plt.show()"
      ],
      "execution_count": null,
      "outputs": []
    },
    {
      "cell_type": "code",
      "metadata": {
        "id": "BQqHFzFKdzeN"
      },
      "source": [
        "# Calculando la simetria con scipy\n",
        "stats.skew(Base['vr_salario'])"
      ],
      "execution_count": null,
      "outputs": []
    },
    {
      "cell_type": "markdown",
      "metadata": {
        "id": "AkxT-lvcdbXH"
      },
      "source": [
        "Para el caso del salario podemos ver que la distribución  tiene una asimetria positiva. Lo que indica que el salario tiende hacia valores menores que la media. "
      ]
    },
    {
      "cell_type": "code",
      "metadata": {
        "id": "E-zM_5R9Zyrn"
      },
      "source": [
        "import numpy as np\n",
        "import pandas as pd"
      ],
      "execution_count": null,
      "outputs": []
    },
    {
      "cell_type": "code",
      "metadata": {
        "id": "OZolI82gVqDM"
      },
      "source": [
        "import matplotlib.pyplot as plt # importando matplotlib\n",
        "import seaborn as sns"
      ],
      "execution_count": null,
      "outputs": []
    },
    {
      "cell_type": "code",
      "metadata": {
        "id": "HRA-ZO4eVa0Q"
      },
      "source": [
        "plt.hist(Base['horas_normal']) #parece que sigue una distribucion normal\n"
      ],
      "execution_count": null,
      "outputs": []
    },
    {
      "cell_type": "code",
      "metadata": {
        "id": "bkqgN5HzeLni"
      },
      "source": [
        "# Calculando la simetria con scipy\n",
        "stats.skew(Base['horas_normal']) #PRESENTA UN POCO DE ASIMETRIA NEGATIVA. "
      ],
      "execution_count": null,
      "outputs": []
    },
    {
      "cell_type": "code",
      "metadata": {
        "id": "GUK6HFaqV2Kn"
      },
      "source": [
        "plt.hist(Base['edad'])"
      ],
      "execution_count": null,
      "outputs": []
    },
    {
      "cell_type": "code",
      "metadata": {
        "id": "JMn8GKfzesF4"
      },
      "source": [
        "datos_graf = [Base['vr_salario'],Base['edad'],Base['horas_normal']]"
      ],
      "execution_count": null,
      "outputs": []
    },
    {
      "cell_type": "code",
      "metadata": {
        "id": "KC8gy7_3ep34"
      },
      "source": [
        "# Creando el objeto figura\n",
        "fig = plt.figure(1, figsize=(9, 6))\n",
        "\n",
        "# Creando el subgrafico\n",
        "ax = fig.add_subplot(111)\n",
        "\n",
        "# creando el grafico de cajas\n",
        "bp = ax.boxplot(datos_graf)\n",
        "\n",
        "# visualizar mas facile los atípicos\n",
        "for flier in bp['fliers']:\n",
        "    flier.set(marker='o', color='red', alpha=0.5)\n",
        "# los puntos aislados son valores atípicos"
      ],
      "execution_count": null,
      "outputs": []
    },
    {
      "cell_type": "code",
      "metadata": {
        "id": "0o0HvcObg6mb"
      },
      "source": [
        "import matplotlib.pyplot as plt \n",
        "\n",
        "x=[Base['vr_salario']]\n",
        "\n",
        "plt.boxplot(x)\n",
        "plt.title(\"Boxplot Salario\")\n",
        "plt.show()"
      ],
      "execution_count": null,
      "outputs": []
    },
    {
      "cell_type": "code",
      "metadata": {
        "id": "1FEkpvJ_gMjt"
      },
      "source": [
        "import matplotlib.pyplot as plt \n",
        "\n",
        "x=[Base['edad']]\n",
        "\n",
        "plt.boxplot(x)\n",
        "plt.title(\"Boxplot Edad\")\n",
        "plt.show()"
      ],
      "execution_count": null,
      "outputs": []
    },
    {
      "cell_type": "code",
      "metadata": {
        "id": "XCv0YXKN5-Ed"
      },
      "source": [
        "#NUMERO DE EMPLEADOS\n",
        "n_empleados = Base_total.loc[:, 'n_empleados'] == 1\n",
        "df_emp = Base_total.loc[n_empleados]\n",
        "df_emp['vr_salario'].mean()\n"
      ],
      "execution_count": null,
      "outputs": []
    },
    {
      "cell_type": "code",
      "metadata": {
        "id": "GFkEin8F6j8e"
      },
      "source": [
        "n_empleados = Base_total.loc[:, 'n_empleados'] == 2\n",
        "df_emp = Base_total.loc[n_empleados]\n",
        "df_emp['vr_salario'].mean()"
      ],
      "execution_count": null,
      "outputs": []
    },
    {
      "cell_type": "code",
      "metadata": {
        "id": "Zv-sqPNe6n-c"
      },
      "source": [
        "n_empleados = Base_total.loc[:, 'n_empleados'] == 3\n",
        "df_emp = Base_total.loc[n_empleados]\n",
        "df_emp['vr_salario'].mean()"
      ],
      "execution_count": null,
      "outputs": []
    },
    {
      "cell_type": "code",
      "metadata": {
        "id": "dKhj0RMR6r88"
      },
      "source": [
        "n_empleados = Base_total.loc[:, 'n_empleados'] == 4\n",
        "df_emp = Base_total.loc[n_empleados]\n",
        "df_emp['vr_salario'].mean()"
      ],
      "execution_count": null,
      "outputs": []
    },
    {
      "cell_type": "code",
      "metadata": {
        "id": "lb3Ar6_86vH9"
      },
      "source": [
        "n_empleados = Base_total.loc[:, 'n_empleados'] == 5\n",
        "df_emp = Base_total.loc[n_empleados]\n",
        "df_emp['vr_salario'].mean()"
      ],
      "execution_count": null,
      "outputs": []
    },
    {
      "cell_type": "code",
      "metadata": {
        "id": "RUQ_JtAy6xEk"
      },
      "source": [
        "n_empleados = Base_total.loc[:, 'n_empleados'] == 6\n",
        "df_emp = Base_total.loc[n_empleados]\n",
        "df_emp['vr_salario'].mean()"
      ],
      "execution_count": null,
      "outputs": []
    },
    {
      "cell_type": "code",
      "metadata": {
        "id": "ASglMWWI6TpR"
      },
      "source": [
        "x= [448760,660794,930959,1003597,1212192,1361552]\n",
        "cc = ['Trabaja solo','De 2-5','De 6-10','De 11-19', 'De 20-49','50 y más']\n",
        "plt.bar(cc, x)\n",
        "plt.show()"
      ],
      "execution_count": null,
      "outputs": []
    },
    {
      "cell_type": "markdown",
      "metadata": {
        "id": "DxHA1I4s7SRR"
      },
      "source": [
        "Se puede evidenciar que el numero de empleados influye y podria llegar a explicar la variable salario. Entre mas empleados tiene la empresa, mayor es el salario."
      ]
    },
    {
      "cell_type": "code",
      "metadata": {
        "id": "FMpHB3SY7RWQ",
        "colab": {
          "base_uri": "https://localhost:8080/"
        },
        "outputId": "3dc9fd83-3626-443d-8a0d-bff98ff642ce"
      },
      "source": [
        "#TIPO DE CONTRATO \n",
        "tip_con = Base_total.loc[:, 'tipo_contrato'] == 1\n",
        "df_tip = Base_total.loc[tip_con]\n",
        "df_tip['vr_salario'].mean()"
      ],
      "execution_count": 181,
      "outputs": [
        {
          "output_type": "execute_result",
          "data": {
            "text/plain": [
              "1050708.5753424657"
            ]
          },
          "metadata": {},
          "execution_count": 181
        }
      ]
    },
    {
      "cell_type": "code",
      "metadata": {
        "id": "q7t0RK4H8BBP",
        "colab": {
          "base_uri": "https://localhost:8080/"
        },
        "outputId": "877b4b65-ea09-49d5-df43-726e4d4afca4"
      },
      "source": [
        "tip_con = Base_total.loc[:, 'tipo_contrato'] == 2\n",
        "df_tip = Base_total.loc[tip_con]\n",
        "df_tip['vr_salario'].mean()"
      ],
      "execution_count": 182,
      "outputs": [
        {
          "output_type": "execute_result",
          "data": {
            "text/plain": [
              "1417548.2857142857"
            ]
          },
          "metadata": {},
          "execution_count": 182
        }
      ]
    },
    {
      "cell_type": "code",
      "metadata": {
        "id": "-rjKB1an8DYn",
        "colab": {
          "base_uri": "https://localhost:8080/"
        },
        "outputId": "c3f10479-4ebb-4220-829d-e504bf7c2469"
      },
      "source": [
        "tip_con = Base_total.loc[:, 'tipo_contrato'] == 3\n",
        "df_tip = Base_total.loc[tip_con]\n",
        "df_tip['vr_salario'].mean()"
      ],
      "execution_count": 183,
      "outputs": [
        {
          "output_type": "execute_result",
          "data": {
            "text/plain": [
              "566104.6012269938"
            ]
          },
          "metadata": {},
          "execution_count": 183
        }
      ]
    },
    {
      "cell_type": "code",
      "metadata": {
        "id": "bzQgEwpu8DBd",
        "colab": {
          "base_uri": "https://localhost:8080/"
        },
        "outputId": "dca6e312-6103-4336-cf3e-c0731b7f8a34"
      },
      "source": [
        "tip_con = Base_total.loc[:, 'tipo_contrato'] == 4\n",
        "df_tip = Base_total.loc[tip_con]\n",
        "df_tip['vr_salario'].mean()"
      ],
      "execution_count": 184,
      "outputs": [
        {
          "output_type": "execute_result",
          "data": {
            "text/plain": [
              "446102.4734982332"
            ]
          },
          "metadata": {},
          "execution_count": 184
        }
      ]
    },
    {
      "cell_type": "code",
      "metadata": {
        "id": "-HTWzUOh7-oA",
        "colab": {
          "base_uri": "https://localhost:8080/",
          "height": 276
        },
        "outputId": "c6cdc943-07d5-4928-e091-d7a9365e6c17"
      },
      "source": [
        "x= [1054393,1419405,586117,492875]\n",
        "cc = ['Fijo','Indefinido','Verbal','Sin contrato']\n",
        "plt.bar(cc, x)\n",
        "plt.show()"
      ],
      "execution_count": 186,
      "outputs": [
        {
          "output_type": "display_data",
          "data": {
            "image/png": "[encoded data removed]",
            "text/plain": [
              "<Figure size 432x288 with 1 Axes>"
            ]
          },
          "metadata": {
            "needs_background": "light"
          }
        }
      ]
    },
    {
      "cell_type": "markdown",
      "metadata": {
        "id": "huLScT3u8pj5"
      },
      "source": [
        "Se puede evidenciar que la variable tipo de contrato si influye en la variable salario ya que, aquellos individuos que cuentan con un contrato escrito tienen un mayor salario en promedio mientras que aquellos que tienen contrato verbal o que no tienen contrato ganan mucho menos.\n",
        "Aquellas personas que tienen un contrato a termino indefinido ganan mas que aquellas que tienen uno a termino fijo."
      ]
    },
    {
      "cell_type": "code",
      "metadata": {
        "id": "zQnclEes9RvB"
      },
      "source": [
        "#HIJOS\n",
        "hij = Base_total.loc[:, 'Total_hijos'] == 0\n",
        "df_hij = Base_total.loc[hij]\n",
        "df_hij['vr_salario'].mean()"
      ],
      "execution_count": null,
      "outputs": []
    },
    {
      "cell_type": "code",
      "metadata": {
        "id": "c1BWDPpj9yml"
      },
      "source": [
        "hij = Base_total.loc[:, 'Total_hijos'] == 1\n",
        "df_hij = Base_total.loc[hij]\n",
        "df_hij['vr_salario'].mean()"
      ],
      "execution_count": null,
      "outputs": []
    },
    {
      "cell_type": "code",
      "metadata": {
        "id": "BF86T4dF-GrG"
      },
      "source": [
        "hij = Base_total.loc[:, 'Total_hijos'] == 2\n",
        "df_hij = Base_total.loc[hij]\n",
        "df_hij['vr_salario'].mean()"
      ],
      "execution_count": null,
      "outputs": []
    },
    {
      "cell_type": "code",
      "metadata": {
        "id": "1G4yuHmk-HiG"
      },
      "source": [
        "hij = Base_total.loc[:, 'Total_hijos'] == 3\n",
        "df_hij = Base_total.loc[hij]\n",
        "df_hij['vr_salario'].mean()"
      ],
      "execution_count": null,
      "outputs": []
    },
    {
      "cell_type": "code",
      "metadata": {
        "id": "yuu3yanv-JfD"
      },
      "source": [
        "hij = Base_total.loc[:, 'Total_hijos'] == 4\n",
        "df_hij = Base_total.loc[hij]\n",
        "df_hij['vr_salario'].mean()"
      ],
      "execution_count": null,
      "outputs": []
    },
    {
      "cell_type": "code",
      "metadata": {
        "id": "iIrCcw---NBV"
      },
      "source": [
        "hij = Base_total.loc[:, 'Total_hijos'] == 5\n",
        "df_hij = Base_total.loc[hij]\n",
        "df_hij['vr_salario'].mean()"
      ],
      "execution_count": null,
      "outputs": []
    },
    {
      "cell_type": "code",
      "metadata": {
        "id": "sGeggvE4-PCA"
      },
      "source": [
        "hij = Base_total.loc[:, 'Total_hijos'] == 6\n",
        "df_hij = Base_total.loc[hij]\n",
        "df_hij['vr_salario'].mean()"
      ],
      "execution_count": null,
      "outputs": []
    },
    {
      "cell_type": "code",
      "metadata": {
        "id": "4lHfAD9H-elY"
      },
      "source": [
        "x= [1129325,981107,929555,706229,630957,480500,412538]\n",
        "cc = ['0','1','2','3','4', '5', '6']\n",
        "plt.bar(cc, x)\n",
        "plt.show()"
      ],
      "execution_count": null,
      "outputs": []
    },
    {
      "cell_type": "code",
      "metadata": {
        "id": "UrVMshPqAHB3"
      },
      "source": [
        "#afiliacion\n",
        "af = Base.loc[:, 'afiliacion'] == 1\n",
        "df_af = Base.loc[af]\n",
        "df_af['vr_salario'].mean()"
      ],
      "execution_count": null,
      "outputs": []
    },
    {
      "cell_type": "code",
      "metadata": {
        "id": "2n3Jfl7dAmua"
      },
      "source": [
        "af = Base.loc[:, 'afiliacion'] == 2\n",
        "df_af = Base.loc[af]\n",
        "df_af['vr_salario'].mean()"
      ],
      "execution_count": null,
      "outputs": []
    },
    {
      "cell_type": "code",
      "metadata": {
        "id": "PKU6YXFjAtTn"
      },
      "source": [
        "x= [1044395,600228]\n",
        "cc = ['si','no']\n",
        "plt.bar(cc, x)\n",
        "plt.show()"
      ],
      "execution_count": null,
      "outputs": []
    },
    {
      "cell_type": "markdown",
      "metadata": {
        "id": "cxyZKKH9_H_6"
      },
      "source": [
        "Se puede evidenciar que la variable 'Numero total de hijos' influye en la variable salario. Existe una relacion inversamente proporcional, es decir, entre menos hijos mayor sera el salario."
      ]
    },
    {
      "cell_type": "code",
      "metadata": {
        "id": "oOZAa5AXgZlP"
      },
      "source": [
        "import matplotlib.pyplot as plt \n",
        "\n",
        "x=[Base['horas_normal']]\n",
        "\n",
        "plt.boxplot(x)\n",
        "plt.title(\"Boxplot horas\")\n",
        "plt.show()"
      ],
      "execution_count": null,
      "outputs": []
    },
    {
      "cell_type": "code",
      "metadata": {
        "id": "qWPkVUZhv90L"
      },
      "source": [
        "masculino = Base_total.loc[:, 'sexo'] == 1\n",
        "sum(masculino)"
      ],
      "execution_count": null,
      "outputs": []
    },
    {
      "cell_type": "code",
      "metadata": {
        "id": "g0Sr6DSxDqdc"
      },
      "source": [
        "femenino = Base_total.loc[:, 'sexo'] == 2\n",
        "sum(femenino)"
      ],
      "execution_count": null,
      "outputs": []
    },
    {
      "cell_type": "code",
      "metadata": {
        "id": "PK2mSpouDxho"
      },
      "source": [
        "1206 + 1219"
      ],
      "execution_count": null,
      "outputs": []
    },
    {
      "cell_type": "markdown",
      "metadata": {
        "id": "B51MQygsEi7l"
      },
      "source": [
        "Observamos que para el caso de la variable sexo son mas las mujeres que los hombres. Tenemos un total de 1219 mujeres y 1206 hombres. "
      ]
    },
    {
      "cell_type": "code",
      "metadata": {
        "id": "wEg-IiFvFXMx"
      },
      "source": [
        "df_masculino = Base_total.loc[masculino]\n",
        "df_masculino"
      ],
      "execution_count": null,
      "outputs": []
    },
    {
      "cell_type": "code",
      "metadata": {
        "id": "X3Tz98O6Fqwh"
      },
      "source": [
        "estado_hombres = df_masculino.loc[:, 'estado_civil'] == 1 #UNION LIBRE\n",
        "sum(estado_hombres)"
      ],
      "execution_count": null,
      "outputs": []
    },
    {
      "cell_type": "code",
      "metadata": {
        "id": "qYHUrRNIGkGZ"
      },
      "source": [
        "estado_hombres = df_masculino.loc[:, 'estado_civil'] == 2 #CASADOS\n",
        "sum(estado_hombres)"
      ],
      "execution_count": null,
      "outputs": []
    },
    {
      "cell_type": "code",
      "metadata": {
        "id": "S3bvXOz4GqTN"
      },
      "source": [
        "estado_hombres = df_masculino.loc[:, 'estado_civil'] == 3 #SEPARADOS O DIVORCIADOS\n",
        "sum(estado_hombres)"
      ],
      "execution_count": null,
      "outputs": []
    },
    {
      "cell_type": "code",
      "metadata": {
        "id": "yk_hZRydGyJz"
      },
      "source": [
        "estado_hombres = df_masculino.loc[:, 'estado_civil'] == 4 #VIUDO\n",
        "sum(estado_hombres)"
      ],
      "execution_count": null,
      "outputs": []
    },
    {
      "cell_type": "code",
      "metadata": {
        "id": "Ni9QYz_iG2CI"
      },
      "source": [
        "estado_hombres = df_masculino.loc[:, 'estado_civil'] == 5 #SOLTERO\n",
        "sum(estado_hombres)"
      ],
      "execution_count": null,
      "outputs": []
    },
    {
      "cell_type": "code",
      "metadata": {
        "id": "h8tJ3DJUG50M"
      },
      "source": [
        "60+8+74+531+533"
      ],
      "execution_count": null,
      "outputs": []
    },
    {
      "cell_type": "code",
      "metadata": {
        "id": "djnDexLiHAec"
      },
      "source": [
        "(533/1206)*100 #UNION LIBRE"
      ],
      "execution_count": null,
      "outputs": []
    },
    {
      "cell_type": "code",
      "metadata": {
        "id": "Nus1EJxQHMys"
      },
      "source": [
        "(531/1206)*100 #CASADOS"
      ],
      "execution_count": null,
      "outputs": []
    },
    {
      "cell_type": "code",
      "metadata": {
        "id": "ULuZtSsPHN_0"
      },
      "source": [
        "(74/1206)*100 #SEPARADOS O DIVORCIADOS"
      ],
      "execution_count": null,
      "outputs": []
    },
    {
      "cell_type": "code",
      "metadata": {
        "id": "BLE9Cgd7HRWT"
      },
      "source": [
        "(8/1206)*100 #VIUDOS"
      ],
      "execution_count": null,
      "outputs": []
    },
    {
      "cell_type": "code",
      "metadata": {
        "id": "y6beYQO9HX_M"
      },
      "source": [
        "(60/1206)*100 #SOLTEROS"
      ],
      "execution_count": null,
      "outputs": []
    },
    {
      "cell_type": "code",
      "metadata": {
        "id": "rXrxrhvoJbor"
      },
      "source": [
        "44.02985074626866+44.19568822553897"
      ],
      "execution_count": null,
      "outputs": []
    },
    {
      "cell_type": "code",
      "metadata": {
        "id": "z6xbImlIH8Xh"
      },
      "source": [
        "df_femenino = Base_total.loc[femenino]\n",
        "df_femenino"
      ],
      "execution_count": null,
      "outputs": []
    },
    {
      "cell_type": "code",
      "metadata": {
        "id": "j0ir_NYjHxQb"
      },
      "source": [
        "estado_mujeres = df_femenino.loc[:, 'estado_civil'] == 1 #UNION LIBRE\n",
        "sum(estado_mujeres)"
      ],
      "execution_count": null,
      "outputs": []
    },
    {
      "cell_type": "code",
      "metadata": {
        "id": "2pvLos5sIE_D"
      },
      "source": [
        "estado_mujeres = df_femenino.loc[:, 'estado_civil'] == 2 #CASADAS\n",
        "sum(estado_mujeres)"
      ],
      "execution_count": null,
      "outputs": []
    },
    {
      "cell_type": "code",
      "metadata": {
        "id": "zE1CzKiNIIJg"
      },
      "source": [
        "estado_mujeres = df_femenino.loc[:, 'estado_civil'] == 3 #SEPARADAS O DIVORCIADAS\n",
        "sum(estado_mujeres)"
      ],
      "execution_count": null,
      "outputs": []
    },
    {
      "cell_type": "code",
      "metadata": {
        "id": "epRsSRNrINB8"
      },
      "source": [
        "estado_mujeres = df_femenino.loc[:, 'estado_civil'] == 4 #VIUDAS\n",
        "sum(estado_mujeres)"
      ],
      "execution_count": null,
      "outputs": []
    },
    {
      "cell_type": "code",
      "metadata": {
        "id": "AhpCRYdIIRJG"
      },
      "source": [
        "estado_mujeres = df_femenino.loc[:, 'estado_civil'] == 5 #SOLTERAS\n",
        "sum(estado_mujeres)"
      ],
      "execution_count": null,
      "outputs": []
    },
    {
      "cell_type": "code",
      "metadata": {
        "id": "LDTPcGHUIT00"
      },
      "source": [
        "146+48+314+326+385"
      ],
      "execution_count": null,
      "outputs": []
    },
    {
      "cell_type": "code",
      "metadata": {
        "id": "llcvYQEOIbnM"
      },
      "source": [
        "(385/1219)*100 #UNION LIBRE"
      ],
      "execution_count": null,
      "outputs": []
    },
    {
      "cell_type": "code",
      "metadata": {
        "id": "gM_O6V9wIf7C"
      },
      "source": [
        "(326/1219)*100 #CASADAS"
      ],
      "execution_count": null,
      "outputs": []
    },
    {
      "cell_type": "code",
      "metadata": {
        "id": "1mwNA2CiInHF"
      },
      "source": [
        "(314/1219)*100 #SEPARADAS O DIVORCIADAS"
      ],
      "execution_count": null,
      "outputs": []
    },
    {
      "cell_type": "code",
      "metadata": {
        "id": "vUnGEVBHIp0F"
      },
      "source": [
        "(48/1219)*100 #VIUDAS"
      ],
      "execution_count": null,
      "outputs": []
    },
    {
      "cell_type": "code",
      "metadata": {
        "id": "hANcDaHxIs4y"
      },
      "source": [
        "(146/1219)*100 #SOLTERAS"
      ],
      "execution_count": null,
      "outputs": []
    },
    {
      "cell_type": "code",
      "metadata": {
        "id": "8U9yjGzkJTYJ"
      },
      "source": [
        "26.743232157506153+31.58326497128794"
      ],
      "execution_count": null,
      "outputs": []
    },
    {
      "cell_type": "markdown",
      "metadata": {
        "id": "RqhfyQSNCOKM"
      },
      "source": [
        "Observamos que para el caso de la variable estado civil son más las mujeres solteras con un 11.97% con respecto a los hombres con un 4.92% y se da una mayor porcentaje de hombres casados o en union libre con un 88.22% mucho mayor que para el caso de las mujeres que fue del 58.32%. \n",
        "Asi mismo, el porcentaje de hombres divorciados o separados fue del 6,13% mientras que el de las mujeres fue del 25.75%, mas del doble."
      ]
    },
    {
      "cell_type": "code",
      "metadata": {
        "id": "r0zxwtwvv-md"
      },
      "source": [
        "import statistics as st"
      ],
      "execution_count": null,
      "outputs": []
    },
    {
      "cell_type": "code",
      "metadata": {
        "id": "O7V_Q9yAv-hc"
      },
      "source": [
        "statistics.mean(Base['vr_salario'])"
      ],
      "execution_count": null,
      "outputs": []
    },
    {
      "cell_type": "code",
      "metadata": {
        "id": "Lz2yw7-xv-er"
      },
      "source": [
        " df_masculino['vr_salario'].mean()"
      ],
      "execution_count": null,
      "outputs": []
    },
    {
      "cell_type": "code",
      "metadata": {
        "id": "sSCWIeBkv-bo"
      },
      "source": [
        " df_femenino['vr_salario'].mean()"
      ],
      "execution_count": null,
      "outputs": []
    },
    {
      "cell_type": "code",
      "metadata": {
        "id": "6D7jC3huNQkX"
      },
      "source": [
        "1165649-887765"
      ],
      "execution_count": null,
      "outputs": []
    },
    {
      "cell_type": "markdown",
      "metadata": {
        "id": "pARYbQUKM4ni"
      },
      "source": [
        "Se puede evidenciar que los hombres tienen un salario en promedio de 1.165.649 pesos mientras que las mujeres tienen un salario promedio de 887.765 pesos. Es decir las mujeres ganan 277.884 pesos menos que los hombres en promedio.\n"
      ]
    },
    {
      "cell_type": "code",
      "metadata": {
        "id": "fEss1G81OA9Y"
      },
      "source": [
        "import matplotlib.pyplot as plt\n",
        "import numpy as np"
      ],
      "execution_count": null,
      "outputs": []
    },
    {
      "cell_type": "code",
      "metadata": {
        "id": "lPQhMZAiNhZr"
      },
      "source": [
        "cc = ['HOMBRES', 'MUJERES']\n",
        "data = [1165649.8383084578,887765.7506152584]\n",
        "plt.bar(cc,data)\n",
        "plt.title('GRAFICO SALARIO PROMEDIO POR SEXO')\n",
        "plt.xlabel('SEXO')\n",
        "plt.ylabel('SALARIO PROMEDIO')\n",
        "plt.show()"
      ],
      "execution_count": null,
      "outputs": []
    },
    {
      "cell_type": "code",
      "metadata": {
        "id": "XKhLPJZjM4Vt"
      },
      "source": [
        " df_masculino['vr_salario'].min()"
      ],
      "execution_count": null,
      "outputs": []
    },
    {
      "cell_type": "code",
      "metadata": {
        "id": "ZggQOaCIv-X9"
      },
      "source": [
        "df_masculino['vr_salario'].max()"
      ],
      "execution_count": null,
      "outputs": []
    },
    {
      "cell_type": "code",
      "metadata": {
        "id": "xpYr8Czpv-VV"
      },
      "source": [
        "df_femenino['vr_salario'].min()"
      ],
      "execution_count": null,
      "outputs": []
    },
    {
      "cell_type": "code",
      "metadata": {
        "id": "QvmOWyQnPS6V"
      },
      "source": [
        "df_femenino['vr_salario'].max()"
      ],
      "execution_count": null,
      "outputs": []
    },
    {
      "cell_type": "markdown",
      "metadata": {
        "id": "PkDkjBxGPZqp"
      },
      "source": [
        "El salario minimo presentado por el sexo masculino y femenino fue de 5000 pesos. El salario maximo presentado por el sexo masculino fue de 11.000.000 pesos mientras que para el sexo femenino fue de 9.000.000 pesos."
      ]
    },
    {
      "cell_type": "code",
      "metadata": {
        "id": "UKvvaI3dPZDT"
      },
      "source": [
        "df_femenino['vr_salario'].median()"
      ],
      "execution_count": null,
      "outputs": []
    },
    {
      "cell_type": "code",
      "metadata": {
        "id": "Yb_UNSXOPVH3"
      },
      "source": [
        "df_masculino['vr_salario'].median()"
      ],
      "execution_count": null,
      "outputs": []
    },
    {
      "cell_type": "markdown",
      "metadata": {
        "id": "DPDmtSybP0wB"
      },
      "source": [
        "El 50% de las mujeres tienen un salario menor o igual a 690.000 pesos. En cambio, el 50% de los hombres tienen un salario menor o igual a 890.000 pesos."
      ]
    },
    {
      "cell_type": "code",
      "metadata": {
        "id": "Y4ISKGvXPzmB"
      },
      "source": [
        "np.std(df_femenino['vr_salario'])"
      ],
      "execution_count": null,
      "outputs": []
    },
    {
      "cell_type": "code",
      "metadata": {
        "id": "ypHcV3WcPye5"
      },
      "source": [
        "np.std(df_masculino['vr_salario'])"
      ],
      "execution_count": null,
      "outputs": []
    },
    {
      "cell_type": "markdown",
      "metadata": {
        "id": "BrtzJ7mjSvtr"
      },
      "source": [
        "Los salarios de los hombres se encuentran mas dispersos que los de las mujeres. Es decir, existe mayor diferencia entre los valores de los salarios de un inviduo a otro."
      ]
    },
    {
      "cell_type": "markdown",
      "metadata": {
        "id": "NAJiPfPzBvbO"
      },
      "source": [
        "## Punto 4"
      ]
    },
    {
      "cell_type": "code",
      "metadata": {
        "colab": {
          "base_uri": "https://localhost:8080/",
          "height": 423
        },
        "id": "5OxrbICqBzdI",
        "outputId": "f6c5b1f7-fe55-4bc9-d244-447ad614a83a"
      },
      "source": [
        "Base_total"
      ],
      "execution_count": null,
      "outputs": [
        {
          "output_type": "execute_result",
          "data": {
            "text/html": [
              "<div>\n",
              "<style scoped>\n",
              "    .dataframe tbody tr th:only-of-type {\n",
              "        vertical-align: middle;\n",
              "    }\n",
              "\n",
              "    .dataframe tbody tr th {\n",
              "        vertical-align: top;\n",
              "    }\n",
              "\n",
              "    .dataframe thead th {\n",
              "        text-align: right;\n",
              "    }\n",
              "</style>\n",
              "<table border=\"1\" class=\"dataframe\">\n",
              "  <thead>\n",
              "    <tr style=\"text-align: right;\">\n",
              "      <th></th>\n",
              "      <th>edad</th>\n",
              "      <th>sexo</th>\n",
              "      <th>estado_civil</th>\n",
              "      <th>Total_hijos</th>\n",
              "      <th>tipo_contrato</th>\n",
              "      <th>afiliacion</th>\n",
              "      <th>n_empleados</th>\n",
              "      <th>vr_salario</th>\n",
              "    </tr>\n",
              "  </thead>\n",
              "  <tbody>\n",
              "    <tr>\n",
              "      <th>7</th>\n",
              "      <td>30.0</td>\n",
              "      <td>2.0</td>\n",
              "      <td>1</td>\n",
              "      <td>2</td>\n",
              "      <td>1</td>\n",
              "      <td>1</td>\n",
              "      <td>6</td>\n",
              "      <td>1026000</td>\n",
              "    </tr>\n",
              "    <tr>\n",
              "      <th>9</th>\n",
              "      <td>31.0</td>\n",
              "      <td>1.0</td>\n",
              "      <td>1</td>\n",
              "      <td>0</td>\n",
              "      <td>2</td>\n",
              "      <td>1</td>\n",
              "      <td>6</td>\n",
              "      <td>750000</td>\n",
              "    </tr>\n",
              "    <tr>\n",
              "      <th>17</th>\n",
              "      <td>32.0</td>\n",
              "      <td>1.0</td>\n",
              "      <td>2</td>\n",
              "      <td>0</td>\n",
              "      <td>2</td>\n",
              "      <td>1</td>\n",
              "      <td>6</td>\n",
              "      <td>689000</td>\n",
              "    </tr>\n",
              "    <tr>\n",
              "      <th>18</th>\n",
              "      <td>37.0</td>\n",
              "      <td>1.0</td>\n",
              "      <td>2</td>\n",
              "      <td>0</td>\n",
              "      <td>3</td>\n",
              "      <td>1</td>\n",
              "      <td>2</td>\n",
              "      <td>1500000</td>\n",
              "    </tr>\n",
              "    <tr>\n",
              "      <th>25</th>\n",
              "      <td>59.0</td>\n",
              "      <td>1.0</td>\n",
              "      <td>2</td>\n",
              "      <td>0</td>\n",
              "      <td>3</td>\n",
              "      <td>1</td>\n",
              "      <td>2</td>\n",
              "      <td>700000</td>\n",
              "    </tr>\n",
              "    <tr>\n",
              "      <th>...</th>\n",
              "      <td>...</td>\n",
              "      <td>...</td>\n",
              "      <td>...</td>\n",
              "      <td>...</td>\n",
              "      <td>...</td>\n",
              "      <td>...</td>\n",
              "      <td>...</td>\n",
              "      <td>...</td>\n",
              "    </tr>\n",
              "    <tr>\n",
              "      <th>10808</th>\n",
              "      <td>41.0</td>\n",
              "      <td>1.0</td>\n",
              "      <td>2</td>\n",
              "      <td>0</td>\n",
              "      <td>1</td>\n",
              "      <td>1</td>\n",
              "      <td>6</td>\n",
              "      <td>1600000</td>\n",
              "    </tr>\n",
              "    <tr>\n",
              "      <th>10822</th>\n",
              "      <td>33.0</td>\n",
              "      <td>1.0</td>\n",
              "      <td>1</td>\n",
              "      <td>0</td>\n",
              "      <td>1</td>\n",
              "      <td>1</td>\n",
              "      <td>5</td>\n",
              "      <td>760000</td>\n",
              "    </tr>\n",
              "    <tr>\n",
              "      <th>10823</th>\n",
              "      <td>35.0</td>\n",
              "      <td>2.0</td>\n",
              "      <td>1</td>\n",
              "      <td>2</td>\n",
              "      <td>1</td>\n",
              "      <td>1</td>\n",
              "      <td>5</td>\n",
              "      <td>1600000</td>\n",
              "    </tr>\n",
              "    <tr>\n",
              "      <th>10846</th>\n",
              "      <td>38.0</td>\n",
              "      <td>1.0</td>\n",
              "      <td>1</td>\n",
              "      <td>0</td>\n",
              "      <td>4</td>\n",
              "      <td>1</td>\n",
              "      <td>3</td>\n",
              "      <td>1300000</td>\n",
              "    </tr>\n",
              "    <tr>\n",
              "      <th>10871</th>\n",
              "      <td>36.0</td>\n",
              "      <td>1.0</td>\n",
              "      <td>1</td>\n",
              "      <td>0</td>\n",
              "      <td>4</td>\n",
              "      <td>1</td>\n",
              "      <td>2</td>\n",
              "      <td>680000</td>\n",
              "    </tr>\n",
              "  </tbody>\n",
              "</table>\n",
              "<p>1283 rows × 8 columns</p>\n",
              "</div>"
            ],
            "text/plain": [
              "       edad  sexo  estado_civil  ...  afiliacion  n_empleados  vr_salario\n",
              "7      30.0   2.0             1  ...           1            6     1026000\n",
              "9      31.0   1.0             1  ...           1            6      750000\n",
              "17     32.0   1.0             2  ...           1            6      689000\n",
              "18     37.0   1.0             2  ...           1            2     1500000\n",
              "25     59.0   1.0             2  ...           1            2      700000\n",
              "...     ...   ...           ...  ...         ...          ...         ...\n",
              "10808  41.0   1.0             2  ...           1            6     1600000\n",
              "10822  33.0   1.0             1  ...           1            5      760000\n",
              "10823  35.0   2.0             1  ...           1            5     1600000\n",
              "10846  38.0   1.0             1  ...           1            3     1300000\n",
              "10871  36.0   1.0             1  ...           1            2      680000\n",
              "\n",
              "[1283 rows x 8 columns]"
            ]
          },
          "metadata": {},
          "execution_count": 49
        }
      ]
    },
    {
      "cell_type": "code",
      "metadata": {
        "id": "OiHg3Y0XB15b"
      },
      "source": [
        "import pandas as pd"
      ],
      "execution_count": null,
      "outputs": []
    },
    {
      "cell_type": "code",
      "metadata": {
        "colab": {
          "base_uri": "https://localhost:8080/"
        },
        "id": "-l7HAmWDCaQk",
        "outputId": "098f5815-7005-4752-c330-13975460f022"
      },
      "source": [
        "Base_total.info()"
      ],
      "execution_count": null,
      "outputs": [
        {
          "output_type": "stream",
          "name": "stdout",
          "text": [
            "<class 'pandas.core.frame.DataFrame'>\n",
            "Int64Index: 1283 entries, 7 to 10871\n",
            "Data columns (total 8 columns):\n",
            " #   Column         Non-Null Count  Dtype  \n",
            "---  ------         --------------  -----  \n",
            " 0   edad           1283 non-null   float64\n",
            " 1   sexo           1283 non-null   float64\n",
            " 2   estado_civil   1283 non-null   int64  \n",
            " 3   Total_hijos    1283 non-null   int64  \n",
            " 4   tipo_contrato  1283 non-null   int64  \n",
            " 5   afiliacion     1283 non-null   int64  \n",
            " 6   n_empleados    1283 non-null   int64  \n",
            " 7   vr_salario     1283 non-null   int64  \n",
            "dtypes: float64(2), int64(6)\n",
            "memory usage: 90.2 KB\n"
          ]
        }
      ]
    },
    {
      "cell_type": "code",
      "metadata": {
        "id": "tB0_eas442Zm",
        "colab": {
          "base_uri": "https://localhost:8080/"
        },
        "outputId": "f9d9c5c2-ff33-44ca-a66f-7bb0b1f2f5d9"
      },
      "source": [
        "Base_total[\"Total_hijos\"] ; Base_total[\"n_empleados\"]"
      ],
      "execution_count": null,
      "outputs": [
        {
          "output_type": "execute_result",
          "data": {
            "text/plain": [
              "7        6\n",
              "9        6\n",
              "17       6\n",
              "18       2\n",
              "25       2\n",
              "        ..\n",
              "10808    6\n",
              "10822    5\n",
              "10823    5\n",
              "10846    3\n",
              "10871    2\n",
              "Name: n_empleados, Length: 1283, dtype: int64"
            ]
          },
          "metadata": {},
          "execution_count": 52
        }
      ]
    },
    {
      "cell_type": "code",
      "metadata": {
        "id": "S32aKAIGDweo"
      },
      "source": [
        "est_dummy = pd.get_dummies(Base_total['estado_civil'], prefix = 'estado_civil')\n",
        "# hijos_dummy = pd.get_dummies(Base_total['Total_hijos'], prefix = 'total_hijos')\n",
        "sexo_dummy = pd.get_dummies(Base_total['sexo'], prefix = 'sexo')\n",
        "contrato_dummy = pd.get_dummies(Base_total['tipo_contrato'], prefix = 'tipo_contrato')\n",
        "# empleados_dummy = pd.get_dummies(Base_total['n_empleados'], prefix = 'n_empleados')\n",
        "afiliacion_dummy = pd.get_dummies(Base_total['afiliacion'], prefix = 'afiliacion')"
      ],
      "execution_count": 53,
      "outputs": []
    },
    {
      "cell_type": "code",
      "metadata": {
        "id": "U6qrasGaEOR0"
      },
      "source": [
        "Base_total = pd.concat([Base_total, est_dummy], axis = 1)\n",
        "#Base_total = pd.concat([Base_total, hijos_dummy], axis = 1)\n",
        "Base_total = pd.concat([Base_total, sexo_dummy], axis = 1)\n",
        "Base_total = pd.concat([Base_total, contrato_dummy], axis = 1)\n",
        "#Base_total = pd.concat([Base_total, empleados_dummy], axis = 1)\n",
        "Base_total = pd.concat([Base_total, afiliacion_dummy], axis = 1)"
      ],
      "execution_count": 54,
      "outputs": []
    },
    {
      "cell_type": "code",
      "metadata": {
        "id": "ZOkoXdAQExx1",
        "colab": {
          "base_uri": "https://localhost:8080/",
          "height": 443
        },
        "outputId": "0298931e-02c1-4326-bf57-7bde429d6e0a"
      },
      "source": [
        "Base_total"
      ],
      "execution_count": 55,
      "outputs": [
        {
          "output_type": "execute_result",
          "data": {
            "text/html": [
              "<div>\n",
              "<style scoped>\n",
              "    .dataframe tbody tr th:only-of-type {\n",
              "        vertical-align: middle;\n",
              "    }\n",
              "\n",
              "    .dataframe tbody tr th {\n",
              "        vertical-align: top;\n",
              "    }\n",
              "\n",
              "    .dataframe thead th {\n",
              "        text-align: right;\n",
              "    }\n",
              "</style>\n",
              "<table border=\"1\" class=\"dataframe\">\n",
              "  <thead>\n",
              "    <tr style=\"text-align: right;\">\n",
              "      <th></th>\n",
              "      <th>edad</th>\n",
              "      <th>sexo</th>\n",
              "      <th>estado_civil</th>\n",
              "      <th>Total_hijos</th>\n",
              "      <th>tipo_contrato</th>\n",
              "      <th>afiliacion</th>\n",
              "      <th>n_empleados</th>\n",
              "      <th>vr_salario</th>\n",
              "      <th>estado_civil_1</th>\n",
              "      <th>estado_civil_2</th>\n",
              "      <th>estado_civil_3</th>\n",
              "      <th>estado_civil_4</th>\n",
              "      <th>estado_civil_5</th>\n",
              "      <th>sexo_1.0</th>\n",
              "      <th>sexo_2.0</th>\n",
              "      <th>tipo_contrato_0</th>\n",
              "      <th>tipo_contrato_1</th>\n",
              "      <th>tipo_contrato_2</th>\n",
              "      <th>tipo_contrato_3</th>\n",
              "      <th>tipo_contrato_4</th>\n",
              "      <th>afiliacion_0</th>\n",
              "      <th>afiliacion_1</th>\n",
              "      <th>afiliacion_2</th>\n",
              "    </tr>\n",
              "  </thead>\n",
              "  <tbody>\n",
              "    <tr>\n",
              "      <th>7</th>\n",
              "      <td>30.0</td>\n",
              "      <td>2.0</td>\n",
              "      <td>1</td>\n",
              "      <td>2</td>\n",
              "      <td>1</td>\n",
              "      <td>1</td>\n",
              "      <td>6</td>\n",
              "      <td>1026000</td>\n",
              "      <td>1</td>\n",
              "      <td>0</td>\n",
              "      <td>0</td>\n",
              "      <td>0</td>\n",
              "      <td>0</td>\n",
              "      <td>0</td>\n",
              "      <td>1</td>\n",
              "      <td>0</td>\n",
              "      <td>1</td>\n",
              "      <td>0</td>\n",
              "      <td>0</td>\n",
              "      <td>0</td>\n",
              "      <td>0</td>\n",
              "      <td>1</td>\n",
              "      <td>0</td>\n",
              "    </tr>\n",
              "    <tr>\n",
              "      <th>9</th>\n",
              "      <td>31.0</td>\n",
              "      <td>1.0</td>\n",
              "      <td>1</td>\n",
              "      <td>0</td>\n",
              "      <td>2</td>\n",
              "      <td>1</td>\n",
              "      <td>6</td>\n",
              "      <td>750000</td>\n",
              "      <td>1</td>\n",
              "      <td>0</td>\n",
              "      <td>0</td>\n",
              "      <td>0</td>\n",
              "      <td>0</td>\n",
              "      <td>1</td>\n",
              "      <td>0</td>\n",
              "      <td>0</td>\n",
              "      <td>0</td>\n",
              "      <td>1</td>\n",
              "      <td>0</td>\n",
              "      <td>0</td>\n",
              "      <td>0</td>\n",
              "      <td>1</td>\n",
              "      <td>0</td>\n",
              "    </tr>\n",
              "    <tr>\n",
              "      <th>17</th>\n",
              "      <td>32.0</td>\n",
              "      <td>1.0</td>\n",
              "      <td>2</td>\n",
              "      <td>0</td>\n",
              "      <td>2</td>\n",
              "      <td>1</td>\n",
              "      <td>6</td>\n",
              "      <td>689000</td>\n",
              "      <td>0</td>\n",
              "      <td>1</td>\n",
              "      <td>0</td>\n",
              "      <td>0</td>\n",
              "      <td>0</td>\n",
              "      <td>1</td>\n",
              "      <td>0</td>\n",
              "      <td>0</td>\n",
              "      <td>0</td>\n",
              "      <td>1</td>\n",
              "      <td>0</td>\n",
              "      <td>0</td>\n",
              "      <td>0</td>\n",
              "      <td>1</td>\n",
              "      <td>0</td>\n",
              "    </tr>\n",
              "    <tr>\n",
              "      <th>18</th>\n",
              "      <td>37.0</td>\n",
              "      <td>1.0</td>\n",
              "      <td>2</td>\n",
              "      <td>0</td>\n",
              "      <td>3</td>\n",
              "      <td>1</td>\n",
              "      <td>2</td>\n",
              "      <td>1500000</td>\n",
              "      <td>0</td>\n",
              "      <td>1</td>\n",
              "      <td>0</td>\n",
              "      <td>0</td>\n",
              "      <td>0</td>\n",
              "      <td>1</td>\n",
              "      <td>0</td>\n",
              "      <td>0</td>\n",
              "      <td>0</td>\n",
              "      <td>0</td>\n",
              "      <td>1</td>\n",
              "      <td>0</td>\n",
              "      <td>0</td>\n",
              "      <td>1</td>\n",
              "      <td>0</td>\n",
              "    </tr>\n",
              "    <tr>\n",
              "      <th>25</th>\n",
              "      <td>59.0</td>\n",
              "      <td>1.0</td>\n",
              "      <td>2</td>\n",
              "      <td>0</td>\n",
              "      <td>3</td>\n",
              "      <td>1</td>\n",
              "      <td>2</td>\n",
              "      <td>700000</td>\n",
              "      <td>0</td>\n",
              "      <td>1</td>\n",
              "      <td>0</td>\n",
              "      <td>0</td>\n",
              "      <td>0</td>\n",
              "      <td>1</td>\n",
              "      <td>0</td>\n",
              "      <td>0</td>\n",
              "      <td>0</td>\n",
              "      <td>0</td>\n",
              "      <td>1</td>\n",
              "      <td>0</td>\n",
              "      <td>0</td>\n",
              "      <td>1</td>\n",
              "      <td>0</td>\n",
              "    </tr>\n",
              "    <tr>\n",
              "      <th>...</th>\n",
              "      <td>...</td>\n",
              "      <td>...</td>\n",
              "      <td>...</td>\n",
              "      <td>...</td>\n",
              "      <td>...</td>\n",
              "      <td>...</td>\n",
              "      <td>...</td>\n",
              "      <td>...</td>\n",
              "      <td>...</td>\n",
              "      <td>...</td>\n",
              "      <td>...</td>\n",
              "      <td>...</td>\n",
              "      <td>...</td>\n",
              "      <td>...</td>\n",
              "      <td>...</td>\n",
              "      <td>...</td>\n",
              "      <td>...</td>\n",
              "      <td>...</td>\n",
              "      <td>...</td>\n",
              "      <td>...</td>\n",
              "      <td>...</td>\n",
              "      <td>...</td>\n",
              "      <td>...</td>\n",
              "    </tr>\n",
              "    <tr>\n",
              "      <th>10808</th>\n",
              "      <td>41.0</td>\n",
              "      <td>1.0</td>\n",
              "      <td>2</td>\n",
              "      <td>0</td>\n",
              "      <td>1</td>\n",
              "      <td>1</td>\n",
              "      <td>6</td>\n",
              "      <td>1600000</td>\n",
              "      <td>0</td>\n",
              "      <td>1</td>\n",
              "      <td>0</td>\n",
              "      <td>0</td>\n",
              "      <td>0</td>\n",
              "      <td>1</td>\n",
              "      <td>0</td>\n",
              "      <td>0</td>\n",
              "      <td>1</td>\n",
              "      <td>0</td>\n",
              "      <td>0</td>\n",
              "      <td>0</td>\n",
              "      <td>0</td>\n",
              "      <td>1</td>\n",
              "      <td>0</td>\n",
              "    </tr>\n",
              "    <tr>\n",
              "      <th>10822</th>\n",
              "      <td>33.0</td>\n",
              "      <td>1.0</td>\n",
              "      <td>1</td>\n",
              "      <td>0</td>\n",
              "      <td>1</td>\n",
              "      <td>1</td>\n",
              "      <td>5</td>\n",
              "      <td>760000</td>\n",
              "      <td>1</td>\n",
              "      <td>0</td>\n",
              "      <td>0</td>\n",
              "      <td>0</td>\n",
              "      <td>0</td>\n",
              "      <td>1</td>\n",
              "      <td>0</td>\n",
              "      <td>0</td>\n",
              "      <td>1</td>\n",
              "      <td>0</td>\n",
              "      <td>0</td>\n",
              "      <td>0</td>\n",
              "      <td>0</td>\n",
              "      <td>1</td>\n",
              "      <td>0</td>\n",
              "    </tr>\n",
              "    <tr>\n",
              "      <th>10823</th>\n",
              "      <td>35.0</td>\n",
              "      <td>2.0</td>\n",
              "      <td>1</td>\n",
              "      <td>2</td>\n",
              "      <td>1</td>\n",
              "      <td>1</td>\n",
              "      <td>5</td>\n",
              "      <td>1600000</td>\n",
              "      <td>1</td>\n",
              "      <td>0</td>\n",
              "      <td>0</td>\n",
              "      <td>0</td>\n",
              "      <td>0</td>\n",
              "      <td>0</td>\n",
              "      <td>1</td>\n",
              "      <td>0</td>\n",
              "      <td>1</td>\n",
              "      <td>0</td>\n",
              "      <td>0</td>\n",
              "      <td>0</td>\n",
              "      <td>0</td>\n",
              "      <td>1</td>\n",
              "      <td>0</td>\n",
              "    </tr>\n",
              "    <tr>\n",
              "      <th>10846</th>\n",
              "      <td>38.0</td>\n",
              "      <td>1.0</td>\n",
              "      <td>1</td>\n",
              "      <td>0</td>\n",
              "      <td>4</td>\n",
              "      <td>1</td>\n",
              "      <td>3</td>\n",
              "      <td>1300000</td>\n",
              "      <td>1</td>\n",
              "      <td>0</td>\n",
              "      <td>0</td>\n",
              "      <td>0</td>\n",
              "      <td>0</td>\n",
              "      <td>1</td>\n",
              "      <td>0</td>\n",
              "      <td>0</td>\n",
              "      <td>0</td>\n",
              "      <td>0</td>\n",
              "      <td>0</td>\n",
              "      <td>1</td>\n",
              "      <td>0</td>\n",
              "      <td>1</td>\n",
              "      <td>0</td>\n",
              "    </tr>\n",
              "    <tr>\n",
              "      <th>10871</th>\n",
              "      <td>36.0</td>\n",
              "      <td>1.0</td>\n",
              "      <td>1</td>\n",
              "      <td>0</td>\n",
              "      <td>4</td>\n",
              "      <td>1</td>\n",
              "      <td>2</td>\n",
              "      <td>680000</td>\n",
              "      <td>1</td>\n",
              "      <td>0</td>\n",
              "      <td>0</td>\n",
              "      <td>0</td>\n",
              "      <td>0</td>\n",
              "      <td>1</td>\n",
              "      <td>0</td>\n",
              "      <td>0</td>\n",
              "      <td>0</td>\n",
              "      <td>0</td>\n",
              "      <td>0</td>\n",
              "      <td>1</td>\n",
              "      <td>0</td>\n",
              "      <td>1</td>\n",
              "      <td>0</td>\n",
              "    </tr>\n",
              "  </tbody>\n",
              "</table>\n",
              "<p>1283 rows × 23 columns</p>\n",
              "</div>"
            ],
            "text/plain": [
              "       edad  sexo  estado_civil  ...  afiliacion_0  afiliacion_1  afiliacion_2\n",
              "7      30.0   2.0             1  ...             0             1             0\n",
              "9      31.0   1.0             1  ...             0             1             0\n",
              "17     32.0   1.0             2  ...             0             1             0\n",
              "18     37.0   1.0             2  ...             0             1             0\n",
              "25     59.0   1.0             2  ...             0             1             0\n",
              "...     ...   ...           ...  ...           ...           ...           ...\n",
              "10808  41.0   1.0             2  ...             0             1             0\n",
              "10822  33.0   1.0             1  ...             0             1             0\n",
              "10823  35.0   2.0             1  ...             0             1             0\n",
              "10846  38.0   1.0             1  ...             0             1             0\n",
              "10871  36.0   1.0             1  ...             0             1             0\n",
              "\n",
              "[1283 rows x 23 columns]"
            ]
          },
          "metadata": {},
          "execution_count": 55
        }
      ]
    },
    {
      "cell_type": "code",
      "metadata": {
        "id": "h-Jf1IkBE27V"
      },
      "source": [
        "Base_total_dummies = Base_total.drop(['sexo','estado_civil','tipo_contrato','afiliacion'], axis = 1)"
      ],
      "execution_count": 56,
      "outputs": []
    },
    {
      "cell_type": "code",
      "metadata": {
        "id": "b2tL0psN61vs",
        "colab": {
          "base_uri": "https://localhost:8080/",
          "height": 443
        },
        "outputId": "be0e458b-c4dc-448f-88fd-5b5d05fbe00b"
      },
      "source": [
        " Base_total_dummies"
      ],
      "execution_count": 57,
      "outputs": [
        {
          "output_type": "execute_result",
          "data": {
            "text/html": [
              "<div>\n",
              "<style scoped>\n",
              "    .dataframe tbody tr th:only-of-type {\n",
              "        vertical-align: middle;\n",
              "    }\n",
              "\n",
              "    .dataframe tbody tr th {\n",
              "        vertical-align: top;\n",
              "    }\n",
              "\n",
              "    .dataframe thead th {\n",
              "        text-align: right;\n",
              "    }\n",
              "</style>\n",
              "<table border=\"1\" class=\"dataframe\">\n",
              "  <thead>\n",
              "    <tr style=\"text-align: right;\">\n",
              "      <th></th>\n",
              "      <th>edad</th>\n",
              "      <th>Total_hijos</th>\n",
              "      <th>n_empleados</th>\n",
              "      <th>vr_salario</th>\n",
              "      <th>estado_civil_1</th>\n",
              "      <th>estado_civil_2</th>\n",
              "      <th>estado_civil_3</th>\n",
              "      <th>estado_civil_4</th>\n",
              "      <th>estado_civil_5</th>\n",
              "      <th>sexo_1.0</th>\n",
              "      <th>sexo_2.0</th>\n",
              "      <th>tipo_contrato_0</th>\n",
              "      <th>tipo_contrato_1</th>\n",
              "      <th>tipo_contrato_2</th>\n",
              "      <th>tipo_contrato_3</th>\n",
              "      <th>tipo_contrato_4</th>\n",
              "      <th>afiliacion_0</th>\n",
              "      <th>afiliacion_1</th>\n",
              "      <th>afiliacion_2</th>\n",
              "    </tr>\n",
              "  </thead>\n",
              "  <tbody>\n",
              "    <tr>\n",
              "      <th>7</th>\n",
              "      <td>30.0</td>\n",
              "      <td>2</td>\n",
              "      <td>6</td>\n",
              "      <td>1026000</td>\n",
              "      <td>1</td>\n",
              "      <td>0</td>\n",
              "      <td>0</td>\n",
              "      <td>0</td>\n",
              "      <td>0</td>\n",
              "      <td>0</td>\n",
              "      <td>1</td>\n",
              "      <td>0</td>\n",
              "      <td>1</td>\n",
              "      <td>0</td>\n",
              "      <td>0</td>\n",
              "      <td>0</td>\n",
              "      <td>0</td>\n",
              "      <td>1</td>\n",
              "      <td>0</td>\n",
              "    </tr>\n",
              "    <tr>\n",
              "      <th>9</th>\n",
              "      <td>31.0</td>\n",
              "      <td>0</td>\n",
              "      <td>6</td>\n",
              "      <td>750000</td>\n",
              "      <td>1</td>\n",
              "      <td>0</td>\n",
              "      <td>0</td>\n",
              "      <td>0</td>\n",
              "      <td>0</td>\n",
              "      <td>1</td>\n",
              "      <td>0</td>\n",
              "      <td>0</td>\n",
              "      <td>0</td>\n",
              "      <td>1</td>\n",
              "      <td>0</td>\n",
              "      <td>0</td>\n",
              "      <td>0</td>\n",
              "      <td>1</td>\n",
              "      <td>0</td>\n",
              "    </tr>\n",
              "    <tr>\n",
              "      <th>17</th>\n",
              "      <td>32.0</td>\n",
              "      <td>0</td>\n",
              "      <td>6</td>\n",
              "      <td>689000</td>\n",
              "      <td>0</td>\n",
              "      <td>1</td>\n",
              "      <td>0</td>\n",
              "      <td>0</td>\n",
              "      <td>0</td>\n",
              "      <td>1</td>\n",
              "      <td>0</td>\n",
              "      <td>0</td>\n",
              "      <td>0</td>\n",
              "      <td>1</td>\n",
              "      <td>0</td>\n",
              "      <td>0</td>\n",
              "      <td>0</td>\n",
              "      <td>1</td>\n",
              "      <td>0</td>\n",
              "    </tr>\n",
              "    <tr>\n",
              "      <th>18</th>\n",
              "      <td>37.0</td>\n",
              "      <td>0</td>\n",
              "      <td>2</td>\n",
              "      <td>1500000</td>\n",
              "      <td>0</td>\n",
              "      <td>1</td>\n",
              "      <td>0</td>\n",
              "      <td>0</td>\n",
              "      <td>0</td>\n",
              "      <td>1</td>\n",
              "      <td>0</td>\n",
              "      <td>0</td>\n",
              "      <td>0</td>\n",
              "      <td>0</td>\n",
              "      <td>1</td>\n",
              "      <td>0</td>\n",
              "      <td>0</td>\n",
              "      <td>1</td>\n",
              "      <td>0</td>\n",
              "    </tr>\n",
              "    <tr>\n",
              "      <th>25</th>\n",
              "      <td>59.0</td>\n",
              "      <td>0</td>\n",
              "      <td>2</td>\n",
              "      <td>700000</td>\n",
              "      <td>0</td>\n",
              "      <td>1</td>\n",
              "      <td>0</td>\n",
              "      <td>0</td>\n",
              "      <td>0</td>\n",
              "      <td>1</td>\n",
              "      <td>0</td>\n",
              "      <td>0</td>\n",
              "      <td>0</td>\n",
              "      <td>0</td>\n",
              "      <td>1</td>\n",
              "      <td>0</td>\n",
              "      <td>0</td>\n",
              "      <td>1</td>\n",
              "      <td>0</td>\n",
              "    </tr>\n",
              "    <tr>\n",
              "      <th>...</th>\n",
              "      <td>...</td>\n",
              "      <td>...</td>\n",
              "      <td>...</td>\n",
              "      <td>...</td>\n",
              "      <td>...</td>\n",
              "      <td>...</td>\n",
              "      <td>...</td>\n",
              "      <td>...</td>\n",
              "      <td>...</td>\n",
              "      <td>...</td>\n",
              "      <td>...</td>\n",
              "      <td>...</td>\n",
              "      <td>...</td>\n",
              "      <td>...</td>\n",
              "      <td>...</td>\n",
              "      <td>...</td>\n",
              "      <td>...</td>\n",
              "      <td>...</td>\n",
              "      <td>...</td>\n",
              "    </tr>\n",
              "    <tr>\n",
              "      <th>10808</th>\n",
              "      <td>41.0</td>\n",
              "      <td>0</td>\n",
              "      <td>6</td>\n",
              "      <td>1600000</td>\n",
              "      <td>0</td>\n",
              "      <td>1</td>\n",
              "      <td>0</td>\n",
              "      <td>0</td>\n",
              "      <td>0</td>\n",
              "      <td>1</td>\n",
              "      <td>0</td>\n",
              "      <td>0</td>\n",
              "      <td>1</td>\n",
              "      <td>0</td>\n",
              "      <td>0</td>\n",
              "      <td>0</td>\n",
              "      <td>0</td>\n",
              "      <td>1</td>\n",
              "      <td>0</td>\n",
              "    </tr>\n",
              "    <tr>\n",
              "      <th>10822</th>\n",
              "      <td>33.0</td>\n",
              "      <td>0</td>\n",
              "      <td>5</td>\n",
              "      <td>760000</td>\n",
              "      <td>1</td>\n",
              "      <td>0</td>\n",
              "      <td>0</td>\n",
              "      <td>0</td>\n",
              "      <td>0</td>\n",
              "      <td>1</td>\n",
              "      <td>0</td>\n",
              "      <td>0</td>\n",
              "      <td>1</td>\n",
              "      <td>0</td>\n",
              "      <td>0</td>\n",
              "      <td>0</td>\n",
              "      <td>0</td>\n",
              "      <td>1</td>\n",
              "      <td>0</td>\n",
              "    </tr>\n",
              "    <tr>\n",
              "      <th>10823</th>\n",
              "      <td>35.0</td>\n",
              "      <td>2</td>\n",
              "      <td>5</td>\n",
              "      <td>1600000</td>\n",
              "      <td>1</td>\n",
              "      <td>0</td>\n",
              "      <td>0</td>\n",
              "      <td>0</td>\n",
              "      <td>0</td>\n",
              "      <td>0</td>\n",
              "      <td>1</td>\n",
              "      <td>0</td>\n",
              "      <td>1</td>\n",
              "      <td>0</td>\n",
              "      <td>0</td>\n",
              "      <td>0</td>\n",
              "      <td>0</td>\n",
              "      <td>1</td>\n",
              "      <td>0</td>\n",
              "    </tr>\n",
              "    <tr>\n",
              "      <th>10846</th>\n",
              "      <td>38.0</td>\n",
              "      <td>0</td>\n",
              "      <td>3</td>\n",
              "      <td>1300000</td>\n",
              "      <td>1</td>\n",
              "      <td>0</td>\n",
              "      <td>0</td>\n",
              "      <td>0</td>\n",
              "      <td>0</td>\n",
              "      <td>1</td>\n",
              "      <td>0</td>\n",
              "      <td>0</td>\n",
              "      <td>0</td>\n",
              "      <td>0</td>\n",
              "      <td>0</td>\n",
              "      <td>1</td>\n",
              "      <td>0</td>\n",
              "      <td>1</td>\n",
              "      <td>0</td>\n",
              "    </tr>\n",
              "    <tr>\n",
              "      <th>10871</th>\n",
              "      <td>36.0</td>\n",
              "      <td>0</td>\n",
              "      <td>2</td>\n",
              "      <td>680000</td>\n",
              "      <td>1</td>\n",
              "      <td>0</td>\n",
              "      <td>0</td>\n",
              "      <td>0</td>\n",
              "      <td>0</td>\n",
              "      <td>1</td>\n",
              "      <td>0</td>\n",
              "      <td>0</td>\n",
              "      <td>0</td>\n",
              "      <td>0</td>\n",
              "      <td>0</td>\n",
              "      <td>1</td>\n",
              "      <td>0</td>\n",
              "      <td>1</td>\n",
              "      <td>0</td>\n",
              "    </tr>\n",
              "  </tbody>\n",
              "</table>\n",
              "<p>1283 rows × 19 columns</p>\n",
              "</div>"
            ],
            "text/plain": [
              "       edad  Total_hijos  n_empleados  ...  afiliacion_0  afiliacion_1  afiliacion_2\n",
              "7      30.0            2            6  ...             0             1             0\n",
              "9      31.0            0            6  ...             0             1             0\n",
              "17     32.0            0            6  ...             0             1             0\n",
              "18     37.0            0            2  ...             0             1             0\n",
              "25     59.0            0            2  ...             0             1             0\n",
              "...     ...          ...          ...  ...           ...           ...           ...\n",
              "10808  41.0            0            6  ...             0             1             0\n",
              "10822  33.0            0            5  ...             0             1             0\n",
              "10823  35.0            2            5  ...             0             1             0\n",
              "10846  38.0            0            3  ...             0             1             0\n",
              "10871  36.0            0            2  ...             0             1             0\n",
              "\n",
              "[1283 rows x 19 columns]"
            ]
          },
          "metadata": {},
          "execution_count": 57
        }
      ]
    },
    {
      "cell_type": "code",
      "metadata": {
        "id": "F5ApFIPSCLqz",
        "colab": {
          "base_uri": "https://localhost:8080/"
        },
        "outputId": "d8cd3bb5-9944-4195-f1b3-9ea8ec227fba"
      },
      "source": [
        "Base_total_dummies.isna().sum()"
      ],
      "execution_count": 58,
      "outputs": [
        {
          "output_type": "execute_result",
          "data": {
            "text/plain": [
              "edad               0\n",
              "Total_hijos        0\n",
              "n_empleados        0\n",
              "vr_salario         0\n",
              "estado_civil_1     0\n",
              "estado_civil_2     0\n",
              "estado_civil_3     0\n",
              "estado_civil_4     0\n",
              "estado_civil_5     0\n",
              "sexo_1.0           0\n",
              "sexo_2.0           0\n",
              "tipo_contrato_0    0\n",
              "tipo_contrato_1    0\n",
              "tipo_contrato_2    0\n",
              "tipo_contrato_3    0\n",
              "tipo_contrato_4    0\n",
              "afiliacion_0       0\n",
              "afiliacion_1       0\n",
              "afiliacion_2       0\n",
              "dtype: int64"
            ]
          },
          "metadata": {},
          "execution_count": 58
        }
      ]
    },
    {
      "cell_type": "code",
      "metadata": {
        "id": "ucJQ3iSuG4I2"
      },
      "source": [
        "#APLICACION LOGARITMO\n",
        "import pandas as pd\n",
        "Base_total_dummies['vr_salario'] = pd.DataFrame(np.log(Base_total_dummies['vr_salario']))"
      ],
      "execution_count": 59,
      "outputs": []
    },
    {
      "cell_type": "markdown",
      "metadata": {
        "id": "jHMSF7mtdL1n"
      },
      "source": [
        "## Punto 5"
      ]
    },
    {
      "cell_type": "code",
      "metadata": {
        "id": "EOrXv94mdRGv"
      },
      "source": [
        "from sklearn.linear_model import LinearRegression\n",
        "from sklearn.metrics import mean_squared_error, r2_score, mean_absolute_error\n",
        "from sklearn.model_selection import train_test_split"
      ],
      "execution_count": 60,
      "outputs": []
    },
    {
      "cell_type": "code",
      "metadata": {
        "id": "4Bf1PTKndpVK",
        "colab": {
          "base_uri": "https://localhost:8080/",
          "height": 226
        },
        "outputId": "355ca867-17a1-4d39-fe8f-7ece71c4a1b6"
      },
      "source": [
        "Data = Base_total_dummies ; Data.head()"
      ],
      "execution_count": 199,
      "outputs": [
        {
          "output_type": "execute_result",
          "data": {
            "text/html": [
              "<div>\n",
              "<style scoped>\n",
              "    .dataframe tbody tr th:only-of-type {\n",
              "        vertical-align: middle;\n",
              "    }\n",
              "\n",
              "    .dataframe tbody tr th {\n",
              "        vertical-align: top;\n",
              "    }\n",
              "\n",
              "    .dataframe thead th {\n",
              "        text-align: right;\n",
              "    }\n",
              "</style>\n",
              "<table border=\"1\" class=\"dataframe\">\n",
              "  <thead>\n",
              "    <tr style=\"text-align: right;\">\n",
              "      <th></th>\n",
              "      <th>edad</th>\n",
              "      <th>Total_hijos</th>\n",
              "      <th>n_empleados</th>\n",
              "      <th>vr_salario</th>\n",
              "      <th>estado_civil_1</th>\n",
              "      <th>estado_civil_2</th>\n",
              "      <th>estado_civil_3</th>\n",
              "      <th>estado_civil_4</th>\n",
              "      <th>estado_civil_5</th>\n",
              "      <th>sexo_1.0</th>\n",
              "      <th>sexo_2.0</th>\n",
              "      <th>tipo_contrato_0</th>\n",
              "      <th>tipo_contrato_1</th>\n",
              "      <th>tipo_contrato_2</th>\n",
              "      <th>tipo_contrato_3</th>\n",
              "      <th>tipo_contrato_4</th>\n",
              "      <th>afiliacion_0</th>\n",
              "      <th>afiliacion_1</th>\n",
              "      <th>afiliacion_2</th>\n",
              "    </tr>\n",
              "  </thead>\n",
              "  <tbody>\n",
              "    <tr>\n",
              "      <th>7</th>\n",
              "      <td>30.0</td>\n",
              "      <td>2</td>\n",
              "      <td>6</td>\n",
              "      <td>13.841178</td>\n",
              "      <td>1</td>\n",
              "      <td>0</td>\n",
              "      <td>0</td>\n",
              "      <td>0</td>\n",
              "      <td>0</td>\n",
              "      <td>0</td>\n",
              "      <td>1</td>\n",
              "      <td>0</td>\n",
              "      <td>1</td>\n",
              "      <td>0</td>\n",
              "      <td>0</td>\n",
              "      <td>0</td>\n",
              "      <td>0</td>\n",
              "      <td>1</td>\n",
              "      <td>0</td>\n",
              "    </tr>\n",
              "    <tr>\n",
              "      <th>9</th>\n",
              "      <td>31.0</td>\n",
              "      <td>0</td>\n",
              "      <td>6</td>\n",
              "      <td>13.527828</td>\n",
              "      <td>1</td>\n",
              "      <td>0</td>\n",
              "      <td>0</td>\n",
              "      <td>0</td>\n",
              "      <td>0</td>\n",
              "      <td>1</td>\n",
              "      <td>0</td>\n",
              "      <td>0</td>\n",
              "      <td>0</td>\n",
              "      <td>1</td>\n",
              "      <td>0</td>\n",
              "      <td>0</td>\n",
              "      <td>0</td>\n",
              "      <td>1</td>\n",
              "      <td>0</td>\n",
              "    </tr>\n",
              "    <tr>\n",
              "      <th>17</th>\n",
              "      <td>32.0</td>\n",
              "      <td>0</td>\n",
              "      <td>6</td>\n",
              "      <td>13.442997</td>\n",
              "      <td>0</td>\n",
              "      <td>1</td>\n",
              "      <td>0</td>\n",
              "      <td>0</td>\n",
              "      <td>0</td>\n",
              "      <td>1</td>\n",
              "      <td>0</td>\n",
              "      <td>0</td>\n",
              "      <td>0</td>\n",
              "      <td>1</td>\n",
              "      <td>0</td>\n",
              "      <td>0</td>\n",
              "      <td>0</td>\n",
              "      <td>1</td>\n",
              "      <td>0</td>\n",
              "    </tr>\n",
              "    <tr>\n",
              "      <th>18</th>\n",
              "      <td>37.0</td>\n",
              "      <td>0</td>\n",
              "      <td>2</td>\n",
              "      <td>14.220976</td>\n",
              "      <td>0</td>\n",
              "      <td>1</td>\n",
              "      <td>0</td>\n",
              "      <td>0</td>\n",
              "      <td>0</td>\n",
              "      <td>1</td>\n",
              "      <td>0</td>\n",
              "      <td>0</td>\n",
              "      <td>0</td>\n",
              "      <td>0</td>\n",
              "      <td>1</td>\n",
              "      <td>0</td>\n",
              "      <td>0</td>\n",
              "      <td>1</td>\n",
              "      <td>0</td>\n",
              "    </tr>\n",
              "    <tr>\n",
              "      <th>25</th>\n",
              "      <td>59.0</td>\n",
              "      <td>0</td>\n",
              "      <td>2</td>\n",
              "      <td>13.458836</td>\n",
              "      <td>0</td>\n",
              "      <td>1</td>\n",
              "      <td>0</td>\n",
              "      <td>0</td>\n",
              "      <td>0</td>\n",
              "      <td>1</td>\n",
              "      <td>0</td>\n",
              "      <td>0</td>\n",
              "      <td>0</td>\n",
              "      <td>0</td>\n",
              "      <td>1</td>\n",
              "      <td>0</td>\n",
              "      <td>0</td>\n",
              "      <td>1</td>\n",
              "      <td>0</td>\n",
              "    </tr>\n",
              "  </tbody>\n",
              "</table>\n",
              "</div>"
            ],
            "text/plain": [
              "    edad  Total_hijos  n_empleados  ...  afiliacion_0  afiliacion_1  afiliacion_2\n",
              "7   30.0            2            6  ...             0             1             0\n",
              "9   31.0            0            6  ...             0             1             0\n",
              "17  32.0            0            6  ...             0             1             0\n",
              "18  37.0            0            2  ...             0             1             0\n",
              "25  59.0            0            2  ...             0             1             0\n",
              "\n",
              "[5 rows x 19 columns]"
            ]
          },
          "metadata": {},
          "execution_count": 199
        }
      ]
    },
    {
      "cell_type": "code",
      "metadata": {
        "id": "rKYpenbreDuk"
      },
      "source": [
        "Datos_90, Datos_10 = train_test_split(Data,test_size = .1, random_state = 105)"
      ],
      "execution_count": 228,
      "outputs": []
    },
    {
      "cell_type": "code",
      "metadata": {
        "id": "_-jRZSpceDOB",
        "colab": {
          "base_uri": "https://localhost:8080/"
        },
        "outputId": "f9970579-6e14-4fd9-8b91-d4db215c1f6a"
      },
      "source": [
        "Datos_90.shape , Datos_10.shape , Data.shape"
      ],
      "execution_count": 229,
      "outputs": [
        {
          "output_type": "execute_result",
          "data": {
            "text/plain": [
              "((1154, 19), (129, 19), (1283, 19))"
            ]
          },
          "metadata": {},
          "execution_count": 229
        }
      ]
    },
    {
      "cell_type": "markdown",
      "metadata": {
        "id": "m7hTP9Zwe8RB"
      },
      "source": [
        "## Punto 6"
      ]
    },
    {
      "cell_type": "code",
      "metadata": {
        "id": "y0Ub5_M6fx59",
        "colab": {
          "base_uri": "https://localhost:8080/"
        },
        "outputId": "6280b091-5cb0-462a-bcc3-f91e7578c9a7"
      },
      "source": [
        "Datos_90.columns"
      ],
      "execution_count": 230,
      "outputs": [
        {
          "output_type": "execute_result",
          "data": {
            "text/plain": [
              "Index(['edad', 'Total_hijos', 'n_empleados', 'vr_salario', 'estado_civil_1',\n",
              "       'estado_civil_2', 'estado_civil_3', 'estado_civil_4', 'estado_civil_5',\n",
              "       'sexo_1.0', 'sexo_2.0', 'tipo_contrato_0', 'tipo_contrato_1',\n",
              "       'tipo_contrato_2', 'tipo_contrato_3', 'tipo_contrato_4', 'afiliacion_0',\n",
              "       'afiliacion_1', 'afiliacion_2'],\n",
              "      dtype='object')"
            ]
          },
          "metadata": {},
          "execution_count": 230
        }
      ]
    },
    {
      "cell_type": "code",
      "metadata": {
        "id": "wcuI6_iXfAS9",
        "colab": {
          "base_uri": "https://localhost:8080/"
        },
        "outputId": "6b03053d-dc01-4475-a603-bcdaa8f55e89"
      },
      "source": [
        "salario = Datos_90[\"vr_salario\"] ; salario.head()"
      ],
      "execution_count": 231,
      "outputs": [
        {
          "output_type": "execute_result",
          "data": {
            "text/plain": [
              "6380    11.695247\n",
              "3580    13.384728\n",
              "3878    14.508658\n",
              "8320    13.997832\n",
              "7898    11.918391\n",
              "Name: vr_salario, dtype: float64"
            ]
          },
          "metadata": {},
          "execution_count": 231
        }
      ]
    },
    {
      "cell_type": "code",
      "metadata": {
        "id": "2mx6-BMJfgLp",
        "colab": {
          "base_uri": "https://localhost:8080/",
          "height": 572
        },
        "outputId": "56b62729-c9d6-46ea-fb89-2800d9674adf"
      },
      "source": [
        "Explicativas = Datos_90\n",
        "del Datos_90[\"vr_salario\"]"
      ],
      "execution_count": 233,
      "outputs": [
        {
          "output_type": "error",
          "ename": "KeyError",
          "evalue": "ignored",
          "traceback": [
            "\u001b[0;31m---------------------------------------------------------------------------\u001b[0m",
            "\u001b[0;31mKeyError\u001b[0m                                  Traceback (most recent call last)",
            "\u001b[0;32m/usr/local/lib/python3.7/dist-packages/pandas/core/indexes/base.py\u001b[0m in \u001b[0;36mget_loc\u001b[0;34m(self, key, method, tolerance)\u001b[0m\n\u001b[1;32m   2897\u001b[0m             \u001b[0;32mtry\u001b[0m\u001b[0;34m:\u001b[0m\u001b[0;34m\u001b[0m\u001b[0;34m\u001b[0m\u001b[0m\n\u001b[0;32m-> 2898\u001b[0;31m                 \u001b[0;32mreturn\u001b[0m \u001b[0mself\u001b[0m\u001b[0;34m.\u001b[0m\u001b[0m_engine\u001b[0m\u001b[0;34m.\u001b[0m\u001b[0mget_loc\u001b[0m\u001b[0;34m(\u001b[0m\u001b[0mcasted_key\u001b[0m\u001b[0;34m)\u001b[0m\u001b[0;34m\u001b[0m\u001b[0;34m\u001b[0m\u001b[0m\n\u001b[0m\u001b[1;32m   2899\u001b[0m             \u001b[0;32mexcept\u001b[0m \u001b[0mKeyError\u001b[0m \u001b[0;32mas\u001b[0m \u001b[0merr\u001b[0m\u001b[0;34m:\u001b[0m\u001b[0;34m\u001b[0m\u001b[0;34m\u001b[0m\u001b[0m\n",
            "\u001b[0;32mpandas/_libs/index.pyx\u001b[0m in \u001b[0;36mpandas._libs.index.IndexEngine.get_loc\u001b[0;34m()\u001b[0m\n",
            "\u001b[0;32mpandas/_libs/index.pyx\u001b[0m in \u001b[0;36mpandas._libs.index.IndexEngine.get_loc\u001b[0;34m()\u001b[0m\n",
            "\u001b[0;32mpandas/_libs/hashtable_class_helper.pxi\u001b[0m in \u001b[0;36mpandas._libs.hashtable.PyObjectHashTable.get_item\u001b[0;34m()\u001b[0m\n",
            "\u001b[0;32mpandas/_libs/hashtable_class_helper.pxi\u001b[0m in \u001b[0;36mpandas._libs.hashtable.PyObjectHashTable.get_item\u001b[0;34m()\u001b[0m\n",
            "\u001b[0;31mKeyError\u001b[0m: 'vr_salario'",
            "\nThe above exception was the direct cause of the following exception:\n",
            "\u001b[0;31mKeyError\u001b[0m                                  Traceback (most recent call last)",
            "\u001b[0;32m<ipython-input-233-f866c0c3cdde>\u001b[0m in \u001b[0;36m<module>\u001b[0;34m()\u001b[0m\n\u001b[1;32m      1\u001b[0m \u001b[0mExplicativas\u001b[0m \u001b[0;34m=\u001b[0m \u001b[0mDatos_90\u001b[0m\u001b[0;34m\u001b[0m\u001b[0;34m\u001b[0m\u001b[0m\n\u001b[0;32m----> 2\u001b[0;31m \u001b[0;32mdel\u001b[0m \u001b[0mDatos_90\u001b[0m\u001b[0;34m[\u001b[0m\u001b[0;34m\"vr_salario\"\u001b[0m\u001b[0;34m]\u001b[0m\u001b[0;34m\u001b[0m\u001b[0;34m\u001b[0m\u001b[0m\n\u001b[0m",
            "\u001b[0;32m/usr/local/lib/python3.7/dist-packages/pandas/core/generic.py\u001b[0m in \u001b[0;36m__delitem__\u001b[0;34m(self, key)\u001b[0m\n\u001b[1;32m   3711\u001b[0m             \u001b[0;31m# there was no match, this call should raise the appropriate\u001b[0m\u001b[0;34m\u001b[0m\u001b[0;34m\u001b[0m\u001b[0;34m\u001b[0m\u001b[0m\n\u001b[1;32m   3712\u001b[0m             \u001b[0;31m# exception:\u001b[0m\u001b[0;34m\u001b[0m\u001b[0;34m\u001b[0m\u001b[0;34m\u001b[0m\u001b[0m\n\u001b[0;32m-> 3713\u001b[0;31m             \u001b[0mloc\u001b[0m \u001b[0;34m=\u001b[0m \u001b[0mself\u001b[0m\u001b[0;34m.\u001b[0m\u001b[0maxes\u001b[0m\u001b[0;34m[\u001b[0m\u001b[0;34m-\u001b[0m\u001b[0;36m1\u001b[0m\u001b[0;34m]\u001b[0m\u001b[0;34m.\u001b[0m\u001b[0mget_loc\u001b[0m\u001b[0;34m(\u001b[0m\u001b[0mkey\u001b[0m\u001b[0;34m)\u001b[0m\u001b[0;34m\u001b[0m\u001b[0;34m\u001b[0m\u001b[0m\n\u001b[0m\u001b[1;32m   3714\u001b[0m             \u001b[0mself\u001b[0m\u001b[0;34m.\u001b[0m\u001b[0m_mgr\u001b[0m\u001b[0;34m.\u001b[0m\u001b[0midelete\u001b[0m\u001b[0;34m(\u001b[0m\u001b[0mloc\u001b[0m\u001b[0;34m)\u001b[0m\u001b[0;34m\u001b[0m\u001b[0;34m\u001b[0m\u001b[0m\n\u001b[1;32m   3715\u001b[0m \u001b[0;34m\u001b[0m\u001b[0m\n",
            "\u001b[0;32m/usr/local/lib/python3.7/dist-packages/pandas/core/indexes/base.py\u001b[0m in \u001b[0;36mget_loc\u001b[0;34m(self, key, method, tolerance)\u001b[0m\n\u001b[1;32m   2898\u001b[0m                 \u001b[0;32mreturn\u001b[0m \u001b[0mself\u001b[0m\u001b[0;34m.\u001b[0m\u001b[0m_engine\u001b[0m\u001b[0;34m.\u001b[0m\u001b[0mget_loc\u001b[0m\u001b[0;34m(\u001b[0m\u001b[0mcasted_key\u001b[0m\u001b[0;34m)\u001b[0m\u001b[0;34m\u001b[0m\u001b[0;34m\u001b[0m\u001b[0m\n\u001b[1;32m   2899\u001b[0m             \u001b[0;32mexcept\u001b[0m \u001b[0mKeyError\u001b[0m \u001b[0;32mas\u001b[0m \u001b[0merr\u001b[0m\u001b[0;34m:\u001b[0m\u001b[0;34m\u001b[0m\u001b[0;34m\u001b[0m\u001b[0m\n\u001b[0;32m-> 2900\u001b[0;31m                 \u001b[0;32mraise\u001b[0m \u001b[0mKeyError\u001b[0m\u001b[0;34m(\u001b[0m\u001b[0mkey\u001b[0m\u001b[0;34m)\u001b[0m \u001b[0;32mfrom\u001b[0m \u001b[0merr\u001b[0m\u001b[0;34m\u001b[0m\u001b[0;34m\u001b[0m\u001b[0m\n\u001b[0m\u001b[1;32m   2901\u001b[0m \u001b[0;34m\u001b[0m\u001b[0m\n\u001b[1;32m   2902\u001b[0m         \u001b[0;32mif\u001b[0m \u001b[0mtolerance\u001b[0m \u001b[0;32mis\u001b[0m \u001b[0;32mnot\u001b[0m \u001b[0;32mNone\u001b[0m\u001b[0;34m:\u001b[0m\u001b[0;34m\u001b[0m\u001b[0;34m\u001b[0m\u001b[0m\n",
            "\u001b[0;31mKeyError\u001b[0m: 'vr_salario'"
          ]
        }
      ]
    },
    {
      "cell_type": "code",
      "metadata": {
        "id": "wFou7nI9qi4a"
      },
      "source": [
        "Explicativas = Explicativas.drop(['estado_civil_1', 'sexo_1.0', 'tipo_contrato_0','afiliacion_0','tipo_contrato_1','afiliacion_1'], axis = 1)"
      ],
      "execution_count": 234,
      "outputs": []
    },
    {
      "cell_type": "code",
      "metadata": {
        "id": "gzJHUAXXgOxy",
        "colab": {
          "base_uri": "https://localhost:8080/"
        },
        "outputId": "368328db-dc0d-42dd-e35e-13cb7d8fadb8"
      },
      "source": [
        "Explicativas.columns"
      ],
      "execution_count": 235,
      "outputs": [
        {
          "output_type": "execute_result",
          "data": {
            "text/plain": [
              "Index(['edad', 'Total_hijos', 'n_empleados', 'estado_civil_2',\n",
              "       'estado_civil_3', 'estado_civil_4', 'estado_civil_5', 'sexo_2.0',\n",
              "       'tipo_contrato_2', 'tipo_contrato_3', 'tipo_contrato_4',\n",
              "       'afiliacion_2'],\n",
              "      dtype='object')"
            ]
          },
          "metadata": {},
          "execution_count": 235
        }
      ]
    },
    {
      "cell_type": "code",
      "metadata": {
        "id": "qWeiTVL4fZ7L"
      },
      "source": [
        "X_train, X_test, y_train, y_test = train_test_split(Explicativas, salario, test_size = .25, random_state = 45)"
      ],
      "execution_count": 236,
      "outputs": []
    },
    {
      "cell_type": "code",
      "metadata": {
        "id": "Ug3oSJYshmQa",
        "colab": {
          "base_uri": "https://localhost:8080/"
        },
        "outputId": "c0c83a7d-ce9c-4363-afd4-86ef6d8708c6"
      },
      "source": [
        "X_train.shape, X_test.shape, y_train.shape, y_test.shape"
      ],
      "execution_count": 237,
      "outputs": [
        {
          "output_type": "execute_result",
          "data": {
            "text/plain": [
              "((865, 12), (289, 12), (865,), (289,))"
            ]
          },
          "metadata": {},
          "execution_count": 237
        }
      ]
    },
    {
      "cell_type": "markdown",
      "metadata": {
        "id": "23OcyBjWh3jC"
      },
      "source": [
        "## Punto 7"
      ]
    },
    {
      "cell_type": "code",
      "metadata": {
        "id": "X0T14C_Dh5Jk"
      },
      "source": [
        "regresion = LinearRegression(fit_intercept=True) "
      ],
      "execution_count": 238,
      "outputs": []
    },
    {
      "cell_type": "code",
      "metadata": {
        "id": "wfjuSHvKiw9v",
        "colab": {
          "base_uri": "https://localhost:8080/"
        },
        "outputId": "a41ac3e7-422a-4895-a8c7-90c69a186278"
      },
      "source": [
        "regresion.fit(X_train, y_train) "
      ],
      "execution_count": 239,
      "outputs": [
        {
          "output_type": "execute_result",
          "data": {
            "text/plain": [
              "LinearRegression(copy_X=True, fit_intercept=True, n_jobs=None, normalize=False)"
            ]
          },
          "metadata": {},
          "execution_count": 239
        }
      ]
    },
    {
      "cell_type": "code",
      "metadata": {
        "id": "KzhLroVqqp5R"
      },
      "source": [
        "y_pred_train = regresion.predict(X_train)"
      ],
      "execution_count": 240,
      "outputs": []
    },
    {
      "cell_type": "code",
      "metadata": {
        "id": "xD65FE3Vi9fx"
      },
      "source": [
        "\n",
        "y_pred_test = regresion.predict(X_test)\n"
      ],
      "execution_count": 241,
      "outputs": []
    },
    {
      "cell_type": "code",
      "metadata": {
        "id": "JFb-nS13jOwJ"
      },
      "source": [
        "def metricas(y_real, y_estimado):\n",
        "  print(f\"Error Cuadratico Medio: {mean_squared_error(y_real, y_estimado)}\")\n",
        "  print(f\"Error Absoluto Medio: {mean_absolute_error(y_real, y_estimado)}\")\n",
        "  print(f\"Raíz del error cuadrático medio: {np.sqrt(mean_squared_error(y_real, y_estimado))}\")\n"
      ],
      "execution_count": 242,
      "outputs": []
    },
    {
      "cell_type": "code",
      "metadata": {
        "id": "_pDznyqekxMd",
        "colab": {
          "base_uri": "https://localhost:8080/"
        },
        "outputId": "cca0d4a9-b004-4b70-ff60-f0613302a8c1"
      },
      "source": [
        "print(\"Métricas del entrenamiento\", end = \"\\n\")\n",
        "print(\"---\"*10)\n",
        "metricas(y_train,y_pred_train)\n",
        "print(\"---\"*10)\n",
        "print(\"Métricas del Testeo\", end = \"\\n\")\n",
        "print(\"---\"*10)\n",
        "metricas(y_test,y_pred_test)"
      ],
      "execution_count": 243,
      "outputs": [
        {
          "output_type": "stream",
          "name": "stdout",
          "text": [
            "Métricas del entrenamiento\n",
            "------------------------------\n",
            "Error Cuadratico Medio: 0.47669836587331554\n",
            "Error Absoluto Medio: 0.47678438205490964\n",
            "Raíz del error cuadrático medio: 0.6904334623070608\n",
            "------------------------------\n",
            "Métricas del Testeo\n",
            "------------------------------\n",
            "Error Cuadratico Medio: 0.4543803789018619\n",
            "Error Absoluto Medio: 0.4795135054779201\n",
            "Raíz del error cuadrático medio: 0.674077427972382\n"
          ]
        }
      ]
    },
    {
      "cell_type": "markdown",
      "metadata": {
        "id": "fhjmL1lXvCOw"
      },
      "source": [
        "## Punto 8"
      ]
    },
    {
      "cell_type": "code",
      "metadata": {
        "id": "D-IOmN4LybmJ"
      },
      "source": [
        "from sklearn.linear_model import Ridge"
      ],
      "execution_count": 244,
      "outputs": []
    },
    {
      "cell_type": "code",
      "metadata": {
        "id": "W-MliprDydN1"
      },
      "source": [
        "Modelo = Ridge(alpha= 0.1)"
      ],
      "execution_count": 245,
      "outputs": []
    },
    {
      "cell_type": "code",
      "metadata": {
        "id": "scNiLDnmzZfg",
        "colab": {
          "base_uri": "https://localhost:8080/"
        },
        "outputId": "046abc74-20f5-4ca8-ca1d-07a1fbb17b8a"
      },
      "source": [
        "Modelo.fit(X_train,y_train)"
      ],
      "execution_count": 246,
      "outputs": [
        {
          "output_type": "execute_result",
          "data": {
            "text/plain": [
              "Ridge(alpha=0.1, copy_X=True, fit_intercept=True, max_iter=None,\n",
              "      normalize=False, random_state=None, solver='auto', tol=0.001)"
            ]
          },
          "metadata": {},
          "execution_count": 246
        }
      ]
    },
    {
      "cell_type": "code",
      "metadata": {
        "id": "85JyM1J4zgGe",
        "colab": {
          "base_uri": "https://localhost:8080/"
        },
        "outputId": "95cbd6c4-2fd8-4aeb-b046-dc4ccdf2484c"
      },
      "source": [
        "alpha_p = [0,0.6, 1, 5, 9, 12, 16, 20, 30,100]\n",
        "for i in alpha_p:\n",
        "  Modelo = Ridge(alpha = i)\n",
        "  Modelo.fit(X_train,y_train)\n",
        "  y_pred_train = Modelo.predict(X_train)\n",
        "  y_pred_test = Modelo.predict(X_test)\n",
        "  print(\"---\"*10)\n",
        "  print(f\"Alpha={i}\")\n",
        "  print(\"Métricas del entrenamiento\", end = \"\\n\")\n",
        "  print(\"---\"*10)\n",
        "  metricas(y_train,y_pred_train)\n",
        "  print(\"---\"*10)\n",
        "  print(\"Métricas del Testeo\", end = \"\\n\")\n",
        "  print(\"---\"*10)\n",
        "  metricas(y_test,y_pred_test)\n",
        "\n",
        "\n",
        "\n"
      ],
      "execution_count": 250,
      "outputs": [
        {
          "output_type": "stream",
          "name": "stdout",
          "text": [
            "------------------------------\n",
            "Alpha=0\n",
            "Métricas del entrenamiento\n",
            "------------------------------\n",
            "Error Cuadratico Medio: 0.4766983658733156\n",
            "Error Absoluto Medio: 0.4767843820549096\n",
            "Raíz del error cuadrático medio: 0.6904334623070608\n",
            "------------------------------\n",
            "Métricas del Testeo\n",
            "------------------------------\n",
            "Error Cuadratico Medio: 0.4543803789018629\n",
            "Error Absoluto Medio: 0.479513505477921\n",
            "Raíz del error cuadrático medio: 0.6740774279723828\n",
            "------------------------------\n",
            "Alpha=0.6\n",
            "Métricas del entrenamiento\n",
            "------------------------------\n",
            "Error Cuadratico Medio: 0.4767057421821013\n",
            "Error Absoluto Medio: 0.4767041136499537\n",
            "Raíz del error cuadrático medio: 0.6904388040819412\n",
            "------------------------------\n",
            "Métricas del Testeo\n",
            "------------------------------\n",
            "Error Cuadratico Medio: 0.4539991979505171\n",
            "Error Absoluto Medio: 0.47916812785893237\n",
            "Raíz del error cuadrático medio: 0.6737946259436306\n",
            "------------------------------\n",
            "Alpha=1\n",
            "Métricas del entrenamiento\n",
            "------------------------------\n",
            "Error Cuadratico Medio: 0.476718196203459\n",
            "Error Absoluto Medio: 0.47665227845254843\n",
            "Raíz del error cuadrático medio: 0.6904478229406324\n",
            "------------------------------\n",
            "Métricas del Testeo\n",
            "------------------------------\n",
            "Error Cuadratico Medio: 0.4537628709127014\n",
            "Error Absoluto Medio: 0.47894851794087556\n",
            "Raíz del error cuadrático medio: 0.6736192328850932\n",
            "------------------------------\n",
            "Alpha=5\n",
            "Métricas del entrenamiento\n",
            "------------------------------\n",
            "Error Cuadratico Medio: 0.4770680597520244\n",
            "Error Absoluto Medio: 0.47644544084835516\n",
            "Raíz del error cuadrático medio: 0.6907011363477147\n",
            "------------------------------\n",
            "Métricas del Testeo\n",
            "------------------------------\n",
            "Error Cuadratico Medio: 0.45200467043944226\n",
            "Error Absoluto Medio: 0.4771268684495467\n",
            "Raíz del error cuadrático medio: 0.6723129259797421\n",
            "------------------------------\n",
            "Alpha=9\n",
            "Métricas del entrenamiento\n",
            "------------------------------\n",
            "Error Cuadratico Medio: 0.47763539437867164\n",
            "Error Absoluto Medio: 0.47663836021564704\n",
            "Raíz del error cuadrático medio: 0.6911117090446895\n",
            "------------------------------\n",
            "Métricas del Testeo\n",
            "------------------------------\n",
            "Error Cuadratico Medio: 0.4509900288052819\n",
            "Error Absoluto Medio: 0.4759001997042012\n",
            "Raíz del error cuadrático medio: 0.6715579117286028\n",
            "------------------------------\n",
            "Alpha=12\n",
            "Métricas del entrenamiento\n",
            "------------------------------\n",
            "Error Cuadratico Medio: 0.4781167805058748\n",
            "Error Absoluto Medio: 0.4767799327576267\n",
            "Raíz del error cuadrático medio: 0.691459890742677\n",
            "------------------------------\n",
            "Métricas del Testeo\n",
            "------------------------------\n",
            "Error Cuadratico Medio: 0.4505302166703537\n",
            "Error Absoluto Medio: 0.47533661147537465\n",
            "Raíz del error cuadrático medio: 0.6712154770789732\n",
            "------------------------------\n",
            "Alpha=16\n",
            "Métricas del entrenamiento\n",
            "------------------------------\n",
            "Error Cuadratico Medio: 0.4787832038666297\n",
            "Error Absoluto Medio: 0.47694558041252305\n",
            "Raíz del error cuadrático medio: 0.6919416188282287\n",
            "------------------------------\n",
            "Métricas del Testeo\n",
            "------------------------------\n",
            "Error Cuadratico Medio: 0.4501822022127674\n",
            "Error Absoluto Medio: 0.47497684253759026\n",
            "Raíz del error cuadrático medio: 0.6709561850171495\n",
            "------------------------------\n",
            "Alpha=20\n",
            "Métricas del entrenamiento\n",
            "------------------------------\n",
            "Error Cuadratico Medio: 0.47945181013122234\n",
            "Error Absoluto Medio: 0.4771043479949916\n",
            "Raíz del error cuadrático medio: 0.6924245880463968\n",
            "------------------------------\n",
            "Métricas del Testeo\n",
            "------------------------------\n",
            "Error Cuadratico Medio: 0.4500441469185195\n",
            "Error Absoluto Medio: 0.4747271373833967\n",
            "Raíz del error cuadrático medio: 0.670853297613211\n",
            "------------------------------\n",
            "Alpha=30\n",
            "Métricas del entrenamiento\n",
            "------------------------------\n",
            "Error Cuadratico Medio: 0.4810660090129096\n",
            "Error Absoluto Medio: 0.47746289879321546\n",
            "Raíz del error cuadrático medio: 0.6935892220997307\n",
            "------------------------------\n",
            "Métricas del Testeo\n",
            "------------------------------\n",
            "Error Cuadratico Medio: 0.45024931139710056\n",
            "Error Absoluto Medio: 0.4744892980143485\n",
            "Raíz del error cuadrático medio: 0.6710061932628495\n",
            "------------------------------\n",
            "Alpha=100\n",
            "Métricas del entrenamiento\n",
            "------------------------------\n",
            "Error Cuadratico Medio: 0.4900777612149266\n",
            "Error Absoluto Medio: 0.4809173010994052\n",
            "Raíz del error cuadrático medio: 0.7000555415214756\n",
            "------------------------------\n",
            "Métricas del Testeo\n",
            "------------------------------\n",
            "Error Cuadratico Medio: 0.45683409424423915\n",
            "Error Absoluto Medio: 0.47654517314328704\n",
            "Raíz del error cuadrático medio: 0.6758950319718582\n"
          ]
        }
      ]
    },
    {
      "cell_type": "markdown",
      "metadata": {
        "id": "ZtLlUKEu4Gi3"
      },
      "source": [
        "Puesto que, al implementar Ridge al modelo, con el fin de evitar overfitting, usando diferentes valores del parámetro alpha no se encontró una diferencia contundente para optar por implementar esta herramienta, tanto en las métricas de entrenamiento, como en las metricas de testeo; se decidió por implementar al 10% de los datos de reserva el modelo original con alpha = 0."
      ]
    },
    {
      "cell_type": "code",
      "metadata": {
        "colab": {
          "base_uri": "https://localhost:8080/"
        },
        "id": "SVVqyIS26SoX",
        "outputId": "53fd146c-a1f9-4ad8-d244-9d25245f276f"
      },
      "source": [
        "Datos_10.columns"
      ],
      "execution_count": 251,
      "outputs": [
        {
          "output_type": "execute_result",
          "data": {
            "text/plain": [
              "Index(['edad', 'Total_hijos', 'n_empleados', 'vr_salario', 'estado_civil_1',\n",
              "       'estado_civil_2', 'estado_civil_3', 'estado_civil_4', 'estado_civil_5',\n",
              "       'sexo_1.0', 'sexo_2.0', 'tipo_contrato_0', 'tipo_contrato_1',\n",
              "       'tipo_contrato_2', 'tipo_contrato_3', 'tipo_contrato_4', 'afiliacion_0',\n",
              "       'afiliacion_1', 'afiliacion_2'],\n",
              "      dtype='object')"
            ]
          },
          "metadata": {},
          "execution_count": 251
        }
      ]
    },
    {
      "cell_type": "code",
      "metadata": {
        "colab": {
          "base_uri": "https://localhost:8080/"
        },
        "id": "dekBXQD66ed_",
        "outputId": "b1ccfd4f-a6f8-4052-fcba-ff17fc8f3038"
      },
      "source": [
        "salario10 = Datos_10[\"vr_salario\"] ; salario10.head()"
      ],
      "execution_count": 252,
      "outputs": [
        {
          "output_type": "execute_result",
          "data": {
            "text/plain": [
              "7868     13.429848\n",
              "9911     13.815511\n",
              "3513     13.122363\n",
              "10501    13.415033\n",
              "5350     13.764217\n",
              "Name: vr_salario, dtype: float64"
            ]
          },
          "metadata": {},
          "execution_count": 252
        }
      ]
    },
    {
      "cell_type": "code",
      "metadata": {
        "id": "bFcS8bF96mrF"
      },
      "source": [
        "Explicativas10 = Datos_10\n",
        "del Datos_10[\"vr_salario\"]"
      ],
      "execution_count": 253,
      "outputs": []
    },
    {
      "cell_type": "code",
      "metadata": {
        "id": "fduNtINg7ZEU"
      },
      "source": [
        "Explicativas10 = Explicativas10.drop(['estado_civil_1', 'sexo_1.0', 'tipo_contrato_0','afiliacion_0','tipo_contrato_1','afiliacion_1'], axis = 1)"
      ],
      "execution_count": 254,
      "outputs": []
    },
    {
      "cell_type": "code",
      "metadata": {
        "colab": {
          "base_uri": "https://localhost:8080/"
        },
        "id": "Myb7KP5W7kxN",
        "outputId": "d2bcfd9f-5020-48d7-e7f9-04aa15cceec5"
      },
      "source": [
        "Explicativas10.columns"
      ],
      "execution_count": 255,
      "outputs": [
        {
          "output_type": "execute_result",
          "data": {
            "text/plain": [
              "Index(['edad', 'Total_hijos', 'n_empleados', 'estado_civil_2',\n",
              "       'estado_civil_3', 'estado_civil_4', 'estado_civil_5', 'sexo_2.0',\n",
              "       'tipo_contrato_2', 'tipo_contrato_3', 'tipo_contrato_4',\n",
              "       'afiliacion_2'],\n",
              "      dtype='object')"
            ]
          },
          "metadata": {},
          "execution_count": 255
        }
      ]
    },
    {
      "cell_type": "code",
      "metadata": {
        "id": "I4WEsgVX8oOJ"
      },
      "source": [
        "y_real = salario10"
      ],
      "execution_count": 256,
      "outputs": []
    },
    {
      "cell_type": "code",
      "metadata": {
        "id": "xrP_AKKA7r7e"
      },
      "source": [
        "y_estimado = regresion.predict(Explicativas10)"
      ],
      "execution_count": 257,
      "outputs": []
    },
    {
      "cell_type": "code",
      "metadata": {
        "colab": {
          "base_uri": "https://localhost:8080/"
        },
        "id": "ffvk9w_M9AyO",
        "outputId": "36ccf482-9fa5-45ca-f254-ab5fab283467"
      },
      "source": [
        "metricas(y_real,y_estimado)"
      ],
      "execution_count": 258,
      "outputs": [
        {
          "output_type": "stream",
          "name": "stdout",
          "text": [
            "Error Cuadratico Medio: 0.3891250472590887\n",
            "Error Absoluto Medio: 0.4610396021352563\n",
            "Raíz del error cuadrático medio: 0.6237988836629068\n"
          ]
        }
      ]
    },
    {
      "cell_type": "code",
      "metadata": {
        "colab": {
          "base_uri": "https://localhost:8080/",
          "height": 416
        },
        "id": "7dud-v-texvu",
        "outputId": "1b15352e-65c2-454b-9508-5d8e4d75607d"
      },
      "source": [
        "df_coeficientes = pd.DataFrame( {'predictor': X_train.columns,\n",
        "                         'coef': regresion.coef_.flatten()})\n",
        "\n",
        "fig, ax = plt.subplots(figsize=(9, 3.8))\n",
        "ax.stem(df_coeficientes.predictor, df_coeficientes.coef, markerfmt=' ')\n",
        "plt.xticks(rotation=80, ha='right', size=11)\n",
        "ax.set_xlabel('variable')\n",
        "ax.set_ylabel('coeficientes')\n",
        "ax.set_title('Coeficientes del modelo');"
      ],
      "execution_count": 259,
      "outputs": [
        {
          "output_type": "stream",
          "name": "stderr",
          "text": [
            "/usr/local/lib/python3.7/dist-packages/ipykernel_launcher.py:5: UserWarning: In Matplotlib 3.3 individual lines on a stem plot will be added as a LineCollection instead of individual lines. This significantly improves the performance of a stem plot. To remove this warning and switch to the new behaviour, set the \"use_line_collection\" keyword argument to True.\n",
            "  \"\"\"\n"
          ]
        },
        {
          "output_type": "display_data",
          "data": {
            "image/png": "[encoded data removed]",
            "text/plain": [
              "<Figure size 648x273.6 with 1 Axes>"
            ]
          },
          "metadata": {
            "needs_background": "light"
          }
        }
      ]
    },
    {
      "cell_type": "code",
      "metadata": {
        "colab": {
          "base_uri": "https://localhost:8080/"
        },
        "id": "rukgLZR3_NIh",
        "outputId": "3524cfa1-8239-42e2-ce63-32a70f37121c"
      },
      "source": [
        "regresion.intercept_"
      ],
      "execution_count": 260,
      "outputs": [
        {
          "output_type": "execute_result",
          "data": {
            "text/plain": [
              "13.028182961576707"
            ]
          },
          "metadata": {},
          "execution_count": 260
        }
      ]
    },
    {
      "cell_type": "code",
      "metadata": {
        "colab": {
          "base_uri": "https://localhost:8080/",
          "height": 425
        },
        "id": "weAF5EATkFOe",
        "outputId": "b9dc9e84-484c-493c-eead-76efda827ed6"
      },
      "source": [
        "df_coeficientes "
      ],
      "execution_count": 261,
      "outputs": [
        {
          "output_type": "execute_result",
          "data": {
            "text/html": [
              "<div>\n",
              "<style scoped>\n",
              "    .dataframe tbody tr th:only-of-type {\n",
              "        vertical-align: middle;\n",
              "    }\n",
              "\n",
              "    .dataframe tbody tr th {\n",
              "        vertical-align: top;\n",
              "    }\n",
              "\n",
              "    .dataframe thead th {\n",
              "        text-align: right;\n",
              "    }\n",
              "</style>\n",
              "<table border=\"1\" class=\"dataframe\">\n",
              "  <thead>\n",
              "    <tr style=\"text-align: right;\">\n",
              "      <th></th>\n",
              "      <th>predictor</th>\n",
              "      <th>coef</th>\n",
              "    </tr>\n",
              "  </thead>\n",
              "  <tbody>\n",
              "    <tr>\n",
              "      <th>0</th>\n",
              "      <td>edad</td>\n",
              "      <td>0.001368</td>\n",
              "    </tr>\n",
              "    <tr>\n",
              "      <th>1</th>\n",
              "      <td>Total_hijos</td>\n",
              "      <td>-0.039264</td>\n",
              "    </tr>\n",
              "    <tr>\n",
              "      <th>2</th>\n",
              "      <td>n_empleados</td>\n",
              "      <td>0.122566</td>\n",
              "    </tr>\n",
              "    <tr>\n",
              "      <th>3</th>\n",
              "      <td>estado_civil_2</td>\n",
              "      <td>0.150317</td>\n",
              "    </tr>\n",
              "    <tr>\n",
              "      <th>4</th>\n",
              "      <td>estado_civil_3</td>\n",
              "      <td>-0.046979</td>\n",
              "    </tr>\n",
              "    <tr>\n",
              "      <th>5</th>\n",
              "      <td>estado_civil_4</td>\n",
              "      <td>-0.136672</td>\n",
              "    </tr>\n",
              "    <tr>\n",
              "      <th>6</th>\n",
              "      <td>estado_civil_5</td>\n",
              "      <td>-0.144625</td>\n",
              "    </tr>\n",
              "    <tr>\n",
              "      <th>7</th>\n",
              "      <td>sexo_2.0</td>\n",
              "      <td>-0.074336</td>\n",
              "    </tr>\n",
              "    <tr>\n",
              "      <th>8</th>\n",
              "      <td>tipo_contrato_2</td>\n",
              "      <td>0.253589</td>\n",
              "    </tr>\n",
              "    <tr>\n",
              "      <th>9</th>\n",
              "      <td>tipo_contrato_3</td>\n",
              "      <td>-0.332097</td>\n",
              "    </tr>\n",
              "    <tr>\n",
              "      <th>10</th>\n",
              "      <td>tipo_contrato_4</td>\n",
              "      <td>-0.538212</td>\n",
              "    </tr>\n",
              "    <tr>\n",
              "      <th>11</th>\n",
              "      <td>afiliacion_2</td>\n",
              "      <td>0.377238</td>\n",
              "    </tr>\n",
              "  </tbody>\n",
              "</table>\n",
              "</div>"
            ],
            "text/plain": [
              "          predictor      coef\n",
              "0              edad  0.001368\n",
              "1       Total_hijos -0.039264\n",
              "2       n_empleados  0.122566\n",
              "3    estado_civil_2  0.150317\n",
              "4    estado_civil_3 -0.046979\n",
              "5    estado_civil_4 -0.136672\n",
              "6    estado_civil_5 -0.144625\n",
              "7          sexo_2.0 -0.074336\n",
              "8   tipo_contrato_2  0.253589\n",
              "9   tipo_contrato_3 -0.332097\n",
              "10  tipo_contrato_4 -0.538212\n",
              "11     afiliacion_2  0.377238"
            ]
          },
          "metadata": {},
          "execution_count": 261
        }
      ]
    },
    {
      "cell_type": "markdown",
      "metadata": {
        "id": "Z0xz0MuIE1xh"
      },
      "source": [
        "## Punto 9\n",
        "\n",
        "> *Y_log(salario) = 13.028 + 0.00136X_%edad - 0.0392X_%TotalHijos + 0.1225X_%empleados + 0.1503X_%estado2 - 0.0469X_%estado3 - 0.1366X_%estado4 - 0.1446X_%estado5 - 0.0743X_%sexo2 + 0.2535X_%contrato2 - 0.3320X_%contrato3 - 0.5382X_contrato4 + 0.3772X_afiliación2*\n",
        "\n",
        "\n",
        "\n",
        "\n",
        "\n",
        "\n",
        "\n",
        "\n",
        "\n",
        "\n",
        "\n",
        "\n",
        "\n",
        "\n",
        "\n",
        "\n",
        "\n",
        "\n"
      ]
    },
    {
      "cell_type": "markdown",
      "metadata": {
        "id": "UfZeXYm6H5Nu"
      },
      "source": [
        "Conforme a las estimaciones obtenidas en el modelo se considera que cuando la cantidad de años o edad de un individuo aumenta en una unidad, se estima que el salario devengado por el mismo aumenta en un 0.136%, manteniendo las demás variables constantes. Asi mismo, cuando el total de hijos de la persona aumenta una unidad, se espera que el salario disminuya en un 3.92%, siempre y cuando las demás variables permanescan constantes. \n",
        "Ahora bien, si el enfoque es el numero de empleados que maneja la empresa a la cual pertenece el individuo, y si dicha cantidad de empleados aumenta en una unidad se estima que el salario aumenta en 12.25%, manteniendo las demás variables constantes.\n",
        "\n",
        "Por otra parte, especificamente el estado civil, estima que cuando la persona o empleado ese encuentra Casado, se espera que el salario aumente en 15.03% en comparación con las personas que se encuentran en Union libre. De forma similar ocurre con los individuos que se encuentran Separados, solo que en este caso el salario disminuye en 4.697%. Para las personas que se encuentran viudas, el salario disminuye un 13.66% en comparación a las personas que mantienen una relación en union libre. Y finalmente Las personas solteras, en comparación a las que estan en estad de union libre, su salario disminuye en 14.46%. Teniendo en cuenta dichas variaciones siempre y cuando las demás variables se mantengan constantes. \n",
        "\n",
        "Otro factor influyente "
      ]
    },
    {
      "cell_type": "code",
      "metadata": {
        "colab": {
          "base_uri": "https://localhost:8080/"
        },
        "id": "2laOyRZSIwB8",
        "outputId": "04639371-dc64-4b02-c224-5f7f74fe0632"
      },
      "source": [
        "0.00136*100"
      ],
      "execution_count": 262,
      "outputs": [
        {
          "output_type": "execute_result",
          "data": {
            "text/plain": [
              "0.136"
            ]
          },
          "metadata": {},
          "execution_count": 262
        }
      ]
    },
    {
      "cell_type": "code",
      "metadata": {
        "colab": {
          "base_uri": "https://localhost:8080/"
        },
        "id": "Or0DsgSfJXCO",
        "outputId": "2ff112b0-4ddd-4467-9c62-289bdb299791"
      },
      "source": [
        "0.15*100"
      ],
      "execution_count": 264,
      "outputs": [
        {
          "output_type": "execute_result",
          "data": {
            "text/plain": [
              "15.0"
            ]
          },
          "metadata": {},
          "execution_count": 264
        }
      ]
    },
    {
      "cell_type": "code",
      "metadata": {
        "colab": {
          "base_uri": "https://localhost:8080/"
        },
        "id": "3wsgx4bBKCzw",
        "outputId": "815628c8-5e4a-499a-a745-4f22ec96c619"
      },
      "source": [
        "0.0830*100"
      ],
      "execution_count": 178,
      "outputs": [
        {
          "output_type": "execute_result",
          "data": {
            "text/plain": [
              "8.3"
            ]
          },
          "metadata": {},
          "execution_count": 178
        }
      ]
    },
    {
      "cell_type": "code",
      "metadata": {
        "id": "3vOz2lPBKEDw"
      },
      "source": [
        ""
      ],
      "execution_count": null,
      "outputs": []
    }
  ]
}