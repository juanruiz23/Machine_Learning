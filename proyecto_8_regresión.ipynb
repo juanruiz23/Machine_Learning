{
  "nbformat": 4,
  "nbformat_minor": 0,
  "metadata": {
    "colab": {
      "name": "proyecto_8_regresión.ipynb",
      "provenance": [],
      "collapsed_sections": []
    },
    "kernelspec": {
      "display_name": "Python 3",
      "name": "python3"
    },
    "language_info": {
      "name": "python"
    }
  },
  "cells": [
    {
      "cell_type": "markdown",
      "metadata": {
        "id": "6Shk0L8dvvT2"
      },
      "source": [
        "#PROYECTO 8 \n",
        "##PUNTO 1 \n",
        "\n",
        "\n",
        "\n",
        "\n",
        "\n"
      ]
    },
    {
      "cell_type": "code",
      "metadata": {
        "colab": {
          "base_uri": "https://localhost:8080/"
        },
        "id": "0wD09N5Kn4XS",
        "outputId": "f79f7ff0-5b87-4e68-b8f6-cb9211aa1fd8"
      },
      "source": [
        "pip install wbgapi"
      ],
      "execution_count": 506,
      "outputs": [
        {
          "output_type": "stream",
          "name": "stdout",
          "text": [
            "Requirement already satisfied: wbgapi in /usr/local/lib/python3.7/dist-packages (1.0.7)\n",
            "Requirement already satisfied: requests in /usr/local/lib/python3.7/dist-packages (from wbgapi) (2.23.0)\n",
            "Requirement already satisfied: tabulate in /usr/local/lib/python3.7/dist-packages (from wbgapi) (0.8.9)\n",
            "Requirement already satisfied: PyYAML in /usr/local/lib/python3.7/dist-packages (from wbgapi) (3.13)\n",
            "Requirement already satisfied: idna<3,>=2.5 in /usr/local/lib/python3.7/dist-packages (from requests->wbgapi) (2.10)\n",
            "Requirement already satisfied: certifi>=2017.4.17 in /usr/local/lib/python3.7/dist-packages (from requests->wbgapi) (2021.5.30)\n",
            "Requirement already satisfied: urllib3!=1.25.0,!=1.25.1,<1.26,>=1.21.1 in /usr/local/lib/python3.7/dist-packages (from requests->wbgapi) (1.24.3)\n",
            "Requirement already satisfied: chardet<4,>=3.0.2 in /usr/local/lib/python3.7/dist-packages (from requests->wbgapi) (3.0.4)\n"
          ]
        }
      ]
    },
    {
      "cell_type": "code",
      "metadata": {
        "colab": {
          "base_uri": "https://localhost:8080/"
        },
        "id": "i_P3H2C8n8jP",
        "outputId": "43899aa7-7eef-401a-f4e7-fb6f471dac3f"
      },
      "source": [
        "pip install wooldridge"
      ],
      "execution_count": 507,
      "outputs": [
        {
          "output_type": "stream",
          "name": "stdout",
          "text": [
            "Requirement already satisfied: wooldridge in /usr/local/lib/python3.7/dist-packages (0.4.4)\n",
            "Requirement already satisfied: pandas in /usr/local/lib/python3.7/dist-packages (from wooldridge) (1.1.5)\n",
            "Requirement already satisfied: python-dateutil>=2.7.3 in /usr/local/lib/python3.7/dist-packages (from pandas->wooldridge) (2.8.2)\n",
            "Requirement already satisfied: numpy>=1.15.4 in /usr/local/lib/python3.7/dist-packages (from pandas->wooldridge) (1.19.5)\n",
            "Requirement already satisfied: pytz>=2017.2 in /usr/local/lib/python3.7/dist-packages (from pandas->wooldridge) (2018.9)\n",
            "Requirement already satisfied: six>=1.5 in /usr/local/lib/python3.7/dist-packages (from python-dateutil>=2.7.3->pandas->wooldridge) (1.15.0)\n"
          ]
        }
      ]
    },
    {
      "cell_type": "code",
      "metadata": {
        "id": "cQu66CAlnd-j"
      },
      "source": [
        "import numpy as np\n",
        "import pandas as pd\n",
        "import wbgapi as wb\n",
        "import wooldridge as wd"
      ],
      "execution_count": 508,
      "outputs": []
    },
    {
      "cell_type": "code",
      "metadata": {
        "id": "nSWV2mMzoZKg"
      },
      "source": [
        "Df =  pd.read_csv('/content/UPersonas.csv', sep=','  , engine='python')"
      ],
      "execution_count": 509,
      "outputs": []
    },
    {
      "cell_type": "code",
      "metadata": {
        "colab": {
          "base_uri": "https://localhost:8080/",
          "height": 338
        },
        "id": "8bcyyPJbTeea",
        "outputId": "b763bcaa-d17c-413c-8983-dd2ecaef71da"
      },
      "source": [
        "Df.head()"
      ],
      "execution_count": 510,
      "outputs": [
        {
          "output_type": "execute_result",
          "data": {
            "text/html": [
              "<div>\n",
              "<style scoped>\n",
              "    .dataframe tbody tr th:only-of-type {\n",
              "        vertical-align: middle;\n",
              "    }\n",
              "\n",
              "    .dataframe tbody tr th {\n",
              "        vertical-align: top;\n",
              "    }\n",
              "\n",
              "    .dataframe thead th {\n",
              "        text-align: right;\n",
              "    }\n",
              "</style>\n",
              "<table border=\"1\" class=\"dataframe\">\n",
              "  <thead>\n",
              "    <tr style=\"text-align: right;\">\n",
              "      <th></th>\n",
              "      <th>Unnamed: 0</th>\n",
              "      <th>ola</th>\n",
              "      <th>consecutivo</th>\n",
              "      <th>llave</th>\n",
              "      <th>hogar</th>\n",
              "      <th>llave_n16</th>\n",
              "      <th>hogar_n16</th>\n",
              "      <th>orden</th>\n",
              "      <th>seguimiento</th>\n",
              "      <th>llave_ID_lb</th>\n",
              "      <th>llaveper</th>\n",
              "      <th>llaveper_n16</th>\n",
              "      <th>edad</th>\n",
              "      <th>edad_meses</th>\n",
              "      <th>edad_tot_meses</th>\n",
              "      <th>sexo</th>\n",
              "      <th>parentesco</th>\n",
              "      <th>id_dpto_nac</th>\n",
              "      <th>id_mpio_nac</th>\n",
              "      <th>pais_nac</th>\n",
              "      <th>nac_dia</th>\n",
              "      <th>nac_mes</th>\n",
              "      <th>nac_ano</th>\n",
              "      <th>embarazada</th>\n",
              "      <th>estado_civil</th>\n",
              "      <th>vive_conyuge</th>\n",
              "      <th>orden_conyuge</th>\n",
              "      <th>fecha_edad</th>\n",
              "      <th>mes_unionm</th>\n",
              "      <th>ano_unionm</th>\n",
              "      <th>edad_unionm</th>\n",
              "      <th>etnia</th>\n",
              "      <th>padre_vive</th>\n",
              "      <th>orden_padre</th>\n",
              "      <th>madre_vive</th>\n",
              "      <th>orden_madre</th>\n",
              "      <th>parent_inform</th>\n",
              "      <th>inform_orden</th>\n",
              "      <th>novedad_perso</th>\n",
              "      <th>afiliacion</th>\n",
              "      <th>...</th>\n",
              "      <th>siempre_ayuda</th>\n",
              "      <th>hace_la_paga</th>\n",
              "      <th>violar_ley</th>\n",
              "      <th>justicia_propia</th>\n",
              "      <th>uso_violencia</th>\n",
              "      <th>voto_popular</th>\n",
              "      <th>ind_bienestar</th>\n",
              "      <th>desigualdad</th>\n",
              "      <th>paga_soborno</th>\n",
              "      <th>ayu_congresista</th>\n",
              "      <th>resolvio_congres</th>\n",
              "      <th>ayu_alcalde</th>\n",
              "      <th>resolvio_alcalde</th>\n",
              "      <th>ayu_lcomunal</th>\n",
              "      <th>resolvio_lcomunal</th>\n",
              "      <th>medid1_molestan</th>\n",
              "      <th>medid2_molestan</th>\n",
              "      <th>medid3a_molestan</th>\n",
              "      <th>medid3b_molestan</th>\n",
              "      <th>medid3c_molestan</th>\n",
              "      <th>medid3d_molestan</th>\n",
              "      <th>firma_paz</th>\n",
              "      <th>evitar_iva</th>\n",
              "      <th>fuente_tv</th>\n",
              "      <th>fuente_diarios</th>\n",
              "      <th>fuente_radio</th>\n",
              "      <th>fuente_revistas</th>\n",
              "      <th>fuente_libros</th>\n",
              "      <th>fuente_internet</th>\n",
              "      <th>fuente_amigos</th>\n",
              "      <th>acepta_dinero</th>\n",
              "      <th>vr_aleatorio</th>\n",
              "      <th>vende_voto</th>\n",
              "      <th>valor_voto</th>\n",
              "      <th>voto_secreto</th>\n",
              "      <th>voto_ofrecido</th>\n",
              "      <th>nom_partido</th>\n",
              "      <th>fexpers_2010</th>\n",
              "      <th>fpers_2010</th>\n",
              "      <th>fpers_2016</th>\n",
              "    </tr>\n",
              "  </thead>\n",
              "  <tbody>\n",
              "    <tr>\n",
              "      <th>0</th>\n",
              "      <td>0</td>\n",
              "      <td>3</td>\n",
              "      <td>111001</td>\n",
              "      <td>11100101.0</td>\n",
              "      <td>1.0</td>\n",
              "      <td>1.110010e+09</td>\n",
              "      <td>1</td>\n",
              "      <td>1</td>\n",
              "      <td>1</td>\n",
              "      <td>11100101.0</td>\n",
              "      <td>1.110010e+09</td>\n",
              "      <td>1.110010e+11</td>\n",
              "      <td>60</td>\n",
              "      <td>9</td>\n",
              "      <td>NaN</td>\n",
              "      <td>2</td>\n",
              "      <td>1</td>\n",
              "      <td>NaN</td>\n",
              "      <td>NaN</td>\n",
              "      <td>NaN</td>\n",
              "      <td>15</td>\n",
              "      <td>5</td>\n",
              "      <td>1955</td>\n",
              "      <td>NaN</td>\n",
              "      <td>3</td>\n",
              "      <td>NaN</td>\n",
              "      <td>NaN</td>\n",
              "      <td>NaN</td>\n",
              "      <td>NaN</td>\n",
              "      <td>NaN</td>\n",
              "      <td>NaN</td>\n",
              "      <td>NaN</td>\n",
              "      <td>3</td>\n",
              "      <td>NaN</td>\n",
              "      <td>2</td>\n",
              "      <td>NaN</td>\n",
              "      <td>NaN</td>\n",
              "      <td>NaN</td>\n",
              "      <td>0</td>\n",
              "      <td>1.0</td>\n",
              "      <td>...</td>\n",
              "      <td>1.0</td>\n",
              "      <td>4.0</td>\n",
              "      <td>2.0</td>\n",
              "      <td>2.0</td>\n",
              "      <td>4.0</td>\n",
              "      <td>2.0</td>\n",
              "      <td>1.0</td>\n",
              "      <td>1.0</td>\n",
              "      <td>3.0</td>\n",
              "      <td>2.0</td>\n",
              "      <td>NaN</td>\n",
              "      <td>2.0</td>\n",
              "      <td>NaN</td>\n",
              "      <td>2.0</td>\n",
              "      <td>NaN</td>\n",
              "      <td>4.0</td>\n",
              "      <td>NaN</td>\n",
              "      <td>NaN</td>\n",
              "      <td>NaN</td>\n",
              "      <td>NaN</td>\n",
              "      <td>NaN</td>\n",
              "      <td>3.0</td>\n",
              "      <td>2.0</td>\n",
              "      <td>1.0</td>\n",
              "      <td>2.0</td>\n",
              "      <td>2.0</td>\n",
              "      <td>2.0</td>\n",
              "      <td>2.0</td>\n",
              "      <td>2.0</td>\n",
              "      <td>1.0</td>\n",
              "      <td>NaN</td>\n",
              "      <td></td>\n",
              "      <td>1.0</td>\n",
              "      <td>$150.000</td>\n",
              "      <td>2.0</td>\n",
              "      <td>2.0</td>\n",
              "      <td>NaN</td>\n",
              "      <td>1.095778</td>\n",
              "      <td>1552.98691</td>\n",
              "      <td>1543.77</td>\n",
              "    </tr>\n",
              "    <tr>\n",
              "      <th>1</th>\n",
              "      <td>1</td>\n",
              "      <td>3</td>\n",
              "      <td>111001</td>\n",
              "      <td>NaN</td>\n",
              "      <td>NaN</td>\n",
              "      <td>1.110010e+09</td>\n",
              "      <td>1</td>\n",
              "      <td>6</td>\n",
              "      <td>2</td>\n",
              "      <td>NaN</td>\n",
              "      <td>NaN</td>\n",
              "      <td>1.110010e+11</td>\n",
              "      <td>40</td>\n",
              "      <td>2</td>\n",
              "      <td>NaN</td>\n",
              "      <td>2</td>\n",
              "      <td>3</td>\n",
              "      <td>14.0</td>\n",
              "      <td>193.0</td>\n",
              "      <td>NaN</td>\n",
              "      <td>22</td>\n",
              "      <td>12</td>\n",
              "      <td>1975</td>\n",
              "      <td>2.0</td>\n",
              "      <td>2</td>\n",
              "      <td>1.0</td>\n",
              "      <td>7.0</td>\n",
              "      <td>NaN</td>\n",
              "      <td>NaN</td>\n",
              "      <td>NaN</td>\n",
              "      <td>NaN</td>\n",
              "      <td>6.0</td>\n",
              "      <td>2</td>\n",
              "      <td>NaN</td>\n",
              "      <td>1</td>\n",
              "      <td>1.0</td>\n",
              "      <td>NaN</td>\n",
              "      <td>NaN</td>\n",
              "      <td>32</td>\n",
              "      <td>NaN</td>\n",
              "      <td>...</td>\n",
              "      <td>NaN</td>\n",
              "      <td>NaN</td>\n",
              "      <td>NaN</td>\n",
              "      <td>NaN</td>\n",
              "      <td>NaN</td>\n",
              "      <td>NaN</td>\n",
              "      <td>NaN</td>\n",
              "      <td>NaN</td>\n",
              "      <td>NaN</td>\n",
              "      <td>NaN</td>\n",
              "      <td>NaN</td>\n",
              "      <td>NaN</td>\n",
              "      <td>NaN</td>\n",
              "      <td>NaN</td>\n",
              "      <td>NaN</td>\n",
              "      <td>NaN</td>\n",
              "      <td>NaN</td>\n",
              "      <td>NaN</td>\n",
              "      <td>NaN</td>\n",
              "      <td>NaN</td>\n",
              "      <td>NaN</td>\n",
              "      <td>NaN</td>\n",
              "      <td>NaN</td>\n",
              "      <td>NaN</td>\n",
              "      <td>NaN</td>\n",
              "      <td>NaN</td>\n",
              "      <td>NaN</td>\n",
              "      <td>NaN</td>\n",
              "      <td>NaN</td>\n",
              "      <td>NaN</td>\n",
              "      <td>NaN</td>\n",
              "      <td>NaN</td>\n",
              "      <td>NaN</td>\n",
              "      <td>NaN</td>\n",
              "      <td>NaN</td>\n",
              "      <td>NaN</td>\n",
              "      <td>NaN</td>\n",
              "      <td>NaN</td>\n",
              "      <td>NaN</td>\n",
              "      <td>1543.77</td>\n",
              "    </tr>\n",
              "    <tr>\n",
              "      <th>2</th>\n",
              "      <td>2</td>\n",
              "      <td>3</td>\n",
              "      <td>111001</td>\n",
              "      <td>NaN</td>\n",
              "      <td>NaN</td>\n",
              "      <td>1.110010e+09</td>\n",
              "      <td>1</td>\n",
              "      <td>7</td>\n",
              "      <td>2</td>\n",
              "      <td>NaN</td>\n",
              "      <td>NaN</td>\n",
              "      <td>1.110010e+11</td>\n",
              "      <td>67</td>\n",
              "      <td>7</td>\n",
              "      <td>NaN</td>\n",
              "      <td>1</td>\n",
              "      <td>11</td>\n",
              "      <td>2.0</td>\n",
              "      <td>120.0</td>\n",
              "      <td>NaN</td>\n",
              "      <td>28</td>\n",
              "      <td>7</td>\n",
              "      <td>1948</td>\n",
              "      <td>NaN</td>\n",
              "      <td>2</td>\n",
              "      <td>1.0</td>\n",
              "      <td>6.0</td>\n",
              "      <td>NaN</td>\n",
              "      <td>NaN</td>\n",
              "      <td>NaN</td>\n",
              "      <td>NaN</td>\n",
              "      <td>6.0</td>\n",
              "      <td>3</td>\n",
              "      <td>NaN</td>\n",
              "      <td>3</td>\n",
              "      <td>NaN</td>\n",
              "      <td>NaN</td>\n",
              "      <td>NaN</td>\n",
              "      <td>21</td>\n",
              "      <td>NaN</td>\n",
              "      <td>...</td>\n",
              "      <td>NaN</td>\n",
              "      <td>NaN</td>\n",
              "      <td>NaN</td>\n",
              "      <td>NaN</td>\n",
              "      <td>NaN</td>\n",
              "      <td>NaN</td>\n",
              "      <td>NaN</td>\n",
              "      <td>NaN</td>\n",
              "      <td>NaN</td>\n",
              "      <td>NaN</td>\n",
              "      <td>NaN</td>\n",
              "      <td>NaN</td>\n",
              "      <td>NaN</td>\n",
              "      <td>NaN</td>\n",
              "      <td>NaN</td>\n",
              "      <td>NaN</td>\n",
              "      <td>NaN</td>\n",
              "      <td>NaN</td>\n",
              "      <td>NaN</td>\n",
              "      <td>NaN</td>\n",
              "      <td>NaN</td>\n",
              "      <td>NaN</td>\n",
              "      <td>NaN</td>\n",
              "      <td>NaN</td>\n",
              "      <td>NaN</td>\n",
              "      <td>NaN</td>\n",
              "      <td>NaN</td>\n",
              "      <td>NaN</td>\n",
              "      <td>NaN</td>\n",
              "      <td>NaN</td>\n",
              "      <td>NaN</td>\n",
              "      <td>NaN</td>\n",
              "      <td>NaN</td>\n",
              "      <td>NaN</td>\n",
              "      <td>NaN</td>\n",
              "      <td>NaN</td>\n",
              "      <td>NaN</td>\n",
              "      <td>NaN</td>\n",
              "      <td>NaN</td>\n",
              "      <td>3213.04</td>\n",
              "    </tr>\n",
              "    <tr>\n",
              "      <th>3</th>\n",
              "      <td>3</td>\n",
              "      <td>3</td>\n",
              "      <td>111001</td>\n",
              "      <td>NaN</td>\n",
              "      <td>NaN</td>\n",
              "      <td>1.110010e+09</td>\n",
              "      <td>1</td>\n",
              "      <td>8</td>\n",
              "      <td>2</td>\n",
              "      <td>NaN</td>\n",
              "      <td>NaN</td>\n",
              "      <td>1.110010e+11</td>\n",
              "      <td>22</td>\n",
              "      <td>0</td>\n",
              "      <td>NaN</td>\n",
              "      <td>1</td>\n",
              "      <td>5</td>\n",
              "      <td>21.0</td>\n",
              "      <td>102.0</td>\n",
              "      <td>NaN</td>\n",
              "      <td>27</td>\n",
              "      <td>2</td>\n",
              "      <td>1994</td>\n",
              "      <td>NaN</td>\n",
              "      <td>5</td>\n",
              "      <td>NaN</td>\n",
              "      <td>NaN</td>\n",
              "      <td>NaN</td>\n",
              "      <td>NaN</td>\n",
              "      <td>NaN</td>\n",
              "      <td>NaN</td>\n",
              "      <td>6.0</td>\n",
              "      <td>2</td>\n",
              "      <td>NaN</td>\n",
              "      <td>1</td>\n",
              "      <td>6.0</td>\n",
              "      <td>NaN</td>\n",
              "      <td>NaN</td>\n",
              "      <td>29</td>\n",
              "      <td>NaN</td>\n",
              "      <td>...</td>\n",
              "      <td>NaN</td>\n",
              "      <td>NaN</td>\n",
              "      <td>NaN</td>\n",
              "      <td>NaN</td>\n",
              "      <td>NaN</td>\n",
              "      <td>NaN</td>\n",
              "      <td>NaN</td>\n",
              "      <td>NaN</td>\n",
              "      <td>NaN</td>\n",
              "      <td>NaN</td>\n",
              "      <td>NaN</td>\n",
              "      <td>NaN</td>\n",
              "      <td>NaN</td>\n",
              "      <td>NaN</td>\n",
              "      <td>NaN</td>\n",
              "      <td>NaN</td>\n",
              "      <td>NaN</td>\n",
              "      <td>NaN</td>\n",
              "      <td>NaN</td>\n",
              "      <td>NaN</td>\n",
              "      <td>NaN</td>\n",
              "      <td>NaN</td>\n",
              "      <td>NaN</td>\n",
              "      <td>NaN</td>\n",
              "      <td>NaN</td>\n",
              "      <td>NaN</td>\n",
              "      <td>NaN</td>\n",
              "      <td>NaN</td>\n",
              "      <td>NaN</td>\n",
              "      <td>NaN</td>\n",
              "      <td>NaN</td>\n",
              "      <td>NaN</td>\n",
              "      <td>NaN</td>\n",
              "      <td>NaN</td>\n",
              "      <td>NaN</td>\n",
              "      <td>NaN</td>\n",
              "      <td>NaN</td>\n",
              "      <td>NaN</td>\n",
              "      <td>NaN</td>\n",
              "      <td>3175.81</td>\n",
              "    </tr>\n",
              "    <tr>\n",
              "      <th>4</th>\n",
              "      <td>4</td>\n",
              "      <td>3</td>\n",
              "      <td>111003</td>\n",
              "      <td>11100301.0</td>\n",
              "      <td>1.0</td>\n",
              "      <td>1.110031e+09</td>\n",
              "      <td>1</td>\n",
              "      <td>1</td>\n",
              "      <td>1</td>\n",
              "      <td>11100301.0</td>\n",
              "      <td>1.110030e+09</td>\n",
              "      <td>1.110031e+11</td>\n",
              "      <td>53</td>\n",
              "      <td>9</td>\n",
              "      <td>NaN</td>\n",
              "      <td>2</td>\n",
              "      <td>1</td>\n",
              "      <td>17.0</td>\n",
              "      <td>164.0</td>\n",
              "      <td>NaN</td>\n",
              "      <td>10</td>\n",
              "      <td>5</td>\n",
              "      <td>1962</td>\n",
              "      <td>NaN</td>\n",
              "      <td>4</td>\n",
              "      <td>NaN</td>\n",
              "      <td>NaN</td>\n",
              "      <td>NaN</td>\n",
              "      <td>NaN</td>\n",
              "      <td>NaN</td>\n",
              "      <td>NaN</td>\n",
              "      <td>8.0</td>\n",
              "      <td>2</td>\n",
              "      <td>NaN</td>\n",
              "      <td>2</td>\n",
              "      <td>NaN</td>\n",
              "      <td>NaN</td>\n",
              "      <td>NaN</td>\n",
              "      <td>29</td>\n",
              "      <td>1.0</td>\n",
              "      <td>...</td>\n",
              "      <td>2.0</td>\n",
              "      <td>3.0</td>\n",
              "      <td>3.0</td>\n",
              "      <td>3.0</td>\n",
              "      <td>3.0</td>\n",
              "      <td>2.0</td>\n",
              "      <td>2.0</td>\n",
              "      <td>2.0</td>\n",
              "      <td>3.0</td>\n",
              "      <td>2.0</td>\n",
              "      <td>NaN</td>\n",
              "      <td>2.0</td>\n",
              "      <td>NaN</td>\n",
              "      <td>2.0</td>\n",
              "      <td>NaN</td>\n",
              "      <td>5.0</td>\n",
              "      <td>NaN</td>\n",
              "      <td>NaN</td>\n",
              "      <td>NaN</td>\n",
              "      <td>NaN</td>\n",
              "      <td>NaN</td>\n",
              "      <td>2.0</td>\n",
              "      <td>2.0</td>\n",
              "      <td>1.0</td>\n",
              "      <td>2.0</td>\n",
              "      <td>2.0</td>\n",
              "      <td>2.0</td>\n",
              "      <td>2.0</td>\n",
              "      <td>2.0</td>\n",
              "      <td>2.0</td>\n",
              "      <td>NaN</td>\n",
              "      <td></td>\n",
              "      <td>1.0</td>\n",
              "      <td>$30.000</td>\n",
              "      <td>1.0</td>\n",
              "      <td>2.0</td>\n",
              "      <td>MOVIMIENTO SIGNIFICATIVO DE CIUDADANOS PROGRES...</td>\n",
              "      <td>1.095778</td>\n",
              "      <td>1552.98691</td>\n",
              "      <td>2600.98</td>\n",
              "    </tr>\n",
              "  </tbody>\n",
              "</table>\n",
              "<p>5 rows × 647 columns</p>\n",
              "</div>"
            ],
            "text/plain": [
              "   Unnamed: 0  ola  consecutivo  ...  fexpers_2010  fpers_2010  fpers_2016\n",
              "0           0    3       111001  ...      1.095778  1552.98691     1543.77\n",
              "1           1    3       111001  ...           NaN         NaN     1543.77\n",
              "2           2    3       111001  ...           NaN         NaN     3213.04\n",
              "3           3    3       111001  ...           NaN         NaN     3175.81\n",
              "4           4    3       111003  ...      1.095778  1552.98691     2600.98\n",
              "\n",
              "[5 rows x 647 columns]"
            ]
          },
          "metadata": {},
          "execution_count": 510
        }
      ]
    },
    {
      "cell_type": "code",
      "metadata": {
        "colab": {
          "base_uri": "https://localhost:8080/"
        },
        "id": "mMLb2G3brn0Q",
        "outputId": "5fd4a4fa-40f1-4632-cb7e-a834f57673eb"
      },
      "source": [
        "Df.drop_duplicates"
      ],
      "execution_count": 511,
      "outputs": [
        {
          "output_type": "execute_result",
          "data": {
            "text/plain": [
              "<bound method DataFrame.drop_duplicates of        Unnamed: 0  ola  consecutivo  ...  fexpers_2010   fpers_2010  fpers_2016\n",
              "0               0    3       111001  ...      1.095778  1552.986910     1543.77\n",
              "1               1    3       111001  ...           NaN          NaN     1543.77\n",
              "2               2    3       111001  ...           NaN          NaN     3213.04\n",
              "3               3    3       111001  ...           NaN          NaN     3175.81\n",
              "4               4    3       111003  ...      1.095778  1552.986910     2600.98\n",
              "...           ...  ...          ...  ...           ...          ...         ...\n",
              "19293       19293    3       226627  ...      0.232226   329.121023      355.74\n",
              "19294       19294    3       226627  ...      0.138409   196.159412      252.49\n",
              "19295       19295    3       226627  ...           NaN          NaN      243.07\n",
              "19296       19296    3       226627  ...           NaN          NaN      210.30\n",
              "19297       19297    3       226627  ...           NaN          NaN      210.30\n",
              "\n",
              "[19298 rows x 647 columns]>"
            ]
          },
          "metadata": {},
          "execution_count": 511
        }
      ]
    },
    {
      "cell_type": "code",
      "metadata": {
        "id": "Pkz4fvlPxcEo"
      },
      "source": [
        "Df['vr_salario'] = Df['vr_salario'].fillna('No')"
      ],
      "execution_count": 512,
      "outputs": []
    },
    {
      "cell_type": "code",
      "metadata": {
        "id": "l_BDdzLAzYqh"
      },
      "source": [
        "Base = Df[Df['vr_salario'] != 'No']"
      ],
      "execution_count": 513,
      "outputs": []
    },
    {
      "cell_type": "code",
      "metadata": {
        "colab": {
          "base_uri": "https://localhost:8080/"
        },
        "id": "GivxBpc5z7z_",
        "outputId": "3a9b1131-5580-43f2-d5c9-e7afa2922df5"
      },
      "source": [
        "Base['vr_salario']"
      ],
      "execution_count": 514,
      "outputs": [
        {
          "output_type": "execute_result",
          "data": {
            "text/plain": [
              "7        1.026e+06\n",
              "9           750000\n",
              "17          689000\n",
              "18         1.5e+06\n",
              "25          700000\n",
              "           ...    \n",
              "19264        1e+06\n",
              "19265       690000\n",
              "19266       900000\n",
              "19274       679000\n",
              "19279       689400\n",
              "Name: vr_salario, Length: 2692, dtype: object"
            ]
          },
          "metadata": {},
          "execution_count": 514
        }
      ]
    },
    {
      "cell_type": "code",
      "metadata": {
        "colab": {
          "base_uri": "https://localhost:8080/"
        },
        "id": "wnbwLvtX_wMt",
        "outputId": "64790dbd-b07d-42db-e24c-265280c7330d"
      },
      "source": [
        "Base['afiliacion'] = Base['afiliacion'].fillna(0)"
      ],
      "execution_count": 515,
      "outputs": [
        {
          "output_type": "stream",
          "name": "stderr",
          "text": [
            "/usr/local/lib/python3.7/dist-packages/ipykernel_launcher.py:1: SettingWithCopyWarning: \n",
            "A value is trying to be set on a copy of a slice from a DataFrame.\n",
            "Try using .loc[row_indexer,col_indexer] = value instead\n",
            "\n",
            "See the caveats in the documentation: https://pandas.pydata.org/pandas-docs/stable/user_guide/indexing.html#returning-a-view-versus-a-copy\n",
            "  \"\"\"Entry point for launching an IPython kernel.\n"
          ]
        }
      ]
    },
    {
      "cell_type": "code",
      "metadata": {
        "colab": {
          "base_uri": "https://localhost:8080/"
        },
        "id": "iPSkx6bT_5pD",
        "outputId": "5980d6e6-b1e0-4131-b8a4-3e1c0987fa79"
      },
      "source": [
        "Base['afiliacion'].shape"
      ],
      "execution_count": 516,
      "outputs": [
        {
          "output_type": "execute_result",
          "data": {
            "text/plain": [
              "(2692,)"
            ]
          },
          "metadata": {},
          "execution_count": 516
        }
      ]
    },
    {
      "cell_type": "code",
      "metadata": {
        "colab": {
          "base_uri": "https://localhost:8080/"
        },
        "id": "tzjUn4VfqgCC",
        "outputId": "a1348efe-4020-4252-928a-0308253c040b"
      },
      "source": [
        "Base['llave'] = Base['llave'].isna()\n",
        "\n"
      ],
      "execution_count": 517,
      "outputs": [
        {
          "output_type": "stream",
          "name": "stderr",
          "text": [
            "/usr/local/lib/python3.7/dist-packages/ipykernel_launcher.py:1: SettingWithCopyWarning: \n",
            "A value is trying to be set on a copy of a slice from a DataFrame.\n",
            "Try using .loc[row_indexer,col_indexer] = value instead\n",
            "\n",
            "See the caveats in the documentation: https://pandas.pydata.org/pandas-docs/stable/user_guide/indexing.html#returning-a-view-versus-a-copy\n",
            "  \"\"\"Entry point for launching an IPython kernel.\n"
          ]
        }
      ]
    },
    {
      "cell_type": "code",
      "metadata": {
        "id": "PiiRWbL8vVSW"
      },
      "source": [
        "Base = Base[Base['llave'] == False]"
      ],
      "execution_count": 518,
      "outputs": []
    },
    {
      "cell_type": "code",
      "metadata": {
        "id": "Y2hNg-7wzb_S"
      },
      "source": [
        "Base['Total_hijos'] = Base['hijos_hombres']+ Base['hijas_mujeres']"
      ],
      "execution_count": 519,
      "outputs": []
    },
    {
      "cell_type": "code",
      "metadata": {
        "id": "fEmQ38b31AeK"
      },
      "source": [
        "Base['Total_hijos'] = Base['Total_hijos'].fillna(0)"
      ],
      "execution_count": 520,
      "outputs": []
    },
    {
      "cell_type": "code",
      "metadata": {
        "colab": {
          "base_uri": "https://localhost:8080/"
        },
        "id": "qdso1GGX2z0Y",
        "outputId": "a37894a7-43fe-4dfc-de72-2a93b2532a71"
      },
      "source": [
        "Base['Total_hijos']"
      ],
      "execution_count": 521,
      "outputs": [
        {
          "output_type": "execute_result",
          "data": {
            "text/plain": [
              "7        2.0\n",
              "9        0.0\n",
              "17       0.0\n",
              "18       0.0\n",
              "25       0.0\n",
              "        ... \n",
              "19264    0.0\n",
              "19265    0.0\n",
              "19266    0.0\n",
              "19274    3.0\n",
              "19279    4.0\n",
              "Name: Total_hijos, Length: 2425, dtype: float64"
            ]
          },
          "metadata": {},
          "execution_count": 521
        }
      ]
    },
    {
      "cell_type": "code",
      "metadata": {
        "colab": {
          "base_uri": "https://localhost:8080/"
        },
        "id": "4OdWkUCV6G42",
        "outputId": "915ca042-3fb1-4748-9baf-4d2822945d97"
      },
      "source": [
        "Base['edad']#= Df['edad']>=12 # Personas en edad de trabajar \n",
        "#Df = Df[Df['edad'] == True]"
      ],
      "execution_count": 522,
      "outputs": [
        {
          "output_type": "execute_result",
          "data": {
            "text/plain": [
              "7        30\n",
              "9        31\n",
              "17       32\n",
              "18       37\n",
              "25       59\n",
              "         ..\n",
              "19264    35\n",
              "19265    54\n",
              "19266    39\n",
              "19274    27\n",
              "19279    43\n",
              "Name: edad, Length: 2425, dtype: int64"
            ]
          },
          "metadata": {},
          "execution_count": 522
        }
      ]
    },
    {
      "cell_type": "code",
      "metadata": {
        "colab": {
          "base_uri": "https://localhost:8080/"
        },
        "id": "84gjfIuw1BfH",
        "outputId": "2e920d59-0a52-4e47-89c9-ab7853988d4f"
      },
      "source": [
        "Base['nivel_educ'].isna().sum()"
      ],
      "execution_count": 523,
      "outputs": [
        {
          "output_type": "execute_result",
          "data": {
            "text/plain": [
              "2234"
            ]
          },
          "metadata": {},
          "execution_count": 523
        }
      ]
    },
    {
      "cell_type": "code",
      "metadata": {
        "colab": {
          "base_uri": "https://localhost:8080/"
        },
        "id": "X15BU4DH3Imw",
        "outputId": "842a36a9-fb02-41ad-96e4-f5ca4066d471"
      },
      "source": [
        "2234/2692 # Base.shape "
      ],
      "execution_count": 524,
      "outputs": [
        {
          "output_type": "execute_result",
          "data": {
            "text/plain": [
              "0.8298662704309064"
            ]
          },
          "metadata": {},
          "execution_count": 524
        }
      ]
    },
    {
      "cell_type": "code",
      "metadata": {
        "colab": {
          "base_uri": "https://localhost:8080/",
          "height": 575
        },
        "id": "SGzriyB6nuTp",
        "outputId": "e3990874-cfbe-445b-b95f-840e29c4f259"
      },
      "source": [
        "Base"
      ],
      "execution_count": 525,
      "outputs": [
        {
          "output_type": "execute_result",
          "data": {
            "text/html": [
              "<div>\n",
              "<style scoped>\n",
              "    .dataframe tbody tr th:only-of-type {\n",
              "        vertical-align: middle;\n",
              "    }\n",
              "\n",
              "    .dataframe tbody tr th {\n",
              "        vertical-align: top;\n",
              "    }\n",
              "\n",
              "    .dataframe thead th {\n",
              "        text-align: right;\n",
              "    }\n",
              "</style>\n",
              "<table border=\"1\" class=\"dataframe\">\n",
              "  <thead>\n",
              "    <tr style=\"text-align: right;\">\n",
              "      <th></th>\n",
              "      <th>Unnamed: 0</th>\n",
              "      <th>ola</th>\n",
              "      <th>consecutivo</th>\n",
              "      <th>llave</th>\n",
              "      <th>hogar</th>\n",
              "      <th>llave_n16</th>\n",
              "      <th>hogar_n16</th>\n",
              "      <th>orden</th>\n",
              "      <th>seguimiento</th>\n",
              "      <th>llave_ID_lb</th>\n",
              "      <th>llaveper</th>\n",
              "      <th>llaveper_n16</th>\n",
              "      <th>edad</th>\n",
              "      <th>edad_meses</th>\n",
              "      <th>edad_tot_meses</th>\n",
              "      <th>sexo</th>\n",
              "      <th>parentesco</th>\n",
              "      <th>id_dpto_nac</th>\n",
              "      <th>id_mpio_nac</th>\n",
              "      <th>pais_nac</th>\n",
              "      <th>nac_dia</th>\n",
              "      <th>nac_mes</th>\n",
              "      <th>nac_ano</th>\n",
              "      <th>embarazada</th>\n",
              "      <th>estado_civil</th>\n",
              "      <th>vive_conyuge</th>\n",
              "      <th>orden_conyuge</th>\n",
              "      <th>fecha_edad</th>\n",
              "      <th>mes_unionm</th>\n",
              "      <th>ano_unionm</th>\n",
              "      <th>edad_unionm</th>\n",
              "      <th>etnia</th>\n",
              "      <th>padre_vive</th>\n",
              "      <th>orden_padre</th>\n",
              "      <th>madre_vive</th>\n",
              "      <th>orden_madre</th>\n",
              "      <th>parent_inform</th>\n",
              "      <th>inform_orden</th>\n",
              "      <th>novedad_perso</th>\n",
              "      <th>afiliacion</th>\n",
              "      <th>...</th>\n",
              "      <th>hace_la_paga</th>\n",
              "      <th>violar_ley</th>\n",
              "      <th>justicia_propia</th>\n",
              "      <th>uso_violencia</th>\n",
              "      <th>voto_popular</th>\n",
              "      <th>ind_bienestar</th>\n",
              "      <th>desigualdad</th>\n",
              "      <th>paga_soborno</th>\n",
              "      <th>ayu_congresista</th>\n",
              "      <th>resolvio_congres</th>\n",
              "      <th>ayu_alcalde</th>\n",
              "      <th>resolvio_alcalde</th>\n",
              "      <th>ayu_lcomunal</th>\n",
              "      <th>resolvio_lcomunal</th>\n",
              "      <th>medid1_molestan</th>\n",
              "      <th>medid2_molestan</th>\n",
              "      <th>medid3a_molestan</th>\n",
              "      <th>medid3b_molestan</th>\n",
              "      <th>medid3c_molestan</th>\n",
              "      <th>medid3d_molestan</th>\n",
              "      <th>firma_paz</th>\n",
              "      <th>evitar_iva</th>\n",
              "      <th>fuente_tv</th>\n",
              "      <th>fuente_diarios</th>\n",
              "      <th>fuente_radio</th>\n",
              "      <th>fuente_revistas</th>\n",
              "      <th>fuente_libros</th>\n",
              "      <th>fuente_internet</th>\n",
              "      <th>fuente_amigos</th>\n",
              "      <th>acepta_dinero</th>\n",
              "      <th>vr_aleatorio</th>\n",
              "      <th>vende_voto</th>\n",
              "      <th>valor_voto</th>\n",
              "      <th>voto_secreto</th>\n",
              "      <th>voto_ofrecido</th>\n",
              "      <th>nom_partido</th>\n",
              "      <th>fexpers_2010</th>\n",
              "      <th>fpers_2010</th>\n",
              "      <th>fpers_2016</th>\n",
              "      <th>Total_hijos</th>\n",
              "    </tr>\n",
              "  </thead>\n",
              "  <tbody>\n",
              "    <tr>\n",
              "      <th>7</th>\n",
              "      <td>7</td>\n",
              "      <td>3</td>\n",
              "      <td>111003</td>\n",
              "      <td>False</td>\n",
              "      <td>5.0</td>\n",
              "      <td>1.110031e+09</td>\n",
              "      <td>1</td>\n",
              "      <td>4</td>\n",
              "      <td>2</td>\n",
              "      <td>11100304.0</td>\n",
              "      <td>1.110031e+09</td>\n",
              "      <td>1.110031e+11</td>\n",
              "      <td>30</td>\n",
              "      <td>5</td>\n",
              "      <td>NaN</td>\n",
              "      <td>2</td>\n",
              "      <td>3</td>\n",
              "      <td>NaN</td>\n",
              "      <td>NaN</td>\n",
              "      <td>NaN</td>\n",
              "      <td>13</td>\n",
              "      <td>9</td>\n",
              "      <td>1985</td>\n",
              "      <td>2.0</td>\n",
              "      <td>1</td>\n",
              "      <td>1.0</td>\n",
              "      <td>6.0</td>\n",
              "      <td>NaN</td>\n",
              "      <td>NaN</td>\n",
              "      <td>NaN</td>\n",
              "      <td>NaN</td>\n",
              "      <td>NaN</td>\n",
              "      <td>3</td>\n",
              "      <td>NaN</td>\n",
              "      <td>1</td>\n",
              "      <td>1.0</td>\n",
              "      <td>NaN</td>\n",
              "      <td>4.0</td>\n",
              "      <td>0</td>\n",
              "      <td>1.0</td>\n",
              "      <td>...</td>\n",
              "      <td>3.0</td>\n",
              "      <td>2.0</td>\n",
              "      <td>3.0</td>\n",
              "      <td>3.0</td>\n",
              "      <td>2.0</td>\n",
              "      <td>2.0</td>\n",
              "      <td>2.0</td>\n",
              "      <td>3.0</td>\n",
              "      <td>2.0</td>\n",
              "      <td>NaN</td>\n",
              "      <td>2.0</td>\n",
              "      <td>NaN</td>\n",
              "      <td>2.0</td>\n",
              "      <td>NaN</td>\n",
              "      <td>5.0</td>\n",
              "      <td>NaN</td>\n",
              "      <td>NaN</td>\n",
              "      <td>NaN</td>\n",
              "      <td>NaN</td>\n",
              "      <td>NaN</td>\n",
              "      <td>2.0</td>\n",
              "      <td>2.0</td>\n",
              "      <td>1.0</td>\n",
              "      <td>2.0</td>\n",
              "      <td>2.0</td>\n",
              "      <td>2.0</td>\n",
              "      <td>2.0</td>\n",
              "      <td>1.0</td>\n",
              "      <td>2.0</td>\n",
              "      <td>NaN</td>\n",
              "      <td></td>\n",
              "      <td>2.0</td>\n",
              "      <td>$50.000</td>\n",
              "      <td>2.0</td>\n",
              "      <td>2.0</td>\n",
              "      <td>MOVIMIENTO SIGNIFICATIVO DE CIUDADANOS PROGRES...</td>\n",
              "      <td>0.989732</td>\n",
              "      <td>1402.693654</td>\n",
              "      <td>1589.85</td>\n",
              "      <td>2.0</td>\n",
              "    </tr>\n",
              "    <tr>\n",
              "      <th>9</th>\n",
              "      <td>9</td>\n",
              "      <td>3</td>\n",
              "      <td>111003</td>\n",
              "      <td>False</td>\n",
              "      <td>5.0</td>\n",
              "      <td>1.110031e+09</td>\n",
              "      <td>1</td>\n",
              "      <td>6</td>\n",
              "      <td>2</td>\n",
              "      <td>11100306.0</td>\n",
              "      <td>1.110031e+09</td>\n",
              "      <td>1.110031e+11</td>\n",
              "      <td>31</td>\n",
              "      <td>10</td>\n",
              "      <td>NaN</td>\n",
              "      <td>1</td>\n",
              "      <td>11</td>\n",
              "      <td>NaN</td>\n",
              "      <td>NaN</td>\n",
              "      <td>NaN</td>\n",
              "      <td>16</td>\n",
              "      <td>4</td>\n",
              "      <td>1984</td>\n",
              "      <td>NaN</td>\n",
              "      <td>1</td>\n",
              "      <td>1.0</td>\n",
              "      <td>4.0</td>\n",
              "      <td>NaN</td>\n",
              "      <td>NaN</td>\n",
              "      <td>NaN</td>\n",
              "      <td>NaN</td>\n",
              "      <td>NaN</td>\n",
              "      <td>3</td>\n",
              "      <td>NaN</td>\n",
              "      <td>2</td>\n",
              "      <td>NaN</td>\n",
              "      <td>NaN</td>\n",
              "      <td>6.0</td>\n",
              "      <td>0</td>\n",
              "      <td>1.0</td>\n",
              "      <td>...</td>\n",
              "      <td>NaN</td>\n",
              "      <td>NaN</td>\n",
              "      <td>NaN</td>\n",
              "      <td>NaN</td>\n",
              "      <td>NaN</td>\n",
              "      <td>NaN</td>\n",
              "      <td>NaN</td>\n",
              "      <td>NaN</td>\n",
              "      <td>NaN</td>\n",
              "      <td>NaN</td>\n",
              "      <td>NaN</td>\n",
              "      <td>NaN</td>\n",
              "      <td>NaN</td>\n",
              "      <td>NaN</td>\n",
              "      <td>NaN</td>\n",
              "      <td>NaN</td>\n",
              "      <td>NaN</td>\n",
              "      <td>NaN</td>\n",
              "      <td>NaN</td>\n",
              "      <td>NaN</td>\n",
              "      <td>NaN</td>\n",
              "      <td>NaN</td>\n",
              "      <td>NaN</td>\n",
              "      <td>NaN</td>\n",
              "      <td>NaN</td>\n",
              "      <td>NaN</td>\n",
              "      <td>NaN</td>\n",
              "      <td>NaN</td>\n",
              "      <td>NaN</td>\n",
              "      <td>NaN</td>\n",
              "      <td>NaN</td>\n",
              "      <td>NaN</td>\n",
              "      <td>NaN</td>\n",
              "      <td>NaN</td>\n",
              "      <td>NaN</td>\n",
              "      <td>NaN</td>\n",
              "      <td>1.184795</td>\n",
              "      <td>1679.145590</td>\n",
              "      <td>2538.97</td>\n",
              "      <td>0.0</td>\n",
              "    </tr>\n",
              "    <tr>\n",
              "      <th>17</th>\n",
              "      <td>17</td>\n",
              "      <td>3</td>\n",
              "      <td>111006</td>\n",
              "      <td>False</td>\n",
              "      <td>1.0</td>\n",
              "      <td>1.110060e+09</td>\n",
              "      <td>1</td>\n",
              "      <td>4</td>\n",
              "      <td>2</td>\n",
              "      <td>NaN</td>\n",
              "      <td>1.110060e+09</td>\n",
              "      <td>1.110060e+11</td>\n",
              "      <td>32</td>\n",
              "      <td>7</td>\n",
              "      <td>NaN</td>\n",
              "      <td>1</td>\n",
              "      <td>1</td>\n",
              "      <td>NaN</td>\n",
              "      <td>NaN</td>\n",
              "      <td>NaN</td>\n",
              "      <td>25</td>\n",
              "      <td>7</td>\n",
              "      <td>1983</td>\n",
              "      <td>NaN</td>\n",
              "      <td>2</td>\n",
              "      <td>1.0</td>\n",
              "      <td>1.0</td>\n",
              "      <td>2.0</td>\n",
              "      <td>NaN</td>\n",
              "      <td>NaN</td>\n",
              "      <td>21.0</td>\n",
              "      <td>NaN</td>\n",
              "      <td>2</td>\n",
              "      <td>NaN</td>\n",
              "      <td>2</td>\n",
              "      <td>NaN</td>\n",
              "      <td>NaN</td>\n",
              "      <td>1.0</td>\n",
              "      <td>0</td>\n",
              "      <td>1.0</td>\n",
              "      <td>...</td>\n",
              "      <td>NaN</td>\n",
              "      <td>NaN</td>\n",
              "      <td>NaN</td>\n",
              "      <td>NaN</td>\n",
              "      <td>NaN</td>\n",
              "      <td>NaN</td>\n",
              "      <td>NaN</td>\n",
              "      <td>NaN</td>\n",
              "      <td>NaN</td>\n",
              "      <td>NaN</td>\n",
              "      <td>NaN</td>\n",
              "      <td>NaN</td>\n",
              "      <td>NaN</td>\n",
              "      <td>NaN</td>\n",
              "      <td>NaN</td>\n",
              "      <td>NaN</td>\n",
              "      <td>NaN</td>\n",
              "      <td>NaN</td>\n",
              "      <td>NaN</td>\n",
              "      <td>NaN</td>\n",
              "      <td>NaN</td>\n",
              "      <td>NaN</td>\n",
              "      <td>NaN</td>\n",
              "      <td>NaN</td>\n",
              "      <td>NaN</td>\n",
              "      <td>NaN</td>\n",
              "      <td>NaN</td>\n",
              "      <td>NaN</td>\n",
              "      <td>NaN</td>\n",
              "      <td>NaN</td>\n",
              "      <td>NaN</td>\n",
              "      <td>NaN</td>\n",
              "      <td>NaN</td>\n",
              "      <td>NaN</td>\n",
              "      <td>NaN</td>\n",
              "      <td>NaN</td>\n",
              "      <td>NaN</td>\n",
              "      <td>NaN</td>\n",
              "      <td>2538.97</td>\n",
              "      <td>0.0</td>\n",
              "    </tr>\n",
              "    <tr>\n",
              "      <th>18</th>\n",
              "      <td>18</td>\n",
              "      <td>3</td>\n",
              "      <td>111009</td>\n",
              "      <td>False</td>\n",
              "      <td>1.0</td>\n",
              "      <td>1.110090e+09</td>\n",
              "      <td>1</td>\n",
              "      <td>1</td>\n",
              "      <td>1</td>\n",
              "      <td>11100901.0</td>\n",
              "      <td>1.110090e+09</td>\n",
              "      <td>1.110090e+11</td>\n",
              "      <td>37</td>\n",
              "      <td>5</td>\n",
              "      <td>NaN</td>\n",
              "      <td>1</td>\n",
              "      <td>1</td>\n",
              "      <td>NaN</td>\n",
              "      <td>NaN</td>\n",
              "      <td>NaN</td>\n",
              "      <td>27</td>\n",
              "      <td>9</td>\n",
              "      <td>1978</td>\n",
              "      <td>NaN</td>\n",
              "      <td>2</td>\n",
              "      <td>1.0</td>\n",
              "      <td>2.0</td>\n",
              "      <td>2.0</td>\n",
              "      <td>NaN</td>\n",
              "      <td>NaN</td>\n",
              "      <td>21.0</td>\n",
              "      <td>NaN</td>\n",
              "      <td>3</td>\n",
              "      <td>NaN</td>\n",
              "      <td>3</td>\n",
              "      <td>NaN</td>\n",
              "      <td>NaN</td>\n",
              "      <td>NaN</td>\n",
              "      <td>0</td>\n",
              "      <td>1.0</td>\n",
              "      <td>...</td>\n",
              "      <td>NaN</td>\n",
              "      <td>NaN</td>\n",
              "      <td>NaN</td>\n",
              "      <td>NaN</td>\n",
              "      <td>NaN</td>\n",
              "      <td>NaN</td>\n",
              "      <td>NaN</td>\n",
              "      <td>NaN</td>\n",
              "      <td>NaN</td>\n",
              "      <td>NaN</td>\n",
              "      <td>NaN</td>\n",
              "      <td>NaN</td>\n",
              "      <td>NaN</td>\n",
              "      <td>NaN</td>\n",
              "      <td>NaN</td>\n",
              "      <td>NaN</td>\n",
              "      <td>NaN</td>\n",
              "      <td>NaN</td>\n",
              "      <td>NaN</td>\n",
              "      <td>NaN</td>\n",
              "      <td>NaN</td>\n",
              "      <td>NaN</td>\n",
              "      <td>NaN</td>\n",
              "      <td>NaN</td>\n",
              "      <td>NaN</td>\n",
              "      <td>NaN</td>\n",
              "      <td>NaN</td>\n",
              "      <td>NaN</td>\n",
              "      <td>NaN</td>\n",
              "      <td>NaN</td>\n",
              "      <td>NaN</td>\n",
              "      <td>NaN</td>\n",
              "      <td>NaN</td>\n",
              "      <td>NaN</td>\n",
              "      <td>NaN</td>\n",
              "      <td>NaN</td>\n",
              "      <td>0.394932</td>\n",
              "      <td>559.715155</td>\n",
              "      <td>846.32</td>\n",
              "      <td>0.0</td>\n",
              "    </tr>\n",
              "    <tr>\n",
              "      <th>25</th>\n",
              "      <td>25</td>\n",
              "      <td>3</td>\n",
              "      <td>111011</td>\n",
              "      <td>False</td>\n",
              "      <td>1.0</td>\n",
              "      <td>1.110110e+09</td>\n",
              "      <td>1</td>\n",
              "      <td>1</td>\n",
              "      <td>1</td>\n",
              "      <td>11101101.0</td>\n",
              "      <td>1.110110e+09</td>\n",
              "      <td>1.110110e+11</td>\n",
              "      <td>59</td>\n",
              "      <td>3</td>\n",
              "      <td>NaN</td>\n",
              "      <td>1</td>\n",
              "      <td>1</td>\n",
              "      <td>NaN</td>\n",
              "      <td>NaN</td>\n",
              "      <td>NaN</td>\n",
              "      <td>10</td>\n",
              "      <td>11</td>\n",
              "      <td>1956</td>\n",
              "      <td>NaN</td>\n",
              "      <td>2</td>\n",
              "      <td>1.0</td>\n",
              "      <td>2.0</td>\n",
              "      <td>2.0</td>\n",
              "      <td>NaN</td>\n",
              "      <td>NaN</td>\n",
              "      <td>27.0</td>\n",
              "      <td>NaN</td>\n",
              "      <td>3</td>\n",
              "      <td>NaN</td>\n",
              "      <td>3</td>\n",
              "      <td>NaN</td>\n",
              "      <td>NaN</td>\n",
              "      <td>NaN</td>\n",
              "      <td>0</td>\n",
              "      <td>1.0</td>\n",
              "      <td>...</td>\n",
              "      <td>NaN</td>\n",
              "      <td>NaN</td>\n",
              "      <td>NaN</td>\n",
              "      <td>NaN</td>\n",
              "      <td>NaN</td>\n",
              "      <td>NaN</td>\n",
              "      <td>NaN</td>\n",
              "      <td>NaN</td>\n",
              "      <td>NaN</td>\n",
              "      <td>NaN</td>\n",
              "      <td>NaN</td>\n",
              "      <td>NaN</td>\n",
              "      <td>NaN</td>\n",
              "      <td>NaN</td>\n",
              "      <td>NaN</td>\n",
              "      <td>NaN</td>\n",
              "      <td>NaN</td>\n",
              "      <td>NaN</td>\n",
              "      <td>NaN</td>\n",
              "      <td>NaN</td>\n",
              "      <td>NaN</td>\n",
              "      <td>NaN</td>\n",
              "      <td>NaN</td>\n",
              "      <td>NaN</td>\n",
              "      <td>NaN</td>\n",
              "      <td>NaN</td>\n",
              "      <td>NaN</td>\n",
              "      <td>NaN</td>\n",
              "      <td>NaN</td>\n",
              "      <td>NaN</td>\n",
              "      <td>NaN</td>\n",
              "      <td>NaN</td>\n",
              "      <td>NaN</td>\n",
              "      <td>NaN</td>\n",
              "      <td>NaN</td>\n",
              "      <td>NaN</td>\n",
              "      <td>0.361549</td>\n",
              "      <td>512.404173</td>\n",
              "      <td>745.68</td>\n",
              "      <td>0.0</td>\n",
              "    </tr>\n",
              "    <tr>\n",
              "      <th>...</th>\n",
              "      <td>...</td>\n",
              "      <td>...</td>\n",
              "      <td>...</td>\n",
              "      <td>...</td>\n",
              "      <td>...</td>\n",
              "      <td>...</td>\n",
              "      <td>...</td>\n",
              "      <td>...</td>\n",
              "      <td>...</td>\n",
              "      <td>...</td>\n",
              "      <td>...</td>\n",
              "      <td>...</td>\n",
              "      <td>...</td>\n",
              "      <td>...</td>\n",
              "      <td>...</td>\n",
              "      <td>...</td>\n",
              "      <td>...</td>\n",
              "      <td>...</td>\n",
              "      <td>...</td>\n",
              "      <td>...</td>\n",
              "      <td>...</td>\n",
              "      <td>...</td>\n",
              "      <td>...</td>\n",
              "      <td>...</td>\n",
              "      <td>...</td>\n",
              "      <td>...</td>\n",
              "      <td>...</td>\n",
              "      <td>...</td>\n",
              "      <td>...</td>\n",
              "      <td>...</td>\n",
              "      <td>...</td>\n",
              "      <td>...</td>\n",
              "      <td>...</td>\n",
              "      <td>...</td>\n",
              "      <td>...</td>\n",
              "      <td>...</td>\n",
              "      <td>...</td>\n",
              "      <td>...</td>\n",
              "      <td>...</td>\n",
              "      <td>...</td>\n",
              "      <td>...</td>\n",
              "      <td>...</td>\n",
              "      <td>...</td>\n",
              "      <td>...</td>\n",
              "      <td>...</td>\n",
              "      <td>...</td>\n",
              "      <td>...</td>\n",
              "      <td>...</td>\n",
              "      <td>...</td>\n",
              "      <td>...</td>\n",
              "      <td>...</td>\n",
              "      <td>...</td>\n",
              "      <td>...</td>\n",
              "      <td>...</td>\n",
              "      <td>...</td>\n",
              "      <td>...</td>\n",
              "      <td>...</td>\n",
              "      <td>...</td>\n",
              "      <td>...</td>\n",
              "      <td>...</td>\n",
              "      <td>...</td>\n",
              "      <td>...</td>\n",
              "      <td>...</td>\n",
              "      <td>...</td>\n",
              "      <td>...</td>\n",
              "      <td>...</td>\n",
              "      <td>...</td>\n",
              "      <td>...</td>\n",
              "      <td>...</td>\n",
              "      <td>...</td>\n",
              "      <td>...</td>\n",
              "      <td>...</td>\n",
              "      <td>...</td>\n",
              "      <td>...</td>\n",
              "      <td>...</td>\n",
              "      <td>...</td>\n",
              "      <td>...</td>\n",
              "      <td>...</td>\n",
              "      <td>...</td>\n",
              "      <td>...</td>\n",
              "      <td>...</td>\n",
              "    </tr>\n",
              "    <tr>\n",
              "      <th>19264</th>\n",
              "      <td>19264</td>\n",
              "      <td>3</td>\n",
              "      <td>226618</td>\n",
              "      <td>False</td>\n",
              "      <td>1.0</td>\n",
              "      <td>2.266180e+09</td>\n",
              "      <td>1</td>\n",
              "      <td>1</td>\n",
              "      <td>1</td>\n",
              "      <td>22661801.0</td>\n",
              "      <td>2.266180e+09</td>\n",
              "      <td>2.266180e+11</td>\n",
              "      <td>35</td>\n",
              "      <td>7</td>\n",
              "      <td>NaN</td>\n",
              "      <td>1</td>\n",
              "      <td>1</td>\n",
              "      <td>NaN</td>\n",
              "      <td>NaN</td>\n",
              "      <td>NaN</td>\n",
              "      <td>24</td>\n",
              "      <td>8</td>\n",
              "      <td>1980</td>\n",
              "      <td>NaN</td>\n",
              "      <td>1</td>\n",
              "      <td>1.0</td>\n",
              "      <td>2.0</td>\n",
              "      <td>2.0</td>\n",
              "      <td>NaN</td>\n",
              "      <td>NaN</td>\n",
              "      <td>22.0</td>\n",
              "      <td>NaN</td>\n",
              "      <td>2</td>\n",
              "      <td>NaN</td>\n",
              "      <td>2</td>\n",
              "      <td>NaN</td>\n",
              "      <td>NaN</td>\n",
              "      <td>NaN</td>\n",
              "      <td>0</td>\n",
              "      <td>1.0</td>\n",
              "      <td>...</td>\n",
              "      <td>NaN</td>\n",
              "      <td>NaN</td>\n",
              "      <td>NaN</td>\n",
              "      <td>NaN</td>\n",
              "      <td>NaN</td>\n",
              "      <td>NaN</td>\n",
              "      <td>NaN</td>\n",
              "      <td>NaN</td>\n",
              "      <td>NaN</td>\n",
              "      <td>NaN</td>\n",
              "      <td>NaN</td>\n",
              "      <td>NaN</td>\n",
              "      <td>NaN</td>\n",
              "      <td>NaN</td>\n",
              "      <td>NaN</td>\n",
              "      <td>NaN</td>\n",
              "      <td>NaN</td>\n",
              "      <td>NaN</td>\n",
              "      <td>NaN</td>\n",
              "      <td>NaN</td>\n",
              "      <td>NaN</td>\n",
              "      <td>NaN</td>\n",
              "      <td>NaN</td>\n",
              "      <td>NaN</td>\n",
              "      <td>NaN</td>\n",
              "      <td>NaN</td>\n",
              "      <td>NaN</td>\n",
              "      <td>NaN</td>\n",
              "      <td>NaN</td>\n",
              "      <td>NaN</td>\n",
              "      <td>NaN</td>\n",
              "      <td>NaN</td>\n",
              "      <td>NaN</td>\n",
              "      <td>NaN</td>\n",
              "      <td>NaN</td>\n",
              "      <td>NaN</td>\n",
              "      <td>0.165316</td>\n",
              "      <td>234.293316</td>\n",
              "      <td>174.34</td>\n",
              "      <td>0.0</td>\n",
              "    </tr>\n",
              "    <tr>\n",
              "      <th>19265</th>\n",
              "      <td>19265</td>\n",
              "      <td>3</td>\n",
              "      <td>226618</td>\n",
              "      <td>False</td>\n",
              "      <td>1.0</td>\n",
              "      <td>2.266180e+09</td>\n",
              "      <td>1</td>\n",
              "      <td>2</td>\n",
              "      <td>1</td>\n",
              "      <td>22661802.0</td>\n",
              "      <td>2.266180e+09</td>\n",
              "      <td>2.266180e+11</td>\n",
              "      <td>54</td>\n",
              "      <td>7</td>\n",
              "      <td>NaN</td>\n",
              "      <td>2</td>\n",
              "      <td>2</td>\n",
              "      <td>NaN</td>\n",
              "      <td>NaN</td>\n",
              "      <td>NaN</td>\n",
              "      <td>25</td>\n",
              "      <td>8</td>\n",
              "      <td>1961</td>\n",
              "      <td>NaN</td>\n",
              "      <td>1</td>\n",
              "      <td>1.0</td>\n",
              "      <td>1.0</td>\n",
              "      <td>2.0</td>\n",
              "      <td>NaN</td>\n",
              "      <td>NaN</td>\n",
              "      <td>42.0</td>\n",
              "      <td>NaN</td>\n",
              "      <td>3</td>\n",
              "      <td>NaN</td>\n",
              "      <td>3</td>\n",
              "      <td>NaN</td>\n",
              "      <td>NaN</td>\n",
              "      <td>NaN</td>\n",
              "      <td>0</td>\n",
              "      <td>1.0</td>\n",
              "      <td>...</td>\n",
              "      <td>2.0</td>\n",
              "      <td>3.0</td>\n",
              "      <td>3.0</td>\n",
              "      <td>3.0</td>\n",
              "      <td>2.0</td>\n",
              "      <td>2.0</td>\n",
              "      <td>2.0</td>\n",
              "      <td>3.0</td>\n",
              "      <td>2.0</td>\n",
              "      <td>NaN</td>\n",
              "      <td>2.0</td>\n",
              "      <td>NaN</td>\n",
              "      <td>2.0</td>\n",
              "      <td>NaN</td>\n",
              "      <td>2.0</td>\n",
              "      <td>NaN</td>\n",
              "      <td>NaN</td>\n",
              "      <td>NaN</td>\n",
              "      <td>NaN</td>\n",
              "      <td>NaN</td>\n",
              "      <td>3.0</td>\n",
              "      <td>2.0</td>\n",
              "      <td>1.0</td>\n",
              "      <td>2.0</td>\n",
              "      <td>2.0</td>\n",
              "      <td>2.0</td>\n",
              "      <td>2.0</td>\n",
              "      <td>2.0</td>\n",
              "      <td>1.0</td>\n",
              "      <td>NaN</td>\n",
              "      <td></td>\n",
              "      <td>2.0</td>\n",
              "      <td>$10.000</td>\n",
              "      <td>2.0</td>\n",
              "      <td>2.0</td>\n",
              "      <td>NaN</td>\n",
              "      <td>0.207613</td>\n",
              "      <td>294.239133</td>\n",
              "      <td>184.79</td>\n",
              "      <td>0.0</td>\n",
              "    </tr>\n",
              "    <tr>\n",
              "      <th>19266</th>\n",
              "      <td>19266</td>\n",
              "      <td>3</td>\n",
              "      <td>226619</td>\n",
              "      <td>False</td>\n",
              "      <td>1.0</td>\n",
              "      <td>2.266190e+09</td>\n",
              "      <td>1</td>\n",
              "      <td>1</td>\n",
              "      <td>1</td>\n",
              "      <td>22661901.0</td>\n",
              "      <td>2.266190e+09</td>\n",
              "      <td>2.266190e+11</td>\n",
              "      <td>39</td>\n",
              "      <td>5</td>\n",
              "      <td>NaN</td>\n",
              "      <td>1</td>\n",
              "      <td>1</td>\n",
              "      <td>NaN</td>\n",
              "      <td>NaN</td>\n",
              "      <td>NaN</td>\n",
              "      <td>6</td>\n",
              "      <td>10</td>\n",
              "      <td>1976</td>\n",
              "      <td>NaN</td>\n",
              "      <td>2</td>\n",
              "      <td>1.0</td>\n",
              "      <td>2.0</td>\n",
              "      <td>2.0</td>\n",
              "      <td>NaN</td>\n",
              "      <td>NaN</td>\n",
              "      <td>23.0</td>\n",
              "      <td>NaN</td>\n",
              "      <td>2</td>\n",
              "      <td>NaN</td>\n",
              "      <td>2</td>\n",
              "      <td>NaN</td>\n",
              "      <td>NaN</td>\n",
              "      <td>NaN</td>\n",
              "      <td>0</td>\n",
              "      <td>1.0</td>\n",
              "      <td>...</td>\n",
              "      <td>NaN</td>\n",
              "      <td>NaN</td>\n",
              "      <td>NaN</td>\n",
              "      <td>NaN</td>\n",
              "      <td>NaN</td>\n",
              "      <td>NaN</td>\n",
              "      <td>NaN</td>\n",
              "      <td>NaN</td>\n",
              "      <td>NaN</td>\n",
              "      <td>NaN</td>\n",
              "      <td>NaN</td>\n",
              "      <td>NaN</td>\n",
              "      <td>NaN</td>\n",
              "      <td>NaN</td>\n",
              "      <td>NaN</td>\n",
              "      <td>NaN</td>\n",
              "      <td>NaN</td>\n",
              "      <td>NaN</td>\n",
              "      <td>NaN</td>\n",
              "      <td>NaN</td>\n",
              "      <td>NaN</td>\n",
              "      <td>NaN</td>\n",
              "      <td>NaN</td>\n",
              "      <td>NaN</td>\n",
              "      <td>NaN</td>\n",
              "      <td>NaN</td>\n",
              "      <td>NaN</td>\n",
              "      <td>NaN</td>\n",
              "      <td>NaN</td>\n",
              "      <td>NaN</td>\n",
              "      <td>NaN</td>\n",
              "      <td>NaN</td>\n",
              "      <td>NaN</td>\n",
              "      <td>NaN</td>\n",
              "      <td>NaN</td>\n",
              "      <td>NaN</td>\n",
              "      <td>0.165316</td>\n",
              "      <td>234.293316</td>\n",
              "      <td>174.34</td>\n",
              "      <td>0.0</td>\n",
              "    </tr>\n",
              "    <tr>\n",
              "      <th>19274</th>\n",
              "      <td>19274</td>\n",
              "      <td>3</td>\n",
              "      <td>226622</td>\n",
              "      <td>False</td>\n",
              "      <td>1.0</td>\n",
              "      <td>2.266220e+09</td>\n",
              "      <td>1</td>\n",
              "      <td>1</td>\n",
              "      <td>1</td>\n",
              "      <td>22662201.0</td>\n",
              "      <td>2.266220e+09</td>\n",
              "      <td>2.266220e+11</td>\n",
              "      <td>27</td>\n",
              "      <td>1</td>\n",
              "      <td>NaN</td>\n",
              "      <td>2</td>\n",
              "      <td>1</td>\n",
              "      <td>NaN</td>\n",
              "      <td>NaN</td>\n",
              "      <td>NaN</td>\n",
              "      <td>22</td>\n",
              "      <td>2</td>\n",
              "      <td>1989</td>\n",
              "      <td>2.0</td>\n",
              "      <td>5</td>\n",
              "      <td>NaN</td>\n",
              "      <td>NaN</td>\n",
              "      <td>NaN</td>\n",
              "      <td>NaN</td>\n",
              "      <td>NaN</td>\n",
              "      <td>NaN</td>\n",
              "      <td>NaN</td>\n",
              "      <td>2</td>\n",
              "      <td>NaN</td>\n",
              "      <td>2</td>\n",
              "      <td>NaN</td>\n",
              "      <td>NaN</td>\n",
              "      <td>NaN</td>\n",
              "      <td>0</td>\n",
              "      <td>1.0</td>\n",
              "      <td>...</td>\n",
              "      <td>3.0</td>\n",
              "      <td>3.0</td>\n",
              "      <td>2.0</td>\n",
              "      <td>3.0</td>\n",
              "      <td>1.0</td>\n",
              "      <td>2.0</td>\n",
              "      <td>4.0</td>\n",
              "      <td>1.0</td>\n",
              "      <td>2.0</td>\n",
              "      <td>NaN</td>\n",
              "      <td>2.0</td>\n",
              "      <td>NaN</td>\n",
              "      <td>2.0</td>\n",
              "      <td>NaN</td>\n",
              "      <td>2.0</td>\n",
              "      <td>NaN</td>\n",
              "      <td>NaN</td>\n",
              "      <td>NaN</td>\n",
              "      <td>NaN</td>\n",
              "      <td>NaN</td>\n",
              "      <td>1.0</td>\n",
              "      <td>1.0</td>\n",
              "      <td>1.0</td>\n",
              "      <td>2.0</td>\n",
              "      <td>2.0</td>\n",
              "      <td>2.0</td>\n",
              "      <td>2.0</td>\n",
              "      <td>2.0</td>\n",
              "      <td>2.0</td>\n",
              "      <td>NaN</td>\n",
              "      <td></td>\n",
              "      <td>2.0</td>\n",
              "      <td>$30.000</td>\n",
              "      <td>1.0</td>\n",
              "      <td>2.0</td>\n",
              "      <td>PARTIDO LIBERAL - CAMBIO RADICAL</td>\n",
              "      <td>0.064639</td>\n",
              "      <td>91.609287</td>\n",
              "      <td>139.92</td>\n",
              "      <td>3.0</td>\n",
              "    </tr>\n",
              "    <tr>\n",
              "      <th>19279</th>\n",
              "      <td>19279</td>\n",
              "      <td>3</td>\n",
              "      <td>226623</td>\n",
              "      <td>False</td>\n",
              "      <td>1.0</td>\n",
              "      <td>2.266230e+09</td>\n",
              "      <td>1</td>\n",
              "      <td>2</td>\n",
              "      <td>1</td>\n",
              "      <td>22662302.0</td>\n",
              "      <td>2.266230e+09</td>\n",
              "      <td>2.266230e+11</td>\n",
              "      <td>43</td>\n",
              "      <td>8</td>\n",
              "      <td>NaN</td>\n",
              "      <td>2</td>\n",
              "      <td>2</td>\n",
              "      <td>NaN</td>\n",
              "      <td>NaN</td>\n",
              "      <td>NaN</td>\n",
              "      <td>4</td>\n",
              "      <td>7</td>\n",
              "      <td>1972</td>\n",
              "      <td>2.0</td>\n",
              "      <td>2</td>\n",
              "      <td>1.0</td>\n",
              "      <td>1.0</td>\n",
              "      <td>2.0</td>\n",
              "      <td>NaN</td>\n",
              "      <td>NaN</td>\n",
              "      <td>17.0</td>\n",
              "      <td>NaN</td>\n",
              "      <td>2</td>\n",
              "      <td>NaN</td>\n",
              "      <td>2</td>\n",
              "      <td>NaN</td>\n",
              "      <td>NaN</td>\n",
              "      <td>NaN</td>\n",
              "      <td>0</td>\n",
              "      <td>1.0</td>\n",
              "      <td>...</td>\n",
              "      <td>NaN</td>\n",
              "      <td>NaN</td>\n",
              "      <td>NaN</td>\n",
              "      <td>NaN</td>\n",
              "      <td>NaN</td>\n",
              "      <td>NaN</td>\n",
              "      <td>NaN</td>\n",
              "      <td>NaN</td>\n",
              "      <td>NaN</td>\n",
              "      <td>NaN</td>\n",
              "      <td>NaN</td>\n",
              "      <td>NaN</td>\n",
              "      <td>NaN</td>\n",
              "      <td>NaN</td>\n",
              "      <td>NaN</td>\n",
              "      <td>NaN</td>\n",
              "      <td>NaN</td>\n",
              "      <td>NaN</td>\n",
              "      <td>NaN</td>\n",
              "      <td>NaN</td>\n",
              "      <td>NaN</td>\n",
              "      <td>NaN</td>\n",
              "      <td>NaN</td>\n",
              "      <td>NaN</td>\n",
              "      <td>NaN</td>\n",
              "      <td>NaN</td>\n",
              "      <td>NaN</td>\n",
              "      <td>NaN</td>\n",
              "      <td>NaN</td>\n",
              "      <td>NaN</td>\n",
              "      <td>NaN</td>\n",
              "      <td>NaN</td>\n",
              "      <td>NaN</td>\n",
              "      <td>NaN</td>\n",
              "      <td>NaN</td>\n",
              "      <td>NaN</td>\n",
              "      <td>0.064639</td>\n",
              "      <td>91.609287</td>\n",
              "      <td>145.06</td>\n",
              "      <td>4.0</td>\n",
              "    </tr>\n",
              "  </tbody>\n",
              "</table>\n",
              "<p>2425 rows × 648 columns</p>\n",
              "</div>"
            ],
            "text/plain": [
              "       Unnamed: 0  ola  consecutivo  ...   fpers_2010  fpers_2016  Total_hijos\n",
              "7               7    3       111003  ...  1402.693654     1589.85          2.0\n",
              "9               9    3       111003  ...  1679.145590     2538.97          0.0\n",
              "17             17    3       111006  ...          NaN     2538.97          0.0\n",
              "18             18    3       111009  ...   559.715155      846.32          0.0\n",
              "25             25    3       111011  ...   512.404173      745.68          0.0\n",
              "...           ...  ...          ...  ...          ...         ...          ...\n",
              "19264       19264    3       226618  ...   234.293316      174.34          0.0\n",
              "19265       19265    3       226618  ...   294.239133      184.79          0.0\n",
              "19266       19266    3       226619  ...   234.293316      174.34          0.0\n",
              "19274       19274    3       226622  ...    91.609287      139.92          3.0\n",
              "19279       19279    3       226623  ...    91.609287      145.06          4.0\n",
              "\n",
              "[2425 rows x 648 columns]"
            ]
          },
          "metadata": {},
          "execution_count": 525
        }
      ]
    },
    {
      "cell_type": "code",
      "metadata": {
        "colab": {
          "base_uri": "https://localhost:8080/"
        },
        "id": "_vrLk36-oY1a",
        "outputId": "d1c73e42-fc81-400b-ce05-0ca169df2887"
      },
      "source": [
        "Base['estado_civil']"
      ],
      "execution_count": 526,
      "outputs": [
        {
          "output_type": "execute_result",
          "data": {
            "text/plain": [
              "7        1\n",
              "9        1\n",
              "17       2\n",
              "18       2\n",
              "25       2\n",
              "        ..\n",
              "19264    1\n",
              "19265    1\n",
              "19266    2\n",
              "19274    5\n",
              "19279    2\n",
              "Name: estado_civil, Length: 2425, dtype: int64"
            ]
          },
          "metadata": {},
          "execution_count": 526
        }
      ]
    },
    {
      "cell_type": "code",
      "metadata": {
        "colab": {
          "base_uri": "https://localhost:8080/"
        },
        "id": "zn4LviFaobGt",
        "outputId": "97e6fa64-df5a-4766-f466-271fcde6369a"
      },
      "source": [
        "Base['tipo_contrato'].isna()"
      ],
      "execution_count": 527,
      "outputs": [
        {
          "output_type": "execute_result",
          "data": {
            "text/plain": [
              "7        False\n",
              "9        False\n",
              "17       False\n",
              "18       False\n",
              "25       False\n",
              "         ...  \n",
              "19264    False\n",
              "19265    False\n",
              "19266    False\n",
              "19274    False\n",
              "19279    False\n",
              "Name: tipo_contrato, Length: 2425, dtype: bool"
            ]
          },
          "metadata": {},
          "execution_count": 527
        }
      ]
    },
    {
      "cell_type": "code",
      "metadata": {
        "colab": {
          "base_uri": "https://localhost:8080/"
        },
        "id": "YipokvdxpZu7",
        "outputId": "78f4db7a-82d3-44ae-f625-915a91b31198"
      },
      "source": [
        "Base['horas_normal']"
      ],
      "execution_count": 528,
      "outputs": [
        {
          "output_type": "execute_result",
          "data": {
            "text/plain": [
              "7        48.0\n",
              "9        50.0\n",
              "17       48.0\n",
              "18       48.0\n",
              "25       84.0\n",
              "         ... \n",
              "19264    48.0\n",
              "19265    56.0\n",
              "19266    82.0\n",
              "19274    48.0\n",
              "19279    48.0\n",
              "Name: horas_normal, Length: 2425, dtype: float64"
            ]
          },
          "metadata": {},
          "execution_count": 528
        }
      ]
    },
    {
      "cell_type": "code",
      "metadata": {
        "colab": {
          "base_uri": "https://localhost:8080/"
        },
        "id": "CJUP5tH3pmnO",
        "outputId": "0e5d0637-0fda-4838-f9c0-b15a7ee7b0aa"
      },
      "source": [
        "Base['n_empleados']"
      ],
      "execution_count": 529,
      "outputs": [
        {
          "output_type": "execute_result",
          "data": {
            "text/plain": [
              "7        6.0\n",
              "9        6.0\n",
              "17       6.0\n",
              "18       2.0\n",
              "25       2.0\n",
              "        ... \n",
              "19264    6.0\n",
              "19265    6.0\n",
              "19266    2.0\n",
              "19274    6.0\n",
              "19279    6.0\n",
              "Name: n_empleados, Length: 2425, dtype: float64"
            ]
          },
          "metadata": {},
          "execution_count": 529
        }
      ]
    },
    {
      "cell_type": "code",
      "metadata": {
        "colab": {
          "base_uri": "https://localhost:8080/"
        },
        "id": "TPWb1bJDtxln",
        "outputId": "c413a280-59e1-4909-a5f3-43ae3b597afe"
      },
      "source": [
        "Base['Total_hijos']"
      ],
      "execution_count": 530,
      "outputs": [
        {
          "output_type": "execute_result",
          "data": {
            "text/plain": [
              "7        2.0\n",
              "9        0.0\n",
              "17       0.0\n",
              "18       0.0\n",
              "25       0.0\n",
              "        ... \n",
              "19264    0.0\n",
              "19265    0.0\n",
              "19266    0.0\n",
              "19274    3.0\n",
              "19279    4.0\n",
              "Name: Total_hijos, Length: 2425, dtype: float64"
            ]
          },
          "metadata": {},
          "execution_count": 530
        }
      ]
    },
    {
      "cell_type": "code",
      "metadata": {
        "id": "3MhPM_-R3A3d"
      },
      "source": [
        "Base['vr_salario'] = Base['vr_salario'].astype(int)"
      ],
      "execution_count": 531,
      "outputs": []
    },
    {
      "cell_type": "code",
      "metadata": {
        "id": "qGBJUd-b4k8f"
      },
      "source": [
        "Base['estado_civil'] = Base['estado_civil'].astype(int)"
      ],
      "execution_count": 532,
      "outputs": []
    },
    {
      "cell_type": "code",
      "metadata": {
        "id": "a5GPwsS5-U8u"
      },
      "source": [
        "Base['tipo_contrato'] = Base['tipo_contrato'].fillna(0)"
      ],
      "execution_count": 533,
      "outputs": []
    },
    {
      "cell_type": "code",
      "metadata": {
        "id": "5LU22nv49-cC"
      },
      "source": [
        "Base['tipo_contrato'] = Base['tipo_contrato'].astype(int)"
      ],
      "execution_count": 534,
      "outputs": []
    },
    {
      "cell_type": "code",
      "metadata": {
        "id": "v6rBlcQ3-z1l"
      },
      "source": [
        "Base['n_empleados'] = Base['n_empleados'].fillna(0)"
      ],
      "execution_count": 535,
      "outputs": []
    },
    {
      "cell_type": "code",
      "metadata": {
        "id": "2sMJ2guD_BHW"
      },
      "source": [
        "Base['n_empleados'] = Base['n_empleados'].astype(int)"
      ],
      "execution_count": 536,
      "outputs": []
    },
    {
      "cell_type": "code",
      "metadata": {
        "id": "JPmlWuMI_NZ2"
      },
      "source": [
        "Base['estado_civil'] = Base['estado_civil'].astype(int)"
      ],
      "execution_count": 537,
      "outputs": []
    },
    {
      "cell_type": "code",
      "metadata": {
        "id": "jg8E1_wE_eje"
      },
      "source": [
        "Base['Total_hijos'] = Base['Total_hijos'].astype(int)"
      ],
      "execution_count": 538,
      "outputs": []
    },
    {
      "cell_type": "code",
      "metadata": {
        "id": "O3YMKSDoBQDl"
      },
      "source": [
        "Base['afiliacion'] = Base['afiliacion'].astype(int)"
      ],
      "execution_count": 539,
      "outputs": []
    },
    {
      "cell_type": "code",
      "metadata": {
        "id": "BXwXD4awt3k_"
      },
      "source": [
        "Base_total = Base.loc[:, ['edad','sexo','estado_civil','Total_hijos', 'tipo_contrato', 'afiliacion', 'n_empleados', 'vr_salario']] #BASE FINAL"
      ],
      "execution_count": 540,
      "outputs": []
    },
    {
      "cell_type": "markdown",
      "metadata": {
        "id": "A4jn1gZzYmw2"
      },
      "source": [
        "## Punto 2\n",
        "\n",
        "Filtre el dataset seleccionando únicamente siete variables que considere relevantes para explicar la variable 'vr_salario'. (Una ayuda: edad, sexo y estado_civil, deben ser las primeras tres). Justifique la selección."
      ]
    },
    {
      "cell_type": "markdown",
      "metadata": {
        "id": "9p3HO6QnwQvt"
      },
      "source": [
        "Se tomó la variable 'Total_hijos' = Es la suma de las variables 'hijos_hombres' e 'hijas_mujeres'. Tambien se seleccionaron variables como 'tipo_contrato' y 'n_empleados' ya que ellas pueden explicar el valor del salario. \n",
        "Segun Edgar Silva Quintero quien realizo un master en economia en la Universidad de Zaragoza escribió que los principales factores determinantes de los salarios en\n",
        "Colombia son aquellas variables anteriormente nombradas. Por ejemplo, él afirma que las empresas con mayor número de trabajadores pagan salarios más elevados por contar con personal más cualificado o por compensar a sus trabajadores por ofrecer puestos de trabajo más desagradables con un ambiente laboral inadecuado. \n",
        "Por otra parte, el tipo de contrato utilizado puede afectar la variable salario al momento de determinar si es un contrato verbal, contrato escrito a término\n",
        "indefinido o contrato escrito a término fijo.\n",
        "Variables como sexo, edad y estado civil se usaran para hacer comparaciones e identificar quienes tienen mayor o menor salario.\n",
        "\n",
        "Para explicar mejor el porque de la seleccion de estas variables se hace a continucion un analisis exploratorio de datos en el punto 3"
      ]
    },
    {
      "cell_type": "markdown",
      "metadata": {
        "id": "OQhTrCszY991"
      },
      "source": [
        "## Punto 3"
      ]
    },
    {
      "cell_type": "code",
      "metadata": {
        "id": "VJL6X2E20XPj"
      },
      "source": [
        "import matplotlib.pyplot as plt \n",
        "import seaborn as sns"
      ],
      "execution_count": 541,
      "outputs": []
    },
    {
      "cell_type": "code",
      "metadata": {
        "colab": {
          "base_uri": "https://localhost:8080/",
          "height": 293
        },
        "id": "_sHUjHms1Bny",
        "outputId": "32917e31-88a3-42c8-b3d9-72b5b5d30be5"
      },
      "source": [
        "plt.scatter(Base['edad'],Base['vr_salario'])"
      ],
      "execution_count": 542,
      "outputs": [
        {
          "output_type": "execute_result",
          "data": {
            "text/plain": [
              "<matplotlib.collections.PathCollection at 0x7fe48a159950>"
            ]
          },
          "metadata": {},
          "execution_count": 542
        },
        {
          "output_type": "display_data",
          "data": {
            "image/png": "[encoded data removed]",
            "text/plain": [
              "<Figure size 432x288 with 1 Axes>"
            ]
          },
          "metadata": {
            "needs_background": "light"
          }
        }
      ]
    },
    {
      "cell_type": "code",
      "metadata": {
        "colab": {
          "base_uri": "https://localhost:8080/"
        },
        "id": "S_uAtjIH6qG-",
        "outputId": "08d2efbb-21b8-4bd9-9954-ebc7542e3e64"
      },
      "source": [
        "print('Correlación Pearson: ', Base['vr_salario'].corr(Base['edad'], method='pearson'))"
      ],
      "execution_count": 543,
      "outputs": [
        {
          "output_type": "stream",
          "name": "stdout",
          "text": [
            "Correlación Pearson:  0.09164258436598234\n"
          ]
        }
      ]
    },
    {
      "cell_type": "code",
      "metadata": {
        "colab": {
          "base_uri": "https://localhost:8080/"
        },
        "id": "WM6C95da7YqY",
        "outputId": "c5abf99e-8795-40a0-f6c2-e175f3310714"
      },
      "source": [
        "pip install pingouin"
      ],
      "execution_count": 544,
      "outputs": [
        {
          "output_type": "stream",
          "name": "stdout",
          "text": [
            "Requirement already satisfied: pingouin in /usr/local/lib/python3.7/dist-packages (0.4.0)\n",
            "Requirement already satisfied: seaborn>=0.9.0 in /usr/local/lib/python3.7/dist-packages (from pingouin) (0.11.2)\n",
            "Requirement already satisfied: outdated in /usr/local/lib/python3.7/dist-packages (from pingouin) (0.2.1)\n",
            "Requirement already satisfied: pandas>=1.0 in /usr/local/lib/python3.7/dist-packages (from pingouin) (1.1.5)\n",
            "Requirement already satisfied: scipy>=1.7 in /usr/local/lib/python3.7/dist-packages (from pingouin) (1.7.1)\n",
            "Requirement already satisfied: scikit-learn in /usr/local/lib/python3.7/dist-packages (from pingouin) (0.22.2.post1)\n",
            "Requirement already satisfied: numpy>=1.19 in /usr/local/lib/python3.7/dist-packages (from pingouin) (1.19.5)\n",
            "Requirement already satisfied: pandas-flavor>=0.2.0 in /usr/local/lib/python3.7/dist-packages (from pingouin) (0.2.0)\n",
            "Requirement already satisfied: statsmodels>=0.12.0 in /usr/local/lib/python3.7/dist-packages (from pingouin) (0.13.0)\n",
            "Requirement already satisfied: matplotlib>=3.0.2 in /usr/local/lib/python3.7/dist-packages (from pingouin) (3.2.2)\n",
            "Requirement already satisfied: tabulate in /usr/local/lib/python3.7/dist-packages (from pingouin) (0.8.9)\n",
            "Requirement already satisfied: python-dateutil>=2.1 in /usr/local/lib/python3.7/dist-packages (from matplotlib>=3.0.2->pingouin) (2.8.2)\n",
            "Requirement already satisfied: kiwisolver>=1.0.1 in /usr/local/lib/python3.7/dist-packages (from matplotlib>=3.0.2->pingouin) (1.3.2)\n",
            "Requirement already satisfied: pyparsing!=2.0.4,!=2.1.2,!=2.1.6,>=2.0.1 in /usr/local/lib/python3.7/dist-packages (from matplotlib>=3.0.2->pingouin) (2.4.7)\n",
            "Requirement already satisfied: cycler>=0.10 in /usr/local/lib/python3.7/dist-packages (from matplotlib>=3.0.2->pingouin) (0.10.0)\n",
            "Requirement already satisfied: six in /usr/local/lib/python3.7/dist-packages (from cycler>=0.10->matplotlib>=3.0.2->pingouin) (1.15.0)\n",
            "Requirement already satisfied: pytz>=2017.2 in /usr/local/lib/python3.7/dist-packages (from pandas>=1.0->pingouin) (2018.9)\n",
            "Requirement already satisfied: xarray in /usr/local/lib/python3.7/dist-packages (from pandas-flavor>=0.2.0->pingouin) (0.18.2)\n",
            "Requirement already satisfied: patsy>=0.5.2 in /usr/local/lib/python3.7/dist-packages (from statsmodels>=0.12.0->pingouin) (0.5.2)\n",
            "Requirement already satisfied: requests in /usr/local/lib/python3.7/dist-packages (from outdated->pingouin) (2.23.0)\n",
            "Requirement already satisfied: littleutils in /usr/local/lib/python3.7/dist-packages (from outdated->pingouin) (0.2.2)\n",
            "Requirement already satisfied: chardet<4,>=3.0.2 in /usr/local/lib/python3.7/dist-packages (from requests->outdated->pingouin) (3.0.4)\n",
            "Requirement already satisfied: urllib3!=1.25.0,!=1.25.1,<1.26,>=1.21.1 in /usr/local/lib/python3.7/dist-packages (from requests->outdated->pingouin) (1.24.3)\n",
            "Requirement already satisfied: idna<3,>=2.5 in /usr/local/lib/python3.7/dist-packages (from requests->outdated->pingouin) (2.10)\n",
            "Requirement already satisfied: certifi>=2017.4.17 in /usr/local/lib/python3.7/dist-packages (from requests->outdated->pingouin) (2021.5.30)\n",
            "Requirement already satisfied: joblib>=0.11 in /usr/local/lib/python3.7/dist-packages (from scikit-learn->pingouin) (1.0.1)\n",
            "Requirement already satisfied: setuptools>=40.4 in /usr/local/lib/python3.7/dist-packages (from xarray->pandas-flavor>=0.2.0->pingouin) (57.4.0)\n"
          ]
        }
      ]
    },
    {
      "cell_type": "code",
      "metadata": {
        "id": "yr3bo-SY7o1S"
      },
      "source": [
        "import pingouin as pg"
      ],
      "execution_count": 545,
      "outputs": []
    },
    {
      "cell_type": "code",
      "metadata": {
        "colab": {
          "base_uri": "https://localhost:8080/",
          "height": 80
        },
        "id": "8VuOqHbR7ABt",
        "outputId": "0f2a5c8f-184c-4c07-cb06-3035ca774b12"
      },
      "source": [
        "display(pg.corr(Base['vr_salario'], Base['horas_normal'], method='pearson')) #NO TIENEN UNA CORRELACION LINEAL"
      ],
      "execution_count": 546,
      "outputs": [
        {
          "output_type": "display_data",
          "data": {
            "text/html": [
              "<div>\n",
              "<style scoped>\n",
              "    .dataframe tbody tr th:only-of-type {\n",
              "        vertical-align: middle;\n",
              "    }\n",
              "\n",
              "    .dataframe tbody tr th {\n",
              "        vertical-align: top;\n",
              "    }\n",
              "\n",
              "    .dataframe thead th {\n",
              "        text-align: right;\n",
              "    }\n",
              "</style>\n",
              "<table border=\"1\" class=\"dataframe\">\n",
              "  <thead>\n",
              "    <tr style=\"text-align: right;\">\n",
              "      <th></th>\n",
              "      <th>n</th>\n",
              "      <th>r</th>\n",
              "      <th>CI95%</th>\n",
              "      <th>p-val</th>\n",
              "      <th>BF10</th>\n",
              "      <th>power</th>\n",
              "    </tr>\n",
              "  </thead>\n",
              "  <tbody>\n",
              "    <tr>\n",
              "      <th>pearson</th>\n",
              "      <td>2425</td>\n",
              "      <td>0.096472</td>\n",
              "      <td>[0.06, 0.14]</td>\n",
              "      <td>0.000002</td>\n",
              "      <td>2095.821</td>\n",
              "      <td>0.997473</td>\n",
              "    </tr>\n",
              "  </tbody>\n",
              "</table>\n",
              "</div>"
            ],
            "text/plain": [
              "            n         r         CI95%     p-val      BF10     power\n",
              "pearson  2425  0.096472  [0.06, 0.14]  0.000002  2095.821  0.997473"
            ]
          },
          "metadata": {}
        }
      ]
    },
    {
      "cell_type": "code",
      "metadata": {
        "colab": {
          "base_uri": "https://localhost:8080/",
          "height": 80
        },
        "id": "-Uy_OwoK9vZW",
        "outputId": "2635e1d6-c97a-480a-cc12-3d2d0301a9ad"
      },
      "source": [
        "display(pg.corr(Base['vr_salario'], Base['edad'], method='pearson')) #NO TIENEN UNA CORRELACION LINEAL"
      ],
      "execution_count": 547,
      "outputs": [
        {
          "output_type": "display_data",
          "data": {
            "text/html": [
              "<div>\n",
              "<style scoped>\n",
              "    .dataframe tbody tr th:only-of-type {\n",
              "        vertical-align: middle;\n",
              "    }\n",
              "\n",
              "    .dataframe tbody tr th {\n",
              "        vertical-align: top;\n",
              "    }\n",
              "\n",
              "    .dataframe thead th {\n",
              "        text-align: right;\n",
              "    }\n",
              "</style>\n",
              "<table border=\"1\" class=\"dataframe\">\n",
              "  <thead>\n",
              "    <tr style=\"text-align: right;\">\n",
              "      <th></th>\n",
              "      <th>n</th>\n",
              "      <th>r</th>\n",
              "      <th>CI95%</th>\n",
              "      <th>p-val</th>\n",
              "      <th>BF10</th>\n",
              "      <th>power</th>\n",
              "    </tr>\n",
              "  </thead>\n",
              "  <tbody>\n",
              "    <tr>\n",
              "      <th>pearson</th>\n",
              "      <td>2425</td>\n",
              "      <td>0.091643</td>\n",
              "      <td>[0.05, 0.13]</td>\n",
              "      <td>0.000006</td>\n",
              "      <td>690.944</td>\n",
              "      <td>0.994822</td>\n",
              "    </tr>\n",
              "  </tbody>\n",
              "</table>\n",
              "</div>"
            ],
            "text/plain": [
              "            n         r         CI95%     p-val     BF10     power\n",
              "pearson  2425  0.091643  [0.05, 0.13]  0.000006  690.944  0.994822"
            ]
          },
          "metadata": {}
        }
      ]
    },
    {
      "cell_type": "code",
      "metadata": {
        "colab": {
          "base_uri": "https://localhost:8080/",
          "height": 419
        },
        "id": "ejRHbcbhvPHO",
        "outputId": "4f2c590c-03fa-4763-83b0-8ad2edeb237a"
      },
      "source": [
        "Base_total"
      ],
      "execution_count": 548,
      "outputs": [
        {
          "output_type": "execute_result",
          "data": {
            "text/html": [
              "<div>\n",
              "<style scoped>\n",
              "    .dataframe tbody tr th:only-of-type {\n",
              "        vertical-align: middle;\n",
              "    }\n",
              "\n",
              "    .dataframe tbody tr th {\n",
              "        vertical-align: top;\n",
              "    }\n",
              "\n",
              "    .dataframe thead th {\n",
              "        text-align: right;\n",
              "    }\n",
              "</style>\n",
              "<table border=\"1\" class=\"dataframe\">\n",
              "  <thead>\n",
              "    <tr style=\"text-align: right;\">\n",
              "      <th></th>\n",
              "      <th>edad</th>\n",
              "      <th>sexo</th>\n",
              "      <th>estado_civil</th>\n",
              "      <th>Total_hijos</th>\n",
              "      <th>tipo_contrato</th>\n",
              "      <th>afiliacion</th>\n",
              "      <th>n_empleados</th>\n",
              "      <th>vr_salario</th>\n",
              "    </tr>\n",
              "  </thead>\n",
              "  <tbody>\n",
              "    <tr>\n",
              "      <th>7</th>\n",
              "      <td>30</td>\n",
              "      <td>2</td>\n",
              "      <td>1</td>\n",
              "      <td>2</td>\n",
              "      <td>1</td>\n",
              "      <td>1</td>\n",
              "      <td>6</td>\n",
              "      <td>1026000</td>\n",
              "    </tr>\n",
              "    <tr>\n",
              "      <th>9</th>\n",
              "      <td>31</td>\n",
              "      <td>1</td>\n",
              "      <td>1</td>\n",
              "      <td>0</td>\n",
              "      <td>2</td>\n",
              "      <td>1</td>\n",
              "      <td>6</td>\n",
              "      <td>750000</td>\n",
              "    </tr>\n",
              "    <tr>\n",
              "      <th>17</th>\n",
              "      <td>32</td>\n",
              "      <td>1</td>\n",
              "      <td>2</td>\n",
              "      <td>0</td>\n",
              "      <td>2</td>\n",
              "      <td>1</td>\n",
              "      <td>6</td>\n",
              "      <td>689000</td>\n",
              "    </tr>\n",
              "    <tr>\n",
              "      <th>18</th>\n",
              "      <td>37</td>\n",
              "      <td>1</td>\n",
              "      <td>2</td>\n",
              "      <td>0</td>\n",
              "      <td>3</td>\n",
              "      <td>1</td>\n",
              "      <td>2</td>\n",
              "      <td>1500000</td>\n",
              "    </tr>\n",
              "    <tr>\n",
              "      <th>25</th>\n",
              "      <td>59</td>\n",
              "      <td>1</td>\n",
              "      <td>2</td>\n",
              "      <td>0</td>\n",
              "      <td>3</td>\n",
              "      <td>1</td>\n",
              "      <td>2</td>\n",
              "      <td>700000</td>\n",
              "    </tr>\n",
              "    <tr>\n",
              "      <th>...</th>\n",
              "      <td>...</td>\n",
              "      <td>...</td>\n",
              "      <td>...</td>\n",
              "      <td>...</td>\n",
              "      <td>...</td>\n",
              "      <td>...</td>\n",
              "      <td>...</td>\n",
              "      <td>...</td>\n",
              "    </tr>\n",
              "    <tr>\n",
              "      <th>19264</th>\n",
              "      <td>35</td>\n",
              "      <td>1</td>\n",
              "      <td>1</td>\n",
              "      <td>0</td>\n",
              "      <td>1</td>\n",
              "      <td>1</td>\n",
              "      <td>6</td>\n",
              "      <td>1000000</td>\n",
              "    </tr>\n",
              "    <tr>\n",
              "      <th>19265</th>\n",
              "      <td>54</td>\n",
              "      <td>2</td>\n",
              "      <td>1</td>\n",
              "      <td>0</td>\n",
              "      <td>1</td>\n",
              "      <td>1</td>\n",
              "      <td>6</td>\n",
              "      <td>690000</td>\n",
              "    </tr>\n",
              "    <tr>\n",
              "      <th>19266</th>\n",
              "      <td>39</td>\n",
              "      <td>1</td>\n",
              "      <td>2</td>\n",
              "      <td>0</td>\n",
              "      <td>2</td>\n",
              "      <td>1</td>\n",
              "      <td>2</td>\n",
              "      <td>900000</td>\n",
              "    </tr>\n",
              "    <tr>\n",
              "      <th>19274</th>\n",
              "      <td>27</td>\n",
              "      <td>2</td>\n",
              "      <td>5</td>\n",
              "      <td>3</td>\n",
              "      <td>1</td>\n",
              "      <td>1</td>\n",
              "      <td>6</td>\n",
              "      <td>679000</td>\n",
              "    </tr>\n",
              "    <tr>\n",
              "      <th>19279</th>\n",
              "      <td>43</td>\n",
              "      <td>2</td>\n",
              "      <td>2</td>\n",
              "      <td>4</td>\n",
              "      <td>2</td>\n",
              "      <td>1</td>\n",
              "      <td>6</td>\n",
              "      <td>689400</td>\n",
              "    </tr>\n",
              "  </tbody>\n",
              "</table>\n",
              "<p>2425 rows × 8 columns</p>\n",
              "</div>"
            ],
            "text/plain": [
              "       edad  sexo  estado_civil  ...  afiliacion  n_empleados  vr_salario\n",
              "7        30     2             1  ...           1            6     1026000\n",
              "9        31     1             1  ...           1            6      750000\n",
              "17       32     1             2  ...           1            6      689000\n",
              "18       37     1             2  ...           1            2     1500000\n",
              "25       59     1             2  ...           1            2      700000\n",
              "...     ...   ...           ...  ...         ...          ...         ...\n",
              "19264    35     1             1  ...           1            6     1000000\n",
              "19265    54     2             1  ...           1            6      690000\n",
              "19266    39     1             2  ...           1            2      900000\n",
              "19274    27     2             5  ...           1            6      679000\n",
              "19279    43     2             2  ...           1            6      689400\n",
              "\n",
              "[2425 rows x 8 columns]"
            ]
          },
          "metadata": {},
          "execution_count": 548
        }
      ]
    },
    {
      "cell_type": "markdown",
      "metadata": {
        "id": "RTh_3ihSv47u"
      },
      "source": [
        ""
      ]
    },
    {
      "cell_type": "markdown",
      "metadata": {
        "id": "QPhLUgAGwF_v"
      },
      "source": [
        "Una vez filtrada realice un análisis exploratorio corto de la información.\n",
        "\n",
        "- Se estudiaran 2.425 individuos.\n"
      ]
    },
    {
      "cell_type": "code",
      "metadata": {
        "colab": {
          "base_uri": "https://localhost:8080/",
          "height": 297
        },
        "id": "F0tQhWuHTmNW",
        "outputId": "f0dcd4b2-519f-482f-c5ab-24569ee63dc2"
      },
      "source": [
        "Base_total.describe()"
      ],
      "execution_count": 549,
      "outputs": [
        {
          "output_type": "execute_result",
          "data": {
            "text/html": [
              "<div>\n",
              "<style scoped>\n",
              "    .dataframe tbody tr th:only-of-type {\n",
              "        vertical-align: middle;\n",
              "    }\n",
              "\n",
              "    .dataframe tbody tr th {\n",
              "        vertical-align: top;\n",
              "    }\n",
              "\n",
              "    .dataframe thead th {\n",
              "        text-align: right;\n",
              "    }\n",
              "</style>\n",
              "<table border=\"1\" class=\"dataframe\">\n",
              "  <thead>\n",
              "    <tr style=\"text-align: right;\">\n",
              "      <th></th>\n",
              "      <th>edad</th>\n",
              "      <th>sexo</th>\n",
              "      <th>estado_civil</th>\n",
              "      <th>Total_hijos</th>\n",
              "      <th>tipo_contrato</th>\n",
              "      <th>afiliacion</th>\n",
              "      <th>n_empleados</th>\n",
              "      <th>vr_salario</th>\n",
              "    </tr>\n",
              "  </thead>\n",
              "  <tbody>\n",
              "    <tr>\n",
              "      <th>count</th>\n",
              "      <td>2425.000000</td>\n",
              "      <td>2425.000000</td>\n",
              "      <td>2425.000000</td>\n",
              "      <td>2425.000000</td>\n",
              "      <td>2425.000000</td>\n",
              "      <td>2425.000000</td>\n",
              "      <td>2425.000000</td>\n",
              "      <td>2.425000e+03</td>\n",
              "    </tr>\n",
              "    <tr>\n",
              "      <th>mean</th>\n",
              "      <td>43.050309</td>\n",
              "      <td>1.502680</td>\n",
              "      <td>2.082474</td>\n",
              "      <td>0.845773</td>\n",
              "      <td>2.315052</td>\n",
              "      <td>1.014845</td>\n",
              "      <td>4.063093</td>\n",
              "      <td>1.025963e+06</td>\n",
              "    </tr>\n",
              "    <tr>\n",
              "      <th>std</th>\n",
              "      <td>10.441292</td>\n",
              "      <td>0.500096</td>\n",
              "      <td>1.178658</td>\n",
              "      <td>1.349171</td>\n",
              "      <td>1.076547</td>\n",
              "      <td>0.178767</td>\n",
              "      <td>1.987933</td>\n",
              "      <td>9.014944e+05</td>\n",
              "    </tr>\n",
              "    <tr>\n",
              "      <th>min</th>\n",
              "      <td>11.000000</td>\n",
              "      <td>1.000000</td>\n",
              "      <td>1.000000</td>\n",
              "      <td>0.000000</td>\n",
              "      <td>0.000000</td>\n",
              "      <td>0.000000</td>\n",
              "      <td>0.000000</td>\n",
              "      <td>5.000000e+03</td>\n",
              "    </tr>\n",
              "    <tr>\n",
              "      <th>25%</th>\n",
              "      <td>35.000000</td>\n",
              "      <td>1.000000</td>\n",
              "      <td>1.000000</td>\n",
              "      <td>0.000000</td>\n",
              "      <td>2.000000</td>\n",
              "      <td>1.000000</td>\n",
              "      <td>2.000000</td>\n",
              "      <td>6.000000e+05</td>\n",
              "    </tr>\n",
              "    <tr>\n",
              "      <th>50%</th>\n",
              "      <td>42.000000</td>\n",
              "      <td>2.000000</td>\n",
              "      <td>2.000000</td>\n",
              "      <td>0.000000</td>\n",
              "      <td>2.000000</td>\n",
              "      <td>1.000000</td>\n",
              "      <td>5.000000</td>\n",
              "      <td>7.500000e+05</td>\n",
              "    </tr>\n",
              "    <tr>\n",
              "      <th>75%</th>\n",
              "      <td>51.000000</td>\n",
              "      <td>2.000000</td>\n",
              "      <td>3.000000</td>\n",
              "      <td>2.000000</td>\n",
              "      <td>3.000000</td>\n",
              "      <td>1.000000</td>\n",
              "      <td>6.000000</td>\n",
              "      <td>1.200000e+06</td>\n",
              "    </tr>\n",
              "    <tr>\n",
              "      <th>max</th>\n",
              "      <td>77.000000</td>\n",
              "      <td>2.000000</td>\n",
              "      <td>5.000000</td>\n",
              "      <td>9.000000</td>\n",
              "      <td>4.000000</td>\n",
              "      <td>2.000000</td>\n",
              "      <td>6.000000</td>\n",
              "      <td>1.100000e+07</td>\n",
              "    </tr>\n",
              "  </tbody>\n",
              "</table>\n",
              "</div>"
            ],
            "text/plain": [
              "              edad         sexo  ...  n_empleados    vr_salario\n",
              "count  2425.000000  2425.000000  ...  2425.000000  2.425000e+03\n",
              "mean     43.050309     1.502680  ...     4.063093  1.025963e+06\n",
              "std      10.441292     0.500096  ...     1.987933  9.014944e+05\n",
              "min      11.000000     1.000000  ...     0.000000  5.000000e+03\n",
              "25%      35.000000     1.000000  ...     2.000000  6.000000e+05\n",
              "50%      42.000000     2.000000  ...     5.000000  7.500000e+05\n",
              "75%      51.000000     2.000000  ...     6.000000  1.200000e+06\n",
              "max      77.000000     2.000000  ...     6.000000  1.100000e+07\n",
              "\n",
              "[8 rows x 8 columns]"
            ]
          },
          "metadata": {},
          "execution_count": 549
        }
      ]
    },
    {
      "cell_type": "markdown",
      "metadata": {
        "id": "GkcNNC5RUzCa"
      },
      "source": [
        "EDAD\n",
        "- Se puede decir que la edad promedio de los individuos estudiados es de aproximadamente 43 años.\n",
        "- La edad minima y maxima esta representada por 11 y 44 años respectivamente.\n",
        "- La mitad de los individuos tienen una edad inferior o igual a 42 años.\n",
        "\n",
        "SALARIO\n",
        "- Se puede decir que el salario promedio de los individuos estudiados es de aproximadamente 1.025.963 pesos. Esta encima del salario minimo $ 689.455 para el año 2016.\n",
        "- El salario minimo y maximo corresponden a 5000 pesos y 11.000.000 pesos respectivamente.\n",
        "- La mitad de individuos tienen un salario aproximadamente de 750.000 pesos.\n",
        "- La variabilidad de los datos se ve representada por "
      ]
    },
    {
      "cell_type": "code",
      "metadata": {
        "colab": {
          "base_uri": "https://localhost:8080/",
          "height": 276
        },
        "id": "nSKFSvOlkBDQ",
        "outputId": "b690cf51-4cab-48dc-af58-e86a32b66497"
      },
      "source": [
        "plt.scatter(Base['edad'], Base['vr_salario'])\n",
        "plt.show()"
      ],
      "execution_count": 550,
      "outputs": [
        {
          "output_type": "display_data",
          "data": {
            "image/png": "[encoded data removed]",
            "text/plain": [
              "<Figure size 432x288 with 1 Axes>"
            ]
          },
          "metadata": {
            "needs_background": "light"
          }
        }
      ]
    },
    {
      "cell_type": "markdown",
      "metadata": {
        "id": "ZSJWIkWC4k1f"
      },
      "source": [
        "Se puede decir que la edad no es una variable que sea altamente influyente en el salario."
      ]
    },
    {
      "cell_type": "code",
      "metadata": {
        "colab": {
          "base_uri": "https://localhost:8080/",
          "height": 276
        },
        "id": "CVvy1jvC4zF4",
        "outputId": "2a9bde6c-0cbc-4226-bd39-07db0bea6b5f"
      },
      "source": [
        "plt.scatter(Base['horas_normal'], Base['vr_salario'])\n",
        "plt.show()"
      ],
      "execution_count": 551,
      "outputs": [
        {
          "output_type": "display_data",
          "data": {
            "image/png": "[encoded data removed]",
            "text/plain": [
              "<Figure size 432x288 with 1 Axes>"
            ]
          },
          "metadata": {
            "needs_background": "light"
          }
        }
      ]
    },
    {
      "cell_type": "code",
      "metadata": {
        "colab": {
          "base_uri": "https://localhost:8080/"
        },
        "id": "lxFfUwg5ntca",
        "outputId": "a2a3b0e8-7fa3-4772-8599-b49b490da75b"
      },
      "source": [
        "estado_civil1 = Base_total.loc[:, 'estado_civil'] == 1\n",
        "df_est1 = Base_total.loc[estado_civil1]\n",
        "df_est1['vr_salario'].mean()"
      ],
      "execution_count": 552,
      "outputs": [
        {
          "output_type": "execute_result",
          "data": {
            "text/plain": [
              "930306.5403050109"
            ]
          },
          "metadata": {},
          "execution_count": 552
        }
      ]
    },
    {
      "cell_type": "code",
      "metadata": {
        "colab": {
          "base_uri": "https://localhost:8080/"
        },
        "id": "-M7C8fBfoz8X",
        "outputId": "27fd8317-8992-47a2-f6c3-56f550dd9ed4"
      },
      "source": [
        "estado_civil2 = Base_total.loc[:, 'estado_civil'] == 2\n",
        "df_est2 = Base_total.loc[estado_civil2]\n",
        "df_est2['vr_salario'].mean()"
      ],
      "execution_count": 553,
      "outputs": [
        {
          "output_type": "execute_result",
          "data": {
            "text/plain": [
              "1293132.6639439906"
            ]
          },
          "metadata": {},
          "execution_count": 553
        }
      ]
    },
    {
      "cell_type": "code",
      "metadata": {
        "colab": {
          "base_uri": "https://localhost:8080/"
        },
        "id": "i1xm3p8zo4m9",
        "outputId": "dd848b1c-697f-474e-9827-cc1da007628b"
      },
      "source": [
        "estado_civil3 = Base_total.loc[:, 'estado_civil'] == 3\n",
        "df_est3 = Base_total.loc[estado_civil3]\n",
        "df_est3['vr_salario'].mean()"
      ],
      "execution_count": 554,
      "outputs": [
        {
          "output_type": "execute_result",
          "data": {
            "text/plain": [
              "809697.6907216494"
            ]
          },
          "metadata": {},
          "execution_count": 554
        }
      ]
    },
    {
      "cell_type": "code",
      "metadata": {
        "colab": {
          "base_uri": "https://localhost:8080/"
        },
        "id": "Cdkrj0V1o9SV",
        "outputId": "d8d75682-8f65-4b44-881d-8d63612d5491"
      },
      "source": [
        "estado_civil4 = Base_total.loc[:, 'estado_civil'] == 4\n",
        "df_est4 = Base_total.loc[estado_civil4]\n",
        "df_est4['vr_salario'].mean()"
      ],
      "execution_count": 555,
      "outputs": [
        {
          "output_type": "execute_result",
          "data": {
            "text/plain": [
              "807223.2142857143"
            ]
          },
          "metadata": {},
          "execution_count": 555
        }
      ]
    },
    {
      "cell_type": "code",
      "metadata": {
        "colab": {
          "base_uri": "https://localhost:8080/"
        },
        "id": "nWF0sToXpA3f",
        "outputId": "e5229f39-2f92-4f66-aa80-cf57a202da70"
      },
      "source": [
        "estado_civil5 = Base_total.loc[:, 'estado_civil'] == 5\n",
        "df_est5 = Base_total.loc[estado_civil5]\n",
        "df_est5['vr_salario'].mean()"
      ],
      "execution_count": 556,
      "outputs": [
        {
          "output_type": "execute_result",
          "data": {
            "text/plain": [
              "807557.5436893204"
            ]
          },
          "metadata": {},
          "execution_count": 556
        }
      ]
    },
    {
      "cell_type": "code",
      "metadata": {
        "id": "1gQhisGwsmLI"
      },
      "source": [
        "ul= list(df_est1['vr_salario'])\n",
        "cas = list(df_est2['vr_salario'])\n",
        "sep = list(df_est3['vr_salario'])\n",
        "viud = list(df_est4['vr_salario'])\n",
        "sol = list(df_est5['vr_salario'])"
      ],
      "execution_count": 557,
      "outputs": []
    },
    {
      "cell_type": "code",
      "metadata": {
        "colab": {
          "base_uri": "https://localhost:8080/",
          "height": 276
        },
        "id": "eg7n_W08lnJA",
        "outputId": "a5c429bf-f151-4c9a-b7a9-8d6c37310f65"
      },
      "source": [
        "x= [930306,1293132,809697,807223,807557]\n",
        "cc = ['Union libre','Casados','Separados','Viudos', 'Solteros']\n",
        "plt.bar(cc, x)\n",
        "plt.show()"
      ],
      "execution_count": 558,
      "outputs": [
        {
          "output_type": "display_data",
          "data": {
            "image/png": "[encoded data removed]",
            "text/plain": [
              "<Figure size 432x288 with 1 Axes>"
            ]
          },
          "metadata": {
            "needs_background": "light"
          }
        }
      ]
    },
    {
      "cell_type": "markdown",
      "metadata": {
        "id": "6oe27ga5lgSA"
      },
      "source": [
        "De acuerdo al grafico anterior se puede decir que en promedio el salario que obtienen los individuos que estan separados, viudos o solteros no tienen cambios significativos. Sin embargo, aquellas personas que estan casadas tienden a tener en promedio un salario mas elevado. "
      ]
    },
    {
      "cell_type": "code",
      "metadata": {
        "id": "EvANtEtOp_mT"
      },
      "source": [
        "import pandas as pd\n",
        "import numpy as np\n",
        "from scipy.stats import f_oneway\n",
        "from statsmodels.stats.multicomp import pairwise_tukeyhsd"
      ],
      "execution_count": 559,
      "outputs": []
    },
    {
      "cell_type": "code",
      "metadata": {
        "colab": {
          "base_uri": "https://localhost:8080/"
        },
        "id": "8qi4LjzMqAcW",
        "outputId": "f2a9348b-7c5e-46f7-ee10-8251ab669a1a"
      },
      "source": [
        "#enter data for three groups\n",
        "ul= list(df_est1['vr_salario'])\n",
        "cas = list(df_est2['vr_salario'])\n",
        "sep = list(df_est3['vr_salario'])\n",
        "viud = list(df_est4['vr_salario'])\n",
        "sol = list(df_est5['vr_salario'])\n",
        "\n",
        "\n",
        "#perform one-way ANOVA\n",
        "f_oneway(ul, cas, sep , viud , sol)"
      ],
      "execution_count": 560,
      "outputs": [
        {
          "output_type": "execute_result",
          "data": {
            "text/plain": [
              "F_onewayResult(statistic=32.430243980466265, pvalue=2.2739404133283356e-26)"
            ]
          },
          "metadata": {},
          "execution_count": 560
        }
      ]
    },
    {
      "cell_type": "code",
      "metadata": {
        "colab": {
          "base_uri": "https://localhost:8080/"
        },
        "id": "c9Jg1YcTtxU0",
        "outputId": "50f8dcbc-4fd4-44db-d32a-dfc5f95f045b"
      },
      "source": [
        "len(ul)"
      ],
      "execution_count": 561,
      "outputs": [
        {
          "output_type": "execute_result",
          "data": {
            "text/plain": [
              "918"
            ]
          },
          "metadata": {},
          "execution_count": 561
        }
      ]
    },
    {
      "cell_type": "code",
      "metadata": {
        "colab": {
          "base_uri": "https://localhost:8080/"
        },
        "id": "nhdJY6YYt660",
        "outputId": "64f13423-18fc-46a8-92b8-cbae405d9885"
      },
      "source": [
        "len(cas)"
      ],
      "execution_count": 562,
      "outputs": [
        {
          "output_type": "execute_result",
          "data": {
            "text/plain": [
              "857"
            ]
          },
          "metadata": {},
          "execution_count": 562
        }
      ]
    },
    {
      "cell_type": "code",
      "metadata": {
        "colab": {
          "base_uri": "https://localhost:8080/"
        },
        "id": "sY36Sh-7t8jC",
        "outputId": "56c63490-c58a-435a-b6af-468c8cf929f4"
      },
      "source": [
        "len(sep)"
      ],
      "execution_count": 563,
      "outputs": [
        {
          "output_type": "execute_result",
          "data": {
            "text/plain": [
              "388"
            ]
          },
          "metadata": {},
          "execution_count": 563
        }
      ]
    },
    {
      "cell_type": "code",
      "metadata": {
        "colab": {
          "base_uri": "https://localhost:8080/"
        },
        "id": "r0lqAXdyt99r",
        "outputId": "d7f399da-51a9-4174-dd2d-ef57d61ba97f"
      },
      "source": [
        "len(viud)"
      ],
      "execution_count": 564,
      "outputs": [
        {
          "output_type": "execute_result",
          "data": {
            "text/plain": [
              "56"
            ]
          },
          "metadata": {},
          "execution_count": 564
        }
      ]
    },
    {
      "cell_type": "code",
      "metadata": {
        "colab": {
          "base_uri": "https://localhost:8080/"
        },
        "id": "IHepXlLYuAjU",
        "outputId": "866ac57b-3d78-4613-f3a2-842822b64b7e"
      },
      "source": [
        "len(sol)"
      ],
      "execution_count": 565,
      "outputs": [
        {
          "output_type": "execute_result",
          "data": {
            "text/plain": [
              "206"
            ]
          },
          "metadata": {},
          "execution_count": 565
        }
      ]
    },
    {
      "cell_type": "code",
      "metadata": {
        "id": "fs99Q1oRuZUK"
      },
      "source": [
        "total = ul + cas + sep + viud + sol"
      ],
      "execution_count": 566,
      "outputs": []
    },
    {
      "cell_type": "markdown",
      "metadata": {
        "id": "JhnHIAFdtQHC"
      },
      "source": [
        "Hay almenos una media que es diferente."
      ]
    },
    {
      "cell_type": "code",
      "metadata": {
        "id": "we1TL4Ud1-jS"
      },
      "source": [
        "import pandas as pd\n",
        "import scipy.stats as stats"
      ],
      "execution_count": 567,
      "outputs": []
    },
    {
      "cell_type": "code",
      "metadata": {
        "id": "6ajN_Axx3Fuy",
        "colab": {
          "base_uri": "https://localhost:8080/"
        },
        "outputId": "dd198189-b4af-4564-8cef-da2d685f4437"
      },
      "source": [
        "from scipy.stats import ttest_ind\n",
        "ttest_ind(ul, cas)\n"
      ],
      "execution_count": 568,
      "outputs": [
        {
          "output_type": "execute_result",
          "data": {
            "text/plain": [
              "Ttest_indResult(statistic=-8.232438116808398, pvalue=3.5147362272127786e-16)"
            ]
          },
          "metadata": {},
          "execution_count": 568
        }
      ]
    },
    {
      "cell_type": "markdown",
      "metadata": {
        "id": "xY7h1X5U3V4U"
      },
      "source": [
        "La media de los salarios de las personas que tienen como estado civil 'Union libre' es estadisticamente diferente a los individuos que tienen como estado civil 'Casados'"
      ]
    },
    {
      "cell_type": "code",
      "metadata": {
        "colab": {
          "base_uri": "https://localhost:8080/"
        },
        "id": "OESpFZ6u3kOW",
        "outputId": "38273137-e117-4305-8a2d-44d26276ae34"
      },
      "source": [
        "ttest_ind(cas,viud)"
      ],
      "execution_count": 569,
      "outputs": [
        {
          "output_type": "execute_result",
          "data": {
            "text/plain": [
              "Ttest_indResult(statistic=3.3197952569130793, pvalue=0.0009365901650271268)"
            ]
          },
          "metadata": {},
          "execution_count": 569
        }
      ]
    },
    {
      "cell_type": "markdown",
      "metadata": {
        "id": "I84YDL1C3rde"
      },
      "source": [
        "La media de los salarios de las personas que tienen como estado civil 'Viudos' es estadisticamente diferente a los individuos que tienen como estado civil 'Casados'"
      ]
    },
    {
      "cell_type": "code",
      "metadata": {
        "colab": {
          "base_uri": "https://localhost:8080/"
        },
        "id": "EVF2gp173uzq",
        "outputId": "590b98dd-b004-4598-b4d4-d669e3e8b557"
      },
      "source": [
        "ttest_ind(sep,viud)"
      ],
      "execution_count": 570,
      "outputs": [
        {
          "output_type": "execute_result",
          "data": {
            "text/plain": [
              "Ttest_indResult(statistic=0.022585621857997187, pvalue=0.9819910054192327)"
            ]
          },
          "metadata": {},
          "execution_count": 570
        }
      ]
    },
    {
      "cell_type": "code",
      "metadata": {
        "colab": {
          "base_uri": "https://localhost:8080/"
        },
        "id": "jyDJ65lB37Ac",
        "outputId": "11cc75d1-89a2-4395-a08b-c58635963301"
      },
      "source": [
        "ttest_ind(viud,sol)"
      ],
      "execution_count": 571,
      "outputs": [
        {
          "output_type": "execute_result",
          "data": {
            "text/plain": [
              "Ttest_indResult(statistic=-0.003042813173550444, pvalue=0.9975745234130997)"
            ]
          },
          "metadata": {},
          "execution_count": 571
        }
      ]
    },
    {
      "cell_type": "markdown",
      "metadata": {
        "id": "0Jxs2i4K37d3"
      },
      "source": [
        "En cambio, la media de los salarios de las personas que tienen como estado civil 'Separados' no es significativamente diferente a la media de los salarios de los invidiuos que estan viudos y que estan solteros."
      ]
    },
    {
      "cell_type": "code",
      "metadata": {
        "id": "vCZd6yPzzqmX"
      },
      "source": [
        "from statsmodels.stats.multicomp import MultiComparison\n"
      ],
      "execution_count": 572,
      "outputs": []
    },
    {
      "cell_type": "code",
      "metadata": {
        "id": "eOX_cYIZWomb"
      },
      "source": [
        "import numpy as np\n",
        "from scipy import stats\n",
        "from scipy.stats import expon\n",
        "import matplotlib.pyplot as plt"
      ],
      "execution_count": 573,
      "outputs": []
    },
    {
      "cell_type": "code",
      "metadata": {
        "id": "W-Nh4DJQWsYV",
        "colab": {
          "base_uri": "https://localhost:8080/",
          "height": 295
        },
        "outputId": "313e989b-0464-40ef-d760-427d2573198f"
      },
      "source": [
        "#  Parece que sigue una distribucion exponencial\n",
        "fig, axes = plt.subplots(1,1)\n",
        "x = np.linspace(expon.ppf(0.01),\n",
        "                expon.ppf(0.99), 100)\n",
        "plt.plot(x, expon.pdf(x))\n",
        "plt.title('Distribución Exponencial')\n",
        "plt.ylabel('f(x)')\n",
        "plt.xlabel('X')\n",
        "plt.hist(Base['vr_salario'])\n",
        "plt.show()"
      ],
      "execution_count": 574,
      "outputs": [
        {
          "output_type": "display_data",
          "data": {
            "image/png": "[encoded data removed]",
            "text/plain": [
              "<Figure size 432x288 with 1 Axes>"
            ]
          },
          "metadata": {
            "needs_background": "light"
          }
        }
      ]
    },
    {
      "cell_type": "code",
      "metadata": {
        "id": "BQqHFzFKdzeN",
        "colab": {
          "base_uri": "https://localhost:8080/"
        },
        "outputId": "ece2095c-5536-4ac1-9390-7e9f0b6a457a"
      },
      "source": [
        "# Calculando la simetria con scipy\n",
        "stats.skew(Base['vr_salario'])"
      ],
      "execution_count": 575,
      "outputs": [
        {
          "output_type": "execute_result",
          "data": {
            "text/plain": [
              "3.0268641924106943"
            ]
          },
          "metadata": {},
          "execution_count": 575
        }
      ]
    },
    {
      "cell_type": "markdown",
      "metadata": {
        "id": "AkxT-lvcdbXH"
      },
      "source": [
        "Para el caso del salario podemos ver que la distribución  tiene una asimetria positiva. Lo que indica que el salario tiende hacia valores menores que la media. "
      ]
    },
    {
      "cell_type": "code",
      "metadata": {
        "id": "E-zM_5R9Zyrn"
      },
      "source": [
        "import numpy as np\n",
        "import pandas as pd"
      ],
      "execution_count": 576,
      "outputs": []
    },
    {
      "cell_type": "code",
      "metadata": {
        "id": "OZolI82gVqDM"
      },
      "source": [
        "import matplotlib.pyplot as plt # importando matplotlib\n",
        "import seaborn as sns"
      ],
      "execution_count": 577,
      "outputs": []
    },
    {
      "cell_type": "code",
      "metadata": {
        "id": "HRA-ZO4eVa0Q",
        "colab": {
          "base_uri": "https://localhost:8080/",
          "height": 350
        },
        "outputId": "1db530e4-c256-4b78-cac3-5a03f0b9b5bd"
      },
      "source": [
        "plt.hist(Base['horas_normal']) #parece que sigue una distribucion normal\n"
      ],
      "execution_count": 578,
      "outputs": [
        {
          "output_type": "execute_result",
          "data": {
            "text/plain": [
              "(array([  78.,  110.,  156.,  298., 1187.,  317.,  156.,   86.,   24.,\n",
              "          13.]),\n",
              " array([  1. ,  11.7,  22.4,  33.1,  43.8,  54.5,  65.2,  75.9,  86.6,\n",
              "         97.3, 108. ]),\n",
              " <a list of 10 Patch objects>)"
            ]
          },
          "metadata": {},
          "execution_count": 578
        },
        {
          "output_type": "display_data",
          "data": {
            "image/png": "[encoded data removed]",
            "text/plain": [
              "<Figure size 432x288 with 1 Axes>"
            ]
          },
          "metadata": {
            "needs_background": "light"
          }
        }
      ]
    },
    {
      "cell_type": "code",
      "metadata": {
        "id": "bkqgN5HzeLni",
        "colab": {
          "base_uri": "https://localhost:8080/"
        },
        "outputId": "50336819-2fc3-4ee4-f0cc-b7e3f72e0890"
      },
      "source": [
        "# Calculando la simetria con scipy\n",
        "stats.skew(Base['horas_normal']) #PRESENTA UN POCO DE ASIMETRIA NEGATIVA. "
      ],
      "execution_count": 579,
      "outputs": [
        {
          "output_type": "execute_result",
          "data": {
            "text/plain": [
              "-0.029131728000133625"
            ]
          },
          "metadata": {},
          "execution_count": 579
        }
      ]
    },
    {
      "cell_type": "code",
      "metadata": {
        "id": "GUK6HFaqV2Kn",
        "colab": {
          "base_uri": "https://localhost:8080/",
          "height": 316
        },
        "outputId": "bafd800a-98cb-43aa-def9-7d6d694c8167"
      },
      "source": [
        "plt.hist(Base['edad'])"
      ],
      "execution_count": 580,
      "outputs": [
        {
          "output_type": "execute_result",
          "data": {
            "text/plain": [
              "(array([ 21.,  15., 228., 570., 453., 500., 420., 161.,  49.,   8.]),\n",
              " array([11. , 17.6, 24.2, 30.8, 37.4, 44. , 50.6, 57.2, 63.8, 70.4, 77. ]),\n",
              " <a list of 10 Patch objects>)"
            ]
          },
          "metadata": {},
          "execution_count": 580
        },
        {
          "output_type": "display_data",
          "data": {
            "image/png": "[encoded data removed]",
            "text/plain": [
              "<Figure size 432x288 with 1 Axes>"
            ]
          },
          "metadata": {
            "needs_background": "light"
          }
        }
      ]
    },
    {
      "cell_type": "code",
      "metadata": {
        "id": "JMn8GKfzesF4"
      },
      "source": [
        "datos_graf = [Base['vr_salario'],Base['edad'],Base['horas_normal']]"
      ],
      "execution_count": 581,
      "outputs": []
    },
    {
      "cell_type": "code",
      "metadata": {
        "id": "KC8gy7_3ep34",
        "colab": {
          "base_uri": "https://localhost:8080/",
          "height": 385
        },
        "outputId": "8dc1d325-4778-4532-cae6-c77e8c3262de"
      },
      "source": [
        "# Creando el objeto figura\n",
        "fig = plt.figure(1, figsize=(9, 6))\n",
        "\n",
        "# Creando el subgrafico\n",
        "ax = fig.add_subplot(111)\n",
        "\n",
        "# creando el grafico de cajas\n",
        "bp = ax.boxplot(datos_graf)\n",
        "\n",
        "# visualizar mas facile los atípicos\n",
        "for flier in bp['fliers']:\n",
        "    flier.set(marker='o', color='red', alpha=0.5)\n",
        "# los puntos aislados son valores atípicos"
      ],
      "execution_count": 582,
      "outputs": [
        {
          "output_type": "display_data",
          "data": {
            "image/png": "[encoded data removed]",
            "text/plain": [
              "<Figure size 648x432 with 1 Axes>"
            ]
          },
          "metadata": {
            "needs_background": "light"
          }
        }
      ]
    },
    {
      "cell_type": "code",
      "metadata": {
        "id": "0o0HvcObg6mb",
        "colab": {
          "base_uri": "https://localhost:8080/",
          "height": 281
        },
        "outputId": "4392415a-59df-4819-b4fb-c9c0305c5407"
      },
      "source": [
        "import matplotlib.pyplot as plt \n",
        "\n",
        "x=[Base['vr_salario']]\n",
        "\n",
        "plt.boxplot(x)\n",
        "plt.title(\"Boxplot Salario\")\n",
        "plt.show()"
      ],
      "execution_count": 583,
      "outputs": [
        {
          "output_type": "display_data",
          "data": {
            "image/png": "[encoded data removed]",
            "text/plain": [
              "<Figure size 432x288 with 1 Axes>"
            ]
          },
          "metadata": {
            "needs_background": "light"
          }
        }
      ]
    },
    {
      "cell_type": "code",
      "metadata": {
        "id": "1FEkpvJ_gMjt",
        "colab": {
          "base_uri": "https://localhost:8080/",
          "height": 281
        },
        "outputId": "8f42a595-6397-4ebe-e0eb-f0a57c18db74"
      },
      "source": [
        "import matplotlib.pyplot as plt \n",
        "\n",
        "x=[Base['edad']]\n",
        "\n",
        "plt.boxplot(x)\n",
        "plt.title(\"Boxplot Edad\")\n",
        "plt.show()"
      ],
      "execution_count": 584,
      "outputs": [
        {
          "output_type": "display_data",
          "data": {
            "image/png": "[encoded data removed]",
            "text/plain": [
              "<Figure size 432x288 with 1 Axes>"
            ]
          },
          "metadata": {
            "needs_background": "light"
          }
        }
      ]
    },
    {
      "cell_type": "code",
      "metadata": {
        "id": "XCv0YXKN5-Ed",
        "colab": {
          "base_uri": "https://localhost:8080/"
        },
        "outputId": "17ff3d6d-8f87-4b04-bcef-81559368f3f3"
      },
      "source": [
        "#NUMERO DE EMPLEADOS\n",
        "n_empleados = Base_total.loc[:, 'n_empleados'] == 1\n",
        "df_emp = Base_total.loc[n_empleados]\n",
        "df_emp['vr_salario'].mean()\n"
      ],
      "execution_count": 585,
      "outputs": [
        {
          "output_type": "execute_result",
          "data": {
            "text/plain": [
              "448760.99109792284"
            ]
          },
          "metadata": {},
          "execution_count": 585
        }
      ]
    },
    {
      "cell_type": "code",
      "metadata": {
        "id": "GFkEin8F6j8e",
        "colab": {
          "base_uri": "https://localhost:8080/"
        },
        "outputId": "42960336-948c-4772-af50-5844cefc0013"
      },
      "source": [
        "n_empleados = Base_total.loc[:, 'n_empleados'] == 2\n",
        "df_emp = Base_total.loc[n_empleados]\n",
        "df_emp['vr_salario'].mean()"
      ],
      "execution_count": 586,
      "outputs": [
        {
          "output_type": "execute_result",
          "data": {
            "text/plain": [
              "660794.4047619047"
            ]
          },
          "metadata": {},
          "execution_count": 586
        }
      ]
    },
    {
      "cell_type": "code",
      "metadata": {
        "id": "Zv-sqPNe6n-c",
        "colab": {
          "base_uri": "https://localhost:8080/"
        },
        "outputId": "adc36172-dd5a-43bd-8815-73404d3f35bb"
      },
      "source": [
        "n_empleados = Base_total.loc[:, 'n_empleados'] == 3\n",
        "df_emp = Base_total.loc[n_empleados]\n",
        "df_emp['vr_salario'].mean()"
      ],
      "execution_count": 587,
      "outputs": [
        {
          "output_type": "execute_result",
          "data": {
            "text/plain": [
              "930959.0909090909"
            ]
          },
          "metadata": {},
          "execution_count": 587
        }
      ]
    },
    {
      "cell_type": "code",
      "metadata": {
        "id": "dKhj0RMR6r88",
        "colab": {
          "base_uri": "https://localhost:8080/"
        },
        "outputId": "bfdf70da-9396-41b2-9e3d-3a3ca18d65a7"
      },
      "source": [
        "n_empleados = Base_total.loc[:, 'n_empleados'] == 4\n",
        "df_emp = Base_total.loc[n_empleados]\n",
        "df_emp['vr_salario'].mean()"
      ],
      "execution_count": 588,
      "outputs": [
        {
          "output_type": "execute_result",
          "data": {
            "text/plain": [
              "1003597.8101265823"
            ]
          },
          "metadata": {},
          "execution_count": 588
        }
      ]
    },
    {
      "cell_type": "code",
      "metadata": {
        "id": "lb3Ar6_86vH9",
        "colab": {
          "base_uri": "https://localhost:8080/"
        },
        "outputId": "81f89e12-506b-4a42-9e93-5746e8dffb63"
      },
      "source": [
        "n_empleados = Base_total.loc[:, 'n_empleados'] == 5\n",
        "df_emp = Base_total.loc[n_empleados]\n",
        "df_emp['vr_salario'].mean()"
      ],
      "execution_count": 589,
      "outputs": [
        {
          "output_type": "execute_result",
          "data": {
            "text/plain": [
              "1212192.0152091256"
            ]
          },
          "metadata": {},
          "execution_count": 589
        }
      ]
    },
    {
      "cell_type": "code",
      "metadata": {
        "id": "RUQ_JtAy6xEk",
        "colab": {
          "base_uri": "https://localhost:8080/"
        },
        "outputId": "e968da1c-1cde-42ca-f8d3-9ff3c79d2423"
      },
      "source": [
        "n_empleados = Base_total.loc[:, 'n_empleados'] == 6\n",
        "df_emp = Base_total.loc[n_empleados]\n",
        "df_emp['vr_salario'].mean()"
      ],
      "execution_count": 590,
      "outputs": [
        {
          "output_type": "execute_result",
          "data": {
            "text/plain": [
              "1361552.2586037365"
            ]
          },
          "metadata": {},
          "execution_count": 590
        }
      ]
    },
    {
      "cell_type": "code",
      "metadata": {
        "id": "ASglMWWI6TpR",
        "colab": {
          "base_uri": "https://localhost:8080/",
          "height": 277
        },
        "outputId": "04c045f5-f4ee-4a94-a341-ed820d9bac06"
      },
      "source": [
        "x= [448760,660794,930959,1003597,1212192,1361552]\n",
        "cc = ['Trabaja solo','De 2-5','De 6-10','De 11-19', 'De 20-49','50 y más']\n",
        "plt.bar(cc, x)\n",
        "plt.show()"
      ],
      "execution_count": 591,
      "outputs": [
        {
          "output_type": "display_data",
          "data": {
            "image/png": "[encoded data removed]",
            "text/plain": [
              "<Figure size 432x288 with 1 Axes>"
            ]
          },
          "metadata": {
            "needs_background": "light"
          }
        }
      ]
    },
    {
      "cell_type": "markdown",
      "metadata": {
        "id": "DxHA1I4s7SRR"
      },
      "source": [
        "Se puede evidenciar que el numero de empleados influye y podria llegar a explicar la variable salario. Entre mas empleados tiene la empresa, mayor es el salario."
      ]
    },
    {
      "cell_type": "code",
      "metadata": {
        "id": "FMpHB3SY7RWQ",
        "colab": {
          "base_uri": "https://localhost:8080/"
        },
        "outputId": "87bb68bf-79bf-4f44-e578-5d0126067be0"
      },
      "source": [
        "#TIPO DE CONTRATO \n",
        "tip_con = Base_total.loc[:, 'tipo_contrato'] == 1\n",
        "df_tip = Base_total.loc[tip_con]\n",
        "df_tip['vr_salario'].mean()"
      ],
      "execution_count": 592,
      "outputs": [
        {
          "output_type": "execute_result",
          "data": {
            "text/plain": [
              "1054393.4889705882"
            ]
          },
          "metadata": {},
          "execution_count": 592
        }
      ]
    },
    {
      "cell_type": "code",
      "metadata": {
        "id": "q7t0RK4H8BBP",
        "colab": {
          "base_uri": "https://localhost:8080/"
        },
        "outputId": "6cd7ccb1-b8cf-4b86-c159-ced498677211"
      },
      "source": [
        "tip_con = Base_total.loc[:, 'tipo_contrato'] == 2\n",
        "df_tip = Base_total.loc[tip_con]\n",
        "df_tip['vr_salario'].mean()"
      ],
      "execution_count": 593,
      "outputs": [
        {
          "output_type": "execute_result",
          "data": {
            "text/plain": [
              "1419405.4426386233"
            ]
          },
          "metadata": {},
          "execution_count": 593
        }
      ]
    },
    {
      "cell_type": "code",
      "metadata": {
        "id": "-rjKB1an8DYn",
        "colab": {
          "base_uri": "https://localhost:8080/"
        },
        "outputId": "c84146aa-5718-435e-c48b-73d418726d8d"
      },
      "source": [
        "tip_con = Base_total.loc[:, 'tipo_contrato'] == 3\n",
        "df_tip = Base_total.loc[tip_con]\n",
        "df_tip['vr_salario'].mean()"
      ],
      "execution_count": 594,
      "outputs": [
        {
          "output_type": "execute_result",
          "data": {
            "text/plain": [
              "586117.0863309352"
            ]
          },
          "metadata": {},
          "execution_count": 594
        }
      ]
    },
    {
      "cell_type": "code",
      "metadata": {
        "id": "bzQgEwpu8DBd",
        "colab": {
          "base_uri": "https://localhost:8080/"
        },
        "outputId": "b44846c9-a3ac-474a-aa09-58769fa8c0f8"
      },
      "source": [
        "tip_con = Base_total.loc[:, 'tipo_contrato'] == 4\n",
        "df_tip = Base_total.loc[tip_con]\n",
        "df_tip['vr_salario'].mean()"
      ],
      "execution_count": 595,
      "outputs": [
        {
          "output_type": "execute_result",
          "data": {
            "text/plain": [
              "492875.8470149254"
            ]
          },
          "metadata": {},
          "execution_count": 595
        }
      ]
    },
    {
      "cell_type": "code",
      "metadata": {
        "id": "-HTWzUOh7-oA",
        "colab": {
          "base_uri": "https://localhost:8080/",
          "height": 276
        },
        "outputId": "c8ecf599-7f52-41fd-d80e-a01bef5442f2"
      },
      "source": [
        "x= [1054393,1419405,586117,492875]\n",
        "cc = ['Fijo','Indefinido','Verbal','Sin contrato']\n",
        "plt.bar(cc, x)\n",
        "plt.show()"
      ],
      "execution_count": 596,
      "outputs": [
        {
          "output_type": "display_data",
          "data": {
            "image/png": "[encoded data removed]",
            "text/plain": [
              "<Figure size 432x288 with 1 Axes>"
            ]
          },
          "metadata": {
            "needs_background": "light"
          }
        }
      ]
    },
    {
      "cell_type": "markdown",
      "metadata": {
        "id": "huLScT3u8pj5"
      },
      "source": [
        "Se puede evidenciar que la variable tipo de contrato si influye en la variable salario ya que, aquellos individuos que cuentan con un contrato escrito tienen un mayor salario en promedio mientras que aquellos que tienen contrato verbal o que no tienen contrato ganan mucho menos.\n",
        "Aquellas personas que tienen un contrato a termino indefinido ganan mas que aquellas que tienen uno a termino fijo."
      ]
    },
    {
      "cell_type": "code",
      "metadata": {
        "id": "zQnclEes9RvB",
        "colab": {
          "base_uri": "https://localhost:8080/"
        },
        "outputId": "273f60a1-4616-40f2-87ae-222abb14774b"
      },
      "source": [
        "#HIJOS\n",
        "hij = Base_total.loc[:, 'Total_hijos'] == 0\n",
        "df_hij = Base_total.loc[hij]\n",
        "df_hij['vr_salario'].mean()"
      ],
      "execution_count": 597,
      "outputs": [
        {
          "output_type": "execute_result",
          "data": {
            "text/plain": [
              "1129325.674613402"
            ]
          },
          "metadata": {},
          "execution_count": 597
        }
      ]
    },
    {
      "cell_type": "code",
      "metadata": {
        "id": "c1BWDPpj9yml",
        "colab": {
          "base_uri": "https://localhost:8080/"
        },
        "outputId": "60aa5e0d-5f46-4cc4-eb70-7c1750f70dd1"
      },
      "source": [
        "hij = Base_total.loc[:, 'Total_hijos'] == 1\n",
        "df_hij = Base_total.loc[hij]\n",
        "df_hij['vr_salario'].mean()"
      ],
      "execution_count": 598,
      "outputs": [
        {
          "output_type": "execute_result",
          "data": {
            "text/plain": [
              "981107.3394495413"
            ]
          },
          "metadata": {},
          "execution_count": 598
        }
      ]
    },
    {
      "cell_type": "code",
      "metadata": {
        "id": "BF86T4dF-GrG",
        "colab": {
          "base_uri": "https://localhost:8080/"
        },
        "outputId": "ef4512ef-34f9-485f-d905-52ec0d250e75"
      },
      "source": [
        "hij = Base_total.loc[:, 'Total_hijos'] == 2\n",
        "df_hij = Base_total.loc[hij]\n",
        "df_hij['vr_salario'].mean()"
      ],
      "execution_count": 599,
      "outputs": [
        {
          "output_type": "execute_result",
          "data": {
            "text/plain": [
              "929555.1396011396"
            ]
          },
          "metadata": {},
          "execution_count": 599
        }
      ]
    },
    {
      "cell_type": "code",
      "metadata": {
        "id": "1G4yuHmk-HiG",
        "colab": {
          "base_uri": "https://localhost:8080/"
        },
        "outputId": "217ebc49-97d3-454c-f330-3653b3d1641b"
      },
      "source": [
        "hij = Base_total.loc[:, 'Total_hijos'] == 3\n",
        "df_hij = Base_total.loc[hij]\n",
        "df_hij['vr_salario'].mean()"
      ],
      "execution_count": 600,
      "outputs": [
        {
          "output_type": "execute_result",
          "data": {
            "text/plain": [
              "706229.9651162791"
            ]
          },
          "metadata": {},
          "execution_count": 600
        }
      ]
    },
    {
      "cell_type": "code",
      "metadata": {
        "id": "yuu3yanv-JfD",
        "colab": {
          "base_uri": "https://localhost:8080/"
        },
        "outputId": "17510117-9642-43b9-a99c-837d5e84b6f8"
      },
      "source": [
        "hij = Base_total.loc[:, 'Total_hijos'] == 4\n",
        "df_hij = Base_total.loc[hij]\n",
        "df_hij['vr_salario'].mean()"
      ],
      "execution_count": 601,
      "outputs": [
        {
          "output_type": "execute_result",
          "data": {
            "text/plain": [
              "630957.5342465753"
            ]
          },
          "metadata": {},
          "execution_count": 601
        }
      ]
    },
    {
      "cell_type": "code",
      "metadata": {
        "id": "iIrCcw---NBV",
        "colab": {
          "base_uri": "https://localhost:8080/"
        },
        "outputId": "6705f926-d495-4d80-8d8c-73d07b1eddca"
      },
      "source": [
        "hij = Base_total.loc[:, 'Total_hijos'] == 5\n",
        "df_hij = Base_total.loc[hij]\n",
        "df_hij['vr_salario'].mean()"
      ],
      "execution_count": 602,
      "outputs": [
        {
          "output_type": "execute_result",
          "data": {
            "text/plain": [
              "480500.0"
            ]
          },
          "metadata": {},
          "execution_count": 602
        }
      ]
    },
    {
      "cell_type": "code",
      "metadata": {
        "id": "sGeggvE4-PCA",
        "colab": {
          "base_uri": "https://localhost:8080/"
        },
        "outputId": "e9da74d8-b0d7-40e3-e12c-d110fd8cf895"
      },
      "source": [
        "hij = Base_total.loc[:, 'Total_hijos'] == 6\n",
        "df_hij = Base_total.loc[hij]\n",
        "df_hij['vr_salario'].mean()"
      ],
      "execution_count": 603,
      "outputs": [
        {
          "output_type": "execute_result",
          "data": {
            "text/plain": [
              "412538.46153846156"
            ]
          },
          "metadata": {},
          "execution_count": 603
        }
      ]
    },
    {
      "cell_type": "code",
      "metadata": {
        "id": "4lHfAD9H-elY",
        "colab": {
          "base_uri": "https://localhost:8080/",
          "height": 276
        },
        "outputId": "b177e12d-79dd-4ebc-827b-0b977a1c5df6"
      },
      "source": [
        "x= [1129325,981107,929555,706229,630957,480500,412538]\n",
        "cc = ['0','1','2','3','4', '5', '6']\n",
        "plt.bar(cc, x)\n",
        "plt.show()"
      ],
      "execution_count": 604,
      "outputs": [
        {
          "output_type": "display_data",
          "data": {
            "image/png": "[encoded data removed]",
            "text/plain": [
              "<Figure size 432x288 with 1 Axes>"
            ]
          },
          "metadata": {
            "needs_background": "light"
          }
        }
      ]
    },
    {
      "cell_type": "code",
      "metadata": {
        "id": "UrVMshPqAHB3",
        "colab": {
          "base_uri": "https://localhost:8080/"
        },
        "outputId": "a2722820-c1dd-49b0-f8fc-ed3006d55ad5"
      },
      "source": [
        "#afiliacion\n",
        "af = Base.loc[:, 'afiliacion'] == 1\n",
        "df_af = Base.loc[af]\n",
        "df_af['vr_salario'].mean()"
      ],
      "execution_count": 605,
      "outputs": [
        {
          "output_type": "execute_result",
          "data": {
            "text/plain": [
              "1044395.8904985087"
            ]
          },
          "metadata": {},
          "execution_count": 605
        }
      ]
    },
    {
      "cell_type": "code",
      "metadata": {
        "id": "2n3Jfl7dAmua",
        "colab": {
          "base_uri": "https://localhost:8080/"
        },
        "outputId": "1572918a-b188-4098-af4f-bcac3e50ea61"
      },
      "source": [
        "af = Base.loc[:, 'afiliacion'] == 2\n",
        "df_af = Base.loc[af]\n",
        "df_af['vr_salario'].mean()"
      ],
      "execution_count": 606,
      "outputs": [
        {
          "output_type": "execute_result",
          "data": {
            "text/plain": [
              "600228.0701754387"
            ]
          },
          "metadata": {},
          "execution_count": 606
        }
      ]
    },
    {
      "cell_type": "code",
      "metadata": {
        "id": "PKU6YXFjAtTn",
        "colab": {
          "base_uri": "https://localhost:8080/",
          "height": 276
        },
        "outputId": "9b30f0fa-0f97-4f52-eda3-72833eb391ca"
      },
      "source": [
        "x= [1044395,600228]\n",
        "cc = ['si','no']\n",
        "plt.bar(cc, x)\n",
        "plt.show()"
      ],
      "execution_count": 607,
      "outputs": [
        {
          "output_type": "display_data",
          "data": {
            "image/png": "[encoded data removed]",
            "text/plain": [
              "<Figure size 432x288 with 1 Axes>"
            ]
          },
          "metadata": {
            "needs_background": "light"
          }
        }
      ]
    },
    {
      "cell_type": "markdown",
      "metadata": {
        "id": "cxyZKKH9_H_6"
      },
      "source": [
        "Se puede evidenciar que la variable 'Numero total de hijos' influye en la variable salario. Existe una relacion inversamente proporcional, es decir, entre menos hijos mayor sera el salario."
      ]
    },
    {
      "cell_type": "code",
      "metadata": {
        "id": "oOZAa5AXgZlP",
        "colab": {
          "base_uri": "https://localhost:8080/",
          "height": 281
        },
        "outputId": "cd96f20f-70e4-40b8-b401-a4d67cc2a8a3"
      },
      "source": [
        "import matplotlib.pyplot as plt \n",
        "\n",
        "x=[Base['horas_normal']]\n",
        "\n",
        "plt.boxplot(x)\n",
        "plt.title(\"Boxplot horas\")\n",
        "plt.show()"
      ],
      "execution_count": 608,
      "outputs": [
        {
          "output_type": "display_data",
          "data": {
            "image/png": "[encoded data removed]",
            "text/plain": [
              "<Figure size 432x288 with 1 Axes>"
            ]
          },
          "metadata": {
            "needs_background": "light"
          }
        }
      ]
    },
    {
      "cell_type": "code",
      "metadata": {
        "id": "qWPkVUZhv90L",
        "colab": {
          "base_uri": "https://localhost:8080/"
        },
        "outputId": "f45eb6f1-8e13-4763-9a82-fa2d202554d8"
      },
      "source": [
        "masculino = Base_total.loc[:, 'sexo'] == 1\n",
        "sum(masculino)"
      ],
      "execution_count": 609,
      "outputs": [
        {
          "output_type": "execute_result",
          "data": {
            "text/plain": [
              "1206"
            ]
          },
          "metadata": {},
          "execution_count": 609
        }
      ]
    },
    {
      "cell_type": "code",
      "metadata": {
        "id": "g0Sr6DSxDqdc",
        "colab": {
          "base_uri": "https://localhost:8080/"
        },
        "outputId": "f5933d11-0af5-42de-a629-5907e8d7d945"
      },
      "source": [
        "femenino = Base_total.loc[:, 'sexo'] == 2\n",
        "sum(femenino)"
      ],
      "execution_count": 610,
      "outputs": [
        {
          "output_type": "execute_result",
          "data": {
            "text/plain": [
              "1219"
            ]
          },
          "metadata": {},
          "execution_count": 610
        }
      ]
    },
    {
      "cell_type": "code",
      "metadata": {
        "id": "PK2mSpouDxho",
        "colab": {
          "base_uri": "https://localhost:8080/"
        },
        "outputId": "fbd8f71e-a0cc-4452-da7e-1d385172c2b6"
      },
      "source": [
        "1206 + 1219"
      ],
      "execution_count": 611,
      "outputs": [
        {
          "output_type": "execute_result",
          "data": {
            "text/plain": [
              "2425"
            ]
          },
          "metadata": {},
          "execution_count": 611
        }
      ]
    },
    {
      "cell_type": "markdown",
      "metadata": {
        "id": "B51MQygsEi7l"
      },
      "source": [
        "Observamos que para el caso de la variable sexo son mas las mujeres que los hombres. Tenemos un total de 1219 mujeres y 1206 hombres. "
      ]
    },
    {
      "cell_type": "code",
      "metadata": {
        "id": "wEg-IiFvFXMx",
        "colab": {
          "base_uri": "https://localhost:8080/",
          "height": 419
        },
        "outputId": "9331d36f-16ea-4f58-8baf-84a7f6d97b11"
      },
      "source": [
        "df_masculino = Base_total.loc[masculino]\n",
        "df_masculino"
      ],
      "execution_count": 612,
      "outputs": [
        {
          "output_type": "execute_result",
          "data": {
            "text/html": [
              "<div>\n",
              "<style scoped>\n",
              "    .dataframe tbody tr th:only-of-type {\n",
              "        vertical-align: middle;\n",
              "    }\n",
              "\n",
              "    .dataframe tbody tr th {\n",
              "        vertical-align: top;\n",
              "    }\n",
              "\n",
              "    .dataframe thead th {\n",
              "        text-align: right;\n",
              "    }\n",
              "</style>\n",
              "<table border=\"1\" class=\"dataframe\">\n",
              "  <thead>\n",
              "    <tr style=\"text-align: right;\">\n",
              "      <th></th>\n",
              "      <th>edad</th>\n",
              "      <th>sexo</th>\n",
              "      <th>estado_civil</th>\n",
              "      <th>Total_hijos</th>\n",
              "      <th>tipo_contrato</th>\n",
              "      <th>afiliacion</th>\n",
              "      <th>n_empleados</th>\n",
              "      <th>vr_salario</th>\n",
              "    </tr>\n",
              "  </thead>\n",
              "  <tbody>\n",
              "    <tr>\n",
              "      <th>9</th>\n",
              "      <td>31</td>\n",
              "      <td>1</td>\n",
              "      <td>1</td>\n",
              "      <td>0</td>\n",
              "      <td>2</td>\n",
              "      <td>1</td>\n",
              "      <td>6</td>\n",
              "      <td>750000</td>\n",
              "    </tr>\n",
              "    <tr>\n",
              "      <th>17</th>\n",
              "      <td>32</td>\n",
              "      <td>1</td>\n",
              "      <td>2</td>\n",
              "      <td>0</td>\n",
              "      <td>2</td>\n",
              "      <td>1</td>\n",
              "      <td>6</td>\n",
              "      <td>689000</td>\n",
              "    </tr>\n",
              "    <tr>\n",
              "      <th>18</th>\n",
              "      <td>37</td>\n",
              "      <td>1</td>\n",
              "      <td>2</td>\n",
              "      <td>0</td>\n",
              "      <td>3</td>\n",
              "      <td>1</td>\n",
              "      <td>2</td>\n",
              "      <td>1500000</td>\n",
              "    </tr>\n",
              "    <tr>\n",
              "      <th>25</th>\n",
              "      <td>59</td>\n",
              "      <td>1</td>\n",
              "      <td>2</td>\n",
              "      <td>0</td>\n",
              "      <td>3</td>\n",
              "      <td>1</td>\n",
              "      <td>2</td>\n",
              "      <td>700000</td>\n",
              "    </tr>\n",
              "    <tr>\n",
              "      <th>53</th>\n",
              "      <td>31</td>\n",
              "      <td>1</td>\n",
              "      <td>1</td>\n",
              "      <td>0</td>\n",
              "      <td>2</td>\n",
              "      <td>1</td>\n",
              "      <td>2</td>\n",
              "      <td>600000</td>\n",
              "    </tr>\n",
              "    <tr>\n",
              "      <th>...</th>\n",
              "      <td>...</td>\n",
              "      <td>...</td>\n",
              "      <td>...</td>\n",
              "      <td>...</td>\n",
              "      <td>...</td>\n",
              "      <td>...</td>\n",
              "      <td>...</td>\n",
              "      <td>...</td>\n",
              "    </tr>\n",
              "    <tr>\n",
              "      <th>19249</th>\n",
              "      <td>43</td>\n",
              "      <td>1</td>\n",
              "      <td>2</td>\n",
              "      <td>0</td>\n",
              "      <td>1</td>\n",
              "      <td>1</td>\n",
              "      <td>6</td>\n",
              "      <td>900000</td>\n",
              "    </tr>\n",
              "    <tr>\n",
              "      <th>19253</th>\n",
              "      <td>38</td>\n",
              "      <td>1</td>\n",
              "      <td>1</td>\n",
              "      <td>0</td>\n",
              "      <td>2</td>\n",
              "      <td>1</td>\n",
              "      <td>6</td>\n",
              "      <td>2000000</td>\n",
              "    </tr>\n",
              "    <tr>\n",
              "      <th>19260</th>\n",
              "      <td>37</td>\n",
              "      <td>1</td>\n",
              "      <td>1</td>\n",
              "      <td>0</td>\n",
              "      <td>1</td>\n",
              "      <td>1</td>\n",
              "      <td>6</td>\n",
              "      <td>1022000</td>\n",
              "    </tr>\n",
              "    <tr>\n",
              "      <th>19264</th>\n",
              "      <td>35</td>\n",
              "      <td>1</td>\n",
              "      <td>1</td>\n",
              "      <td>0</td>\n",
              "      <td>1</td>\n",
              "      <td>1</td>\n",
              "      <td>6</td>\n",
              "      <td>1000000</td>\n",
              "    </tr>\n",
              "    <tr>\n",
              "      <th>19266</th>\n",
              "      <td>39</td>\n",
              "      <td>1</td>\n",
              "      <td>2</td>\n",
              "      <td>0</td>\n",
              "      <td>2</td>\n",
              "      <td>1</td>\n",
              "      <td>2</td>\n",
              "      <td>900000</td>\n",
              "    </tr>\n",
              "  </tbody>\n",
              "</table>\n",
              "<p>1206 rows × 8 columns</p>\n",
              "</div>"
            ],
            "text/plain": [
              "       edad  sexo  estado_civil  ...  afiliacion  n_empleados  vr_salario\n",
              "9        31     1             1  ...           1            6      750000\n",
              "17       32     1             2  ...           1            6      689000\n",
              "18       37     1             2  ...           1            2     1500000\n",
              "25       59     1             2  ...           1            2      700000\n",
              "53       31     1             1  ...           1            2      600000\n",
              "...     ...   ...           ...  ...         ...          ...         ...\n",
              "19249    43     1             2  ...           1            6      900000\n",
              "19253    38     1             1  ...           1            6     2000000\n",
              "19260    37     1             1  ...           1            6     1022000\n",
              "19264    35     1             1  ...           1            6     1000000\n",
              "19266    39     1             2  ...           1            2      900000\n",
              "\n",
              "[1206 rows x 8 columns]"
            ]
          },
          "metadata": {},
          "execution_count": 612
        }
      ]
    },
    {
      "cell_type": "code",
      "metadata": {
        "id": "X3Tz98O6Fqwh",
        "colab": {
          "base_uri": "https://localhost:8080/"
        },
        "outputId": "94f6308c-372d-40b1-aa24-6ad462724127"
      },
      "source": [
        "estado_hombres = df_masculino.loc[:, 'estado_civil'] == 1 #UNION LIBRE\n",
        "sum(estado_hombres)"
      ],
      "execution_count": 613,
      "outputs": [
        {
          "output_type": "execute_result",
          "data": {
            "text/plain": [
              "533"
            ]
          },
          "metadata": {},
          "execution_count": 613
        }
      ]
    },
    {
      "cell_type": "code",
      "metadata": {
        "id": "qYHUrRNIGkGZ",
        "colab": {
          "base_uri": "https://localhost:8080/"
        },
        "outputId": "cbb7cdbb-971e-4dfa-9b68-19bae2580b58"
      },
      "source": [
        "estado_hombres = df_masculino.loc[:, 'estado_civil'] == 2 #CASADOS\n",
        "sum(estado_hombres)"
      ],
      "execution_count": 614,
      "outputs": [
        {
          "output_type": "execute_result",
          "data": {
            "text/plain": [
              "531"
            ]
          },
          "metadata": {},
          "execution_count": 614
        }
      ]
    },
    {
      "cell_type": "code",
      "metadata": {
        "id": "S3bvXOz4GqTN",
        "colab": {
          "base_uri": "https://localhost:8080/"
        },
        "outputId": "1651610d-64cf-48f2-b329-18944422fade"
      },
      "source": [
        "estado_hombres = df_masculino.loc[:, 'estado_civil'] == 3 #SEPARADOS O DIVORCIADOS\n",
        "sum(estado_hombres)"
      ],
      "execution_count": 615,
      "outputs": [
        {
          "output_type": "execute_result",
          "data": {
            "text/plain": [
              "74"
            ]
          },
          "metadata": {},
          "execution_count": 615
        }
      ]
    },
    {
      "cell_type": "code",
      "metadata": {
        "id": "yk_hZRydGyJz",
        "colab": {
          "base_uri": "https://localhost:8080/"
        },
        "outputId": "2335fe19-c246-4fc4-c622-04857e6d2ea7"
      },
      "source": [
        "estado_hombres = df_masculino.loc[:, 'estado_civil'] == 4 #VIUDO\n",
        "sum(estado_hombres)"
      ],
      "execution_count": 616,
      "outputs": [
        {
          "output_type": "execute_result",
          "data": {
            "text/plain": [
              "8"
            ]
          },
          "metadata": {},
          "execution_count": 616
        }
      ]
    },
    {
      "cell_type": "code",
      "metadata": {
        "id": "Ni9QYz_iG2CI",
        "colab": {
          "base_uri": "https://localhost:8080/"
        },
        "outputId": "285ab1e1-6744-439a-8d02-e82172fe6b92"
      },
      "source": [
        "estado_hombres = df_masculino.loc[:, 'estado_civil'] == 5 #SOLTERO\n",
        "sum(estado_hombres)"
      ],
      "execution_count": 617,
      "outputs": [
        {
          "output_type": "execute_result",
          "data": {
            "text/plain": [
              "60"
            ]
          },
          "metadata": {},
          "execution_count": 617
        }
      ]
    },
    {
      "cell_type": "code",
      "metadata": {
        "id": "h8tJ3DJUG50M",
        "colab": {
          "base_uri": "https://localhost:8080/"
        },
        "outputId": "e2259559-780f-4043-cfae-0eb411f900d9"
      },
      "source": [
        "60+8+74+531+533"
      ],
      "execution_count": 618,
      "outputs": [
        {
          "output_type": "execute_result",
          "data": {
            "text/plain": [
              "1206"
            ]
          },
          "metadata": {},
          "execution_count": 618
        }
      ]
    },
    {
      "cell_type": "code",
      "metadata": {
        "id": "djnDexLiHAec",
        "colab": {
          "base_uri": "https://localhost:8080/"
        },
        "outputId": "f431a95b-9b5e-4475-c525-737a9c358461"
      },
      "source": [
        "(533/1206)*100 #UNION LIBRE"
      ],
      "execution_count": 619,
      "outputs": [
        {
          "output_type": "execute_result",
          "data": {
            "text/plain": [
              "44.19568822553897"
            ]
          },
          "metadata": {},
          "execution_count": 619
        }
      ]
    },
    {
      "cell_type": "code",
      "metadata": {
        "id": "Nus1EJxQHMys",
        "colab": {
          "base_uri": "https://localhost:8080/"
        },
        "outputId": "44a58b29-f57d-4671-bc88-959ab98b0a2f"
      },
      "source": [
        "(531/1206)*100 #CASADOS"
      ],
      "execution_count": 620,
      "outputs": [
        {
          "output_type": "execute_result",
          "data": {
            "text/plain": [
              "44.02985074626866"
            ]
          },
          "metadata": {},
          "execution_count": 620
        }
      ]
    },
    {
      "cell_type": "code",
      "metadata": {
        "id": "ULuZtSsPHN_0",
        "colab": {
          "base_uri": "https://localhost:8080/"
        },
        "outputId": "ec2b4d93-772d-4463-997b-0f90fbd42ca1"
      },
      "source": [
        "(74/1206)*100 #SEPARADOS O DIVORCIADOS"
      ],
      "execution_count": 621,
      "outputs": [
        {
          "output_type": "execute_result",
          "data": {
            "text/plain": [
              "6.135986733001658"
            ]
          },
          "metadata": {},
          "execution_count": 621
        }
      ]
    },
    {
      "cell_type": "code",
      "metadata": {
        "id": "BLE9Cgd7HRWT",
        "colab": {
          "base_uri": "https://localhost:8080/"
        },
        "outputId": "d4d95a86-7063-43c5-a5eb-194309d617ad"
      },
      "source": [
        "(8/1206)*100 #VIUDOS"
      ],
      "execution_count": 622,
      "outputs": [
        {
          "output_type": "execute_result",
          "data": {
            "text/plain": [
              "0.6633499170812603"
            ]
          },
          "metadata": {},
          "execution_count": 622
        }
      ]
    },
    {
      "cell_type": "code",
      "metadata": {
        "id": "y6beYQO9HX_M",
        "colab": {
          "base_uri": "https://localhost:8080/"
        },
        "outputId": "1669c9f7-d3bb-4374-cd75-37acf0f0872a"
      },
      "source": [
        "(60/1206)*100 #SOLTEROS"
      ],
      "execution_count": 623,
      "outputs": [
        {
          "output_type": "execute_result",
          "data": {
            "text/plain": [
              "4.975124378109453"
            ]
          },
          "metadata": {},
          "execution_count": 623
        }
      ]
    },
    {
      "cell_type": "code",
      "metadata": {
        "id": "rXrxrhvoJbor",
        "colab": {
          "base_uri": "https://localhost:8080/"
        },
        "outputId": "7c2b88e0-53e2-4bf6-8539-9fd109bcb657"
      },
      "source": [
        "44.02985074626866+44.19568822553897"
      ],
      "execution_count": 624,
      "outputs": [
        {
          "output_type": "execute_result",
          "data": {
            "text/plain": [
              "88.22553897180762"
            ]
          },
          "metadata": {},
          "execution_count": 624
        }
      ]
    },
    {
      "cell_type": "code",
      "metadata": {
        "id": "z6xbImlIH8Xh",
        "colab": {
          "base_uri": "https://localhost:8080/",
          "height": 419
        },
        "outputId": "b42ee060-afae-4a3a-b0c2-ace3edd8079a"
      },
      "source": [
        "df_femenino = Base_total.loc[femenino]\n",
        "df_femenino"
      ],
      "execution_count": 625,
      "outputs": [
        {
          "output_type": "execute_result",
          "data": {
            "text/html": [
              "<div>\n",
              "<style scoped>\n",
              "    .dataframe tbody tr th:only-of-type {\n",
              "        vertical-align: middle;\n",
              "    }\n",
              "\n",
              "    .dataframe tbody tr th {\n",
              "        vertical-align: top;\n",
              "    }\n",
              "\n",
              "    .dataframe thead th {\n",
              "        text-align: right;\n",
              "    }\n",
              "</style>\n",
              "<table border=\"1\" class=\"dataframe\">\n",
              "  <thead>\n",
              "    <tr style=\"text-align: right;\">\n",
              "      <th></th>\n",
              "      <th>edad</th>\n",
              "      <th>sexo</th>\n",
              "      <th>estado_civil</th>\n",
              "      <th>Total_hijos</th>\n",
              "      <th>tipo_contrato</th>\n",
              "      <th>afiliacion</th>\n",
              "      <th>n_empleados</th>\n",
              "      <th>vr_salario</th>\n",
              "    </tr>\n",
              "  </thead>\n",
              "  <tbody>\n",
              "    <tr>\n",
              "      <th>7</th>\n",
              "      <td>30</td>\n",
              "      <td>2</td>\n",
              "      <td>1</td>\n",
              "      <td>2</td>\n",
              "      <td>1</td>\n",
              "      <td>1</td>\n",
              "      <td>6</td>\n",
              "      <td>1026000</td>\n",
              "    </tr>\n",
              "    <tr>\n",
              "      <th>36</th>\n",
              "      <td>35</td>\n",
              "      <td>2</td>\n",
              "      <td>1</td>\n",
              "      <td>2</td>\n",
              "      <td>2</td>\n",
              "      <td>1</td>\n",
              "      <td>5</td>\n",
              "      <td>1100000</td>\n",
              "    </tr>\n",
              "    <tr>\n",
              "      <th>41</th>\n",
              "      <td>23</td>\n",
              "      <td>2</td>\n",
              "      <td>1</td>\n",
              "      <td>2</td>\n",
              "      <td>3</td>\n",
              "      <td>1</td>\n",
              "      <td>1</td>\n",
              "      <td>500000</td>\n",
              "    </tr>\n",
              "    <tr>\n",
              "      <th>46</th>\n",
              "      <td>32</td>\n",
              "      <td>2</td>\n",
              "      <td>1</td>\n",
              "      <td>2</td>\n",
              "      <td>3</td>\n",
              "      <td>1</td>\n",
              "      <td>2</td>\n",
              "      <td>700000</td>\n",
              "    </tr>\n",
              "    <tr>\n",
              "      <th>50</th>\n",
              "      <td>50</td>\n",
              "      <td>2</td>\n",
              "      <td>2</td>\n",
              "      <td>0</td>\n",
              "      <td>4</td>\n",
              "      <td>1</td>\n",
              "      <td>2</td>\n",
              "      <td>300000</td>\n",
              "    </tr>\n",
              "    <tr>\n",
              "      <th>...</th>\n",
              "      <td>...</td>\n",
              "      <td>...</td>\n",
              "      <td>...</td>\n",
              "      <td>...</td>\n",
              "      <td>...</td>\n",
              "      <td>...</td>\n",
              "      <td>...</td>\n",
              "      <td>...</td>\n",
              "    </tr>\n",
              "    <tr>\n",
              "      <th>19230</th>\n",
              "      <td>34</td>\n",
              "      <td>2</td>\n",
              "      <td>2</td>\n",
              "      <td>2</td>\n",
              "      <td>3</td>\n",
              "      <td>1</td>\n",
              "      <td>6</td>\n",
              "      <td>320000</td>\n",
              "    </tr>\n",
              "    <tr>\n",
              "      <th>19246</th>\n",
              "      <td>42</td>\n",
              "      <td>2</td>\n",
              "      <td>2</td>\n",
              "      <td>2</td>\n",
              "      <td>2</td>\n",
              "      <td>1</td>\n",
              "      <td>6</td>\n",
              "      <td>2400000</td>\n",
              "    </tr>\n",
              "    <tr>\n",
              "      <th>19265</th>\n",
              "      <td>54</td>\n",
              "      <td>2</td>\n",
              "      <td>1</td>\n",
              "      <td>0</td>\n",
              "      <td>1</td>\n",
              "      <td>1</td>\n",
              "      <td>6</td>\n",
              "      <td>690000</td>\n",
              "    </tr>\n",
              "    <tr>\n",
              "      <th>19274</th>\n",
              "      <td>27</td>\n",
              "      <td>2</td>\n",
              "      <td>5</td>\n",
              "      <td>3</td>\n",
              "      <td>1</td>\n",
              "      <td>1</td>\n",
              "      <td>6</td>\n",
              "      <td>679000</td>\n",
              "    </tr>\n",
              "    <tr>\n",
              "      <th>19279</th>\n",
              "      <td>43</td>\n",
              "      <td>2</td>\n",
              "      <td>2</td>\n",
              "      <td>4</td>\n",
              "      <td>2</td>\n",
              "      <td>1</td>\n",
              "      <td>6</td>\n",
              "      <td>689400</td>\n",
              "    </tr>\n",
              "  </tbody>\n",
              "</table>\n",
              "<p>1219 rows × 8 columns</p>\n",
              "</div>"
            ],
            "text/plain": [
              "       edad  sexo  estado_civil  ...  afiliacion  n_empleados  vr_salario\n",
              "7        30     2             1  ...           1            6     1026000\n",
              "36       35     2             1  ...           1            5     1100000\n",
              "41       23     2             1  ...           1            1      500000\n",
              "46       32     2             1  ...           1            2      700000\n",
              "50       50     2             2  ...           1            2      300000\n",
              "...     ...   ...           ...  ...         ...          ...         ...\n",
              "19230    34     2             2  ...           1            6      320000\n",
              "19246    42     2             2  ...           1            6     2400000\n",
              "19265    54     2             1  ...           1            6      690000\n",
              "19274    27     2             5  ...           1            6      679000\n",
              "19279    43     2             2  ...           1            6      689400\n",
              "\n",
              "[1219 rows x 8 columns]"
            ]
          },
          "metadata": {},
          "execution_count": 625
        }
      ]
    },
    {
      "cell_type": "code",
      "metadata": {
        "id": "j0ir_NYjHxQb",
        "colab": {
          "base_uri": "https://localhost:8080/"
        },
        "outputId": "1a20baa9-ae55-4088-a17d-abf3703bbe4a"
      },
      "source": [
        "estado_mujeres = df_femenino.loc[:, 'estado_civil'] == 1 #UNION LIBRE\n",
        "sum(estado_mujeres)"
      ],
      "execution_count": 626,
      "outputs": [
        {
          "output_type": "execute_result",
          "data": {
            "text/plain": [
              "385"
            ]
          },
          "metadata": {},
          "execution_count": 626
        }
      ]
    },
    {
      "cell_type": "code",
      "metadata": {
        "id": "2pvLos5sIE_D",
        "colab": {
          "base_uri": "https://localhost:8080/"
        },
        "outputId": "1e09ea38-c1b9-44d3-8ed5-73abe77ef7ad"
      },
      "source": [
        "estado_mujeres = df_femenino.loc[:, 'estado_civil'] == 2 #CASADAS\n",
        "sum(estado_mujeres)"
      ],
      "execution_count": 627,
      "outputs": [
        {
          "output_type": "execute_result",
          "data": {
            "text/plain": [
              "326"
            ]
          },
          "metadata": {},
          "execution_count": 627
        }
      ]
    },
    {
      "cell_type": "code",
      "metadata": {
        "id": "zE1CzKiNIIJg",
        "colab": {
          "base_uri": "https://localhost:8080/"
        },
        "outputId": "e17c69e7-ef14-4a8c-b9bb-0851e81f5dd8"
      },
      "source": [
        "estado_mujeres = df_femenino.loc[:, 'estado_civil'] == 3 #SEPARADAS O DIVORCIADAS\n",
        "sum(estado_mujeres)"
      ],
      "execution_count": 628,
      "outputs": [
        {
          "output_type": "execute_result",
          "data": {
            "text/plain": [
              "314"
            ]
          },
          "metadata": {},
          "execution_count": 628
        }
      ]
    },
    {
      "cell_type": "code",
      "metadata": {
        "id": "epRsSRNrINB8",
        "colab": {
          "base_uri": "https://localhost:8080/"
        },
        "outputId": "b5bec22f-7b6e-45c4-f3a3-73680e1262f4"
      },
      "source": [
        "estado_mujeres = df_femenino.loc[:, 'estado_civil'] == 4 #VIUDAS\n",
        "sum(estado_mujeres)"
      ],
      "execution_count": 629,
      "outputs": [
        {
          "output_type": "execute_result",
          "data": {
            "text/plain": [
              "48"
            ]
          },
          "metadata": {},
          "execution_count": 629
        }
      ]
    },
    {
      "cell_type": "code",
      "metadata": {
        "id": "AhpCRYdIIRJG",
        "colab": {
          "base_uri": "https://localhost:8080/"
        },
        "outputId": "16d62c2a-ecee-4018-f5c2-51a5cbde29f4"
      },
      "source": [
        "estado_mujeres = df_femenino.loc[:, 'estado_civil'] == 5 #SOLTERAS\n",
        "sum(estado_mujeres)"
      ],
      "execution_count": 630,
      "outputs": [
        {
          "output_type": "execute_result",
          "data": {
            "text/plain": [
              "146"
            ]
          },
          "metadata": {},
          "execution_count": 630
        }
      ]
    },
    {
      "cell_type": "code",
      "metadata": {
        "id": "LDTPcGHUIT00",
        "colab": {
          "base_uri": "https://localhost:8080/"
        },
        "outputId": "00b0f487-50e6-4430-8236-efc80996e4cd"
      },
      "source": [
        "146+48+314+326+385"
      ],
      "execution_count": 631,
      "outputs": [
        {
          "output_type": "execute_result",
          "data": {
            "text/plain": [
              "1219"
            ]
          },
          "metadata": {},
          "execution_count": 631
        }
      ]
    },
    {
      "cell_type": "code",
      "metadata": {
        "id": "llcvYQEOIbnM",
        "colab": {
          "base_uri": "https://localhost:8080/"
        },
        "outputId": "390e7cc7-4814-4496-f32b-6a464a76eaa8"
      },
      "source": [
        "(385/1219)*100 #UNION LIBRE"
      ],
      "execution_count": 632,
      "outputs": [
        {
          "output_type": "execute_result",
          "data": {
            "text/plain": [
              "31.58326497128794"
            ]
          },
          "metadata": {},
          "execution_count": 632
        }
      ]
    },
    {
      "cell_type": "code",
      "metadata": {
        "id": "gM_O6V9wIf7C",
        "colab": {
          "base_uri": "https://localhost:8080/"
        },
        "outputId": "81c61e0e-8102-4075-8ec4-9793def4bbbe"
      },
      "source": [
        "(326/1219)*100 #CASADAS"
      ],
      "execution_count": 633,
      "outputs": [
        {
          "output_type": "execute_result",
          "data": {
            "text/plain": [
              "26.743232157506153"
            ]
          },
          "metadata": {},
          "execution_count": 633
        }
      ]
    },
    {
      "cell_type": "code",
      "metadata": {
        "id": "1mwNA2CiInHF",
        "colab": {
          "base_uri": "https://localhost:8080/"
        },
        "outputId": "6bc50ecd-0e09-4db9-95ba-d165b6559f73"
      },
      "source": [
        "(314/1219)*100 #SEPARADAS O DIVORCIADAS"
      ],
      "execution_count": 634,
      "outputs": [
        {
          "output_type": "execute_result",
          "data": {
            "text/plain": [
              "25.758818703855617"
            ]
          },
          "metadata": {},
          "execution_count": 634
        }
      ]
    },
    {
      "cell_type": "code",
      "metadata": {
        "id": "vUnGEVBHIp0F",
        "colab": {
          "base_uri": "https://localhost:8080/"
        },
        "outputId": "154a1d29-fa22-404f-d771-7dc036867a6f"
      },
      "source": [
        "(48/1219)*100 #VIUDAS"
      ],
      "execution_count": 635,
      "outputs": [
        {
          "output_type": "execute_result",
          "data": {
            "text/plain": [
              "3.937653814602133"
            ]
          },
          "metadata": {},
          "execution_count": 635
        }
      ]
    },
    {
      "cell_type": "code",
      "metadata": {
        "id": "hANcDaHxIs4y",
        "colab": {
          "base_uri": "https://localhost:8080/"
        },
        "outputId": "2ce10cd7-efbc-4a9c-dfb1-926a715c8169"
      },
      "source": [
        "(146/1219)*100 #SOLTERAS"
      ],
      "execution_count": 636,
      "outputs": [
        {
          "output_type": "execute_result",
          "data": {
            "text/plain": [
              "11.977030352748153"
            ]
          },
          "metadata": {},
          "execution_count": 636
        }
      ]
    },
    {
      "cell_type": "code",
      "metadata": {
        "id": "8U9yjGzkJTYJ",
        "colab": {
          "base_uri": "https://localhost:8080/"
        },
        "outputId": "0cc6c5df-54e6-4668-9d4a-3433118b09b6"
      },
      "source": [
        "26.743232157506153+31.58326497128794"
      ],
      "execution_count": 637,
      "outputs": [
        {
          "output_type": "execute_result",
          "data": {
            "text/plain": [
              "58.32649712879409"
            ]
          },
          "metadata": {},
          "execution_count": 637
        }
      ]
    },
    {
      "cell_type": "markdown",
      "metadata": {
        "id": "RqhfyQSNCOKM"
      },
      "source": [
        "Observamos que para el caso de la variable estado civil son más las mujeres solteras con un 11.97% con respecto a los hombres con un 4.92% y se da una mayor porcentaje de hombres casados o en union libre con un 88.22% mucho mayor que para el caso de las mujeres que fue del 58.32%. \n",
        "Asi mismo, el porcentaje de hombres divorciados o separados fue del 6,13% mientras que el de las mujeres fue del 25.75%, mas del doble."
      ]
    },
    {
      "cell_type": "code",
      "metadata": {
        "id": "r0zxwtwvv-md"
      },
      "source": [
        "import statistics as st"
      ],
      "execution_count": 638,
      "outputs": []
    },
    {
      "cell_type": "code",
      "metadata": {
        "id": "O7V_Q9yAv-hc",
        "colab": {
          "base_uri": "https://localhost:8080/"
        },
        "outputId": "c7204339-f209-4443-e750-251b3787f729"
      },
      "source": [
        "st.mean(Base['vr_salario'])"
      ],
      "execution_count": 639,
      "outputs": [
        {
          "output_type": "execute_result",
          "data": {
            "text/plain": [
              "1025962.950515464"
            ]
          },
          "metadata": {},
          "execution_count": 639
        }
      ]
    },
    {
      "cell_type": "code",
      "metadata": {
        "id": "Lz2yw7-xv-er",
        "colab": {
          "base_uri": "https://localhost:8080/"
        },
        "outputId": "9e8c3dbd-66cf-4d61-c702-20895e195062"
      },
      "source": [
        " df_masculino['vr_salario'].mean()"
      ],
      "execution_count": 640,
      "outputs": [
        {
          "output_type": "execute_result",
          "data": {
            "text/plain": [
              "1165649.8383084578"
            ]
          },
          "metadata": {},
          "execution_count": 640
        }
      ]
    },
    {
      "cell_type": "code",
      "metadata": {
        "id": "sSCWIeBkv-bo",
        "colab": {
          "base_uri": "https://localhost:8080/"
        },
        "outputId": "4e9746c7-c855-4948-d94e-4fdda8dc373e"
      },
      "source": [
        " df_femenino['vr_salario'].mean()"
      ],
      "execution_count": 641,
      "outputs": [
        {
          "output_type": "execute_result",
          "data": {
            "text/plain": [
              "887765.7506152584"
            ]
          },
          "metadata": {},
          "execution_count": 641
        }
      ]
    },
    {
      "cell_type": "code",
      "metadata": {
        "id": "6D7jC3huNQkX",
        "colab": {
          "base_uri": "https://localhost:8080/"
        },
        "outputId": "8bb2d8cb-476a-498f-e96c-0998351b94cf"
      },
      "source": [
        "1165649-887765"
      ],
      "execution_count": 642,
      "outputs": [
        {
          "output_type": "execute_result",
          "data": {
            "text/plain": [
              "277884"
            ]
          },
          "metadata": {},
          "execution_count": 642
        }
      ]
    },
    {
      "cell_type": "markdown",
      "metadata": {
        "id": "pARYbQUKM4ni"
      },
      "source": [
        "Se puede evidenciar que los hombres tienen un salario en promedio de 1.165.649 pesos mientras que las mujeres tienen un salario promedio de 887.765 pesos. Es decir las mujeres ganan 277.884 pesos menos que los hombres en promedio.\n"
      ]
    },
    {
      "cell_type": "code",
      "metadata": {
        "id": "fEss1G81OA9Y"
      },
      "source": [
        "import matplotlib.pyplot as plt\n",
        "import numpy as np"
      ],
      "execution_count": 643,
      "outputs": []
    },
    {
      "cell_type": "code",
      "metadata": {
        "id": "lPQhMZAiNhZr",
        "colab": {
          "base_uri": "https://localhost:8080/",
          "height": 295
        },
        "outputId": "628e9ab0-b32e-4074-c61e-ed2f32571494"
      },
      "source": [
        "cc = ['HOMBRES', 'MUJERES']\n",
        "data = [1165649.8383084578,887765.7506152584]\n",
        "plt.bar(cc,data)\n",
        "plt.title('GRAFICO SALARIO PROMEDIO POR SEXO')\n",
        "plt.xlabel('SEXO')\n",
        "plt.ylabel('SALARIO PROMEDIO')\n",
        "plt.show()"
      ],
      "execution_count": 644,
      "outputs": [
        {
          "output_type": "display_data",
          "data": {
            "image/png": "[encoded data removed]",
            "text/plain": [
              "<Figure size 432x288 with 1 Axes>"
            ]
          },
          "metadata": {
            "needs_background": "light"
          }
        }
      ]
    },
    {
      "cell_type": "code",
      "metadata": {
        "id": "XKhLPJZjM4Vt",
        "colab": {
          "base_uri": "https://localhost:8080/"
        },
        "outputId": "49855805-0429-4884-b3d6-6f348e1602d4"
      },
      "source": [
        " df_masculino['vr_salario'].min()"
      ],
      "execution_count": 645,
      "outputs": [
        {
          "output_type": "execute_result",
          "data": {
            "text/plain": [
              "5000"
            ]
          },
          "metadata": {},
          "execution_count": 645
        }
      ]
    },
    {
      "cell_type": "code",
      "metadata": {
        "id": "ZggQOaCIv-X9",
        "colab": {
          "base_uri": "https://localhost:8080/"
        },
        "outputId": "47505257-c91c-431e-f568-e7c75150efad"
      },
      "source": [
        "df_masculino['vr_salario'].max()"
      ],
      "execution_count": 646,
      "outputs": [
        {
          "output_type": "execute_result",
          "data": {
            "text/plain": [
              "11000000"
            ]
          },
          "metadata": {},
          "execution_count": 646
        }
      ]
    },
    {
      "cell_type": "code",
      "metadata": {
        "id": "xpYr8Czpv-VV",
        "colab": {
          "base_uri": "https://localhost:8080/"
        },
        "outputId": "48d3e200-0fea-480b-f8d2-4b1927a5d43d"
      },
      "source": [
        "df_femenino['vr_salario'].min()"
      ],
      "execution_count": 647,
      "outputs": [
        {
          "output_type": "execute_result",
          "data": {
            "text/plain": [
              "5000"
            ]
          },
          "metadata": {},
          "execution_count": 647
        }
      ]
    },
    {
      "cell_type": "code",
      "metadata": {
        "id": "QvmOWyQnPS6V",
        "colab": {
          "base_uri": "https://localhost:8080/"
        },
        "outputId": "4d18de0c-2c60-4479-b424-c68df2f0b389"
      },
      "source": [
        "df_femenino['vr_salario'].max()"
      ],
      "execution_count": 648,
      "outputs": [
        {
          "output_type": "execute_result",
          "data": {
            "text/plain": [
              "9000000"
            ]
          },
          "metadata": {},
          "execution_count": 648
        }
      ]
    },
    {
      "cell_type": "markdown",
      "metadata": {
        "id": "PkDkjBxGPZqp"
      },
      "source": [
        "El salario minimo presentado por el sexo masculino y femenino fue de 5000 pesos. El salario maximo presentado por el sexo masculino fue de 11.000.000 pesos mientras que para el sexo femenino fue de 9.000.000 pesos."
      ]
    },
    {
      "cell_type": "code",
      "metadata": {
        "id": "UKvvaI3dPZDT",
        "colab": {
          "base_uri": "https://localhost:8080/"
        },
        "outputId": "8295420f-b776-4645-dc86-42d757dc6a14"
      },
      "source": [
        "df_femenino['vr_salario'].median()"
      ],
      "execution_count": 649,
      "outputs": [
        {
          "output_type": "execute_result",
          "data": {
            "text/plain": [
              "690000.0"
            ]
          },
          "metadata": {},
          "execution_count": 649
        }
      ]
    },
    {
      "cell_type": "code",
      "metadata": {
        "id": "Yb_UNSXOPVH3",
        "colab": {
          "base_uri": "https://localhost:8080/"
        },
        "outputId": "28f06082-2e04-4513-8caa-12464ea85935"
      },
      "source": [
        "df_masculino['vr_salario'].median()"
      ],
      "execution_count": 650,
      "outputs": [
        {
          "output_type": "execute_result",
          "data": {
            "text/plain": [
              "890000.0"
            ]
          },
          "metadata": {},
          "execution_count": 650
        }
      ]
    },
    {
      "cell_type": "markdown",
      "metadata": {
        "id": "DPDmtSybP0wB"
      },
      "source": [
        "El 50% de las mujeres tienen un salario menor o igual a 690.000 pesos. En cambio, el 50% de los hombres tienen un salario menor o igual a 890.000 pesos."
      ]
    },
    {
      "cell_type": "code",
      "metadata": {
        "id": "Y4ISKGvXPzmB",
        "colab": {
          "base_uri": "https://localhost:8080/"
        },
        "outputId": "075dc70b-f3c4-4930-b6da-7a3373ae01d4"
      },
      "source": [
        "np.std(df_femenino['vr_salario'])"
      ],
      "execution_count": 651,
      "outputs": [
        {
          "output_type": "execute_result",
          "data": {
            "text/plain": [
              "792132.2911543256"
            ]
          },
          "metadata": {},
          "execution_count": 651
        }
      ]
    },
    {
      "cell_type": "code",
      "metadata": {
        "id": "ypHcV3WcPye5",
        "colab": {
          "base_uri": "https://localhost:8080/"
        },
        "outputId": "2cfe0db1-d122-4f19-de3a-231a9d3abec4"
      },
      "source": [
        "np.std(df_masculino['vr_salario'])"
      ],
      "execution_count": 652,
      "outputs": [
        {
          "output_type": "execute_result",
          "data": {
            "text/plain": [
              "980008.5463608436"
            ]
          },
          "metadata": {},
          "execution_count": 652
        }
      ]
    },
    {
      "cell_type": "markdown",
      "metadata": {
        "id": "BrtzJ7mjSvtr"
      },
      "source": [
        "Los salarios de los hombres se encuentran mas dispersos que los de las mujeres. Es decir, existe mayor diferencia entre los valores de los salarios de un inviduo a otro."
      ]
    },
    {
      "cell_type": "markdown",
      "metadata": {
        "id": "NAJiPfPzBvbO"
      },
      "source": [
        "## Punto 4"
      ]
    },
    {
      "cell_type": "code",
      "metadata": {
        "colab": {
          "base_uri": "https://localhost:8080/",
          "height": 419
        },
        "id": "5OxrbICqBzdI",
        "outputId": "9c533b3b-7c5c-4c55-81aa-05538509ccb7"
      },
      "source": [
        "Base_total"
      ],
      "execution_count": 653,
      "outputs": [
        {
          "output_type": "execute_result",
          "data": {
            "text/html": [
              "<div>\n",
              "<style scoped>\n",
              "    .dataframe tbody tr th:only-of-type {\n",
              "        vertical-align: middle;\n",
              "    }\n",
              "\n",
              "    .dataframe tbody tr th {\n",
              "        vertical-align: top;\n",
              "    }\n",
              "\n",
              "    .dataframe thead th {\n",
              "        text-align: right;\n",
              "    }\n",
              "</style>\n",
              "<table border=\"1\" class=\"dataframe\">\n",
              "  <thead>\n",
              "    <tr style=\"text-align: right;\">\n",
              "      <th></th>\n",
              "      <th>edad</th>\n",
              "      <th>sexo</th>\n",
              "      <th>estado_civil</th>\n",
              "      <th>Total_hijos</th>\n",
              "      <th>tipo_contrato</th>\n",
              "      <th>afiliacion</th>\n",
              "      <th>n_empleados</th>\n",
              "      <th>vr_salario</th>\n",
              "    </tr>\n",
              "  </thead>\n",
              "  <tbody>\n",
              "    <tr>\n",
              "      <th>7</th>\n",
              "      <td>30</td>\n",
              "      <td>2</td>\n",
              "      <td>1</td>\n",
              "      <td>2</td>\n",
              "      <td>1</td>\n",
              "      <td>1</td>\n",
              "      <td>6</td>\n",
              "      <td>1026000</td>\n",
              "    </tr>\n",
              "    <tr>\n",
              "      <th>9</th>\n",
              "      <td>31</td>\n",
              "      <td>1</td>\n",
              "      <td>1</td>\n",
              "      <td>0</td>\n",
              "      <td>2</td>\n",
              "      <td>1</td>\n",
              "      <td>6</td>\n",
              "      <td>750000</td>\n",
              "    </tr>\n",
              "    <tr>\n",
              "      <th>17</th>\n",
              "      <td>32</td>\n",
              "      <td>1</td>\n",
              "      <td>2</td>\n",
              "      <td>0</td>\n",
              "      <td>2</td>\n",
              "      <td>1</td>\n",
              "      <td>6</td>\n",
              "      <td>689000</td>\n",
              "    </tr>\n",
              "    <tr>\n",
              "      <th>18</th>\n",
              "      <td>37</td>\n",
              "      <td>1</td>\n",
              "      <td>2</td>\n",
              "      <td>0</td>\n",
              "      <td>3</td>\n",
              "      <td>1</td>\n",
              "      <td>2</td>\n",
              "      <td>1500000</td>\n",
              "    </tr>\n",
              "    <tr>\n",
              "      <th>25</th>\n",
              "      <td>59</td>\n",
              "      <td>1</td>\n",
              "      <td>2</td>\n",
              "      <td>0</td>\n",
              "      <td>3</td>\n",
              "      <td>1</td>\n",
              "      <td>2</td>\n",
              "      <td>700000</td>\n",
              "    </tr>\n",
              "    <tr>\n",
              "      <th>...</th>\n",
              "      <td>...</td>\n",
              "      <td>...</td>\n",
              "      <td>...</td>\n",
              "      <td>...</td>\n",
              "      <td>...</td>\n",
              "      <td>...</td>\n",
              "      <td>...</td>\n",
              "      <td>...</td>\n",
              "    </tr>\n",
              "    <tr>\n",
              "      <th>19264</th>\n",
              "      <td>35</td>\n",
              "      <td>1</td>\n",
              "      <td>1</td>\n",
              "      <td>0</td>\n",
              "      <td>1</td>\n",
              "      <td>1</td>\n",
              "      <td>6</td>\n",
              "      <td>1000000</td>\n",
              "    </tr>\n",
              "    <tr>\n",
              "      <th>19265</th>\n",
              "      <td>54</td>\n",
              "      <td>2</td>\n",
              "      <td>1</td>\n",
              "      <td>0</td>\n",
              "      <td>1</td>\n",
              "      <td>1</td>\n",
              "      <td>6</td>\n",
              "      <td>690000</td>\n",
              "    </tr>\n",
              "    <tr>\n",
              "      <th>19266</th>\n",
              "      <td>39</td>\n",
              "      <td>1</td>\n",
              "      <td>2</td>\n",
              "      <td>0</td>\n",
              "      <td>2</td>\n",
              "      <td>1</td>\n",
              "      <td>2</td>\n",
              "      <td>900000</td>\n",
              "    </tr>\n",
              "    <tr>\n",
              "      <th>19274</th>\n",
              "      <td>27</td>\n",
              "      <td>2</td>\n",
              "      <td>5</td>\n",
              "      <td>3</td>\n",
              "      <td>1</td>\n",
              "      <td>1</td>\n",
              "      <td>6</td>\n",
              "      <td>679000</td>\n",
              "    </tr>\n",
              "    <tr>\n",
              "      <th>19279</th>\n",
              "      <td>43</td>\n",
              "      <td>2</td>\n",
              "      <td>2</td>\n",
              "      <td>4</td>\n",
              "      <td>2</td>\n",
              "      <td>1</td>\n",
              "      <td>6</td>\n",
              "      <td>689400</td>\n",
              "    </tr>\n",
              "  </tbody>\n",
              "</table>\n",
              "<p>2425 rows × 8 columns</p>\n",
              "</div>"
            ],
            "text/plain": [
              "       edad  sexo  estado_civil  ...  afiliacion  n_empleados  vr_salario\n",
              "7        30     2             1  ...           1            6     1026000\n",
              "9        31     1             1  ...           1            6      750000\n",
              "17       32     1             2  ...           1            6      689000\n",
              "18       37     1             2  ...           1            2     1500000\n",
              "25       59     1             2  ...           1            2      700000\n",
              "...     ...   ...           ...  ...         ...          ...         ...\n",
              "19264    35     1             1  ...           1            6     1000000\n",
              "19265    54     2             1  ...           1            6      690000\n",
              "19266    39     1             2  ...           1            2      900000\n",
              "19274    27     2             5  ...           1            6      679000\n",
              "19279    43     2             2  ...           1            6      689400\n",
              "\n",
              "[2425 rows x 8 columns]"
            ]
          },
          "metadata": {},
          "execution_count": 653
        }
      ]
    },
    {
      "cell_type": "code",
      "metadata": {
        "id": "OiHg3Y0XB15b"
      },
      "source": [
        "import pandas as pd"
      ],
      "execution_count": 654,
      "outputs": []
    },
    {
      "cell_type": "code",
      "metadata": {
        "colab": {
          "base_uri": "https://localhost:8080/"
        },
        "id": "-l7HAmWDCaQk",
        "outputId": "5f3f30dc-afac-4d1c-db2a-2c6b2e59457f"
      },
      "source": [
        "Base_total.info()"
      ],
      "execution_count": 655,
      "outputs": [
        {
          "output_type": "stream",
          "name": "stdout",
          "text": [
            "<class 'pandas.core.frame.DataFrame'>\n",
            "Int64Index: 2425 entries, 7 to 19279\n",
            "Data columns (total 8 columns):\n",
            " #   Column         Non-Null Count  Dtype\n",
            "---  ------         --------------  -----\n",
            " 0   edad           2425 non-null   int64\n",
            " 1   sexo           2425 non-null   int64\n",
            " 2   estado_civil   2425 non-null   int64\n",
            " 3   Total_hijos    2425 non-null   int64\n",
            " 4   tipo_contrato  2425 non-null   int64\n",
            " 5   afiliacion     2425 non-null   int64\n",
            " 6   n_empleados    2425 non-null   int64\n",
            " 7   vr_salario     2425 non-null   int64\n",
            "dtypes: int64(8)\n",
            "memory usage: 170.5 KB\n"
          ]
        }
      ]
    },
    {
      "cell_type": "code",
      "metadata": {
        "id": "tB0_eas442Zm",
        "colab": {
          "base_uri": "https://localhost:8080/"
        },
        "outputId": "8a28e8a0-c5a8-4910-829b-01bf4da4aa11"
      },
      "source": [
        "Base_total[\"Total_hijos\"] ; Base_total[\"n_empleados\"]"
      ],
      "execution_count": 656,
      "outputs": [
        {
          "output_type": "execute_result",
          "data": {
            "text/plain": [
              "7        6\n",
              "9        6\n",
              "17       6\n",
              "18       2\n",
              "25       2\n",
              "        ..\n",
              "19264    6\n",
              "19265    6\n",
              "19266    2\n",
              "19274    6\n",
              "19279    6\n",
              "Name: n_empleados, Length: 2425, dtype: int64"
            ]
          },
          "metadata": {},
          "execution_count": 656
        }
      ]
    },
    {
      "cell_type": "code",
      "metadata": {
        "id": "S32aKAIGDweo"
      },
      "source": [
        "est_dummy = pd.get_dummies(Base_total['estado_civil'], prefix = 'estado_civil')\n",
        "sexo_dummy = pd.get_dummies(Base_total['sexo'], prefix = 'sexo')\n",
        "contrato_dummy = pd.get_dummies(Base_total['tipo_contrato'], prefix = 'tipo_contrato')\n",
        "afiliacion_dummy = pd.get_dummies(Base_total['afiliacion'], prefix = 'afiliacion')"
      ],
      "execution_count": 657,
      "outputs": []
    },
    {
      "cell_type": "code",
      "metadata": {
        "id": "U6qrasGaEOR0"
      },
      "source": [
        "Base_total = pd.concat([Base_total, est_dummy], axis = 1)\n",
        "Base_total = pd.concat([Base_total, sexo_dummy], axis = 1)\n",
        "Base_total = pd.concat([Base_total, contrato_dummy], axis = 1)\n",
        "Base_total = pd.concat([Base_total, afiliacion_dummy], axis = 1)"
      ],
      "execution_count": 658,
      "outputs": []
    },
    {
      "cell_type": "code",
      "metadata": {
        "id": "ZOkoXdAQExx1",
        "colab": {
          "base_uri": "https://localhost:8080/",
          "height": 439
        },
        "outputId": "d8f54b0b-f464-482e-9319-4f953bf478bc"
      },
      "source": [
        "Base_total"
      ],
      "execution_count": 659,
      "outputs": [
        {
          "output_type": "execute_result",
          "data": {
            "text/html": [
              "<div>\n",
              "<style scoped>\n",
              "    .dataframe tbody tr th:only-of-type {\n",
              "        vertical-align: middle;\n",
              "    }\n",
              "\n",
              "    .dataframe tbody tr th {\n",
              "        vertical-align: top;\n",
              "    }\n",
              "\n",
              "    .dataframe thead th {\n",
              "        text-align: right;\n",
              "    }\n",
              "</style>\n",
              "<table border=\"1\" class=\"dataframe\">\n",
              "  <thead>\n",
              "    <tr style=\"text-align: right;\">\n",
              "      <th></th>\n",
              "      <th>edad</th>\n",
              "      <th>sexo</th>\n",
              "      <th>estado_civil</th>\n",
              "      <th>Total_hijos</th>\n",
              "      <th>tipo_contrato</th>\n",
              "      <th>afiliacion</th>\n",
              "      <th>n_empleados</th>\n",
              "      <th>vr_salario</th>\n",
              "      <th>estado_civil_1</th>\n",
              "      <th>estado_civil_2</th>\n",
              "      <th>estado_civil_3</th>\n",
              "      <th>estado_civil_4</th>\n",
              "      <th>estado_civil_5</th>\n",
              "      <th>sexo_1</th>\n",
              "      <th>sexo_2</th>\n",
              "      <th>tipo_contrato_0</th>\n",
              "      <th>tipo_contrato_1</th>\n",
              "      <th>tipo_contrato_2</th>\n",
              "      <th>tipo_contrato_3</th>\n",
              "      <th>tipo_contrato_4</th>\n",
              "      <th>afiliacion_0</th>\n",
              "      <th>afiliacion_1</th>\n",
              "      <th>afiliacion_2</th>\n",
              "    </tr>\n",
              "  </thead>\n",
              "  <tbody>\n",
              "    <tr>\n",
              "      <th>7</th>\n",
              "      <td>30</td>\n",
              "      <td>2</td>\n",
              "      <td>1</td>\n",
              "      <td>2</td>\n",
              "      <td>1</td>\n",
              "      <td>1</td>\n",
              "      <td>6</td>\n",
              "      <td>1026000</td>\n",
              "      <td>1</td>\n",
              "      <td>0</td>\n",
              "      <td>0</td>\n",
              "      <td>0</td>\n",
              "      <td>0</td>\n",
              "      <td>0</td>\n",
              "      <td>1</td>\n",
              "      <td>0</td>\n",
              "      <td>1</td>\n",
              "      <td>0</td>\n",
              "      <td>0</td>\n",
              "      <td>0</td>\n",
              "      <td>0</td>\n",
              "      <td>1</td>\n",
              "      <td>0</td>\n",
              "    </tr>\n",
              "    <tr>\n",
              "      <th>9</th>\n",
              "      <td>31</td>\n",
              "      <td>1</td>\n",
              "      <td>1</td>\n",
              "      <td>0</td>\n",
              "      <td>2</td>\n",
              "      <td>1</td>\n",
              "      <td>6</td>\n",
              "      <td>750000</td>\n",
              "      <td>1</td>\n",
              "      <td>0</td>\n",
              "      <td>0</td>\n",
              "      <td>0</td>\n",
              "      <td>0</td>\n",
              "      <td>1</td>\n",
              "      <td>0</td>\n",
              "      <td>0</td>\n",
              "      <td>0</td>\n",
              "      <td>1</td>\n",
              "      <td>0</td>\n",
              "      <td>0</td>\n",
              "      <td>0</td>\n",
              "      <td>1</td>\n",
              "      <td>0</td>\n",
              "    </tr>\n",
              "    <tr>\n",
              "      <th>17</th>\n",
              "      <td>32</td>\n",
              "      <td>1</td>\n",
              "      <td>2</td>\n",
              "      <td>0</td>\n",
              "      <td>2</td>\n",
              "      <td>1</td>\n",
              "      <td>6</td>\n",
              "      <td>689000</td>\n",
              "      <td>0</td>\n",
              "      <td>1</td>\n",
              "      <td>0</td>\n",
              "      <td>0</td>\n",
              "      <td>0</td>\n",
              "      <td>1</td>\n",
              "      <td>0</td>\n",
              "      <td>0</td>\n",
              "      <td>0</td>\n",
              "      <td>1</td>\n",
              "      <td>0</td>\n",
              "      <td>0</td>\n",
              "      <td>0</td>\n",
              "      <td>1</td>\n",
              "      <td>0</td>\n",
              "    </tr>\n",
              "    <tr>\n",
              "      <th>18</th>\n",
              "      <td>37</td>\n",
              "      <td>1</td>\n",
              "      <td>2</td>\n",
              "      <td>0</td>\n",
              "      <td>3</td>\n",
              "      <td>1</td>\n",
              "      <td>2</td>\n",
              "      <td>1500000</td>\n",
              "      <td>0</td>\n",
              "      <td>1</td>\n",
              "      <td>0</td>\n",
              "      <td>0</td>\n",
              "      <td>0</td>\n",
              "      <td>1</td>\n",
              "      <td>0</td>\n",
              "      <td>0</td>\n",
              "      <td>0</td>\n",
              "      <td>0</td>\n",
              "      <td>1</td>\n",
              "      <td>0</td>\n",
              "      <td>0</td>\n",
              "      <td>1</td>\n",
              "      <td>0</td>\n",
              "    </tr>\n",
              "    <tr>\n",
              "      <th>25</th>\n",
              "      <td>59</td>\n",
              "      <td>1</td>\n",
              "      <td>2</td>\n",
              "      <td>0</td>\n",
              "      <td>3</td>\n",
              "      <td>1</td>\n",
              "      <td>2</td>\n",
              "      <td>700000</td>\n",
              "      <td>0</td>\n",
              "      <td>1</td>\n",
              "      <td>0</td>\n",
              "      <td>0</td>\n",
              "      <td>0</td>\n",
              "      <td>1</td>\n",
              "      <td>0</td>\n",
              "      <td>0</td>\n",
              "      <td>0</td>\n",
              "      <td>0</td>\n",
              "      <td>1</td>\n",
              "      <td>0</td>\n",
              "      <td>0</td>\n",
              "      <td>1</td>\n",
              "      <td>0</td>\n",
              "    </tr>\n",
              "    <tr>\n",
              "      <th>...</th>\n",
              "      <td>...</td>\n",
              "      <td>...</td>\n",
              "      <td>...</td>\n",
              "      <td>...</td>\n",
              "      <td>...</td>\n",
              "      <td>...</td>\n",
              "      <td>...</td>\n",
              "      <td>...</td>\n",
              "      <td>...</td>\n",
              "      <td>...</td>\n",
              "      <td>...</td>\n",
              "      <td>...</td>\n",
              "      <td>...</td>\n",
              "      <td>...</td>\n",
              "      <td>...</td>\n",
              "      <td>...</td>\n",
              "      <td>...</td>\n",
              "      <td>...</td>\n",
              "      <td>...</td>\n",
              "      <td>...</td>\n",
              "      <td>...</td>\n",
              "      <td>...</td>\n",
              "      <td>...</td>\n",
              "    </tr>\n",
              "    <tr>\n",
              "      <th>19264</th>\n",
              "      <td>35</td>\n",
              "      <td>1</td>\n",
              "      <td>1</td>\n",
              "      <td>0</td>\n",
              "      <td>1</td>\n",
              "      <td>1</td>\n",
              "      <td>6</td>\n",
              "      <td>1000000</td>\n",
              "      <td>1</td>\n",
              "      <td>0</td>\n",
              "      <td>0</td>\n",
              "      <td>0</td>\n",
              "      <td>0</td>\n",
              "      <td>1</td>\n",
              "      <td>0</td>\n",
              "      <td>0</td>\n",
              "      <td>1</td>\n",
              "      <td>0</td>\n",
              "      <td>0</td>\n",
              "      <td>0</td>\n",
              "      <td>0</td>\n",
              "      <td>1</td>\n",
              "      <td>0</td>\n",
              "    </tr>\n",
              "    <tr>\n",
              "      <th>19265</th>\n",
              "      <td>54</td>\n",
              "      <td>2</td>\n",
              "      <td>1</td>\n",
              "      <td>0</td>\n",
              "      <td>1</td>\n",
              "      <td>1</td>\n",
              "      <td>6</td>\n",
              "      <td>690000</td>\n",
              "      <td>1</td>\n",
              "      <td>0</td>\n",
              "      <td>0</td>\n",
              "      <td>0</td>\n",
              "      <td>0</td>\n",
              "      <td>0</td>\n",
              "      <td>1</td>\n",
              "      <td>0</td>\n",
              "      <td>1</td>\n",
              "      <td>0</td>\n",
              "      <td>0</td>\n",
              "      <td>0</td>\n",
              "      <td>0</td>\n",
              "      <td>1</td>\n",
              "      <td>0</td>\n",
              "    </tr>\n",
              "    <tr>\n",
              "      <th>19266</th>\n",
              "      <td>39</td>\n",
              "      <td>1</td>\n",
              "      <td>2</td>\n",
              "      <td>0</td>\n",
              "      <td>2</td>\n",
              "      <td>1</td>\n",
              "      <td>2</td>\n",
              "      <td>900000</td>\n",
              "      <td>0</td>\n",
              "      <td>1</td>\n",
              "      <td>0</td>\n",
              "      <td>0</td>\n",
              "      <td>0</td>\n",
              "      <td>1</td>\n",
              "      <td>0</td>\n",
              "      <td>0</td>\n",
              "      <td>0</td>\n",
              "      <td>1</td>\n",
              "      <td>0</td>\n",
              "      <td>0</td>\n",
              "      <td>0</td>\n",
              "      <td>1</td>\n",
              "      <td>0</td>\n",
              "    </tr>\n",
              "    <tr>\n",
              "      <th>19274</th>\n",
              "      <td>27</td>\n",
              "      <td>2</td>\n",
              "      <td>5</td>\n",
              "      <td>3</td>\n",
              "      <td>1</td>\n",
              "      <td>1</td>\n",
              "      <td>6</td>\n",
              "      <td>679000</td>\n",
              "      <td>0</td>\n",
              "      <td>0</td>\n",
              "      <td>0</td>\n",
              "      <td>0</td>\n",
              "      <td>1</td>\n",
              "      <td>0</td>\n",
              "      <td>1</td>\n",
              "      <td>0</td>\n",
              "      <td>1</td>\n",
              "      <td>0</td>\n",
              "      <td>0</td>\n",
              "      <td>0</td>\n",
              "      <td>0</td>\n",
              "      <td>1</td>\n",
              "      <td>0</td>\n",
              "    </tr>\n",
              "    <tr>\n",
              "      <th>19279</th>\n",
              "      <td>43</td>\n",
              "      <td>2</td>\n",
              "      <td>2</td>\n",
              "      <td>4</td>\n",
              "      <td>2</td>\n",
              "      <td>1</td>\n",
              "      <td>6</td>\n",
              "      <td>689400</td>\n",
              "      <td>0</td>\n",
              "      <td>1</td>\n",
              "      <td>0</td>\n",
              "      <td>0</td>\n",
              "      <td>0</td>\n",
              "      <td>0</td>\n",
              "      <td>1</td>\n",
              "      <td>0</td>\n",
              "      <td>0</td>\n",
              "      <td>1</td>\n",
              "      <td>0</td>\n",
              "      <td>0</td>\n",
              "      <td>0</td>\n",
              "      <td>1</td>\n",
              "      <td>0</td>\n",
              "    </tr>\n",
              "  </tbody>\n",
              "</table>\n",
              "<p>2425 rows × 23 columns</p>\n",
              "</div>"
            ],
            "text/plain": [
              "       edad  sexo  estado_civil  ...  afiliacion_0  afiliacion_1  afiliacion_2\n",
              "7        30     2             1  ...             0             1             0\n",
              "9        31     1             1  ...             0             1             0\n",
              "17       32     1             2  ...             0             1             0\n",
              "18       37     1             2  ...             0             1             0\n",
              "25       59     1             2  ...             0             1             0\n",
              "...     ...   ...           ...  ...           ...           ...           ...\n",
              "19264    35     1             1  ...             0             1             0\n",
              "19265    54     2             1  ...             0             1             0\n",
              "19266    39     1             2  ...             0             1             0\n",
              "19274    27     2             5  ...             0             1             0\n",
              "19279    43     2             2  ...             0             1             0\n",
              "\n",
              "[2425 rows x 23 columns]"
            ]
          },
          "metadata": {},
          "execution_count": 659
        }
      ]
    },
    {
      "cell_type": "code",
      "metadata": {
        "id": "h-Jf1IkBE27V"
      },
      "source": [
        "Base_total_dummies = Base_total.drop(['sexo','estado_civil','tipo_contrato','afiliacion'], axis = 1)"
      ],
      "execution_count": 660,
      "outputs": []
    },
    {
      "cell_type": "code",
      "metadata": {
        "id": "b2tL0psN61vs",
        "colab": {
          "base_uri": "https://localhost:8080/",
          "height": 439
        },
        "outputId": "3be5b084-3849-4e19-a9eb-e0f31fe832a3"
      },
      "source": [
        " Base_total_dummies"
      ],
      "execution_count": 661,
      "outputs": [
        {
          "output_type": "execute_result",
          "data": {
            "text/html": [
              "<div>\n",
              "<style scoped>\n",
              "    .dataframe tbody tr th:only-of-type {\n",
              "        vertical-align: middle;\n",
              "    }\n",
              "\n",
              "    .dataframe tbody tr th {\n",
              "        vertical-align: top;\n",
              "    }\n",
              "\n",
              "    .dataframe thead th {\n",
              "        text-align: right;\n",
              "    }\n",
              "</style>\n",
              "<table border=\"1\" class=\"dataframe\">\n",
              "  <thead>\n",
              "    <tr style=\"text-align: right;\">\n",
              "      <th></th>\n",
              "      <th>edad</th>\n",
              "      <th>Total_hijos</th>\n",
              "      <th>n_empleados</th>\n",
              "      <th>vr_salario</th>\n",
              "      <th>estado_civil_1</th>\n",
              "      <th>estado_civil_2</th>\n",
              "      <th>estado_civil_3</th>\n",
              "      <th>estado_civil_4</th>\n",
              "      <th>estado_civil_5</th>\n",
              "      <th>sexo_1</th>\n",
              "      <th>sexo_2</th>\n",
              "      <th>tipo_contrato_0</th>\n",
              "      <th>tipo_contrato_1</th>\n",
              "      <th>tipo_contrato_2</th>\n",
              "      <th>tipo_contrato_3</th>\n",
              "      <th>tipo_contrato_4</th>\n",
              "      <th>afiliacion_0</th>\n",
              "      <th>afiliacion_1</th>\n",
              "      <th>afiliacion_2</th>\n",
              "    </tr>\n",
              "  </thead>\n",
              "  <tbody>\n",
              "    <tr>\n",
              "      <th>7</th>\n",
              "      <td>30</td>\n",
              "      <td>2</td>\n",
              "      <td>6</td>\n",
              "      <td>1026000</td>\n",
              "      <td>1</td>\n",
              "      <td>0</td>\n",
              "      <td>0</td>\n",
              "      <td>0</td>\n",
              "      <td>0</td>\n",
              "      <td>0</td>\n",
              "      <td>1</td>\n",
              "      <td>0</td>\n",
              "      <td>1</td>\n",
              "      <td>0</td>\n",
              "      <td>0</td>\n",
              "      <td>0</td>\n",
              "      <td>0</td>\n",
              "      <td>1</td>\n",
              "      <td>0</td>\n",
              "    </tr>\n",
              "    <tr>\n",
              "      <th>9</th>\n",
              "      <td>31</td>\n",
              "      <td>0</td>\n",
              "      <td>6</td>\n",
              "      <td>750000</td>\n",
              "      <td>1</td>\n",
              "      <td>0</td>\n",
              "      <td>0</td>\n",
              "      <td>0</td>\n",
              "      <td>0</td>\n",
              "      <td>1</td>\n",
              "      <td>0</td>\n",
              "      <td>0</td>\n",
              "      <td>0</td>\n",
              "      <td>1</td>\n",
              "      <td>0</td>\n",
              "      <td>0</td>\n",
              "      <td>0</td>\n",
              "      <td>1</td>\n",
              "      <td>0</td>\n",
              "    </tr>\n",
              "    <tr>\n",
              "      <th>17</th>\n",
              "      <td>32</td>\n",
              "      <td>0</td>\n",
              "      <td>6</td>\n",
              "      <td>689000</td>\n",
              "      <td>0</td>\n",
              "      <td>1</td>\n",
              "      <td>0</td>\n",
              "      <td>0</td>\n",
              "      <td>0</td>\n",
              "      <td>1</td>\n",
              "      <td>0</td>\n",
              "      <td>0</td>\n",
              "      <td>0</td>\n",
              "      <td>1</td>\n",
              "      <td>0</td>\n",
              "      <td>0</td>\n",
              "      <td>0</td>\n",
              "      <td>1</td>\n",
              "      <td>0</td>\n",
              "    </tr>\n",
              "    <tr>\n",
              "      <th>18</th>\n",
              "      <td>37</td>\n",
              "      <td>0</td>\n",
              "      <td>2</td>\n",
              "      <td>1500000</td>\n",
              "      <td>0</td>\n",
              "      <td>1</td>\n",
              "      <td>0</td>\n",
              "      <td>0</td>\n",
              "      <td>0</td>\n",
              "      <td>1</td>\n",
              "      <td>0</td>\n",
              "      <td>0</td>\n",
              "      <td>0</td>\n",
              "      <td>0</td>\n",
              "      <td>1</td>\n",
              "      <td>0</td>\n",
              "      <td>0</td>\n",
              "      <td>1</td>\n",
              "      <td>0</td>\n",
              "    </tr>\n",
              "    <tr>\n",
              "      <th>25</th>\n",
              "      <td>59</td>\n",
              "      <td>0</td>\n",
              "      <td>2</td>\n",
              "      <td>700000</td>\n",
              "      <td>0</td>\n",
              "      <td>1</td>\n",
              "      <td>0</td>\n",
              "      <td>0</td>\n",
              "      <td>0</td>\n",
              "      <td>1</td>\n",
              "      <td>0</td>\n",
              "      <td>0</td>\n",
              "      <td>0</td>\n",
              "      <td>0</td>\n",
              "      <td>1</td>\n",
              "      <td>0</td>\n",
              "      <td>0</td>\n",
              "      <td>1</td>\n",
              "      <td>0</td>\n",
              "    </tr>\n",
              "    <tr>\n",
              "      <th>...</th>\n",
              "      <td>...</td>\n",
              "      <td>...</td>\n",
              "      <td>...</td>\n",
              "      <td>...</td>\n",
              "      <td>...</td>\n",
              "      <td>...</td>\n",
              "      <td>...</td>\n",
              "      <td>...</td>\n",
              "      <td>...</td>\n",
              "      <td>...</td>\n",
              "      <td>...</td>\n",
              "      <td>...</td>\n",
              "      <td>...</td>\n",
              "      <td>...</td>\n",
              "      <td>...</td>\n",
              "      <td>...</td>\n",
              "      <td>...</td>\n",
              "      <td>...</td>\n",
              "      <td>...</td>\n",
              "    </tr>\n",
              "    <tr>\n",
              "      <th>19264</th>\n",
              "      <td>35</td>\n",
              "      <td>0</td>\n",
              "      <td>6</td>\n",
              "      <td>1000000</td>\n",
              "      <td>1</td>\n",
              "      <td>0</td>\n",
              "      <td>0</td>\n",
              "      <td>0</td>\n",
              "      <td>0</td>\n",
              "      <td>1</td>\n",
              "      <td>0</td>\n",
              "      <td>0</td>\n",
              "      <td>1</td>\n",
              "      <td>0</td>\n",
              "      <td>0</td>\n",
              "      <td>0</td>\n",
              "      <td>0</td>\n",
              "      <td>1</td>\n",
              "      <td>0</td>\n",
              "    </tr>\n",
              "    <tr>\n",
              "      <th>19265</th>\n",
              "      <td>54</td>\n",
              "      <td>0</td>\n",
              "      <td>6</td>\n",
              "      <td>690000</td>\n",
              "      <td>1</td>\n",
              "      <td>0</td>\n",
              "      <td>0</td>\n",
              "      <td>0</td>\n",
              "      <td>0</td>\n",
              "      <td>0</td>\n",
              "      <td>1</td>\n",
              "      <td>0</td>\n",
              "      <td>1</td>\n",
              "      <td>0</td>\n",
              "      <td>0</td>\n",
              "      <td>0</td>\n",
              "      <td>0</td>\n",
              "      <td>1</td>\n",
              "      <td>0</td>\n",
              "    </tr>\n",
              "    <tr>\n",
              "      <th>19266</th>\n",
              "      <td>39</td>\n",
              "      <td>0</td>\n",
              "      <td>2</td>\n",
              "      <td>900000</td>\n",
              "      <td>0</td>\n",
              "      <td>1</td>\n",
              "      <td>0</td>\n",
              "      <td>0</td>\n",
              "      <td>0</td>\n",
              "      <td>1</td>\n",
              "      <td>0</td>\n",
              "      <td>0</td>\n",
              "      <td>0</td>\n",
              "      <td>1</td>\n",
              "      <td>0</td>\n",
              "      <td>0</td>\n",
              "      <td>0</td>\n",
              "      <td>1</td>\n",
              "      <td>0</td>\n",
              "    </tr>\n",
              "    <tr>\n",
              "      <th>19274</th>\n",
              "      <td>27</td>\n",
              "      <td>3</td>\n",
              "      <td>6</td>\n",
              "      <td>679000</td>\n",
              "      <td>0</td>\n",
              "      <td>0</td>\n",
              "      <td>0</td>\n",
              "      <td>0</td>\n",
              "      <td>1</td>\n",
              "      <td>0</td>\n",
              "      <td>1</td>\n",
              "      <td>0</td>\n",
              "      <td>1</td>\n",
              "      <td>0</td>\n",
              "      <td>0</td>\n",
              "      <td>0</td>\n",
              "      <td>0</td>\n",
              "      <td>1</td>\n",
              "      <td>0</td>\n",
              "    </tr>\n",
              "    <tr>\n",
              "      <th>19279</th>\n",
              "      <td>43</td>\n",
              "      <td>4</td>\n",
              "      <td>6</td>\n",
              "      <td>689400</td>\n",
              "      <td>0</td>\n",
              "      <td>1</td>\n",
              "      <td>0</td>\n",
              "      <td>0</td>\n",
              "      <td>0</td>\n",
              "      <td>0</td>\n",
              "      <td>1</td>\n",
              "      <td>0</td>\n",
              "      <td>0</td>\n",
              "      <td>1</td>\n",
              "      <td>0</td>\n",
              "      <td>0</td>\n",
              "      <td>0</td>\n",
              "      <td>1</td>\n",
              "      <td>0</td>\n",
              "    </tr>\n",
              "  </tbody>\n",
              "</table>\n",
              "<p>2425 rows × 19 columns</p>\n",
              "</div>"
            ],
            "text/plain": [
              "       edad  Total_hijos  n_empleados  ...  afiliacion_0  afiliacion_1  afiliacion_2\n",
              "7        30            2            6  ...             0             1             0\n",
              "9        31            0            6  ...             0             1             0\n",
              "17       32            0            6  ...             0             1             0\n",
              "18       37            0            2  ...             0             1             0\n",
              "25       59            0            2  ...             0             1             0\n",
              "...     ...          ...          ...  ...           ...           ...           ...\n",
              "19264    35            0            6  ...             0             1             0\n",
              "19265    54            0            6  ...             0             1             0\n",
              "19266    39            0            2  ...             0             1             0\n",
              "19274    27            3            6  ...             0             1             0\n",
              "19279    43            4            6  ...             0             1             0\n",
              "\n",
              "[2425 rows x 19 columns]"
            ]
          },
          "metadata": {},
          "execution_count": 661
        }
      ]
    },
    {
      "cell_type": "code",
      "metadata": {
        "id": "F5ApFIPSCLqz",
        "colab": {
          "base_uri": "https://localhost:8080/"
        },
        "outputId": "dac73af8-46fb-4277-8728-44c25c748e96"
      },
      "source": [
        "Base_total_dummies.isna().sum()"
      ],
      "execution_count": 662,
      "outputs": [
        {
          "output_type": "execute_result",
          "data": {
            "text/plain": [
              "edad               0\n",
              "Total_hijos        0\n",
              "n_empleados        0\n",
              "vr_salario         0\n",
              "estado_civil_1     0\n",
              "estado_civil_2     0\n",
              "estado_civil_3     0\n",
              "estado_civil_4     0\n",
              "estado_civil_5     0\n",
              "sexo_1             0\n",
              "sexo_2             0\n",
              "tipo_contrato_0    0\n",
              "tipo_contrato_1    0\n",
              "tipo_contrato_2    0\n",
              "tipo_contrato_3    0\n",
              "tipo_contrato_4    0\n",
              "afiliacion_0       0\n",
              "afiliacion_1       0\n",
              "afiliacion_2       0\n",
              "dtype: int64"
            ]
          },
          "metadata": {},
          "execution_count": 662
        }
      ]
    },
    {
      "cell_type": "code",
      "metadata": {
        "id": "ucJQ3iSuG4I2"
      },
      "source": [
        "#APLICACION LOGARITMO\n",
        "import pandas as pd\n",
        "Base_total_dummies['vr_salario'] = pd.DataFrame(np.log(Base_total_dummies['vr_salario']))"
      ],
      "execution_count": 663,
      "outputs": []
    },
    {
      "cell_type": "markdown",
      "metadata": {
        "id": "jHMSF7mtdL1n"
      },
      "source": [
        "## Punto 5"
      ]
    },
    {
      "cell_type": "code",
      "metadata": {
        "id": "EOrXv94mdRGv"
      },
      "source": [
        "from sklearn.linear_model import LinearRegression\n",
        "from sklearn.metrics import mean_squared_error, r2_score, mean_absolute_error\n",
        "from sklearn.model_selection import train_test_split"
      ],
      "execution_count": 664,
      "outputs": []
    },
    {
      "cell_type": "code",
      "metadata": {
        "id": "4Bf1PTKndpVK",
        "colab": {
          "base_uri": "https://localhost:8080/",
          "height": 224
        },
        "outputId": "a5a1d370-deab-43c3-bab8-c5174c42a516"
      },
      "source": [
        "Data = Base_total_dummies ; Data.head()"
      ],
      "execution_count": 665,
      "outputs": [
        {
          "output_type": "execute_result",
          "data": {
            "text/html": [
              "<div>\n",
              "<style scoped>\n",
              "    .dataframe tbody tr th:only-of-type {\n",
              "        vertical-align: middle;\n",
              "    }\n",
              "\n",
              "    .dataframe tbody tr th {\n",
              "        vertical-align: top;\n",
              "    }\n",
              "\n",
              "    .dataframe thead th {\n",
              "        text-align: right;\n",
              "    }\n",
              "</style>\n",
              "<table border=\"1\" class=\"dataframe\">\n",
              "  <thead>\n",
              "    <tr style=\"text-align: right;\">\n",
              "      <th></th>\n",
              "      <th>edad</th>\n",
              "      <th>Total_hijos</th>\n",
              "      <th>n_empleados</th>\n",
              "      <th>vr_salario</th>\n",
              "      <th>estado_civil_1</th>\n",
              "      <th>estado_civil_2</th>\n",
              "      <th>estado_civil_3</th>\n",
              "      <th>estado_civil_4</th>\n",
              "      <th>estado_civil_5</th>\n",
              "      <th>sexo_1</th>\n",
              "      <th>sexo_2</th>\n",
              "      <th>tipo_contrato_0</th>\n",
              "      <th>tipo_contrato_1</th>\n",
              "      <th>tipo_contrato_2</th>\n",
              "      <th>tipo_contrato_3</th>\n",
              "      <th>tipo_contrato_4</th>\n",
              "      <th>afiliacion_0</th>\n",
              "      <th>afiliacion_1</th>\n",
              "      <th>afiliacion_2</th>\n",
              "    </tr>\n",
              "  </thead>\n",
              "  <tbody>\n",
              "    <tr>\n",
              "      <th>7</th>\n",
              "      <td>30</td>\n",
              "      <td>2</td>\n",
              "      <td>6</td>\n",
              "      <td>13.841178</td>\n",
              "      <td>1</td>\n",
              "      <td>0</td>\n",
              "      <td>0</td>\n",
              "      <td>0</td>\n",
              "      <td>0</td>\n",
              "      <td>0</td>\n",
              "      <td>1</td>\n",
              "      <td>0</td>\n",
              "      <td>1</td>\n",
              "      <td>0</td>\n",
              "      <td>0</td>\n",
              "      <td>0</td>\n",
              "      <td>0</td>\n",
              "      <td>1</td>\n",
              "      <td>0</td>\n",
              "    </tr>\n",
              "    <tr>\n",
              "      <th>9</th>\n",
              "      <td>31</td>\n",
              "      <td>0</td>\n",
              "      <td>6</td>\n",
              "      <td>13.527828</td>\n",
              "      <td>1</td>\n",
              "      <td>0</td>\n",
              "      <td>0</td>\n",
              "      <td>0</td>\n",
              "      <td>0</td>\n",
              "      <td>1</td>\n",
              "      <td>0</td>\n",
              "      <td>0</td>\n",
              "      <td>0</td>\n",
              "      <td>1</td>\n",
              "      <td>0</td>\n",
              "      <td>0</td>\n",
              "      <td>0</td>\n",
              "      <td>1</td>\n",
              "      <td>0</td>\n",
              "    </tr>\n",
              "    <tr>\n",
              "      <th>17</th>\n",
              "      <td>32</td>\n",
              "      <td>0</td>\n",
              "      <td>6</td>\n",
              "      <td>13.442997</td>\n",
              "      <td>0</td>\n",
              "      <td>1</td>\n",
              "      <td>0</td>\n",
              "      <td>0</td>\n",
              "      <td>0</td>\n",
              "      <td>1</td>\n",
              "      <td>0</td>\n",
              "      <td>0</td>\n",
              "      <td>0</td>\n",
              "      <td>1</td>\n",
              "      <td>0</td>\n",
              "      <td>0</td>\n",
              "      <td>0</td>\n",
              "      <td>1</td>\n",
              "      <td>0</td>\n",
              "    </tr>\n",
              "    <tr>\n",
              "      <th>18</th>\n",
              "      <td>37</td>\n",
              "      <td>0</td>\n",
              "      <td>2</td>\n",
              "      <td>14.220976</td>\n",
              "      <td>0</td>\n",
              "      <td>1</td>\n",
              "      <td>0</td>\n",
              "      <td>0</td>\n",
              "      <td>0</td>\n",
              "      <td>1</td>\n",
              "      <td>0</td>\n",
              "      <td>0</td>\n",
              "      <td>0</td>\n",
              "      <td>0</td>\n",
              "      <td>1</td>\n",
              "      <td>0</td>\n",
              "      <td>0</td>\n",
              "      <td>1</td>\n",
              "      <td>0</td>\n",
              "    </tr>\n",
              "    <tr>\n",
              "      <th>25</th>\n",
              "      <td>59</td>\n",
              "      <td>0</td>\n",
              "      <td>2</td>\n",
              "      <td>13.458836</td>\n",
              "      <td>0</td>\n",
              "      <td>1</td>\n",
              "      <td>0</td>\n",
              "      <td>0</td>\n",
              "      <td>0</td>\n",
              "      <td>1</td>\n",
              "      <td>0</td>\n",
              "      <td>0</td>\n",
              "      <td>0</td>\n",
              "      <td>0</td>\n",
              "      <td>1</td>\n",
              "      <td>0</td>\n",
              "      <td>0</td>\n",
              "      <td>1</td>\n",
              "      <td>0</td>\n",
              "    </tr>\n",
              "  </tbody>\n",
              "</table>\n",
              "</div>"
            ],
            "text/plain": [
              "    edad  Total_hijos  n_empleados  ...  afiliacion_0  afiliacion_1  afiliacion_2\n",
              "7     30            2            6  ...             0             1             0\n",
              "9     31            0            6  ...             0             1             0\n",
              "17    32            0            6  ...             0             1             0\n",
              "18    37            0            2  ...             0             1             0\n",
              "25    59            0            2  ...             0             1             0\n",
              "\n",
              "[5 rows x 19 columns]"
            ]
          },
          "metadata": {},
          "execution_count": 665
        }
      ]
    },
    {
      "cell_type": "code",
      "metadata": {
        "id": "rKYpenbreDuk"
      },
      "source": [
        "Datos_90, Datos_10 = train_test_split(Data,test_size = .1, random_state = 105)"
      ],
      "execution_count": 666,
      "outputs": []
    },
    {
      "cell_type": "code",
      "metadata": {
        "id": "_-jRZSpceDOB",
        "colab": {
          "base_uri": "https://localhost:8080/"
        },
        "outputId": "3a20d8bf-653c-4396-e368-1cf7049f0e7d"
      },
      "source": [
        "Datos_90.shape , Datos_10.shape , Data.shape"
      ],
      "execution_count": 667,
      "outputs": [
        {
          "output_type": "execute_result",
          "data": {
            "text/plain": [
              "((2182, 19), (243, 19), (2425, 19))"
            ]
          },
          "metadata": {},
          "execution_count": 667
        }
      ]
    },
    {
      "cell_type": "markdown",
      "metadata": {
        "id": "m7hTP9Zwe8RB"
      },
      "source": [
        "## Punto 6"
      ]
    },
    {
      "cell_type": "code",
      "metadata": {
        "id": "y0Ub5_M6fx59",
        "colab": {
          "base_uri": "https://localhost:8080/"
        },
        "outputId": "988ddd71-f0a6-4247-9cc7-639b49de61aa"
      },
      "source": [
        "Datos_90.columns"
      ],
      "execution_count": 668,
      "outputs": [
        {
          "output_type": "execute_result",
          "data": {
            "text/plain": [
              "Index(['edad', 'Total_hijos', 'n_empleados', 'vr_salario', 'estado_civil_1',\n",
              "       'estado_civil_2', 'estado_civil_3', 'estado_civil_4', 'estado_civil_5',\n",
              "       'sexo_1', 'sexo_2', 'tipo_contrato_0', 'tipo_contrato_1',\n",
              "       'tipo_contrato_2', 'tipo_contrato_3', 'tipo_contrato_4', 'afiliacion_0',\n",
              "       'afiliacion_1', 'afiliacion_2'],\n",
              "      dtype='object')"
            ]
          },
          "metadata": {},
          "execution_count": 668
        }
      ]
    },
    {
      "cell_type": "code",
      "metadata": {
        "id": "wcuI6_iXfAS9",
        "colab": {
          "base_uri": "https://localhost:8080/"
        },
        "outputId": "d9b4626a-ae59-4713-ae2b-936eed4c2788"
      },
      "source": [
        "salario = Datos_90[\"vr_salario\"] ; salario.head()"
      ],
      "execution_count": 669,
      "outputs": [
        {
          "output_type": "execute_result",
          "data": {
            "text/plain": [
              "5545     13.592367\n",
              "5895     13.710150\n",
              "4594     13.710150\n",
              "9715     13.815511\n",
              "18178    12.301383\n",
              "Name: vr_salario, dtype: float64"
            ]
          },
          "metadata": {},
          "execution_count": 669
        }
      ]
    },
    {
      "cell_type": "code",
      "metadata": {
        "id": "2mx6-BMJfgLp"
      },
      "source": [
        "Explicativas = Datos_90\n",
        "del Datos_90[\"vr_salario\"]"
      ],
      "execution_count": 670,
      "outputs": []
    },
    {
      "cell_type": "code",
      "metadata": {
        "colab": {
          "base_uri": "https://localhost:8080/"
        },
        "id": "YyZbvPB0cJzT",
        "outputId": "9bb1555b-6ccd-48d2-bcdc-4c9818b9dbe3"
      },
      "source": [
        "Explicativas.columns"
      ],
      "execution_count": 671,
      "outputs": [
        {
          "output_type": "execute_result",
          "data": {
            "text/plain": [
              "Index(['edad', 'Total_hijos', 'n_empleados', 'estado_civil_1',\n",
              "       'estado_civil_2', 'estado_civil_3', 'estado_civil_4', 'estado_civil_5',\n",
              "       'sexo_1', 'sexo_2', 'tipo_contrato_0', 'tipo_contrato_1',\n",
              "       'tipo_contrato_2', 'tipo_contrato_3', 'tipo_contrato_4', 'afiliacion_0',\n",
              "       'afiliacion_1', 'afiliacion_2'],\n",
              "      dtype='object')"
            ]
          },
          "metadata": {},
          "execution_count": 671
        }
      ]
    },
    {
      "cell_type": "code",
      "metadata": {
        "id": "wFou7nI9qi4a"
      },
      "source": [
        "Explicativas = Explicativas.drop(['estado_civil_1', 'sexo_1', 'tipo_contrato_0','afiliacion_0','tipo_contrato_1','afiliacion_1'], axis = 1)"
      ],
      "execution_count": 672,
      "outputs": []
    },
    {
      "cell_type": "code",
      "metadata": {
        "id": "gzJHUAXXgOxy",
        "colab": {
          "base_uri": "https://localhost:8080/"
        },
        "outputId": "bc78c12a-1c20-4a90-df1a-9870ec91e43e"
      },
      "source": [
        "Explicativas.columns"
      ],
      "execution_count": 673,
      "outputs": [
        {
          "output_type": "execute_result",
          "data": {
            "text/plain": [
              "Index(['edad', 'Total_hijos', 'n_empleados', 'estado_civil_2',\n",
              "       'estado_civil_3', 'estado_civil_4', 'estado_civil_5', 'sexo_2',\n",
              "       'tipo_contrato_2', 'tipo_contrato_3', 'tipo_contrato_4',\n",
              "       'afiliacion_2'],\n",
              "      dtype='object')"
            ]
          },
          "metadata": {},
          "execution_count": 673
        }
      ]
    },
    {
      "cell_type": "code",
      "metadata": {
        "id": "qWeiTVL4fZ7L"
      },
      "source": [
        "X_train, X_test, y_train, y_test = train_test_split(Explicativas, salario, test_size = .25, random_state = 45)"
      ],
      "execution_count": 674,
      "outputs": []
    },
    {
      "cell_type": "code",
      "metadata": {
        "id": "Ug3oSJYshmQa",
        "colab": {
          "base_uri": "https://localhost:8080/"
        },
        "outputId": "8177ad88-ecd5-4a23-bbd1-72e0b2bdfc24"
      },
      "source": [
        "X_train.shape, X_test.shape, y_train.shape, y_test.shape"
      ],
      "execution_count": 675,
      "outputs": [
        {
          "output_type": "execute_result",
          "data": {
            "text/plain": [
              "((1636, 12), (546, 12), (1636,), (546,))"
            ]
          },
          "metadata": {},
          "execution_count": 675
        }
      ]
    },
    {
      "cell_type": "markdown",
      "metadata": {
        "id": "23OcyBjWh3jC"
      },
      "source": [
        "## Punto 7"
      ]
    },
    {
      "cell_type": "code",
      "metadata": {
        "id": "X0T14C_Dh5Jk"
      },
      "source": [
        "regresion = LinearRegression(fit_intercept=True) "
      ],
      "execution_count": 676,
      "outputs": []
    },
    {
      "cell_type": "code",
      "metadata": {
        "id": "wfjuSHvKiw9v",
        "colab": {
          "base_uri": "https://localhost:8080/"
        },
        "outputId": "d6a677a7-d2da-49ef-a2fe-aff044c5a81e"
      },
      "source": [
        "regresion.fit(X_train, y_train) "
      ],
      "execution_count": 677,
      "outputs": [
        {
          "output_type": "execute_result",
          "data": {
            "text/plain": [
              "LinearRegression(copy_X=True, fit_intercept=True, n_jobs=None, normalize=False)"
            ]
          },
          "metadata": {},
          "execution_count": 677
        }
      ]
    },
    {
      "cell_type": "code",
      "metadata": {
        "id": "KzhLroVqqp5R"
      },
      "source": [
        "y_pred_train = regresion.predict(X_train)"
      ],
      "execution_count": 678,
      "outputs": []
    },
    {
      "cell_type": "code",
      "metadata": {
        "id": "xD65FE3Vi9fx"
      },
      "source": [
        "\n",
        "y_pred_test = regresion.predict(X_test)\n"
      ],
      "execution_count": 679,
      "outputs": []
    },
    {
      "cell_type": "code",
      "metadata": {
        "id": "JFb-nS13jOwJ"
      },
      "source": [
        "def metricas(y_real, y_estimado):\n",
        "  print(f\"Error Cuadratico Medio: {mean_squared_error(y_real, y_estimado)}\")\n",
        "  print(f\"Error Absoluto Medio: {mean_absolute_error(y_real, y_estimado)}\")\n",
        "  print(f\"Raíz del error cuadrático medio: {np.sqrt(mean_squared_error(y_real, y_estimado))}\")\n"
      ],
      "execution_count": 680,
      "outputs": []
    },
    {
      "cell_type": "code",
      "metadata": {
        "id": "_pDznyqekxMd",
        "colab": {
          "base_uri": "https://localhost:8080/"
        },
        "outputId": "a173350c-5987-4b0f-99b0-f8e4080b05a3"
      },
      "source": [
        "print(\"Métricas del entrenamiento\", end = \"\\n\")\n",
        "print(\"---\"*10)\n",
        "metricas(y_train,y_pred_train)\n",
        "print(\"---\"*10)\n",
        "print(\"Métricas del Testeo\", end = \"\\n\")\n",
        "print(\"---\"*10)\n",
        "metricas(y_test,y_pred_test)"
      ],
      "execution_count": 681,
      "outputs": [
        {
          "output_type": "stream",
          "name": "stdout",
          "text": [
            "Métricas del entrenamiento\n",
            "------------------------------\n",
            "Error Cuadratico Medio: 0.5133619766576615\n",
            "Error Absoluto Medio: 0.4972137150459856\n",
            "Raíz del error cuadrático medio: 0.7164928308487541\n",
            "------------------------------\n",
            "Métricas del Testeo\n",
            "------------------------------\n",
            "Error Cuadratico Medio: 0.593475225608707\n",
            "Error Absoluto Medio: 0.4863479019152814\n",
            "Raíz del error cuadrático medio: 0.7703734325693656\n"
          ]
        }
      ]
    },
    {
      "cell_type": "markdown",
      "metadata": {
        "id": "fhjmL1lXvCOw"
      },
      "source": [
        "## Punto 8"
      ]
    },
    {
      "cell_type": "code",
      "metadata": {
        "id": "D-IOmN4LybmJ"
      },
      "source": [
        "from sklearn.linear_model import Ridge"
      ],
      "execution_count": 682,
      "outputs": []
    },
    {
      "cell_type": "code",
      "metadata": {
        "id": "W-MliprDydN1"
      },
      "source": [
        "Modelo = Ridge(alpha= 0.1)"
      ],
      "execution_count": 683,
      "outputs": []
    },
    {
      "cell_type": "code",
      "metadata": {
        "id": "scNiLDnmzZfg",
        "colab": {
          "base_uri": "https://localhost:8080/"
        },
        "outputId": "a5564592-3fe6-4a27-dfa8-1324bd08492c"
      },
      "source": [
        "Modelo.fit(X_train,y_train)"
      ],
      "execution_count": 684,
      "outputs": [
        {
          "output_type": "execute_result",
          "data": {
            "text/plain": [
              "Ridge(alpha=0.1, copy_X=True, fit_intercept=True, max_iter=None,\n",
              "      normalize=False, random_state=None, solver='auto', tol=0.001)"
            ]
          },
          "metadata": {},
          "execution_count": 684
        }
      ]
    },
    {
      "cell_type": "code",
      "metadata": {
        "id": "85JyM1J4zgGe",
        "colab": {
          "base_uri": "https://localhost:8080/"
        },
        "outputId": "670db726-cb46-4be5-abba-2720bed611ff"
      },
      "source": [
        "alpha_p = [0,0.6, 1, 5, 9, 12, 16, 20, 30,100]\n",
        "for i in alpha_p:\n",
        "  Modelo = Ridge(alpha = i)\n",
        "  Modelo.fit(X_train,y_train)\n",
        "  y_pred_train = Modelo.predict(X_train)\n",
        "  y_pred_test = Modelo.predict(X_test)\n",
        "  print(\"---\"*10)\n",
        "  print(f\"Alpha={i}\")\n",
        "  print(\"Métricas del entrenamiento\", end = \"\\n\")\n",
        "  print(\"---\"*10)\n",
        "  metricas(y_train,y_pred_train)\n",
        "  print(\"---\"*10)\n",
        "  print(\"Métricas del Testeo\", end = \"\\n\")\n",
        "  print(\"---\"*10)\n",
        "  metricas(y_test,y_pred_test)\n",
        "\n",
        "\n",
        "\n"
      ],
      "execution_count": 685,
      "outputs": [
        {
          "output_type": "stream",
          "name": "stdout",
          "text": [
            "------------------------------\n",
            "Alpha=0\n",
            "Métricas del entrenamiento\n",
            "------------------------------\n",
            "Error Cuadratico Medio: 0.5133619766576616\n",
            "Error Absoluto Medio: 0.49721371504598544\n",
            "Raíz del error cuadrático medio: 0.7164928308487543\n",
            "------------------------------\n",
            "Métricas del Testeo\n",
            "------------------------------\n",
            "Error Cuadratico Medio: 0.5934752256087067\n",
            "Error Absoluto Medio: 0.4863479019152814\n",
            "Raíz del error cuadrático medio: 0.7703734325693655\n",
            "------------------------------\n",
            "Alpha=0.6\n",
            "Métricas del entrenamiento\n",
            "------------------------------\n",
            "Error Cuadratico Medio: 0.5133628271572437\n",
            "Error Absoluto Medio: 0.4971461492344537\n",
            "Raíz del error cuadrático medio: 0.716493424364274\n",
            "------------------------------\n",
            "Métricas del Testeo\n",
            "------------------------------\n",
            "Error Cuadratico Medio: 0.5933962251742916\n",
            "Error Absoluto Medio: 0.48628276070080617\n",
            "Raíz del error cuadrático medio: 0.7703221567463132\n",
            "------------------------------\n",
            "Alpha=1\n",
            "Métricas del entrenamiento\n",
            "------------------------------\n",
            "Error Cuadratico Medio: 0.5133643087060641\n",
            "Error Absoluto Medio: 0.49710257233734745\n",
            "Raíz del error cuadrático medio: 0.7164944582521655\n",
            "------------------------------\n",
            "Métricas del Testeo\n",
            "------------------------------\n",
            "Error Cuadratico Medio: 0.5933449897157849\n",
            "Error Absoluto Medio: 0.48623956206484686\n",
            "Raíz del error cuadrático medio: 0.7702889001639481\n",
            "------------------------------\n",
            "Alpha=5\n",
            "Métricas del entrenamiento\n",
            "------------------------------\n",
            "Error Cuadratico Medio: 0.5134135953169932\n",
            "Error Absoluto Medio: 0.49673138923908344\n",
            "Raíz del error cuadrático medio: 0.7165288516989341\n",
            "------------------------------\n",
            "Métricas del Testeo\n",
            "------------------------------\n",
            "Error Cuadratico Medio: 0.5928871568833032\n",
            "Error Absoluto Medio: 0.48583254793519415\n",
            "Raíz del error cuadrático medio: 0.7699916602686702\n",
            "------------------------------\n",
            "Alpha=9\n",
            "Métricas del entrenamiento\n",
            "------------------------------\n",
            "Error Cuadratico Medio: 0.5135119075793907\n",
            "Error Absoluto Medio: 0.49643374695771025\n",
            "Raíz del error cuadrático medio: 0.7165974515579795\n",
            "------------------------------\n",
            "Métricas del Testeo\n",
            "------------------------------\n",
            "Error Cuadratico Medio: 0.592508371318502\n",
            "Error Absoluto Medio: 0.4855265276175219\n",
            "Raíz del error cuadrático medio: 0.7697456536535312\n",
            "------------------------------\n",
            "Alpha=12\n",
            "Métricas del entrenamiento\n",
            "------------------------------\n",
            "Error Cuadratico Medio: 0.5136092133838379\n",
            "Error Absoluto Medio: 0.49624405879016364\n",
            "Raíz del error cuadrático medio: 0.7166653426696716\n",
            "------------------------------\n",
            "Métricas del Testeo\n",
            "------------------------------\n",
            "Error Cuadratico Medio: 0.5922634605730194\n",
            "Error Absoluto Medio: 0.4853419864809797\n",
            "Raíz del error cuadrático medio: 0.769586551710085\n",
            "------------------------------\n",
            "Alpha=16\n",
            "Métricas del entrenamiento\n",
            "------------------------------\n",
            "Error Cuadratico Medio: 0.5137626193915701\n",
            "Error Absoluto Medio: 0.4960258045365868\n",
            "Raíz del error cuadrático medio: 0.7167723623240296\n",
            "------------------------------\n",
            "Métricas del Testeo\n",
            "------------------------------\n",
            "Error Cuadratico Medio: 0.5919776456138139\n",
            "Error Absoluto Medio: 0.4851040615959244\n",
            "Raíz del error cuadrático medio: 0.7694008354647232\n",
            "------------------------------\n",
            "Alpha=20\n",
            "Métricas del entrenamiento\n",
            "------------------------------\n",
            "Error Cuadratico Medio: 0.5139368642069284\n",
            "Error Absoluto Medio: 0.4958346492732688\n",
            "Raíz del error cuadrático medio: 0.7168939002439123\n",
            "------------------------------\n",
            "Métricas del Testeo\n",
            "------------------------------\n",
            "Error Cuadratico Medio: 0.5917291473198473\n",
            "Error Absoluto Medio: 0.48492460550786387\n",
            "Raíz del error cuadrático medio: 0.7692393303256453\n",
            "------------------------------\n",
            "Alpha=30\n",
            "Métricas del entrenamiento\n",
            "------------------------------\n",
            "Error Cuadratico Medio: 0.5144349779035918\n",
            "Error Absoluto Medio: 0.4954289450926945\n",
            "Raíz del error cuadrático medio: 0.7172412271360256\n",
            "------------------------------\n",
            "Métricas del Testeo\n",
            "------------------------------\n",
            "Error Cuadratico Medio: 0.5912282232461521\n",
            "Error Absoluto Medio: 0.48452901468750464\n",
            "Raíz del error cuadrático medio: 0.7689136643643109\n",
            "------------------------------\n",
            "Alpha=100\n",
            "Métricas del entrenamiento\n",
            "------------------------------\n",
            "Error Cuadratico Medio: 0.5187464345102915\n",
            "Error Absoluto Medio: 0.49437620102644747\n",
            "Raíz del error cuadrático medio: 0.7202405393410534\n",
            "------------------------------\n",
            "Métricas del Testeo\n",
            "------------------------------\n",
            "Error Cuadratico Medio: 0.5899325909799346\n",
            "Error Absoluto Medio: 0.48319454047916327\n",
            "Raíz del error cuadrático medio: 0.7680706939988887\n"
          ]
        }
      ]
    },
    {
      "cell_type": "markdown",
      "metadata": {
        "id": "ZtLlUKEu4Gi3"
      },
      "source": [
        "Puesto que, al implementar Ridge al modelo, con el fin de evitar overfitting, usando diferentes valores del parámetro alpha no se encontró una diferencia contundente para optar por implementar esta herramienta, tanto en las métricas de entrenamiento, como en las metricas de testeo; se decidió por implementar al 10% de los datos de reserva el modelo original con alpha = 0."
      ]
    },
    {
      "cell_type": "code",
      "metadata": {
        "colab": {
          "base_uri": "https://localhost:8080/"
        },
        "id": "SVVqyIS26SoX",
        "outputId": "d6748993-b712-4480-de61-a5b509282ddd"
      },
      "source": [
        "Datos_10.columns"
      ],
      "execution_count": 686,
      "outputs": [
        {
          "output_type": "execute_result",
          "data": {
            "text/plain": [
              "Index(['edad', 'Total_hijos', 'n_empleados', 'vr_salario', 'estado_civil_1',\n",
              "       'estado_civil_2', 'estado_civil_3', 'estado_civil_4', 'estado_civil_5',\n",
              "       'sexo_1', 'sexo_2', 'tipo_contrato_0', 'tipo_contrato_1',\n",
              "       'tipo_contrato_2', 'tipo_contrato_3', 'tipo_contrato_4', 'afiliacion_0',\n",
              "       'afiliacion_1', 'afiliacion_2'],\n",
              "      dtype='object')"
            ]
          },
          "metadata": {},
          "execution_count": 686
        }
      ]
    },
    {
      "cell_type": "code",
      "metadata": {
        "colab": {
          "base_uri": "https://localhost:8080/"
        },
        "id": "dekBXQD66ed_",
        "outputId": "d9a7d3d9-8b92-4f34-b976-50792daafeb1"
      },
      "source": [
        "salario10 = Datos_10[\"vr_salario\"] ; salario10.head()"
      ],
      "execution_count": 687,
      "outputs": [
        {
          "output_type": "execute_result",
          "data": {
            "text/plain": [
              "16422    13.815511\n",
              "3408     12.765688\n",
              "5613     14.508658\n",
              "18751    14.077875\n",
              "2022     14.731801\n",
              "Name: vr_salario, dtype: float64"
            ]
          },
          "metadata": {},
          "execution_count": 687
        }
      ]
    },
    {
      "cell_type": "code",
      "metadata": {
        "id": "bFcS8bF96mrF"
      },
      "source": [
        "Explicativas10 = Datos_10\n",
        "del Datos_10[\"vr_salario\"]"
      ],
      "execution_count": 688,
      "outputs": []
    },
    {
      "cell_type": "code",
      "metadata": {
        "id": "fduNtINg7ZEU"
      },
      "source": [
        "Explicativas10 = Explicativas10.drop(['estado_civil_1', 'sexo_1', 'tipo_contrato_0','afiliacion_0','tipo_contrato_1','afiliacion_1'], axis = 1)"
      ],
      "execution_count": 689,
      "outputs": []
    },
    {
      "cell_type": "code",
      "metadata": {
        "colab": {
          "base_uri": "https://localhost:8080/"
        },
        "id": "Myb7KP5W7kxN",
        "outputId": "8ea13f60-5793-4106-d22d-aee7832a446f"
      },
      "source": [
        "Explicativas10.columns"
      ],
      "execution_count": 690,
      "outputs": [
        {
          "output_type": "execute_result",
          "data": {
            "text/plain": [
              "Index(['edad', 'Total_hijos', 'n_empleados', 'estado_civil_2',\n",
              "       'estado_civil_3', 'estado_civil_4', 'estado_civil_5', 'sexo_2',\n",
              "       'tipo_contrato_2', 'tipo_contrato_3', 'tipo_contrato_4',\n",
              "       'afiliacion_2'],\n",
              "      dtype='object')"
            ]
          },
          "metadata": {},
          "execution_count": 690
        }
      ]
    },
    {
      "cell_type": "code",
      "metadata": {
        "colab": {
          "base_uri": "https://localhost:8080/",
          "height": 415
        },
        "id": "7dud-v-texvu",
        "outputId": "bb447d1f-fdca-4396-b357-140a09f8e473"
      },
      "source": [
        "df_coeficientes = pd.DataFrame( {'predictor': X_train.columns,\n",
        "                         'coef': regresion.coef_.flatten()})\n",
        "\n",
        "fig, ax = plt.subplots(figsize=(9, 3.8))\n",
        "ax.stem(df_coeficientes.predictor, df_coeficientes.coef, markerfmt=' ')\n",
        "plt.xticks(rotation=80, ha='right', size=11)\n",
        "ax.set_xlabel('variable')\n",
        "ax.set_ylabel('coeficientes')\n",
        "ax.set_title('Coeficientes del modelo');"
      ],
      "execution_count": 691,
      "outputs": [
        {
          "output_type": "stream",
          "name": "stderr",
          "text": [
            "/usr/local/lib/python3.7/dist-packages/ipykernel_launcher.py:5: UserWarning: In Matplotlib 3.3 individual lines on a stem plot will be added as a LineCollection instead of individual lines. This significantly improves the performance of a stem plot. To remove this warning and switch to the new behaviour, set the \"use_line_collection\" keyword argument to True.\n",
            "  \"\"\"\n"
          ]
        },
        {
          "output_type": "display_data",
          "data": {
            "image/png": "[encoded data removed]",
            "text/plain": [
              "<Figure size 648x273.6 with 1 Axes>"
            ]
          },
          "metadata": {
            "needs_background": "light"
          }
        }
      ]
    },
    {
      "cell_type": "code",
      "metadata": {
        "colab": {
          "base_uri": "https://localhost:8080/"
        },
        "id": "rukgLZR3_NIh",
        "outputId": "fe7ab320-2078-488e-ec42-6f649b69068c"
      },
      "source": [
        "regresion.intercept_.round(3)"
      ],
      "execution_count": 692,
      "outputs": [
        {
          "output_type": "execute_result",
          "data": {
            "text/plain": [
              "13.029"
            ]
          },
          "metadata": {},
          "execution_count": 692
        }
      ]
    },
    {
      "cell_type": "code",
      "metadata": {
        "colab": {
          "base_uri": "https://localhost:8080/",
          "height": 421
        },
        "id": "weAF5EATkFOe",
        "outputId": "ad56537f-8f50-4810-a016-bf6ff33038c8"
      },
      "source": [
        "df_coeficientes.round(3)"
      ],
      "execution_count": 693,
      "outputs": [
        {
          "output_type": "execute_result",
          "data": {
            "text/html": [
              "<div>\n",
              "<style scoped>\n",
              "    .dataframe tbody tr th:only-of-type {\n",
              "        vertical-align: middle;\n",
              "    }\n",
              "\n",
              "    .dataframe tbody tr th {\n",
              "        vertical-align: top;\n",
              "    }\n",
              "\n",
              "    .dataframe thead th {\n",
              "        text-align: right;\n",
              "    }\n",
              "</style>\n",
              "<table border=\"1\" class=\"dataframe\">\n",
              "  <thead>\n",
              "    <tr style=\"text-align: right;\">\n",
              "      <th></th>\n",
              "      <th>predictor</th>\n",
              "      <th>coef</th>\n",
              "    </tr>\n",
              "  </thead>\n",
              "  <tbody>\n",
              "    <tr>\n",
              "      <th>0</th>\n",
              "      <td>edad</td>\n",
              "      <td>0.003</td>\n",
              "    </tr>\n",
              "    <tr>\n",
              "      <th>1</th>\n",
              "      <td>Total_hijos</td>\n",
              "      <td>-0.039</td>\n",
              "    </tr>\n",
              "    <tr>\n",
              "      <th>2</th>\n",
              "      <td>n_empleados</td>\n",
              "      <td>0.106</td>\n",
              "    </tr>\n",
              "    <tr>\n",
              "      <th>3</th>\n",
              "      <td>estado_civil_2</td>\n",
              "      <td>0.175</td>\n",
              "    </tr>\n",
              "    <tr>\n",
              "      <th>4</th>\n",
              "      <td>estado_civil_3</td>\n",
              "      <td>0.005</td>\n",
              "    </tr>\n",
              "    <tr>\n",
              "      <th>5</th>\n",
              "      <td>estado_civil_4</td>\n",
              "      <td>-0.169</td>\n",
              "    </tr>\n",
              "    <tr>\n",
              "      <th>6</th>\n",
              "      <td>estado_civil_5</td>\n",
              "      <td>-0.150</td>\n",
              "    </tr>\n",
              "    <tr>\n",
              "      <th>7</th>\n",
              "      <td>sexo_2</td>\n",
              "      <td>-0.090</td>\n",
              "    </tr>\n",
              "    <tr>\n",
              "      <th>8</th>\n",
              "      <td>tipo_contrato_2</td>\n",
              "      <td>0.313</td>\n",
              "    </tr>\n",
              "    <tr>\n",
              "      <th>9</th>\n",
              "      <td>tipo_contrato_3</td>\n",
              "      <td>-0.216</td>\n",
              "    </tr>\n",
              "    <tr>\n",
              "      <th>10</th>\n",
              "      <td>tipo_contrato_4</td>\n",
              "      <td>-0.514</td>\n",
              "    </tr>\n",
              "    <tr>\n",
              "      <th>11</th>\n",
              "      <td>afiliacion_2</td>\n",
              "      <td>0.054</td>\n",
              "    </tr>\n",
              "  </tbody>\n",
              "</table>\n",
              "</div>"
            ],
            "text/plain": [
              "          predictor   coef\n",
              "0              edad  0.003\n",
              "1       Total_hijos -0.039\n",
              "2       n_empleados  0.106\n",
              "3    estado_civil_2  0.175\n",
              "4    estado_civil_3  0.005\n",
              "5    estado_civil_4 -0.169\n",
              "6    estado_civil_5 -0.150\n",
              "7            sexo_2 -0.090\n",
              "8   tipo_contrato_2  0.313\n",
              "9   tipo_contrato_3 -0.216\n",
              "10  tipo_contrato_4 -0.514\n",
              "11     afiliacion_2  0.054"
            ]
          },
          "metadata": {},
          "execution_count": 693
        }
      ]
    },
    {
      "cell_type": "markdown",
      "metadata": {
        "id": "Z0xz0MuIE1xh"
      },
      "source": [
        "## Punto 9\n",
        "\n",
        "> $Log(y_{salario})=13.029+0.003x_{edad}-0.039x_{totalhijos}+0.106x_{empleados}+0.175x_{estado2} -0.005x_{estado3}-0.169x_{estado4}-0.150x_{estado5}-0.090x_{sexo2}+0.313x_{contrado2}-0.216x_{contrato3}-0.514x_{contrato4}+0.054x_{afilicación}$ \n",
        "\n",
        "\n",
        "\n",
        "\n",
        "\n",
        "\n",
        "\n",
        "\n",
        "\n",
        "\n",
        "\n",
        "\n",
        "\n",
        "\n",
        "\n",
        "\n",
        "\n",
        "\n"
      ]
    },
    {
      "cell_type": "markdown",
      "metadata": {
        "id": "UfZeXYm6H5Nu"
      },
      "source": [
        "Conforme a las estimaciones obtenidas en el modelo se considera que cuando la cantidad de años o edad de un individuo aumenta en una unidad, se estima que el salario devengado por el mismo aumenta en un 0.136%, manteniendo las demás variables constantes. Así mismo, cuando el total de hijos de la persona aumenta una unidad, se espera que el salario disminuya en un 3.92%, siempre y cuando las demás variables permanezcan constantes. \n",
        "Ahora bien, si el enfoque es el numero de empleados que maneja la empresa a la cual pertenece el individuo, y si dicha cantidad de empleados aumenta en una unidad se estima que el salario aumenta en 12.25%, manteniendo las demás variables constantes.\n",
        "\n",
        "Por otra parte, específicamente el estado civil, estima que cuando la persona o empleado ese encuentra Casado, se espera que el salario aumente en 15.03% en comparación con las personas que se encuentran en Unión libre. De forma similar ocurre con los individuos que se encuentran Separados, solo que en este caso el salario disminuye en 4.697%. Para las personas que se encuentran viudas, el salario disminuye un 13.66% en comparación a las personas que mantienen una relación en unión libre. Y finalmente Las personas solteras, en comparación a las que están en estad de unión libre, su salario disminuye en 14.46%. Teniendo en cuenta dichas variaciones siempre y cuando las demás variables se mantengan constantes. \n",
        "\n",
        "Otro factor influyente es el tipo de contrato, donde los individuos que cuentan con un contrato indefinido se estima que el salario devengado aumente en 25.35% en comparación de las personas con un salario fijo. Así mismo, las personas que que trabajan bajo un contrato verbal, tiene un efecto de decrecimiento en su salario en un 33.20% en comparación al contrato fijo. En el caso de los individuos  que no tiene un contrato laboral, se estima que su salario disminuye en un 53.82% en comparación a tener un contrato fijo. Lo anterior, siempre y cuando las demás variables se mantengan constantes.\n",
        "\n",
        "Por ultimo, se aprecia que cuando una persona no se encuentra afiliada a salud, se espera que su salario aumente en 37.72%, en comparación a las estar a filiado a salud y manteniendo las demás variables constantes."
      ]
    },
    {
      "cell_type": "code",
      "metadata": {
        "colab": {
          "base_uri": "https://localhost:8080/"
        },
        "id": "2laOyRZSIwB8",
        "outputId": "c80b1a70-c167-4701-b0ed-0788519a4322"
      },
      "source": [
        "0.00136*100"
      ],
      "execution_count": 694,
      "outputs": [
        {
          "output_type": "execute_result",
          "data": {
            "text/plain": [
              "0.136"
            ]
          },
          "metadata": {},
          "execution_count": 694
        }
      ]
    },
    {
      "cell_type": "code",
      "metadata": {
        "colab": {
          "base_uri": "https://localhost:8080/"
        },
        "id": "Or0DsgSfJXCO",
        "outputId": "9c808a33-96f0-4311-8e56-ce81ad7bfe49"
      },
      "source": [
        "0.15*100"
      ],
      "execution_count": 695,
      "outputs": [
        {
          "output_type": "execute_result",
          "data": {
            "text/plain": [
              "15.0"
            ]
          },
          "metadata": {},
          "execution_count": 695
        }
      ]
    },
    {
      "cell_type": "code",
      "metadata": {
        "colab": {
          "base_uri": "https://localhost:8080/"
        },
        "id": "3wsgx4bBKCzw",
        "outputId": "30486549-7ee6-4cf1-8b93-d30cf2ac286b"
      },
      "source": [
        "0.0830*100"
      ],
      "execution_count": 696,
      "outputs": [
        {
          "output_type": "execute_result",
          "data": {
            "text/plain": [
              "8.3"
            ]
          },
          "metadata": {},
          "execution_count": 696
        }
      ]
    },
    {
      "cell_type": "markdown",
      "metadata": {
        "id": "InKu_6-laPMx"
      },
      "source": [
        "# Bonus\n",
        "## 1)\n"
      ]
    },
    {
      "cell_type": "code",
      "metadata": {
        "id": "hqNk_QRSay7l"
      },
      "source": [
        "from scipy.stats import t  \n",
        "import numpy as np"
      ],
      "execution_count": 697,
      "outputs": []
    },
    {
      "cell_type": "code",
      "metadata": {
        "id": "aXZCETZjc5F5"
      },
      "source": [
        "n, p = X_train.shape\n",
        "b = np.append(regresion.intercept_,regresion.coef_)"
      ],
      "execution_count": 698,
      "outputs": []
    },
    {
      "cell_type": "code",
      "metadata": {
        "id": "-cODSwOvc9q0",
        "colab": {
          "base_uri": "https://localhost:8080/"
        },
        "outputId": "f95a185c-1767-4b08-a3ca-18d516fb419d"
      },
      "source": [
        "alpha = .05 \n",
        "Sigma_2 = ((y_train - regresion.predict(X_train)) ** 2).sum()/(n - p - 1) \n",
        "X_train.insert(0,\"Bo\",1)\n",
        "VAR_betas = Sigma_2*np.linalg.inv(np.transpose(X_train).dot(X_train)) \n",
        "EE = VAR_betas.diagonal()\n",
        "t = -t.ppf(alpha/2,n-p-1) ; t"
      ],
      "execution_count": 699,
      "outputs": [
        {
          "output_type": "execute_result",
          "data": {
            "text/plain": [
              "1.9614267148318367"
            ]
          },
          "metadata": {},
          "execution_count": 699
        }
      ]
    },
    {
      "cell_type": "code",
      "metadata": {
        "id": "U3_mjN7QfA8a"
      },
      "source": [
        "IC = pd.DataFrame({\"LI\": b - t*np.sqrt(EE) , \"LS\": b + t*np.sqrt(EE)}) "
      ],
      "execution_count": 700,
      "outputs": []
    },
    {
      "cell_type": "code",
      "metadata": {
        "id": "pqgtmqkiedQj"
      },
      "source": [
        "Intercepto = pd.DataFrame({\"predictor\":[\"Intercepto\"]})\n",
        "Nombres = pd.DataFrame(df_coeficientes[\"predictor\"]) \n",
        "datas = [Intercepto, Nombres]\n",
        "Coeficientes = pd.concat(datas,ignore_index=True) "
      ],
      "execution_count": 701,
      "outputs": []
    },
    {
      "cell_type": "code",
      "metadata": {
        "id": "EtYPVZZEjXlH"
      },
      "source": [
        "datas = [Coeficientes,IC] \n",
        "IC = pd.concat(datas,axis=1,ignore_index=True) "
      ],
      "execution_count": 702,
      "outputs": []
    },
    {
      "cell_type": "code",
      "metadata": {
        "colab": {
          "base_uri": "https://localhost:8080/",
          "height": 452
        },
        "id": "Dp6Q3hp-OQp6",
        "outputId": "c6537593-e9dc-4ab6-da1c-131960cafebb"
      },
      "source": [
        "IC.rename(columns={0:'Parámetro', 1:'Límite inferior', 2:'Límite superior'})"
      ],
      "execution_count": 703,
      "outputs": [
        {
          "output_type": "execute_result",
          "data": {
            "text/html": [
              "<div>\n",
              "<style scoped>\n",
              "    .dataframe tbody tr th:only-of-type {\n",
              "        vertical-align: middle;\n",
              "    }\n",
              "\n",
              "    .dataframe tbody tr th {\n",
              "        vertical-align: top;\n",
              "    }\n",
              "\n",
              "    .dataframe thead th {\n",
              "        text-align: right;\n",
              "    }\n",
              "</style>\n",
              "<table border=\"1\" class=\"dataframe\">\n",
              "  <thead>\n",
              "    <tr style=\"text-align: right;\">\n",
              "      <th></th>\n",
              "      <th>Parámetro</th>\n",
              "      <th>Límite inferior</th>\n",
              "      <th>Límite superior</th>\n",
              "    </tr>\n",
              "  </thead>\n",
              "  <tbody>\n",
              "    <tr>\n",
              "      <th>0</th>\n",
              "      <td>Intercepto</td>\n",
              "      <td>12.819172</td>\n",
              "      <td>13.239417</td>\n",
              "    </tr>\n",
              "    <tr>\n",
              "      <th>1</th>\n",
              "      <td>edad</td>\n",
              "      <td>-0.001088</td>\n",
              "      <td>0.006223</td>\n",
              "    </tr>\n",
              "    <tr>\n",
              "      <th>2</th>\n",
              "      <td>Total_hijos</td>\n",
              "      <td>-0.075393</td>\n",
              "      <td>-0.002699</td>\n",
              "    </tr>\n",
              "    <tr>\n",
              "      <th>3</th>\n",
              "      <td>n_empleados</td>\n",
              "      <td>0.081686</td>\n",
              "      <td>0.130112</td>\n",
              "    </tr>\n",
              "    <tr>\n",
              "      <th>4</th>\n",
              "      <td>estado_civil_2</td>\n",
              "      <td>0.091088</td>\n",
              "      <td>0.258866</td>\n",
              "    </tr>\n",
              "    <tr>\n",
              "      <th>5</th>\n",
              "      <td>estado_civil_3</td>\n",
              "      <td>-0.105090</td>\n",
              "      <td>0.114616</td>\n",
              "    </tr>\n",
              "    <tr>\n",
              "      <th>6</th>\n",
              "      <td>estado_civil_4</td>\n",
              "      <td>-0.410787</td>\n",
              "      <td>0.073157</td>\n",
              "    </tr>\n",
              "    <tr>\n",
              "      <th>7</th>\n",
              "      <td>estado_civil_5</td>\n",
              "      <td>-0.290101</td>\n",
              "      <td>-0.009003</td>\n",
              "    </tr>\n",
              "    <tr>\n",
              "      <th>8</th>\n",
              "      <td>sexo_2</td>\n",
              "      <td>-0.183977</td>\n",
              "      <td>0.004669</td>\n",
              "    </tr>\n",
              "    <tr>\n",
              "      <th>9</th>\n",
              "      <td>tipo_contrato_2</td>\n",
              "      <td>0.220759</td>\n",
              "      <td>0.404879</td>\n",
              "    </tr>\n",
              "    <tr>\n",
              "      <th>10</th>\n",
              "      <td>tipo_contrato_3</td>\n",
              "      <td>-0.358711</td>\n",
              "      <td>-0.072654</td>\n",
              "    </tr>\n",
              "    <tr>\n",
              "      <th>11</th>\n",
              "      <td>tipo_contrato_4</td>\n",
              "      <td>-0.641597</td>\n",
              "      <td>-0.386158</td>\n",
              "    </tr>\n",
              "    <tr>\n",
              "      <th>12</th>\n",
              "      <td>afiliacion_2</td>\n",
              "      <td>-0.176077</td>\n",
              "      <td>0.284316</td>\n",
              "    </tr>\n",
              "  </tbody>\n",
              "</table>\n",
              "</div>"
            ],
            "text/plain": [
              "          Parámetro  Límite inferior  Límite superior\n",
              "0        Intercepto        12.819172        13.239417\n",
              "1              edad        -0.001088         0.006223\n",
              "2       Total_hijos        -0.075393        -0.002699\n",
              "3       n_empleados         0.081686         0.130112\n",
              "4    estado_civil_2         0.091088         0.258866\n",
              "5    estado_civil_3        -0.105090         0.114616\n",
              "6    estado_civil_4        -0.410787         0.073157\n",
              "7    estado_civil_5        -0.290101        -0.009003\n",
              "8            sexo_2        -0.183977         0.004669\n",
              "9   tipo_contrato_2         0.220759         0.404879\n",
              "10  tipo_contrato_3        -0.358711        -0.072654\n",
              "11  tipo_contrato_4        -0.641597        -0.386158\n",
              "12     afiliacion_2        -0.176077         0.284316"
            ]
          },
          "metadata": {},
          "execution_count": 703
        }
      ]
    },
    {
      "cell_type": "markdown",
      "metadata": {
        "id": "8hPjlnjbkv4m"
      },
      "source": [
        "Como se observa para los diferentes intervalos de confianza, el intercepto y los parámetros asociados las variables totales de hijos, numero de empleados, casados, soltero, contrato escrito a termino indefinido, contrato verbal y no tiene contrato resultaron significativos, es decir, son estadísticamente diferentes de cero, encontraparte, encontramos que los parametros asociaciones a las variables edad, separado o divorciado, viudo, sexo y afiliación resultaron no significativos."
      ]
    },
    {
      "cell_type": "markdown",
      "metadata": {
        "id": "onqZhWlXa0F8"
      },
      "source": [
        "## 2)"
      ]
    },
    {
      "cell_type": "code",
      "metadata": {
        "id": "2UMOKZLJa1ME",
        "colab": {
          "base_uri": "https://localhost:8080/"
        },
        "outputId": "271bc4b4-ecab-4c92-a855-1102d6afc196"
      },
      "source": [
        "y_real = salario10\n",
        "y_estimado = regresion.predict(Explicativas10) \n",
        "metricas(y_real,y_estimado)"
      ],
      "execution_count": 704,
      "outputs": [
        {
          "output_type": "stream",
          "name": "stdout",
          "text": [
            "Error Cuadratico Medio: 0.4625571502427796\n",
            "Error Absoluto Medio: 0.4821123441892571\n",
            "Raíz del error cuadrático medio: 0.6801155418329885\n"
          ]
        }
      ]
    }
  ]
}