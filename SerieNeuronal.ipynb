{
  "nbformat": 4,
  "nbformat_minor": 0,
  "metadata": {
    "colab": {
      "name": "SerieNeuronal.ipynb",
      "provenance": [],
      "authorship_tag": "ABX9TyPu/kHoAQNav5Ddm/A9ntgE",
      "include_colab_link": true
    },
    "kernelspec": {
      "name": "python3",
      "display_name": "Python 3"
    },
    "language_info": {
      "name": "python"
    }
  },
  "cells": [
    {
      "cell_type": "markdown",
      "metadata": {
        "id": "view-in-github",
        "colab_type": "text"
      },
      "source": [
        "<a href=\"https://colab.research.google.com/github/juanruiz23/Machine_Learning/blob/main/SerieNeuronal.ipynb\" target=\"_parent\"><img src=\"https://colab.research.google.com/assets/colab-badge.svg\" alt=\"Open In Colab\"/></a>"
      ]
    },
    {
      "cell_type": "code",
      "metadata": {
        "id": "2HlRqfU9K-Q1"
      },
      "source": [
        "import numpy as np\n",
        "import pandas as pd\n",
        "import matplotlib.pyplot as plt\n",
        "from datetime import datetime, timedelta\n",
        "import datetime as dt\n",
        "from keras.models import Sequential\n",
        "from keras.layers import Dense,Activation,Flatten\n",
        "from sklearn.preprocessing import MinMaxScaler"
      ],
      "execution_count": 321,
      "outputs": []
    },
    {
      "cell_type": "code",
      "metadata": {
        "colab": {
          "base_uri": "https://localhost:8080/",
          "height": 686
        },
        "id": "6TKXl9k_KM_F",
        "outputId": "f0a7d72f-85d7-4de3-f39d-5ed08f399fa8"
      },
      "source": [
        "Df =  pd.read_csv('/content/Casos_positivos_de_COVID-19_en_Colombia (2).csv', sep=','  , engine='python', parse_dates=True) ; Df \n",
        "# La base se descargo ya filtrada para Bogotá (Por cuestiones de computador)\n",
        "# Df= Df[Df['Nombre departamento'] == 'BOGOTA']"
      ],
      "execution_count": 455,
      "outputs": [
        {
          "output_type": "execute_result",
          "data": {
            "text/html": [
              "<div>\n",
              "<style scoped>\n",
              "    .dataframe tbody tr th:only-of-type {\n",
              "        vertical-align: middle;\n",
              "    }\n",
              "\n",
              "    .dataframe tbody tr th {\n",
              "        vertical-align: top;\n",
              "    }\n",
              "\n",
              "    .dataframe thead th {\n",
              "        text-align: right;\n",
              "    }\n",
              "</style>\n",
              "<table border=\"1\" class=\"dataframe\">\n",
              "  <thead>\n",
              "    <tr style=\"text-align: right;\">\n",
              "      <th></th>\n",
              "      <th>fecha reporte web</th>\n",
              "      <th>ID de caso</th>\n",
              "      <th>Fecha de notificación</th>\n",
              "      <th>Código DIVIPOLA departamento</th>\n",
              "      <th>Nombre departamento</th>\n",
              "      <th>Código DIVIPOLA municipio</th>\n",
              "      <th>Nombre municipio</th>\n",
              "      <th>Edad</th>\n",
              "      <th>Unidad de medida de edad</th>\n",
              "      <th>Sexo</th>\n",
              "      <th>Tipo de contagio</th>\n",
              "      <th>Ubicación del caso</th>\n",
              "      <th>Estado</th>\n",
              "      <th>Código ISO del país</th>\n",
              "      <th>Nombre del país</th>\n",
              "      <th>Recuperado</th>\n",
              "      <th>Fecha de inicio de síntomas</th>\n",
              "      <th>Fecha de muerte</th>\n",
              "      <th>Fecha de diagnóstico</th>\n",
              "      <th>Fecha de recuperación</th>\n",
              "      <th>Tipo de recuperación</th>\n",
              "      <th>Pertenencia étnica</th>\n",
              "      <th>Nombre del grupo étnico</th>\n",
              "    </tr>\n",
              "  </thead>\n",
              "  <tbody>\n",
              "    <tr>\n",
              "      <th>0</th>\n",
              "      <td>6/3/2020 0:00:00</td>\n",
              "      <td>1</td>\n",
              "      <td>2/3/2020 0:00:00</td>\n",
              "      <td>11</td>\n",
              "      <td>BOGOTA</td>\n",
              "      <td>11001</td>\n",
              "      <td>BOGOTA</td>\n",
              "      <td>19</td>\n",
              "      <td>1</td>\n",
              "      <td>F</td>\n",
              "      <td>Importado</td>\n",
              "      <td>Casa</td>\n",
              "      <td>Leve</td>\n",
              "      <td>380.0</td>\n",
              "      <td>ITALIA</td>\n",
              "      <td>Recuperado</td>\n",
              "      <td>27/2/2020 0:00:00</td>\n",
              "      <td>NaN</td>\n",
              "      <td>6/3/2020 0:00:00</td>\n",
              "      <td>13/3/2020 0:00:00</td>\n",
              "      <td>PCR</td>\n",
              "      <td>6.0</td>\n",
              "      <td>NaN</td>\n",
              "    </tr>\n",
              "    <tr>\n",
              "      <th>1</th>\n",
              "      <td>11/3/2020 0:00:00</td>\n",
              "      <td>8</td>\n",
              "      <td>9/3/2020 0:00:00</td>\n",
              "      <td>11</td>\n",
              "      <td>BOGOTA</td>\n",
              "      <td>11001</td>\n",
              "      <td>BOGOTA</td>\n",
              "      <td>22</td>\n",
              "      <td>1</td>\n",
              "      <td>F</td>\n",
              "      <td>Importado</td>\n",
              "      <td>Casa</td>\n",
              "      <td>Leve</td>\n",
              "      <td>724.0</td>\n",
              "      <td>ESPAÑA</td>\n",
              "      <td>Recuperado</td>\n",
              "      <td>6/3/2020 0:00:00</td>\n",
              "      <td>NaN</td>\n",
              "      <td>11/3/2020 0:00:00</td>\n",
              "      <td>21/3/2020 0:00:00</td>\n",
              "      <td>PCR</td>\n",
              "      <td>6.0</td>\n",
              "      <td>NaN</td>\n",
              "    </tr>\n",
              "    <tr>\n",
              "      <th>2</th>\n",
              "      <td>11/3/2020 0:00:00</td>\n",
              "      <td>9</td>\n",
              "      <td>8/3/2020 0:00:00</td>\n",
              "      <td>11</td>\n",
              "      <td>BOGOTA</td>\n",
              "      <td>11001</td>\n",
              "      <td>BOGOTA</td>\n",
              "      <td>28</td>\n",
              "      <td>1</td>\n",
              "      <td>F</td>\n",
              "      <td>Importado</td>\n",
              "      <td>Casa</td>\n",
              "      <td>Leve</td>\n",
              "      <td>724.0</td>\n",
              "      <td>ESPAÑA</td>\n",
              "      <td>Recuperado</td>\n",
              "      <td>7/3/2020 0:00:00</td>\n",
              "      <td>NaN</td>\n",
              "      <td>11/3/2020 0:00:00</td>\n",
              "      <td>23/3/2020 0:00:00</td>\n",
              "      <td>PCR</td>\n",
              "      <td>6.0</td>\n",
              "      <td>NaN</td>\n",
              "    </tr>\n",
              "    <tr>\n",
              "      <th>3</th>\n",
              "      <td>12/3/2020 0:00:00</td>\n",
              "      <td>10</td>\n",
              "      <td>12/3/2020 0:00:00</td>\n",
              "      <td>11</td>\n",
              "      <td>BOGOTA</td>\n",
              "      <td>11001</td>\n",
              "      <td>BOGOTA</td>\n",
              "      <td>36</td>\n",
              "      <td>1</td>\n",
              "      <td>F</td>\n",
              "      <td>Importado</td>\n",
              "      <td>Casa</td>\n",
              "      <td>Leve</td>\n",
              "      <td>724.0</td>\n",
              "      <td>ESPAÑA</td>\n",
              "      <td>Recuperado</td>\n",
              "      <td>6/3/2020 0:00:00</td>\n",
              "      <td>NaN</td>\n",
              "      <td>12/3/2020 0:00:00</td>\n",
              "      <td>21/3/2020 0:00:00</td>\n",
              "      <td>PCR</td>\n",
              "      <td>6.0</td>\n",
              "      <td>NaN</td>\n",
              "    </tr>\n",
              "    <tr>\n",
              "      <th>4</th>\n",
              "      <td>12/3/2020 0:00:00</td>\n",
              "      <td>11</td>\n",
              "      <td>11/3/2020 0:00:00</td>\n",
              "      <td>11</td>\n",
              "      <td>BOGOTA</td>\n",
              "      <td>11001</td>\n",
              "      <td>BOGOTA</td>\n",
              "      <td>42</td>\n",
              "      <td>1</td>\n",
              "      <td>F</td>\n",
              "      <td>Importado</td>\n",
              "      <td>Casa</td>\n",
              "      <td>Leve</td>\n",
              "      <td>724.0</td>\n",
              "      <td>ESPAÑA</td>\n",
              "      <td>Recuperado</td>\n",
              "      <td>6/3/2020 0:00:00</td>\n",
              "      <td>NaN</td>\n",
              "      <td>12/3/2020 0:00:00</td>\n",
              "      <td>31/3/2020 0:00:00</td>\n",
              "      <td>PCR</td>\n",
              "      <td>6.0</td>\n",
              "      <td>NaN</td>\n",
              "    </tr>\n",
              "    <tr>\n",
              "      <th>...</th>\n",
              "      <td>...</td>\n",
              "      <td>...</td>\n",
              "      <td>...</td>\n",
              "      <td>...</td>\n",
              "      <td>...</td>\n",
              "      <td>...</td>\n",
              "      <td>...</td>\n",
              "      <td>...</td>\n",
              "      <td>...</td>\n",
              "      <td>...</td>\n",
              "      <td>...</td>\n",
              "      <td>...</td>\n",
              "      <td>...</td>\n",
              "      <td>...</td>\n",
              "      <td>...</td>\n",
              "      <td>...</td>\n",
              "      <td>...</td>\n",
              "      <td>...</td>\n",
              "      <td>...</td>\n",
              "      <td>...</td>\n",
              "      <td>...</td>\n",
              "      <td>...</td>\n",
              "      <td>...</td>\n",
              "    </tr>\n",
              "    <tr>\n",
              "      <th>1461081</th>\n",
              "      <td>24/11/2021 0:00:00</td>\n",
              "      <td>5055249</td>\n",
              "      <td>22/11/2021 0:00:00</td>\n",
              "      <td>11</td>\n",
              "      <td>BOGOTA</td>\n",
              "      <td>11001</td>\n",
              "      <td>BOGOTA</td>\n",
              "      <td>60</td>\n",
              "      <td>1</td>\n",
              "      <td>F</td>\n",
              "      <td>En estudio</td>\n",
              "      <td>Casa</td>\n",
              "      <td>Leve</td>\n",
              "      <td>NaN</td>\n",
              "      <td>NaN</td>\n",
              "      <td>Activo</td>\n",
              "      <td>NaN</td>\n",
              "      <td>NaN</td>\n",
              "      <td>22/11/2021 0:00:00</td>\n",
              "      <td>NaN</td>\n",
              "      <td>NaN</td>\n",
              "      <td>NaN</td>\n",
              "      <td>NaN</td>\n",
              "    </tr>\n",
              "    <tr>\n",
              "      <th>1461082</th>\n",
              "      <td>24/11/2021 0:00:00</td>\n",
              "      <td>5055275</td>\n",
              "      <td>21/11/2021 0:00:00</td>\n",
              "      <td>11</td>\n",
              "      <td>BOGOTA</td>\n",
              "      <td>11001</td>\n",
              "      <td>BOGOTA</td>\n",
              "      <td>31</td>\n",
              "      <td>1</td>\n",
              "      <td>F</td>\n",
              "      <td>En estudio</td>\n",
              "      <td>Casa</td>\n",
              "      <td>Leve</td>\n",
              "      <td>NaN</td>\n",
              "      <td>NaN</td>\n",
              "      <td>Activo</td>\n",
              "      <td>NaN</td>\n",
              "      <td>NaN</td>\n",
              "      <td>22/11/2021 0:00:00</td>\n",
              "      <td>NaN</td>\n",
              "      <td>NaN</td>\n",
              "      <td>NaN</td>\n",
              "      <td>NaN</td>\n",
              "    </tr>\n",
              "    <tr>\n",
              "      <th>1461083</th>\n",
              "      <td>24/11/2021 0:00:00</td>\n",
              "      <td>5055276</td>\n",
              "      <td>22/11/2021 0:00:00</td>\n",
              "      <td>11</td>\n",
              "      <td>BOGOTA</td>\n",
              "      <td>11001</td>\n",
              "      <td>BOGOTA</td>\n",
              "      <td>28</td>\n",
              "      <td>1</td>\n",
              "      <td>F</td>\n",
              "      <td>En estudio</td>\n",
              "      <td>Casa</td>\n",
              "      <td>Leve</td>\n",
              "      <td>NaN</td>\n",
              "      <td>NaN</td>\n",
              "      <td>Activo</td>\n",
              "      <td>NaN</td>\n",
              "      <td>NaN</td>\n",
              "      <td>22/11/2021 0:00:00</td>\n",
              "      <td>NaN</td>\n",
              "      <td>NaN</td>\n",
              "      <td>NaN</td>\n",
              "      <td>NaN</td>\n",
              "    </tr>\n",
              "    <tr>\n",
              "      <th>1461084</th>\n",
              "      <td>24/11/2021 0:00:00</td>\n",
              "      <td>5055277</td>\n",
              "      <td>22/11/2021 0:00:00</td>\n",
              "      <td>11</td>\n",
              "      <td>BOGOTA</td>\n",
              "      <td>11001</td>\n",
              "      <td>BOGOTA</td>\n",
              "      <td>32</td>\n",
              "      <td>1</td>\n",
              "      <td>F</td>\n",
              "      <td>En estudio</td>\n",
              "      <td>Casa</td>\n",
              "      <td>Leve</td>\n",
              "      <td>NaN</td>\n",
              "      <td>NaN</td>\n",
              "      <td>Activo</td>\n",
              "      <td>NaN</td>\n",
              "      <td>NaN</td>\n",
              "      <td>23/11/2021 0:00:00</td>\n",
              "      <td>NaN</td>\n",
              "      <td>NaN</td>\n",
              "      <td>NaN</td>\n",
              "      <td>NaN</td>\n",
              "    </tr>\n",
              "    <tr>\n",
              "      <th>1461085</th>\n",
              "      <td>24/11/2021 0:00:00</td>\n",
              "      <td>5055280</td>\n",
              "      <td>19/11/2021 0:00:00</td>\n",
              "      <td>11</td>\n",
              "      <td>BOGOTA</td>\n",
              "      <td>11001</td>\n",
              "      <td>BOGOTA</td>\n",
              "      <td>54</td>\n",
              "      <td>1</td>\n",
              "      <td>M</td>\n",
              "      <td>En estudio</td>\n",
              "      <td>Hospital</td>\n",
              "      <td>Moderado</td>\n",
              "      <td>NaN</td>\n",
              "      <td>NaN</td>\n",
              "      <td>Activo</td>\n",
              "      <td>18/11/2021 0:00:00</td>\n",
              "      <td>NaN</td>\n",
              "      <td>22/11/2021 0:00:00</td>\n",
              "      <td>NaN</td>\n",
              "      <td>NaN</td>\n",
              "      <td>NaN</td>\n",
              "      <td>NaN</td>\n",
              "    </tr>\n",
              "  </tbody>\n",
              "</table>\n",
              "<p>1461086 rows × 23 columns</p>\n",
              "</div>"
            ],
            "text/plain": [
              "          fecha reporte web  ...  Nombre del grupo étnico\n",
              "0          6/3/2020 0:00:00  ...                      NaN\n",
              "1         11/3/2020 0:00:00  ...                      NaN\n",
              "2         11/3/2020 0:00:00  ...                      NaN\n",
              "3         12/3/2020 0:00:00  ...                      NaN\n",
              "4         12/3/2020 0:00:00  ...                      NaN\n",
              "...                     ...  ...                      ...\n",
              "1461081  24/11/2021 0:00:00  ...                      NaN\n",
              "1461082  24/11/2021 0:00:00  ...                      NaN\n",
              "1461083  24/11/2021 0:00:00  ...                      NaN\n",
              "1461084  24/11/2021 0:00:00  ...                      NaN\n",
              "1461085  24/11/2021 0:00:00  ...                      NaN\n",
              "\n",
              "[1461086 rows x 23 columns]"
            ]
          },
          "metadata": {},
          "execution_count": 455
        }
      ]
    },
    {
      "cell_type": "code",
      "metadata": {
        "colab": {
          "base_uri": "https://localhost:8080/"
        },
        "id": "3cCiQeJYf1gu",
        "outputId": "9534195b-2809-4b39-d9a2-5910a320dae8"
      },
      "source": [
        "Df.info()"
      ],
      "execution_count": 456,
      "outputs": [
        {
          "output_type": "stream",
          "name": "stdout",
          "text": [
            "<class 'pandas.core.frame.DataFrame'>\n",
            "RangeIndex: 1461086 entries, 0 to 1461085\n",
            "Data columns (total 23 columns):\n",
            " #   Column                        Non-Null Count    Dtype  \n",
            "---  ------                        --------------    -----  \n",
            " 0   fecha reporte web             1461086 non-null  object \n",
            " 1   ID de caso                    1461086 non-null  int64  \n",
            " 2   Fecha de notificación         1461086 non-null  object \n",
            " 3   Código DIVIPOLA departamento  1461086 non-null  int64  \n",
            " 4   Nombre departamento           1461086 non-null  object \n",
            " 5   Código DIVIPOLA municipio     1461086 non-null  int64  \n",
            " 6   Nombre municipio              1461086 non-null  object \n",
            " 7   Edad                          1461086 non-null  int64  \n",
            " 8   Unidad de medida de edad      1461086 non-null  int64  \n",
            " 9   Sexo                          1461086 non-null  object \n",
            " 10  Tipo de contagio              1461086 non-null  object \n",
            " 11  Ubicación del caso            1456279 non-null  object \n",
            " 12  Estado                        1456279 non-null  object \n",
            " 13  Código ISO del país           939 non-null      float64\n",
            " 14  Nombre del país               939 non-null      object \n",
            " 15  Recuperado                    1457320 non-null  object \n",
            " 16  Fecha de inicio de síntomas   994015 non-null   object \n",
            " 17  Fecha de muerte               32527 non-null    object \n",
            " 18  Fecha de diagnóstico          1460862 non-null  object \n",
            " 19  Fecha de recuperación         1426800 non-null  object \n",
            " 20  Tipo de recuperación          1426800 non-null  object \n",
            " 21  Pertenencia étnica            1459298 non-null  float64\n",
            " 22  Nombre del grupo étnico       10348 non-null    object \n",
            "dtypes: float64(2), int64(5), object(16)\n",
            "memory usage: 256.4+ MB\n"
          ]
        }
      ]
    },
    {
      "cell_type": "code",
      "metadata": {
        "colab": {
          "base_uri": "https://localhost:8080/"
        },
        "id": "6Ac9FmgXhy4F",
        "outputId": "83d0945c-c678-47ed-b675-bbcac8123126"
      },
      "source": [
        "Df.columns"
      ],
      "execution_count": 5,
      "outputs": [
        {
          "output_type": "execute_result",
          "data": {
            "text/plain": [
              "Index(['fecha reporte web', 'ID de caso', 'Fecha de notificación',\n",
              "       'Código DIVIPOLA departamento', 'Nombre departamento',\n",
              "       'Código DIVIPOLA municipio', 'Nombre municipio', 'Edad',\n",
              "       'Unidad de medida de edad', 'Sexo', 'Tipo de contagio',\n",
              "       'Ubicación del caso', 'Estado', 'Código ISO del país',\n",
              "       'Nombre del país', 'Recuperado', 'Fecha de inicio de síntomas',\n",
              "       'Fecha de muerte', 'Fecha de diagnóstico', 'Fecha de recuperación',\n",
              "       'Tipo de recuperación', 'Pertenencia étnica',\n",
              "       'Nombre del grupo étnico'],\n",
              "      dtype='object')"
            ]
          },
          "metadata": {},
          "execution_count": 5
        }
      ]
    },
    {
      "cell_type": "code",
      "metadata": {
        "colab": {
          "base_uri": "https://localhost:8080/",
          "height": 423
        },
        "id": "8zRnKYKpkQfA",
        "outputId": "2b1a5e3f-5114-4d90-a68a-e0804b141fd6"
      },
      "source": [
        "BaseDf = Df.filter(['Fecha de notificación','ID de caso','Edad','Sexo', 'Tipo de contagio',\n",
        "       'Ubicación del caso', 'Estado', 'Recuperado'], axis = 1);BaseDf"
      ],
      "execution_count": 552,
      "outputs": [
        {
          "output_type": "execute_result",
          "data": {
            "text/html": [
              "<div>\n",
              "<style scoped>\n",
              "    .dataframe tbody tr th:only-of-type {\n",
              "        vertical-align: middle;\n",
              "    }\n",
              "\n",
              "    .dataframe tbody tr th {\n",
              "        vertical-align: top;\n",
              "    }\n",
              "\n",
              "    .dataframe thead th {\n",
              "        text-align: right;\n",
              "    }\n",
              "</style>\n",
              "<table border=\"1\" class=\"dataframe\">\n",
              "  <thead>\n",
              "    <tr style=\"text-align: right;\">\n",
              "      <th></th>\n",
              "      <th>Fecha de notificación</th>\n",
              "      <th>ID de caso</th>\n",
              "      <th>Edad</th>\n",
              "      <th>Sexo</th>\n",
              "      <th>Tipo de contagio</th>\n",
              "      <th>Ubicación del caso</th>\n",
              "      <th>Estado</th>\n",
              "      <th>Recuperado</th>\n",
              "    </tr>\n",
              "  </thead>\n",
              "  <tbody>\n",
              "    <tr>\n",
              "      <th>0</th>\n",
              "      <td>2/3/2020 0:00:00</td>\n",
              "      <td>1</td>\n",
              "      <td>19</td>\n",
              "      <td>F</td>\n",
              "      <td>Importado</td>\n",
              "      <td>Casa</td>\n",
              "      <td>Leve</td>\n",
              "      <td>Recuperado</td>\n",
              "    </tr>\n",
              "    <tr>\n",
              "      <th>1</th>\n",
              "      <td>9/3/2020 0:00:00</td>\n",
              "      <td>8</td>\n",
              "      <td>22</td>\n",
              "      <td>F</td>\n",
              "      <td>Importado</td>\n",
              "      <td>Casa</td>\n",
              "      <td>Leve</td>\n",
              "      <td>Recuperado</td>\n",
              "    </tr>\n",
              "    <tr>\n",
              "      <th>2</th>\n",
              "      <td>8/3/2020 0:00:00</td>\n",
              "      <td>9</td>\n",
              "      <td>28</td>\n",
              "      <td>F</td>\n",
              "      <td>Importado</td>\n",
              "      <td>Casa</td>\n",
              "      <td>Leve</td>\n",
              "      <td>Recuperado</td>\n",
              "    </tr>\n",
              "    <tr>\n",
              "      <th>3</th>\n",
              "      <td>12/3/2020 0:00:00</td>\n",
              "      <td>10</td>\n",
              "      <td>36</td>\n",
              "      <td>F</td>\n",
              "      <td>Importado</td>\n",
              "      <td>Casa</td>\n",
              "      <td>Leve</td>\n",
              "      <td>Recuperado</td>\n",
              "    </tr>\n",
              "    <tr>\n",
              "      <th>4</th>\n",
              "      <td>11/3/2020 0:00:00</td>\n",
              "      <td>11</td>\n",
              "      <td>42</td>\n",
              "      <td>F</td>\n",
              "      <td>Importado</td>\n",
              "      <td>Casa</td>\n",
              "      <td>Leve</td>\n",
              "      <td>Recuperado</td>\n",
              "    </tr>\n",
              "    <tr>\n",
              "      <th>...</th>\n",
              "      <td>...</td>\n",
              "      <td>...</td>\n",
              "      <td>...</td>\n",
              "      <td>...</td>\n",
              "      <td>...</td>\n",
              "      <td>...</td>\n",
              "      <td>...</td>\n",
              "      <td>...</td>\n",
              "    </tr>\n",
              "    <tr>\n",
              "      <th>1461081</th>\n",
              "      <td>22/11/2021 0:00:00</td>\n",
              "      <td>5055249</td>\n",
              "      <td>60</td>\n",
              "      <td>F</td>\n",
              "      <td>En estudio</td>\n",
              "      <td>Casa</td>\n",
              "      <td>Leve</td>\n",
              "      <td>Activo</td>\n",
              "    </tr>\n",
              "    <tr>\n",
              "      <th>1461082</th>\n",
              "      <td>21/11/2021 0:00:00</td>\n",
              "      <td>5055275</td>\n",
              "      <td>31</td>\n",
              "      <td>F</td>\n",
              "      <td>En estudio</td>\n",
              "      <td>Casa</td>\n",
              "      <td>Leve</td>\n",
              "      <td>Activo</td>\n",
              "    </tr>\n",
              "    <tr>\n",
              "      <th>1461083</th>\n",
              "      <td>22/11/2021 0:00:00</td>\n",
              "      <td>5055276</td>\n",
              "      <td>28</td>\n",
              "      <td>F</td>\n",
              "      <td>En estudio</td>\n",
              "      <td>Casa</td>\n",
              "      <td>Leve</td>\n",
              "      <td>Activo</td>\n",
              "    </tr>\n",
              "    <tr>\n",
              "      <th>1461084</th>\n",
              "      <td>22/11/2021 0:00:00</td>\n",
              "      <td>5055277</td>\n",
              "      <td>32</td>\n",
              "      <td>F</td>\n",
              "      <td>En estudio</td>\n",
              "      <td>Casa</td>\n",
              "      <td>Leve</td>\n",
              "      <td>Activo</td>\n",
              "    </tr>\n",
              "    <tr>\n",
              "      <th>1461085</th>\n",
              "      <td>19/11/2021 0:00:00</td>\n",
              "      <td>5055280</td>\n",
              "      <td>54</td>\n",
              "      <td>M</td>\n",
              "      <td>En estudio</td>\n",
              "      <td>Hospital</td>\n",
              "      <td>Moderado</td>\n",
              "      <td>Activo</td>\n",
              "    </tr>\n",
              "  </tbody>\n",
              "</table>\n",
              "<p>1461086 rows × 8 columns</p>\n",
              "</div>"
            ],
            "text/plain": [
              "        Fecha de notificación  ID de caso  ...    Estado  Recuperado\n",
              "0            2/3/2020 0:00:00           1  ...      Leve  Recuperado\n",
              "1            9/3/2020 0:00:00           8  ...      Leve  Recuperado\n",
              "2            8/3/2020 0:00:00           9  ...      Leve  Recuperado\n",
              "3           12/3/2020 0:00:00          10  ...      Leve  Recuperado\n",
              "4           11/3/2020 0:00:00          11  ...      Leve  Recuperado\n",
              "...                       ...         ...  ...       ...         ...\n",
              "1461081    22/11/2021 0:00:00     5055249  ...      Leve      Activo\n",
              "1461082    21/11/2021 0:00:00     5055275  ...      Leve      Activo\n",
              "1461083    22/11/2021 0:00:00     5055276  ...      Leve      Activo\n",
              "1461084    22/11/2021 0:00:00     5055277  ...      Leve      Activo\n",
              "1461085    19/11/2021 0:00:00     5055280  ...  Moderado      Activo\n",
              "\n",
              "[1461086 rows x 8 columns]"
            ]
          },
          "metadata": {},
          "execution_count": 552
        }
      ]
    },
    {
      "cell_type": "code",
      "metadata": {
        "colab": {
          "base_uri": "https://localhost:8080/"
        },
        "id": "poSpb1rGlIL4",
        "outputId": "cca3d706-c86b-414e-d307-0a2dfffa14bd"
      },
      "source": [
        "BaseDf.info()\n"
      ],
      "execution_count": 553,
      "outputs": [
        {
          "output_type": "stream",
          "name": "stdout",
          "text": [
            "<class 'pandas.core.frame.DataFrame'>\n",
            "RangeIndex: 1461086 entries, 0 to 1461085\n",
            "Data columns (total 8 columns):\n",
            " #   Column                 Non-Null Count    Dtype \n",
            "---  ------                 --------------    ----- \n",
            " 0   Fecha de notificación  1461086 non-null  object\n",
            " 1   ID de caso             1461086 non-null  int64 \n",
            " 2   Edad                   1461086 non-null  int64 \n",
            " 3   Sexo                   1461086 non-null  object\n",
            " 4   Tipo de contagio       1461086 non-null  object\n",
            " 5   Ubicación del caso     1456279 non-null  object\n",
            " 6   Estado                 1456279 non-null  object\n",
            " 7   Recuperado             1457320 non-null  object\n",
            "dtypes: int64(2), object(6)\n",
            "memory usage: 89.2+ MB\n"
          ]
        }
      ]
    },
    {
      "cell_type": "code",
      "metadata": {
        "colab": {
          "base_uri": "https://localhost:8080/"
        },
        "id": "eY_TUpFcHhhF",
        "outputId": "2b97d1a6-b59b-46ad-b4f9-53a338aa000c"
      },
      "source": [
        "BaseDf.isna().sum()"
      ],
      "execution_count": 554,
      "outputs": [
        {
          "output_type": "execute_result",
          "data": {
            "text/plain": [
              "Fecha de notificación       0\n",
              "ID de caso                  0\n",
              "Edad                        0\n",
              "Sexo                        0\n",
              "Tipo de contagio            0\n",
              "Ubicación del caso       4807\n",
              "Estado                   4807\n",
              "Recuperado               3766\n",
              "dtype: int64"
            ]
          },
          "metadata": {},
          "execution_count": 554
        }
      ]
    },
    {
      "cell_type": "code",
      "metadata": {
        "id": "x4nnT8eSiZQ7"
      },
      "source": [
        "BaseDf['Fecha de notificación'] = BaseDf['Fecha de notificación'].str[:-7]"
      ],
      "execution_count": 555,
      "outputs": []
    },
    {
      "cell_type": "code",
      "metadata": {
        "colab": {
          "base_uri": "https://localhost:8080/",
          "height": 423
        },
        "id": "utKyxJu4iyhh",
        "outputId": "1f9141c8-4a03-4fdd-e88b-dd6d93b7e99c"
      },
      "source": [
        "BaseDf\n"
      ],
      "execution_count": 556,
      "outputs": [
        {
          "output_type": "execute_result",
          "data": {
            "text/html": [
              "<div>\n",
              "<style scoped>\n",
              "    .dataframe tbody tr th:only-of-type {\n",
              "        vertical-align: middle;\n",
              "    }\n",
              "\n",
              "    .dataframe tbody tr th {\n",
              "        vertical-align: top;\n",
              "    }\n",
              "\n",
              "    .dataframe thead th {\n",
              "        text-align: right;\n",
              "    }\n",
              "</style>\n",
              "<table border=\"1\" class=\"dataframe\">\n",
              "  <thead>\n",
              "    <tr style=\"text-align: right;\">\n",
              "      <th></th>\n",
              "      <th>Fecha de notificación</th>\n",
              "      <th>ID de caso</th>\n",
              "      <th>Edad</th>\n",
              "      <th>Sexo</th>\n",
              "      <th>Tipo de contagio</th>\n",
              "      <th>Ubicación del caso</th>\n",
              "      <th>Estado</th>\n",
              "      <th>Recuperado</th>\n",
              "    </tr>\n",
              "  </thead>\n",
              "  <tbody>\n",
              "    <tr>\n",
              "      <th>0</th>\n",
              "      <td>2/3/2020</td>\n",
              "      <td>1</td>\n",
              "      <td>19</td>\n",
              "      <td>F</td>\n",
              "      <td>Importado</td>\n",
              "      <td>Casa</td>\n",
              "      <td>Leve</td>\n",
              "      <td>Recuperado</td>\n",
              "    </tr>\n",
              "    <tr>\n",
              "      <th>1</th>\n",
              "      <td>9/3/2020</td>\n",
              "      <td>8</td>\n",
              "      <td>22</td>\n",
              "      <td>F</td>\n",
              "      <td>Importado</td>\n",
              "      <td>Casa</td>\n",
              "      <td>Leve</td>\n",
              "      <td>Recuperado</td>\n",
              "    </tr>\n",
              "    <tr>\n",
              "      <th>2</th>\n",
              "      <td>8/3/2020</td>\n",
              "      <td>9</td>\n",
              "      <td>28</td>\n",
              "      <td>F</td>\n",
              "      <td>Importado</td>\n",
              "      <td>Casa</td>\n",
              "      <td>Leve</td>\n",
              "      <td>Recuperado</td>\n",
              "    </tr>\n",
              "    <tr>\n",
              "      <th>3</th>\n",
              "      <td>12/3/2020</td>\n",
              "      <td>10</td>\n",
              "      <td>36</td>\n",
              "      <td>F</td>\n",
              "      <td>Importado</td>\n",
              "      <td>Casa</td>\n",
              "      <td>Leve</td>\n",
              "      <td>Recuperado</td>\n",
              "    </tr>\n",
              "    <tr>\n",
              "      <th>4</th>\n",
              "      <td>11/3/2020</td>\n",
              "      <td>11</td>\n",
              "      <td>42</td>\n",
              "      <td>F</td>\n",
              "      <td>Importado</td>\n",
              "      <td>Casa</td>\n",
              "      <td>Leve</td>\n",
              "      <td>Recuperado</td>\n",
              "    </tr>\n",
              "    <tr>\n",
              "      <th>...</th>\n",
              "      <td>...</td>\n",
              "      <td>...</td>\n",
              "      <td>...</td>\n",
              "      <td>...</td>\n",
              "      <td>...</td>\n",
              "      <td>...</td>\n",
              "      <td>...</td>\n",
              "      <td>...</td>\n",
              "    </tr>\n",
              "    <tr>\n",
              "      <th>1461081</th>\n",
              "      <td>22/11/2021</td>\n",
              "      <td>5055249</td>\n",
              "      <td>60</td>\n",
              "      <td>F</td>\n",
              "      <td>En estudio</td>\n",
              "      <td>Casa</td>\n",
              "      <td>Leve</td>\n",
              "      <td>Activo</td>\n",
              "    </tr>\n",
              "    <tr>\n",
              "      <th>1461082</th>\n",
              "      <td>21/11/2021</td>\n",
              "      <td>5055275</td>\n",
              "      <td>31</td>\n",
              "      <td>F</td>\n",
              "      <td>En estudio</td>\n",
              "      <td>Casa</td>\n",
              "      <td>Leve</td>\n",
              "      <td>Activo</td>\n",
              "    </tr>\n",
              "    <tr>\n",
              "      <th>1461083</th>\n",
              "      <td>22/11/2021</td>\n",
              "      <td>5055276</td>\n",
              "      <td>28</td>\n",
              "      <td>F</td>\n",
              "      <td>En estudio</td>\n",
              "      <td>Casa</td>\n",
              "      <td>Leve</td>\n",
              "      <td>Activo</td>\n",
              "    </tr>\n",
              "    <tr>\n",
              "      <th>1461084</th>\n",
              "      <td>22/11/2021</td>\n",
              "      <td>5055277</td>\n",
              "      <td>32</td>\n",
              "      <td>F</td>\n",
              "      <td>En estudio</td>\n",
              "      <td>Casa</td>\n",
              "      <td>Leve</td>\n",
              "      <td>Activo</td>\n",
              "    </tr>\n",
              "    <tr>\n",
              "      <th>1461085</th>\n",
              "      <td>19/11/2021</td>\n",
              "      <td>5055280</td>\n",
              "      <td>54</td>\n",
              "      <td>M</td>\n",
              "      <td>En estudio</td>\n",
              "      <td>Hospital</td>\n",
              "      <td>Moderado</td>\n",
              "      <td>Activo</td>\n",
              "    </tr>\n",
              "  </tbody>\n",
              "</table>\n",
              "<p>1461086 rows × 8 columns</p>\n",
              "</div>"
            ],
            "text/plain": [
              "        Fecha de notificación  ID de caso  ...    Estado  Recuperado\n",
              "0                   2/3/2020            1  ...      Leve  Recuperado\n",
              "1                   9/3/2020            8  ...      Leve  Recuperado\n",
              "2                   8/3/2020            9  ...      Leve  Recuperado\n",
              "3                  12/3/2020           10  ...      Leve  Recuperado\n",
              "4                  11/3/2020           11  ...      Leve  Recuperado\n",
              "...                       ...         ...  ...       ...         ...\n",
              "1461081           22/11/2021      5055249  ...      Leve      Activo\n",
              "1461082           21/11/2021      5055275  ...      Leve      Activo\n",
              "1461083           22/11/2021      5055276  ...      Leve      Activo\n",
              "1461084           22/11/2021      5055277  ...      Leve      Activo\n",
              "1461085           19/11/2021      5055280  ...  Moderado      Activo\n",
              "\n",
              "[1461086 rows x 8 columns]"
            ]
          },
          "metadata": {},
          "execution_count": 556
        }
      ]
    },
    {
      "cell_type": "code",
      "metadata": {
        "id": "hMnNqvCDFBAB"
      },
      "source": [
        "Sexo_Fecha = BaseDf.filter(['Fecha de notificación','Sexo']); Sexo_Fecha\n",
        "Sexo_Fecha['Sexo']= Sexo_Fecha['Sexo'].replace(['m','f'],['M','F']); Sexo_Fecha\n",
        "SerieFechaSexo = pd.concat([Sexo_Fecha,pd.get_dummies(Sexo_Fecha['Sexo'])], axis = 1)\n",
        "SerieM = SerieFechaSexo\n",
        "SerieH = SerieFechaSexo\n",
        "SerieM = SerieM.drop(['Sexo','M'],axis = 1)\n",
        "SerieH = SerieH.drop(['Sexo','F'],axis = 1)\n",
        "SerieM = SerieM.groupby(['Fecha de notificación']).count()\n",
        "SerieH = SerieH.groupby(['Fecha de notificación']).count()"
      ],
      "execution_count": 654,
      "outputs": []
    },
    {
      "cell_type": "code",
      "metadata": {
        "colab": {
          "base_uri": "https://localhost:8080/"
        },
        "id": "136Nb35EM7i5",
        "outputId": "ec998801-4222-4059-a58a-d30b993a18cb"
      },
      "source": [
        "Sexo_Fecha['Sexo']\n",
        "BaseDf['Sexo'].value_counts()"
      ],
      "execution_count": 638,
      "outputs": [
        {
          "output_type": "execute_result",
          "data": {
            "text/plain": [
              "F    781003\n",
              "M    680072\n",
              "m         6\n",
              "f         5\n",
              "Name: Sexo, dtype: int64"
            ]
          },
          "metadata": {},
          "execution_count": 638
        }
      ]
    },
    {
      "cell_type": "code",
      "metadata": {
        "id": "WIjALRBvYCKh"
      },
      "source": [
        "from datetime import datetime"
      ],
      "execution_count": 559,
      "outputs": []
    },
    {
      "cell_type": "code",
      "metadata": {
        "colab": {
          "base_uri": "https://localhost:8080/",
          "height": 455
        },
        "id": "MqGGJkKTjzO2",
        "outputId": "5da35e9f-3eef-410e-c82c-098267d2e9a9"
      },
      "source": [
        "Serie = pd.DataFrame(BaseDf['Fecha de notificación']) ; Serie\n",
        "#Serie2 = pd.DataFrame(Serie.sort_values) ; Serie2\n",
        "Serie = pd.DataFrame(Serie.value_counts()) ; Serie\n",
        "#Serie.groupby(['Fecha de diagnóstico']).count()"
      ],
      "execution_count": 572,
      "outputs": [
        {
          "output_type": "execute_result",
          "data": {
            "text/html": [
              "<div>\n",
              "<style scoped>\n",
              "    .dataframe tbody tr th:only-of-type {\n",
              "        vertical-align: middle;\n",
              "    }\n",
              "\n",
              "    .dataframe tbody tr th {\n",
              "        vertical-align: top;\n",
              "    }\n",
              "\n",
              "    .dataframe thead th {\n",
              "        text-align: right;\n",
              "    }\n",
              "</style>\n",
              "<table border=\"1\" class=\"dataframe\">\n",
              "  <thead>\n",
              "    <tr style=\"text-align: right;\">\n",
              "      <th></th>\n",
              "      <th>0</th>\n",
              "    </tr>\n",
              "    <tr>\n",
              "      <th>Fecha de notificación</th>\n",
              "      <th></th>\n",
              "    </tr>\n",
              "  </thead>\n",
              "  <tbody>\n",
              "    <tr>\n",
              "      <th>10/6/2021</th>\n",
              "      <td>12369</td>\n",
              "    </tr>\n",
              "    <tr>\n",
              "      <th>15/6/2021</th>\n",
              "      <td>12290</td>\n",
              "    </tr>\n",
              "    <tr>\n",
              "      <th>16/6/2021</th>\n",
              "      <td>12020</td>\n",
              "    </tr>\n",
              "    <tr>\n",
              "      <th>17/6/2021</th>\n",
              "      <td>11668</td>\n",
              "    </tr>\n",
              "    <tr>\n",
              "      <th>21/6/2021</th>\n",
              "      <td>11474</td>\n",
              "    </tr>\n",
              "    <tr>\n",
              "      <th>...</th>\n",
              "      <td>...</td>\n",
              "    </tr>\n",
              "    <tr>\n",
              "      <th>12/3/2020</th>\n",
              "      <td>5</td>\n",
              "    </tr>\n",
              "    <tr>\n",
              "      <th>23/11/2021</th>\n",
              "      <td>3</td>\n",
              "    </tr>\n",
              "    <tr>\n",
              "      <th>9/3/2020</th>\n",
              "      <td>1</td>\n",
              "    </tr>\n",
              "    <tr>\n",
              "      <th>8/3/2020</th>\n",
              "      <td>1</td>\n",
              "    </tr>\n",
              "    <tr>\n",
              "      <th>2/3/2020</th>\n",
              "      <td>1</td>\n",
              "    </tr>\n",
              "  </tbody>\n",
              "</table>\n",
              "<p>626 rows × 1 columns</p>\n",
              "</div>"
            ],
            "text/plain": [
              "                           0\n",
              "Fecha de notificación       \n",
              "10/6/2021              12369\n",
              "15/6/2021              12290\n",
              "16/6/2021              12020\n",
              "17/6/2021              11668\n",
              "21/6/2021              11474\n",
              "...                      ...\n",
              "12/3/2020                  5\n",
              "23/11/2021                 3\n",
              "9/3/2020                   1\n",
              "8/3/2020                   1\n",
              "2/3/2020                   1\n",
              "\n",
              "[626 rows x 1 columns]"
            ]
          },
          "metadata": {},
          "execution_count": 572
        }
      ]
    },
    {
      "cell_type": "code",
      "metadata": {
        "id": "XWSWNX37Djxk",
        "colab": {
          "base_uri": "https://localhost:8080/",
          "height": 423
        },
        "outputId": "51678f85-7459-4a9d-9a61-9494fa2eb46f"
      },
      "source": [
        "S = Serie.rename_axis(['Fecha de notificación']).reset_index();S"
      ],
      "execution_count": 573,
      "outputs": [
        {
          "output_type": "execute_result",
          "data": {
            "text/html": [
              "<div>\n",
              "<style scoped>\n",
              "    .dataframe tbody tr th:only-of-type {\n",
              "        vertical-align: middle;\n",
              "    }\n",
              "\n",
              "    .dataframe tbody tr th {\n",
              "        vertical-align: top;\n",
              "    }\n",
              "\n",
              "    .dataframe thead th {\n",
              "        text-align: right;\n",
              "    }\n",
              "</style>\n",
              "<table border=\"1\" class=\"dataframe\">\n",
              "  <thead>\n",
              "    <tr style=\"text-align: right;\">\n",
              "      <th></th>\n",
              "      <th>Fecha de notificación</th>\n",
              "      <th>0</th>\n",
              "    </tr>\n",
              "  </thead>\n",
              "  <tbody>\n",
              "    <tr>\n",
              "      <th>0</th>\n",
              "      <td>10/6/2021</td>\n",
              "      <td>12369</td>\n",
              "    </tr>\n",
              "    <tr>\n",
              "      <th>1</th>\n",
              "      <td>15/6/2021</td>\n",
              "      <td>12290</td>\n",
              "    </tr>\n",
              "    <tr>\n",
              "      <th>2</th>\n",
              "      <td>16/6/2021</td>\n",
              "      <td>12020</td>\n",
              "    </tr>\n",
              "    <tr>\n",
              "      <th>3</th>\n",
              "      <td>17/6/2021</td>\n",
              "      <td>11668</td>\n",
              "    </tr>\n",
              "    <tr>\n",
              "      <th>4</th>\n",
              "      <td>21/6/2021</td>\n",
              "      <td>11474</td>\n",
              "    </tr>\n",
              "    <tr>\n",
              "      <th>...</th>\n",
              "      <td>...</td>\n",
              "      <td>...</td>\n",
              "    </tr>\n",
              "    <tr>\n",
              "      <th>621</th>\n",
              "      <td>12/3/2020</td>\n",
              "      <td>5</td>\n",
              "    </tr>\n",
              "    <tr>\n",
              "      <th>622</th>\n",
              "      <td>23/11/2021</td>\n",
              "      <td>3</td>\n",
              "    </tr>\n",
              "    <tr>\n",
              "      <th>623</th>\n",
              "      <td>9/3/2020</td>\n",
              "      <td>1</td>\n",
              "    </tr>\n",
              "    <tr>\n",
              "      <th>624</th>\n",
              "      <td>8/3/2020</td>\n",
              "      <td>1</td>\n",
              "    </tr>\n",
              "    <tr>\n",
              "      <th>625</th>\n",
              "      <td>2/3/2020</td>\n",
              "      <td>1</td>\n",
              "    </tr>\n",
              "  </tbody>\n",
              "</table>\n",
              "<p>626 rows × 2 columns</p>\n",
              "</div>"
            ],
            "text/plain": [
              "    Fecha de notificación      0\n",
              "0              10/6/2021   12369\n",
              "1              15/6/2021   12290\n",
              "2              16/6/2021   12020\n",
              "3              17/6/2021   11668\n",
              "4              21/6/2021   11474\n",
              "..                    ...    ...\n",
              "621            12/3/2020       5\n",
              "622           23/11/2021       3\n",
              "623             9/3/2020       1\n",
              "624             8/3/2020       1\n",
              "625             2/3/2020       1\n",
              "\n",
              "[626 rows x 2 columns]"
            ]
          },
          "metadata": {},
          "execution_count": 573
        }
      ]
    },
    {
      "cell_type": "code",
      "metadata": {
        "colab": {
          "base_uri": "https://localhost:8080/",
          "height": 423
        },
        "id": "69Kgjf03km06",
        "outputId": "4226a35a-e538-4a91-fdc5-3ea133f6b105"
      },
      "source": [
        "S['Fecha de notificación']= S['Fecha de notificación'].replace(['1','2','3','4','5','6','7','8','9'],['01','02','03','04','05','06','07','08','09']); S"
      ],
      "execution_count": 574,
      "outputs": [
        {
          "output_type": "execute_result",
          "data": {
            "text/html": [
              "<div>\n",
              "<style scoped>\n",
              "    .dataframe tbody tr th:only-of-type {\n",
              "        vertical-align: middle;\n",
              "    }\n",
              "\n",
              "    .dataframe tbody tr th {\n",
              "        vertical-align: top;\n",
              "    }\n",
              "\n",
              "    .dataframe thead th {\n",
              "        text-align: right;\n",
              "    }\n",
              "</style>\n",
              "<table border=\"1\" class=\"dataframe\">\n",
              "  <thead>\n",
              "    <tr style=\"text-align: right;\">\n",
              "      <th></th>\n",
              "      <th>Fecha de notificación</th>\n",
              "      <th>0</th>\n",
              "    </tr>\n",
              "  </thead>\n",
              "  <tbody>\n",
              "    <tr>\n",
              "      <th>0</th>\n",
              "      <td>10/6/2021</td>\n",
              "      <td>12369</td>\n",
              "    </tr>\n",
              "    <tr>\n",
              "      <th>1</th>\n",
              "      <td>15/6/2021</td>\n",
              "      <td>12290</td>\n",
              "    </tr>\n",
              "    <tr>\n",
              "      <th>2</th>\n",
              "      <td>16/6/2021</td>\n",
              "      <td>12020</td>\n",
              "    </tr>\n",
              "    <tr>\n",
              "      <th>3</th>\n",
              "      <td>17/6/2021</td>\n",
              "      <td>11668</td>\n",
              "    </tr>\n",
              "    <tr>\n",
              "      <th>4</th>\n",
              "      <td>21/6/2021</td>\n",
              "      <td>11474</td>\n",
              "    </tr>\n",
              "    <tr>\n",
              "      <th>...</th>\n",
              "      <td>...</td>\n",
              "      <td>...</td>\n",
              "    </tr>\n",
              "    <tr>\n",
              "      <th>621</th>\n",
              "      <td>12/3/2020</td>\n",
              "      <td>5</td>\n",
              "    </tr>\n",
              "    <tr>\n",
              "      <th>622</th>\n",
              "      <td>23/11/2021</td>\n",
              "      <td>3</td>\n",
              "    </tr>\n",
              "    <tr>\n",
              "      <th>623</th>\n",
              "      <td>9/3/2020</td>\n",
              "      <td>1</td>\n",
              "    </tr>\n",
              "    <tr>\n",
              "      <th>624</th>\n",
              "      <td>8/3/2020</td>\n",
              "      <td>1</td>\n",
              "    </tr>\n",
              "    <tr>\n",
              "      <th>625</th>\n",
              "      <td>2/3/2020</td>\n",
              "      <td>1</td>\n",
              "    </tr>\n",
              "  </tbody>\n",
              "</table>\n",
              "<p>626 rows × 2 columns</p>\n",
              "</div>"
            ],
            "text/plain": [
              "    Fecha de notificación      0\n",
              "0              10/6/2021   12369\n",
              "1              15/6/2021   12290\n",
              "2              16/6/2021   12020\n",
              "3              17/6/2021   11668\n",
              "4              21/6/2021   11474\n",
              "..                    ...    ...\n",
              "621            12/3/2020       5\n",
              "622           23/11/2021       3\n",
              "623             9/3/2020       1\n",
              "624             8/3/2020       1\n",
              "625             2/3/2020       1\n",
              "\n",
              "[626 rows x 2 columns]"
            ]
          },
          "metadata": {},
          "execution_count": 574
        }
      ]
    },
    {
      "cell_type": "code",
      "metadata": {
        "id": "bDYh5VCFr8XM"
      },
      "source": [
        "import datetime"
      ],
      "execution_count": 575,
      "outputs": []
    },
    {
      "cell_type": "code",
      "metadata": {
        "id": "jJvxkRDNrZo1"
      },
      "source": [
        "# S['fecha reporte web'] = pd.to_datetime(S['fecha reporte web']); S #Cambia el orden de algunas fechas DD/MM >> MM/DD"
      ],
      "execution_count": 576,
      "outputs": []
    },
    {
      "cell_type": "code",
      "metadata": {
        "colab": {
          "base_uri": "https://localhost:8080/",
          "height": 423
        },
        "id": "EQt21tTRcNKD",
        "outputId": "62ed4567-f50b-420a-db8b-f9b04070c107"
      },
      "source": [
        "Date = S['Fecha de notificación'].str.split('/', expand=True)\n",
        "Date.columns = ['DD','MM','YY'] ; Date"
      ],
      "execution_count": 577,
      "outputs": [
        {
          "output_type": "execute_result",
          "data": {
            "text/html": [
              "<div>\n",
              "<style scoped>\n",
              "    .dataframe tbody tr th:only-of-type {\n",
              "        vertical-align: middle;\n",
              "    }\n",
              "\n",
              "    .dataframe tbody tr th {\n",
              "        vertical-align: top;\n",
              "    }\n",
              "\n",
              "    .dataframe thead th {\n",
              "        text-align: right;\n",
              "    }\n",
              "</style>\n",
              "<table border=\"1\" class=\"dataframe\">\n",
              "  <thead>\n",
              "    <tr style=\"text-align: right;\">\n",
              "      <th></th>\n",
              "      <th>DD</th>\n",
              "      <th>MM</th>\n",
              "      <th>YY</th>\n",
              "    </tr>\n",
              "  </thead>\n",
              "  <tbody>\n",
              "    <tr>\n",
              "      <th>0</th>\n",
              "      <td>10</td>\n",
              "      <td>6</td>\n",
              "      <td>2021</td>\n",
              "    </tr>\n",
              "    <tr>\n",
              "      <th>1</th>\n",
              "      <td>15</td>\n",
              "      <td>6</td>\n",
              "      <td>2021</td>\n",
              "    </tr>\n",
              "    <tr>\n",
              "      <th>2</th>\n",
              "      <td>16</td>\n",
              "      <td>6</td>\n",
              "      <td>2021</td>\n",
              "    </tr>\n",
              "    <tr>\n",
              "      <th>3</th>\n",
              "      <td>17</td>\n",
              "      <td>6</td>\n",
              "      <td>2021</td>\n",
              "    </tr>\n",
              "    <tr>\n",
              "      <th>4</th>\n",
              "      <td>21</td>\n",
              "      <td>6</td>\n",
              "      <td>2021</td>\n",
              "    </tr>\n",
              "    <tr>\n",
              "      <th>...</th>\n",
              "      <td>...</td>\n",
              "      <td>...</td>\n",
              "      <td>...</td>\n",
              "    </tr>\n",
              "    <tr>\n",
              "      <th>621</th>\n",
              "      <td>12</td>\n",
              "      <td>3</td>\n",
              "      <td>2020</td>\n",
              "    </tr>\n",
              "    <tr>\n",
              "      <th>622</th>\n",
              "      <td>23</td>\n",
              "      <td>11</td>\n",
              "      <td>2021</td>\n",
              "    </tr>\n",
              "    <tr>\n",
              "      <th>623</th>\n",
              "      <td>9</td>\n",
              "      <td>3</td>\n",
              "      <td>2020</td>\n",
              "    </tr>\n",
              "    <tr>\n",
              "      <th>624</th>\n",
              "      <td>8</td>\n",
              "      <td>3</td>\n",
              "      <td>2020</td>\n",
              "    </tr>\n",
              "    <tr>\n",
              "      <th>625</th>\n",
              "      <td>2</td>\n",
              "      <td>3</td>\n",
              "      <td>2020</td>\n",
              "    </tr>\n",
              "  </tbody>\n",
              "</table>\n",
              "<p>626 rows × 3 columns</p>\n",
              "</div>"
            ],
            "text/plain": [
              "     DD  MM     YY\n",
              "0    10   6  2021 \n",
              "1    15   6  2021 \n",
              "2    16   6  2021 \n",
              "3    17   6  2021 \n",
              "4    21   6  2021 \n",
              "..   ..  ..    ...\n",
              "621  12   3  2020 \n",
              "622  23  11  2021 \n",
              "623   9   3  2020 \n",
              "624   8   3  2020 \n",
              "625   2   3  2020 \n",
              "\n",
              "[626 rows x 3 columns]"
            ]
          },
          "metadata": {},
          "execution_count": 577
        }
      ]
    },
    {
      "cell_type": "code",
      "metadata": {
        "colab": {
          "base_uri": "https://localhost:8080/",
          "height": 423
        },
        "id": "Xtc7BRxeekDS",
        "outputId": "33ac765e-191e-4b12-c5b2-1967e48b2e00"
      },
      "source": [
        "Date['MM']= Date['MM'].replace(['1','2','3','4','5','6','7','8','9','10','11','12'],['01','02','03','04','05','06','07','08','09','10','11','12'])\n",
        "Date['DD']= Date['DD'].replace(['1','2','3','4','5','6','7','8','9'],['01','02','03','04','05','06','07','08','09'])\n",
        "Date"
      ],
      "execution_count": 578,
      "outputs": [
        {
          "output_type": "execute_result",
          "data": {
            "text/html": [
              "<div>\n",
              "<style scoped>\n",
              "    .dataframe tbody tr th:only-of-type {\n",
              "        vertical-align: middle;\n",
              "    }\n",
              "\n",
              "    .dataframe tbody tr th {\n",
              "        vertical-align: top;\n",
              "    }\n",
              "\n",
              "    .dataframe thead th {\n",
              "        text-align: right;\n",
              "    }\n",
              "</style>\n",
              "<table border=\"1\" class=\"dataframe\">\n",
              "  <thead>\n",
              "    <tr style=\"text-align: right;\">\n",
              "      <th></th>\n",
              "      <th>DD</th>\n",
              "      <th>MM</th>\n",
              "      <th>YY</th>\n",
              "    </tr>\n",
              "  </thead>\n",
              "  <tbody>\n",
              "    <tr>\n",
              "      <th>0</th>\n",
              "      <td>10</td>\n",
              "      <td>06</td>\n",
              "      <td>2021</td>\n",
              "    </tr>\n",
              "    <tr>\n",
              "      <th>1</th>\n",
              "      <td>15</td>\n",
              "      <td>06</td>\n",
              "      <td>2021</td>\n",
              "    </tr>\n",
              "    <tr>\n",
              "      <th>2</th>\n",
              "      <td>16</td>\n",
              "      <td>06</td>\n",
              "      <td>2021</td>\n",
              "    </tr>\n",
              "    <tr>\n",
              "      <th>3</th>\n",
              "      <td>17</td>\n",
              "      <td>06</td>\n",
              "      <td>2021</td>\n",
              "    </tr>\n",
              "    <tr>\n",
              "      <th>4</th>\n",
              "      <td>21</td>\n",
              "      <td>06</td>\n",
              "      <td>2021</td>\n",
              "    </tr>\n",
              "    <tr>\n",
              "      <th>...</th>\n",
              "      <td>...</td>\n",
              "      <td>...</td>\n",
              "      <td>...</td>\n",
              "    </tr>\n",
              "    <tr>\n",
              "      <th>621</th>\n",
              "      <td>12</td>\n",
              "      <td>03</td>\n",
              "      <td>2020</td>\n",
              "    </tr>\n",
              "    <tr>\n",
              "      <th>622</th>\n",
              "      <td>23</td>\n",
              "      <td>11</td>\n",
              "      <td>2021</td>\n",
              "    </tr>\n",
              "    <tr>\n",
              "      <th>623</th>\n",
              "      <td>09</td>\n",
              "      <td>03</td>\n",
              "      <td>2020</td>\n",
              "    </tr>\n",
              "    <tr>\n",
              "      <th>624</th>\n",
              "      <td>08</td>\n",
              "      <td>03</td>\n",
              "      <td>2020</td>\n",
              "    </tr>\n",
              "    <tr>\n",
              "      <th>625</th>\n",
              "      <td>02</td>\n",
              "      <td>03</td>\n",
              "      <td>2020</td>\n",
              "    </tr>\n",
              "  </tbody>\n",
              "</table>\n",
              "<p>626 rows × 3 columns</p>\n",
              "</div>"
            ],
            "text/plain": [
              "     DD  MM     YY\n",
              "0    10  06  2021 \n",
              "1    15  06  2021 \n",
              "2    16  06  2021 \n",
              "3    17  06  2021 \n",
              "4    21  06  2021 \n",
              "..   ..  ..    ...\n",
              "621  12  03  2020 \n",
              "622  23  11  2021 \n",
              "623  09  03  2020 \n",
              "624  08  03  2020 \n",
              "625  02  03  2020 \n",
              "\n",
              "[626 rows x 3 columns]"
            ]
          },
          "metadata": {},
          "execution_count": 578
        }
      ]
    },
    {
      "cell_type": "code",
      "metadata": {
        "colab": {
          "base_uri": "https://localhost:8080/",
          "height": 423
        },
        "id": "xoqBQ1aCkCS7",
        "outputId": "256a65dc-1b4d-4ff7-ab1d-600413d76972"
      },
      "source": [
        "Date[\"Full Date\"] = Date[\"MM\"] + \"/\" + Date[\"DD\"] + \"/\"+ Date[\"YY\"] ; Date"
      ],
      "execution_count": 579,
      "outputs": [
        {
          "output_type": "execute_result",
          "data": {
            "text/html": [
              "<div>\n",
              "<style scoped>\n",
              "    .dataframe tbody tr th:only-of-type {\n",
              "        vertical-align: middle;\n",
              "    }\n",
              "\n",
              "    .dataframe tbody tr th {\n",
              "        vertical-align: top;\n",
              "    }\n",
              "\n",
              "    .dataframe thead th {\n",
              "        text-align: right;\n",
              "    }\n",
              "</style>\n",
              "<table border=\"1\" class=\"dataframe\">\n",
              "  <thead>\n",
              "    <tr style=\"text-align: right;\">\n",
              "      <th></th>\n",
              "      <th>DD</th>\n",
              "      <th>MM</th>\n",
              "      <th>YY</th>\n",
              "      <th>Full Date</th>\n",
              "    </tr>\n",
              "  </thead>\n",
              "  <tbody>\n",
              "    <tr>\n",
              "      <th>0</th>\n",
              "      <td>10</td>\n",
              "      <td>06</td>\n",
              "      <td>2021</td>\n",
              "      <td>06/10/2021</td>\n",
              "    </tr>\n",
              "    <tr>\n",
              "      <th>1</th>\n",
              "      <td>15</td>\n",
              "      <td>06</td>\n",
              "      <td>2021</td>\n",
              "      <td>06/15/2021</td>\n",
              "    </tr>\n",
              "    <tr>\n",
              "      <th>2</th>\n",
              "      <td>16</td>\n",
              "      <td>06</td>\n",
              "      <td>2021</td>\n",
              "      <td>06/16/2021</td>\n",
              "    </tr>\n",
              "    <tr>\n",
              "      <th>3</th>\n",
              "      <td>17</td>\n",
              "      <td>06</td>\n",
              "      <td>2021</td>\n",
              "      <td>06/17/2021</td>\n",
              "    </tr>\n",
              "    <tr>\n",
              "      <th>4</th>\n",
              "      <td>21</td>\n",
              "      <td>06</td>\n",
              "      <td>2021</td>\n",
              "      <td>06/21/2021</td>\n",
              "    </tr>\n",
              "    <tr>\n",
              "      <th>...</th>\n",
              "      <td>...</td>\n",
              "      <td>...</td>\n",
              "      <td>...</td>\n",
              "      <td>...</td>\n",
              "    </tr>\n",
              "    <tr>\n",
              "      <th>621</th>\n",
              "      <td>12</td>\n",
              "      <td>03</td>\n",
              "      <td>2020</td>\n",
              "      <td>03/12/2020</td>\n",
              "    </tr>\n",
              "    <tr>\n",
              "      <th>622</th>\n",
              "      <td>23</td>\n",
              "      <td>11</td>\n",
              "      <td>2021</td>\n",
              "      <td>11/23/2021</td>\n",
              "    </tr>\n",
              "    <tr>\n",
              "      <th>623</th>\n",
              "      <td>09</td>\n",
              "      <td>03</td>\n",
              "      <td>2020</td>\n",
              "      <td>03/09/2020</td>\n",
              "    </tr>\n",
              "    <tr>\n",
              "      <th>624</th>\n",
              "      <td>08</td>\n",
              "      <td>03</td>\n",
              "      <td>2020</td>\n",
              "      <td>03/08/2020</td>\n",
              "    </tr>\n",
              "    <tr>\n",
              "      <th>625</th>\n",
              "      <td>02</td>\n",
              "      <td>03</td>\n",
              "      <td>2020</td>\n",
              "      <td>03/02/2020</td>\n",
              "    </tr>\n",
              "  </tbody>\n",
              "</table>\n",
              "<p>626 rows × 4 columns</p>\n",
              "</div>"
            ],
            "text/plain": [
              "     DD  MM     YY    Full Date\n",
              "0    10  06  2021   06/10/2021 \n",
              "1    15  06  2021   06/15/2021 \n",
              "2    16  06  2021   06/16/2021 \n",
              "3    17  06  2021   06/17/2021 \n",
              "4    21  06  2021   06/21/2021 \n",
              "..   ..  ..    ...          ...\n",
              "621  12  03  2020   03/12/2020 \n",
              "622  23  11  2021   11/23/2021 \n",
              "623  09  03  2020   03/09/2020 \n",
              "624  08  03  2020   03/08/2020 \n",
              "625  02  03  2020   03/02/2020 \n",
              "\n",
              "[626 rows x 4 columns]"
            ]
          },
          "metadata": {},
          "execution_count": 579
        }
      ]
    },
    {
      "cell_type": "code",
      "metadata": {
        "colab": {
          "base_uri": "https://localhost:8080/",
          "height": 423
        },
        "id": "uRE5lj3UhZg-",
        "outputId": "4c14a8cc-5a96-42a5-de80-623c86d10603"
      },
      "source": [
        "S = pd.concat([S ,Date[\"Full Date\"]], axis=1); S"
      ],
      "execution_count": 580,
      "outputs": [
        {
          "output_type": "execute_result",
          "data": {
            "text/html": [
              "<div>\n",
              "<style scoped>\n",
              "    .dataframe tbody tr th:only-of-type {\n",
              "        vertical-align: middle;\n",
              "    }\n",
              "\n",
              "    .dataframe tbody tr th {\n",
              "        vertical-align: top;\n",
              "    }\n",
              "\n",
              "    .dataframe thead th {\n",
              "        text-align: right;\n",
              "    }\n",
              "</style>\n",
              "<table border=\"1\" class=\"dataframe\">\n",
              "  <thead>\n",
              "    <tr style=\"text-align: right;\">\n",
              "      <th></th>\n",
              "      <th>Fecha de notificación</th>\n",
              "      <th>0</th>\n",
              "      <th>Full Date</th>\n",
              "    </tr>\n",
              "  </thead>\n",
              "  <tbody>\n",
              "    <tr>\n",
              "      <th>0</th>\n",
              "      <td>10/6/2021</td>\n",
              "      <td>12369</td>\n",
              "      <td>06/10/2021</td>\n",
              "    </tr>\n",
              "    <tr>\n",
              "      <th>1</th>\n",
              "      <td>15/6/2021</td>\n",
              "      <td>12290</td>\n",
              "      <td>06/15/2021</td>\n",
              "    </tr>\n",
              "    <tr>\n",
              "      <th>2</th>\n",
              "      <td>16/6/2021</td>\n",
              "      <td>12020</td>\n",
              "      <td>06/16/2021</td>\n",
              "    </tr>\n",
              "    <tr>\n",
              "      <th>3</th>\n",
              "      <td>17/6/2021</td>\n",
              "      <td>11668</td>\n",
              "      <td>06/17/2021</td>\n",
              "    </tr>\n",
              "    <tr>\n",
              "      <th>4</th>\n",
              "      <td>21/6/2021</td>\n",
              "      <td>11474</td>\n",
              "      <td>06/21/2021</td>\n",
              "    </tr>\n",
              "    <tr>\n",
              "      <th>...</th>\n",
              "      <td>...</td>\n",
              "      <td>...</td>\n",
              "      <td>...</td>\n",
              "    </tr>\n",
              "    <tr>\n",
              "      <th>621</th>\n",
              "      <td>12/3/2020</td>\n",
              "      <td>5</td>\n",
              "      <td>03/12/2020</td>\n",
              "    </tr>\n",
              "    <tr>\n",
              "      <th>622</th>\n",
              "      <td>23/11/2021</td>\n",
              "      <td>3</td>\n",
              "      <td>11/23/2021</td>\n",
              "    </tr>\n",
              "    <tr>\n",
              "      <th>623</th>\n",
              "      <td>9/3/2020</td>\n",
              "      <td>1</td>\n",
              "      <td>03/09/2020</td>\n",
              "    </tr>\n",
              "    <tr>\n",
              "      <th>624</th>\n",
              "      <td>8/3/2020</td>\n",
              "      <td>1</td>\n",
              "      <td>03/08/2020</td>\n",
              "    </tr>\n",
              "    <tr>\n",
              "      <th>625</th>\n",
              "      <td>2/3/2020</td>\n",
              "      <td>1</td>\n",
              "      <td>03/02/2020</td>\n",
              "    </tr>\n",
              "  </tbody>\n",
              "</table>\n",
              "<p>626 rows × 3 columns</p>\n",
              "</div>"
            ],
            "text/plain": [
              "    Fecha de notificación      0    Full Date\n",
              "0              10/6/2021   12369  06/10/2021 \n",
              "1              15/6/2021   12290  06/15/2021 \n",
              "2              16/6/2021   12020  06/16/2021 \n",
              "3              17/6/2021   11668  06/17/2021 \n",
              "4              21/6/2021   11474  06/21/2021 \n",
              "..                    ...    ...          ...\n",
              "621            12/3/2020       5  03/12/2020 \n",
              "622           23/11/2021       3  11/23/2021 \n",
              "623             9/3/2020       1  03/09/2020 \n",
              "624             8/3/2020       1  03/08/2020 \n",
              "625             2/3/2020       1  03/02/2020 \n",
              "\n",
              "[626 rows x 3 columns]"
            ]
          },
          "metadata": {},
          "execution_count": 580
        }
      ]
    },
    {
      "cell_type": "code",
      "metadata": {
        "id": "ABAyuMZatdEu"
      },
      "source": [
        "S['Full Date'] = pd.to_datetime(S['Full Date']); S\n",
        "S = S.drop(['Fecha de notificación'],axis = 1)\n",
        "S = S.sort_values(by= 'Full Date')\n",
        "S.columns = ['Casos','Date']; S\n",
        "S = S.drop([622], axis=0)"
      ],
      "execution_count": 582,
      "outputs": []
    },
    {
      "cell_type": "code",
      "metadata": {
        "id": "kAE7nPaGuVW_"
      },
      "source": [
        "S.set_index('Date',inplace=True)"
      ],
      "execution_count": 583,
      "outputs": []
    },
    {
      "cell_type": "code",
      "metadata": {
        "colab": {
          "base_uri": "https://localhost:8080/",
          "height": 455
        },
        "id": "qL4at4wmylj-",
        "outputId": "1ef2a447-0bc1-4345-d9e1-ec81811ca73d"
      },
      "source": [
        "S"
      ],
      "execution_count": 584,
      "outputs": [
        {
          "output_type": "execute_result",
          "data": {
            "text/html": [
              "<div>\n",
              "<style scoped>\n",
              "    .dataframe tbody tr th:only-of-type {\n",
              "        vertical-align: middle;\n",
              "    }\n",
              "\n",
              "    .dataframe tbody tr th {\n",
              "        vertical-align: top;\n",
              "    }\n",
              "\n",
              "    .dataframe thead th {\n",
              "        text-align: right;\n",
              "    }\n",
              "</style>\n",
              "<table border=\"1\" class=\"dataframe\">\n",
              "  <thead>\n",
              "    <tr style=\"text-align: right;\">\n",
              "      <th></th>\n",
              "      <th>Casos</th>\n",
              "    </tr>\n",
              "    <tr>\n",
              "      <th>Date</th>\n",
              "      <th></th>\n",
              "    </tr>\n",
              "  </thead>\n",
              "  <tbody>\n",
              "    <tr>\n",
              "      <th>2020-03-02</th>\n",
              "      <td>1</td>\n",
              "    </tr>\n",
              "    <tr>\n",
              "      <th>2020-03-08</th>\n",
              "      <td>1</td>\n",
              "    </tr>\n",
              "    <tr>\n",
              "      <th>2020-03-09</th>\n",
              "      <td>1</td>\n",
              "    </tr>\n",
              "    <tr>\n",
              "      <th>2020-03-11</th>\n",
              "      <td>5</td>\n",
              "    </tr>\n",
              "    <tr>\n",
              "      <th>2020-03-12</th>\n",
              "      <td>5</td>\n",
              "    </tr>\n",
              "    <tr>\n",
              "      <th>...</th>\n",
              "      <td>...</td>\n",
              "    </tr>\n",
              "    <tr>\n",
              "      <th>2021-11-18</th>\n",
              "      <td>359</td>\n",
              "    </tr>\n",
              "    <tr>\n",
              "      <th>2021-11-19</th>\n",
              "      <td>265</td>\n",
              "    </tr>\n",
              "    <tr>\n",
              "      <th>2021-11-20</th>\n",
              "      <td>201</td>\n",
              "    </tr>\n",
              "    <tr>\n",
              "      <th>2021-11-21</th>\n",
              "      <td>153</td>\n",
              "    </tr>\n",
              "    <tr>\n",
              "      <th>2021-11-22</th>\n",
              "      <td>130</td>\n",
              "    </tr>\n",
              "  </tbody>\n",
              "</table>\n",
              "<p>625 rows × 1 columns</p>\n",
              "</div>"
            ],
            "text/plain": [
              "            Casos\n",
              "Date             \n",
              "2020-03-02      1\n",
              "2020-03-08      1\n",
              "2020-03-09      1\n",
              "2020-03-11      5\n",
              "2020-03-12      5\n",
              "...           ...\n",
              "2021-11-18    359\n",
              "2021-11-19    265\n",
              "2021-11-20    201\n",
              "2021-11-21    153\n",
              "2021-11-22    130\n",
              "\n",
              "[625 rows x 1 columns]"
            ]
          },
          "metadata": {},
          "execution_count": 584
        }
      ]
    },
    {
      "cell_type": "code",
      "metadata": {
        "colab": {
          "base_uri": "https://localhost:8080/",
          "height": 589
        },
        "id": "ajCRzwUBwh87",
        "outputId": "84f59888-d721-4119-c6d9-783097a3ad31"
      },
      "source": [
        "\n",
        "S.plot(kind = 'line', figsize= (14,10))"
      ],
      "execution_count": 585,
      "outputs": [
        {
          "output_type": "execute_result",
          "data": {
            "text/plain": [
              "<matplotlib.axes._subplots.AxesSubplot at 0x7f4e346efb50>"
            ]
          },
          "metadata": {},
          "execution_count": 585
        },
        {
          "output_type": "display_data",
          "data": {
            "image/png": "[encoded data removed]",
            "text/plain": [
              "<Figure size 1008x720 with 1 Axes>"
            ]
          },
          "metadata": {
            "needs_background": "light"
          }
        }
      ]
    },
    {
      "cell_type": "markdown",
      "metadata": {
        "id": "bZ9tOUuYt0j0"
      },
      "source": [
        "# **Análisis exploratorio**"
      ]
    },
    {
      "cell_type": "code",
      "metadata": {
        "colab": {
          "base_uri": "https://localhost:8080/",
          "height": 391
        },
        "id": "EP0Bm_CYEIVw",
        "outputId": "c022a690-1fe0-40f0-cafa-cba6c3f283d9"
      },
      "source": [
        "plt.figure(figsize = (11,6))\n",
        "\n",
        "x = [sum(SerieFechaSexo['Sexo'] == 'F')/len(SerieFechaSexo['Sexo']), sum(SerieFechaSexo['Sexo'] == 'M')/len(SerieFechaSexo['Sexo'])]\n",
        "name = ['Mujeres', 'Hombres']\n",
        "plt.bar(name, x)\n",
        "plt.title('Cantidad de contagiados segu´n el sexo')\n",
        "\n",
        "\n",
        "plt.show()\n"
      ],
      "execution_count": 673,
      "outputs": [
        {
          "output_type": "display_data",
          "data": {
            "image/png": "[encoded data removed]",
            "text/plain": [
              "<Figure size 792x432 with 1 Axes>"
            ]
          },
          "metadata": {
            "needs_background": "light"
          }
        }
      ]
    },
    {
      "cell_type": "markdown",
      "metadata": {
        "id": "L42hb94bHZf1"
      },
      "source": [
        "Se observa que entre las notificaciones de contagio ha sido mas frecuente que sea por parte del sexo femenino en comparacio´n con el masculino.\n"
      ]
    },
    {
      "cell_type": "code",
      "metadata": {
        "colab": {
          "base_uri": "https://localhost:8080/"
        },
        "id": "MkSvYgqdt9_0",
        "outputId": "888b9743-365c-43f6-c8f0-b9c51dee5ce6"
      },
      "source": [
        "print(S.index.min())\n",
        "print(S.index.max())"
      ],
      "execution_count": 586,
      "outputs": [
        {
          "output_type": "stream",
          "name": "stdout",
          "text": [
            "2020-03-02 00:00:00\n",
            "2021-11-22 00:00:00\n"
          ]
        }
      ]
    },
    {
      "cell_type": "markdown",
      "metadata": {
        "id": "isOkYjemwMrS"
      },
      "source": [
        "La serie de tiempo contempla las fechas diarias entre el 02 de marzo del 2020 y el 22 de noviembre del 2021\n",
        "\n"
      ]
    },
    {
      "cell_type": "code",
      "metadata": {
        "colab": {
          "base_uri": "https://localhost:8080/"
        },
        "id": "vm-p-Go7v7TI",
        "outputId": "198046e1-b43c-407c-e109-efdd654d40cc"
      },
      "source": [
        "print(len(S['2020']))\n",
        "print(len(S['2021']))"
      ],
      "execution_count": 587,
      "outputs": [
        {
          "output_type": "stream",
          "name": "stdout",
          "text": [
            "299\n",
            "326\n"
          ]
        }
      ]
    },
    {
      "cell_type": "markdown",
      "metadata": {
        "id": "smLPA7bvIK6i"
      },
      "source": [
        "Se contempla que para el año 2020 se obtuvo una muestra de 299 día de reportes de contagio, mientras que para el 2021 se tiene una recoleción de 326 días de reportes de contagio. Apesar de tener en observación dos años, no se asumen 365 recolecciones de información por año, puesto que para el 2020 la medición inicio sobre el mes de agosto, mientra que el año 2021 sigue en curso. \n",
        " "
      ]
    },
    {
      "cell_type": "code",
      "metadata": {
        "colab": {
          "base_uri": "https://localhost:8080/",
          "height": 300
        },
        "id": "aLTClUKd0_8V",
        "outputId": "a181b57a-0f57-40ad-e615-c5aad9b8c208"
      },
      "source": [
        "S.describe()"
      ],
      "execution_count": 588,
      "outputs": [
        {
          "output_type": "execute_result",
          "data": {
            "text/html": [
              "<div>\n",
              "<style scoped>\n",
              "    .dataframe tbody tr th:only-of-type {\n",
              "        vertical-align: middle;\n",
              "    }\n",
              "\n",
              "    .dataframe tbody tr th {\n",
              "        vertical-align: top;\n",
              "    }\n",
              "\n",
              "    .dataframe thead th {\n",
              "        text-align: right;\n",
              "    }\n",
              "</style>\n",
              "<table border=\"1\" class=\"dataframe\">\n",
              "  <thead>\n",
              "    <tr style=\"text-align: right;\">\n",
              "      <th></th>\n",
              "      <th>Casos</th>\n",
              "    </tr>\n",
              "  </thead>\n",
              "  <tbody>\n",
              "    <tr>\n",
              "      <th>count</th>\n",
              "      <td>625.000000</td>\n",
              "    </tr>\n",
              "    <tr>\n",
              "      <th>mean</th>\n",
              "      <td>2337.732800</td>\n",
              "    </tr>\n",
              "    <tr>\n",
              "      <th>std</th>\n",
              "      <td>2596.853151</td>\n",
              "    </tr>\n",
              "    <tr>\n",
              "      <th>min</th>\n",
              "      <td>1.000000</td>\n",
              "    </tr>\n",
              "    <tr>\n",
              "      <th>25%</th>\n",
              "      <td>352.000000</td>\n",
              "    </tr>\n",
              "    <tr>\n",
              "      <th>50%</th>\n",
              "      <td>1576.000000</td>\n",
              "    </tr>\n",
              "    <tr>\n",
              "      <th>75%</th>\n",
              "      <td>3242.000000</td>\n",
              "    </tr>\n",
              "    <tr>\n",
              "      <th>max</th>\n",
              "      <td>12369.000000</td>\n",
              "    </tr>\n",
              "  </tbody>\n",
              "</table>\n",
              "</div>"
            ],
            "text/plain": [
              "              Casos\n",
              "count    625.000000\n",
              "mean    2337.732800\n",
              "std     2596.853151\n",
              "min        1.000000\n",
              "25%      352.000000\n",
              "50%     1576.000000\n",
              "75%     3242.000000\n",
              "max    12369.000000"
            ]
          },
          "metadata": {},
          "execution_count": 588
        }
      ]
    },
    {
      "cell_type": "code",
      "metadata": {
        "colab": {
          "base_uri": "https://localhost:8080/"
        },
        "id": "1nk2JfJhJeUI",
        "outputId": "830b9148-3030-4ed1-afa9-55cbd47f1c81"
      },
      "source": [
        "sum(S['Casos'])"
      ],
      "execution_count": 674,
      "outputs": [
        {
          "output_type": "execute_result",
          "data": {
            "text/plain": [
              "1461083"
            ]
          },
          "metadata": {},
          "execution_count": 674
        }
      ]
    },
    {
      "cell_type": "markdown",
      "metadata": {
        "id": "yHyPJsYiJOkg"
      },
      "source": [
        "De 625 días observados, en promedio por día se contagiaron 2337 personas, teniendo en cuenta una desviación estandar de 2596 contagios. Se tiene tambien que el día con mayor cotagios fue de 12369 personas notificadas. "
      ]
    },
    {
      "cell_type": "code",
      "metadata": {
        "colab": {
          "base_uri": "https://localhost:8080/",
          "height": 739
        },
        "id": "zLHi2Yrg1LPS",
        "outputId": "85feba39-cf1a-44fd-e4b4-26fd3088dd51"
      },
      "source": [
        "# Promedio mesnual\n",
        "Mes = S.resample('M').mean()\n",
        "Mes"
      ],
      "execution_count": 592,
      "outputs": [
        {
          "output_type": "execute_result",
          "data": {
            "text/html": [
              "<div>\n",
              "<style scoped>\n",
              "    .dataframe tbody tr th:only-of-type {\n",
              "        vertical-align: middle;\n",
              "    }\n",
              "\n",
              "    .dataframe tbody tr th {\n",
              "        vertical-align: top;\n",
              "    }\n",
              "\n",
              "    .dataframe thead th {\n",
              "        text-align: right;\n",
              "    }\n",
              "</style>\n",
              "<table border=\"1\" class=\"dataframe\">\n",
              "  <thead>\n",
              "    <tr style=\"text-align: right;\">\n",
              "      <th></th>\n",
              "      <th>Casos</th>\n",
              "    </tr>\n",
              "    <tr>\n",
              "      <th>Date</th>\n",
              "      <th></th>\n",
              "    </tr>\n",
              "  </thead>\n",
              "  <tbody>\n",
              "    <tr>\n",
              "      <th>2020-03-31</th>\n",
              "      <td>34.750000</td>\n",
              "    </tr>\n",
              "    <tr>\n",
              "      <th>2020-04-30</th>\n",
              "      <td>89.133333</td>\n",
              "    </tr>\n",
              "    <tr>\n",
              "      <th>2020-05-31</th>\n",
              "      <td>266.612903</td>\n",
              "    </tr>\n",
              "    <tr>\n",
              "      <th>2020-06-30</th>\n",
              "      <td>993.033333</td>\n",
              "    </tr>\n",
              "    <tr>\n",
              "      <th>2020-07-31</th>\n",
              "      <td>2939.193548</td>\n",
              "    </tr>\n",
              "    <tr>\n",
              "      <th>2020-08-31</th>\n",
              "      <td>2869.870968</td>\n",
              "    </tr>\n",
              "    <tr>\n",
              "      <th>2020-09-30</th>\n",
              "      <td>1802.433333</td>\n",
              "    </tr>\n",
              "    <tr>\n",
              "      <th>2020-10-31</th>\n",
              "      <td>1759.935484</td>\n",
              "    </tr>\n",
              "    <tr>\n",
              "      <th>2020-11-30</th>\n",
              "      <td>1849.033333</td>\n",
              "    </tr>\n",
              "    <tr>\n",
              "      <th>2020-12-31</th>\n",
              "      <td>3631.032258</td>\n",
              "    </tr>\n",
              "    <tr>\n",
              "      <th>2021-01-31</th>\n",
              "      <td>4261.838710</td>\n",
              "    </tr>\n",
              "    <tr>\n",
              "      <th>2021-02-28</th>\n",
              "      <td>1197.607143</td>\n",
              "    </tr>\n",
              "    <tr>\n",
              "      <th>2021-03-31</th>\n",
              "      <td>1003.806452</td>\n",
              "    </tr>\n",
              "    <tr>\n",
              "      <th>2021-04-30</th>\n",
              "      <td>3950.633333</td>\n",
              "    </tr>\n",
              "    <tr>\n",
              "      <th>2021-05-31</th>\n",
              "      <td>6484.322581</td>\n",
              "    </tr>\n",
              "    <tr>\n",
              "      <th>2021-06-30</th>\n",
              "      <td>9720.133333</td>\n",
              "    </tr>\n",
              "    <tr>\n",
              "      <th>2021-07-31</th>\n",
              "      <td>3801.387097</td>\n",
              "    </tr>\n",
              "    <tr>\n",
              "      <th>2021-08-31</th>\n",
              "      <td>664.000000</td>\n",
              "    </tr>\n",
              "    <tr>\n",
              "      <th>2021-09-30</th>\n",
              "      <td>203.066667</td>\n",
              "    </tr>\n",
              "    <tr>\n",
              "      <th>2021-10-31</th>\n",
              "      <td>160.322581</td>\n",
              "    </tr>\n",
              "    <tr>\n",
              "      <th>2021-11-30</th>\n",
              "      <td>244.545455</td>\n",
              "    </tr>\n",
              "  </tbody>\n",
              "</table>\n",
              "</div>"
            ],
            "text/plain": [
              "                  Casos\n",
              "Date                   \n",
              "2020-03-31    34.750000\n",
              "2020-04-30    89.133333\n",
              "2020-05-31   266.612903\n",
              "2020-06-30   993.033333\n",
              "2020-07-31  2939.193548\n",
              "2020-08-31  2869.870968\n",
              "2020-09-30  1802.433333\n",
              "2020-10-31  1759.935484\n",
              "2020-11-30  1849.033333\n",
              "2020-12-31  3631.032258\n",
              "2021-01-31  4261.838710\n",
              "2021-02-28  1197.607143\n",
              "2021-03-31  1003.806452\n",
              "2021-04-30  3950.633333\n",
              "2021-05-31  6484.322581\n",
              "2021-06-30  9720.133333\n",
              "2021-07-31  3801.387097\n",
              "2021-08-31   664.000000\n",
              "2021-09-30   203.066667\n",
              "2021-10-31   160.322581\n",
              "2021-11-30   244.545455"
            ]
          },
          "metadata": {},
          "execution_count": 592
        }
      ]
    },
    {
      "cell_type": "code",
      "metadata": {
        "colab": {
          "base_uri": "https://localhost:8080/",
          "height": 501
        },
        "id": "elgPlmzY1YsE",
        "outputId": "2a1ba0a4-4c7a-4477-8750-8e9330973858"
      },
      "source": [
        "plt.figure(figsize = (15,8))\n",
        "\n",
        "plt.plot(Mes['2020'].values, label= '2020')\n",
        "plt.plot(Mes['2021'].values, label = '2021')\n",
        "\n",
        "plt.legend()"
      ],
      "execution_count": 599,
      "outputs": [
        {
          "output_type": "execute_result",
          "data": {
            "text/plain": [
              "<matplotlib.legend.Legend at 0x7f4e33ebfe50>"
            ]
          },
          "metadata": {},
          "execution_count": 599
        },
        {
          "output_type": "display_data",
          "data": {
            "image/png": "[encoded data removed]",
            "text/plain": [
              "<Figure size 1080x576 with 1 Axes>"
            ]
          },
          "metadata": {
            "needs_background": "light"
          }
        }
      ]
    },
    {
      "cell_type": "code",
      "metadata": {
        "colab": {
          "base_uri": "https://localhost:8080/",
          "height": 501
        },
        "id": "3B-L6n0p2a-R",
        "outputId": "80400b99-c076-49c3-bd85-513bed33ff88"
      },
      "source": [
        "# Vacaciones mitad de año\n",
        "Va2020 = S['2020-06-01':'2020-08-01']\n",
        "Va2021 = S['2021-06-01':'2021-08-01']\n",
        "\n",
        "plt.figure(figsize = (15,8))\n",
        "\n",
        "plt.plot(Va2020.values, label= '2020')\n",
        "plt.plot(Va2021.values, label = '2021')\n",
        "\n",
        "plt.legend()"
      ],
      "execution_count": 600,
      "outputs": [
        {
          "output_type": "execute_result",
          "data": {
            "text/plain": [
              "<matplotlib.legend.Legend at 0x7f4e33a82bd0>"
            ]
          },
          "metadata": {},
          "execution_count": 600
        },
        {
          "output_type": "display_data",
          "data": {
            "image/png": "[encoded data removed]",
            "text/plain": [
              "<Figure size 1080x576 with 1 Axes>"
            ]
          },
          "metadata": {
            "needs_background": "light"
          }
        }
      ]
    },
    {
      "cell_type": "code",
      "metadata": {
        "colab": {
          "base_uri": "https://localhost:8080/",
          "height": 501
        },
        "id": "9NnWoORE3ERi",
        "outputId": "e736148a-7e32-4eaf-91fb-1ab23c75e589"
      },
      "source": [
        "# Semana Santa\n",
        "SemS2020 = S['2020-04-05':'2020-04-11']\n",
        "SemS2021 = S['2021-03-28':'2021-04-03']\n",
        "\n",
        "plt.figure(figsize = (15,8))\n",
        "\n",
        "plt.plot(SemS2020.values, label= '2020', color = 'red')\n",
        "plt.plot(SemS2021.values, label = '2021')\n",
        "\n",
        "plt.legend()"
      ],
      "execution_count": 604,
      "outputs": [
        {
          "output_type": "execute_result",
          "data": {
            "text/plain": [
              "<matplotlib.legend.Legend at 0x7f4e3095f590>"
            ]
          },
          "metadata": {},
          "execution_count": 604
        },
        {
          "output_type": "display_data",
          "data": {
            "image/png": "[encoded data removed]",
            "text/plain": [
              "<Figure size 1080x576 with 1 Axes>"
            ]
          },
          "metadata": {
            "needs_background": "light"
          }
        }
      ]
    },
    {
      "cell_type": "code",
      "metadata": {
        "colab": {
          "base_uri": "https://localhost:8080/",
          "height": 517
        },
        "id": "XE8w9fL74XUf",
        "outputId": "a100a461-6085-42b3-f511-a6795b68a1e7"
      },
      "source": [
        "# Cuarentena en Bogotá\n",
        "fig, ax = plt.subplots(1,1, figsize = (15,8))\n",
        "ax.plot(S['Casos'][:625], color = 'Green')\n",
        "ax.axvspan(pd.Timestamp('2020-03-25'),pd.Timestamp('2020-09-01'), alpha = 0.2, color = 'Blue', label = 'Cuarentena')\n",
        "ax.set_title('Cuarentena')\n",
        "\n",
        "plt.legend()"
      ],
      "execution_count": 615,
      "outputs": [
        {
          "output_type": "execute_result",
          "data": {
            "text/plain": [
              "<matplotlib.legend.Legend at 0x7f4e2b27f1d0>"
            ]
          },
          "metadata": {},
          "execution_count": 615
        },
        {
          "output_type": "display_data",
          "data": {
            "image/png": "[encoded data removed]",
            "text/plain": [
              "<Figure size 1080x576 with 1 Axes>"
            ]
          },
          "metadata": {
            "needs_background": "light"
          }
        }
      ]
    },
    {
      "cell_type": "code",
      "metadata": {
        "colab": {
          "base_uri": "https://localhost:8080/",
          "height": 517
        },
        "id": "GjxtnB4x7qvz",
        "outputId": "910dcd24-676d-4a68-fb97-54628cdf0197"
      },
      "source": [
        "fig, ax = plt.subplots(1,1, figsize = (15,8))\n",
        "ax.plot(S['Casos'][:625], color = 'Green')\n",
        "ax.axvspan(pd.Timestamp('2021-04-01'),pd.Timestamp('2021-08-01'), alpha = 0.2, color = 'Blue', label = 'Mayor pico de contagio')\n",
        "ax.set_title('Mayor pico de contagio')\n",
        "\n",
        "plt.legend()"
      ],
      "execution_count": 617,
      "outputs": [
        {
          "output_type": "execute_result",
          "data": {
            "text/plain": [
              "<matplotlib.legend.Legend at 0x7f4e2adc82d0>"
            ]
          },
          "metadata": {},
          "execution_count": 617
        },
        {
          "output_type": "display_data",
          "data": {
            "image/png": "[encoded data removed]",
            "text/plain": [
              "<Figure size 1080x576 with 1 Axes>"
            ]
          },
          "metadata": {
            "needs_background": "light"
          }
        }
      ]
    },
    {
      "cell_type": "code",
      "metadata": {
        "colab": {
          "base_uri": "https://localhost:8080/",
          "height": 517
        },
        "id": "7IOXWbaA78HU",
        "outputId": "f1183083-742e-4a8c-b7de-a22de0993a68"
      },
      "source": [
        "fig, ax = plt.subplots(1,1, figsize = (15,8))\n",
        "ax.plot(S['Casos'][:625], color = 'Green')\n",
        "ax.axvspan(pd.Timestamp('2021-04-01'),pd.Timestamp('2021-08-01'), alpha = 0.2, color = 'Blue', label = 'Oleadas')\n",
        "ax.axvspan(pd.Timestamp('2020-12-01'),pd.Timestamp('2021-02-01'), alpha = 0.2, color = 'Blue')\n",
        "ax.axvspan(pd.Timestamp('2020-06-20'),pd.Timestamp('2020-09-06'), alpha = 0.2, color = 'Blue')\n",
        "ax.set_title('Oleadas de contagio')\n",
        "\n",
        "plt.legend()"
      ],
      "execution_count": 625,
      "outputs": [
        {
          "output_type": "execute_result",
          "data": {
            "text/plain": [
              "<matplotlib.legend.Legend at 0x7f4e27b16fd0>"
            ]
          },
          "metadata": {},
          "execution_count": 625
        },
        {
          "output_type": "display_data",
          "data": {
            "image/png": "[encoded data removed]",
            "text/plain": [
              "<Figure size 1080x576 with 1 Axes>"
            ]
          },
          "metadata": {
            "needs_background": "light"
          }
        }
      ]
    },
    {
      "cell_type": "code",
      "metadata": {
        "id": "OJHA5ANM7-dT"
      },
      "source": [
        ""
      ],
      "execution_count": null,
      "outputs": []
    },
    {
      "cell_type": "markdown",
      "metadata": {
        "id": "HC2JIRTxO4GS"
      },
      "source": [
        "## **Predicción**"
      ]
    },
    {
      "cell_type": "code",
      "metadata": {
        "id": "XoSJmpQs14Cb"
      },
      "source": [
        "\n",
        "import seaborn as sns\n",
        "import tensorflow as tf\n",
        "from tensorflow import keras \n",
        "from tensorflow. keras.preprocessing.sequence import TimeseriesGenerator"
      ],
      "execution_count": null,
      "outputs": []
    },
    {
      "cell_type": "markdown",
      "metadata": {
        "id": "kqRUDi7uLQ54"
      },
      "source": [
        ""
      ]
    },
    {
      "cell_type": "code",
      "metadata": {
        "id": "pVncsWbbARtP"
      },
      "source": [
        "#X = S['Casos'];X\n",
        "#X_train = X[:500]\n",
        "#X_test = X[500:623]\n",
        "#X_pron = X[623:]\n",
        "\n",
        "S = np.array(S['Casos'].values)"
      ],
      "execution_count": 409,
      "outputs": []
    },
    {
      "cell_type": "code",
      "metadata": {
        "id": "lXnkaaoyQsEP"
      },
      "source": [
        "genera = TimeseriesGenerator(S,S,length = 8, batch_size = 12)"
      ],
      "execution_count": 410,
      "outputs": []
    },
    {
      "cell_type": "code",
      "metadata": {
        "id": "9HNSLdM311bJ"
      },
      "source": [
        "mod = tf.keras.models.Sequential()\n",
        "mod.add(tf.keras.Input(shape = (8,)))\n",
        "#mod.add(tf.keras.layers.Dense(16, activation = 'linear'))\n",
        "#mod.add(tf.keras.layers.Dense(8, activation = 'linear'))\n",
        "mod.add(tf.keras.layers.Dense(4, activation = 'linear'))\n",
        "mod.add(tf.keras.layers.Dense(2, activation = 'linear'))\n",
        "mod.add(tf.keras.layers.Dense(1, activation = 'linear'))\n",
        "\n"
      ],
      "execution_count": 411,
      "outputs": []
    },
    {
      "cell_type": "code",
      "metadata": {
        "colab": {
          "base_uri": "https://localhost:8080/",
          "height": 422
        },
        "id": "fGvIKNss3l19",
        "outputId": "3840ddda-d8a7-47f4-c08e-516de174e621"
      },
      "source": [
        "tf.keras.utils.plot_model(mod, show_shapes = True)"
      ],
      "execution_count": 412,
      "outputs": [
        {
          "output_type": "execute_result",
          "data": {
            "image/png": "[encoded data removed]",
            "text/plain": [
              "<IPython.core.display.Image object>"
            ]
          },
          "metadata": {},
          "execution_count": 412
        }
      ]
    },
    {
      "cell_type": "code",
      "metadata": {
        "id": "EFsVgWHp3t8d"
      },
      "source": [
        "mod.compile(loss = 'mse', optimizer = 'adam')"
      ],
      "execution_count": 413,
      "outputs": []
    },
    {
      "cell_type": "code",
      "metadata": {
        "colab": {
          "base_uri": "https://localhost:8080/"
        },
        "id": "tycjrsUE36Z-",
        "outputId": "5963411b-94bc-4d40-c014-85243af3b05e"
      },
      "source": [
        "mod.fit_generator(genera, epochs = 100)"
      ],
      "execution_count": 414,
      "outputs": [
        {
          "output_type": "stream",
          "name": "stderr",
          "text": [
            "/usr/local/lib/python3.7/dist-packages/ipykernel_launcher.py:1: UserWarning: `Model.fit_generator` is deprecated and will be removed in a future version. Please use `Model.fit`, which supports generators.\n",
            "  \"\"\"Entry point for launching an IPython kernel.\n"
          ]
        },
        {
          "output_type": "stream",
          "name": "stdout",
          "text": [
            "Epoch 1/100\n",
            "52/52 [==============================] - 0s 2ms/step - loss: 1266590.0000\n",
            "Epoch 2/100\n",
            "52/52 [==============================] - 0s 1ms/step - loss: 1208900.6250\n",
            "Epoch 3/100\n",
            "52/52 [==============================] - 0s 2ms/step - loss: 1164373.5000\n",
            "Epoch 4/100\n",
            "52/52 [==============================] - 0s 1ms/step - loss: 1119200.0000\n",
            "Epoch 5/100\n",
            "52/52 [==============================] - 0s 2ms/step - loss: 1156275.6250\n",
            "Epoch 6/100\n",
            "52/52 [==============================] - 0s 1ms/step - loss: 1129933.3750\n",
            "Epoch 7/100\n",
            "52/52 [==============================] - 0s 1ms/step - loss: 1070792.5000\n",
            "Epoch 8/100\n",
            "52/52 [==============================] - 0s 2ms/step - loss: 1061814.2500\n",
            "Epoch 9/100\n",
            "52/52 [==============================] - 0s 1ms/step - loss: 1075592.3750\n",
            "Epoch 10/100\n",
            "52/52 [==============================] - 0s 1ms/step - loss: 1027964.1250\n",
            "Epoch 11/100\n",
            "52/52 [==============================] - 0s 1ms/step - loss: 1002256.7500\n",
            "Epoch 12/100\n",
            "52/52 [==============================] - 0s 1ms/step - loss: 994649.3125\n",
            "Epoch 13/100\n",
            "52/52 [==============================] - 0s 1ms/step - loss: 985489.5000\n",
            "Epoch 14/100\n",
            "52/52 [==============================] - 0s 1ms/step - loss: 974722.8125\n",
            "Epoch 15/100\n",
            "52/52 [==============================] - 0s 1ms/step - loss: 955229.5625\n",
            "Epoch 16/100\n",
            "52/52 [==============================] - 0s 2ms/step - loss: 950562.8750\n",
            "Epoch 17/100\n",
            "52/52 [==============================] - 0s 2ms/step - loss: 932096.1875\n",
            "Epoch 18/100\n",
            "52/52 [==============================] - 0s 2ms/step - loss: 925517.5000\n",
            "Epoch 19/100\n",
            "52/52 [==============================] - 0s 1ms/step - loss: 955528.7500\n",
            "Epoch 20/100\n",
            "52/52 [==============================] - 0s 2ms/step - loss: 923269.9375\n",
            "Epoch 21/100\n",
            "52/52 [==============================] - 0s 1ms/step - loss: 910689.6875\n",
            "Epoch 22/100\n",
            "52/52 [==============================] - 0s 1ms/step - loss: 886270.3125\n",
            "Epoch 23/100\n",
            "52/52 [==============================] - 0s 2ms/step - loss: 897499.0625\n",
            "Epoch 24/100\n",
            "52/52 [==============================] - 0s 1ms/step - loss: 890603.8125\n",
            "Epoch 25/100\n",
            "52/52 [==============================] - 0s 2ms/step - loss: 876898.1250\n",
            "Epoch 26/100\n",
            "52/52 [==============================] - 0s 1ms/step - loss: 906776.0625\n",
            "Epoch 27/100\n",
            "52/52 [==============================] - 0s 1ms/step - loss: 866767.4375\n",
            "Epoch 28/100\n",
            "52/52 [==============================] - 0s 1ms/step - loss: 869455.3125\n",
            "Epoch 29/100\n",
            "52/52 [==============================] - 0s 1ms/step - loss: 872204.0000\n",
            "Epoch 30/100\n",
            "52/52 [==============================] - 0s 1ms/step - loss: 845025.6875\n",
            "Epoch 31/100\n",
            "52/52 [==============================] - 0s 1ms/step - loss: 846909.0625\n",
            "Epoch 32/100\n",
            "52/52 [==============================] - 0s 1ms/step - loss: 843803.3125\n",
            "Epoch 33/100\n",
            "52/52 [==============================] - 0s 2ms/step - loss: 858399.9375\n",
            "Epoch 34/100\n",
            "52/52 [==============================] - 0s 1ms/step - loss: 860200.5000\n",
            "Epoch 35/100\n",
            "52/52 [==============================] - 0s 1ms/step - loss: 830844.5625\n",
            "Epoch 36/100\n",
            "52/52 [==============================] - 0s 2ms/step - loss: 830013.0000\n",
            "Epoch 37/100\n",
            "52/52 [==============================] - 0s 2ms/step - loss: 831002.8750\n",
            "Epoch 38/100\n",
            "52/52 [==============================] - 0s 1ms/step - loss: 807970.6250\n",
            "Epoch 39/100\n",
            "52/52 [==============================] - 0s 1ms/step - loss: 824281.0000\n",
            "Epoch 40/100\n",
            "52/52 [==============================] - 0s 1ms/step - loss: 816490.1250\n",
            "Epoch 41/100\n",
            "52/52 [==============================] - 0s 1ms/step - loss: 829241.0000\n",
            "Epoch 42/100\n",
            "52/52 [==============================] - 0s 1ms/step - loss: 820216.9375\n",
            "Epoch 43/100\n",
            "52/52 [==============================] - 0s 2ms/step - loss: 795992.3750\n",
            "Epoch 44/100\n",
            "52/52 [==============================] - 0s 1ms/step - loss: 817488.0000\n",
            "Epoch 45/100\n",
            "52/52 [==============================] - 0s 1ms/step - loss: 809587.7500\n",
            "Epoch 46/100\n",
            "52/52 [==============================] - 0s 2ms/step - loss: 814940.8750\n",
            "Epoch 47/100\n",
            "52/52 [==============================] - 0s 1ms/step - loss: 804949.3125\n",
            "Epoch 48/100\n",
            "52/52 [==============================] - 0s 1ms/step - loss: 793329.3750\n",
            "Epoch 49/100\n",
            "52/52 [==============================] - 0s 2ms/step - loss: 787822.5000\n",
            "Epoch 50/100\n",
            "52/52 [==============================] - 0s 1ms/step - loss: 789860.2500\n",
            "Epoch 51/100\n",
            "52/52 [==============================] - 0s 2ms/step - loss: 794181.5000\n",
            "Epoch 52/100\n",
            "52/52 [==============================] - 0s 2ms/step - loss: 785723.0000\n",
            "Epoch 53/100\n",
            "52/52 [==============================] - 0s 2ms/step - loss: 785593.6250\n",
            "Epoch 54/100\n",
            "52/52 [==============================] - 0s 1ms/step - loss: 802288.6875\n",
            "Epoch 55/100\n",
            "52/52 [==============================] - 0s 1ms/step - loss: 776549.4375\n",
            "Epoch 56/100\n",
            "52/52 [==============================] - 0s 2ms/step - loss: 779103.0000\n",
            "Epoch 57/100\n",
            "52/52 [==============================] - 0s 1ms/step - loss: 768420.6250\n",
            "Epoch 58/100\n",
            "52/52 [==============================] - 0s 1ms/step - loss: 771994.6875\n",
            "Epoch 59/100\n",
            "52/52 [==============================] - 0s 1ms/step - loss: 770045.0625\n",
            "Epoch 60/100\n",
            "52/52 [==============================] - 0s 1ms/step - loss: 767921.0625\n",
            "Epoch 61/100\n",
            "52/52 [==============================] - 0s 1ms/step - loss: 760435.1250\n",
            "Epoch 62/100\n",
            "52/52 [==============================] - 0s 1ms/step - loss: 774934.8125\n",
            "Epoch 63/100\n",
            "52/52 [==============================] - 0s 2ms/step - loss: 790808.4375\n",
            "Epoch 64/100\n",
            "52/52 [==============================] - 0s 1ms/step - loss: 776178.2500\n",
            "Epoch 65/100\n",
            "52/52 [==============================] - 0s 1ms/step - loss: 761200.9375\n",
            "Epoch 66/100\n",
            "52/52 [==============================] - 0s 1ms/step - loss: 771660.8750\n",
            "Epoch 67/100\n",
            "52/52 [==============================] - 0s 2ms/step - loss: 751562.6875\n",
            "Epoch 68/100\n",
            "52/52 [==============================] - 0s 2ms/step - loss: 754858.3750\n",
            "Epoch 69/100\n",
            "52/52 [==============================] - 0s 2ms/step - loss: 767563.3125\n",
            "Epoch 70/100\n",
            "52/52 [==============================] - 0s 2ms/step - loss: 758649.3125\n",
            "Epoch 71/100\n",
            "52/52 [==============================] - 0s 2ms/step - loss: 756248.4375\n",
            "Epoch 72/100\n",
            "52/52 [==============================] - 0s 1ms/step - loss: 761108.2500\n",
            "Epoch 73/100\n",
            "52/52 [==============================] - 0s 2ms/step - loss: 737926.2500\n",
            "Epoch 74/100\n",
            "52/52 [==============================] - 0s 1ms/step - loss: 768893.3750\n",
            "Epoch 75/100\n",
            "52/52 [==============================] - 0s 2ms/step - loss: 742953.8750\n",
            "Epoch 76/100\n",
            "52/52 [==============================] - 0s 1ms/step - loss: 746865.5000\n",
            "Epoch 77/100\n",
            "52/52 [==============================] - 0s 2ms/step - loss: 742386.5625\n",
            "Epoch 78/100\n",
            "52/52 [==============================] - 0s 2ms/step - loss: 739843.1250\n",
            "Epoch 79/100\n",
            "52/52 [==============================] - 0s 2ms/step - loss: 738875.2500\n",
            "Epoch 80/100\n",
            "52/52 [==============================] - 0s 2ms/step - loss: 743229.6250\n",
            "Epoch 81/100\n",
            "52/52 [==============================] - 0s 2ms/step - loss: 738740.8750\n",
            "Epoch 82/100\n",
            "52/52 [==============================] - 0s 1ms/step - loss: 736629.5000\n",
            "Epoch 83/100\n",
            "52/52 [==============================] - 0s 1ms/step - loss: 732884.3750\n",
            "Epoch 84/100\n",
            "52/52 [==============================] - 0s 2ms/step - loss: 746125.2500\n",
            "Epoch 85/100\n",
            "52/52 [==============================] - 0s 2ms/step - loss: 748358.8125\n",
            "Epoch 86/100\n",
            "52/52 [==============================] - 0s 2ms/step - loss: 735006.9375\n",
            "Epoch 87/100\n",
            "52/52 [==============================] - 0s 1ms/step - loss: 743399.2500\n",
            "Epoch 88/100\n",
            "52/52 [==============================] - 0s 2ms/step - loss: 729612.2500\n",
            "Epoch 89/100\n",
            "52/52 [==============================] - 0s 2ms/step - loss: 741312.9375\n",
            "Epoch 90/100\n",
            "52/52 [==============================] - 0s 2ms/step - loss: 734741.4375\n",
            "Epoch 91/100\n",
            "52/52 [==============================] - 0s 2ms/step - loss: 724320.5000\n",
            "Epoch 92/100\n",
            "52/52 [==============================] - 0s 1ms/step - loss: 739808.1875\n",
            "Epoch 93/100\n",
            "52/52 [==============================] - 0s 1ms/step - loss: 737641.4375\n",
            "Epoch 94/100\n",
            "52/52 [==============================] - 0s 1ms/step - loss: 736419.1250\n",
            "Epoch 95/100\n",
            "52/52 [==============================] - 0s 2ms/step - loss: 739642.3125\n",
            "Epoch 96/100\n",
            "52/52 [==============================] - 0s 1ms/step - loss: 709965.2500\n",
            "Epoch 97/100\n",
            "52/52 [==============================] - 0s 1ms/step - loss: 715936.6875\n",
            "Epoch 98/100\n",
            "52/52 [==============================] - 0s 2ms/step - loss: 723608.3750\n",
            "Epoch 99/100\n",
            "52/52 [==============================] - 0s 2ms/step - loss: 733731.1250\n",
            "Epoch 100/100\n",
            "52/52 [==============================] - 0s 2ms/step - loss: 722298.0000\n"
          ]
        },
        {
          "output_type": "execute_result",
          "data": {
            "text/plain": [
              "<keras.callbacks.History at 0x7f4dfc4f1d90>"
            ]
          },
          "metadata": {},
          "execution_count": 414
        }
      ]
    },
    {
      "cell_type": "code",
      "metadata": {
        "id": "9qKaQ4V64F1F",
        "colab": {
          "base_uri": "https://localhost:8080/"
        },
        "outputId": "8959a528-db9d-4816-8f08-9787da35565c"
      },
      "source": [
        "print(mod.summary())"
      ],
      "execution_count": 415,
      "outputs": [
        {
          "output_type": "stream",
          "name": "stdout",
          "text": [
            "Model: \"sequential_30\"\n",
            "_________________________________________________________________\n",
            " Layer (type)                Output Shape              Param #   \n",
            "=================================================================\n",
            " dense_89 (Dense)            (None, 4)                 36        \n",
            "                                                                 \n",
            " dense_90 (Dense)            (None, 2)                 10        \n",
            "                                                                 \n",
            " dense_91 (Dense)            (None, 1)                 3         \n",
            "                                                                 \n",
            "=================================================================\n",
            "Total params: 49\n",
            "Trainable params: 49\n",
            "Non-trainable params: 0\n",
            "_________________________________________________________________\n",
            "None\n"
          ]
        }
      ]
    },
    {
      "cell_type": "code",
      "metadata": {
        "colab": {
          "base_uri": "https://localhost:8080/"
        },
        "id": "ldbiof3TFiiQ",
        "outputId": "6da6ea08-f9c0-42a9-c853-f3b66601586e"
      },
      "source": [
        "y_pred_mod = mod.predict_generator(genera)"
      ],
      "execution_count": 416,
      "outputs": [
        {
          "output_type": "stream",
          "name": "stderr",
          "text": [
            "/usr/local/lib/python3.7/dist-packages/ipykernel_launcher.py:1: UserWarning: `Model.predict_generator` is deprecated and will be removed in a future version. Please use `Model.predict`, which supports generators.\n",
            "  \"\"\"Entry point for launching an IPython kernel.\n"
          ]
        }
      ]
    },
    {
      "cell_type": "code",
      "metadata": {
        "colab": {
          "base_uri": "https://localhost:8080/",
          "height": 501
        },
        "id": "hG35dqi0GoEn",
        "outputId": "eecf1575-59c3-47b9-940f-7847a399e419"
      },
      "source": [
        "plt.figure(figsize = (14,8))\n",
        "\n",
        "plt.plot(S[8:])\n",
        "plt.plot(y_pred_mod)"
      ],
      "execution_count": 417,
      "outputs": [
        {
          "output_type": "execute_result",
          "data": {
            "text/plain": [
              "[<matplotlib.lines.Line2D at 0x7f4dfd0a1ed0>]"
            ]
          },
          "metadata": {},
          "execution_count": 417
        },
        {
          "output_type": "display_data",
          "data": {
            "image/png": "[encoded data removed]",
            "text/plain": [
              "<Figure size 1008x576 with 1 Axes>"
            ]
          },
          "metadata": {
            "needs_background": "light"
          }
        }
      ]
    },
    {
      "cell_type": "code",
      "metadata": {
        "colab": {
          "base_uri": "https://localhost:8080/",
          "height": 207
        },
        "id": "7iVqkHcaG6DB",
        "outputId": "57eef1b3-3711-464f-abbc-aa6b518b0546"
      },
      "source": [
        "#X = S['Casos']\n",
        "#X_train = X[:500]\n",
        "#X_test = X[500:623]\n",
        "#X_pron = X[623:]\n",
        "#history=mod.fit(X_train,Y_train,epochs=40,validation_data=(X_test,Y_test),batch_size=8)\n",
        "#result = []\n",
        "#for i in range(8):\n",
        "#    prop=mod.predict(X_test)\n",
        "#   results.append(prop[0])\n",
        "#  print(result)\n",
        "X_train , X_test, y_train, y_test = train_test_split(X,y,test_size = 0.25, random_state =35)"
      ],
      "execution_count": 675,
      "outputs": [
        {
          "output_type": "error",
          "ename": "NameError",
          "evalue": "ignored",
          "traceback": [
            "\u001b[0;31m---------------------------------------------------------------------------\u001b[0m",
            "\u001b[0;31mNameError\u001b[0m                                 Traceback (most recent call last)",
            "\u001b[0;32m<ipython-input-675-e76a0eafe20b>\u001b[0m in \u001b[0;36m<module>\u001b[0;34m()\u001b[0m\n\u001b[1;32m      9\u001b[0m \u001b[0;31m#   results.append(prop[0])\u001b[0m\u001b[0;34m\u001b[0m\u001b[0;34m\u001b[0m\u001b[0;34m\u001b[0m\u001b[0m\n\u001b[1;32m     10\u001b[0m \u001b[0;31m#  print(result)\u001b[0m\u001b[0;34m\u001b[0m\u001b[0;34m\u001b[0m\u001b[0;34m\u001b[0m\u001b[0m\n\u001b[0;32m---> 11\u001b[0;31m \u001b[0mX_train\u001b[0m \u001b[0;34m,\u001b[0m \u001b[0mX_test\u001b[0m\u001b[0;34m,\u001b[0m \u001b[0my_train\u001b[0m\u001b[0;34m,\u001b[0m \u001b[0my_test\u001b[0m \u001b[0;34m=\u001b[0m \u001b[0mtrain_test_split\u001b[0m\u001b[0;34m(\u001b[0m\u001b[0mX\u001b[0m\u001b[0;34m,\u001b[0m\u001b[0my\u001b[0m\u001b[0;34m,\u001b[0m\u001b[0mtest_size\u001b[0m \u001b[0;34m=\u001b[0m \u001b[0;36m0.25\u001b[0m\u001b[0;34m,\u001b[0m \u001b[0mrandom_state\u001b[0m \u001b[0;34m=\u001b[0m\u001b[0;36m35\u001b[0m\u001b[0;34m)\u001b[0m\u001b[0;34m\u001b[0m\u001b[0;34m\u001b[0m\u001b[0m\n\u001b[0m",
            "\u001b[0;31mNameError\u001b[0m: name 'train_test_split' is not defined"
          ]
        }
      ]
    },
    {
      "cell_type": "code",
      "metadata": {
        "colab": {
          "base_uri": "https://localhost:8080/"
        },
        "id": "JbQCQvsfrTa4",
        "outputId": "3a068f24-787b-4616-846f-27ce490b5c71"
      },
      "source": [
        "X_test"
      ],
      "execution_count": 447,
      "outputs": [
        {
          "output_type": "execute_result",
          "data": {
            "text/plain": [
              "Date\n",
              "2021-07-23    3825\n",
              "2021-07-24    2680\n",
              "2021-07-25    2870\n",
              "2021-07-26    1766\n",
              "2021-07-27    2742\n",
              "              ... \n",
              "2021-11-18     267\n",
              "2021-11-19     355\n",
              "2021-11-20     347\n",
              "2021-11-21     331\n",
              "2021-11-22     237\n",
              "Name: Casos, Length: 123, dtype: int64"
            ]
          },
          "metadata": {},
          "execution_count": 447
        }
      ]
    },
    {
      "cell_type": "markdown",
      "metadata": {
        "id": "SaGRerGiWmZp"
      },
      "source": [
        "# Pronostico 2"
      ]
    },
    {
      "cell_type": "code",
      "metadata": {
        "id": "iKK8qawhW0_L"
      },
      "source": [
        "\n",
        "from sklearn import metrics\n",
        "from sklearn.preprocessing import StandardScaler"
      ],
      "execution_count": 316,
      "outputs": []
    },
    {
      "cell_type": "code",
      "metadata": {
        "colab": {
          "base_uri": "https://localhost:8080/",
          "height": 134
        },
        "id": "cxNHWZT2Xsdg",
        "outputId": "86af4ee0-697b-4aca-c54a-5aac679bec0e"
      },
      "source": [
        "X = S['Casos'];X\n",
        "#Y = S['Casos']"
      ],
      "execution_count": 332,
      "outputs": [
        {
          "output_type": "error",
          "ename": "SyntaxError",
          "evalue": "ignored",
          "traceback": [
            "\u001b[0;36m  File \u001b[0;32m\"<ipython-input-332-b0a681a14177>\"\u001b[0;36m, line \u001b[0;32m1\u001b[0m\n\u001b[0;31m    X = S.['Casos'];X\u001b[0m\n\u001b[0m          ^\u001b[0m\n\u001b[0;31mSyntaxError\u001b[0m\u001b[0;31m:\u001b[0m invalid syntax\n"
          ]
        }
      ]
    },
    {
      "cell_type": "code",
      "metadata": {
        "id": "gdXPlVcnWpUq"
      },
      "source": [
        "  X_train = X[:500]\n",
        "  X_test = X[500:623]\n",
        "  X_pron = X[623:]"
      ],
      "execution_count": 317,
      "outputs": []
    },
    {
      "cell_type": "code",
      "metadata": {
        "id": "F1QAgPaQXUQj"
      },
      "source": [
        "def modelo2():\n",
        "    mod = Sequential() \n",
        "    mod.add(Dense(8, input_shape=(1,8),activation='linear'))\n",
        "    mod.add(Flatten())\n",
        "    mod.add(Dense(1, activation='linear'))\n",
        "    mod.compile(loss='mse',optimizer='Adam')\n",
        "    mod.summary()\n",
        "    return mod"
      ],
      "execution_count": 319,
      "outputs": []
    },
    {
      "cell_type": "code",
      "metadata": {
        "colab": {
          "base_uri": "https://localhost:8080/"
        },
        "id": "03hSNtJ-XUnV",
        "outputId": "69aa14ef-92c4-4288-93d4-9ed6c752bde2"
      },
      "source": [
        "mod = modelo2()"
      ],
      "execution_count": 322,
      "outputs": [
        {
          "output_type": "stream",
          "name": "stdout",
          "text": [
            "Model: \"sequential_22\"\n",
            "_________________________________________________________________\n",
            " Layer (type)                Output Shape              Param #   \n",
            "=================================================================\n",
            " dense_66 (Dense)            (None, 1, 8)              72        \n",
            "                                                                 \n",
            " flatten (Flatten)           (None, 8)                 0         \n",
            "                                                                 \n",
            " dense_67 (Dense)            (None, 1)                 9         \n",
            "                                                                 \n",
            "=================================================================\n",
            "Total params: 81\n",
            "Trainable params: 81\n",
            "Non-trainable params: 0\n",
            "_________________________________________________________________\n"
          ]
        }
      ]
    },
    {
      "cell_type": "code",
      "metadata": {
        "colab": {
          "base_uri": "https://localhost:8080/",
          "height": 340
        },
        "id": "DkeRRD2Xgvdr",
        "outputId": "5b846f32-093a-481f-9f29-9ef0c28fc49e"
      },
      "source": [
        "\n",
        "history=mod.fit(X_train,Y_train,epochs=40,validation_data=(X_test,Y_test),batch_size=8)"
      ],
      "execution_count": 325,
      "outputs": [
        {
          "output_type": "error",
          "ename": "ValueError",
          "evalue": "ignored",
          "traceback": [
            "\u001b[0;31m---------------------------------------------------------------------------\u001b[0m",
            "\u001b[0;31mValueError\u001b[0m                                Traceback (most recent call last)",
            "\u001b[0;32m<ipython-input-325-994f0f95ec26>\u001b[0m in \u001b[0;36m<module>\u001b[0;34m()\u001b[0m\n\u001b[1;32m      1\u001b[0m \u001b[0;34m\u001b[0m\u001b[0m\n\u001b[0;32m----> 2\u001b[0;31m \u001b[0mhistory\u001b[0m\u001b[0;34m=\u001b[0m\u001b[0mmod\u001b[0m\u001b[0;34m.\u001b[0m\u001b[0mfit\u001b[0m\u001b[0;34m(\u001b[0m\u001b[0mX_train\u001b[0m\u001b[0;34m,\u001b[0m\u001b[0mY_train\u001b[0m\u001b[0;34m,\u001b[0m\u001b[0mepochs\u001b[0m\u001b[0;34m=\u001b[0m\u001b[0;36m40\u001b[0m\u001b[0;34m,\u001b[0m\u001b[0mvalidation_data\u001b[0m\u001b[0;34m=\u001b[0m\u001b[0;34m(\u001b[0m\u001b[0mX_test\u001b[0m\u001b[0;34m,\u001b[0m\u001b[0mY_test\u001b[0m\u001b[0;34m)\u001b[0m\u001b[0;34m,\u001b[0m\u001b[0mbatch_size\u001b[0m\u001b[0;34m=\u001b[0m\u001b[0;36m8\u001b[0m\u001b[0;34m)\u001b[0m\u001b[0;34m\u001b[0m\u001b[0;34m\u001b[0m\u001b[0m\n\u001b[0m",
            "\u001b[0;32m/usr/local/lib/python3.7/dist-packages/keras/utils/traceback_utils.py\u001b[0m in \u001b[0;36merror_handler\u001b[0;34m(*args, **kwargs)\u001b[0m\n\u001b[1;32m     65\u001b[0m     \u001b[0;32mexcept\u001b[0m \u001b[0mException\u001b[0m \u001b[0;32mas\u001b[0m \u001b[0me\u001b[0m\u001b[0;34m:\u001b[0m  \u001b[0;31m# pylint: disable=broad-except\u001b[0m\u001b[0;34m\u001b[0m\u001b[0;34m\u001b[0m\u001b[0m\n\u001b[1;32m     66\u001b[0m       \u001b[0mfiltered_tb\u001b[0m \u001b[0;34m=\u001b[0m \u001b[0m_process_traceback_frames\u001b[0m\u001b[0;34m(\u001b[0m\u001b[0me\u001b[0m\u001b[0;34m.\u001b[0m\u001b[0m__traceback__\u001b[0m\u001b[0;34m)\u001b[0m\u001b[0;34m\u001b[0m\u001b[0;34m\u001b[0m\u001b[0m\n\u001b[0;32m---> 67\u001b[0;31m       \u001b[0;32mraise\u001b[0m \u001b[0me\u001b[0m\u001b[0;34m.\u001b[0m\u001b[0mwith_traceback\u001b[0m\u001b[0;34m(\u001b[0m\u001b[0mfiltered_tb\u001b[0m\u001b[0;34m)\u001b[0m \u001b[0;32mfrom\u001b[0m \u001b[0;32mNone\u001b[0m\u001b[0;34m\u001b[0m\u001b[0;34m\u001b[0m\u001b[0m\n\u001b[0m\u001b[1;32m     68\u001b[0m     \u001b[0;32mfinally\u001b[0m\u001b[0;34m:\u001b[0m\u001b[0;34m\u001b[0m\u001b[0;34m\u001b[0m\u001b[0m\n\u001b[1;32m     69\u001b[0m       \u001b[0;32mdel\u001b[0m \u001b[0mfiltered_tb\u001b[0m\u001b[0;34m\u001b[0m\u001b[0;34m\u001b[0m\u001b[0m\n",
            "\u001b[0;32m/usr/local/lib/python3.7/dist-packages/tensorflow/python/framework/constant_op.py\u001b[0m in \u001b[0;36mconvert_to_eager_tensor\u001b[0;34m(value, ctx, dtype)\u001b[0m\n\u001b[1;32m    104\u001b[0m       \u001b[0mdtype\u001b[0m \u001b[0;34m=\u001b[0m \u001b[0mdtypes\u001b[0m\u001b[0;34m.\u001b[0m\u001b[0mas_dtype\u001b[0m\u001b[0;34m(\u001b[0m\u001b[0mdtype\u001b[0m\u001b[0;34m)\u001b[0m\u001b[0;34m.\u001b[0m\u001b[0mas_datatype_enum\u001b[0m\u001b[0;34m\u001b[0m\u001b[0;34m\u001b[0m\u001b[0m\n\u001b[1;32m    105\u001b[0m   \u001b[0mctx\u001b[0m\u001b[0;34m.\u001b[0m\u001b[0mensure_initialized\u001b[0m\u001b[0;34m(\u001b[0m\u001b[0;34m)\u001b[0m\u001b[0;34m\u001b[0m\u001b[0;34m\u001b[0m\u001b[0m\n\u001b[0;32m--> 106\u001b[0;31m   \u001b[0;32mreturn\u001b[0m \u001b[0mops\u001b[0m\u001b[0;34m.\u001b[0m\u001b[0mEagerTensor\u001b[0m\u001b[0;34m(\u001b[0m\u001b[0mvalue\u001b[0m\u001b[0;34m,\u001b[0m \u001b[0mctx\u001b[0m\u001b[0;34m.\u001b[0m\u001b[0mdevice_name\u001b[0m\u001b[0;34m,\u001b[0m \u001b[0mdtype\u001b[0m\u001b[0;34m)\u001b[0m\u001b[0;34m\u001b[0m\u001b[0;34m\u001b[0m\u001b[0m\n\u001b[0m\u001b[1;32m    107\u001b[0m \u001b[0;34m\u001b[0m\u001b[0m\n\u001b[1;32m    108\u001b[0m \u001b[0;34m\u001b[0m\u001b[0m\n",
            "\u001b[0;31mValueError\u001b[0m: Failed to convert a NumPy array to a Tensor (Unsupported numpy type: NPY_DATETIME)."
          ]
        }
      ]
    },
    {
      "cell_type": "code",
      "metadata": {
        "id": "CqFEHU9xhITo"
      },
      "source": [
        ""
      ],
      "execution_count": null,
      "outputs": []
    }
  ]
}