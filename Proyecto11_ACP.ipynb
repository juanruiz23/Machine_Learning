{
  "nbformat": 4,
  "nbformat_minor": 0,
  "metadata": {
    "colab": {
      "name": "Proyecto11_ACP.ipynb",
      "provenance": [],
      "collapsed_sections": []
    },
    "kernelspec": {
      "name": "python3",
      "display_name": "Python 3"
    },
    "language_info": {
      "name": "python"
    }
  },
  "cells": [
    {
      "cell_type": "markdown",
      "metadata": {
        "id": "aa1djW7L8O6C"
      },
      "source": [
        "Yibby Daniela Gonzalez Forero\n",
        "\n",
        "Juan Sebastian Ruiz Caro"
      ]
    },
    {
      "cell_type": "markdown",
      "metadata": {
        "id": "UAIN8aMmDsGv"
      },
      "source": [
        "# Proyecto 11"
      ]
    },
    {
      "cell_type": "code",
      "metadata": {
        "id": "02OTpCtpDrcV"
      },
      "source": [
        "import numpy as np\n",
        "import pandas as pd"
      ],
      "execution_count": 1,
      "outputs": []
    },
    {
      "cell_type": "code",
      "metadata": {
        "id": "F66_nkQR8Or6"
      },
      "source": [
        "class ACP:\n",
        "  \n",
        "  def __init__(self, X, scale = True):\n",
        "    self.X = X\n",
        "    self.scale = scale\n",
        "    self.eigvecs = None \n",
        "\n",
        "  def inercia(self):\n",
        "    if self.scale == True:\n",
        "      X_scal = np.zeros(X.shape)\n",
        "      for j in range(X_scal.shape[1]):\n",
        "        X_scal[:,j] = (X[:,j] - X[:,j].mean())/X[:,j].std()\n",
        "      self.X = X_scal \n",
        "      \n",
        "    else: \n",
        "      self.X = self.X\n",
        "      \n",
        "    cov = self.X.T.dot(self.X)/(self.X.shape[0])\n",
        "    eigvals, self.eigvecs = np.linalg.eig(cov)\n",
        "    var_exp = {j:j/sum(eigvals) for j in eigvals}\n",
        "    m_inercia = pd.DataFrame({'eigvals':eigvals,\n",
        "                               'eigvals_acum': np.cumsum(eigvals),\n",
        "                               'var_exp': var_exp.values(),\n",
        "                               'v_expl_acum': np.cumsum(list(var_exp.values()))})\n",
        "    \n",
        "    return m_inercia.T\n",
        "  \n",
        "  def Proyecciones(self):\n",
        "    Names = ['0']*X.shape[1]\n",
        "    for j in range(1,X.shape[1] + 1):\n",
        "      Names[j-1] = 'ACP' + str(j)\n",
        "    proyeccion = self.X.dot(self.eigvecs[:,:self.X.shape[1]])\n",
        "    proyeccion = pd.DataFrame(proyeccion, columns = Names)\n",
        "    return proyeccion\n",
        "\n"
      ],
      "execution_count": 2,
      "outputs": []
    },
    {
      "cell_type": "markdown",
      "metadata": {
        "id": "gag30KqYq_yo"
      },
      "source": [
        "## Prueba"
      ]
    },
    {
      "cell_type": "code",
      "metadata": {
        "id": "5BJDWzD9rBdX"
      },
      "source": [
        "from sklearn.datasets import load_iris\n",
        "X = load_iris()['data']"
      ],
      "execution_count": 3,
      "outputs": []
    },
    {
      "cell_type": "code",
      "metadata": {
        "id": "n0yOamUirLvR"
      },
      "source": [
        "ACP_1 = ACP(X)"
      ],
      "execution_count": 4,
      "outputs": []
    },
    {
      "cell_type": "code",
      "metadata": {
        "colab": {
          "base_uri": "https://localhost:8080/",
          "height": 172
        },
        "id": "zjI3iKePrO3L",
        "outputId": "6933cf0a-cdbc-4900-d6ed-fa2b6e1c991c"
      },
      "source": [
        "ACP_1.inercia()"
      ],
      "execution_count": 5,
      "outputs": [
        {
          "output_type": "execute_result",
          "data": {
            "text/html": [
              "<div>\n",
              "<style scoped>\n",
              "    .dataframe tbody tr th:only-of-type {\n",
              "        vertical-align: middle;\n",
              "    }\n",
              "\n",
              "    .dataframe tbody tr th {\n",
              "        vertical-align: top;\n",
              "    }\n",
              "\n",
              "    .dataframe thead th {\n",
              "        text-align: right;\n",
              "    }\n",
              "</style>\n",
              "<table border=\"1\" class=\"dataframe\">\n",
              "  <thead>\n",
              "    <tr style=\"text-align: right;\">\n",
              "      <th></th>\n",
              "      <th>0</th>\n",
              "      <th>1</th>\n",
              "      <th>2</th>\n",
              "      <th>3</th>\n",
              "    </tr>\n",
              "  </thead>\n",
              "  <tbody>\n",
              "    <tr>\n",
              "      <th>eigvals</th>\n",
              "      <td>2.918498</td>\n",
              "      <td>0.914030</td>\n",
              "      <td>0.146757</td>\n",
              "      <td>0.020715</td>\n",
              "    </tr>\n",
              "    <tr>\n",
              "      <th>eigvals_acum</th>\n",
              "      <td>2.918498</td>\n",
              "      <td>3.832528</td>\n",
              "      <td>3.979285</td>\n",
              "      <td>4.000000</td>\n",
              "    </tr>\n",
              "    <tr>\n",
              "      <th>var_exp</th>\n",
              "      <td>0.729624</td>\n",
              "      <td>0.228508</td>\n",
              "      <td>0.036689</td>\n",
              "      <td>0.005179</td>\n",
              "    </tr>\n",
              "    <tr>\n",
              "      <th>v_expl_acum</th>\n",
              "      <td>0.729624</td>\n",
              "      <td>0.958132</td>\n",
              "      <td>0.994821</td>\n",
              "      <td>1.000000</td>\n",
              "    </tr>\n",
              "  </tbody>\n",
              "</table>\n",
              "</div>"
            ],
            "text/plain": [
              "                     0         1         2         3\n",
              "eigvals       2.918498  0.914030  0.146757  0.020715\n",
              "eigvals_acum  2.918498  3.832528  3.979285  4.000000\n",
              "var_exp       0.729624  0.228508  0.036689  0.005179\n",
              "v_expl_acum   0.729624  0.958132  0.994821  1.000000"
            ]
          },
          "metadata": {},
          "execution_count": 5
        }
      ]
    },
    {
      "cell_type": "code",
      "metadata": {
        "colab": {
          "base_uri": "https://localhost:8080/",
          "height": 417
        },
        "id": "S5RTXNiGrflV",
        "outputId": "416cae7a-f9e1-4008-8e67-69442bbc02a1"
      },
      "source": [
        "ACP_1.Proyecciones()"
      ],
      "execution_count": 6,
      "outputs": [
        {
          "output_type": "execute_result",
          "data": {
            "text/html": [
              "<div>\n",
              "<style scoped>\n",
              "    .dataframe tbody tr th:only-of-type {\n",
              "        vertical-align: middle;\n",
              "    }\n",
              "\n",
              "    .dataframe tbody tr th {\n",
              "        vertical-align: top;\n",
              "    }\n",
              "\n",
              "    .dataframe thead th {\n",
              "        text-align: right;\n",
              "    }\n",
              "</style>\n",
              "<table border=\"1\" class=\"dataframe\">\n",
              "  <thead>\n",
              "    <tr style=\"text-align: right;\">\n",
              "      <th></th>\n",
              "      <th>ACP1</th>\n",
              "      <th>ACP2</th>\n",
              "      <th>ACP3</th>\n",
              "      <th>ACP4</th>\n",
              "    </tr>\n",
              "  </thead>\n",
              "  <tbody>\n",
              "    <tr>\n",
              "      <th>0</th>\n",
              "      <td>-2.264703</td>\n",
              "      <td>-0.480027</td>\n",
              "      <td>-0.127706</td>\n",
              "      <td>0.024168</td>\n",
              "    </tr>\n",
              "    <tr>\n",
              "      <th>1</th>\n",
              "      <td>-2.080961</td>\n",
              "      <td>0.674134</td>\n",
              "      <td>-0.234609</td>\n",
              "      <td>0.103007</td>\n",
              "    </tr>\n",
              "    <tr>\n",
              "      <th>2</th>\n",
              "      <td>-2.364229</td>\n",
              "      <td>0.341908</td>\n",
              "      <td>0.044201</td>\n",
              "      <td>0.028377</td>\n",
              "    </tr>\n",
              "    <tr>\n",
              "      <th>3</th>\n",
              "      <td>-2.299384</td>\n",
              "      <td>0.597395</td>\n",
              "      <td>0.091290</td>\n",
              "      <td>-0.065956</td>\n",
              "    </tr>\n",
              "    <tr>\n",
              "      <th>4</th>\n",
              "      <td>-2.389842</td>\n",
              "      <td>-0.646835</td>\n",
              "      <td>0.015738</td>\n",
              "      <td>-0.035923</td>\n",
              "    </tr>\n",
              "    <tr>\n",
              "      <th>...</th>\n",
              "      <td>...</td>\n",
              "      <td>...</td>\n",
              "      <td>...</td>\n",
              "      <td>...</td>\n",
              "    </tr>\n",
              "    <tr>\n",
              "      <th>145</th>\n",
              "      <td>1.870503</td>\n",
              "      <td>-0.386966</td>\n",
              "      <td>0.256274</td>\n",
              "      <td>0.389257</td>\n",
              "    </tr>\n",
              "    <tr>\n",
              "      <th>146</th>\n",
              "      <td>1.564580</td>\n",
              "      <td>0.896687</td>\n",
              "      <td>-0.026371</td>\n",
              "      <td>0.220192</td>\n",
              "    </tr>\n",
              "    <tr>\n",
              "      <th>147</th>\n",
              "      <td>1.521170</td>\n",
              "      <td>-0.269069</td>\n",
              "      <td>0.180178</td>\n",
              "      <td>0.119171</td>\n",
              "    </tr>\n",
              "    <tr>\n",
              "      <th>148</th>\n",
              "      <td>1.372788</td>\n",
              "      <td>-1.011254</td>\n",
              "      <td>0.933395</td>\n",
              "      <td>0.026129</td>\n",
              "    </tr>\n",
              "    <tr>\n",
              "      <th>149</th>\n",
              "      <td>0.960656</td>\n",
              "      <td>0.024332</td>\n",
              "      <td>0.528249</td>\n",
              "      <td>-0.163078</td>\n",
              "    </tr>\n",
              "  </tbody>\n",
              "</table>\n",
              "<p>150 rows × 4 columns</p>\n",
              "</div>"
            ],
            "text/plain": [
              "         ACP1      ACP2      ACP3      ACP4\n",
              "0   -2.264703 -0.480027 -0.127706  0.024168\n",
              "1   -2.080961  0.674134 -0.234609  0.103007\n",
              "2   -2.364229  0.341908  0.044201  0.028377\n",
              "3   -2.299384  0.597395  0.091290 -0.065956\n",
              "4   -2.389842 -0.646835  0.015738 -0.035923\n",
              "..        ...       ...       ...       ...\n",
              "145  1.870503 -0.386966  0.256274  0.389257\n",
              "146  1.564580  0.896687 -0.026371  0.220192\n",
              "147  1.521170 -0.269069  0.180178  0.119171\n",
              "148  1.372788 -1.011254  0.933395  0.026129\n",
              "149  0.960656  0.024332  0.528249 -0.163078\n",
              "\n",
              "[150 rows x 4 columns]"
            ]
          },
          "metadata": {},
          "execution_count": 6
        }
      ]
    },
    {
      "cell_type": "code",
      "metadata": {
        "id": "sR69ab244OBg"
      },
      "source": [
        ""
      ],
      "execution_count": null,
      "outputs": []
    }
  ]
}