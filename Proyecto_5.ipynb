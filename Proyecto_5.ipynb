{
  "nbformat": 4,
  "nbformat_minor": 0,
  "metadata": {
    "colab": {
      "name": "Proyecto_5.ipynb",
      "provenance": [],
      "include_colab_link": true
    },
    "kernelspec": {
      "name": "python3",
      "display_name": "Python 3"
    },
    "language_info": {
      "name": "python"
    }
  },
  "cells": [
    {
      "cell_type": "markdown",
      "metadata": {
        "id": "view-in-github",
        "colab_type": "text"
      },
      "source": [
        "<a href=\"https://colab.research.google.com/github/juanruiz23/Machine_Learning/blob/main/Proyecto_5.ipynb\" target=\"_parent\"><img src=\"https://colab.research.google.com/assets/colab-badge.svg\" alt=\"Open In Colab\"/></a>"
      ]
    },
    {
      "cell_type": "markdown",
      "metadata": {
        "id": "R4-VXy3kh69m"
      },
      "source": [
        "# Proyecto 5\n",
        "\n",
        "*   Gonzalez Yibby\n",
        "*   Morales Katalina\n",
        "*   Ruiz Sebastian \n",
        "\n"
      ]
    },
    {
      "cell_type": "code",
      "metadata": {
        "id": "sy5zS0TNe-s4"
      },
      "source": [
        "import matplotlib.pyplot as plt \n",
        "import seaborn as sns\n",
        "import bokeh\n",
        "import plotly as px"
      ],
      "execution_count": null,
      "outputs": []
    },
    {
      "cell_type": "code",
      "metadata": {
        "id": "QxHv7tvRgf9r"
      },
      "source": [
        "import numpy as np\n",
        "import pandas as pd\n",
        "data_desocupados = pd.read_excel(\"/content/Desocupados.xlsx\")\n",
        "data_ocupados = pd.read_excel(\"/content/Ocupados.xlsx\")\n",
        "data_inactivos = pd.read_excel(\"/content/Inactivos.xlsx\")\n",
        "data_fuerza_t = pd.read_excel(\"/content/Fuerza de trabajo.xlsx\")\n",
        "data_caracteristicas = pd.read_excel(\"/content/Caracteristicas generales (Personas).xlsx\")"
      ],
      "execution_count": null,
      "outputs": []
    },
    {
      "cell_type": "code",
      "metadata": {
        "id": "4HQK9F6-SWe0"
      },
      "source": [
        "del data_desocupados['FEX_C']\n",
        "del data_ocupados['FEX_C']\n",
        "del data_inactivos['FEX_C']\n",
        "del data_fuerza_t['FEX_C']\n",
        "del data_caracteristicas['FEX_C']"
      ],
      "execution_count": null,
      "outputs": []
    },
    {
      "cell_type": "code",
      "metadata": {
        "id": "4NIu-gPaWsWU"
      },
      "source": [
        "del data_fuerza_t['P6240S1']\n",
        "del data_fuerza_t['P6310S1']\n",
        "del data_fuerza_t['P6290S1']\n"
      ],
      "execution_count": null,
      "outputs": []
    },
    {
      "cell_type": "code",
      "metadata": {
        "id": "MDE1DGY6FGvq"
      },
      "source": [
        "del data_desocupados['AREA']\n",
        "del data_inactivos['AREA']\n",
        "del data_fuerza_t['AREA']\n",
        "del data_ocupados['AREA']\n",
        "del data_caracteristicas['AREA']"
      ],
      "execution_count": null,
      "outputs": []
    },
    {
      "cell_type": "code",
      "metadata": {
        "id": "HCnKAtHEFNDK"
      },
      "source": [
        "del data_ocupados['REGIS']\n",
        "del data_desocupados['REGIS']\n",
        "del data_inactivos['REGIS']\n",
        "del data_fuerza_t['REGIS']\n",
        "del data_caracteristicas['REGIS']"
      ],
      "execution_count": null,
      "outputs": []
    },
    {
      "cell_type": "code",
      "metadata": {
        "id": "feTKiN6QFUlC"
      },
      "source": [
        "del data_desocupados['DSI']\n",
        "del data_inactivos['INI']\n",
        "del data_fuerza_t['FT']\n",
        "del data_ocupados['OCI']"
      ],
      "execution_count": null,
      "outputs": []
    },
    {
      "cell_type": "code",
      "metadata": {
        "id": "qs2s8H1VEuna"
      },
      "source": [
        "data_ocupados.insert(4,\"Estado\",\"Ocupados\")\n",
        "data_desocupados.insert(4,\"Estado\",\"Desocupado\")\n",
        "data_inactivos.insert(4,\"Estado\",\"Inactivos\")"
      ],
      "execution_count": null,
      "outputs": []
    },
    {
      "cell_type": "markdown",
      "metadata": {
        "id": "C_WLoXLEGn1S"
      },
      "source": [
        "# Duplicados"
      ]
    },
    {
      "cell_type": "code",
      "metadata": {
        "id": "a8ISAM_vGnIh"
      },
      "source": [
        "data_desocupados = data_desocupados.drop_duplicates()"
      ],
      "execution_count": null,
      "outputs": []
    },
    {
      "cell_type": "code",
      "metadata": {
        "id": "SocG_HtqLY6p"
      },
      "source": [
        "data_ocupados = data_ocupados.drop_duplicates()"
      ],
      "execution_count": null,
      "outputs": []
    },
    {
      "cell_type": "code",
      "metadata": {
        "id": "76rdrg3wLEbf"
      },
      "source": [
        "data_inactivos = data_inactivos.drop_duplicates()"
      ],
      "execution_count": null,
      "outputs": []
    },
    {
      "cell_type": "code",
      "metadata": {
        "id": "Qfemzk_PNxAS"
      },
      "source": [
        "data_fuerza_t = data_fuerza_t.drop_duplicates()"
      ],
      "execution_count": null,
      "outputs": []
    },
    {
      "cell_type": "code",
      "metadata": {
        "id": "XqbSsTJqN7_F"
      },
      "source": [
        "data_caracteristicas = data_caracteristicas.drop_duplicates()"
      ],
      "execution_count": null,
      "outputs": []
    },
    {
      "cell_type": "code",
      "metadata": {
        "colab": {
          "base_uri": "https://localhost:8080/"
        },
        "id": "YeNgOXmDJqRy",
        "outputId": "475c1151-26c1-4698-87e5-e7d8bb22f03e"
      },
      "source": [
        "data_desocupados.shape"
      ],
      "execution_count": null,
      "outputs": [
        {
          "output_type": "execute_result",
          "data": {
            "text/plain": [
              "(3498, 6)"
            ]
          },
          "metadata": {},
          "execution_count": 15
        }
      ]
    },
    {
      "cell_type": "code",
      "metadata": {
        "colab": {
          "base_uri": "https://localhost:8080/"
        },
        "id": "x5GNDRMYJ1At",
        "outputId": "9e7eb429-be6d-4808-cedd-fce236c3cde8"
      },
      "source": [
        "data_ocupados.shape"
      ],
      "execution_count": null,
      "outputs": [
        {
          "output_type": "execute_result",
          "data": {
            "text/plain": [
              "(14119, 18)"
            ]
          },
          "metadata": {},
          "execution_count": 16
        }
      ]
    },
    {
      "cell_type": "code",
      "metadata": {
        "colab": {
          "base_uri": "https://localhost:8080/"
        },
        "id": "e2E41lyrJ8Cb",
        "outputId": "49049a42-931d-4a95-8411-182933f3f60d"
      },
      "source": [
        "data_inactivos.shape"
      ],
      "execution_count": null,
      "outputs": [
        {
          "output_type": "execute_result",
          "data": {
            "text/plain": [
              "(12385, 6)"
            ]
          },
          "metadata": {},
          "execution_count": 17
        }
      ]
    },
    {
      "cell_type": "code",
      "metadata": {
        "colab": {
          "base_uri": "https://localhost:8080/"
        },
        "id": "CAwKL9-iJ_Tz",
        "outputId": "f26930de-7c4e-4554-a0ff-bd92331551ca"
      },
      "source": [
        "data_fuerza_t.shape"
      ],
      "execution_count": null,
      "outputs": [
        {
          "output_type": "execute_result",
          "data": {
            "text/plain": [
              "(30002, 19)"
            ]
          },
          "metadata": {},
          "execution_count": 18
        }
      ]
    },
    {
      "cell_type": "code",
      "metadata": {
        "colab": {
          "base_uri": "https://localhost:8080/"
        },
        "id": "9s5scBgdKCd7",
        "outputId": "a2853518-f9cb-487c-9ae3-0a02c16cdaf3"
      },
      "source": [
        "data_caracteristicas.shape"
      ],
      "execution_count": null,
      "outputs": [
        {
          "output_type": "execute_result",
          "data": {
            "text/plain": [
              "(38080, 7)"
            ]
          },
          "metadata": {},
          "execution_count": 19
        }
      ]
    },
    {
      "cell_type": "markdown",
      "metadata": {
        "id": "mMESwP5jGf2p"
      },
      "source": [
        "# Prueba para ver si esta bien merge"
      ]
    },
    {
      "cell_type": "code",
      "metadata": {
        "id": "lqmhimomKWE7"
      },
      "source": [
        "left = pd.DataFrame({'key1':[2,3,1,8,7,6,4,5],\n",
        "                     'Area':[99,98,97,95,85,81,90,89],\n",
        "                     'A':['A0','A1','A2','A3','A4','A5','A6','A7'],\n",
        "                     'B':['B0','B1','B2','B3','B4','B5','B6','B7']})\n",
        "\n",
        "right = pd.DataFrame({'key1':[2,3,8,4,5],\n",
        "                      'Area':[99,98,95,90,89],\n",
        "                      'Estado':['a','a','a','a','a'],\n",
        "                     'C':['C0','C1','C2','C3','C4'],\n",
        "                     'D':['D0','D1','D2','D3','D4']})\n",
        "\n",
        "right2 = pd.DataFrame({'key1':[1,7,6],\n",
        "                      'Area':[97,85,81],\n",
        "                      'Estado':['b','b','b'],\n",
        "                     'F':['F0','F1','F2'],\n",
        "                     'H':['H0','H1','H2']})"
      ],
      "execution_count": null,
      "outputs": []
    },
    {
      "cell_type": "code",
      "metadata": {
        "colab": {
          "base_uri": "https://localhost:8080/",
          "height": 300
        },
        "id": "Z_4BLebQZIj-",
        "outputId": "63476947-4761-4731-ab72-64419b990f80"
      },
      "source": [
        "left"
      ],
      "execution_count": null,
      "outputs": [
        {
          "output_type": "execute_result",
          "data": {
            "text/html": [
              "<div>\n",
              "<style scoped>\n",
              "    .dataframe tbody tr th:only-of-type {\n",
              "        vertical-align: middle;\n",
              "    }\n",
              "\n",
              "    .dataframe tbody tr th {\n",
              "        vertical-align: top;\n",
              "    }\n",
              "\n",
              "    .dataframe thead th {\n",
              "        text-align: right;\n",
              "    }\n",
              "</style>\n",
              "<table border=\"1\" class=\"dataframe\">\n",
              "  <thead>\n",
              "    <tr style=\"text-align: right;\">\n",
              "      <th></th>\n",
              "      <th>key1</th>\n",
              "      <th>Area</th>\n",
              "      <th>A</th>\n",
              "      <th>B</th>\n",
              "    </tr>\n",
              "  </thead>\n",
              "  <tbody>\n",
              "    <tr>\n",
              "      <th>0</th>\n",
              "      <td>2</td>\n",
              "      <td>99</td>\n",
              "      <td>A0</td>\n",
              "      <td>B0</td>\n",
              "    </tr>\n",
              "    <tr>\n",
              "      <th>1</th>\n",
              "      <td>3</td>\n",
              "      <td>98</td>\n",
              "      <td>A1</td>\n",
              "      <td>B1</td>\n",
              "    </tr>\n",
              "    <tr>\n",
              "      <th>2</th>\n",
              "      <td>1</td>\n",
              "      <td>97</td>\n",
              "      <td>A2</td>\n",
              "      <td>B2</td>\n",
              "    </tr>\n",
              "    <tr>\n",
              "      <th>3</th>\n",
              "      <td>8</td>\n",
              "      <td>95</td>\n",
              "      <td>A3</td>\n",
              "      <td>B3</td>\n",
              "    </tr>\n",
              "    <tr>\n",
              "      <th>4</th>\n",
              "      <td>7</td>\n",
              "      <td>85</td>\n",
              "      <td>A4</td>\n",
              "      <td>B4</td>\n",
              "    </tr>\n",
              "    <tr>\n",
              "      <th>5</th>\n",
              "      <td>6</td>\n",
              "      <td>81</td>\n",
              "      <td>A5</td>\n",
              "      <td>B5</td>\n",
              "    </tr>\n",
              "    <tr>\n",
              "      <th>6</th>\n",
              "      <td>4</td>\n",
              "      <td>90</td>\n",
              "      <td>A6</td>\n",
              "      <td>B6</td>\n",
              "    </tr>\n",
              "    <tr>\n",
              "      <th>7</th>\n",
              "      <td>5</td>\n",
              "      <td>89</td>\n",
              "      <td>A7</td>\n",
              "      <td>B7</td>\n",
              "    </tr>\n",
              "  </tbody>\n",
              "</table>\n",
              "</div>"
            ],
            "text/plain": [
              "   key1  Area   A   B\n",
              "0     2    99  A0  B0\n",
              "1     3    98  A1  B1\n",
              "2     1    97  A2  B2\n",
              "3     8    95  A3  B3\n",
              "4     7    85  A4  B4\n",
              "5     6    81  A5  B5\n",
              "6     4    90  A6  B6\n",
              "7     5    89  A7  B7"
            ]
          },
          "metadata": {},
          "execution_count": 23
        }
      ]
    },
    {
      "cell_type": "code",
      "metadata": {
        "colab": {
          "base_uri": "https://localhost:8080/",
          "height": 206
        },
        "id": "3L-0m0vbZLuV",
        "outputId": "39d1d4a7-cb0d-4f5b-a7b9-e941ba7a5732"
      },
      "source": [
        "right"
      ],
      "execution_count": null,
      "outputs": [
        {
          "output_type": "execute_result",
          "data": {
            "text/html": [
              "<div>\n",
              "<style scoped>\n",
              "    .dataframe tbody tr th:only-of-type {\n",
              "        vertical-align: middle;\n",
              "    }\n",
              "\n",
              "    .dataframe tbody tr th {\n",
              "        vertical-align: top;\n",
              "    }\n",
              "\n",
              "    .dataframe thead th {\n",
              "        text-align: right;\n",
              "    }\n",
              "</style>\n",
              "<table border=\"1\" class=\"dataframe\">\n",
              "  <thead>\n",
              "    <tr style=\"text-align: right;\">\n",
              "      <th></th>\n",
              "      <th>key1</th>\n",
              "      <th>Area</th>\n",
              "      <th>Estado</th>\n",
              "      <th>C</th>\n",
              "      <th>D</th>\n",
              "    </tr>\n",
              "  </thead>\n",
              "  <tbody>\n",
              "    <tr>\n",
              "      <th>0</th>\n",
              "      <td>2</td>\n",
              "      <td>99</td>\n",
              "      <td>a</td>\n",
              "      <td>C0</td>\n",
              "      <td>D0</td>\n",
              "    </tr>\n",
              "    <tr>\n",
              "      <th>1</th>\n",
              "      <td>3</td>\n",
              "      <td>98</td>\n",
              "      <td>a</td>\n",
              "      <td>C1</td>\n",
              "      <td>D1</td>\n",
              "    </tr>\n",
              "    <tr>\n",
              "      <th>2</th>\n",
              "      <td>8</td>\n",
              "      <td>95</td>\n",
              "      <td>a</td>\n",
              "      <td>C2</td>\n",
              "      <td>D2</td>\n",
              "    </tr>\n",
              "    <tr>\n",
              "      <th>3</th>\n",
              "      <td>4</td>\n",
              "      <td>90</td>\n",
              "      <td>a</td>\n",
              "      <td>C3</td>\n",
              "      <td>D3</td>\n",
              "    </tr>\n",
              "    <tr>\n",
              "      <th>4</th>\n",
              "      <td>5</td>\n",
              "      <td>89</td>\n",
              "      <td>a</td>\n",
              "      <td>C4</td>\n",
              "      <td>D4</td>\n",
              "    </tr>\n",
              "  </tbody>\n",
              "</table>\n",
              "</div>"
            ],
            "text/plain": [
              "   key1  Area Estado   C   D\n",
              "0     2    99      a  C0  D0\n",
              "1     3    98      a  C1  D1\n",
              "2     8    95      a  C2  D2\n",
              "3     4    90      a  C3  D3\n",
              "4     5    89      a  C4  D4"
            ]
          },
          "metadata": {},
          "execution_count": 24
        }
      ]
    },
    {
      "cell_type": "code",
      "metadata": {
        "colab": {
          "base_uri": "https://localhost:8080/",
          "height": 144
        },
        "id": "71_yvjw0AE9F",
        "outputId": "38c85839-2c2e-4451-f514-5c194d15e964"
      },
      "source": [
        "right2"
      ],
      "execution_count": null,
      "outputs": [
        {
          "output_type": "execute_result",
          "data": {
            "text/html": [
              "<div>\n",
              "<style scoped>\n",
              "    .dataframe tbody tr th:only-of-type {\n",
              "        vertical-align: middle;\n",
              "    }\n",
              "\n",
              "    .dataframe tbody tr th {\n",
              "        vertical-align: top;\n",
              "    }\n",
              "\n",
              "    .dataframe thead th {\n",
              "        text-align: right;\n",
              "    }\n",
              "</style>\n",
              "<table border=\"1\" class=\"dataframe\">\n",
              "  <thead>\n",
              "    <tr style=\"text-align: right;\">\n",
              "      <th></th>\n",
              "      <th>key1</th>\n",
              "      <th>Area</th>\n",
              "      <th>Estado</th>\n",
              "      <th>F</th>\n",
              "      <th>H</th>\n",
              "    </tr>\n",
              "  </thead>\n",
              "  <tbody>\n",
              "    <tr>\n",
              "      <th>0</th>\n",
              "      <td>1</td>\n",
              "      <td>97</td>\n",
              "      <td>b</td>\n",
              "      <td>F0</td>\n",
              "      <td>H0</td>\n",
              "    </tr>\n",
              "    <tr>\n",
              "      <th>1</th>\n",
              "      <td>7</td>\n",
              "      <td>85</td>\n",
              "      <td>b</td>\n",
              "      <td>F1</td>\n",
              "      <td>H1</td>\n",
              "    </tr>\n",
              "    <tr>\n",
              "      <th>2</th>\n",
              "      <td>6</td>\n",
              "      <td>81</td>\n",
              "      <td>b</td>\n",
              "      <td>F2</td>\n",
              "      <td>H2</td>\n",
              "    </tr>\n",
              "  </tbody>\n",
              "</table>\n",
              "</div>"
            ],
            "text/plain": [
              "   key1  Area Estado   F   H\n",
              "0     1    97      b  F0  H0\n",
              "1     7    85      b  F1  H1\n",
              "2     6    81      b  F2  H2"
            ]
          },
          "metadata": {},
          "execution_count": 25
        }
      ]
    },
    {
      "cell_type": "code",
      "metadata": {
        "colab": {
          "base_uri": "https://localhost:8080/",
          "height": 300
        },
        "id": "inPBCus4PQ7X",
        "outputId": "e4f29e69-dd80-4927-cf28-ee8596e49cff"
      },
      "source": [
        "#ESTADOS\n",
        "pd.merge(right2, right, how  = 'outer')"
      ],
      "execution_count": null,
      "outputs": [
        {
          "output_type": "execute_result",
          "data": {
            "text/html": [
              "<div>\n",
              "<style scoped>\n",
              "    .dataframe tbody tr th:only-of-type {\n",
              "        vertical-align: middle;\n",
              "    }\n",
              "\n",
              "    .dataframe tbody tr th {\n",
              "        vertical-align: top;\n",
              "    }\n",
              "\n",
              "    .dataframe thead th {\n",
              "        text-align: right;\n",
              "    }\n",
              "</style>\n",
              "<table border=\"1\" class=\"dataframe\">\n",
              "  <thead>\n",
              "    <tr style=\"text-align: right;\">\n",
              "      <th></th>\n",
              "      <th>key1</th>\n",
              "      <th>Area</th>\n",
              "      <th>Estado</th>\n",
              "      <th>F</th>\n",
              "      <th>H</th>\n",
              "      <th>C</th>\n",
              "      <th>D</th>\n",
              "    </tr>\n",
              "  </thead>\n",
              "  <tbody>\n",
              "    <tr>\n",
              "      <th>0</th>\n",
              "      <td>1</td>\n",
              "      <td>97</td>\n",
              "      <td>b</td>\n",
              "      <td>F0</td>\n",
              "      <td>H0</td>\n",
              "      <td>NaN</td>\n",
              "      <td>NaN</td>\n",
              "    </tr>\n",
              "    <tr>\n",
              "      <th>1</th>\n",
              "      <td>7</td>\n",
              "      <td>85</td>\n",
              "      <td>b</td>\n",
              "      <td>F1</td>\n",
              "      <td>H1</td>\n",
              "      <td>NaN</td>\n",
              "      <td>NaN</td>\n",
              "    </tr>\n",
              "    <tr>\n",
              "      <th>2</th>\n",
              "      <td>6</td>\n",
              "      <td>81</td>\n",
              "      <td>b</td>\n",
              "      <td>F2</td>\n",
              "      <td>H2</td>\n",
              "      <td>NaN</td>\n",
              "      <td>NaN</td>\n",
              "    </tr>\n",
              "    <tr>\n",
              "      <th>3</th>\n",
              "      <td>2</td>\n",
              "      <td>99</td>\n",
              "      <td>a</td>\n",
              "      <td>NaN</td>\n",
              "      <td>NaN</td>\n",
              "      <td>C0</td>\n",
              "      <td>D0</td>\n",
              "    </tr>\n",
              "    <tr>\n",
              "      <th>4</th>\n",
              "      <td>3</td>\n",
              "      <td>98</td>\n",
              "      <td>a</td>\n",
              "      <td>NaN</td>\n",
              "      <td>NaN</td>\n",
              "      <td>C1</td>\n",
              "      <td>D1</td>\n",
              "    </tr>\n",
              "    <tr>\n",
              "      <th>5</th>\n",
              "      <td>8</td>\n",
              "      <td>95</td>\n",
              "      <td>a</td>\n",
              "      <td>NaN</td>\n",
              "      <td>NaN</td>\n",
              "      <td>C2</td>\n",
              "      <td>D2</td>\n",
              "    </tr>\n",
              "    <tr>\n",
              "      <th>6</th>\n",
              "      <td>4</td>\n",
              "      <td>90</td>\n",
              "      <td>a</td>\n",
              "      <td>NaN</td>\n",
              "      <td>NaN</td>\n",
              "      <td>C3</td>\n",
              "      <td>D3</td>\n",
              "    </tr>\n",
              "    <tr>\n",
              "      <th>7</th>\n",
              "      <td>5</td>\n",
              "      <td>89</td>\n",
              "      <td>a</td>\n",
              "      <td>NaN</td>\n",
              "      <td>NaN</td>\n",
              "      <td>C4</td>\n",
              "      <td>D4</td>\n",
              "    </tr>\n",
              "  </tbody>\n",
              "</table>\n",
              "</div>"
            ],
            "text/plain": [
              "   key1  Area Estado    F    H    C    D\n",
              "0     1    97      b   F0   H0  NaN  NaN\n",
              "1     7    85      b   F1   H1  NaN  NaN\n",
              "2     6    81      b   F2   H2  NaN  NaN\n",
              "3     2    99      a  NaN  NaN   C0   D0\n",
              "4     3    98      a  NaN  NaN   C1   D1\n",
              "5     8    95      a  NaN  NaN   C2   D2\n",
              "6     4    90      a  NaN  NaN   C3   D3\n",
              "7     5    89      a  NaN  NaN   C4   D4"
            ]
          },
          "metadata": {},
          "execution_count": 21
        }
      ]
    },
    {
      "cell_type": "markdown",
      "metadata": {
        "id": "Ir8xmmtIipBm"
      },
      "source": [
        "# Retomando\n"
      ]
    },
    {
      "cell_type": "code",
      "metadata": {
        "id": "rwNE6uE0P5Sm"
      },
      "source": [
        "dt2 = pd.concat([data_ocupados, data_desocupados,data_inactivos])"
      ],
      "execution_count": null,
      "outputs": []
    },
    {
      "cell_type": "code",
      "metadata": {
        "id": "i7_v28CEzXMx"
      },
      "source": [
        "dt1 = pd.merge(data_caracteristicas,data_fuerza_t,on = ['DIRECTORIO','SECUENCIA_P','ORDEN','HOGAR','DPTO'],how  = 'outer')"
      ],
      "execution_count": null,
      "outputs": []
    },
    {
      "cell_type": "code",
      "metadata": {
        "colab": {
          "base_uri": "https://localhost:8080/",
          "height": 424
        },
        "id": "S63ar8SlAnSM",
        "outputId": "7c316854-20c1-4443-dcab-2eaa0d5ba029"
      },
      "source": [
        "dt1"
      ],
      "execution_count": null,
      "outputs": [
        {
          "output_type": "execute_result",
          "data": {
            "text/html": [
              "<div>\n",
              "<style scoped>\n",
              "    .dataframe tbody tr th:only-of-type {\n",
              "        vertical-align: middle;\n",
              "    }\n",
              "\n",
              "    .dataframe tbody tr th {\n",
              "        vertical-align: top;\n",
              "    }\n",
              "\n",
              "    .dataframe thead th {\n",
              "        text-align: right;\n",
              "    }\n",
              "</style>\n",
              "<table border=\"1\" class=\"dataframe\">\n",
              "  <thead>\n",
              "    <tr style=\"text-align: right;\">\n",
              "      <th></th>\n",
              "      <th>DIRECTORIO</th>\n",
              "      <th>SECUENCIA_P</th>\n",
              "      <th>ORDEN</th>\n",
              "      <th>HOGAR</th>\n",
              "      <th>P6020</th>\n",
              "      <th>P6040</th>\n",
              "      <th>DPTO</th>\n",
              "      <th>P6230</th>\n",
              "      <th>P6240</th>\n",
              "      <th>P6250</th>\n",
              "      <th>P6260</th>\n",
              "      <th>P6270</th>\n",
              "      <th>P6280</th>\n",
              "      <th>P6290</th>\n",
              "      <th>P6300</th>\n",
              "      <th>P6310</th>\n",
              "      <th>P6320</th>\n",
              "      <th>P6330</th>\n",
              "      <th>P6340</th>\n",
              "      <th>P6350</th>\n",
              "      <th>P6351</th>\n",
              "    </tr>\n",
              "  </thead>\n",
              "  <tbody>\n",
              "    <tr>\n",
              "      <th>0</th>\n",
              "      <td>2187</td>\n",
              "      <td>1</td>\n",
              "      <td>1</td>\n",
              "      <td>1</td>\n",
              "      <td>2</td>\n",
              "      <td>0</td>\n",
              "      <td>97</td>\n",
              "      <td>NaN</td>\n",
              "      <td>NaN</td>\n",
              "      <td>NaN</td>\n",
              "      <td>NaN</td>\n",
              "      <td>NaN</td>\n",
              "      <td>NaN</td>\n",
              "      <td>NaN</td>\n",
              "      <td>NaN</td>\n",
              "      <td>NaN</td>\n",
              "      <td>NaN</td>\n",
              "      <td>NaN</td>\n",
              "      <td>NaN</td>\n",
              "      <td>NaN</td>\n",
              "      <td>NaN</td>\n",
              "    </tr>\n",
              "    <tr>\n",
              "      <th>1</th>\n",
              "      <td>2187</td>\n",
              "      <td>1</td>\n",
              "      <td>2</td>\n",
              "      <td>1</td>\n",
              "      <td>2</td>\n",
              "      <td>0</td>\n",
              "      <td>97</td>\n",
              "      <td>NaN</td>\n",
              "      <td>NaN</td>\n",
              "      <td>NaN</td>\n",
              "      <td>NaN</td>\n",
              "      <td>NaN</td>\n",
              "      <td>NaN</td>\n",
              "      <td>NaN</td>\n",
              "      <td>NaN</td>\n",
              "      <td>NaN</td>\n",
              "      <td>NaN</td>\n",
              "      <td>NaN</td>\n",
              "      <td>NaN</td>\n",
              "      <td>NaN</td>\n",
              "      <td>NaN</td>\n",
              "    </tr>\n",
              "    <tr>\n",
              "      <th>2</th>\n",
              "      <td>2187</td>\n",
              "      <td>1</td>\n",
              "      <td>3</td>\n",
              "      <td>1</td>\n",
              "      <td>2</td>\n",
              "      <td>47</td>\n",
              "      <td>97</td>\n",
              "      <td>3.0</td>\n",
              "      <td>4.0</td>\n",
              "      <td>2</td>\n",
              "      <td>2</td>\n",
              "      <td>2</td>\n",
              "      <td>2</td>\n",
              "      <td></td>\n",
              "      <td>1</td>\n",
              "      <td>4</td>\n",
              "      <td>1</td>\n",
              "      <td>2</td>\n",
              "      <td></td>\n",
              "      <td></td>\n",
              "      <td></td>\n",
              "    </tr>\n",
              "    <tr>\n",
              "      <th>3</th>\n",
              "      <td>2187</td>\n",
              "      <td>1</td>\n",
              "      <td>4</td>\n",
              "      <td>1</td>\n",
              "      <td>1</td>\n",
              "      <td>5</td>\n",
              "      <td>97</td>\n",
              "      <td>NaN</td>\n",
              "      <td>NaN</td>\n",
              "      <td>NaN</td>\n",
              "      <td>NaN</td>\n",
              "      <td>NaN</td>\n",
              "      <td>NaN</td>\n",
              "      <td>NaN</td>\n",
              "      <td>NaN</td>\n",
              "      <td>NaN</td>\n",
              "      <td>NaN</td>\n",
              "      <td>NaN</td>\n",
              "      <td>NaN</td>\n",
              "      <td>NaN</td>\n",
              "      <td>NaN</td>\n",
              "    </tr>\n",
              "    <tr>\n",
              "      <th>4</th>\n",
              "      <td>2187</td>\n",
              "      <td>1</td>\n",
              "      <td>5</td>\n",
              "      <td>1</td>\n",
              "      <td>1</td>\n",
              "      <td>16</td>\n",
              "      <td>97</td>\n",
              "      <td>5.0</td>\n",
              "      <td>4.0</td>\n",
              "      <td>2</td>\n",
              "      <td>2</td>\n",
              "      <td>2</td>\n",
              "      <td>2</td>\n",
              "      <td></td>\n",
              "      <td>2</td>\n",
              "      <td></td>\n",
              "      <td></td>\n",
              "      <td></td>\n",
              "      <td></td>\n",
              "      <td></td>\n",
              "      <td></td>\n",
              "    </tr>\n",
              "    <tr>\n",
              "      <th>...</th>\n",
              "      <td>...</td>\n",
              "      <td>...</td>\n",
              "      <td>...</td>\n",
              "      <td>...</td>\n",
              "      <td>...</td>\n",
              "      <td>...</td>\n",
              "      <td>...</td>\n",
              "      <td>...</td>\n",
              "      <td>...</td>\n",
              "      <td>...</td>\n",
              "      <td>...</td>\n",
              "      <td>...</td>\n",
              "      <td>...</td>\n",
              "      <td>...</td>\n",
              "      <td>...</td>\n",
              "      <td>...</td>\n",
              "      <td>...</td>\n",
              "      <td>...</td>\n",
              "      <td>...</td>\n",
              "      <td>...</td>\n",
              "      <td>...</td>\n",
              "    </tr>\n",
              "    <tr>\n",
              "      <th>38075</th>\n",
              "      <td>5328146</td>\n",
              "      <td>1</td>\n",
              "      <td>2</td>\n",
              "      <td>1</td>\n",
              "      <td>2</td>\n",
              "      <td>55</td>\n",
              "      <td>86</td>\n",
              "      <td>2.0</td>\n",
              "      <td>4.0</td>\n",
              "      <td>2</td>\n",
              "      <td>2</td>\n",
              "      <td>2</td>\n",
              "      <td>2</td>\n",
              "      <td></td>\n",
              "      <td>2</td>\n",
              "      <td></td>\n",
              "      <td></td>\n",
              "      <td></td>\n",
              "      <td></td>\n",
              "      <td></td>\n",
              "      <td></td>\n",
              "    </tr>\n",
              "    <tr>\n",
              "      <th>38076</th>\n",
              "      <td>5328146</td>\n",
              "      <td>1</td>\n",
              "      <td>3</td>\n",
              "      <td>1</td>\n",
              "      <td>1</td>\n",
              "      <td>3</td>\n",
              "      <td>86</td>\n",
              "      <td>NaN</td>\n",
              "      <td>NaN</td>\n",
              "      <td>NaN</td>\n",
              "      <td>NaN</td>\n",
              "      <td>NaN</td>\n",
              "      <td>NaN</td>\n",
              "      <td>NaN</td>\n",
              "      <td>NaN</td>\n",
              "      <td>NaN</td>\n",
              "      <td>NaN</td>\n",
              "      <td>NaN</td>\n",
              "      <td>NaN</td>\n",
              "      <td>NaN</td>\n",
              "      <td>NaN</td>\n",
              "    </tr>\n",
              "    <tr>\n",
              "      <th>38077</th>\n",
              "      <td>5328225</td>\n",
              "      <td>1</td>\n",
              "      <td>1</td>\n",
              "      <td>1</td>\n",
              "      <td>2</td>\n",
              "      <td>41</td>\n",
              "      <td>86</td>\n",
              "      <td>1.0</td>\n",
              "      <td>2.0</td>\n",
              "      <td>2</td>\n",
              "      <td>2</td>\n",
              "      <td>2</td>\n",
              "      <td>1</td>\n",
              "      <td>1</td>\n",
              "      <td></td>\n",
              "      <td></td>\n",
              "      <td></td>\n",
              "      <td></td>\n",
              "      <td></td>\n",
              "      <td></td>\n",
              "      <td>1</td>\n",
              "    </tr>\n",
              "    <tr>\n",
              "      <th>38078</th>\n",
              "      <td>5328225</td>\n",
              "      <td>1</td>\n",
              "      <td>2</td>\n",
              "      <td>1</td>\n",
              "      <td>2</td>\n",
              "      <td>16</td>\n",
              "      <td>86</td>\n",
              "      <td>1.0</td>\n",
              "      <td>1.0</td>\n",
              "      <td></td>\n",
              "      <td></td>\n",
              "      <td></td>\n",
              "      <td></td>\n",
              "      <td></td>\n",
              "      <td></td>\n",
              "      <td></td>\n",
              "      <td></td>\n",
              "      <td></td>\n",
              "      <td></td>\n",
              "      <td></td>\n",
              "      <td></td>\n",
              "    </tr>\n",
              "    <tr>\n",
              "      <th>38079</th>\n",
              "      <td>5328225</td>\n",
              "      <td>1</td>\n",
              "      <td>3</td>\n",
              "      <td>1</td>\n",
              "      <td>1</td>\n",
              "      <td>0</td>\n",
              "      <td>86</td>\n",
              "      <td>NaN</td>\n",
              "      <td>NaN</td>\n",
              "      <td>NaN</td>\n",
              "      <td>NaN</td>\n",
              "      <td>NaN</td>\n",
              "      <td>NaN</td>\n",
              "      <td>NaN</td>\n",
              "      <td>NaN</td>\n",
              "      <td>NaN</td>\n",
              "      <td>NaN</td>\n",
              "      <td>NaN</td>\n",
              "      <td>NaN</td>\n",
              "      <td>NaN</td>\n",
              "      <td>NaN</td>\n",
              "    </tr>\n",
              "  </tbody>\n",
              "</table>\n",
              "<p>38080 rows × 21 columns</p>\n",
              "</div>"
            ],
            "text/plain": [
              "       DIRECTORIO  SECUENCIA_P  ORDEN  HOGAR  ...  P6330  P6340  P6350  P6351\n",
              "0            2187            1      1      1  ...    NaN    NaN    NaN    NaN\n",
              "1            2187            1      2      1  ...    NaN    NaN    NaN    NaN\n",
              "2            2187            1      3      1  ...      2                     \n",
              "3            2187            1      4      1  ...    NaN    NaN    NaN    NaN\n",
              "4            2187            1      5      1  ...                            \n",
              "...           ...          ...    ...    ...  ...    ...    ...    ...    ...\n",
              "38075     5328146            1      2      1  ...                            \n",
              "38076     5328146            1      3      1  ...    NaN    NaN    NaN    NaN\n",
              "38077     5328225            1      1      1  ...                           1\n",
              "38078     5328225            1      2      1  ...                            \n",
              "38079     5328225            1      3      1  ...    NaN    NaN    NaN    NaN\n",
              "\n",
              "[38080 rows x 21 columns]"
            ]
          },
          "metadata": {},
          "execution_count": 24
        }
      ]
    },
    {
      "cell_type": "code",
      "metadata": {
        "id": "FoAscKu82WBo"
      },
      "source": [
        "Base = pd.merge(dt1,dt2,how  = 'outer')"
      ],
      "execution_count": null,
      "outputs": []
    },
    {
      "cell_type": "code",
      "metadata": {
        "colab": {
          "base_uri": "https://localhost:8080/",
          "height": 444
        },
        "id": "CzzmiFH4CYGD",
        "outputId": "6c92da25-7ea6-4984-dc58-6468f8331518"
      },
      "source": [
        "Base"
      ],
      "execution_count": null,
      "outputs": [
        {
          "output_type": "execute_result",
          "data": {
            "text/html": [
              "<div>\n",
              "<style scoped>\n",
              "    .dataframe tbody tr th:only-of-type {\n",
              "        vertical-align: middle;\n",
              "    }\n",
              "\n",
              "    .dataframe tbody tr th {\n",
              "        vertical-align: top;\n",
              "    }\n",
              "\n",
              "    .dataframe thead th {\n",
              "        text-align: right;\n",
              "    }\n",
              "</style>\n",
              "<table border=\"1\" class=\"dataframe\">\n",
              "  <thead>\n",
              "    <tr style=\"text-align: right;\">\n",
              "      <th></th>\n",
              "      <th>DIRECTORIO</th>\n",
              "      <th>SECUENCIA_P</th>\n",
              "      <th>ORDEN</th>\n",
              "      <th>HOGAR</th>\n",
              "      <th>P6020</th>\n",
              "      <th>P6040</th>\n",
              "      <th>DPTO</th>\n",
              "      <th>P6230</th>\n",
              "      <th>P6240</th>\n",
              "      <th>P6250</th>\n",
              "      <th>P6260</th>\n",
              "      <th>P6270</th>\n",
              "      <th>P6280</th>\n",
              "      <th>P6290</th>\n",
              "      <th>P6300</th>\n",
              "      <th>P6310</th>\n",
              "      <th>P6320</th>\n",
              "      <th>P6330</th>\n",
              "      <th>P6340</th>\n",
              "      <th>P6350</th>\n",
              "      <th>P6351</th>\n",
              "      <th>Estado</th>\n",
              "      <th>P6430S1</th>\n",
              "      <th>P6500</th>\n",
              "      <th>P6750</th>\n",
              "      <th>P6760</th>\n",
              "      <th>P6800</th>\n",
              "      <th>P6850</th>\n",
              "      <th>P6830</th>\n",
              "      <th>P6830S1</th>\n",
              "      <th>P6430</th>\n",
              "      <th>RAMA4D_R4</th>\n",
              "      <th>OFICIO</th>\n",
              "      <th>RAMA2D_R4</th>\n",
              "    </tr>\n",
              "  </thead>\n",
              "  <tbody>\n",
              "    <tr>\n",
              "      <th>0</th>\n",
              "      <td>2187</td>\n",
              "      <td>1</td>\n",
              "      <td>1</td>\n",
              "      <td>1</td>\n",
              "      <td>2</td>\n",
              "      <td>0</td>\n",
              "      <td>97</td>\n",
              "      <td>NaN</td>\n",
              "      <td>NaN</td>\n",
              "      <td>NaN</td>\n",
              "      <td>NaN</td>\n",
              "      <td>NaN</td>\n",
              "      <td>NaN</td>\n",
              "      <td>NaN</td>\n",
              "      <td>NaN</td>\n",
              "      <td>NaN</td>\n",
              "      <td>NaN</td>\n",
              "      <td>NaN</td>\n",
              "      <td>NaN</td>\n",
              "      <td>NaN</td>\n",
              "      <td>NaN</td>\n",
              "      <td>NaN</td>\n",
              "      <td>NaN</td>\n",
              "      <td>NaN</td>\n",
              "      <td>NaN</td>\n",
              "      <td>NaN</td>\n",
              "      <td>NaN</td>\n",
              "      <td>NaN</td>\n",
              "      <td>NaN</td>\n",
              "      <td>NaN</td>\n",
              "      <td>NaN</td>\n",
              "      <td>NaN</td>\n",
              "      <td>NaN</td>\n",
              "      <td>NaN</td>\n",
              "    </tr>\n",
              "    <tr>\n",
              "      <th>1</th>\n",
              "      <td>2187</td>\n",
              "      <td>1</td>\n",
              "      <td>2</td>\n",
              "      <td>1</td>\n",
              "      <td>2</td>\n",
              "      <td>0</td>\n",
              "      <td>97</td>\n",
              "      <td>NaN</td>\n",
              "      <td>NaN</td>\n",
              "      <td>NaN</td>\n",
              "      <td>NaN</td>\n",
              "      <td>NaN</td>\n",
              "      <td>NaN</td>\n",
              "      <td>NaN</td>\n",
              "      <td>NaN</td>\n",
              "      <td>NaN</td>\n",
              "      <td>NaN</td>\n",
              "      <td>NaN</td>\n",
              "      <td>NaN</td>\n",
              "      <td>NaN</td>\n",
              "      <td>NaN</td>\n",
              "      <td>NaN</td>\n",
              "      <td>NaN</td>\n",
              "      <td>NaN</td>\n",
              "      <td>NaN</td>\n",
              "      <td>NaN</td>\n",
              "      <td>NaN</td>\n",
              "      <td>NaN</td>\n",
              "      <td>NaN</td>\n",
              "      <td>NaN</td>\n",
              "      <td>NaN</td>\n",
              "      <td>NaN</td>\n",
              "      <td>NaN</td>\n",
              "      <td>NaN</td>\n",
              "    </tr>\n",
              "    <tr>\n",
              "      <th>2</th>\n",
              "      <td>2187</td>\n",
              "      <td>1</td>\n",
              "      <td>3</td>\n",
              "      <td>1</td>\n",
              "      <td>2</td>\n",
              "      <td>47</td>\n",
              "      <td>97</td>\n",
              "      <td>3.0</td>\n",
              "      <td>4.0</td>\n",
              "      <td>2</td>\n",
              "      <td>2</td>\n",
              "      <td>2</td>\n",
              "      <td>2</td>\n",
              "      <td></td>\n",
              "      <td>1</td>\n",
              "      <td>4</td>\n",
              "      <td>1</td>\n",
              "      <td>2</td>\n",
              "      <td></td>\n",
              "      <td></td>\n",
              "      <td></td>\n",
              "      <td>Inactivos</td>\n",
              "      <td>NaN</td>\n",
              "      <td>NaN</td>\n",
              "      <td>NaN</td>\n",
              "      <td>NaN</td>\n",
              "      <td>NaN</td>\n",
              "      <td>NaN</td>\n",
              "      <td>NaN</td>\n",
              "      <td>NaN</td>\n",
              "      <td>NaN</td>\n",
              "      <td>NaN</td>\n",
              "      <td>NaN</td>\n",
              "      <td>NaN</td>\n",
              "    </tr>\n",
              "    <tr>\n",
              "      <th>3</th>\n",
              "      <td>2187</td>\n",
              "      <td>1</td>\n",
              "      <td>4</td>\n",
              "      <td>1</td>\n",
              "      <td>1</td>\n",
              "      <td>5</td>\n",
              "      <td>97</td>\n",
              "      <td>NaN</td>\n",
              "      <td>NaN</td>\n",
              "      <td>NaN</td>\n",
              "      <td>NaN</td>\n",
              "      <td>NaN</td>\n",
              "      <td>NaN</td>\n",
              "      <td>NaN</td>\n",
              "      <td>NaN</td>\n",
              "      <td>NaN</td>\n",
              "      <td>NaN</td>\n",
              "      <td>NaN</td>\n",
              "      <td>NaN</td>\n",
              "      <td>NaN</td>\n",
              "      <td>NaN</td>\n",
              "      <td>NaN</td>\n",
              "      <td>NaN</td>\n",
              "      <td>NaN</td>\n",
              "      <td>NaN</td>\n",
              "      <td>NaN</td>\n",
              "      <td>NaN</td>\n",
              "      <td>NaN</td>\n",
              "      <td>NaN</td>\n",
              "      <td>NaN</td>\n",
              "      <td>NaN</td>\n",
              "      <td>NaN</td>\n",
              "      <td>NaN</td>\n",
              "      <td>NaN</td>\n",
              "    </tr>\n",
              "    <tr>\n",
              "      <th>4</th>\n",
              "      <td>2187</td>\n",
              "      <td>1</td>\n",
              "      <td>5</td>\n",
              "      <td>1</td>\n",
              "      <td>1</td>\n",
              "      <td>16</td>\n",
              "      <td>97</td>\n",
              "      <td>5.0</td>\n",
              "      <td>4.0</td>\n",
              "      <td>2</td>\n",
              "      <td>2</td>\n",
              "      <td>2</td>\n",
              "      <td>2</td>\n",
              "      <td></td>\n",
              "      <td>2</td>\n",
              "      <td></td>\n",
              "      <td></td>\n",
              "      <td></td>\n",
              "      <td></td>\n",
              "      <td></td>\n",
              "      <td></td>\n",
              "      <td>Inactivos</td>\n",
              "      <td>NaN</td>\n",
              "      <td>NaN</td>\n",
              "      <td>NaN</td>\n",
              "      <td>NaN</td>\n",
              "      <td>NaN</td>\n",
              "      <td>NaN</td>\n",
              "      <td>NaN</td>\n",
              "      <td>NaN</td>\n",
              "      <td>NaN</td>\n",
              "      <td>NaN</td>\n",
              "      <td>NaN</td>\n",
              "      <td>NaN</td>\n",
              "    </tr>\n",
              "    <tr>\n",
              "      <th>...</th>\n",
              "      <td>...</td>\n",
              "      <td>...</td>\n",
              "      <td>...</td>\n",
              "      <td>...</td>\n",
              "      <td>...</td>\n",
              "      <td>...</td>\n",
              "      <td>...</td>\n",
              "      <td>...</td>\n",
              "      <td>...</td>\n",
              "      <td>...</td>\n",
              "      <td>...</td>\n",
              "      <td>...</td>\n",
              "      <td>...</td>\n",
              "      <td>...</td>\n",
              "      <td>...</td>\n",
              "      <td>...</td>\n",
              "      <td>...</td>\n",
              "      <td>...</td>\n",
              "      <td>...</td>\n",
              "      <td>...</td>\n",
              "      <td>...</td>\n",
              "      <td>...</td>\n",
              "      <td>...</td>\n",
              "      <td>...</td>\n",
              "      <td>...</td>\n",
              "      <td>...</td>\n",
              "      <td>...</td>\n",
              "      <td>...</td>\n",
              "      <td>...</td>\n",
              "      <td>...</td>\n",
              "      <td>...</td>\n",
              "      <td>...</td>\n",
              "      <td>...</td>\n",
              "      <td>...</td>\n",
              "    </tr>\n",
              "    <tr>\n",
              "      <th>38075</th>\n",
              "      <td>5328146</td>\n",
              "      <td>1</td>\n",
              "      <td>2</td>\n",
              "      <td>1</td>\n",
              "      <td>2</td>\n",
              "      <td>55</td>\n",
              "      <td>86</td>\n",
              "      <td>2.0</td>\n",
              "      <td>4.0</td>\n",
              "      <td>2</td>\n",
              "      <td>2</td>\n",
              "      <td>2</td>\n",
              "      <td>2</td>\n",
              "      <td></td>\n",
              "      <td>2</td>\n",
              "      <td></td>\n",
              "      <td></td>\n",
              "      <td></td>\n",
              "      <td></td>\n",
              "      <td></td>\n",
              "      <td></td>\n",
              "      <td>Inactivos</td>\n",
              "      <td>NaN</td>\n",
              "      <td>NaN</td>\n",
              "      <td>NaN</td>\n",
              "      <td>NaN</td>\n",
              "      <td>NaN</td>\n",
              "      <td>NaN</td>\n",
              "      <td>NaN</td>\n",
              "      <td>NaN</td>\n",
              "      <td>NaN</td>\n",
              "      <td>NaN</td>\n",
              "      <td>NaN</td>\n",
              "      <td>NaN</td>\n",
              "    </tr>\n",
              "    <tr>\n",
              "      <th>38076</th>\n",
              "      <td>5328146</td>\n",
              "      <td>1</td>\n",
              "      <td>3</td>\n",
              "      <td>1</td>\n",
              "      <td>1</td>\n",
              "      <td>3</td>\n",
              "      <td>86</td>\n",
              "      <td>NaN</td>\n",
              "      <td>NaN</td>\n",
              "      <td>NaN</td>\n",
              "      <td>NaN</td>\n",
              "      <td>NaN</td>\n",
              "      <td>NaN</td>\n",
              "      <td>NaN</td>\n",
              "      <td>NaN</td>\n",
              "      <td>NaN</td>\n",
              "      <td>NaN</td>\n",
              "      <td>NaN</td>\n",
              "      <td>NaN</td>\n",
              "      <td>NaN</td>\n",
              "      <td>NaN</td>\n",
              "      <td>NaN</td>\n",
              "      <td>NaN</td>\n",
              "      <td>NaN</td>\n",
              "      <td>NaN</td>\n",
              "      <td>NaN</td>\n",
              "      <td>NaN</td>\n",
              "      <td>NaN</td>\n",
              "      <td>NaN</td>\n",
              "      <td>NaN</td>\n",
              "      <td>NaN</td>\n",
              "      <td>NaN</td>\n",
              "      <td>NaN</td>\n",
              "      <td>NaN</td>\n",
              "    </tr>\n",
              "    <tr>\n",
              "      <th>38077</th>\n",
              "      <td>5328225</td>\n",
              "      <td>1</td>\n",
              "      <td>1</td>\n",
              "      <td>1</td>\n",
              "      <td>2</td>\n",
              "      <td>41</td>\n",
              "      <td>86</td>\n",
              "      <td>1.0</td>\n",
              "      <td>2.0</td>\n",
              "      <td>2</td>\n",
              "      <td>2</td>\n",
              "      <td>2</td>\n",
              "      <td>1</td>\n",
              "      <td>1</td>\n",
              "      <td></td>\n",
              "      <td></td>\n",
              "      <td></td>\n",
              "      <td></td>\n",
              "      <td></td>\n",
              "      <td></td>\n",
              "      <td>1</td>\n",
              "      <td>Desocupado</td>\n",
              "      <td>NaN</td>\n",
              "      <td>NaN</td>\n",
              "      <td>NaN</td>\n",
              "      <td>NaN</td>\n",
              "      <td>NaN</td>\n",
              "      <td>NaN</td>\n",
              "      <td>NaN</td>\n",
              "      <td>NaN</td>\n",
              "      <td>NaN</td>\n",
              "      <td>NaN</td>\n",
              "      <td>NaN</td>\n",
              "      <td>NaN</td>\n",
              "    </tr>\n",
              "    <tr>\n",
              "      <th>38078</th>\n",
              "      <td>5328225</td>\n",
              "      <td>1</td>\n",
              "      <td>2</td>\n",
              "      <td>1</td>\n",
              "      <td>2</td>\n",
              "      <td>16</td>\n",
              "      <td>86</td>\n",
              "      <td>1.0</td>\n",
              "      <td>1.0</td>\n",
              "      <td></td>\n",
              "      <td></td>\n",
              "      <td></td>\n",
              "      <td></td>\n",
              "      <td></td>\n",
              "      <td></td>\n",
              "      <td></td>\n",
              "      <td></td>\n",
              "      <td></td>\n",
              "      <td></td>\n",
              "      <td></td>\n",
              "      <td></td>\n",
              "      <td>Ocupados</td>\n",
              "      <td></td>\n",
              "      <td>400000</td>\n",
              "      <td></td>\n",
              "      <td></td>\n",
              "      <td>24.0</td>\n",
              "      <td>24.0</td>\n",
              "      <td></td>\n",
              "      <td></td>\n",
              "      <td>1.0</td>\n",
              "      <td>4771.0</td>\n",
              "      <td>45.0</td>\n",
              "      <td>47.0</td>\n",
              "    </tr>\n",
              "    <tr>\n",
              "      <th>38079</th>\n",
              "      <td>5328225</td>\n",
              "      <td>1</td>\n",
              "      <td>3</td>\n",
              "      <td>1</td>\n",
              "      <td>1</td>\n",
              "      <td>0</td>\n",
              "      <td>86</td>\n",
              "      <td>NaN</td>\n",
              "      <td>NaN</td>\n",
              "      <td>NaN</td>\n",
              "      <td>NaN</td>\n",
              "      <td>NaN</td>\n",
              "      <td>NaN</td>\n",
              "      <td>NaN</td>\n",
              "      <td>NaN</td>\n",
              "      <td>NaN</td>\n",
              "      <td>NaN</td>\n",
              "      <td>NaN</td>\n",
              "      <td>NaN</td>\n",
              "      <td>NaN</td>\n",
              "      <td>NaN</td>\n",
              "      <td>NaN</td>\n",
              "      <td>NaN</td>\n",
              "      <td>NaN</td>\n",
              "      <td>NaN</td>\n",
              "      <td>NaN</td>\n",
              "      <td>NaN</td>\n",
              "      <td>NaN</td>\n",
              "      <td>NaN</td>\n",
              "      <td>NaN</td>\n",
              "      <td>NaN</td>\n",
              "      <td>NaN</td>\n",
              "      <td>NaN</td>\n",
              "      <td>NaN</td>\n",
              "    </tr>\n",
              "  </tbody>\n",
              "</table>\n",
              "<p>38080 rows × 34 columns</p>\n",
              "</div>"
            ],
            "text/plain": [
              "       DIRECTORIO  SECUENCIA_P  ORDEN  ...  RAMA4D_R4  OFICIO  RAMA2D_R4\n",
              "0            2187            1      1  ...        NaN     NaN        NaN\n",
              "1            2187            1      2  ...        NaN     NaN        NaN\n",
              "2            2187            1      3  ...        NaN     NaN        NaN\n",
              "3            2187            1      4  ...        NaN     NaN        NaN\n",
              "4            2187            1      5  ...        NaN     NaN        NaN\n",
              "...           ...          ...    ...  ...        ...     ...        ...\n",
              "38075     5328146            1      2  ...        NaN     NaN        NaN\n",
              "38076     5328146            1      3  ...        NaN     NaN        NaN\n",
              "38077     5328225            1      1  ...        NaN     NaN        NaN\n",
              "38078     5328225            1      2  ...     4771.0    45.0       47.0\n",
              "38079     5328225            1      3  ...        NaN     NaN        NaN\n",
              "\n",
              "[38080 rows x 34 columns]"
            ]
          },
          "metadata": {},
          "execution_count": 26
        }
      ]
    },
    {
      "cell_type": "code",
      "metadata": {
        "colab": {
          "base_uri": "https://localhost:8080/"
        },
        "id": "WcziM7UKfhjD",
        "outputId": "dfc85bec-f71e-4a95-9bab-cd9a62cb65e4"
      },
      "source": [
        "Base['ORDEN'] == Base['P6230']"
      ],
      "execution_count": null,
      "outputs": [
        {
          "output_type": "execute_result",
          "data": {
            "text/plain": [
              "0        False\n",
              "1        False\n",
              "2         True\n",
              "3        False\n",
              "4         True\n",
              "         ...  \n",
              "38075     True\n",
              "38076    False\n",
              "38077     True\n",
              "38078    False\n",
              "38079    False\n",
              "Length: 38080, dtype: bool"
            ]
          },
          "metadata": {},
          "execution_count": 27
        }
      ]
    },
    {
      "cell_type": "code",
      "metadata": {
        "colab": {
          "base_uri": "https://localhost:8080/",
          "height": 444
        },
        "id": "CNfmtkqIhqKy",
        "outputId": "6208a3b4-feec-46da-fbd0-380770be5912"
      },
      "source": [
        "Base"
      ],
      "execution_count": null,
      "outputs": [
        {
          "output_type": "execute_result",
          "data": {
            "text/html": [
              "<div>\n",
              "<style scoped>\n",
              "    .dataframe tbody tr th:only-of-type {\n",
              "        vertical-align: middle;\n",
              "    }\n",
              "\n",
              "    .dataframe tbody tr th {\n",
              "        vertical-align: top;\n",
              "    }\n",
              "\n",
              "    .dataframe thead th {\n",
              "        text-align: right;\n",
              "    }\n",
              "</style>\n",
              "<table border=\"1\" class=\"dataframe\">\n",
              "  <thead>\n",
              "    <tr style=\"text-align: right;\">\n",
              "      <th></th>\n",
              "      <th>DIRECTORIO</th>\n",
              "      <th>SECUENCIA_P</th>\n",
              "      <th>ORDEN</th>\n",
              "      <th>HOGAR</th>\n",
              "      <th>P6020</th>\n",
              "      <th>P6040</th>\n",
              "      <th>DPTO</th>\n",
              "      <th>P6230</th>\n",
              "      <th>P6240</th>\n",
              "      <th>P6250</th>\n",
              "      <th>P6260</th>\n",
              "      <th>P6270</th>\n",
              "      <th>P6280</th>\n",
              "      <th>P6290</th>\n",
              "      <th>P6300</th>\n",
              "      <th>P6310</th>\n",
              "      <th>P6320</th>\n",
              "      <th>P6330</th>\n",
              "      <th>P6340</th>\n",
              "      <th>P6350</th>\n",
              "      <th>P6351</th>\n",
              "      <th>Estado</th>\n",
              "      <th>P6430S1</th>\n",
              "      <th>P6500</th>\n",
              "      <th>P6750</th>\n",
              "      <th>P6760</th>\n",
              "      <th>P6800</th>\n",
              "      <th>P6850</th>\n",
              "      <th>P6830</th>\n",
              "      <th>P6830S1</th>\n",
              "      <th>P6430</th>\n",
              "      <th>RAMA4D_R4</th>\n",
              "      <th>OFICIO</th>\n",
              "      <th>RAMA2D_R4</th>\n",
              "    </tr>\n",
              "  </thead>\n",
              "  <tbody>\n",
              "    <tr>\n",
              "      <th>0</th>\n",
              "      <td>2187</td>\n",
              "      <td>1</td>\n",
              "      <td>1</td>\n",
              "      <td>1</td>\n",
              "      <td>2</td>\n",
              "      <td>0</td>\n",
              "      <td>97</td>\n",
              "      <td>NaN</td>\n",
              "      <td>NaN</td>\n",
              "      <td>NaN</td>\n",
              "      <td>NaN</td>\n",
              "      <td>NaN</td>\n",
              "      <td>NaN</td>\n",
              "      <td>NaN</td>\n",
              "      <td>NaN</td>\n",
              "      <td>NaN</td>\n",
              "      <td>NaN</td>\n",
              "      <td>NaN</td>\n",
              "      <td>NaN</td>\n",
              "      <td>NaN</td>\n",
              "      <td>NaN</td>\n",
              "      <td>NaN</td>\n",
              "      <td>NaN</td>\n",
              "      <td>NaN</td>\n",
              "      <td>NaN</td>\n",
              "      <td>NaN</td>\n",
              "      <td>NaN</td>\n",
              "      <td>NaN</td>\n",
              "      <td>NaN</td>\n",
              "      <td>NaN</td>\n",
              "      <td>NaN</td>\n",
              "      <td>NaN</td>\n",
              "      <td>NaN</td>\n",
              "      <td>NaN</td>\n",
              "    </tr>\n",
              "    <tr>\n",
              "      <th>1</th>\n",
              "      <td>2187</td>\n",
              "      <td>1</td>\n",
              "      <td>2</td>\n",
              "      <td>1</td>\n",
              "      <td>2</td>\n",
              "      <td>0</td>\n",
              "      <td>97</td>\n",
              "      <td>NaN</td>\n",
              "      <td>NaN</td>\n",
              "      <td>NaN</td>\n",
              "      <td>NaN</td>\n",
              "      <td>NaN</td>\n",
              "      <td>NaN</td>\n",
              "      <td>NaN</td>\n",
              "      <td>NaN</td>\n",
              "      <td>NaN</td>\n",
              "      <td>NaN</td>\n",
              "      <td>NaN</td>\n",
              "      <td>NaN</td>\n",
              "      <td>NaN</td>\n",
              "      <td>NaN</td>\n",
              "      <td>NaN</td>\n",
              "      <td>NaN</td>\n",
              "      <td>NaN</td>\n",
              "      <td>NaN</td>\n",
              "      <td>NaN</td>\n",
              "      <td>NaN</td>\n",
              "      <td>NaN</td>\n",
              "      <td>NaN</td>\n",
              "      <td>NaN</td>\n",
              "      <td>NaN</td>\n",
              "      <td>NaN</td>\n",
              "      <td>NaN</td>\n",
              "      <td>NaN</td>\n",
              "    </tr>\n",
              "    <tr>\n",
              "      <th>2</th>\n",
              "      <td>2187</td>\n",
              "      <td>1</td>\n",
              "      <td>3</td>\n",
              "      <td>1</td>\n",
              "      <td>2</td>\n",
              "      <td>47</td>\n",
              "      <td>97</td>\n",
              "      <td>3.0</td>\n",
              "      <td>4.0</td>\n",
              "      <td>2</td>\n",
              "      <td>2</td>\n",
              "      <td>2</td>\n",
              "      <td>2</td>\n",
              "      <td></td>\n",
              "      <td>1</td>\n",
              "      <td>4</td>\n",
              "      <td>1</td>\n",
              "      <td>2</td>\n",
              "      <td></td>\n",
              "      <td></td>\n",
              "      <td></td>\n",
              "      <td>Inactivos</td>\n",
              "      <td>NaN</td>\n",
              "      <td>NaN</td>\n",
              "      <td>NaN</td>\n",
              "      <td>NaN</td>\n",
              "      <td>NaN</td>\n",
              "      <td>NaN</td>\n",
              "      <td>NaN</td>\n",
              "      <td>NaN</td>\n",
              "      <td>NaN</td>\n",
              "      <td>NaN</td>\n",
              "      <td>NaN</td>\n",
              "      <td>NaN</td>\n",
              "    </tr>\n",
              "    <tr>\n",
              "      <th>3</th>\n",
              "      <td>2187</td>\n",
              "      <td>1</td>\n",
              "      <td>4</td>\n",
              "      <td>1</td>\n",
              "      <td>1</td>\n",
              "      <td>5</td>\n",
              "      <td>97</td>\n",
              "      <td>NaN</td>\n",
              "      <td>NaN</td>\n",
              "      <td>NaN</td>\n",
              "      <td>NaN</td>\n",
              "      <td>NaN</td>\n",
              "      <td>NaN</td>\n",
              "      <td>NaN</td>\n",
              "      <td>NaN</td>\n",
              "      <td>NaN</td>\n",
              "      <td>NaN</td>\n",
              "      <td>NaN</td>\n",
              "      <td>NaN</td>\n",
              "      <td>NaN</td>\n",
              "      <td>NaN</td>\n",
              "      <td>NaN</td>\n",
              "      <td>NaN</td>\n",
              "      <td>NaN</td>\n",
              "      <td>NaN</td>\n",
              "      <td>NaN</td>\n",
              "      <td>NaN</td>\n",
              "      <td>NaN</td>\n",
              "      <td>NaN</td>\n",
              "      <td>NaN</td>\n",
              "      <td>NaN</td>\n",
              "      <td>NaN</td>\n",
              "      <td>NaN</td>\n",
              "      <td>NaN</td>\n",
              "    </tr>\n",
              "    <tr>\n",
              "      <th>4</th>\n",
              "      <td>2187</td>\n",
              "      <td>1</td>\n",
              "      <td>5</td>\n",
              "      <td>1</td>\n",
              "      <td>1</td>\n",
              "      <td>16</td>\n",
              "      <td>97</td>\n",
              "      <td>5.0</td>\n",
              "      <td>4.0</td>\n",
              "      <td>2</td>\n",
              "      <td>2</td>\n",
              "      <td>2</td>\n",
              "      <td>2</td>\n",
              "      <td></td>\n",
              "      <td>2</td>\n",
              "      <td></td>\n",
              "      <td></td>\n",
              "      <td></td>\n",
              "      <td></td>\n",
              "      <td></td>\n",
              "      <td></td>\n",
              "      <td>Inactivos</td>\n",
              "      <td>NaN</td>\n",
              "      <td>NaN</td>\n",
              "      <td>NaN</td>\n",
              "      <td>NaN</td>\n",
              "      <td>NaN</td>\n",
              "      <td>NaN</td>\n",
              "      <td>NaN</td>\n",
              "      <td>NaN</td>\n",
              "      <td>NaN</td>\n",
              "      <td>NaN</td>\n",
              "      <td>NaN</td>\n",
              "      <td>NaN</td>\n",
              "    </tr>\n",
              "    <tr>\n",
              "      <th>...</th>\n",
              "      <td>...</td>\n",
              "      <td>...</td>\n",
              "      <td>...</td>\n",
              "      <td>...</td>\n",
              "      <td>...</td>\n",
              "      <td>...</td>\n",
              "      <td>...</td>\n",
              "      <td>...</td>\n",
              "      <td>...</td>\n",
              "      <td>...</td>\n",
              "      <td>...</td>\n",
              "      <td>...</td>\n",
              "      <td>...</td>\n",
              "      <td>...</td>\n",
              "      <td>...</td>\n",
              "      <td>...</td>\n",
              "      <td>...</td>\n",
              "      <td>...</td>\n",
              "      <td>...</td>\n",
              "      <td>...</td>\n",
              "      <td>...</td>\n",
              "      <td>...</td>\n",
              "      <td>...</td>\n",
              "      <td>...</td>\n",
              "      <td>...</td>\n",
              "      <td>...</td>\n",
              "      <td>...</td>\n",
              "      <td>...</td>\n",
              "      <td>...</td>\n",
              "      <td>...</td>\n",
              "      <td>...</td>\n",
              "      <td>...</td>\n",
              "      <td>...</td>\n",
              "      <td>...</td>\n",
              "    </tr>\n",
              "    <tr>\n",
              "      <th>38075</th>\n",
              "      <td>5328146</td>\n",
              "      <td>1</td>\n",
              "      <td>2</td>\n",
              "      <td>1</td>\n",
              "      <td>2</td>\n",
              "      <td>55</td>\n",
              "      <td>86</td>\n",
              "      <td>2.0</td>\n",
              "      <td>4.0</td>\n",
              "      <td>2</td>\n",
              "      <td>2</td>\n",
              "      <td>2</td>\n",
              "      <td>2</td>\n",
              "      <td></td>\n",
              "      <td>2</td>\n",
              "      <td></td>\n",
              "      <td></td>\n",
              "      <td></td>\n",
              "      <td></td>\n",
              "      <td></td>\n",
              "      <td></td>\n",
              "      <td>Inactivos</td>\n",
              "      <td>NaN</td>\n",
              "      <td>NaN</td>\n",
              "      <td>NaN</td>\n",
              "      <td>NaN</td>\n",
              "      <td>NaN</td>\n",
              "      <td>NaN</td>\n",
              "      <td>NaN</td>\n",
              "      <td>NaN</td>\n",
              "      <td>NaN</td>\n",
              "      <td>NaN</td>\n",
              "      <td>NaN</td>\n",
              "      <td>NaN</td>\n",
              "    </tr>\n",
              "    <tr>\n",
              "      <th>38076</th>\n",
              "      <td>5328146</td>\n",
              "      <td>1</td>\n",
              "      <td>3</td>\n",
              "      <td>1</td>\n",
              "      <td>1</td>\n",
              "      <td>3</td>\n",
              "      <td>86</td>\n",
              "      <td>NaN</td>\n",
              "      <td>NaN</td>\n",
              "      <td>NaN</td>\n",
              "      <td>NaN</td>\n",
              "      <td>NaN</td>\n",
              "      <td>NaN</td>\n",
              "      <td>NaN</td>\n",
              "      <td>NaN</td>\n",
              "      <td>NaN</td>\n",
              "      <td>NaN</td>\n",
              "      <td>NaN</td>\n",
              "      <td>NaN</td>\n",
              "      <td>NaN</td>\n",
              "      <td>NaN</td>\n",
              "      <td>NaN</td>\n",
              "      <td>NaN</td>\n",
              "      <td>NaN</td>\n",
              "      <td>NaN</td>\n",
              "      <td>NaN</td>\n",
              "      <td>NaN</td>\n",
              "      <td>NaN</td>\n",
              "      <td>NaN</td>\n",
              "      <td>NaN</td>\n",
              "      <td>NaN</td>\n",
              "      <td>NaN</td>\n",
              "      <td>NaN</td>\n",
              "      <td>NaN</td>\n",
              "    </tr>\n",
              "    <tr>\n",
              "      <th>38077</th>\n",
              "      <td>5328225</td>\n",
              "      <td>1</td>\n",
              "      <td>1</td>\n",
              "      <td>1</td>\n",
              "      <td>2</td>\n",
              "      <td>41</td>\n",
              "      <td>86</td>\n",
              "      <td>1.0</td>\n",
              "      <td>2.0</td>\n",
              "      <td>2</td>\n",
              "      <td>2</td>\n",
              "      <td>2</td>\n",
              "      <td>1</td>\n",
              "      <td>1</td>\n",
              "      <td></td>\n",
              "      <td></td>\n",
              "      <td></td>\n",
              "      <td></td>\n",
              "      <td></td>\n",
              "      <td></td>\n",
              "      <td>1</td>\n",
              "      <td>Desocupado</td>\n",
              "      <td>NaN</td>\n",
              "      <td>NaN</td>\n",
              "      <td>NaN</td>\n",
              "      <td>NaN</td>\n",
              "      <td>NaN</td>\n",
              "      <td>NaN</td>\n",
              "      <td>NaN</td>\n",
              "      <td>NaN</td>\n",
              "      <td>NaN</td>\n",
              "      <td>NaN</td>\n",
              "      <td>NaN</td>\n",
              "      <td>NaN</td>\n",
              "    </tr>\n",
              "    <tr>\n",
              "      <th>38078</th>\n",
              "      <td>5328225</td>\n",
              "      <td>1</td>\n",
              "      <td>2</td>\n",
              "      <td>1</td>\n",
              "      <td>2</td>\n",
              "      <td>16</td>\n",
              "      <td>86</td>\n",
              "      <td>1.0</td>\n",
              "      <td>1.0</td>\n",
              "      <td></td>\n",
              "      <td></td>\n",
              "      <td></td>\n",
              "      <td></td>\n",
              "      <td></td>\n",
              "      <td></td>\n",
              "      <td></td>\n",
              "      <td></td>\n",
              "      <td></td>\n",
              "      <td></td>\n",
              "      <td></td>\n",
              "      <td></td>\n",
              "      <td>Ocupados</td>\n",
              "      <td></td>\n",
              "      <td>400000</td>\n",
              "      <td></td>\n",
              "      <td></td>\n",
              "      <td>24.0</td>\n",
              "      <td>24.0</td>\n",
              "      <td></td>\n",
              "      <td></td>\n",
              "      <td>1.0</td>\n",
              "      <td>4771.0</td>\n",
              "      <td>45.0</td>\n",
              "      <td>47.0</td>\n",
              "    </tr>\n",
              "    <tr>\n",
              "      <th>38079</th>\n",
              "      <td>5328225</td>\n",
              "      <td>1</td>\n",
              "      <td>3</td>\n",
              "      <td>1</td>\n",
              "      <td>1</td>\n",
              "      <td>0</td>\n",
              "      <td>86</td>\n",
              "      <td>NaN</td>\n",
              "      <td>NaN</td>\n",
              "      <td>NaN</td>\n",
              "      <td>NaN</td>\n",
              "      <td>NaN</td>\n",
              "      <td>NaN</td>\n",
              "      <td>NaN</td>\n",
              "      <td>NaN</td>\n",
              "      <td>NaN</td>\n",
              "      <td>NaN</td>\n",
              "      <td>NaN</td>\n",
              "      <td>NaN</td>\n",
              "      <td>NaN</td>\n",
              "      <td>NaN</td>\n",
              "      <td>NaN</td>\n",
              "      <td>NaN</td>\n",
              "      <td>NaN</td>\n",
              "      <td>NaN</td>\n",
              "      <td>NaN</td>\n",
              "      <td>NaN</td>\n",
              "      <td>NaN</td>\n",
              "      <td>NaN</td>\n",
              "      <td>NaN</td>\n",
              "      <td>NaN</td>\n",
              "      <td>NaN</td>\n",
              "      <td>NaN</td>\n",
              "      <td>NaN</td>\n",
              "    </tr>\n",
              "  </tbody>\n",
              "</table>\n",
              "<p>38080 rows × 34 columns</p>\n",
              "</div>"
            ],
            "text/plain": [
              "       DIRECTORIO  SECUENCIA_P  ORDEN  ...  RAMA4D_R4  OFICIO  RAMA2D_R4\n",
              "0            2187            1      1  ...        NaN     NaN        NaN\n",
              "1            2187            1      2  ...        NaN     NaN        NaN\n",
              "2            2187            1      3  ...        NaN     NaN        NaN\n",
              "3            2187            1      4  ...        NaN     NaN        NaN\n",
              "4            2187            1      5  ...        NaN     NaN        NaN\n",
              "...           ...          ...    ...  ...        ...     ...        ...\n",
              "38075     5328146            1      2  ...        NaN     NaN        NaN\n",
              "38076     5328146            1      3  ...        NaN     NaN        NaN\n",
              "38077     5328225            1      1  ...        NaN     NaN        NaN\n",
              "38078     5328225            1      2  ...     4771.0    45.0       47.0\n",
              "38079     5328225            1      3  ...        NaN     NaN        NaN\n",
              "\n",
              "[38080 rows x 34 columns]"
            ]
          },
          "metadata": {},
          "execution_count": 28
        }
      ]
    },
    {
      "cell_type": "markdown",
      "metadata": {
        "id": "PBsVWnMONqf2"
      },
      "source": [
        "REGION  ORINOQUIA\n",
        "Arauca, Casanare y Vichada. \n",
        "REGION AMAZONIA\n",
        "Amazonas, Putumayo, Guainía, Guaviare y Vaupés.\n",
        "DPTO\n",
        "81 Arauca (Arauca)\n",
        "85 Casanare (Yopal)\n",
        "86 Putumayo (Mocoa)\n",
        "91 Amazonas (Leticia)\n",
        "94 Guainía (Inírida)\n",
        "95 Guaviare (San José del Guaviare)\n",
        "97 Vaupés (Mitú)\n",
        "99 Vichada (Puerto Carreño)\n",
        "\n"
      ]
    },
    {
      "cell_type": "markdown",
      "metadata": {
        "id": "Au3gjOz3WlwV"
      },
      "source": [
        "SEXOS"
      ]
    },
    {
      "cell_type": "code",
      "metadata": {
        "id": "zbZt1wBpS1vD"
      },
      "source": [
        "masculino = Base.loc[:, 'P6020'] == 1"
      ],
      "execution_count": null,
      "outputs": []
    },
    {
      "cell_type": "code",
      "metadata": {
        "colab": {
          "base_uri": "https://localhost:8080/"
        },
        "id": "5q1YOV6Pxwcd",
        "outputId": "6a0b1eb6-6fef-49c1-a15e-c4804bd060c8"
      },
      "source": [
        "Base.columns"
      ],
      "execution_count": null,
      "outputs": [
        {
          "output_type": "execute_result",
          "data": {
            "text/plain": [
              "Index(['DIRECTORIO', 'SECUENCIA_P', 'ORDEN', 'HOGAR', 'P6020', 'P6040', 'DPTO',\n",
              "       'P6230', 'P6240', 'P6250', 'P6260', 'P6270', 'P6280', 'P6290', 'P6300',\n",
              "       'P6310', 'P6320', 'P6330', 'P6340', 'P6350', 'P6351', 'Estado',\n",
              "       'P6430S1', 'P6500', 'P6750', 'P6760', 'P6800', 'P6850', 'P6830',\n",
              "       'P6830S1', 'P6430', 'RAMA4D_R4', 'OFICIO', 'RAMA2D_R4'],\n",
              "      dtype='object')"
            ]
          },
          "metadata": {},
          "execution_count": 82
        }
      ]
    },
    {
      "cell_type": "code",
      "metadata": {
        "id": "opiZBUrqTJRk"
      },
      "source": [
        "df_masculino = Base.loc[masculino]"
      ],
      "execution_count": null,
      "outputs": []
    },
    {
      "cell_type": "code",
      "metadata": {
        "id": "8FBIMVaUS4NH"
      },
      "source": [
        "femenino = Base.loc[:, 'P6020'] == 2"
      ],
      "execution_count": null,
      "outputs": []
    },
    {
      "cell_type": "code",
      "metadata": {
        "id": "xKAS38d9TiEd"
      },
      "source": [
        "df_femenino = Base.loc[femenino]\n"
      ],
      "execution_count": null,
      "outputs": []
    },
    {
      "cell_type": "markdown",
      "metadata": {
        "id": "PMI-iWQcWnr6"
      },
      "source": [
        "DEPARTAMENTOS\n"
      ]
    },
    {
      "cell_type": "code",
      "metadata": {
        "id": "BKAB18ANWp8-"
      },
      "source": [
        "#ARAUCA\n",
        "arauca = Base.loc[:, 'DPTO'] == 81\n",
        "df_arauca = Base.loc[arauca] # De los individuos escuestados, Hay 5230 personas en Arauca"
      ],
      "execution_count": null,
      "outputs": []
    },
    {
      "cell_type": "code",
      "metadata": {
        "id": "J3bbIjhbZBC5"
      },
      "source": [
        "#CASANARE\n",
        "casanare = Base.loc[:, 'DPTO'] == 85\n",
        "df_casanare = Base.loc[casanare] # De los individuos escuestados, Hay 5735 personas en Casanare"
      ],
      "execution_count": null,
      "outputs": []
    },
    {
      "cell_type": "code",
      "metadata": {
        "id": "eNIn5wI_Zxmz"
      },
      "source": [
        "#VICHADA\n",
        "vichada = Base.loc[:, 'DPTO'] == 99\n",
        "df_vichada = Base.loc[vichada] # De los individuos escuestados, Hay 3668 personas en Vichada"
      ],
      "execution_count": null,
      "outputs": []
    },
    {
      "cell_type": "code",
      "metadata": {
        "colab": {
          "base_uri": "https://localhost:8080/",
          "height": 312
        },
        "id": "CqWYHPmvejn_",
        "outputId": "54bc721d-5684-457e-e9ff-7d413dd7aef9"
      },
      "source": [
        "dep = [\"Arauca\", \"Casanare\", \"Vichada\"]\n",
        "data = [5230, 5735, 3668]\n",
        "plt.bar(dep, data)\n",
        "plt.title(\"Cantidad de individuos por departamento\")\n",
        "plt.xlabel(\"Departamento\")\n",
        "plt.ylabel(\"Frecuencia\")"
      ],
      "execution_count": null,
      "outputs": [
        {
          "output_type": "execute_result",
          "data": {
            "text/plain": [
              "Text(0, 0.5, 'Frecuencia')"
            ]
          },
          "metadata": {},
          "execution_count": 36
        },
        {
          "output_type": "display_data",
          "data": {
            "image/png": "[encoded data removed]",
            "text/plain": [
              "<Figure size 432x288 with 1 Axes>"
            ]
          },
          "metadata": {
            "needs_background": "light"
          }
        }
      ]
    },
    {
      "cell_type": "code",
      "metadata": {
        "id": "Pdw9yS_ZscMR"
      },
      "source": [
        ""
      ],
      "execution_count": null,
      "outputs": []
    },
    {
      "cell_type": "code",
      "metadata": {
        "id": "RgKBf4i7e82J"
      },
      "source": [
        ""
      ],
      "execution_count": null,
      "outputs": []
    },
    {
      "cell_type": "markdown",
      "metadata": {
        "id": "zDDWtv_Kcco_"
      },
      "source": [
        "De los encuestados, hay 18433 hombree en la region de Orinoquia y Amezanonia y 19647 mujeres.\n"
      ]
    },
    {
      "cell_type": "code",
      "metadata": {
        "colab": {
          "base_uri": "https://localhost:8080/"
        },
        "id": "Wmzj3bz_cbhq",
        "outputId": "f1f09047-379c-470c-9a7f-5014e2206504"
      },
      "source": [
        "18433 + 19647"
      ],
      "execution_count": null,
      "outputs": [
        {
          "output_type": "execute_result",
          "data": {
            "text/plain": [
              "38080"
            ]
          },
          "metadata": {},
          "execution_count": 37
        }
      ]
    },
    {
      "cell_type": "code",
      "metadata": {
        "colab": {
          "base_uri": "https://localhost:8080/",
          "height": 312
        },
        "id": "JioWPbLMk6_9",
        "outputId": "862a40f4-f1ed-4c8c-9b5d-203f97233920"
      },
      "source": [
        "Sexo = [\"Hombre\", \"Mujeres\"]\n",
        "Freq = [18433, 19647]\n",
        "plt.bar(Sexo, Freq)\n",
        "plt.title(\"Estructura de sexo en Amazonía y  Orinoquía\")\n",
        "plt.xlabel(\"Sexo\")\n",
        "plt.ylabel(\"Frecuencia\")\n"
      ],
      "execution_count": null,
      "outputs": [
        {
          "output_type": "execute_result",
          "data": {
            "text/plain": [
              "Text(0, 0.5, 'Frecuencia')"
            ]
          },
          "metadata": {},
          "execution_count": 38
        },
        {
          "output_type": "display_data",
          "data": {
            "image/png": "[encoded data removed]",
            "text/plain": [
              "<Figure size 432x288 with 1 Axes>"
            ]
          },
          "metadata": {
            "needs_background": "light"
          }
        }
      ]
    },
    {
      "cell_type": "markdown",
      "metadata": {
        "id": "0bISfZOxgbyu"
      },
      "source": [
        "¿Cuantos hombres y mujeres hay en el departamento de Arauca?"
      ]
    },
    {
      "cell_type": "code",
      "metadata": {
        "id": "i5pZjeCKN2bW"
      },
      "source": [
        "a = df_masculino.iloc[:,[4,6]] \n",
        "arauca_1 = a.loc[:, 'DPTO'] == 81\n",
        "df_arauca1 = a.loc[arauca_1]"
      ],
      "execution_count": null,
      "outputs": []
    },
    {
      "cell_type": "code",
      "metadata": {
        "colab": {
          "base_uri": "https://localhost:8080/",
          "height": 424
        },
        "id": "FuqMt-TeekyO",
        "outputId": "6736ac3b-44dc-4a26-bf6c-7a56c87fa010"
      },
      "source": [
        "df_arauca1"
      ],
      "execution_count": null,
      "outputs": [
        {
          "output_type": "execute_result",
          "data": {
            "text/html": [
              "<div>\n",
              "<style scoped>\n",
              "    .dataframe tbody tr th:only-of-type {\n",
              "        vertical-align: middle;\n",
              "    }\n",
              "\n",
              "    .dataframe tbody tr th {\n",
              "        vertical-align: top;\n",
              "    }\n",
              "\n",
              "    .dataframe thead th {\n",
              "        text-align: right;\n",
              "    }\n",
              "</style>\n",
              "<table border=\"1\" class=\"dataframe\">\n",
              "  <thead>\n",
              "    <tr style=\"text-align: right;\">\n",
              "      <th></th>\n",
              "      <th>P6020</th>\n",
              "      <th>DPTO</th>\n",
              "    </tr>\n",
              "  </thead>\n",
              "  <tbody>\n",
              "    <tr>\n",
              "      <th>454</th>\n",
              "      <td>1</td>\n",
              "      <td>81</td>\n",
              "    </tr>\n",
              "    <tr>\n",
              "      <th>457</th>\n",
              "      <td>1</td>\n",
              "      <td>81</td>\n",
              "    </tr>\n",
              "    <tr>\n",
              "      <th>458</th>\n",
              "      <td>1</td>\n",
              "      <td>81</td>\n",
              "    </tr>\n",
              "    <tr>\n",
              "      <th>459</th>\n",
              "      <td>1</td>\n",
              "      <td>81</td>\n",
              "    </tr>\n",
              "    <tr>\n",
              "      <th>464</th>\n",
              "      <td>1</td>\n",
              "      <td>81</td>\n",
              "    </tr>\n",
              "    <tr>\n",
              "      <th>...</th>\n",
              "      <td>...</td>\n",
              "      <td>...</td>\n",
              "    </tr>\n",
              "    <tr>\n",
              "      <th>38020</th>\n",
              "      <td>1</td>\n",
              "      <td>81</td>\n",
              "    </tr>\n",
              "    <tr>\n",
              "      <th>38046</th>\n",
              "      <td>1</td>\n",
              "      <td>81</td>\n",
              "    </tr>\n",
              "    <tr>\n",
              "      <th>38049</th>\n",
              "      <td>1</td>\n",
              "      <td>81</td>\n",
              "    </tr>\n",
              "    <tr>\n",
              "      <th>38052</th>\n",
              "      <td>1</td>\n",
              "      <td>81</td>\n",
              "    </tr>\n",
              "    <tr>\n",
              "      <th>38054</th>\n",
              "      <td>1</td>\n",
              "      <td>81</td>\n",
              "    </tr>\n",
              "  </tbody>\n",
              "</table>\n",
              "<p>2514 rows × 2 columns</p>\n",
              "</div>"
            ],
            "text/plain": [
              "       P6020  DPTO\n",
              "454        1    81\n",
              "457        1    81\n",
              "458        1    81\n",
              "459        1    81\n",
              "464        1    81\n",
              "...      ...   ...\n",
              "38020      1    81\n",
              "38046      1    81\n",
              "38049      1    81\n",
              "38052      1    81\n",
              "38054      1    81\n",
              "\n",
              "[2514 rows x 2 columns]"
            ]
          },
          "metadata": {},
          "execution_count": 40
        }
      ]
    },
    {
      "cell_type": "code",
      "metadata": {
        "colab": {
          "base_uri": "https://localhost:8080/",
          "height": 312
        },
        "id": "Za0SGlc8m_ID",
        "outputId": "3350068c-1cac-4947-bec6-cb4de17dffa8"
      },
      "source": [
        "Sexo = [\"Hombre\", \"Mujeres\"]\n",
        "Freq = [2515, 2716]\n",
        "plt.bar(Sexo, Freq)\n",
        "plt.title(\"Estructura de sexo en Arauca\")\n",
        "plt.xlabel(\"Sexo\")\n",
        "plt.ylabel(\"Frecuencia\")"
      ],
      "execution_count": null,
      "outputs": [
        {
          "output_type": "execute_result",
          "data": {
            "text/plain": [
              "Text(0, 0.5, 'Frecuencia')"
            ]
          },
          "metadata": {},
          "execution_count": 41
        },
        {
          "output_type": "display_data",
          "data": {
            "image/png": "[encoded data removed]",
            "text/plain": [
              "<Figure size 432x288 with 1 Axes>"
            ]
          },
          "metadata": {
            "needs_background": "light"
          }
        }
      ]
    },
    {
      "cell_type": "markdown",
      "metadata": {
        "id": "mePuLPOsgMoS"
      },
      "source": [
        "De los encuestados en el departamento de Arauca, 2514 son Hombres y 2716 son Mujeres."
      ]
    },
    {
      "cell_type": "code",
      "metadata": {
        "colab": {
          "base_uri": "https://localhost:8080/"
        },
        "id": "EcVypxC4h9dU",
        "outputId": "2740581b-7ca6-4862-f0dd-85c1ea6508d6"
      },
      "source": [
        "5230-2514 "
      ],
      "execution_count": null,
      "outputs": [
        {
          "output_type": "execute_result",
          "data": {
            "text/plain": [
              "2716"
            ]
          },
          "metadata": {},
          "execution_count": 42
        }
      ]
    },
    {
      "cell_type": "code",
      "metadata": {
        "colab": {
          "base_uri": "https://localhost:8080/"
        },
        "id": "KbZ_tf7V-_th",
        "outputId": "05f93479-2979-49be-ee7d-0d26d78aa84a"
      },
      "source": [
        "2514 + 2716"
      ],
      "execution_count": null,
      "outputs": [
        {
          "output_type": "execute_result",
          "data": {
            "text/plain": [
              "5230"
            ]
          },
          "metadata": {},
          "execution_count": 43
        }
      ]
    },
    {
      "cell_type": "markdown",
      "metadata": {
        "id": "s_0TYVhQi7qx"
      },
      "source": [
        "¿Cuantos hombres y mujeres hay en el departamento de Casanare?"
      ]
    },
    {
      "cell_type": "code",
      "metadata": {
        "colab": {
          "base_uri": "https://localhost:8080/",
          "height": 424
        },
        "id": "uZ26ztQea8Oe",
        "outputId": "463b3812-d406-4513-b2f9-169f7191d16e"
      },
      "source": [
        "casanare_1 = a.loc[:, 'DPTO'] == 85\n",
        "df_casanare1 = a.loc[casanare_1]\n",
        "df_casanare1"
      ],
      "execution_count": null,
      "outputs": [
        {
          "output_type": "execute_result",
          "data": {
            "text/html": [
              "<div>\n",
              "<style scoped>\n",
              "    .dataframe tbody tr th:only-of-type {\n",
              "        vertical-align: middle;\n",
              "    }\n",
              "\n",
              "    .dataframe tbody tr th {\n",
              "        vertical-align: top;\n",
              "    }\n",
              "\n",
              "    .dataframe thead th {\n",
              "        text-align: right;\n",
              "    }\n",
              "</style>\n",
              "<table border=\"1\" class=\"dataframe\">\n",
              "  <thead>\n",
              "    <tr style=\"text-align: right;\">\n",
              "      <th></th>\n",
              "      <th>P6020</th>\n",
              "      <th>DPTO</th>\n",
              "    </tr>\n",
              "  </thead>\n",
              "  <tbody>\n",
              "    <tr>\n",
              "      <th>176</th>\n",
              "      <td>1</td>\n",
              "      <td>85</td>\n",
              "    </tr>\n",
              "    <tr>\n",
              "      <th>212</th>\n",
              "      <td>1</td>\n",
              "      <td>85</td>\n",
              "    </tr>\n",
              "    <tr>\n",
              "      <th>213</th>\n",
              "      <td>1</td>\n",
              "      <td>85</td>\n",
              "    </tr>\n",
              "    <tr>\n",
              "      <th>217</th>\n",
              "      <td>1</td>\n",
              "      <td>85</td>\n",
              "    </tr>\n",
              "    <tr>\n",
              "      <th>228</th>\n",
              "      <td>1</td>\n",
              "      <td>85</td>\n",
              "    </tr>\n",
              "    <tr>\n",
              "      <th>...</th>\n",
              "      <td>...</td>\n",
              "      <td>...</td>\n",
              "    </tr>\n",
              "    <tr>\n",
              "      <th>37849</th>\n",
              "      <td>1</td>\n",
              "      <td>85</td>\n",
              "    </tr>\n",
              "    <tr>\n",
              "      <th>37850</th>\n",
              "      <td>1</td>\n",
              "      <td>85</td>\n",
              "    </tr>\n",
              "    <tr>\n",
              "      <th>37851</th>\n",
              "      <td>1</td>\n",
              "      <td>85</td>\n",
              "    </tr>\n",
              "    <tr>\n",
              "      <th>37853</th>\n",
              "      <td>1</td>\n",
              "      <td>85</td>\n",
              "    </tr>\n",
              "    <tr>\n",
              "      <th>37854</th>\n",
              "      <td>1</td>\n",
              "      <td>85</td>\n",
              "    </tr>\n",
              "  </tbody>\n",
              "</table>\n",
              "<p>2706 rows × 2 columns</p>\n",
              "</div>"
            ],
            "text/plain": [
              "       P6020  DPTO\n",
              "176        1    85\n",
              "212        1    85\n",
              "213        1    85\n",
              "217        1    85\n",
              "228        1    85\n",
              "...      ...   ...\n",
              "37849      1    85\n",
              "37850      1    85\n",
              "37851      1    85\n",
              "37853      1    85\n",
              "37854      1    85\n",
              "\n",
              "[2706 rows x 2 columns]"
            ]
          },
          "metadata": {},
          "execution_count": 44
        }
      ]
    },
    {
      "cell_type": "code",
      "metadata": {
        "colab": {
          "base_uri": "https://localhost:8080/",
          "height": 312
        },
        "id": "Y0vckUHwn5mH",
        "outputId": "ff005d8c-d5a5-4891-c168-3014ced56161"
      },
      "source": [
        "Sexo = [\"Hombre\", \"Mujeres\"]\n",
        "Freq = [2706, 3029]\n",
        "plt.bar(Sexo, Freq)\n",
        "plt.title(\"Estructura de sexo en Casanare\")\n",
        "plt.xlabel(\"Sexo\")\n",
        "plt.ylabel(\"Frecuencia\")"
      ],
      "execution_count": null,
      "outputs": [
        {
          "output_type": "execute_result",
          "data": {
            "text/plain": [
              "Text(0, 0.5, 'Frecuencia')"
            ]
          },
          "metadata": {},
          "execution_count": 45
        },
        {
          "output_type": "display_data",
          "data": {
            "image/png": "[encoded data removed]",
            "text/plain": [
              "<Figure size 432x288 with 1 Axes>"
            ]
          },
          "metadata": {
            "needs_background": "light"
          }
        }
      ]
    },
    {
      "cell_type": "markdown",
      "metadata": {
        "id": "ZROkiddNjamB"
      },
      "source": [
        "De los encuestados en el departamento de Casanare, 2706 son hombres y 3029 son mujeres."
      ]
    },
    {
      "cell_type": "code",
      "metadata": {
        "colab": {
          "base_uri": "https://localhost:8080/"
        },
        "id": "eWFS-5hDbnP_",
        "outputId": "8ddc4218-ccfd-4a60-8959-559f15ce1a54"
      },
      "source": [
        "5735-2706 "
      ],
      "execution_count": null,
      "outputs": [
        {
          "output_type": "execute_result",
          "data": {
            "text/plain": [
              "3029"
            ]
          },
          "metadata": {},
          "execution_count": 46
        }
      ]
    },
    {
      "cell_type": "code",
      "metadata": {
        "colab": {
          "base_uri": "https://localhost:8080/"
        },
        "id": "iElhzGqP_Ymi",
        "outputId": "54cd6ec3-ef75-47f1-f5ab-58c84f02b1a9"
      },
      "source": [
        "2706  + 3029"
      ],
      "execution_count": null,
      "outputs": [
        {
          "output_type": "execute_result",
          "data": {
            "text/plain": [
              "5735"
            ]
          },
          "metadata": {},
          "execution_count": 47
        }
      ]
    },
    {
      "cell_type": "markdown",
      "metadata": {
        "id": "qjtjtBaRj-Um"
      },
      "source": [
        "¿Cuantos hombres y mujeres hay en el departamento de Vichada?"
      ]
    },
    {
      "cell_type": "code",
      "metadata": {
        "colab": {
          "base_uri": "https://localhost:8080/",
          "height": 424
        },
        "id": "L7umVEg1jtSE",
        "outputId": "4b0d6dbd-81da-4138-f25e-e24e64474be6"
      },
      "source": [
        "vichada_1 = a.loc[:, 'DPTO'] == 99\n",
        "df_vichada1 = a.loc[vichada_1]\n",
        "df_vichada1"
      ],
      "execution_count": null,
      "outputs": [
        {
          "output_type": "execute_result",
          "data": {
            "text/html": [
              "<div>\n",
              "<style scoped>\n",
              "    .dataframe tbody tr th:only-of-type {\n",
              "        vertical-align: middle;\n",
              "    }\n",
              "\n",
              "    .dataframe tbody tr th {\n",
              "        vertical-align: top;\n",
              "    }\n",
              "\n",
              "    .dataframe thead th {\n",
              "        text-align: right;\n",
              "    }\n",
              "</style>\n",
              "<table border=\"1\" class=\"dataframe\">\n",
              "  <thead>\n",
              "    <tr style=\"text-align: right;\">\n",
              "      <th></th>\n",
              "      <th>P6020</th>\n",
              "      <th>DPTO</th>\n",
              "    </tr>\n",
              "  </thead>\n",
              "  <tbody>\n",
              "    <tr>\n",
              "      <th>6</th>\n",
              "      <td>1</td>\n",
              "      <td>99</td>\n",
              "    </tr>\n",
              "    <tr>\n",
              "      <th>12</th>\n",
              "      <td>1</td>\n",
              "      <td>99</td>\n",
              "    </tr>\n",
              "    <tr>\n",
              "      <th>31</th>\n",
              "      <td>1</td>\n",
              "      <td>99</td>\n",
              "    </tr>\n",
              "    <tr>\n",
              "      <th>34</th>\n",
              "      <td>1</td>\n",
              "      <td>99</td>\n",
              "    </tr>\n",
              "    <tr>\n",
              "      <th>39</th>\n",
              "      <td>1</td>\n",
              "      <td>99</td>\n",
              "    </tr>\n",
              "    <tr>\n",
              "      <th>...</th>\n",
              "      <td>...</td>\n",
              "      <td>...</td>\n",
              "    </tr>\n",
              "    <tr>\n",
              "      <th>37771</th>\n",
              "      <td>1</td>\n",
              "      <td>99</td>\n",
              "    </tr>\n",
              "    <tr>\n",
              "      <th>37774</th>\n",
              "      <td>1</td>\n",
              "      <td>99</td>\n",
              "    </tr>\n",
              "    <tr>\n",
              "      <th>37775</th>\n",
              "      <td>1</td>\n",
              "      <td>99</td>\n",
              "    </tr>\n",
              "    <tr>\n",
              "      <th>37778</th>\n",
              "      <td>1</td>\n",
              "      <td>99</td>\n",
              "    </tr>\n",
              "    <tr>\n",
              "      <th>38044</th>\n",
              "      <td>1</td>\n",
              "      <td>99</td>\n",
              "    </tr>\n",
              "  </tbody>\n",
              "</table>\n",
              "<p>1823 rows × 2 columns</p>\n",
              "</div>"
            ],
            "text/plain": [
              "       P6020  DPTO\n",
              "6          1    99\n",
              "12         1    99\n",
              "31         1    99\n",
              "34         1    99\n",
              "39         1    99\n",
              "...      ...   ...\n",
              "37771      1    99\n",
              "37774      1    99\n",
              "37775      1    99\n",
              "37778      1    99\n",
              "38044      1    99\n",
              "\n",
              "[1823 rows x 2 columns]"
            ]
          },
          "metadata": {},
          "execution_count": 48
        }
      ]
    },
    {
      "cell_type": "code",
      "metadata": {
        "colab": {
          "base_uri": "https://localhost:8080/",
          "height": 312
        },
        "id": "u85VW6BfoTzn",
        "outputId": "ceb997e1-9e7a-4358-af58-ea62e8e62cee"
      },
      "source": [
        "Sexo = [\"Hombre\", \"Mujeres\"]\n",
        "Freq = [1823, 1845]\n",
        "plt.bar(Sexo, Freq)\n",
        "plt.title(\"Estructura de sexo en Vichada\")\n",
        "plt.xlabel(\"Sexo\")\n",
        "plt.ylabel(\"Frecuencia\")"
      ],
      "execution_count": null,
      "outputs": [
        {
          "output_type": "execute_result",
          "data": {
            "text/plain": [
              "Text(0, 0.5, 'Frecuencia')"
            ]
          },
          "metadata": {},
          "execution_count": 49
        },
        {
          "output_type": "display_data",
          "data": {
            "image/png": "[encoded data removed]",
            "text/plain": [
              "<Figure size 432x288 with 1 Axes>"
            ]
          },
          "metadata": {
            "needs_background": "light"
          }
        }
      ]
    },
    {
      "cell_type": "markdown",
      "metadata": {
        "id": "r2_O2dgakemF"
      },
      "source": [
        "De los encuestados en el departamento de Vichada, 1823 son hombres y 1845 son mujeres."
      ]
    },
    {
      "cell_type": "code",
      "metadata": {
        "colab": {
          "base_uri": "https://localhost:8080/"
        },
        "id": "RV-J6g6-j9Il",
        "outputId": "78dcd373-52e7-4553-d838-c16216462364"
      },
      "source": [
        "3668 - 1823"
      ],
      "execution_count": null,
      "outputs": [
        {
          "output_type": "execute_result",
          "data": {
            "text/plain": [
              "1845"
            ]
          },
          "metadata": {},
          "execution_count": 50
        }
      ]
    },
    {
      "cell_type": "code",
      "metadata": {
        "colab": {
          "base_uri": "https://localhost:8080/"
        },
        "id": "SYletTVS_f5u",
        "outputId": "705b11c8-cbf6-4e1b-ebfa-ccc488780b35"
      },
      "source": [
        "1823 + 1845"
      ],
      "execution_count": null,
      "outputs": [
        {
          "output_type": "execute_result",
          "data": {
            "text/plain": [
              "3668"
            ]
          },
          "metadata": {},
          "execution_count": 51
        }
      ]
    },
    {
      "cell_type": "code",
      "metadata": {
        "colab": {
          "base_uri": "https://localhost:8080/"
        },
        "id": "LhzATKfW_kw4",
        "outputId": "9fa2ef24-3b29-44fc-f3fc-85286fd4c6e0"
      },
      "source": [
        "5230 + 5735 + 3668"
      ],
      "execution_count": null,
      "outputs": [
        {
          "output_type": "execute_result",
          "data": {
            "text/plain": [
              "14633"
            ]
          },
          "metadata": {},
          "execution_count": 52
        }
      ]
    },
    {
      "cell_type": "markdown",
      "metadata": {
        "id": "PKhCP5PSkyDP"
      },
      "source": [
        "¿CUANTOS HOMBRES HAY EN LA REGION ORINOQUIA?"
      ]
    },
    {
      "cell_type": "code",
      "metadata": {
        "colab": {
          "base_uri": "https://localhost:8080/"
        },
        "id": "_1z7kTVbkqZ2",
        "outputId": "c8817e67-6086-49e9-9533-99dd9663468c"
      },
      "source": [
        "2514 + 2706 + 1823"
      ],
      "execution_count": null,
      "outputs": [
        {
          "output_type": "execute_result",
          "data": {
            "text/plain": [
              "7043"
            ]
          },
          "metadata": {},
          "execution_count": 53
        }
      ]
    },
    {
      "cell_type": "markdown",
      "metadata": {
        "id": "SKk7g6b_k2bJ"
      },
      "source": [
        "¿CUANTOS MUJERES HAY EN LA REGION ORINOQUIA?"
      ]
    },
    {
      "cell_type": "code",
      "metadata": {
        "colab": {
          "base_uri": "https://localhost:8080/"
        },
        "id": "-_ODAc7AlJXT",
        "outputId": "5fc2fa89-ca6b-4ba8-d5aa-6490ab2ada5a"
      },
      "source": [
        "2716+ 3029 + 1845"
      ],
      "execution_count": null,
      "outputs": [
        {
          "output_type": "execute_result",
          "data": {
            "text/plain": [
              "7590"
            ]
          },
          "metadata": {},
          "execution_count": 54
        }
      ]
    },
    {
      "cell_type": "markdown",
      "metadata": {
        "id": "o_n-Iwx8lXO8"
      },
      "source": [
        "¿CUANTAS PERSONAS HAY EN LA REGION ORINOQUIA?"
      ]
    },
    {
      "cell_type": "code",
      "metadata": {
        "colab": {
          "base_uri": "https://localhost:8080/"
        },
        "id": "welBB7SHlRhH",
        "outputId": "db9f1837-ff30-423b-85fb-c3a89a424470"
      },
      "source": [
        "7043 + 7590"
      ],
      "execution_count": null,
      "outputs": [
        {
          "output_type": "execute_result",
          "data": {
            "text/plain": [
              "14633"
            ]
          },
          "metadata": {},
          "execution_count": 55
        }
      ]
    },
    {
      "cell_type": "code",
      "metadata": {
        "colab": {
          "base_uri": "https://localhost:8080/",
          "height": 312
        },
        "id": "cPykVAdfoiXx",
        "outputId": "b2438b6d-d655-4df6-997e-b17814a52dab"
      },
      "source": [
        "Sexo = [\"Hombre\", \"Mujeres\"]\n",
        "Freq = [7043, 7590]\n",
        "plt.bar(Sexo, Freq)\n",
        "plt.title(\"Estructura de sexo en la region de Orinoquia\")\n",
        "plt.xlabel(\"Sexo\")\n",
        "plt.ylabel(\"Frecuencia\")"
      ],
      "execution_count": null,
      "outputs": [
        {
          "output_type": "execute_result",
          "data": {
            "text/plain": [
              "Text(0, 0.5, 'Frecuencia')"
            ]
          },
          "metadata": {},
          "execution_count": 56
        },
        {
          "output_type": "display_data",
          "data": {
            "image/png": "[encoded data removed]",
            "text/plain": [
              "<Figure size 432x288 with 1 Axes>"
            ]
          },
          "metadata": {
            "needs_background": "light"
          }
        }
      ]
    },
    {
      "cell_type": "markdown",
      "metadata": {
        "id": "ZbcJI3N5pwKo"
      },
      "source": [
        "¿CUANTOS HOMBRES Y MUJERES ESTAN OCUPADOS, DESOCUPADOS E INACTIVOS EN ARAUCA?\n",
        "\n",
        "Hay 838 hombres ocupados y 703 mujeres ocupadas.\n",
        "Total de ocupados = 1541\n",
        "\n",
        "Hay 394 hombres desocupados y 325 mujeres desocupadas.\n",
        "Total de ocupados = 719\n",
        "\n",
        "Hay 714 hombres inactivos y 1202 mujeres inactivas.\n",
        "Total de ocupados = 1916"
      ]
    },
    {
      "cell_type": "code",
      "metadata": {
        "colab": {
          "base_uri": "https://localhost:8080/",
          "height": 312
        },
        "id": "_Kebc1DFd2bQ",
        "outputId": "445e1a56-1049-4dea-afb9-9f020c61afb6"
      },
      "source": [
        "Hombres = [838, 394, 714]\n",
        "Mujeres = [703, 325, 1202]\n",
        " \n",
        " \n",
        "numero_de_grupos = len(Hombres)\n",
        "indice_barras = np.arange(numero_de_grupos)\n",
        "ancho_barras = 0.35\n",
        " \n",
        "plt.bar(indice_barras, Hombres, width=ancho_barras, label='Hombres')\n",
        "plt.bar(indice_barras + ancho_barras, Mujeres, width=ancho_barras, label='Mujeres')\n",
        "plt.legend(loc='best')\n",
        "\n",
        "plt.xticks(indice_barras + ancho_barras, (\"Ocupados\", \"Desocupados\",\"Inactivos\"))\n",
        " \n",
        "plt.ylabel('Frecuencia')\n",
        "plt.xlabel('Estado de trabajo')\n",
        "plt.title('Estado de trabajo segun sexo en Arauca')\n"
      ],
      "execution_count": null,
      "outputs": [
        {
          "output_type": "execute_result",
          "data": {
            "text/plain": [
              "Text(0.5, 1.0, 'Estado de trabajo segun sexo en Arauca')"
            ]
          },
          "metadata": {},
          "execution_count": 69
        },
        {
          "output_type": "display_data",
          "data": {
            "image/png": "[encoded data removed]",
            "text/plain": [
              "<Figure size 432x288 with 1 Axes>"
            ]
          },
          "metadata": {
            "needs_background": "light"
          }
        }
      ]
    },
    {
      "cell_type": "code",
      "metadata": {
        "id": "dXCzHBRngkNa"
      },
      "source": [
        ""
      ],
      "execution_count": null,
      "outputs": []
    },
    {
      "cell_type": "code",
      "metadata": {
        "colab": {
          "base_uri": "https://localhost:8080/"
        },
        "id": "1lnHRG1yeE0a",
        "outputId": "915b1366-8c63-4031-bf8c-8607f9e32bb8"
      },
      "source": [
        "indice_barras"
      ],
      "execution_count": null,
      "outputs": [
        {
          "output_type": "execute_result",
          "data": {
            "text/plain": [
              "array([0, 1, 2, 3, 4])"
            ]
          },
          "metadata": {},
          "execution_count": 59
        }
      ]
    },
    {
      "cell_type": "code",
      "metadata": {
        "colab": {
          "base_uri": "https://localhost:8080/"
        },
        "id": "LVbZQiOz-s83",
        "outputId": "89f3e607-b5f5-4d86-fa6f-9cc14b6e59d1"
      },
      "source": [
        "1541 + 719 + 1916"
      ],
      "execution_count": null,
      "outputs": [
        {
          "output_type": "execute_result",
          "data": {
            "text/plain": [
              "4176"
            ]
          },
          "metadata": {},
          "execution_count": 56
        }
      ]
    },
    {
      "cell_type": "code",
      "metadata": {
        "colab": {
          "base_uri": "https://localhost:8080/"
        },
        "id": "32BUUZwH_KJ1",
        "outputId": "09ee0367-f7af-47c3-f068-6d1bee821e93"
      },
      "source": [
        "5230 - 4176 #NA"
      ],
      "execution_count": null,
      "outputs": [
        {
          "output_type": "execute_result",
          "data": {
            "text/plain": [
              "1054"
            ]
          },
          "metadata": {},
          "execution_count": 57
        }
      ]
    },
    {
      "cell_type": "code",
      "metadata": {
        "colab": {
          "base_uri": "https://localhost:8080/"
        },
        "id": "ioLHg9SCsl0a",
        "outputId": "89f7177b-3657-4b69-fb37-9adeec613667"
      },
      "source": [
        "# c = hombres\n",
        "c = df_masculino.iloc[:,[4,6,21]] \n",
        "arauca_2 = c.loc[:, 'DPTO'] == 81\n",
        "df_arauca2 = c.loc[arauca_2]\n",
        "sum(df_arauca2['Estado'] == 'Ocupados')\n"
      ],
      "execution_count": null,
      "outputs": [
        {
          "output_type": "execute_result",
          "data": {
            "text/plain": [
              "838"
            ]
          },
          "metadata": {},
          "execution_count": 58
        }
      ]
    },
    {
      "cell_type": "code",
      "metadata": {
        "colab": {
          "base_uri": "https://localhost:8080/"
        },
        "id": "gsh9Pp9H7XJu",
        "outputId": "3a5e4cd4-6038-4e8b-f8cd-6ec696885ea1"
      },
      "source": [
        "sum(df_arauca2['Estado'] == 'Desocupado')"
      ],
      "execution_count": null,
      "outputs": [
        {
          "output_type": "execute_result",
          "data": {
            "text/plain": [
              "394"
            ]
          },
          "metadata": {},
          "execution_count": 59
        }
      ]
    },
    {
      "cell_type": "code",
      "metadata": {
        "colab": {
          "base_uri": "https://localhost:8080/"
        },
        "id": "S3PE-Fqq7acW",
        "outputId": "a2d8f525-b840-4d30-b1ed-214938be0d99"
      },
      "source": [
        "sum(df_arauca2['Estado'] == 'Inactivos')"
      ],
      "execution_count": null,
      "outputs": [
        {
          "output_type": "execute_result",
          "data": {
            "text/plain": [
              "714"
            ]
          },
          "metadata": {},
          "execution_count": 60
        }
      ]
    },
    {
      "cell_type": "code",
      "metadata": {
        "colab": {
          "base_uri": "https://localhost:8080/"
        },
        "id": "KRhRAjGPwf1z",
        "outputId": "884b25d4-a914-42dd-cb1b-23ebe5ea05de"
      },
      "source": [
        "#  d = mujeres\n",
        "d = df_femenino.iloc[:,[4,6,21]] \n",
        "arauca_3 = d.loc[:, 'DPTO'] == 81\n",
        "df_arauca3 = d.loc[arauca_3]\n",
        "sum(df_arauca3['Estado'] == 'Ocupados')"
      ],
      "execution_count": null,
      "outputs": [
        {
          "output_type": "execute_result",
          "data": {
            "text/plain": [
              "703"
            ]
          },
          "metadata": {},
          "execution_count": 61
        }
      ]
    },
    {
      "cell_type": "code",
      "metadata": {
        "colab": {
          "base_uri": "https://localhost:8080/"
        },
        "id": "4vBCuewL7szV",
        "outputId": "bf2d49b2-a6f8-4e12-9e70-ba5f6254fad9"
      },
      "source": [
        "sum(df_arauca3['Estado'] == 'Desocupado')"
      ],
      "execution_count": null,
      "outputs": [
        {
          "output_type": "execute_result",
          "data": {
            "text/plain": [
              "325"
            ]
          },
          "metadata": {},
          "execution_count": 62
        }
      ]
    },
    {
      "cell_type": "code",
      "metadata": {
        "colab": {
          "base_uri": "https://localhost:8080/"
        },
        "id": "R6KxXVez7wSO",
        "outputId": "d40ebdc9-4b04-4cff-ee0c-77fea1f8dd3e"
      },
      "source": [
        "sum(df_arauca3['Estado'] == 'Inactivos')"
      ],
      "execution_count": null,
      "outputs": [
        {
          "output_type": "execute_result",
          "data": {
            "text/plain": [
              "1202"
            ]
          },
          "metadata": {},
          "execution_count": 63
        }
      ]
    },
    {
      "cell_type": "markdown",
      "metadata": {
        "id": "tN06QB16ywAG"
      },
      "source": [
        "¿CUANTOS HOMBRES Y MUJERES ESTAN OCUPADOS EN CASANARE?\n",
        "\n",
        "Hay 1343 hombres ocupados y 1239 mujeres ocupadas.\n",
        "Total de ocupados = 2582\n",
        "\n",
        "Hay 201 hombres desocupados y 206 mujeres desocupadas.\n",
        "Total de desocupados = 407\n",
        "\n",
        "Hay 601 hombres inactivos y 1025 mujeres inactivas.\n",
        "Total de inactivos = 1626"
      ]
    },
    {
      "cell_type": "code",
      "metadata": {
        "colab": {
          "base_uri": "https://localhost:8080/"
        },
        "id": "8qfuooAjA0Oh",
        "outputId": "349ebf1f-513a-40ff-e485-0f325dcb1d10"
      },
      "source": [
        "2582 + 407 + 1626"
      ],
      "execution_count": null,
      "outputs": [
        {
          "output_type": "execute_result",
          "data": {
            "text/plain": [
              "4615"
            ]
          },
          "metadata": {},
          "execution_count": 64
        }
      ]
    },
    {
      "cell_type": "code",
      "metadata": {
        "colab": {
          "base_uri": "https://localhost:8080/"
        },
        "id": "NXU1ZvmRBYcx",
        "outputId": "a65d4eb4-326b-4578-ba4f-01b53cfdcdf9"
      },
      "source": [
        "5735 - 4615 #NA"
      ],
      "execution_count": null,
      "outputs": [
        {
          "output_type": "execute_result",
          "data": {
            "text/plain": [
              "1120"
            ]
          },
          "metadata": {},
          "execution_count": 65
        }
      ]
    },
    {
      "cell_type": "code",
      "metadata": {
        "colab": {
          "base_uri": "https://localhost:8080/"
        },
        "id": "0Tr1Lfh9ynQy",
        "outputId": "f2c8ad39-f103-4768-c8dc-d36783e49c5b"
      },
      "source": [
        "casanare_2 = c.loc[:, 'DPTO'] == 85\n",
        "df_casanare2 = c.loc[casanare_2]\n",
        "sum(df_casanare2['Estado'] == 'Ocupados')\n"
      ],
      "execution_count": null,
      "outputs": [
        {
          "output_type": "execute_result",
          "data": {
            "text/plain": [
              "1343"
            ]
          },
          "metadata": {},
          "execution_count": 66
        }
      ]
    },
    {
      "cell_type": "code",
      "metadata": {
        "colab": {
          "base_uri": "https://localhost:8080/"
        },
        "id": "tRe0CadOAPjP",
        "outputId": "6f7da97c-8ec0-422a-b684-ab1c22abfe9f"
      },
      "source": [
        "sum(df_casanare2['Estado'] == 'Desocupado')"
      ],
      "execution_count": null,
      "outputs": [
        {
          "output_type": "execute_result",
          "data": {
            "text/plain": [
              "201"
            ]
          },
          "metadata": {},
          "execution_count": 67
        }
      ]
    },
    {
      "cell_type": "code",
      "metadata": {
        "colab": {
          "base_uri": "https://localhost:8080/"
        },
        "id": "fyiZw_21AaOd",
        "outputId": "de51c44c-4d00-4f6d-9d5a-e85c4c1945f2"
      },
      "source": [
        "sum(df_casanare2['Estado'] == 'Inactivos')"
      ],
      "execution_count": null,
      "outputs": [
        {
          "output_type": "execute_result",
          "data": {
            "text/plain": [
              "601"
            ]
          },
          "metadata": {},
          "execution_count": 68
        }
      ]
    },
    {
      "cell_type": "code",
      "metadata": {
        "colab": {
          "base_uri": "https://localhost:8080/"
        },
        "id": "ghl4tzoXzTof",
        "outputId": "9d23f66b-e8b9-43e0-cccc-a4479c3c2e6c"
      },
      "source": [
        "casanare_3 = d.loc[:, 'DPTO'] == 85\n",
        "df_casanare3 = d.loc[casanare_3]\n",
        "sum(df_casanare3['Estado'] == 'Ocupados')"
      ],
      "execution_count": null,
      "outputs": [
        {
          "output_type": "execute_result",
          "data": {
            "text/plain": [
              "1239"
            ]
          },
          "metadata": {},
          "execution_count": 69
        }
      ]
    },
    {
      "cell_type": "code",
      "metadata": {
        "colab": {
          "base_uri": "https://localhost:8080/"
        },
        "id": "JDdzQEZ8AlPD",
        "outputId": "feb4fe69-5aba-4e27-8d9e-0805ea8bc993"
      },
      "source": [
        "sum(df_casanare3['Estado'] == 'Desocupado')"
      ],
      "execution_count": null,
      "outputs": [
        {
          "output_type": "execute_result",
          "data": {
            "text/plain": [
              "206"
            ]
          },
          "metadata": {},
          "execution_count": 70
        }
      ]
    },
    {
      "cell_type": "code",
      "metadata": {
        "colab": {
          "base_uri": "https://localhost:8080/"
        },
        "id": "w2aQWAr5Aojf",
        "outputId": "c43d67a1-407d-4884-f230-402af40861e2"
      },
      "source": [
        "sum(df_casanare3['Estado'] == 'Inactivos')"
      ],
      "execution_count": null,
      "outputs": [
        {
          "output_type": "execute_result",
          "data": {
            "text/plain": [
              "1025"
            ]
          },
          "metadata": {},
          "execution_count": 71
        }
      ]
    },
    {
      "cell_type": "code",
      "metadata": {
        "colab": {
          "base_uri": "https://localhost:8080/",
          "height": 312
        },
        "id": "3a5nJXm3kFTg",
        "outputId": "202f1239-4029-49e8-8831-6f5294ae9a59"
      },
      "source": [
        "Hombres = [1343, 201, 601]\n",
        "Mujeres = [1239, 206, 1025]\n",
        " \n",
        " \n",
        "numero_de_grupos = len(Hombres)\n",
        "indice_barras = np.arange(numero_de_grupos)\n",
        "ancho_barras = 0.35\n",
        " \n",
        "plt.bar(indice_barras, Hombres, width=ancho_barras, label='Hombres')\n",
        "plt.bar(indice_barras + ancho_barras, Mujeres, width=ancho_barras, label='Mujeres')\n",
        "plt.legend(loc='best')\n",
        "\n",
        "plt.xticks(indice_barras + ancho_barras, (\"Ocupados\", \"Desocupados\",\"Inactivos\"))\n",
        " \n",
        "plt.ylabel('Frecuencia')\n",
        "plt.xlabel('Estado de trabajo')\n",
        "plt.title('Estado de trabajo segun sexo en Casanare')"
      ],
      "execution_count": null,
      "outputs": [
        {
          "output_type": "execute_result",
          "data": {
            "text/plain": [
              "Text(0.5, 1.0, 'Estado de trabajo segun sexo en Casanare')"
            ]
          },
          "metadata": {},
          "execution_count": 70
        },
        {
          "output_type": "display_data",
          "data": {
            "image/png": "[encoded data removed]",
            "text/plain": [
              "<Figure size 432x288 with 1 Axes>"
            ]
          },
          "metadata": {
            "needs_background": "light"
          }
        }
      ]
    },
    {
      "cell_type": "markdown",
      "metadata": {
        "id": "ND3MAmADz01V"
      },
      "source": [
        "¿CUANTOS HOMBRES Y MUJERES ESTAN OCUPADOS EN VICHADA?\n",
        "\n",
        "Hay 677 hombres ocupados y 538 mujeres ocupadas.\n",
        "Total de ocupados = 1215\n",
        "\n",
        "Hay 242 hombres desocupados y 203 mujeres desocupadas.\n",
        "Total de desocupados = 445\n",
        "\n",
        "Hay 451 hombres inactivos y 658 mujeres inactivas.\n",
        "Total de inactivos = 1109"
      ]
    },
    {
      "cell_type": "code",
      "metadata": {
        "colab": {
          "base_uri": "https://localhost:8080/"
        },
        "id": "I8HdDo_hCBRB",
        "outputId": "e81d3a7e-44e3-4395-9223-f758c9a12e22"
      },
      "source": [
        "1215 + 445 + 1109"
      ],
      "execution_count": null,
      "outputs": [
        {
          "output_type": "execute_result",
          "data": {
            "text/plain": [
              "2769"
            ]
          },
          "metadata": {},
          "execution_count": 72
        }
      ]
    },
    {
      "cell_type": "code",
      "metadata": {
        "colab": {
          "base_uri": "https://localhost:8080/"
        },
        "id": "CCdvWrt2CEHf",
        "outputId": "e0d441b8-0782-4cb1-c26d-10be6cf8edea"
      },
      "source": [
        "3668 - 2769 #NA"
      ],
      "execution_count": null,
      "outputs": [
        {
          "output_type": "execute_result",
          "data": {
            "text/plain": [
              "899"
            ]
          },
          "metadata": {},
          "execution_count": 73
        }
      ]
    },
    {
      "cell_type": "code",
      "metadata": {
        "colab": {
          "base_uri": "https://localhost:8080/"
        },
        "id": "zaI7srUXz49G",
        "outputId": "0ab002db-51ad-45bd-9a7d-31a64f6d2dad"
      },
      "source": [
        "vichada_2 = c.loc[:, 'DPTO'] == 99\n",
        "df_vichada2 = c.loc[vichada_2]\n",
        "sum(df_vichada2['Estado'] == 'Ocupados')"
      ],
      "execution_count": null,
      "outputs": [
        {
          "output_type": "execute_result",
          "data": {
            "text/plain": [
              "677"
            ]
          },
          "metadata": {},
          "execution_count": 75
        }
      ]
    },
    {
      "cell_type": "code",
      "metadata": {
        "colab": {
          "base_uri": "https://localhost:8080/"
        },
        "id": "sobKqfUDBoaj",
        "outputId": "565920a8-9d5f-4d2c-deff-722a9dd51eea"
      },
      "source": [
        "sum(df_vichada2['Estado'] == 'Desocupado')"
      ],
      "execution_count": null,
      "outputs": [
        {
          "output_type": "execute_result",
          "data": {
            "text/plain": [
              "242"
            ]
          },
          "metadata": {},
          "execution_count": 76
        }
      ]
    },
    {
      "cell_type": "code",
      "metadata": {
        "colab": {
          "base_uri": "https://localhost:8080/"
        },
        "id": "xu7ILl6xBt00",
        "outputId": "d8904a83-7e43-4840-ea59-a7bfdcf78a55"
      },
      "source": [
        "sum(df_vichada2['Estado'] == 'Inactivos')"
      ],
      "execution_count": null,
      "outputs": [
        {
          "output_type": "execute_result",
          "data": {
            "text/plain": [
              "451"
            ]
          },
          "metadata": {},
          "execution_count": 77
        }
      ]
    },
    {
      "cell_type": "code",
      "metadata": {
        "colab": {
          "base_uri": "https://localhost:8080/"
        },
        "id": "Ak6-cX5Fz4zx",
        "outputId": "f72d5421-546e-408a-ceb7-3cfa2cf8e1a3"
      },
      "source": [
        "vichada_3 = d.loc[:, 'DPTO'] == 99\n",
        "df_vichada3 = d.loc[vichada_3]\n",
        "sum(df_vichada3['Estado'] == 'Ocupados')"
      ],
      "execution_count": null,
      "outputs": [
        {
          "output_type": "execute_result",
          "data": {
            "text/plain": [
              "538"
            ]
          },
          "metadata": {},
          "execution_count": 78
        }
      ]
    },
    {
      "cell_type": "code",
      "metadata": {
        "colab": {
          "base_uri": "https://localhost:8080/"
        },
        "id": "4xRbRGSFBzlb",
        "outputId": "a652016b-e8c7-4790-e332-7800c19fc7da"
      },
      "source": [
        "sum(df_vichada3['Estado'] == 'Desocupado')"
      ],
      "execution_count": null,
      "outputs": [
        {
          "output_type": "execute_result",
          "data": {
            "text/plain": [
              "203"
            ]
          },
          "metadata": {},
          "execution_count": 79
        }
      ]
    },
    {
      "cell_type": "code",
      "metadata": {
        "colab": {
          "base_uri": "https://localhost:8080/"
        },
        "id": "RUT8WnW_BzTz",
        "outputId": "8097f8c7-42e7-434a-a3ef-8c1b37d00767"
      },
      "source": [
        "sum(df_vichada3['Estado'] == 'Inactivos')"
      ],
      "execution_count": null,
      "outputs": [
        {
          "output_type": "execute_result",
          "data": {
            "text/plain": [
              "658"
            ]
          },
          "metadata": {},
          "execution_count": 80
        }
      ]
    },
    {
      "cell_type": "code",
      "metadata": {
        "colab": {
          "base_uri": "https://localhost:8080/",
          "height": 312
        },
        "id": "uZbAi8rKkcdr",
        "outputId": "13a97fe1-2a4b-4449-fa3b-33264b39f299"
      },
      "source": [
        "Hombres = [677, 242, 451]\n",
        "Mujeres = [538, 203, 658]\n",
        " \n",
        " \n",
        "numero_de_grupos = len(Hombres)\n",
        "indice_barras = np.arange(numero_de_grupos)\n",
        "ancho_barras = 0.35\n",
        " \n",
        "plt.bar(indice_barras, Hombres, width=ancho_barras, label='Hombres')\n",
        "plt.bar(indice_barras + ancho_barras, Mujeres, width=ancho_barras, label='Mujeres')\n",
        "plt.legend(loc='best')\n",
        "\n",
        "plt.xticks(indice_barras + ancho_barras, (\"Ocupados\", \"Desocupados\",\"Inactivos\"))\n",
        " \n",
        "plt.ylabel('Frecuencia')\n",
        "plt.xlabel('Estado de trabajo')\n",
        "plt.title('Estado de trabajo segun sexo en Vichada')"
      ],
      "execution_count": null,
      "outputs": [
        {
          "output_type": "execute_result",
          "data": {
            "text/plain": [
              "Text(0.5, 1.0, 'Estado de trabajo segun sexo en Vichada')"
            ]
          },
          "metadata": {},
          "execution_count": 71
        },
        {
          "output_type": "display_data",
          "data": {
            "image/png": "[encoded data removed]",
            "text/plain": [
              "<Figure size 432x288 with 1 Axes>"
            ]
          },
          "metadata": {
            "needs_background": "light"
          }
        }
      ]
    },
    {
      "cell_type": "markdown",
      "metadata": {
        "id": "JButrxUR1COs"
      },
      "source": [
        "¿CUANTOS HOMBRES Y MUJERES ESTAN OCUPADOS LA REGION ORINOQUIA?\n",
        "Hay 2858 hombres ocupados y 2480 mujeres ocupadas.\n",
        "Total de ocupados = 5338"
      ]
    },
    {
      "cell_type": "code",
      "metadata": {
        "colab": {
          "base_uri": "https://localhost:8080/"
        },
        "id": "-j-Ob8wi0hus",
        "outputId": "d68f4974-b37b-4553-a2ba-f29755d95782"
      },
      "source": [
        "838 + 1343 + 677 #Hombres"
      ],
      "execution_count": null,
      "outputs": [
        {
          "output_type": "execute_result",
          "data": {
            "text/plain": [
              "2858"
            ]
          },
          "metadata": {},
          "execution_count": 81
        }
      ]
    },
    {
      "cell_type": "code",
      "metadata": {
        "colab": {
          "base_uri": "https://localhost:8080/"
        },
        "id": "6ywSgatX0rF3",
        "outputId": "33ad1a74-2e2c-41bf-b4b8-e7681b4d26fd"
      },
      "source": [
        "703 + 1239 + 538 #Mujeres"
      ],
      "execution_count": null,
      "outputs": [
        {
          "output_type": "execute_result",
          "data": {
            "text/plain": [
              "2480"
            ]
          },
          "metadata": {},
          "execution_count": 82
        }
      ]
    },
    {
      "cell_type": "code",
      "metadata": {
        "colab": {
          "base_uri": "https://localhost:8080/"
        },
        "id": "59_qoRu21Kk4",
        "outputId": "facdb136-30b1-4416-b870-7c79bfa93a75"
      },
      "source": [
        "((2858+2480)/14633)*100"
      ],
      "execution_count": null,
      "outputs": [
        {
          "output_type": "execute_result",
          "data": {
            "text/plain": [
              "36.47919086995148"
            ]
          },
          "metadata": {},
          "execution_count": 83
        }
      ]
    },
    {
      "cell_type": "markdown",
      "metadata": {
        "id": "RK83wtVN1Rss"
      },
      "source": [
        "El 36.47% de las personas de la region orinoquia estan ocupadas. Donde el 16, 94% son hombres y el 19,53% son mujeres."
      ]
    },
    {
      "cell_type": "code",
      "metadata": {
        "colab": {
          "base_uri": "https://localhost:8080/"
        },
        "id": "Dynxi1hY1Ofz",
        "outputId": "a939f3c6-f536-458e-891f-23ea76e64087"
      },
      "source": [
        "(2480/14633)*100"
      ],
      "execution_count": null,
      "outputs": [
        {
          "output_type": "execute_result",
          "data": {
            "text/plain": [
              "16.94799425955033"
            ]
          },
          "metadata": {},
          "execution_count": 84
        }
      ]
    },
    {
      "cell_type": "code",
      "metadata": {
        "colab": {
          "base_uri": "https://localhost:8080/"
        },
        "id": "HrbQFO9y1c9i",
        "outputId": "e75f47cc-aae4-439a-eea4-8afa725d5810"
      },
      "source": [
        "(2858/14633)*100"
      ],
      "execution_count": null,
      "outputs": [
        {
          "output_type": "execute_result",
          "data": {
            "text/plain": [
              "19.531196610401146"
            ]
          },
          "metadata": {},
          "execution_count": 85
        }
      ]
    },
    {
      "cell_type": "markdown",
      "metadata": {
        "id": "IJRyJk3ICSKR"
      },
      "source": [
        "¿CUANTOS HOMBRES Y MUJERES ESTAN DESOCUPADOS EN LA REGION ORINOQUIA?\n",
        "\n",
        "Hay 837 hombres desocupados y 734 mujeres desocupadas.\n",
        "Total de ocupados = 1580"
      ]
    },
    {
      "cell_type": "code",
      "metadata": {
        "colab": {
          "base_uri": "https://localhost:8080/"
        },
        "id": "Ykc9ypbKCRmi",
        "outputId": "0b068757-fec6-42b8-e889-e2fec0e7969b"
      },
      "source": [
        "394 + 201 + 242 #HOMBRES"
      ],
      "execution_count": null,
      "outputs": [
        {
          "output_type": "execute_result",
          "data": {
            "text/plain": [
              "837"
            ]
          },
          "metadata": {},
          "execution_count": 86
        }
      ]
    },
    {
      "cell_type": "code",
      "metadata": {
        "colab": {
          "base_uri": "https://localhost:8080/"
        },
        "id": "kw3TfaNrCq_f",
        "outputId": "5b2721b4-f44c-4b0b-9379-cebcc6ad063d"
      },
      "source": [
        "325 + 206 + 203 #MUJERES"
      ],
      "execution_count": null,
      "outputs": [
        {
          "output_type": "execute_result",
          "data": {
            "text/plain": [
              "734"
            ]
          },
          "metadata": {},
          "execution_count": 87
        }
      ]
    },
    {
      "cell_type": "code",
      "metadata": {
        "colab": {
          "base_uri": "https://localhost:8080/"
        },
        "id": "uwIUpqXRC30b",
        "outputId": "2e81f11b-70af-42a4-e1ba-2014db7b721c"
      },
      "source": [
        "((837+734)/14633)*100 "
      ],
      "execution_count": null,
      "outputs": [
        {
          "output_type": "execute_result",
          "data": {
            "text/plain": [
              "10.73600765393289"
            ]
          },
          "metadata": {},
          "execution_count": 88
        }
      ]
    },
    {
      "cell_type": "markdown",
      "metadata": {
        "id": "_9mBh5SgDSK9"
      },
      "source": [
        "El 10.73% de las personas de la region orinoquia estan desocupadas. Donde el 5,71% son hombres y el 5,01% son mujeres."
      ]
    },
    {
      "cell_type": "code",
      "metadata": {
        "colab": {
          "base_uri": "https://localhost:8080/"
        },
        "id": "UwnS2EJbDRxr",
        "outputId": "50cf1fcd-ddd9-4db8-e5cf-ffc25b7ad8f2"
      },
      "source": [
        "(837/14633)*100"
      ],
      "execution_count": null,
      "outputs": [
        {
          "output_type": "execute_result",
          "data": {
            "text/plain": [
              "5.719948062598236"
            ]
          },
          "metadata": {},
          "execution_count": 89
        }
      ]
    },
    {
      "cell_type": "code",
      "metadata": {
        "colab": {
          "base_uri": "https://localhost:8080/"
        },
        "id": "H53d8emUDkfK",
        "outputId": "ed1bf2eb-4901-45ad-8139-2e0db4b750b4"
      },
      "source": [
        "(734/14633)*100"
      ],
      "execution_count": null,
      "outputs": [
        {
          "output_type": "execute_result",
          "data": {
            "text/plain": [
              "5.016059591334654"
            ]
          },
          "metadata": {},
          "execution_count": 90
        }
      ]
    },
    {
      "cell_type": "markdown",
      "metadata": {
        "id": "9sVhVQceD7-c"
      },
      "source": [
        "¿CUANTOS HOMBRES Y MUJERES ESTAN INACTIVOS EN LA REGION ORINOQUIA?\n",
        "\n",
        "Hay 1766 hombres inactivos y 2885 mujeres inactivas.\n",
        "Total de inactivos = 4651"
      ]
    },
    {
      "cell_type": "code",
      "metadata": {
        "colab": {
          "base_uri": "https://localhost:8080/"
        },
        "id": "y-I2JqxbDu_w",
        "outputId": "64dc03aa-7632-4072-ab27-fc6deaa691ae"
      },
      "source": [
        "714 + 451 + 601 #HOMBRES"
      ],
      "execution_count": null,
      "outputs": [
        {
          "output_type": "execute_result",
          "data": {
            "text/plain": [
              "1766"
            ]
          },
          "metadata": {},
          "execution_count": 91
        }
      ]
    },
    {
      "cell_type": "code",
      "metadata": {
        "colab": {
          "base_uri": "https://localhost:8080/"
        },
        "id": "kGHc33DSEJZe",
        "outputId": "49cce407-9a49-4e2e-fa02-11d72939e8f2"
      },
      "source": [
        "1202 + 658 + 1025 #MUJERES"
      ],
      "execution_count": null,
      "outputs": [
        {
          "output_type": "execute_result",
          "data": {
            "text/plain": [
              "2885"
            ]
          },
          "metadata": {},
          "execution_count": 92
        }
      ]
    },
    {
      "cell_type": "markdown",
      "metadata": {
        "id": "wQYtjqZZEfM7"
      },
      "source": [
        "El 31.78% de las personas de la region orinoquia estan INACTIVAS. Donde el 12,06% son hombres y el 19,75% son mujeres."
      ]
    },
    {
      "cell_type": "code",
      "metadata": {
        "colab": {
          "base_uri": "https://localhost:8080/"
        },
        "id": "LZZBqYG3Eecj",
        "outputId": "5f0bd232-3401-4d84-fcac-b798ec768a7e"
      },
      "source": [
        "((1766+2885)/14633)*100"
      ],
      "execution_count": null,
      "outputs": [
        {
          "output_type": "execute_result",
          "data": {
            "text/plain": [
              "31.784323105309912"
            ]
          },
          "metadata": {},
          "execution_count": 93
        }
      ]
    },
    {
      "cell_type": "code",
      "metadata": {
        "colab": {
          "base_uri": "https://localhost:8080/"
        },
        "id": "5bJTfjDMEi_f",
        "outputId": "fda6af79-7645-4db0-cd06-c61cf0a34e96"
      },
      "source": [
        "((1766)/14633)*100 #HOMBRES"
      ],
      "execution_count": null,
      "outputs": [
        {
          "output_type": "execute_result",
          "data": {
            "text/plain": [
              "12.068612041276566"
            ]
          },
          "metadata": {},
          "execution_count": 94
        }
      ]
    },
    {
      "cell_type": "code",
      "metadata": {
        "colab": {
          "base_uri": "https://localhost:8080/"
        },
        "id": "eIJuBQVREreH",
        "outputId": "844197fe-63f0-49f3-e614-c171c303c8e1"
      },
      "source": [
        "((2885)/14633)*100 #MUJERES"
      ],
      "execution_count": null,
      "outputs": [
        {
          "output_type": "execute_result",
          "data": {
            "text/plain": [
              "19.71571106403335"
            ]
          },
          "metadata": {},
          "execution_count": 95
        }
      ]
    },
    {
      "cell_type": "code",
      "metadata": {
        "colab": {
          "base_uri": "https://localhost:8080/"
        },
        "id": "MI0PBI3UEs6c",
        "outputId": "9e6c602e-5452-42be-cbd4-7b1858c939ae"
      },
      "source": [
        "36.47919086995148+ 10.73600765393289+ 31.784323105309912"
      ],
      "execution_count": null,
      "outputs": [
        {
          "output_type": "execute_result",
          "data": {
            "text/plain": [
              "78.99952162919428"
            ]
          },
          "metadata": {},
          "execution_count": 96
        }
      ]
    },
    {
      "cell_type": "code",
      "metadata": {
        "colab": {
          "base_uri": "https://localhost:8080/"
        },
        "id": "Xc9H7UcvE_TS",
        "outputId": "13b6aa5f-b9eb-4bdc-a716-c833ab2da0f7"
      },
      "source": [
        "100 - 78.99952162919428 #na"
      ],
      "execution_count": null,
      "outputs": [
        {
          "output_type": "execute_result",
          "data": {
            "text/plain": [
              "21.000478370805723"
            ]
          },
          "metadata": {},
          "execution_count": 97
        }
      ]
    },
    {
      "cell_type": "markdown",
      "metadata": {
        "id": "AKYkpsaStMqt"
      },
      "source": [
        "# Amazonia"
      ]
    },
    {
      "cell_type": "code",
      "metadata": {
        "colab": {
          "base_uri": "https://localhost:8080/"
        },
        "id": "S7LE-2MQtNHZ",
        "outputId": "f72707fc-2dfa-442e-e0cb-2a45638ecfe9"
      },
      "source": [
        "x = [0,0,0,0,0]\n",
        "x[0] = Base[Base[\"DPTO\"] == 91].shape[0] # Amazonas\n",
        "x[1] = Base[Base[\"DPTO\"] == 86].shape[0] # Putumayo\n",
        "x[2] = Base[Base[\"DPTO\"] == 94].shape[0] # Guainia\n",
        "x[3] = Base[Base[\"DPTO\"] == 95].shape[0] # Guaviare\n",
        "x[4] = Base[Base[\"DPTO\"] == 97].shape[0] # Vaupes\n",
        "x"
      ],
      "execution_count": null,
      "outputs": [
        {
          "output_type": "execute_result",
          "data": {
            "text/plain": [
              "[4726, 4238, 5187, 4106, 5190]"
            ]
          },
          "metadata": {},
          "execution_count": 80
        }
      ]
    },
    {
      "cell_type": "code",
      "metadata": {
        "colab": {
          "base_uri": "https://localhost:8080/",
          "height": 313
        },
        "id": "Q1ID0H-cv0Ea",
        "outputId": "cb591445-80fd-48f2-ebd3-9007edc2b72f"
      },
      "source": [
        "dep = [\"Amazonas\", \"Putumayo\", \"Guainía\", \"Guaviare\", \"Vaupés\"] ; x\n",
        "plt.bar(dep, x) ; plt.title(\"Cantidad de individuos por departamento\")\n",
        "plt.xlabel(\"Departamento\") ; plt.ylabel(\"Frecuencia\")"
      ],
      "execution_count": null,
      "outputs": [
        {
          "output_type": "execute_result",
          "data": {
            "text/plain": [
              "Text(0, 0.5, 'Frecuencia')"
            ]
          },
          "metadata": {},
          "execution_count": 81
        },
        {
          "output_type": "display_data",
          "data": {
            "image/png": "[encoded data removed]",
            "text/plain": [
              "<Figure size 432x288 with 1 Axes>"
            ]
          },
          "metadata": {
            "needs_background": "light"
          }
        }
      ]
    },
    {
      "cell_type": "markdown",
      "metadata": {
        "id": "_evvVuKmwxTE"
      },
      "source": [
        "## ¿Cuantas personas hay en cada departamento?\n",
        "\n",
        "De las personas encuestadas, 4726 son de Amazonas, 4238 de Putumayo, 5187 de Guainía, 4106 de Guavuare y 5190 de Vaupes."
      ]
    },
    {
      "cell_type": "code",
      "metadata": {
        "id": "dOuRHK5ptVeH"
      },
      "source": [
        "amazonas = Base[Base[\"DPTO\"] == 91] # Amazonas\n",
        "putumayo =  Base[Base[\"DPTO\"] == 86] # Putumayo\n",
        "guania =  Base[Base[\"DPTO\"] == 94]# Guainia\n",
        "guaviare = Base[Base[\"DPTO\"] == 95]# Guaviare\n",
        "vaupes = Base[Base[\"DPTO\"] == 97] # Vaupes"
      ],
      "execution_count": null,
      "outputs": []
    },
    {
      "cell_type": "code",
      "metadata": {
        "id": "_M7pfkKDywyf"
      },
      "source": [
        "sexo_amazonas = [0,0] ; sexo_amazonas[0], sexo_amazonas[1]  = amazonas[amazonas[\"P6020\"] == 1].shape[0] , amazonas[amazonas[\"P6020\"] == 2].shape[0]\n",
        "sexo_putumayo = [0,0] ; sexo_putumayo[0], sexo_putumayo[1]  = putumayo[putumayo[\"P6020\"] == 1].shape[0] , putumayo[putumayo[\"P6020\"] == 2].shape[0]\n",
        "sexo_guania = [0,0] ; sexo_guania[0], sexo_guania[1]  = guania[guania[\"P6020\"] == 1].shape[0] , guania[guania[\"P6020\"] == 2].shape[0]\n",
        "sexo_guaviare = [0,0] ; sexo_guaviare[0], sexo_guaviare[1]  = guaviare[guaviare[\"P6020\"] == 1].shape[0] , guaviare[guaviare[\"P6020\"] == 2].shape[0]\n",
        "sexo_vaupes = [0,0] ; sexo_vaupes[0], sexo_vaupes[1]  = vaupes[vaupes[\"P6020\"] == 1].shape[0] , vaupes[vaupes[\"P6020\"] == 2].shape[0]\n"
      ],
      "execution_count": null,
      "outputs": []
    },
    {
      "cell_type": "code",
      "metadata": {
        "colab": {
          "base_uri": "https://localhost:8080/"
        },
        "id": "HKtTyfiTzGD0",
        "outputId": "168dd6b8-6885-4dfe-b9ab-cc2cb222a55c"
      },
      "source": [
        "Hombres_Amazonia = sexo_amazonas[0] + sexo_putumayo[0] + sexo_guania[0] + sexo_guaviare[0] + sexo_vaupes[0] ; Hombres_Amazonia"
      ],
      "execution_count": null,
      "outputs": [
        {
          "output_type": "execute_result",
          "data": {
            "text/plain": [
              "11390"
            ]
          },
          "metadata": {},
          "execution_count": 99
        }
      ]
    },
    {
      "cell_type": "code",
      "metadata": {
        "colab": {
          "base_uri": "https://localhost:8080/"
        },
        "id": "jVIVsUpVy4wH",
        "outputId": "d4e28328-5302-43fe-d985-d9f431083ccd"
      },
      "source": [
        "Mujeres_Amazonia = sexo_amazonas[1] + sexo_putumayo[1] + sexo_guania[1] + sexo_guaviare[1] + sexo_vaupes[1] ; Mujeres_Amazonia"
      ],
      "execution_count": null,
      "outputs": [
        {
          "output_type": "execute_result",
          "data": {
            "text/plain": [
              "12057"
            ]
          },
          "metadata": {},
          "execution_count": 100
        }
      ]
    },
    {
      "cell_type": "code",
      "metadata": {
        "colab": {
          "base_uri": "https://localhost:8080/",
          "height": 312
        },
        "id": "UR57zrGF0ptm",
        "outputId": "18ab364d-eb2a-4f93-b336-20b46e4cfc6f"
      },
      "source": [
        "freq = [Hombres_Amazonia, Mujeres_Amazonia]\n",
        "dep = [\"Hombres\",\"Mujeres\"] \n",
        "plt.bar(dep, freq) ; plt.title(\"Estructura del sexo en la region de Amazonia\")\n",
        "plt.xlabel(\"Sexo\") ; plt.ylabel(\"Frecuencia\")"
      ],
      "execution_count": null,
      "outputs": [
        {
          "output_type": "execute_result",
          "data": {
            "text/plain": [
              "Text(0, 0.5, 'Frecuencia')"
            ]
          },
          "metadata": {},
          "execution_count": 101
        },
        {
          "output_type": "display_data",
          "data": {
            "image/png": "[encoded data removed]",
            "text/plain": [
              "<Figure size 432x288 with 1 Axes>"
            ]
          },
          "metadata": {
            "needs_background": "light"
          }
        }
      ]
    },
    {
      "cell_type": "markdown",
      "metadata": {
        "id": "m8SiKk2m2ST-"
      },
      "source": [
        "## ¿Cuantos hombres y mujeres hay en la region de Amazonia?\n",
        "\n",
        "De los encuestados que hacen parte de la region de Amazonia, 11390 son Hombres y 12057 son mujeres."
      ]
    },
    {
      "cell_type": "markdown",
      "metadata": {
        "id": "M3aM7WfF2vxW"
      },
      "source": [
        "# Reparticion del sexo en cada departamento"
      ]
    },
    {
      "cell_type": "markdown",
      "metadata": {
        "id": "4Eq1XneC21py"
      },
      "source": [
        "## Amazonas"
      ]
    },
    {
      "cell_type": "code",
      "metadata": {
        "colab": {
          "base_uri": "https://localhost:8080/",
          "height": 312
        },
        "id": "-T0jRS0j2y6l",
        "outputId": "b74cf35e-0947-45bf-eddf-60cd8c6c0d7c"
      },
      "source": [
        "sexo_amazonas\n",
        "dep = [\"Hombres\",\"Mujeres\"] \n",
        "plt.bar(dep, sexo_amazonas) ; plt.title(\"Estructura del sexo en el departamento de Amazonas\")\n",
        "plt.xlabel(\"Sexo\") ; plt.ylabel(\"Frecuencia\")\n"
      ],
      "execution_count": null,
      "outputs": [
        {
          "output_type": "execute_result",
          "data": {
            "text/plain": [
              "Text(0, 0.5, 'Frecuencia')"
            ]
          },
          "metadata": {},
          "execution_count": 106
        },
        {
          "output_type": "display_data",
          "data": {
            "image/png": "[encoded data removed]",
            "text/plain": [
              "<Figure size 432x288 with 1 Axes>"
            ]
          },
          "metadata": {
            "needs_background": "light"
          }
        }
      ]
    },
    {
      "cell_type": "markdown",
      "metadata": {
        "id": "mrLHtPUc3Icr"
      },
      "source": [
        "## Putumayo"
      ]
    },
    {
      "cell_type": "code",
      "metadata": {
        "colab": {
          "base_uri": "https://localhost:8080/",
          "height": 312
        },
        "id": "YlrmGuZV26Or",
        "outputId": "a5393cd9-42ef-4cfd-f98e-68d604e43412"
      },
      "source": [
        "sexo_putumayo\n",
        "dep = [\"Hombres\",\"Mujeres\"] \n",
        "plt.bar(dep, sexo_putumayo) ; plt.title(\"Estructura del sexo en el departamento de Putumayo\")\n",
        "plt.xlabel(\"Sexo\") ; plt.ylabel(\"Frecuencia\")"
      ],
      "execution_count": null,
      "outputs": [
        {
          "output_type": "execute_result",
          "data": {
            "text/plain": [
              "Text(0, 0.5, 'Frecuencia')"
            ]
          },
          "metadata": {},
          "execution_count": 107
        },
        {
          "output_type": "display_data",
          "data": {
            "image/png": "[encoded data removed]",
            "text/plain": [
              "<Figure size 432x288 with 1 Axes>"
            ]
          },
          "metadata": {
            "needs_background": "light"
          }
        }
      ]
    },
    {
      "cell_type": "markdown",
      "metadata": {
        "id": "zl6LmGSs3V_R"
      },
      "source": [
        "## Guania"
      ]
    },
    {
      "cell_type": "code",
      "metadata": {
        "colab": {
          "base_uri": "https://localhost:8080/",
          "height": 312
        },
        "id": "st4TURNn3XNg",
        "outputId": "cc5b4c1e-9292-4ece-c57b-22f3904997ee"
      },
      "source": [
        "sexo_guania\n",
        "plt.bar(dep, sexo_guania ) ; plt.title(\"Estructura del sexo en el departamento de Guania\")\n",
        "plt.xlabel(\"Sexo\") ; plt.ylabel(\"Frecuencia\")"
      ],
      "execution_count": null,
      "outputs": [
        {
          "output_type": "execute_result",
          "data": {
            "text/plain": [
              "Text(0, 0.5, 'Frecuencia')"
            ]
          },
          "metadata": {},
          "execution_count": 109
        },
        {
          "output_type": "display_data",
          "data": {
            "image/png": "[encoded data removed]",
            "text/plain": [
              "<Figure size 432x288 with 1 Axes>"
            ]
          },
          "metadata": {
            "needs_background": "light"
          }
        }
      ]
    },
    {
      "cell_type": "markdown",
      "metadata": {
        "id": "MpwKJ6N_3hRu"
      },
      "source": [
        "## Guaviare"
      ]
    },
    {
      "cell_type": "code",
      "metadata": {
        "colab": {
          "base_uri": "https://localhost:8080/",
          "height": 312
        },
        "id": "DpCwQGvW3idF",
        "outputId": "bda4dd62-8b05-4517-b5d5-3325bef1c3f3"
      },
      "source": [
        "sexo_guaviare\n",
        "plt.bar(dep, sexo_guaviare ) ; plt.title(\"Estructura del sexo en el departamento de Guaviare\")\n",
        "plt.xlabel(\"Sexo\") ; plt.ylabel(\"Frecuencia\")"
      ],
      "execution_count": null,
      "outputs": [
        {
          "output_type": "execute_result",
          "data": {
            "text/plain": [
              "Text(0, 0.5, 'Frecuencia')"
            ]
          },
          "metadata": {},
          "execution_count": 111
        },
        {
          "output_type": "display_data",
          "data": {
            "image/png": "[encoded data removed]",
            "text/plain": [
              "<Figure size 432x288 with 1 Axes>"
            ]
          },
          "metadata": {
            "needs_background": "light"
          }
        }
      ]
    },
    {
      "cell_type": "markdown",
      "metadata": {
        "id": "hTd76A4p3i-X"
      },
      "source": [
        "## Vaupes"
      ]
    },
    {
      "cell_type": "code",
      "metadata": {
        "colab": {
          "base_uri": "https://localhost:8080/",
          "height": 312
        },
        "id": "zBE2xYqG3omN",
        "outputId": "a5b867b7-5d51-4745-9dea-df1e3a6966f2"
      },
      "source": [
        "sexo_vaupes\n",
        "plt.bar(dep, sexo_vaupes) ; plt.title(\"Estructura del sexo en el departamento de Vaupes\")\n",
        "plt.xlabel(\"Sexo\") ; plt.ylabel(\"Frecuencia\")"
      ],
      "execution_count": null,
      "outputs": [
        {
          "output_type": "execute_result",
          "data": {
            "text/plain": [
              "Text(0, 0.5, 'Frecuencia')"
            ]
          },
          "metadata": {},
          "execution_count": 112
        },
        {
          "output_type": "display_data",
          "data": {
            "image/png": "[encoded data removed]",
            "text/plain": [
              "<Figure size 432x288 with 1 Axes>"
            ]
          },
          "metadata": {
            "needs_background": "light"
          }
        }
      ]
    },
    {
      "cell_type": "code",
      "metadata": {
        "colab": {
          "base_uri": "https://localhost:8080/"
        },
        "id": "wirsNioF3yho",
        "outputId": "f1894990-5128-40db-bc1b-f75a14135a54"
      },
      "source": [
        "sexo_vaupes"
      ],
      "execution_count": null,
      "outputs": [
        {
          "output_type": "execute_result",
          "data": {
            "text/plain": [
              "[2606, 2584]"
            ]
          },
          "metadata": {},
          "execution_count": 115
        }
      ]
    },
    {
      "cell_type": "markdown",
      "metadata": {
        "id": "1ms4P9qs4c9Y"
      },
      "source": [
        "De los encuestados, los que hacen parte del departamento de amazonas 2284 son hombres y 2442 son mujeres, en cuanto a los del departamento de putumayo 1972 son hombres y 2266 son mujeres, entre otros, en el departamento de vaupes hay 2606 hombres y 2584 mujeres."
      ]
    },
    {
      "cell_type": "markdown",
      "metadata": {
        "id": "W2JgUoyx6css"
      },
      "source": [
        "# ESTADO"
      ]
    },
    {
      "cell_type": "code",
      "metadata": {
        "id": "LEKXOcni6gWU"
      },
      "source": [
        "estado_amazonas = [0,0,0]\n",
        "estado_amazonas = amazonas[amazonas[\"Estado\"] == \"Ocupados\" ].shape[0] ,amazonas[amazonas[\"Estado\"] == \"Desocupados\" ].shape[0], amazonas[amazonas[\"Estado\"] == \"Inactivos\" ].shape[0]\n"
      ],
      "execution_count": null,
      "outputs": []
    },
    {
      "cell_type": "code",
      "metadata": {
        "colab": {
          "base_uri": "https://localhost:8080/"
        },
        "id": "tmSAsB517g6E",
        "outputId": "19f6e380-8863-4064-8d4d-795b585737cc"
      },
      "source": [
        "estado_amazonas"
      ],
      "execution_count": null,
      "outputs": [
        {
          "output_type": "execute_result",
          "data": {
            "text/plain": [
              "(1740, 0, 1714)"
            ]
          },
          "metadata": {},
          "execution_count": 127
        }
      ]
    },
    {
      "cell_type": "code",
      "metadata": {
        "colab": {
          "base_uri": "https://localhost:8080/"
        },
        "id": "iBD5-87E9LHw",
        "outputId": "b0d9ec34-c2a9-4fc7-de50-3cf8e0783213"
      },
      "source": [
        "estado_putumayo = [0,0,0]\n",
        "estado_putumayo = putumayo[putumayo[\"Estado\"] == \"Ocupados\" ].shape[0] , putumayo[putumayo[\"Estado\"] == \"Desocupados\" ].shape[0], putumayo[putumayo[\"Estado\"] == \"Inactivos\" ].shape[0]\n",
        "estado_putumayo"
      ],
      "execution_count": null,
      "outputs": [
        {
          "output_type": "execute_result",
          "data": {
            "text/plain": [
              "(1368, 0, 1526)"
            ]
          },
          "metadata": {},
          "execution_count": 129
        }
      ]
    },
    {
      "cell_type": "code",
      "metadata": {
        "colab": {
          "base_uri": "https://localhost:8080/"
        },
        "id": "z2lHSaC2_WF8",
        "outputId": "7566c03f-53d8-498f-f402-8c6961314968"
      },
      "source": [
        "estado_guiania = [0,0,0]\n",
        "estado_guania = guania[guania[\"Estado\"] == \"Ocupados\" ].shape[0] , guania[guania[\"Estado\"] == \"Desocupados\" ].shape[0], guania[guania[\"Estado\"] == \"Inactivos\" ].shape[0]\n",
        "estado_guania"
      ],
      "execution_count": null,
      "outputs": [
        {
          "output_type": "execute_result",
          "data": {
            "text/plain": [
              "(1740, 0, 1898)"
            ]
          },
          "metadata": {},
          "execution_count": 131
        }
      ]
    },
    {
      "cell_type": "code",
      "metadata": {
        "colab": {
          "base_uri": "https://localhost:8080/"
        },
        "id": "1525X_V0_oIQ",
        "outputId": "f66cb2c0-0b2d-4ea4-d718-749033bb6335"
      },
      "source": [
        "estado_guaviare = [0,0,0]\n",
        "estado_guaviare = guaviare[guaviare[\"Estado\"] == \"Ocupados\" ].shape[0] , guaviare[guaviare[\"Estado\"] == \"Desocupados\" ].shape[0], guaviare[guaviare[\"Estado\"] == \"Inactivos\" ].shape[0]\n",
        "estado_guaviare"
      ],
      "execution_count": null,
      "outputs": [
        {
          "output_type": "execute_result",
          "data": {
            "text/plain": [
              "(1982, 0, 864)"
            ]
          },
          "metadata": {},
          "execution_count": 132
        }
      ]
    },
    {
      "cell_type": "code",
      "metadata": {
        "colab": {
          "base_uri": "https://localhost:8080/"
        },
        "id": "vIrxbDwSABPZ",
        "outputId": "473c50a7-f0c2-4043-d8e9-3610b18573ce"
      },
      "source": [
        "estado_vaupes = [0,0,0]\n",
        "estado_vaupes = vaupes[vaupes[\"Estado\"] == \"Ocupados\" ].shape[0] , vaupes[vaupes[\"Estado\"] == \"Desocupados\" ].shape[0], vaupes[vaupes[\"Estado\"] == \"Inactivos\" ].shape[0]\n",
        "estado_vaupes"
      ],
      "execution_count": null,
      "outputs": [
        {
          "output_type": "execute_result",
          "data": {
            "text/plain": [
              "(1951, 0, 1732)"
            ]
          },
          "metadata": {},
          "execution_count": 133
        }
      ]
    },
    {
      "cell_type": "code",
      "metadata": {
        "colab": {
          "base_uri": "https://localhost:8080/"
        },
        "id": "q8ilJ3Q26k_7",
        "outputId": "17e39694-4040-4729-ce9f-1774b7b63222"
      },
      "source": [
        "estado_vaupes "
      ],
      "execution_count": null,
      "outputs": [
        {
          "output_type": "execute_result",
          "data": {
            "text/plain": [
              "(1951, 0, 1732)"
            ]
          },
          "metadata": {},
          "execution_count": 134
        }
      ]
    },
    {
      "cell_type": "markdown",
      "metadata": {
        "id": "ZNtPTaXmAuCS"
      },
      "source": [
        "De las personas encuentadas, En el departamento de vaupes tenemos 1951 ocupados y 1732 inactivos, en el departamento de guaviare hay 1982 ocupados y 864 inactivos, entre otros departamentos en la amazonas tenemos 1740 ocupados y 1714 inactivos."
      ]
    },
    {
      "cell_type": "markdown",
      "metadata": {
        "id": "rzSn9WoWCzgg"
      },
      "source": [
        "## Descripción pasos\n",
        "**1.**\n",
        "\n",
        "•\tSe agregaron las bases de datos ocupados, desocupados, inactivos, fuerza de trabajo y características generales a colab, luego se llamaron por medio de ´pd.read_excel´ y se les asigno un nombre relacionado a cada base.\n",
        "\n",
        "•\tConociendo la descripción tanto de la base como de las variables, se decidió eliminar las siguientes variables en las 5 bases:\n",
        "\n",
        "o\t`FEX_C` o factor de expansión, usado para las estimaciones. \n",
        "\n",
        "o\t`AREA` o área, la cual tenía similitud con la variable `departamento`.\n",
        "\n",
        "o\t`RGIS` o registro el cual hace referencia al tipo de encuesta.\n",
        "\n",
        "•\tEn las bases de datos ocupados, desocupados, inactivos y fuerza de trabajo se encuentran las variables `OCI`, `DSI`, `INI` y `FT` respectivamente.  Estas variables identifican a cada individuo como parte de la base en la que se encuentran. Dichas variables también fueron eliminadas de su respectiva base.\n",
        "\n",
        "•\tDe la base fuerza de trabajo se eliminaron las siguientes variables:\n",
        "\n",
        "o\tP6240S1:\n",
        "\n",
        "o\tP6310S1:\n",
        "\n",
        "o\tP6290S1:\n",
        "            \n",
        "Puesto que no se consideraban necesarias en el ejercicio a realizar. Cabe resaltar que en la encuesta las variables anteriormente mencionadas hacen referencia a preguntas abiertas.\n",
        "\n",
        "\n",
        "•\tEn las bases ocupados, desocupados, inactivos se creó una nueva variable llamada Estado´ con el fin de identificar la situación en términos laborales de cada individuo al finalizar la concatenación de la información trabajada.\n",
        "\n",
        "\n",
        "•\tSe eliminaron los individuos duplicados de cada base. \n",
        "\n",
        "\n",
        "•\tSe determinó las dimensiones de cada base para tener idea de la dimensión de la base final a trabajar.\n",
        "\n",
        "\n",
        "•\tSe concatenaron por individuos (filas), las bases ocupados, desocupados e inactivos, esta concatenación se nombró dt2. \n",
        "\n",
        "\n",
        "•\tUsando el comando merge, se unió la base características generales y fuerza de trabajo, usando como llave identificadora de individuos las variables `DIRECTORIO`, `SECUENCIA_P`, `ORDEN`, `HOGAR`, `DPTO`. De esta forma se organiza la base dt1, donde a los individuos que pertenecen a la fuerza laboral, se les añadió sus características demográficas. \n",
        "\n",
        "•\t Puesto que dt1 y dt2 identifican a cada individuo con las variables `DIRECTORIO`, `SECUENCIA_P`, `ORDEN`, `HOGAR`, `DPTO`. Se creó un merge nombrado Base, en el cual cada individuo encuestado relaciona su información general con las respuestas de cada base de datos. \n",
        "\n",
        "**2.**\n",
        "\n",
        "a. Para encontrar los sexos dentro de la base de datos utilizada se hicieron los siguientes pasos:\n",
        "\n",
        "1.\tPara determinar el sexo masculino se utilizó el comando (.loc) para la base de datos original seleccionado así todas las filas y una única columna (`P6020`) que significa el sexo. La variable sexo puede tomar dos valores: (1) Hombre (2) Mujer. Por lo tanto, para encontrar el sexo masculino se igualó al valor 1. \n",
        "2.\tEl paso anterior nos arroja dos columnas. La primera es el identificador y la segunda arroja un dtype = bool indicando True = 1 (Hombres) o False = 0 (Mujeres). \n",
        "3.\tSe selecciono esta base arrojada y con ayuda del comando (.loc) le decimos a Python que tome o extraiga aquellos valores igual a 1 para la variable P6020 tomando todas las características de la base original.\n",
        "4.\tEste mismo procedimiento se hizo para las mujeres con la única diferencia que el valor igualado en (.loc) es 2 indicando el sexo femenino. \n",
        "\n",
        "b. Para encontrar los departamentos de Orinoquia dentro de la base de datos utilizada se hicieron los siguientes pasos:\n",
        "\n",
        "1.\tCon ayuda del comando (.loc) para la base de datos original se seleccionó todas las filas y una única columna (`DPTO`) que significa departamento. Sabemos que los departamentos de la región Orinoquia son: Arauca, Casanare, Vichada con unos números respectivos para su identificación 81, 85, 99.\n",
        "2.\tLa variable `DPTO` puede tomar dos valores: (81) Arauca (85) Casanare y (99). Por lo tanto, para encontrar el departamento de Arauca se igualó al valor 81 y luego se ajusto a la base de datos con el mismo comando (.loc) como se realizo anteriormente con la variable sexo.\n",
        "3.\tPara encontrar aquellas personas que pertenecen al departamento de Casanare y Arauca se tomo el procedimiento anterior y se igualaron a los valores 85 y 99.\n",
        "\n",
        "Para encontrar cuantos hombres y mujeres hay en el departamento de Arauca, Casanare y Vichada se usó el siguiente procedimiento: \n",
        "\n",
        "1.\tDe la base Masculino creada en el punto (a) se seleccionaron las columnas [4,6] las cuales corresponden a la variable sexo y departamento danto origen a la base A. Luego de ello con ayuda del comando (.loc) para esta nueva base creada le pedimos a Python que tome para la variable departamento aquellos iguales al 81. Finalmente se aplico a la base A y se obtuvo la cantidad de hombres en Arauca. Por complemento se consiguió la cantidad de mujeres que están en este departamento. \n",
        "2.\tEste mismo procedimiento se hizo para los departamentos Casanare y Vichada. La diferencia es el numero de la variable `DPTO` que se tomó, en este caso corresponde a los números 85 y 99 respectivamente.\n",
        "\n",
        "Para hallar cuantos hombres y mujeres hay en Orinoquia se realizó\n",
        ":\n",
        "1.\tPara encontrar el total de hombres en la región Orinoquia se sumaron los varones pertenecientes a Arauca, Casanare y Vichada encontrados los pasos anteriores.\n",
        "2.\tPara encontrar el total de mujeres en la región Orinoquia se sumaron las mujeres pertenecientes a Arauca, Casanare y Vichada encontrados los pasos anteriores.\n",
        "\n",
        "*Así como en la región orinoquia, se realizaron los calculos para la región amazonia.*\n",
        "\n",
        "\n",
        "\n",
        "\n"
      ]
    }
  ]
}