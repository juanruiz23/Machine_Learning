{
  "nbformat": 4,
  "nbformat_minor": 0,
  "metadata": {
    "colab": {
      "name": "PROYECTO FINAL.ipynb",
      "provenance": []
    },
    "kernelspec": {
      "name": "python3",
      "display_name": "Python 3"
    },
    "language_info": {
      "name": "python"
    }
  },
  "cells": [
    {
      "cell_type": "markdown",
      "metadata": {
        "id": "kkT1Z-6lwZYM"
      },
      "source": [
        "##ENERO"
      ]
    },
    {
      "cell_type": "code",
      "metadata": {
        "id": "KYNpTtGWvc9T"
      },
      "source": [
        "import numpy as np\n",
        "import pandas as pd\n",
        "data_desocupados_enero = pd.read_excel('/content/DESOCUPADOS ENERO.xlsx')\n",
        "data_ocupados_enero = pd.read_excel('/content/OCUPADOS_ENERO.xlsx')\n",
        "data_inactivos_enero = pd.read_excel('/content/INACTIVOS ENERO.xlsx')\n",
        "data_fuerza_t_enero = pd.read_excel('/content/FUERZA DE TRABAJO ENERO.xlsx')\n",
        "data_caracteristicas_enero = pd.read_excel('/content/CARACTERISTICAS GENERALES ENERO.xlsx')"
      ],
      "execution_count": null,
      "outputs": []
    },
    {
      "cell_type": "code",
      "metadata": {
        "id": "wSRtu1f6xH0s"
      },
      "source": [
        "del data_desocupados_enero['fex_c_2011']\n",
        "del data_ocupados_enero['fex_c_2011']\n",
        "del data_inactivos_enero['fex_c_2011']\n",
        "del data_fuerza_t_enero['fex_c_2011']\n",
        "del data_caracteristicas_enero['fex_c_2011']"
      ],
      "execution_count": null,
      "outputs": []
    },
    {
      "cell_type": "code",
      "metadata": {
        "id": "Sz7WyBI7yhVf"
      },
      "source": [
        "del data_desocupados_enero['AREA']\n",
        "del data_inactivos_enero['AREA']\n",
        "del data_fuerza_t_enero['AREA']\n",
        "del data_ocupados_enero['AREA']\n",
        "del data_caracteristicas_enero['AREA']"
      ],
      "execution_count": null,
      "outputs": []
    },
    {
      "cell_type": "code",
      "metadata": {
        "id": "wSsvvtP_zA8-"
      },
      "source": [
        "del data_ocupados_enero['REGIS']\n",
        "del data_desocupados_enero['REGIS']\n",
        "del data_inactivos_enero['REGIS']\n",
        "del data_fuerza_t_enero['REGIS']\n",
        "del data_caracteristicas_enero['REGIS']"
      ],
      "execution_count": null,
      "outputs": []
    },
    {
      "cell_type": "code",
      "metadata": {
        "id": "wQ0jcV3dzIWz"
      },
      "source": [
        "del data_desocupados_enero['DSI']\n",
        "del data_inactivos_enero['INI']\n",
        "del data_fuerza_t_enero['FT']\n",
        "del data_ocupados_enero['OCI']"
      ],
      "execution_count": null,
      "outputs": []
    },
    {
      "cell_type": "code",
      "metadata": {
        "id": "Zonsfia40ExY"
      },
      "source": [
        "del data_caracteristicas_enero['P6016']\n",
        "del data_caracteristicas_enero['P6080S1']\n",
        "del data_caracteristicas_enero['P6081S1'] \n",
        "del data_caracteristicas_enero['P6083S1'] \n",
        "del data_caracteristicas_enero['P6071S1'] \n",
        "del data_caracteristicas_enero['P3246']\n",
        "del data_caracteristicas_enero['P6110'] \n",
        "del data_caracteristicas_enero['P6120'] \n",
        "del data_caracteristicas_enero['P6210S1'] \n",
        "del data_caracteristicas_enero['MES']"
      ],
      "execution_count": null,
      "outputs": []
    },
    {
      "cell_type": "code",
      "metadata": {
        "id": "54tNeGRI8uo9"
      },
      "source": [
        "del data_desocupados_enero['P7280S1']\n",
        "del data_desocupados_enero['P7350S1'] \n",
        "del data_desocupados_enero['P7360']\n",
        "del data_desocupados_enero['P7420']\n",
        "del data_desocupados_enero['P7420S7A1']\n",
        "del data_desocupados_enero['MES']\n"
      ],
      "execution_count": null,
      "outputs": []
    },
    {
      "cell_type": "code",
      "metadata": {
        "id": "8MlcVsur_ILp"
      },
      "source": [
        "del data_ocupados_enero['P6810S1']"
      ],
      "execution_count": null,
      "outputs": []
    },
    {
      "cell_type": "code",
      "metadata": {
        "id": "N-DFP9l__IB5"
      },
      "source": [
        "del data_ocupados_enero['P6400']\n",
        "del data_ocupados_enero['P6410']\n",
        "del data_ocupados_enero['P6410S1'] \n",
        "del data_ocupados_enero['P6590S1'] \n",
        "del data_ocupados_enero['P6600S1'] \n",
        "\n"
      ],
      "execution_count": null,
      "outputs": []
    },
    {
      "cell_type": "code",
      "metadata": {
        "id": "PwNhldrwA98p"
      },
      "source": [
        "del data_ocupados_enero['MES'] "
      ],
      "execution_count": null,
      "outputs": []
    },
    {
      "cell_type": "code",
      "metadata": {
        "id": "a6SVEYa8VYmI"
      },
      "source": [
        "del data_inactivos_enero['MES'] "
      ],
      "execution_count": null,
      "outputs": []
    },
    {
      "cell_type": "code",
      "metadata": {
        "id": "cz-buoKNCVlG"
      },
      "source": [
        "del data_fuerza_t_enero['P6230']\n",
        "del data_fuerza_t_enero['MES']\n"
      ],
      "execution_count": null,
      "outputs": []
    },
    {
      "cell_type": "code",
      "metadata": {
        "id": "3KZJvKRCC-Oi"
      },
      "source": [
        "data_ocupados_enero.insert(4,\"Estado\",\"Ocupados\")\n"
      ],
      "execution_count": null,
      "outputs": []
    },
    {
      "cell_type": "code",
      "metadata": {
        "colab": {
          "base_uri": "https://localhost:8080/",
          "height": 439
        },
        "id": "T6iEgJ1hQ4tw",
        "outputId": "56ca292e-23fa-4d40-dc56-43f8c31c06dc"
      },
      "source": [
        "data_ocupados_enero"
      ],
      "execution_count": null,
      "outputs": [
        {
          "output_type": "execute_result",
          "data": {
            "text/html": [
              "<div>\n",
              "<style scoped>\n",
              "    .dataframe tbody tr th:only-of-type {\n",
              "        vertical-align: middle;\n",
              "    }\n",
              "\n",
              "    .dataframe tbody tr th {\n",
              "        vertical-align: top;\n",
              "    }\n",
              "\n",
              "    .dataframe thead th {\n",
              "        text-align: right;\n",
              "    }\n",
              "</style>\n",
              "<table border=\"1\" class=\"dataframe\">\n",
              "  <thead>\n",
              "    <tr style=\"text-align: right;\">\n",
              "      <th></th>\n",
              "      <th>DIRECTORIO</th>\n",
              "      <th>SECUENCIA_P</th>\n",
              "      <th>ORDEN</th>\n",
              "      <th>HOGAR</th>\n",
              "      <th>Estado</th>\n",
              "      <th>P388</th>\n",
              "      <th>P6440</th>\n",
              "      <th>P6450</th>\n",
              "      <th>P6460</th>\n",
              "      <th>P6460S1</th>\n",
              "      <th>P6422</th>\n",
              "      <th>P6424S1</th>\n",
              "      <th>P6424S2</th>\n",
              "      <th>P6424S3</th>\n",
              "      <th>P6426</th>\n",
              "      <th>P6430S1</th>\n",
              "      <th>P6480</th>\n",
              "      <th>P6480S1</th>\n",
              "      <th>P9440</th>\n",
              "      <th>P6500</th>\n",
              "      <th>P6510</th>\n",
              "      <th>P6510S1</th>\n",
              "      <th>P6510S2</th>\n",
              "      <th>P6590</th>\n",
              "      <th>P6600</th>\n",
              "      <th>P6610</th>\n",
              "      <th>P6610S1</th>\n",
              "      <th>P6620</th>\n",
              "      <th>P6620S1</th>\n",
              "      <th>P6585S1</th>\n",
              "      <th>P6585S1A1</th>\n",
              "      <th>P6585S1A2</th>\n",
              "      <th>P6585S2</th>\n",
              "      <th>P6585S2A1</th>\n",
              "      <th>P6585S2A2</th>\n",
              "      <th>P6585S3</th>\n",
              "      <th>P6585S3A1</th>\n",
              "      <th>P6585S3A2</th>\n",
              "      <th>P6585S4</th>\n",
              "      <th>P6585S4A1</th>\n",
              "      <th>...</th>\n",
              "      <th>P7070</th>\n",
              "      <th>P7075</th>\n",
              "      <th>P7077</th>\n",
              "      <th>P1880</th>\n",
              "      <th>P1881</th>\n",
              "      <th>P1882</th>\n",
              "      <th>P3148</th>\n",
              "      <th>P7090</th>\n",
              "      <th>P7100</th>\n",
              "      <th>P7110</th>\n",
              "      <th>P7120</th>\n",
              "      <th>P7130</th>\n",
              "      <th>P7140</th>\n",
              "      <th>P7140S1</th>\n",
              "      <th>P7140S2</th>\n",
              "      <th>P7140S3</th>\n",
              "      <th>P7140S4</th>\n",
              "      <th>P7140S5</th>\n",
              "      <th>P7140S6</th>\n",
              "      <th>P7140S7</th>\n",
              "      <th>P7140S8</th>\n",
              "      <th>P7140S9</th>\n",
              "      <th>P7140S9A1</th>\n",
              "      <th>P7150</th>\n",
              "      <th>P7160</th>\n",
              "      <th>P7170S1</th>\n",
              "      <th>P7170S5</th>\n",
              "      <th>P7170S6</th>\n",
              "      <th>P7180</th>\n",
              "      <th>P514</th>\n",
              "      <th>P515</th>\n",
              "      <th>P7240</th>\n",
              "      <th>P7240S1</th>\n",
              "      <th>OFICIO</th>\n",
              "      <th>RAMA2D_R4</th>\n",
              "      <th>P6430</th>\n",
              "      <th>RAMA4D_R4</th>\n",
              "      <th>INGLABO</th>\n",
              "      <th>DPTO</th>\n",
              "      <th>RAMA4DP8_R4</th>\n",
              "    </tr>\n",
              "  </thead>\n",
              "  <tbody>\n",
              "    <tr>\n",
              "      <th>0</th>\n",
              "      <td>5332772</td>\n",
              "      <td>1</td>\n",
              "      <td>2</td>\n",
              "      <td>1</td>\n",
              "      <td>Ocupados</td>\n",
              "      <td>68</td>\n",
              "      <td>1</td>\n",
              "      <td>2</td>\n",
              "      <td>2</td>\n",
              "      <td>12</td>\n",
              "      <td>1</td>\n",
              "      <td>1</td>\n",
              "      <td>2</td>\n",
              "      <td>1</td>\n",
              "      <td>24</td>\n",
              "      <td></td>\n",
              "      <td>1</td>\n",
              "      <td></td>\n",
              "      <td>2</td>\n",
              "      <td>877803</td>\n",
              "      <td>2</td>\n",
              "      <td></td>\n",
              "      <td></td>\n",
              "      <td>2</td>\n",
              "      <td>2</td>\n",
              "      <td>2</td>\n",
              "      <td></td>\n",
              "      <td>2</td>\n",
              "      <td></td>\n",
              "      <td>2</td>\n",
              "      <td></td>\n",
              "      <td></td>\n",
              "      <td>1</td>\n",
              "      <td>102854</td>\n",
              "      <td>2</td>\n",
              "      <td>2</td>\n",
              "      <td></td>\n",
              "      <td></td>\n",
              "      <td>2</td>\n",
              "      <td></td>\n",
              "      <td>...</td>\n",
              "      <td></td>\n",
              "      <td></td>\n",
              "      <td></td>\n",
              "      <td>1</td>\n",
              "      <td>2</td>\n",
              "      <td>20</td>\n",
              "      <td></td>\n",
              "      <td>2</td>\n",
              "      <td></td>\n",
              "      <td></td>\n",
              "      <td></td>\n",
              "      <td>2</td>\n",
              "      <td></td>\n",
              "      <td></td>\n",
              "      <td></td>\n",
              "      <td></td>\n",
              "      <td></td>\n",
              "      <td></td>\n",
              "      <td></td>\n",
              "      <td></td>\n",
              "      <td></td>\n",
              "      <td></td>\n",
              "      <td></td>\n",
              "      <td></td>\n",
              "      <td></td>\n",
              "      <td>1</td>\n",
              "      <td>2</td>\n",
              "      <td>1</td>\n",
              "      <td>2</td>\n",
              "      <td>1</td>\n",
              "      <td>1</td>\n",
              "      <td>8</td>\n",
              "      <td></td>\n",
              "      <td>95</td>\n",
              "      <td>42</td>\n",
              "      <td>1</td>\n",
              "      <td>4210</td>\n",
              "      <td>877803</td>\n",
              "      <td>68</td>\n",
              "      <td></td>\n",
              "    </tr>\n",
              "    <tr>\n",
              "      <th>1</th>\n",
              "      <td>5332773</td>\n",
              "      <td>1</td>\n",
              "      <td>1</td>\n",
              "      <td>1</td>\n",
              "      <td>Ocupados</td>\n",
              "      <td>68</td>\n",
              "      <td>2</td>\n",
              "      <td></td>\n",
              "      <td></td>\n",
              "      <td></td>\n",
              "      <td></td>\n",
              "      <td></td>\n",
              "      <td></td>\n",
              "      <td></td>\n",
              "      <td>2</td>\n",
              "      <td></td>\n",
              "      <td></td>\n",
              "      <td></td>\n",
              "      <td></td>\n",
              "      <td></td>\n",
              "      <td></td>\n",
              "      <td></td>\n",
              "      <td></td>\n",
              "      <td></td>\n",
              "      <td></td>\n",
              "      <td></td>\n",
              "      <td></td>\n",
              "      <td></td>\n",
              "      <td></td>\n",
              "      <td></td>\n",
              "      <td></td>\n",
              "      <td></td>\n",
              "      <td></td>\n",
              "      <td></td>\n",
              "      <td></td>\n",
              "      <td></td>\n",
              "      <td></td>\n",
              "      <td></td>\n",
              "      <td></td>\n",
              "      <td></td>\n",
              "      <td>...</td>\n",
              "      <td></td>\n",
              "      <td></td>\n",
              "      <td></td>\n",
              "      <td>1</td>\n",
              "      <td>12</td>\n",
              "      <td>30</td>\n",
              "      <td></td>\n",
              "      <td>2</td>\n",
              "      <td></td>\n",
              "      <td></td>\n",
              "      <td></td>\n",
              "      <td>1</td>\n",
              "      <td>1</td>\n",
              "      <td>2</td>\n",
              "      <td>1</td>\n",
              "      <td>2</td>\n",
              "      <td>2</td>\n",
              "      <td>2</td>\n",
              "      <td>2</td>\n",
              "      <td>2</td>\n",
              "      <td>2</td>\n",
              "      <td>2</td>\n",
              "      <td></td>\n",
              "      <td>1</td>\n",
              "      <td>1</td>\n",
              "      <td>1</td>\n",
              "      <td>2</td>\n",
              "      <td>2</td>\n",
              "      <td>2</td>\n",
              "      <td>2</td>\n",
              "      <td>1</td>\n",
              "      <td>8</td>\n",
              "      <td></td>\n",
              "      <td>97</td>\n",
              "      <td>52</td>\n",
              "      <td>4</td>\n",
              "      <td>5224</td>\n",
              "      <td>800000</td>\n",
              "      <td>68</td>\n",
              "      <td></td>\n",
              "    </tr>\n",
              "    <tr>\n",
              "      <th>2</th>\n",
              "      <td>5332774</td>\n",
              "      <td>1</td>\n",
              "      <td>1</td>\n",
              "      <td>1</td>\n",
              "      <td>Ocupados</td>\n",
              "      <td>68</td>\n",
              "      <td>2</td>\n",
              "      <td></td>\n",
              "      <td></td>\n",
              "      <td></td>\n",
              "      <td></td>\n",
              "      <td></td>\n",
              "      <td></td>\n",
              "      <td></td>\n",
              "      <td>24</td>\n",
              "      <td></td>\n",
              "      <td></td>\n",
              "      <td></td>\n",
              "      <td></td>\n",
              "      <td></td>\n",
              "      <td></td>\n",
              "      <td></td>\n",
              "      <td></td>\n",
              "      <td></td>\n",
              "      <td></td>\n",
              "      <td></td>\n",
              "      <td></td>\n",
              "      <td></td>\n",
              "      <td></td>\n",
              "      <td></td>\n",
              "      <td></td>\n",
              "      <td></td>\n",
              "      <td></td>\n",
              "      <td></td>\n",
              "      <td></td>\n",
              "      <td></td>\n",
              "      <td></td>\n",
              "      <td></td>\n",
              "      <td></td>\n",
              "      <td></td>\n",
              "      <td>...</td>\n",
              "      <td></td>\n",
              "      <td></td>\n",
              "      <td></td>\n",
              "      <td>1</td>\n",
              "      <td>14</td>\n",
              "      <td></td>\n",
              "      <td></td>\n",
              "      <td>2</td>\n",
              "      <td></td>\n",
              "      <td></td>\n",
              "      <td></td>\n",
              "      <td>2</td>\n",
              "      <td></td>\n",
              "      <td></td>\n",
              "      <td></td>\n",
              "      <td></td>\n",
              "      <td></td>\n",
              "      <td></td>\n",
              "      <td></td>\n",
              "      <td></td>\n",
              "      <td></td>\n",
              "      <td></td>\n",
              "      <td></td>\n",
              "      <td></td>\n",
              "      <td></td>\n",
              "      <td>1</td>\n",
              "      <td>2</td>\n",
              "      <td>2</td>\n",
              "      <td>2</td>\n",
              "      <td>1</td>\n",
              "      <td>1</td>\n",
              "      <td>8</td>\n",
              "      <td></td>\n",
              "      <td>84</td>\n",
              "      <td>45</td>\n",
              "      <td>4</td>\n",
              "      <td>4520</td>\n",
              "      <td>150000</td>\n",
              "      <td>68</td>\n",
              "      <td></td>\n",
              "    </tr>\n",
              "    <tr>\n",
              "      <th>3</th>\n",
              "      <td>5332783</td>\n",
              "      <td>1</td>\n",
              "      <td>2</td>\n",
              "      <td>1</td>\n",
              "      <td>Ocupados</td>\n",
              "      <td>68</td>\n",
              "      <td>1</td>\n",
              "      <td>2</td>\n",
              "      <td>2</td>\n",
              "      <td>12</td>\n",
              "      <td>1</td>\n",
              "      <td>1</td>\n",
              "      <td>2</td>\n",
              "      <td>1</td>\n",
              "      <td>18</td>\n",
              "      <td></td>\n",
              "      <td>1</td>\n",
              "      <td></td>\n",
              "      <td>2</td>\n",
              "      <td>1100000</td>\n",
              "      <td>2</td>\n",
              "      <td></td>\n",
              "      <td></td>\n",
              "      <td>2</td>\n",
              "      <td>2</td>\n",
              "      <td>2</td>\n",
              "      <td></td>\n",
              "      <td>2</td>\n",
              "      <td></td>\n",
              "      <td>2</td>\n",
              "      <td></td>\n",
              "      <td></td>\n",
              "      <td>1</td>\n",
              "      <td>102854</td>\n",
              "      <td>1</td>\n",
              "      <td>2</td>\n",
              "      <td></td>\n",
              "      <td></td>\n",
              "      <td>2</td>\n",
              "      <td></td>\n",
              "      <td>...</td>\n",
              "      <td></td>\n",
              "      <td></td>\n",
              "      <td></td>\n",
              "      <td>8</td>\n",
              "      <td>11</td>\n",
              "      <td>15</td>\n",
              "      <td></td>\n",
              "      <td>1</td>\n",
              "      <td>20</td>\n",
              "      <td>2</td>\n",
              "      <td>1</td>\n",
              "      <td>2</td>\n",
              "      <td></td>\n",
              "      <td></td>\n",
              "      <td></td>\n",
              "      <td></td>\n",
              "      <td></td>\n",
              "      <td></td>\n",
              "      <td></td>\n",
              "      <td></td>\n",
              "      <td></td>\n",
              "      <td></td>\n",
              "      <td></td>\n",
              "      <td></td>\n",
              "      <td></td>\n",
              "      <td>1</td>\n",
              "      <td>1</td>\n",
              "      <td>1</td>\n",
              "      <td>2</td>\n",
              "      <td>1</td>\n",
              "      <td>1</td>\n",
              "      <td>1</td>\n",
              "      <td></td>\n",
              "      <td>39</td>\n",
              "      <td>94</td>\n",
              "      <td>1</td>\n",
              "      <td>9499</td>\n",
              "      <td>1100000</td>\n",
              "      <td>68</td>\n",
              "      <td></td>\n",
              "    </tr>\n",
              "    <tr>\n",
              "      <th>4</th>\n",
              "      <td>5332785</td>\n",
              "      <td>1</td>\n",
              "      <td>1</td>\n",
              "      <td>1</td>\n",
              "      <td>Ocupados</td>\n",
              "      <td>68</td>\n",
              "      <td>2</td>\n",
              "      <td></td>\n",
              "      <td></td>\n",
              "      <td></td>\n",
              "      <td></td>\n",
              "      <td></td>\n",
              "      <td></td>\n",
              "      <td></td>\n",
              "      <td>4</td>\n",
              "      <td></td>\n",
              "      <td></td>\n",
              "      <td></td>\n",
              "      <td></td>\n",
              "      <td></td>\n",
              "      <td></td>\n",
              "      <td></td>\n",
              "      <td></td>\n",
              "      <td></td>\n",
              "      <td></td>\n",
              "      <td></td>\n",
              "      <td></td>\n",
              "      <td></td>\n",
              "      <td></td>\n",
              "      <td></td>\n",
              "      <td></td>\n",
              "      <td></td>\n",
              "      <td></td>\n",
              "      <td></td>\n",
              "      <td></td>\n",
              "      <td></td>\n",
              "      <td></td>\n",
              "      <td></td>\n",
              "      <td></td>\n",
              "      <td></td>\n",
              "      <td>...</td>\n",
              "      <td></td>\n",
              "      <td></td>\n",
              "      <td></td>\n",
              "      <td>2</td>\n",
              "      <td>11</td>\n",
              "      <td>20</td>\n",
              "      <td></td>\n",
              "      <td>2</td>\n",
              "      <td></td>\n",
              "      <td></td>\n",
              "      <td></td>\n",
              "      <td>2</td>\n",
              "      <td></td>\n",
              "      <td></td>\n",
              "      <td></td>\n",
              "      <td></td>\n",
              "      <td></td>\n",
              "      <td></td>\n",
              "      <td></td>\n",
              "      <td></td>\n",
              "      <td></td>\n",
              "      <td></td>\n",
              "      <td></td>\n",
              "      <td></td>\n",
              "      <td></td>\n",
              "      <td>1</td>\n",
              "      <td>1</td>\n",
              "      <td>1</td>\n",
              "      <td>2</td>\n",
              "      <td>2</td>\n",
              "      <td>1</td>\n",
              "      <td>3</td>\n",
              "      <td></td>\n",
              "      <td>2</td>\n",
              "      <td>43</td>\n",
              "      <td>4</td>\n",
              "      <td>4321</td>\n",
              "      <td>600000</td>\n",
              "      <td>68</td>\n",
              "      <td></td>\n",
              "    </tr>\n",
              "    <tr>\n",
              "      <th>...</th>\n",
              "      <td>...</td>\n",
              "      <td>...</td>\n",
              "      <td>...</td>\n",
              "      <td>...</td>\n",
              "      <td>...</td>\n",
              "      <td>...</td>\n",
              "      <td>...</td>\n",
              "      <td>...</td>\n",
              "      <td>...</td>\n",
              "      <td>...</td>\n",
              "      <td>...</td>\n",
              "      <td>...</td>\n",
              "      <td>...</td>\n",
              "      <td>...</td>\n",
              "      <td>...</td>\n",
              "      <td>...</td>\n",
              "      <td>...</td>\n",
              "      <td>...</td>\n",
              "      <td>...</td>\n",
              "      <td>...</td>\n",
              "      <td>...</td>\n",
              "      <td>...</td>\n",
              "      <td>...</td>\n",
              "      <td>...</td>\n",
              "      <td>...</td>\n",
              "      <td>...</td>\n",
              "      <td>...</td>\n",
              "      <td>...</td>\n",
              "      <td>...</td>\n",
              "      <td>...</td>\n",
              "      <td>...</td>\n",
              "      <td>...</td>\n",
              "      <td>...</td>\n",
              "      <td>...</td>\n",
              "      <td>...</td>\n",
              "      <td>...</td>\n",
              "      <td>...</td>\n",
              "      <td>...</td>\n",
              "      <td>...</td>\n",
              "      <td>...</td>\n",
              "      <td>...</td>\n",
              "      <td>...</td>\n",
              "      <td>...</td>\n",
              "      <td>...</td>\n",
              "      <td>...</td>\n",
              "      <td>...</td>\n",
              "      <td>...</td>\n",
              "      <td>...</td>\n",
              "      <td>...</td>\n",
              "      <td>...</td>\n",
              "      <td>...</td>\n",
              "      <td>...</td>\n",
              "      <td>...</td>\n",
              "      <td>...</td>\n",
              "      <td>...</td>\n",
              "      <td>...</td>\n",
              "      <td>...</td>\n",
              "      <td>...</td>\n",
              "      <td>...</td>\n",
              "      <td>...</td>\n",
              "      <td>...</td>\n",
              "      <td>...</td>\n",
              "      <td>...</td>\n",
              "      <td>...</td>\n",
              "      <td>...</td>\n",
              "      <td>...</td>\n",
              "      <td>...</td>\n",
              "      <td>...</td>\n",
              "      <td>...</td>\n",
              "      <td>...</td>\n",
              "      <td>...</td>\n",
              "      <td>...</td>\n",
              "      <td>...</td>\n",
              "      <td>...</td>\n",
              "      <td>...</td>\n",
              "      <td>...</td>\n",
              "      <td>...</td>\n",
              "      <td>...</td>\n",
              "      <td>...</td>\n",
              "      <td>...</td>\n",
              "      <td>...</td>\n",
              "    </tr>\n",
              "    <tr>\n",
              "      <th>11694</th>\n",
              "      <td>5366962</td>\n",
              "      <td>1</td>\n",
              "      <td>4</td>\n",
              "      <td>1</td>\n",
              "      <td>Ocupados</td>\n",
              "      <td>66</td>\n",
              "      <td>1</td>\n",
              "      <td>2</td>\n",
              "      <td>1</td>\n",
              "      <td></td>\n",
              "      <td>1</td>\n",
              "      <td>1</td>\n",
              "      <td>1</td>\n",
              "      <td>1</td>\n",
              "      <td>96</td>\n",
              "      <td></td>\n",
              "      <td>2</td>\n",
              "      <td></td>\n",
              "      <td>2</td>\n",
              "      <td>900000</td>\n",
              "      <td>2</td>\n",
              "      <td></td>\n",
              "      <td></td>\n",
              "      <td>2</td>\n",
              "      <td>2</td>\n",
              "      <td>1</td>\n",
              "      <td>200000</td>\n",
              "      <td>2</td>\n",
              "      <td></td>\n",
              "      <td>2</td>\n",
              "      <td></td>\n",
              "      <td></td>\n",
              "      <td>2</td>\n",
              "      <td></td>\n",
              "      <td></td>\n",
              "      <td>2</td>\n",
              "      <td></td>\n",
              "      <td></td>\n",
              "      <td>2</td>\n",
              "      <td></td>\n",
              "      <td>...</td>\n",
              "      <td></td>\n",
              "      <td></td>\n",
              "      <td></td>\n",
              "      <td>7</td>\n",
              "      <td>7</td>\n",
              "      <td>15</td>\n",
              "      <td></td>\n",
              "      <td>2</td>\n",
              "      <td></td>\n",
              "      <td></td>\n",
              "      <td></td>\n",
              "      <td>2</td>\n",
              "      <td></td>\n",
              "      <td></td>\n",
              "      <td></td>\n",
              "      <td></td>\n",
              "      <td></td>\n",
              "      <td></td>\n",
              "      <td></td>\n",
              "      <td></td>\n",
              "      <td></td>\n",
              "      <td></td>\n",
              "      <td></td>\n",
              "      <td></td>\n",
              "      <td></td>\n",
              "      <td>1</td>\n",
              "      <td>1</td>\n",
              "      <td>1</td>\n",
              "      <td>2</td>\n",
              "      <td>1</td>\n",
              "      <td>1</td>\n",
              "      <td>3</td>\n",
              "      <td></td>\n",
              "      <td>79</td>\n",
              "      <td>14</td>\n",
              "      <td>1</td>\n",
              "      <td>1410</td>\n",
              "      <td>900000</td>\n",
              "      <td>66</td>\n",
              "      <td></td>\n",
              "    </tr>\n",
              "    <tr>\n",
              "      <th>11695</th>\n",
              "      <td>5366963</td>\n",
              "      <td>1</td>\n",
              "      <td>5</td>\n",
              "      <td>1</td>\n",
              "      <td>Ocupados</td>\n",
              "      <td>66</td>\n",
              "      <td>1</td>\n",
              "      <td>1</td>\n",
              "      <td></td>\n",
              "      <td></td>\n",
              "      <td>1</td>\n",
              "      <td>2</td>\n",
              "      <td>2</td>\n",
              "      <td>2</td>\n",
              "      <td>2</td>\n",
              "      <td></td>\n",
              "      <td>1</td>\n",
              "      <td></td>\n",
              "      <td>2</td>\n",
              "      <td>800000</td>\n",
              "      <td>2</td>\n",
              "      <td></td>\n",
              "      <td></td>\n",
              "      <td>1</td>\n",
              "      <td>2</td>\n",
              "      <td>2</td>\n",
              "      <td></td>\n",
              "      <td>2</td>\n",
              "      <td></td>\n",
              "      <td>2</td>\n",
              "      <td></td>\n",
              "      <td></td>\n",
              "      <td>2</td>\n",
              "      <td></td>\n",
              "      <td></td>\n",
              "      <td>2</td>\n",
              "      <td></td>\n",
              "      <td></td>\n",
              "      <td>2</td>\n",
              "      <td></td>\n",
              "      <td>...</td>\n",
              "      <td></td>\n",
              "      <td></td>\n",
              "      <td></td>\n",
              "      <td>7</td>\n",
              "      <td>5</td>\n",
              "      <td>20</td>\n",
              "      <td></td>\n",
              "      <td>2</td>\n",
              "      <td></td>\n",
              "      <td></td>\n",
              "      <td></td>\n",
              "      <td>2</td>\n",
              "      <td></td>\n",
              "      <td></td>\n",
              "      <td></td>\n",
              "      <td></td>\n",
              "      <td></td>\n",
              "      <td></td>\n",
              "      <td></td>\n",
              "      <td></td>\n",
              "      <td></td>\n",
              "      <td></td>\n",
              "      <td></td>\n",
              "      <td></td>\n",
              "      <td></td>\n",
              "      <td>1</td>\n",
              "      <td>1</td>\n",
              "      <td>1</td>\n",
              "      <td>2</td>\n",
              "      <td>1</td>\n",
              "      <td>1</td>\n",
              "      <td>3</td>\n",
              "      <td></td>\n",
              "      <td>53</td>\n",
              "      <td>56</td>\n",
              "      <td>1</td>\n",
              "      <td>5611</td>\n",
              "      <td>920000</td>\n",
              "      <td>66</td>\n",
              "      <td></td>\n",
              "    </tr>\n",
              "    <tr>\n",
              "      <th>11696</th>\n",
              "      <td>5367013</td>\n",
              "      <td>1</td>\n",
              "      <td>1</td>\n",
              "      <td>1</td>\n",
              "      <td>Ocupados</td>\n",
              "      <td>17</td>\n",
              "      <td>1</td>\n",
              "      <td>2</td>\n",
              "      <td>1</td>\n",
              "      <td></td>\n",
              "      <td>1</td>\n",
              "      <td>1</td>\n",
              "      <td>2</td>\n",
              "      <td>1</td>\n",
              "      <td>38</td>\n",
              "      <td></td>\n",
              "      <td>1</td>\n",
              "      <td></td>\n",
              "      <td>2</td>\n",
              "      <td>908526</td>\n",
              "      <td>2</td>\n",
              "      <td></td>\n",
              "      <td></td>\n",
              "      <td>2</td>\n",
              "      <td>2</td>\n",
              "      <td>2</td>\n",
              "      <td></td>\n",
              "      <td>2</td>\n",
              "      <td></td>\n",
              "      <td>2</td>\n",
              "      <td></td>\n",
              "      <td></td>\n",
              "      <td>1</td>\n",
              "      <td>106454</td>\n",
              "      <td>2</td>\n",
              "      <td>2</td>\n",
              "      <td></td>\n",
              "      <td></td>\n",
              "      <td>2</td>\n",
              "      <td></td>\n",
              "      <td>...</td>\n",
              "      <td></td>\n",
              "      <td></td>\n",
              "      <td></td>\n",
              "      <td>3</td>\n",
              "      <td>3</td>\n",
              "      <td>5</td>\n",
              "      <td></td>\n",
              "      <td>2</td>\n",
              "      <td></td>\n",
              "      <td></td>\n",
              "      <td></td>\n",
              "      <td>1</td>\n",
              "      <td>1</td>\n",
              "      <td>1</td>\n",
              "      <td>1</td>\n",
              "      <td>2</td>\n",
              "      <td>2</td>\n",
              "      <td>2</td>\n",
              "      <td>2</td>\n",
              "      <td>2</td>\n",
              "      <td>2</td>\n",
              "      <td>2</td>\n",
              "      <td></td>\n",
              "      <td>2</td>\n",
              "      <td>1</td>\n",
              "      <td>1</td>\n",
              "      <td>2</td>\n",
              "      <td>1</td>\n",
              "      <td>2</td>\n",
              "      <td>1</td>\n",
              "      <td>1</td>\n",
              "      <td>8</td>\n",
              "      <td></td>\n",
              "      <td>45</td>\n",
              "      <td>47</td>\n",
              "      <td>1</td>\n",
              "      <td>4755</td>\n",
              "      <td>908526</td>\n",
              "      <td>17</td>\n",
              "      <td></td>\n",
              "    </tr>\n",
              "    <tr>\n",
              "      <th>11697</th>\n",
              "      <td>5367014</td>\n",
              "      <td>1</td>\n",
              "      <td>3</td>\n",
              "      <td>1</td>\n",
              "      <td>Ocupados</td>\n",
              "      <td>23</td>\n",
              "      <td>2</td>\n",
              "      <td></td>\n",
              "      <td></td>\n",
              "      <td></td>\n",
              "      <td></td>\n",
              "      <td></td>\n",
              "      <td></td>\n",
              "      <td></td>\n",
              "      <td>4</td>\n",
              "      <td></td>\n",
              "      <td></td>\n",
              "      <td></td>\n",
              "      <td></td>\n",
              "      <td></td>\n",
              "      <td></td>\n",
              "      <td></td>\n",
              "      <td></td>\n",
              "      <td></td>\n",
              "      <td></td>\n",
              "      <td></td>\n",
              "      <td></td>\n",
              "      <td></td>\n",
              "      <td></td>\n",
              "      <td></td>\n",
              "      <td></td>\n",
              "      <td></td>\n",
              "      <td></td>\n",
              "      <td></td>\n",
              "      <td></td>\n",
              "      <td></td>\n",
              "      <td></td>\n",
              "      <td></td>\n",
              "      <td></td>\n",
              "      <td></td>\n",
              "      <td>...</td>\n",
              "      <td></td>\n",
              "      <td></td>\n",
              "      <td></td>\n",
              "      <td>5</td>\n",
              "      <td>11</td>\n",
              "      <td>10</td>\n",
              "      <td></td>\n",
              "      <td>2</td>\n",
              "      <td></td>\n",
              "      <td></td>\n",
              "      <td></td>\n",
              "      <td>1</td>\n",
              "      <td>1</td>\n",
              "      <td>1</td>\n",
              "      <td>1</td>\n",
              "      <td>1</td>\n",
              "      <td>1</td>\n",
              "      <td>2</td>\n",
              "      <td>2</td>\n",
              "      <td>2</td>\n",
              "      <td>2</td>\n",
              "      <td>2</td>\n",
              "      <td></td>\n",
              "      <td>2</td>\n",
              "      <td>1</td>\n",
              "      <td>2</td>\n",
              "      <td>2</td>\n",
              "      <td>2</td>\n",
              "      <td>2</td>\n",
              "      <td>2</td>\n",
              "      <td>1</td>\n",
              "      <td>3</td>\n",
              "      <td></td>\n",
              "      <td>98</td>\n",
              "      <td>49</td>\n",
              "      <td>4</td>\n",
              "      <td>4921</td>\n",
              "      <td>400000</td>\n",
              "      <td>23</td>\n",
              "      <td></td>\n",
              "    </tr>\n",
              "    <tr>\n",
              "      <th>11698</th>\n",
              "      <td>5367015</td>\n",
              "      <td>1</td>\n",
              "      <td>2</td>\n",
              "      <td>1</td>\n",
              "      <td>Ocupados</td>\n",
              "      <td>23</td>\n",
              "      <td>2</td>\n",
              "      <td></td>\n",
              "      <td></td>\n",
              "      <td></td>\n",
              "      <td></td>\n",
              "      <td></td>\n",
              "      <td></td>\n",
              "      <td></td>\n",
              "      <td>7</td>\n",
              "      <td></td>\n",
              "      <td></td>\n",
              "      <td></td>\n",
              "      <td></td>\n",
              "      <td></td>\n",
              "      <td></td>\n",
              "      <td></td>\n",
              "      <td></td>\n",
              "      <td></td>\n",
              "      <td></td>\n",
              "      <td></td>\n",
              "      <td></td>\n",
              "      <td></td>\n",
              "      <td></td>\n",
              "      <td></td>\n",
              "      <td></td>\n",
              "      <td></td>\n",
              "      <td></td>\n",
              "      <td></td>\n",
              "      <td></td>\n",
              "      <td></td>\n",
              "      <td></td>\n",
              "      <td></td>\n",
              "      <td></td>\n",
              "      <td></td>\n",
              "      <td>...</td>\n",
              "      <td></td>\n",
              "      <td></td>\n",
              "      <td></td>\n",
              "      <td></td>\n",
              "      <td>13</td>\n",
              "      <td>10</td>\n",
              "      <td></td>\n",
              "      <td>2</td>\n",
              "      <td></td>\n",
              "      <td></td>\n",
              "      <td></td>\n",
              "      <td>2</td>\n",
              "      <td></td>\n",
              "      <td></td>\n",
              "      <td></td>\n",
              "      <td></td>\n",
              "      <td></td>\n",
              "      <td></td>\n",
              "      <td></td>\n",
              "      <td></td>\n",
              "      <td></td>\n",
              "      <td></td>\n",
              "      <td></td>\n",
              "      <td></td>\n",
              "      <td></td>\n",
              "      <td>1</td>\n",
              "      <td>2</td>\n",
              "      <td>1</td>\n",
              "      <td>2</td>\n",
              "      <td>2</td>\n",
              "      <td>1</td>\n",
              "      <td>3</td>\n",
              "      <td></td>\n",
              "      <td>97</td>\n",
              "      <td>52</td>\n",
              "      <td>4</td>\n",
              "      <td>5224</td>\n",
              "      <td>400000</td>\n",
              "      <td>23</td>\n",
              "      <td></td>\n",
              "    </tr>\n",
              "  </tbody>\n",
              "</table>\n",
              "<p>11699 rows × 155 columns</p>\n",
              "</div>"
            ],
            "text/plain": [
              "       DIRECTORIO  SECUENCIA_P  ORDEN  ...  INGLABO DPTO  RAMA4DP8_R4\n",
              "0         5332772            1      2  ...   877803   68             \n",
              "1         5332773            1      1  ...   800000   68             \n",
              "2         5332774            1      1  ...   150000   68             \n",
              "3         5332783            1      2  ...  1100000   68             \n",
              "4         5332785            1      1  ...   600000   68             \n",
              "...           ...          ...    ...  ...      ...  ...          ...\n",
              "11694     5366962            1      4  ...   900000   66             \n",
              "11695     5366963            1      5  ...   920000   66             \n",
              "11696     5367013            1      1  ...   908526   17             \n",
              "11697     5367014            1      3  ...   400000   23             \n",
              "11698     5367015            1      2  ...   400000   23             \n",
              "\n",
              "[11699 rows x 155 columns]"
            ]
          },
          "metadata": {},
          "execution_count": 20
        }
      ]
    },
    {
      "cell_type": "code",
      "metadata": {
        "id": "wmEBNR0-H6sH"
      },
      "source": [
        "data_desocupados_enero.insert(4,\"Estado\",\"Desocupados\")\n",
        "data_inactivos_enero.insert(4,\"Estado\",\"Inactivos\")"
      ],
      "execution_count": null,
      "outputs": []
    },
    {
      "cell_type": "markdown",
      "metadata": {
        "id": "YtEZyhU7EBmg"
      },
      "source": [
        "#DUPLICADOS ENERO"
      ]
    },
    {
      "cell_type": "code",
      "metadata": {
        "id": "b4pgEYUZEGAC"
      },
      "source": [
        "data_desocupados_enero = data_desocupados_enero.drop_duplicates()"
      ],
      "execution_count": null,
      "outputs": []
    },
    {
      "cell_type": "code",
      "metadata": {
        "id": "KiVtEAWtEQRL"
      },
      "source": [
        "data_ocupados_enero = data_ocupados_enero.drop_duplicates()"
      ],
      "execution_count": null,
      "outputs": []
    },
    {
      "cell_type": "code",
      "metadata": {
        "id": "d9RnhaKNES71"
      },
      "source": [
        "data_inactivos_enero = data_inactivos_enero.drop_duplicates()"
      ],
      "execution_count": null,
      "outputs": []
    },
    {
      "cell_type": "code",
      "metadata": {
        "id": "wdE_13aVEWUx"
      },
      "source": [
        "data_fuerza_t_enero = data_fuerza_t_enero.drop_duplicates()"
      ],
      "execution_count": null,
      "outputs": []
    },
    {
      "cell_type": "code",
      "metadata": {
        "id": "icpU4a9SEZeY"
      },
      "source": [
        "data_caracteristicas_enero = data_caracteristicas_enero.drop_duplicates()"
      ],
      "execution_count": null,
      "outputs": []
    },
    {
      "cell_type": "code",
      "metadata": {
        "colab": {
          "base_uri": "https://localhost:8080/"
        },
        "id": "8P45fpeGEjqW",
        "outputId": "5da2acab-0b56-4bfc-9248-e321b0ce9c3d"
      },
      "source": [
        "data_desocupados_enero.shape"
      ],
      "execution_count": null,
      "outputs": [
        {
          "output_type": "execute_result",
          "data": {
            "text/plain": [
              "(2663, 33)"
            ]
          },
          "metadata": {},
          "execution_count": 27
        }
      ]
    },
    {
      "cell_type": "code",
      "metadata": {
        "colab": {
          "base_uri": "https://localhost:8080/"
        },
        "id": "BsUuEOhVEnMx",
        "outputId": "7960b7fe-a27a-4871-bbc9-0d2ac54507a0"
      },
      "source": [
        "data_ocupados_enero.shape"
      ],
      "execution_count": null,
      "outputs": [
        {
          "output_type": "execute_result",
          "data": {
            "text/plain": [
              "(11699, 155)"
            ]
          },
          "metadata": {},
          "execution_count": 28
        }
      ]
    },
    {
      "cell_type": "code",
      "metadata": {
        "colab": {
          "base_uri": "https://localhost:8080/"
        },
        "id": "0yEEr-FMEs2b",
        "outputId": "0ca0f4f2-aa23-4c0f-8433-7571b87d5275"
      },
      "source": [
        "data_inactivos_enero.shape"
      ],
      "execution_count": null,
      "outputs": [
        {
          "output_type": "execute_result",
          "data": {
            "text/plain": [
              "(9589, 23)"
            ]
          },
          "metadata": {},
          "execution_count": 29
        }
      ]
    },
    {
      "cell_type": "code",
      "metadata": {
        "colab": {
          "base_uri": "https://localhost:8080/"
        },
        "id": "bMru_GjhEwKR",
        "outputId": "f2415154-0521-4eb9-b29d-db968fd505f9"
      },
      "source": [
        "data_fuerza_t_enero.shape"
      ],
      "execution_count": null,
      "outputs": [
        {
          "output_type": "execute_result",
          "data": {
            "text/plain": [
              "(23951, 21)"
            ]
          },
          "metadata": {},
          "execution_count": 30
        }
      ]
    },
    {
      "cell_type": "code",
      "metadata": {
        "colab": {
          "base_uri": "https://localhost:8080/"
        },
        "id": "zyXdTebfEypr",
        "outputId": "9307352e-43f6-4121-9bac-02b1257bcddf"
      },
      "source": [
        "data_caracteristicas_enero.shape"
      ],
      "execution_count": null,
      "outputs": [
        {
          "output_type": "execute_result",
          "data": {
            "text/plain": [
              "(28155, 39)"
            ]
          },
          "metadata": {},
          "execution_count": 31
        }
      ]
    },
    {
      "cell_type": "markdown",
      "metadata": {
        "id": "B1fs_6ApFryA"
      },
      "source": [
        "#CONCATENAR ENERO"
      ]
    },
    {
      "cell_type": "code",
      "metadata": {
        "id": "6AfdEiwzE3T3"
      },
      "source": [
        "dt2_enero = pd.concat([data_ocupados_enero, data_desocupados_enero,data_inactivos_enero])"
      ],
      "execution_count": null,
      "outputs": []
    },
    {
      "cell_type": "code",
      "metadata": {
        "colab": {
          "base_uri": "https://localhost:8080/",
          "height": 439
        },
        "id": "5mKbO4HRFRR4",
        "outputId": "725c5589-6163-4a1a-9636-93247be31878"
      },
      "source": [
        "dt2_enero"
      ],
      "execution_count": null,
      "outputs": [
        {
          "output_type": "execute_result",
          "data": {
            "text/html": [
              "<div>\n",
              "<style scoped>\n",
              "    .dataframe tbody tr th:only-of-type {\n",
              "        vertical-align: middle;\n",
              "    }\n",
              "\n",
              "    .dataframe tbody tr th {\n",
              "        vertical-align: top;\n",
              "    }\n",
              "\n",
              "    .dataframe thead th {\n",
              "        text-align: right;\n",
              "    }\n",
              "</style>\n",
              "<table border=\"1\" class=\"dataframe\">\n",
              "  <thead>\n",
              "    <tr style=\"text-align: right;\">\n",
              "      <th></th>\n",
              "      <th>DIRECTORIO</th>\n",
              "      <th>SECUENCIA_P</th>\n",
              "      <th>ORDEN</th>\n",
              "      <th>HOGAR</th>\n",
              "      <th>Estado</th>\n",
              "      <th>P388</th>\n",
              "      <th>P6440</th>\n",
              "      <th>P6450</th>\n",
              "      <th>P6460</th>\n",
              "      <th>P6460S1</th>\n",
              "      <th>P6422</th>\n",
              "      <th>P6424S1</th>\n",
              "      <th>P6424S2</th>\n",
              "      <th>P6424S3</th>\n",
              "      <th>P6426</th>\n",
              "      <th>P6430S1</th>\n",
              "      <th>P6480</th>\n",
              "      <th>P6480S1</th>\n",
              "      <th>P9440</th>\n",
              "      <th>P6500</th>\n",
              "      <th>P6510</th>\n",
              "      <th>P6510S1</th>\n",
              "      <th>P6510S2</th>\n",
              "      <th>P6590</th>\n",
              "      <th>P6600</th>\n",
              "      <th>P6610</th>\n",
              "      <th>P6610S1</th>\n",
              "      <th>P6620</th>\n",
              "      <th>P6620S1</th>\n",
              "      <th>P6585S1</th>\n",
              "      <th>P6585S1A1</th>\n",
              "      <th>P6585S1A2</th>\n",
              "      <th>P6585S2</th>\n",
              "      <th>P6585S2A1</th>\n",
              "      <th>P6585S2A2</th>\n",
              "      <th>P6585S3</th>\n",
              "      <th>P6585S3A1</th>\n",
              "      <th>P6585S3A2</th>\n",
              "      <th>P6585S4</th>\n",
              "      <th>P6585S4A1</th>\n",
              "      <th>...</th>\n",
              "      <th>P7320</th>\n",
              "      <th>P7350</th>\n",
              "      <th>P9460</th>\n",
              "      <th>P7390</th>\n",
              "      <th>P7390S1</th>\n",
              "      <th>P7420S1</th>\n",
              "      <th>P7420S2</th>\n",
              "      <th>P7420S3</th>\n",
              "      <th>P7420S4</th>\n",
              "      <th>P7420S5</th>\n",
              "      <th>P7420S6</th>\n",
              "      <th>P7420S7</th>\n",
              "      <th>P7420S8</th>\n",
              "      <th>P7422</th>\n",
              "      <th>P7422S1</th>\n",
              "      <th>P1806</th>\n",
              "      <th>P1519</th>\n",
              "      <th>P1883</th>\n",
              "      <th>RAMA2D_D_R4</th>\n",
              "      <th>OFICIO1</th>\n",
              "      <th>OFICIO2</th>\n",
              "      <th>DSCY</th>\n",
              "      <th>RAMA4D_D_R4</th>\n",
              "      <th>P7430</th>\n",
              "      <th>P7450</th>\n",
              "      <th>P7450S1</th>\n",
              "      <th>P7452</th>\n",
              "      <th>P7454</th>\n",
              "      <th>P7456</th>\n",
              "      <th>P7458</th>\n",
              "      <th>P7458S1</th>\n",
              "      <th>P7460</th>\n",
              "      <th>P7470</th>\n",
              "      <th>P7472</th>\n",
              "      <th>P7472S1</th>\n",
              "      <th>P744</th>\n",
              "      <th>P1884</th>\n",
              "      <th>P1807</th>\n",
              "      <th>P6921</th>\n",
              "      <th>p7440</th>\n",
              "    </tr>\n",
              "  </thead>\n",
              "  <tbody>\n",
              "    <tr>\n",
              "      <th>0</th>\n",
              "      <td>5332772</td>\n",
              "      <td>1</td>\n",
              "      <td>2</td>\n",
              "      <td>1</td>\n",
              "      <td>Ocupados</td>\n",
              "      <td>68.0</td>\n",
              "      <td>1.0</td>\n",
              "      <td>2</td>\n",
              "      <td>2</td>\n",
              "      <td>12</td>\n",
              "      <td>1</td>\n",
              "      <td>1</td>\n",
              "      <td>2</td>\n",
              "      <td>1</td>\n",
              "      <td>24.0</td>\n",
              "      <td></td>\n",
              "      <td>1</td>\n",
              "      <td></td>\n",
              "      <td>2</td>\n",
              "      <td>877803</td>\n",
              "      <td>2</td>\n",
              "      <td></td>\n",
              "      <td></td>\n",
              "      <td>2</td>\n",
              "      <td>2</td>\n",
              "      <td>2</td>\n",
              "      <td></td>\n",
              "      <td>2</td>\n",
              "      <td></td>\n",
              "      <td>2</td>\n",
              "      <td></td>\n",
              "      <td></td>\n",
              "      <td>1</td>\n",
              "      <td>102854</td>\n",
              "      <td>2</td>\n",
              "      <td>2</td>\n",
              "      <td></td>\n",
              "      <td></td>\n",
              "      <td>2</td>\n",
              "      <td></td>\n",
              "      <td>...</td>\n",
              "      <td>NaN</td>\n",
              "      <td>NaN</td>\n",
              "      <td>NaN</td>\n",
              "      <td>NaN</td>\n",
              "      <td>NaN</td>\n",
              "      <td>NaN</td>\n",
              "      <td>NaN</td>\n",
              "      <td>NaN</td>\n",
              "      <td>NaN</td>\n",
              "      <td>NaN</td>\n",
              "      <td>NaN</td>\n",
              "      <td>NaN</td>\n",
              "      <td>NaN</td>\n",
              "      <td>NaN</td>\n",
              "      <td>NaN</td>\n",
              "      <td>NaN</td>\n",
              "      <td>NaN</td>\n",
              "      <td>NaN</td>\n",
              "      <td>NaN</td>\n",
              "      <td>NaN</td>\n",
              "      <td>NaN</td>\n",
              "      <td>NaN</td>\n",
              "      <td>NaN</td>\n",
              "      <td>NaN</td>\n",
              "      <td>NaN</td>\n",
              "      <td>NaN</td>\n",
              "      <td>NaN</td>\n",
              "      <td>NaN</td>\n",
              "      <td>NaN</td>\n",
              "      <td>NaN</td>\n",
              "      <td>NaN</td>\n",
              "      <td>NaN</td>\n",
              "      <td>NaN</td>\n",
              "      <td>NaN</td>\n",
              "      <td>NaN</td>\n",
              "      <td>NaN</td>\n",
              "      <td>NaN</td>\n",
              "      <td>NaN</td>\n",
              "      <td>NaN</td>\n",
              "      <td>NaN</td>\n",
              "    </tr>\n",
              "    <tr>\n",
              "      <th>1</th>\n",
              "      <td>5332773</td>\n",
              "      <td>1</td>\n",
              "      <td>1</td>\n",
              "      <td>1</td>\n",
              "      <td>Ocupados</td>\n",
              "      <td>68.0</td>\n",
              "      <td>2.0</td>\n",
              "      <td></td>\n",
              "      <td></td>\n",
              "      <td></td>\n",
              "      <td></td>\n",
              "      <td></td>\n",
              "      <td></td>\n",
              "      <td></td>\n",
              "      <td>2.0</td>\n",
              "      <td></td>\n",
              "      <td></td>\n",
              "      <td></td>\n",
              "      <td></td>\n",
              "      <td></td>\n",
              "      <td></td>\n",
              "      <td></td>\n",
              "      <td></td>\n",
              "      <td></td>\n",
              "      <td></td>\n",
              "      <td></td>\n",
              "      <td></td>\n",
              "      <td></td>\n",
              "      <td></td>\n",
              "      <td></td>\n",
              "      <td></td>\n",
              "      <td></td>\n",
              "      <td></td>\n",
              "      <td></td>\n",
              "      <td></td>\n",
              "      <td></td>\n",
              "      <td></td>\n",
              "      <td></td>\n",
              "      <td></td>\n",
              "      <td></td>\n",
              "      <td>...</td>\n",
              "      <td>NaN</td>\n",
              "      <td>NaN</td>\n",
              "      <td>NaN</td>\n",
              "      <td>NaN</td>\n",
              "      <td>NaN</td>\n",
              "      <td>NaN</td>\n",
              "      <td>NaN</td>\n",
              "      <td>NaN</td>\n",
              "      <td>NaN</td>\n",
              "      <td>NaN</td>\n",
              "      <td>NaN</td>\n",
              "      <td>NaN</td>\n",
              "      <td>NaN</td>\n",
              "      <td>NaN</td>\n",
              "      <td>NaN</td>\n",
              "      <td>NaN</td>\n",
              "      <td>NaN</td>\n",
              "      <td>NaN</td>\n",
              "      <td>NaN</td>\n",
              "      <td>NaN</td>\n",
              "      <td>NaN</td>\n",
              "      <td>NaN</td>\n",
              "      <td>NaN</td>\n",
              "      <td>NaN</td>\n",
              "      <td>NaN</td>\n",
              "      <td>NaN</td>\n",
              "      <td>NaN</td>\n",
              "      <td>NaN</td>\n",
              "      <td>NaN</td>\n",
              "      <td>NaN</td>\n",
              "      <td>NaN</td>\n",
              "      <td>NaN</td>\n",
              "      <td>NaN</td>\n",
              "      <td>NaN</td>\n",
              "      <td>NaN</td>\n",
              "      <td>NaN</td>\n",
              "      <td>NaN</td>\n",
              "      <td>NaN</td>\n",
              "      <td>NaN</td>\n",
              "      <td>NaN</td>\n",
              "    </tr>\n",
              "    <tr>\n",
              "      <th>2</th>\n",
              "      <td>5332774</td>\n",
              "      <td>1</td>\n",
              "      <td>1</td>\n",
              "      <td>1</td>\n",
              "      <td>Ocupados</td>\n",
              "      <td>68.0</td>\n",
              "      <td>2.0</td>\n",
              "      <td></td>\n",
              "      <td></td>\n",
              "      <td></td>\n",
              "      <td></td>\n",
              "      <td></td>\n",
              "      <td></td>\n",
              "      <td></td>\n",
              "      <td>24.0</td>\n",
              "      <td></td>\n",
              "      <td></td>\n",
              "      <td></td>\n",
              "      <td></td>\n",
              "      <td></td>\n",
              "      <td></td>\n",
              "      <td></td>\n",
              "      <td></td>\n",
              "      <td></td>\n",
              "      <td></td>\n",
              "      <td></td>\n",
              "      <td></td>\n",
              "      <td></td>\n",
              "      <td></td>\n",
              "      <td></td>\n",
              "      <td></td>\n",
              "      <td></td>\n",
              "      <td></td>\n",
              "      <td></td>\n",
              "      <td></td>\n",
              "      <td></td>\n",
              "      <td></td>\n",
              "      <td></td>\n",
              "      <td></td>\n",
              "      <td></td>\n",
              "      <td>...</td>\n",
              "      <td>NaN</td>\n",
              "      <td>NaN</td>\n",
              "      <td>NaN</td>\n",
              "      <td>NaN</td>\n",
              "      <td>NaN</td>\n",
              "      <td>NaN</td>\n",
              "      <td>NaN</td>\n",
              "      <td>NaN</td>\n",
              "      <td>NaN</td>\n",
              "      <td>NaN</td>\n",
              "      <td>NaN</td>\n",
              "      <td>NaN</td>\n",
              "      <td>NaN</td>\n",
              "      <td>NaN</td>\n",
              "      <td>NaN</td>\n",
              "      <td>NaN</td>\n",
              "      <td>NaN</td>\n",
              "      <td>NaN</td>\n",
              "      <td>NaN</td>\n",
              "      <td>NaN</td>\n",
              "      <td>NaN</td>\n",
              "      <td>NaN</td>\n",
              "      <td>NaN</td>\n",
              "      <td>NaN</td>\n",
              "      <td>NaN</td>\n",
              "      <td>NaN</td>\n",
              "      <td>NaN</td>\n",
              "      <td>NaN</td>\n",
              "      <td>NaN</td>\n",
              "      <td>NaN</td>\n",
              "      <td>NaN</td>\n",
              "      <td>NaN</td>\n",
              "      <td>NaN</td>\n",
              "      <td>NaN</td>\n",
              "      <td>NaN</td>\n",
              "      <td>NaN</td>\n",
              "      <td>NaN</td>\n",
              "      <td>NaN</td>\n",
              "      <td>NaN</td>\n",
              "      <td>NaN</td>\n",
              "    </tr>\n",
              "    <tr>\n",
              "      <th>3</th>\n",
              "      <td>5332783</td>\n",
              "      <td>1</td>\n",
              "      <td>2</td>\n",
              "      <td>1</td>\n",
              "      <td>Ocupados</td>\n",
              "      <td>68.0</td>\n",
              "      <td>1.0</td>\n",
              "      <td>2</td>\n",
              "      <td>2</td>\n",
              "      <td>12</td>\n",
              "      <td>1</td>\n",
              "      <td>1</td>\n",
              "      <td>2</td>\n",
              "      <td>1</td>\n",
              "      <td>18.0</td>\n",
              "      <td></td>\n",
              "      <td>1</td>\n",
              "      <td></td>\n",
              "      <td>2</td>\n",
              "      <td>1100000</td>\n",
              "      <td>2</td>\n",
              "      <td></td>\n",
              "      <td></td>\n",
              "      <td>2</td>\n",
              "      <td>2</td>\n",
              "      <td>2</td>\n",
              "      <td></td>\n",
              "      <td>2</td>\n",
              "      <td></td>\n",
              "      <td>2</td>\n",
              "      <td></td>\n",
              "      <td></td>\n",
              "      <td>1</td>\n",
              "      <td>102854</td>\n",
              "      <td>1</td>\n",
              "      <td>2</td>\n",
              "      <td></td>\n",
              "      <td></td>\n",
              "      <td>2</td>\n",
              "      <td></td>\n",
              "      <td>...</td>\n",
              "      <td>NaN</td>\n",
              "      <td>NaN</td>\n",
              "      <td>NaN</td>\n",
              "      <td>NaN</td>\n",
              "      <td>NaN</td>\n",
              "      <td>NaN</td>\n",
              "      <td>NaN</td>\n",
              "      <td>NaN</td>\n",
              "      <td>NaN</td>\n",
              "      <td>NaN</td>\n",
              "      <td>NaN</td>\n",
              "      <td>NaN</td>\n",
              "      <td>NaN</td>\n",
              "      <td>NaN</td>\n",
              "      <td>NaN</td>\n",
              "      <td>NaN</td>\n",
              "      <td>NaN</td>\n",
              "      <td>NaN</td>\n",
              "      <td>NaN</td>\n",
              "      <td>NaN</td>\n",
              "      <td>NaN</td>\n",
              "      <td>NaN</td>\n",
              "      <td>NaN</td>\n",
              "      <td>NaN</td>\n",
              "      <td>NaN</td>\n",
              "      <td>NaN</td>\n",
              "      <td>NaN</td>\n",
              "      <td>NaN</td>\n",
              "      <td>NaN</td>\n",
              "      <td>NaN</td>\n",
              "      <td>NaN</td>\n",
              "      <td>NaN</td>\n",
              "      <td>NaN</td>\n",
              "      <td>NaN</td>\n",
              "      <td>NaN</td>\n",
              "      <td>NaN</td>\n",
              "      <td>NaN</td>\n",
              "      <td>NaN</td>\n",
              "      <td>NaN</td>\n",
              "      <td>NaN</td>\n",
              "    </tr>\n",
              "    <tr>\n",
              "      <th>4</th>\n",
              "      <td>5332785</td>\n",
              "      <td>1</td>\n",
              "      <td>1</td>\n",
              "      <td>1</td>\n",
              "      <td>Ocupados</td>\n",
              "      <td>68.0</td>\n",
              "      <td>2.0</td>\n",
              "      <td></td>\n",
              "      <td></td>\n",
              "      <td></td>\n",
              "      <td></td>\n",
              "      <td></td>\n",
              "      <td></td>\n",
              "      <td></td>\n",
              "      <td>4.0</td>\n",
              "      <td></td>\n",
              "      <td></td>\n",
              "      <td></td>\n",
              "      <td></td>\n",
              "      <td></td>\n",
              "      <td></td>\n",
              "      <td></td>\n",
              "      <td></td>\n",
              "      <td></td>\n",
              "      <td></td>\n",
              "      <td></td>\n",
              "      <td></td>\n",
              "      <td></td>\n",
              "      <td></td>\n",
              "      <td></td>\n",
              "      <td></td>\n",
              "      <td></td>\n",
              "      <td></td>\n",
              "      <td></td>\n",
              "      <td></td>\n",
              "      <td></td>\n",
              "      <td></td>\n",
              "      <td></td>\n",
              "      <td></td>\n",
              "      <td></td>\n",
              "      <td>...</td>\n",
              "      <td>NaN</td>\n",
              "      <td>NaN</td>\n",
              "      <td>NaN</td>\n",
              "      <td>NaN</td>\n",
              "      <td>NaN</td>\n",
              "      <td>NaN</td>\n",
              "      <td>NaN</td>\n",
              "      <td>NaN</td>\n",
              "      <td>NaN</td>\n",
              "      <td>NaN</td>\n",
              "      <td>NaN</td>\n",
              "      <td>NaN</td>\n",
              "      <td>NaN</td>\n",
              "      <td>NaN</td>\n",
              "      <td>NaN</td>\n",
              "      <td>NaN</td>\n",
              "      <td>NaN</td>\n",
              "      <td>NaN</td>\n",
              "      <td>NaN</td>\n",
              "      <td>NaN</td>\n",
              "      <td>NaN</td>\n",
              "      <td>NaN</td>\n",
              "      <td>NaN</td>\n",
              "      <td>NaN</td>\n",
              "      <td>NaN</td>\n",
              "      <td>NaN</td>\n",
              "      <td>NaN</td>\n",
              "      <td>NaN</td>\n",
              "      <td>NaN</td>\n",
              "      <td>NaN</td>\n",
              "      <td>NaN</td>\n",
              "      <td>NaN</td>\n",
              "      <td>NaN</td>\n",
              "      <td>NaN</td>\n",
              "      <td>NaN</td>\n",
              "      <td>NaN</td>\n",
              "      <td>NaN</td>\n",
              "      <td>NaN</td>\n",
              "      <td>NaN</td>\n",
              "      <td>NaN</td>\n",
              "    </tr>\n",
              "    <tr>\n",
              "      <th>...</th>\n",
              "      <td>...</td>\n",
              "      <td>...</td>\n",
              "      <td>...</td>\n",
              "      <td>...</td>\n",
              "      <td>...</td>\n",
              "      <td>...</td>\n",
              "      <td>...</td>\n",
              "      <td>...</td>\n",
              "      <td>...</td>\n",
              "      <td>...</td>\n",
              "      <td>...</td>\n",
              "      <td>...</td>\n",
              "      <td>...</td>\n",
              "      <td>...</td>\n",
              "      <td>...</td>\n",
              "      <td>...</td>\n",
              "      <td>...</td>\n",
              "      <td>...</td>\n",
              "      <td>...</td>\n",
              "      <td>...</td>\n",
              "      <td>...</td>\n",
              "      <td>...</td>\n",
              "      <td>...</td>\n",
              "      <td>...</td>\n",
              "      <td>...</td>\n",
              "      <td>...</td>\n",
              "      <td>...</td>\n",
              "      <td>...</td>\n",
              "      <td>...</td>\n",
              "      <td>...</td>\n",
              "      <td>...</td>\n",
              "      <td>...</td>\n",
              "      <td>...</td>\n",
              "      <td>...</td>\n",
              "      <td>...</td>\n",
              "      <td>...</td>\n",
              "      <td>...</td>\n",
              "      <td>...</td>\n",
              "      <td>...</td>\n",
              "      <td>...</td>\n",
              "      <td>...</td>\n",
              "      <td>...</td>\n",
              "      <td>...</td>\n",
              "      <td>...</td>\n",
              "      <td>...</td>\n",
              "      <td>...</td>\n",
              "      <td>...</td>\n",
              "      <td>...</td>\n",
              "      <td>...</td>\n",
              "      <td>...</td>\n",
              "      <td>...</td>\n",
              "      <td>...</td>\n",
              "      <td>...</td>\n",
              "      <td>...</td>\n",
              "      <td>...</td>\n",
              "      <td>...</td>\n",
              "      <td>...</td>\n",
              "      <td>...</td>\n",
              "      <td>...</td>\n",
              "      <td>...</td>\n",
              "      <td>...</td>\n",
              "      <td>...</td>\n",
              "      <td>...</td>\n",
              "      <td>...</td>\n",
              "      <td>...</td>\n",
              "      <td>...</td>\n",
              "      <td>...</td>\n",
              "      <td>...</td>\n",
              "      <td>...</td>\n",
              "      <td>...</td>\n",
              "      <td>...</td>\n",
              "      <td>...</td>\n",
              "      <td>...</td>\n",
              "      <td>...</td>\n",
              "      <td>...</td>\n",
              "      <td>...</td>\n",
              "      <td>...</td>\n",
              "      <td>...</td>\n",
              "      <td>...</td>\n",
              "      <td>...</td>\n",
              "      <td>...</td>\n",
              "    </tr>\n",
              "    <tr>\n",
              "      <th>9584</th>\n",
              "      <td>5367012</td>\n",
              "      <td>1</td>\n",
              "      <td>1</td>\n",
              "      <td>1</td>\n",
              "      <td>Inactivos</td>\n",
              "      <td>NaN</td>\n",
              "      <td>NaN</td>\n",
              "      <td>NaN</td>\n",
              "      <td>NaN</td>\n",
              "      <td>NaN</td>\n",
              "      <td>NaN</td>\n",
              "      <td>NaN</td>\n",
              "      <td>NaN</td>\n",
              "      <td>NaN</td>\n",
              "      <td>NaN</td>\n",
              "      <td>NaN</td>\n",
              "      <td>NaN</td>\n",
              "      <td>NaN</td>\n",
              "      <td>NaN</td>\n",
              "      <td>NaN</td>\n",
              "      <td>NaN</td>\n",
              "      <td>NaN</td>\n",
              "      <td>NaN</td>\n",
              "      <td>NaN</td>\n",
              "      <td>NaN</td>\n",
              "      <td>NaN</td>\n",
              "      <td>NaN</td>\n",
              "      <td>NaN</td>\n",
              "      <td>NaN</td>\n",
              "      <td>NaN</td>\n",
              "      <td>NaN</td>\n",
              "      <td>NaN</td>\n",
              "      <td>NaN</td>\n",
              "      <td>NaN</td>\n",
              "      <td>NaN</td>\n",
              "      <td>NaN</td>\n",
              "      <td>NaN</td>\n",
              "      <td>NaN</td>\n",
              "      <td>NaN</td>\n",
              "      <td>NaN</td>\n",
              "      <td>...</td>\n",
              "      <td>NaN</td>\n",
              "      <td>NaN</td>\n",
              "      <td>NaN</td>\n",
              "      <td>NaN</td>\n",
              "      <td>NaN</td>\n",
              "      <td>NaN</td>\n",
              "      <td>NaN</td>\n",
              "      <td>NaN</td>\n",
              "      <td>NaN</td>\n",
              "      <td>NaN</td>\n",
              "      <td>NaN</td>\n",
              "      <td>NaN</td>\n",
              "      <td>NaN</td>\n",
              "      <td>NaN</td>\n",
              "      <td>NaN</td>\n",
              "      <td>NaN</td>\n",
              "      <td>NaN</td>\n",
              "      <td>NaN</td>\n",
              "      <td>NaN</td>\n",
              "      <td>NaN</td>\n",
              "      <td>NaN</td>\n",
              "      <td>NaN</td>\n",
              "      <td>NaN</td>\n",
              "      <td>2.0</td>\n",
              "      <td></td>\n",
              "      <td></td>\n",
              "      <td></td>\n",
              "      <td>2</td>\n",
              "      <td></td>\n",
              "      <td></td>\n",
              "      <td>.</td>\n",
              "      <td>2</td>\n",
              "      <td></td>\n",
              "      <td>2.0</td>\n",
              "      <td></td>\n",
              "      <td></td>\n",
              "      <td></td>\n",
              "      <td></td>\n",
              "      <td>2</td>\n",
              "      <td></td>\n",
              "    </tr>\n",
              "    <tr>\n",
              "      <th>9585</th>\n",
              "      <td>5367014</td>\n",
              "      <td>1</td>\n",
              "      <td>1</td>\n",
              "      <td>1</td>\n",
              "      <td>Inactivos</td>\n",
              "      <td>NaN</td>\n",
              "      <td>NaN</td>\n",
              "      <td>NaN</td>\n",
              "      <td>NaN</td>\n",
              "      <td>NaN</td>\n",
              "      <td>NaN</td>\n",
              "      <td>NaN</td>\n",
              "      <td>NaN</td>\n",
              "      <td>NaN</td>\n",
              "      <td>NaN</td>\n",
              "      <td>NaN</td>\n",
              "      <td>NaN</td>\n",
              "      <td>NaN</td>\n",
              "      <td>NaN</td>\n",
              "      <td>NaN</td>\n",
              "      <td>NaN</td>\n",
              "      <td>NaN</td>\n",
              "      <td>NaN</td>\n",
              "      <td>NaN</td>\n",
              "      <td>NaN</td>\n",
              "      <td>NaN</td>\n",
              "      <td>NaN</td>\n",
              "      <td>NaN</td>\n",
              "      <td>NaN</td>\n",
              "      <td>NaN</td>\n",
              "      <td>NaN</td>\n",
              "      <td>NaN</td>\n",
              "      <td>NaN</td>\n",
              "      <td>NaN</td>\n",
              "      <td>NaN</td>\n",
              "      <td>NaN</td>\n",
              "      <td>NaN</td>\n",
              "      <td>NaN</td>\n",
              "      <td>NaN</td>\n",
              "      <td>NaN</td>\n",
              "      <td>...</td>\n",
              "      <td>NaN</td>\n",
              "      <td>NaN</td>\n",
              "      <td>NaN</td>\n",
              "      <td>NaN</td>\n",
              "      <td>NaN</td>\n",
              "      <td>NaN</td>\n",
              "      <td>NaN</td>\n",
              "      <td>NaN</td>\n",
              "      <td>NaN</td>\n",
              "      <td>NaN</td>\n",
              "      <td>NaN</td>\n",
              "      <td>NaN</td>\n",
              "      <td>NaN</td>\n",
              "      <td>NaN</td>\n",
              "      <td>NaN</td>\n",
              "      <td>NaN</td>\n",
              "      <td>NaN</td>\n",
              "      <td>NaN</td>\n",
              "      <td>NaN</td>\n",
              "      <td>NaN</td>\n",
              "      <td>NaN</td>\n",
              "      <td>NaN</td>\n",
              "      <td>NaN</td>\n",
              "      <td>1.0</td>\n",
              "      <td>7</td>\n",
              "      <td></td>\n",
              "      <td>2</td>\n",
              "      <td></td>\n",
              "      <td></td>\n",
              "      <td>1</td>\n",
              "      <td></td>\n",
              "      <td>2</td>\n",
              "      <td></td>\n",
              "      <td>2.0</td>\n",
              "      <td></td>\n",
              "      <td>1</td>\n",
              "      <td>40</td>\n",
              "      <td>500000</td>\n",
              "      <td>2</td>\n",
              "      <td>1.4</td>\n",
              "    </tr>\n",
              "    <tr>\n",
              "      <th>9586</th>\n",
              "      <td>5367014</td>\n",
              "      <td>1</td>\n",
              "      <td>2</td>\n",
              "      <td>1</td>\n",
              "      <td>Inactivos</td>\n",
              "      <td>NaN</td>\n",
              "      <td>NaN</td>\n",
              "      <td>NaN</td>\n",
              "      <td>NaN</td>\n",
              "      <td>NaN</td>\n",
              "      <td>NaN</td>\n",
              "      <td>NaN</td>\n",
              "      <td>NaN</td>\n",
              "      <td>NaN</td>\n",
              "      <td>NaN</td>\n",
              "      <td>NaN</td>\n",
              "      <td>NaN</td>\n",
              "      <td>NaN</td>\n",
              "      <td>NaN</td>\n",
              "      <td>NaN</td>\n",
              "      <td>NaN</td>\n",
              "      <td>NaN</td>\n",
              "      <td>NaN</td>\n",
              "      <td>NaN</td>\n",
              "      <td>NaN</td>\n",
              "      <td>NaN</td>\n",
              "      <td>NaN</td>\n",
              "      <td>NaN</td>\n",
              "      <td>NaN</td>\n",
              "      <td>NaN</td>\n",
              "      <td>NaN</td>\n",
              "      <td>NaN</td>\n",
              "      <td>NaN</td>\n",
              "      <td>NaN</td>\n",
              "      <td>NaN</td>\n",
              "      <td>NaN</td>\n",
              "      <td>NaN</td>\n",
              "      <td>NaN</td>\n",
              "      <td>NaN</td>\n",
              "      <td>NaN</td>\n",
              "      <td>...</td>\n",
              "      <td>NaN</td>\n",
              "      <td>NaN</td>\n",
              "      <td>NaN</td>\n",
              "      <td>NaN</td>\n",
              "      <td>NaN</td>\n",
              "      <td>NaN</td>\n",
              "      <td>NaN</td>\n",
              "      <td>NaN</td>\n",
              "      <td>NaN</td>\n",
              "      <td>NaN</td>\n",
              "      <td>NaN</td>\n",
              "      <td>NaN</td>\n",
              "      <td>NaN</td>\n",
              "      <td>NaN</td>\n",
              "      <td>NaN</td>\n",
              "      <td>NaN</td>\n",
              "      <td>NaN</td>\n",
              "      <td>NaN</td>\n",
              "      <td>NaN</td>\n",
              "      <td>NaN</td>\n",
              "      <td>NaN</td>\n",
              "      <td>NaN</td>\n",
              "      <td>NaN</td>\n",
              "      <td>1.0</td>\n",
              "      <td>4</td>\n",
              "      <td></td>\n",
              "      <td>2</td>\n",
              "      <td></td>\n",
              "      <td></td>\n",
              "      <td>4</td>\n",
              "      <td></td>\n",
              "      <td>2</td>\n",
              "      <td></td>\n",
              "      <td>2.0</td>\n",
              "      <td></td>\n",
              "      <td></td>\n",
              "      <td></td>\n",
              "      <td></td>\n",
              "      <td>2</td>\n",
              "      <td>2</td>\n",
              "    </tr>\n",
              "    <tr>\n",
              "      <th>9587</th>\n",
              "      <td>5367015</td>\n",
              "      <td>1</td>\n",
              "      <td>1</td>\n",
              "      <td>1</td>\n",
              "      <td>Inactivos</td>\n",
              "      <td>NaN</td>\n",
              "      <td>NaN</td>\n",
              "      <td>NaN</td>\n",
              "      <td>NaN</td>\n",
              "      <td>NaN</td>\n",
              "      <td>NaN</td>\n",
              "      <td>NaN</td>\n",
              "      <td>NaN</td>\n",
              "      <td>NaN</td>\n",
              "      <td>NaN</td>\n",
              "      <td>NaN</td>\n",
              "      <td>NaN</td>\n",
              "      <td>NaN</td>\n",
              "      <td>NaN</td>\n",
              "      <td>NaN</td>\n",
              "      <td>NaN</td>\n",
              "      <td>NaN</td>\n",
              "      <td>NaN</td>\n",
              "      <td>NaN</td>\n",
              "      <td>NaN</td>\n",
              "      <td>NaN</td>\n",
              "      <td>NaN</td>\n",
              "      <td>NaN</td>\n",
              "      <td>NaN</td>\n",
              "      <td>NaN</td>\n",
              "      <td>NaN</td>\n",
              "      <td>NaN</td>\n",
              "      <td>NaN</td>\n",
              "      <td>NaN</td>\n",
              "      <td>NaN</td>\n",
              "      <td>NaN</td>\n",
              "      <td>NaN</td>\n",
              "      <td>NaN</td>\n",
              "      <td>NaN</td>\n",
              "      <td>NaN</td>\n",
              "      <td>...</td>\n",
              "      <td>NaN</td>\n",
              "      <td>NaN</td>\n",
              "      <td>NaN</td>\n",
              "      <td>NaN</td>\n",
              "      <td>NaN</td>\n",
              "      <td>NaN</td>\n",
              "      <td>NaN</td>\n",
              "      <td>NaN</td>\n",
              "      <td>NaN</td>\n",
              "      <td>NaN</td>\n",
              "      <td>NaN</td>\n",
              "      <td>NaN</td>\n",
              "      <td>NaN</td>\n",
              "      <td>NaN</td>\n",
              "      <td>NaN</td>\n",
              "      <td>NaN</td>\n",
              "      <td>NaN</td>\n",
              "      <td>NaN</td>\n",
              "      <td>NaN</td>\n",
              "      <td>NaN</td>\n",
              "      <td>NaN</td>\n",
              "      <td>NaN</td>\n",
              "      <td>NaN</td>\n",
              "      <td>1.0</td>\n",
              "      <td>1</td>\n",
              "      <td></td>\n",
              "      <td>2</td>\n",
              "      <td></td>\n",
              "      <td></td>\n",
              "      <td>9</td>\n",
              "      <td></td>\n",
              "      <td>2</td>\n",
              "      <td></td>\n",
              "      <td>2.0</td>\n",
              "      <td></td>\n",
              "      <td></td>\n",
              "      <td></td>\n",
              "      <td></td>\n",
              "      <td>2</td>\n",
              "      <td>1.1</td>\n",
              "    </tr>\n",
              "    <tr>\n",
              "      <th>9588</th>\n",
              "      <td>5367015</td>\n",
              "      <td>1</td>\n",
              "      <td>3</td>\n",
              "      <td>1</td>\n",
              "      <td>Inactivos</td>\n",
              "      <td>NaN</td>\n",
              "      <td>NaN</td>\n",
              "      <td>NaN</td>\n",
              "      <td>NaN</td>\n",
              "      <td>NaN</td>\n",
              "      <td>NaN</td>\n",
              "      <td>NaN</td>\n",
              "      <td>NaN</td>\n",
              "      <td>NaN</td>\n",
              "      <td>NaN</td>\n",
              "      <td>NaN</td>\n",
              "      <td>NaN</td>\n",
              "      <td>NaN</td>\n",
              "      <td>NaN</td>\n",
              "      <td>NaN</td>\n",
              "      <td>NaN</td>\n",
              "      <td>NaN</td>\n",
              "      <td>NaN</td>\n",
              "      <td>NaN</td>\n",
              "      <td>NaN</td>\n",
              "      <td>NaN</td>\n",
              "      <td>NaN</td>\n",
              "      <td>NaN</td>\n",
              "      <td>NaN</td>\n",
              "      <td>NaN</td>\n",
              "      <td>NaN</td>\n",
              "      <td>NaN</td>\n",
              "      <td>NaN</td>\n",
              "      <td>NaN</td>\n",
              "      <td>NaN</td>\n",
              "      <td>NaN</td>\n",
              "      <td>NaN</td>\n",
              "      <td>NaN</td>\n",
              "      <td>NaN</td>\n",
              "      <td>NaN</td>\n",
              "      <td>...</td>\n",
              "      <td>NaN</td>\n",
              "      <td>NaN</td>\n",
              "      <td>NaN</td>\n",
              "      <td>NaN</td>\n",
              "      <td>NaN</td>\n",
              "      <td>NaN</td>\n",
              "      <td>NaN</td>\n",
              "      <td>NaN</td>\n",
              "      <td>NaN</td>\n",
              "      <td>NaN</td>\n",
              "      <td>NaN</td>\n",
              "      <td>NaN</td>\n",
              "      <td>NaN</td>\n",
              "      <td>NaN</td>\n",
              "      <td>NaN</td>\n",
              "      <td>NaN</td>\n",
              "      <td>NaN</td>\n",
              "      <td>NaN</td>\n",
              "      <td>NaN</td>\n",
              "      <td>NaN</td>\n",
              "      <td>NaN</td>\n",
              "      <td>NaN</td>\n",
              "      <td>NaN</td>\n",
              "      <td>1.0</td>\n",
              "      <td>4</td>\n",
              "      <td></td>\n",
              "      <td>2</td>\n",
              "      <td></td>\n",
              "      <td></td>\n",
              "      <td>4</td>\n",
              "      <td></td>\n",
              "      <td>2</td>\n",
              "      <td></td>\n",
              "      <td>2.0</td>\n",
              "      <td></td>\n",
              "      <td></td>\n",
              "      <td></td>\n",
              "      <td></td>\n",
              "      <td>2</td>\n",
              "      <td>1.2</td>\n",
              "    </tr>\n",
              "  </tbody>\n",
              "</table>\n",
              "<p>23951 rows × 199 columns</p>\n",
              "</div>"
            ],
            "text/plain": [
              "      DIRECTORIO  SECUENCIA_P  ORDEN  HOGAR  ... P1884   P1807  P6921 p7440\n",
              "0        5332772            1      2      1  ...   NaN     NaN    NaN   NaN\n",
              "1        5332773            1      1      1  ...   NaN     NaN    NaN   NaN\n",
              "2        5332774            1      1      1  ...   NaN     NaN    NaN   NaN\n",
              "3        5332783            1      2      1  ...   NaN     NaN    NaN   NaN\n",
              "4        5332785            1      1      1  ...   NaN     NaN    NaN   NaN\n",
              "...          ...          ...    ...    ...  ...   ...     ...    ...   ...\n",
              "9584     5367012            1      1      1  ...                    2      \n",
              "9585     5367014            1      1      1  ...    40  500000      2   1.4\n",
              "9586     5367014            1      2      1  ...                    2     2\n",
              "9587     5367015            1      1      1  ...                    2   1.1\n",
              "9588     5367015            1      3      1  ...                    2   1.2\n",
              "\n",
              "[23951 rows x 199 columns]"
            ]
          },
          "metadata": {},
          "execution_count": 33
        }
      ]
    },
    {
      "cell_type": "code",
      "metadata": {
        "id": "AghICzRLF6ih"
      },
      "source": [
        "dt1_enero = pd.merge(data_caracteristicas_enero,data_fuerza_t_enero,on = ['DIRECTORIO','SECUENCIA_P','ORDEN','HOGAR','DPTO'],how  = 'outer')"
      ],
      "execution_count": null,
      "outputs": []
    },
    {
      "cell_type": "code",
      "metadata": {
        "id": "wnGmiY1mVsb4"
      },
      "source": [
        "Base_enero = pd.merge(dt1_enero,dt2_enero,how  = 'outer')"
      ],
      "execution_count": null,
      "outputs": []
    },
    {
      "cell_type": "code",
      "metadata": {
        "colab": {
          "base_uri": "https://localhost:8080/",
          "height": 473
        },
        "id": "j8wzzPuWVtpZ",
        "outputId": "33c95bc7-a19a-4333-e949-62942f89aa94"
      },
      "source": [
        "Base_enero"
      ],
      "execution_count": null,
      "outputs": [
        {
          "output_type": "execute_result",
          "data": {
            "text/html": [
              "<div>\n",
              "<style scoped>\n",
              "    .dataframe tbody tr th:only-of-type {\n",
              "        vertical-align: middle;\n",
              "    }\n",
              "\n",
              "    .dataframe tbody tr th {\n",
              "        vertical-align: top;\n",
              "    }\n",
              "\n",
              "    .dataframe thead th {\n",
              "        text-align: right;\n",
              "    }\n",
              "</style>\n",
              "<table border=\"1\" class=\"dataframe\">\n",
              "  <thead>\n",
              "    <tr style=\"text-align: right;\">\n",
              "      <th></th>\n",
              "      <th>DIRECTORIO</th>\n",
              "      <th>SECUENCIA_P</th>\n",
              "      <th>ORDEN</th>\n",
              "      <th>HOGAR</th>\n",
              "      <th>P6020</th>\n",
              "      <th>P6030S1</th>\n",
              "      <th>P6030S3</th>\n",
              "      <th>P6040</th>\n",
              "      <th>P6050</th>\n",
              "      <th>P6080</th>\n",
              "      <th>P6070</th>\n",
              "      <th>P6081</th>\n",
              "      <th>P6083</th>\n",
              "      <th>P6071</th>\n",
              "      <th>P3147S1</th>\n",
              "      <th>P3147S2</th>\n",
              "      <th>P3147S3</th>\n",
              "      <th>P3147S4</th>\n",
              "      <th>P3147S5</th>\n",
              "      <th>P3147S6</th>\n",
              "      <th>P3147S7</th>\n",
              "      <th>P3147S8</th>\n",
              "      <th>P3147S9</th>\n",
              "      <th>P3147S10</th>\n",
              "      <th>P3147S11</th>\n",
              "      <th>P3147S10A1</th>\n",
              "      <th>P6090</th>\n",
              "      <th>P6140</th>\n",
              "      <th>P6150</th>\n",
              "      <th>P6100</th>\n",
              "      <th>P6125</th>\n",
              "      <th>P6160</th>\n",
              "      <th>P6170</th>\n",
              "      <th>P6175</th>\n",
              "      <th>P6210</th>\n",
              "      <th>P6220</th>\n",
              "      <th>P6269</th>\n",
              "      <th>ESC</th>\n",
              "      <th>DPTO</th>\n",
              "      <th>P6290</th>\n",
              "      <th>...</th>\n",
              "      <th>P7320</th>\n",
              "      <th>P7350</th>\n",
              "      <th>P9460</th>\n",
              "      <th>P7390</th>\n",
              "      <th>P7390S1</th>\n",
              "      <th>P7420S1</th>\n",
              "      <th>P7420S2</th>\n",
              "      <th>P7420S3</th>\n",
              "      <th>P7420S4</th>\n",
              "      <th>P7420S5</th>\n",
              "      <th>P7420S6</th>\n",
              "      <th>P7420S7</th>\n",
              "      <th>P7420S8</th>\n",
              "      <th>P7422</th>\n",
              "      <th>P7422S1</th>\n",
              "      <th>P1806</th>\n",
              "      <th>P1519</th>\n",
              "      <th>P1883</th>\n",
              "      <th>RAMA2D_D_R4</th>\n",
              "      <th>OFICIO1</th>\n",
              "      <th>OFICIO2</th>\n",
              "      <th>DSCY</th>\n",
              "      <th>RAMA4D_D_R4</th>\n",
              "      <th>P7430</th>\n",
              "      <th>P7450</th>\n",
              "      <th>P7450S1</th>\n",
              "      <th>P7452</th>\n",
              "      <th>P7454</th>\n",
              "      <th>P7456</th>\n",
              "      <th>P7458</th>\n",
              "      <th>P7458S1</th>\n",
              "      <th>P7460</th>\n",
              "      <th>P7470</th>\n",
              "      <th>P7472</th>\n",
              "      <th>P7472S1</th>\n",
              "      <th>P744</th>\n",
              "      <th>P1884</th>\n",
              "      <th>P1807</th>\n",
              "      <th>P6921</th>\n",
              "      <th>p7440</th>\n",
              "    </tr>\n",
              "  </thead>\n",
              "  <tbody>\n",
              "    <tr>\n",
              "      <th>0</th>\n",
              "      <td>5332772</td>\n",
              "      <td>1</td>\n",
              "      <td>1</td>\n",
              "      <td>1</td>\n",
              "      <td>2</td>\n",
              "      <td>8</td>\n",
              "      <td>1964</td>\n",
              "      <td>56</td>\n",
              "      <td>1</td>\n",
              "      <td>6</td>\n",
              "      <td>2</td>\n",
              "      <td>3</td>\n",
              "      <td>3</td>\n",
              "      <td>1</td>\n",
              "      <td></td>\n",
              "      <td></td>\n",
              "      <td></td>\n",
              "      <td>1</td>\n",
              "      <td></td>\n",
              "      <td></td>\n",
              "      <td>1</td>\n",
              "      <td></td>\n",
              "      <td></td>\n",
              "      <td></td>\n",
              "      <td></td>\n",
              "      <td></td>\n",
              "      <td>1</td>\n",
              "      <td></td>\n",
              "      <td></td>\n",
              "      <td>1</td>\n",
              "      <td>2</td>\n",
              "      <td>1</td>\n",
              "      <td>2</td>\n",
              "      <td></td>\n",
              "      <td>3</td>\n",
              "      <td></td>\n",
              "      <td></td>\n",
              "      <td>3</td>\n",
              "      <td>68</td>\n",
              "      <td></td>\n",
              "      <td>...</td>\n",
              "      <td>NaN</td>\n",
              "      <td>NaN</td>\n",
              "      <td>NaN</td>\n",
              "      <td>NaN</td>\n",
              "      <td>NaN</td>\n",
              "      <td>NaN</td>\n",
              "      <td>NaN</td>\n",
              "      <td>NaN</td>\n",
              "      <td>NaN</td>\n",
              "      <td>NaN</td>\n",
              "      <td>NaN</td>\n",
              "      <td>NaN</td>\n",
              "      <td>NaN</td>\n",
              "      <td>NaN</td>\n",
              "      <td>NaN</td>\n",
              "      <td>NaN</td>\n",
              "      <td>NaN</td>\n",
              "      <td>NaN</td>\n",
              "      <td>NaN</td>\n",
              "      <td>NaN</td>\n",
              "      <td>NaN</td>\n",
              "      <td>NaN</td>\n",
              "      <td>NaN</td>\n",
              "      <td>1.0</td>\n",
              "      <td>9</td>\n",
              "      <td>AISLAMIENTO PREVENTIVO OBLIGATORIO</td>\n",
              "      <td>2</td>\n",
              "      <td></td>\n",
              "      <td></td>\n",
              "      <td>12</td>\n",
              "      <td>TEMOR AL CONTAGIO COVID 19</td>\n",
              "      <td>2</td>\n",
              "      <td></td>\n",
              "      <td>2.0</td>\n",
              "      <td></td>\n",
              "      <td></td>\n",
              "      <td></td>\n",
              "      <td></td>\n",
              "      <td>2</td>\n",
              "      <td>1.4</td>\n",
              "    </tr>\n",
              "    <tr>\n",
              "      <th>1</th>\n",
              "      <td>5332772</td>\n",
              "      <td>1</td>\n",
              "      <td>2</td>\n",
              "      <td>1</td>\n",
              "      <td>1</td>\n",
              "      <td>1</td>\n",
              "      <td>1967</td>\n",
              "      <td>53</td>\n",
              "      <td>2</td>\n",
              "      <td>6</td>\n",
              "      <td>2</td>\n",
              "      <td>3</td>\n",
              "      <td>2</td>\n",
              "      <td>1</td>\n",
              "      <td></td>\n",
              "      <td></td>\n",
              "      <td></td>\n",
              "      <td>1</td>\n",
              "      <td></td>\n",
              "      <td></td>\n",
              "      <td></td>\n",
              "      <td></td>\n",
              "      <td></td>\n",
              "      <td></td>\n",
              "      <td></td>\n",
              "      <td></td>\n",
              "      <td>1</td>\n",
              "      <td></td>\n",
              "      <td></td>\n",
              "      <td>1</td>\n",
              "      <td>2</td>\n",
              "      <td>1</td>\n",
              "      <td>2</td>\n",
              "      <td></td>\n",
              "      <td>5</td>\n",
              "      <td>2</td>\n",
              "      <td></td>\n",
              "      <td>11</td>\n",
              "      <td>68</td>\n",
              "      <td></td>\n",
              "      <td>...</td>\n",
              "      <td>NaN</td>\n",
              "      <td>NaN</td>\n",
              "      <td>NaN</td>\n",
              "      <td>NaN</td>\n",
              "      <td>NaN</td>\n",
              "      <td>NaN</td>\n",
              "      <td>NaN</td>\n",
              "      <td>NaN</td>\n",
              "      <td>NaN</td>\n",
              "      <td>NaN</td>\n",
              "      <td>NaN</td>\n",
              "      <td>NaN</td>\n",
              "      <td>NaN</td>\n",
              "      <td>NaN</td>\n",
              "      <td>NaN</td>\n",
              "      <td>NaN</td>\n",
              "      <td>NaN</td>\n",
              "      <td>NaN</td>\n",
              "      <td>NaN</td>\n",
              "      <td>NaN</td>\n",
              "      <td>NaN</td>\n",
              "      <td>NaN</td>\n",
              "      <td>NaN</td>\n",
              "      <td>NaN</td>\n",
              "      <td>NaN</td>\n",
              "      <td>NaN</td>\n",
              "      <td>NaN</td>\n",
              "      <td>NaN</td>\n",
              "      <td>NaN</td>\n",
              "      <td>NaN</td>\n",
              "      <td>NaN</td>\n",
              "      <td>NaN</td>\n",
              "      <td>NaN</td>\n",
              "      <td>NaN</td>\n",
              "      <td>NaN</td>\n",
              "      <td>NaN</td>\n",
              "      <td>NaN</td>\n",
              "      <td>NaN</td>\n",
              "      <td>NaN</td>\n",
              "      <td>NaN</td>\n",
              "    </tr>\n",
              "    <tr>\n",
              "      <th>2</th>\n",
              "      <td>5332772</td>\n",
              "      <td>1</td>\n",
              "      <td>3</td>\n",
              "      <td>1</td>\n",
              "      <td>2</td>\n",
              "      <td>10</td>\n",
              "      <td>2002</td>\n",
              "      <td>18</td>\n",
              "      <td>3</td>\n",
              "      <td>6</td>\n",
              "      <td>6</td>\n",
              "      <td>1</td>\n",
              "      <td>1</td>\n",
              "      <td></td>\n",
              "      <td></td>\n",
              "      <td></td>\n",
              "      <td></td>\n",
              "      <td></td>\n",
              "      <td></td>\n",
              "      <td></td>\n",
              "      <td></td>\n",
              "      <td></td>\n",
              "      <td></td>\n",
              "      <td></td>\n",
              "      <td>1</td>\n",
              "      <td></td>\n",
              "      <td>1</td>\n",
              "      <td></td>\n",
              "      <td></td>\n",
              "      <td>3</td>\n",
              "      <td>2</td>\n",
              "      <td>1</td>\n",
              "      <td>1</td>\n",
              "      <td>1</td>\n",
              "      <td>6</td>\n",
              "      <td>2</td>\n",
              "      <td>2</td>\n",
              "      <td>11</td>\n",
              "      <td>68</td>\n",
              "      <td></td>\n",
              "      <td>...</td>\n",
              "      <td>NaN</td>\n",
              "      <td>NaN</td>\n",
              "      <td>NaN</td>\n",
              "      <td>NaN</td>\n",
              "      <td>NaN</td>\n",
              "      <td>NaN</td>\n",
              "      <td>NaN</td>\n",
              "      <td>NaN</td>\n",
              "      <td>NaN</td>\n",
              "      <td>NaN</td>\n",
              "      <td>NaN</td>\n",
              "      <td>NaN</td>\n",
              "      <td>NaN</td>\n",
              "      <td>NaN</td>\n",
              "      <td>NaN</td>\n",
              "      <td>NaN</td>\n",
              "      <td>NaN</td>\n",
              "      <td>NaN</td>\n",
              "      <td>NaN</td>\n",
              "      <td>NaN</td>\n",
              "      <td>NaN</td>\n",
              "      <td>NaN</td>\n",
              "      <td>NaN</td>\n",
              "      <td>2.0</td>\n",
              "      <td></td>\n",
              "      <td></td>\n",
              "      <td></td>\n",
              "      <td>2</td>\n",
              "      <td></td>\n",
              "      <td></td>\n",
              "      <td>.</td>\n",
              "      <td>2</td>\n",
              "      <td></td>\n",
              "      <td>2.0</td>\n",
              "      <td></td>\n",
              "      <td></td>\n",
              "      <td></td>\n",
              "      <td></td>\n",
              "      <td>2</td>\n",
              "      <td></td>\n",
              "    </tr>\n",
              "    <tr>\n",
              "      <th>3</th>\n",
              "      <td>5332773</td>\n",
              "      <td>1</td>\n",
              "      <td>1</td>\n",
              "      <td>1</td>\n",
              "      <td>1</td>\n",
              "      <td>10</td>\n",
              "      <td>2000</td>\n",
              "      <td>20</td>\n",
              "      <td>1</td>\n",
              "      <td>6</td>\n",
              "      <td>1</td>\n",
              "      <td>3</td>\n",
              "      <td>2</td>\n",
              "      <td>1</td>\n",
              "      <td></td>\n",
              "      <td></td>\n",
              "      <td></td>\n",
              "      <td>1</td>\n",
              "      <td></td>\n",
              "      <td></td>\n",
              "      <td>1</td>\n",
              "      <td></td>\n",
              "      <td></td>\n",
              "      <td></td>\n",
              "      <td></td>\n",
              "      <td></td>\n",
              "      <td>2</td>\n",
              "      <td>1</td>\n",
              "      <td>12</td>\n",
              "      <td></td>\n",
              "      <td>2</td>\n",
              "      <td>1</td>\n",
              "      <td>2</td>\n",
              "      <td></td>\n",
              "      <td>5</td>\n",
              "      <td>1</td>\n",
              "      <td></td>\n",
              "      <td>10</td>\n",
              "      <td>68</td>\n",
              "      <td></td>\n",
              "      <td>...</td>\n",
              "      <td>NaN</td>\n",
              "      <td>NaN</td>\n",
              "      <td>NaN</td>\n",
              "      <td>NaN</td>\n",
              "      <td>NaN</td>\n",
              "      <td>NaN</td>\n",
              "      <td>NaN</td>\n",
              "      <td>NaN</td>\n",
              "      <td>NaN</td>\n",
              "      <td>NaN</td>\n",
              "      <td>NaN</td>\n",
              "      <td>NaN</td>\n",
              "      <td>NaN</td>\n",
              "      <td>NaN</td>\n",
              "      <td>NaN</td>\n",
              "      <td>NaN</td>\n",
              "      <td>NaN</td>\n",
              "      <td>NaN</td>\n",
              "      <td>NaN</td>\n",
              "      <td>NaN</td>\n",
              "      <td>NaN</td>\n",
              "      <td>NaN</td>\n",
              "      <td>NaN</td>\n",
              "      <td>NaN</td>\n",
              "      <td>NaN</td>\n",
              "      <td>NaN</td>\n",
              "      <td>NaN</td>\n",
              "      <td>NaN</td>\n",
              "      <td>NaN</td>\n",
              "      <td>NaN</td>\n",
              "      <td>NaN</td>\n",
              "      <td>NaN</td>\n",
              "      <td>NaN</td>\n",
              "      <td>NaN</td>\n",
              "      <td>NaN</td>\n",
              "      <td>NaN</td>\n",
              "      <td>NaN</td>\n",
              "      <td>NaN</td>\n",
              "      <td>NaN</td>\n",
              "      <td>NaN</td>\n",
              "    </tr>\n",
              "    <tr>\n",
              "      <th>4</th>\n",
              "      <td>5332773</td>\n",
              "      <td>1</td>\n",
              "      <td>2</td>\n",
              "      <td>1</td>\n",
              "      <td>2</td>\n",
              "      <td>7</td>\n",
              "      <td>2003</td>\n",
              "      <td>17</td>\n",
              "      <td>2</td>\n",
              "      <td>6</td>\n",
              "      <td>1</td>\n",
              "      <td>2</td>\n",
              "      <td>2</td>\n",
              "      <td>1</td>\n",
              "      <td></td>\n",
              "      <td></td>\n",
              "      <td></td>\n",
              "      <td></td>\n",
              "      <td></td>\n",
              "      <td></td>\n",
              "      <td></td>\n",
              "      <td></td>\n",
              "      <td></td>\n",
              "      <td></td>\n",
              "      <td>1</td>\n",
              "      <td></td>\n",
              "      <td>1</td>\n",
              "      <td></td>\n",
              "      <td></td>\n",
              "      <td>3</td>\n",
              "      <td>2</td>\n",
              "      <td>1</td>\n",
              "      <td>2</td>\n",
              "      <td></td>\n",
              "      <td>5</td>\n",
              "      <td>2</td>\n",
              "      <td></td>\n",
              "      <td>11</td>\n",
              "      <td>68</td>\n",
              "      <td>1</td>\n",
              "      <td>...</td>\n",
              "      <td>2</td>\n",
              "      <td>1</td>\n",
              "      <td>2</td>\n",
              "      <td>8</td>\n",
              "      <td></td>\n",
              "      <td></td>\n",
              "      <td></td>\n",
              "      <td></td>\n",
              "      <td></td>\n",
              "      <td></td>\n",
              "      <td></td>\n",
              "      <td></td>\n",
              "      <td>1</td>\n",
              "      <td>1</td>\n",
              "      <td>320000</td>\n",
              "      <td>877803.0</td>\n",
              "      <td>2</td>\n",
              "      <td></td>\n",
              "      <td>47</td>\n",
              "      <td>45.0</td>\n",
              "      <td>45</td>\n",
              "      <td>1.0</td>\n",
              "      <td>4782</td>\n",
              "      <td>NaN</td>\n",
              "      <td>NaN</td>\n",
              "      <td>NaN</td>\n",
              "      <td>NaN</td>\n",
              "      <td>NaN</td>\n",
              "      <td>NaN</td>\n",
              "      <td>NaN</td>\n",
              "      <td>NaN</td>\n",
              "      <td>NaN</td>\n",
              "      <td>NaN</td>\n",
              "      <td>NaN</td>\n",
              "      <td>NaN</td>\n",
              "      <td>NaN</td>\n",
              "      <td>NaN</td>\n",
              "      <td>NaN</td>\n",
              "      <td>NaN</td>\n",
              "      <td>NaN</td>\n",
              "    </tr>\n",
              "    <tr>\n",
              "      <th>...</th>\n",
              "      <td>...</td>\n",
              "      <td>...</td>\n",
              "      <td>...</td>\n",
              "      <td>...</td>\n",
              "      <td>...</td>\n",
              "      <td>...</td>\n",
              "      <td>...</td>\n",
              "      <td>...</td>\n",
              "      <td>...</td>\n",
              "      <td>...</td>\n",
              "      <td>...</td>\n",
              "      <td>...</td>\n",
              "      <td>...</td>\n",
              "      <td>...</td>\n",
              "      <td>...</td>\n",
              "      <td>...</td>\n",
              "      <td>...</td>\n",
              "      <td>...</td>\n",
              "      <td>...</td>\n",
              "      <td>...</td>\n",
              "      <td>...</td>\n",
              "      <td>...</td>\n",
              "      <td>...</td>\n",
              "      <td>...</td>\n",
              "      <td>...</td>\n",
              "      <td>...</td>\n",
              "      <td>...</td>\n",
              "      <td>...</td>\n",
              "      <td>...</td>\n",
              "      <td>...</td>\n",
              "      <td>...</td>\n",
              "      <td>...</td>\n",
              "      <td>...</td>\n",
              "      <td>...</td>\n",
              "      <td>...</td>\n",
              "      <td>...</td>\n",
              "      <td>...</td>\n",
              "      <td>...</td>\n",
              "      <td>...</td>\n",
              "      <td>...</td>\n",
              "      <td>...</td>\n",
              "      <td>...</td>\n",
              "      <td>...</td>\n",
              "      <td>...</td>\n",
              "      <td>...</td>\n",
              "      <td>...</td>\n",
              "      <td>...</td>\n",
              "      <td>...</td>\n",
              "      <td>...</td>\n",
              "      <td>...</td>\n",
              "      <td>...</td>\n",
              "      <td>...</td>\n",
              "      <td>...</td>\n",
              "      <td>...</td>\n",
              "      <td>...</td>\n",
              "      <td>...</td>\n",
              "      <td>...</td>\n",
              "      <td>...</td>\n",
              "      <td>...</td>\n",
              "      <td>...</td>\n",
              "      <td>...</td>\n",
              "      <td>...</td>\n",
              "      <td>...</td>\n",
              "      <td>...</td>\n",
              "      <td>...</td>\n",
              "      <td>...</td>\n",
              "      <td>...</td>\n",
              "      <td>...</td>\n",
              "      <td>...</td>\n",
              "      <td>...</td>\n",
              "      <td>...</td>\n",
              "      <td>...</td>\n",
              "      <td>...</td>\n",
              "      <td>...</td>\n",
              "      <td>...</td>\n",
              "      <td>...</td>\n",
              "      <td>...</td>\n",
              "      <td>...</td>\n",
              "      <td>...</td>\n",
              "      <td>...</td>\n",
              "      <td>...</td>\n",
              "    </tr>\n",
              "    <tr>\n",
              "      <th>28150</th>\n",
              "      <td>5367014</td>\n",
              "      <td>1</td>\n",
              "      <td>4</td>\n",
              "      <td>1</td>\n",
              "      <td>2</td>\n",
              "      <td>3</td>\n",
              "      <td>1999</td>\n",
              "      <td>21</td>\n",
              "      <td>5</td>\n",
              "      <td>6</td>\n",
              "      <td>2</td>\n",
              "      <td>2</td>\n",
              "      <td>2</td>\n",
              "      <td>1</td>\n",
              "      <td></td>\n",
              "      <td></td>\n",
              "      <td></td>\n",
              "      <td></td>\n",
              "      <td></td>\n",
              "      <td></td>\n",
              "      <td></td>\n",
              "      <td></td>\n",
              "      <td></td>\n",
              "      <td></td>\n",
              "      <td>1</td>\n",
              "      <td></td>\n",
              "      <td>1</td>\n",
              "      <td></td>\n",
              "      <td></td>\n",
              "      <td>3</td>\n",
              "      <td>2</td>\n",
              "      <td>1</td>\n",
              "      <td>2</td>\n",
              "      <td></td>\n",
              "      <td>6</td>\n",
              "      <td>3</td>\n",
              "      <td></td>\n",
              "      <td>13</td>\n",
              "      <td>23</td>\n",
              "      <td>2</td>\n",
              "      <td>...</td>\n",
              "      <td>25</td>\n",
              "      <td>1</td>\n",
              "      <td>2</td>\n",
              "      <td>1</td>\n",
              "      <td></td>\n",
              "      <td></td>\n",
              "      <td></td>\n",
              "      <td></td>\n",
              "      <td></td>\n",
              "      <td></td>\n",
              "      <td></td>\n",
              "      <td></td>\n",
              "      <td>1</td>\n",
              "      <td>2</td>\n",
              "      <td></td>\n",
              "      <td>900000.0</td>\n",
              "      <td>2</td>\n",
              "      <td></td>\n",
              "      <td>47</td>\n",
              "      <td>45.0</td>\n",
              "      <td>45</td>\n",
              "      <td>2.0</td>\n",
              "      <td>4759</td>\n",
              "      <td>NaN</td>\n",
              "      <td>NaN</td>\n",
              "      <td>NaN</td>\n",
              "      <td>NaN</td>\n",
              "      <td>NaN</td>\n",
              "      <td>NaN</td>\n",
              "      <td>NaN</td>\n",
              "      <td>NaN</td>\n",
              "      <td>NaN</td>\n",
              "      <td>NaN</td>\n",
              "      <td>NaN</td>\n",
              "      <td>NaN</td>\n",
              "      <td>NaN</td>\n",
              "      <td>NaN</td>\n",
              "      <td>NaN</td>\n",
              "      <td>NaN</td>\n",
              "      <td>NaN</td>\n",
              "    </tr>\n",
              "    <tr>\n",
              "      <th>28151</th>\n",
              "      <td>5367014</td>\n",
              "      <td>1</td>\n",
              "      <td>5</td>\n",
              "      <td>1</td>\n",
              "      <td>1</td>\n",
              "      <td>8</td>\n",
              "      <td>2018</td>\n",
              "      <td>2</td>\n",
              "      <td>4</td>\n",
              "      <td>6</td>\n",
              "      <td></td>\n",
              "      <td>1</td>\n",
              "      <td>1</td>\n",
              "      <td></td>\n",
              "      <td></td>\n",
              "      <td></td>\n",
              "      <td></td>\n",
              "      <td></td>\n",
              "      <td></td>\n",
              "      <td></td>\n",
              "      <td></td>\n",
              "      <td></td>\n",
              "      <td></td>\n",
              "      <td></td>\n",
              "      <td></td>\n",
              "      <td></td>\n",
              "      <td>1</td>\n",
              "      <td></td>\n",
              "      <td></td>\n",
              "      <td>3</td>\n",
              "      <td>2</td>\n",
              "      <td></td>\n",
              "      <td></td>\n",
              "      <td></td>\n",
              "      <td></td>\n",
              "      <td></td>\n",
              "      <td></td>\n",
              "      <td></td>\n",
              "      <td>23</td>\n",
              "      <td>NaN</td>\n",
              "      <td>...</td>\n",
              "      <td>NaN</td>\n",
              "      <td>NaN</td>\n",
              "      <td>NaN</td>\n",
              "      <td>NaN</td>\n",
              "      <td>NaN</td>\n",
              "      <td>NaN</td>\n",
              "      <td>NaN</td>\n",
              "      <td>NaN</td>\n",
              "      <td>NaN</td>\n",
              "      <td>NaN</td>\n",
              "      <td>NaN</td>\n",
              "      <td>NaN</td>\n",
              "      <td>NaN</td>\n",
              "      <td>NaN</td>\n",
              "      <td>NaN</td>\n",
              "      <td>NaN</td>\n",
              "      <td>NaN</td>\n",
              "      <td>NaN</td>\n",
              "      <td>NaN</td>\n",
              "      <td>NaN</td>\n",
              "      <td>NaN</td>\n",
              "      <td>NaN</td>\n",
              "      <td>NaN</td>\n",
              "      <td>NaN</td>\n",
              "      <td>NaN</td>\n",
              "      <td>NaN</td>\n",
              "      <td>NaN</td>\n",
              "      <td>NaN</td>\n",
              "      <td>NaN</td>\n",
              "      <td>NaN</td>\n",
              "      <td>NaN</td>\n",
              "      <td>NaN</td>\n",
              "      <td>NaN</td>\n",
              "      <td>NaN</td>\n",
              "      <td>NaN</td>\n",
              "      <td>NaN</td>\n",
              "      <td>NaN</td>\n",
              "      <td>NaN</td>\n",
              "      <td>NaN</td>\n",
              "      <td>NaN</td>\n",
              "    </tr>\n",
              "    <tr>\n",
              "      <th>28152</th>\n",
              "      <td>5367015</td>\n",
              "      <td>1</td>\n",
              "      <td>1</td>\n",
              "      <td>1</td>\n",
              "      <td>2</td>\n",
              "      <td>3</td>\n",
              "      <td>1980</td>\n",
              "      <td>40</td>\n",
              "      <td>1</td>\n",
              "      <td>6</td>\n",
              "      <td>3</td>\n",
              "      <td>2</td>\n",
              "      <td>2</td>\n",
              "      <td>1</td>\n",
              "      <td></td>\n",
              "      <td>1</td>\n",
              "      <td>1</td>\n",
              "      <td>1</td>\n",
              "      <td></td>\n",
              "      <td></td>\n",
              "      <td></td>\n",
              "      <td></td>\n",
              "      <td>1</td>\n",
              "      <td></td>\n",
              "      <td></td>\n",
              "      <td></td>\n",
              "      <td>1</td>\n",
              "      <td></td>\n",
              "      <td></td>\n",
              "      <td>3</td>\n",
              "      <td>2</td>\n",
              "      <td>1</td>\n",
              "      <td>2</td>\n",
              "      <td></td>\n",
              "      <td>5</td>\n",
              "      <td>2</td>\n",
              "      <td></td>\n",
              "      <td>11</td>\n",
              "      <td>23</td>\n",
              "      <td></td>\n",
              "      <td>...</td>\n",
              "      <td>NaN</td>\n",
              "      <td>NaN</td>\n",
              "      <td>NaN</td>\n",
              "      <td>NaN</td>\n",
              "      <td>NaN</td>\n",
              "      <td>NaN</td>\n",
              "      <td>NaN</td>\n",
              "      <td>NaN</td>\n",
              "      <td>NaN</td>\n",
              "      <td>NaN</td>\n",
              "      <td>NaN</td>\n",
              "      <td>NaN</td>\n",
              "      <td>NaN</td>\n",
              "      <td>NaN</td>\n",
              "      <td>NaN</td>\n",
              "      <td>NaN</td>\n",
              "      <td>NaN</td>\n",
              "      <td>NaN</td>\n",
              "      <td>NaN</td>\n",
              "      <td>NaN</td>\n",
              "      <td>NaN</td>\n",
              "      <td>NaN</td>\n",
              "      <td>NaN</td>\n",
              "      <td>1.0</td>\n",
              "      <td>1</td>\n",
              "      <td></td>\n",
              "      <td>2</td>\n",
              "      <td></td>\n",
              "      <td></td>\n",
              "      <td>9</td>\n",
              "      <td></td>\n",
              "      <td>2</td>\n",
              "      <td></td>\n",
              "      <td>2.0</td>\n",
              "      <td></td>\n",
              "      <td></td>\n",
              "      <td></td>\n",
              "      <td></td>\n",
              "      <td>2</td>\n",
              "      <td>1.1</td>\n",
              "    </tr>\n",
              "    <tr>\n",
              "      <th>28153</th>\n",
              "      <td>5367015</td>\n",
              "      <td>1</td>\n",
              "      <td>2</td>\n",
              "      <td>1</td>\n",
              "      <td>1</td>\n",
              "      <td>6</td>\n",
              "      <td>1963</td>\n",
              "      <td>57</td>\n",
              "      <td>2</td>\n",
              "      <td>6</td>\n",
              "      <td>3</td>\n",
              "      <td>3</td>\n",
              "      <td>2</td>\n",
              "      <td>1</td>\n",
              "      <td></td>\n",
              "      <td>1</td>\n",
              "      <td>1</td>\n",
              "      <td>1</td>\n",
              "      <td></td>\n",
              "      <td></td>\n",
              "      <td></td>\n",
              "      <td></td>\n",
              "      <td>1</td>\n",
              "      <td></td>\n",
              "      <td></td>\n",
              "      <td></td>\n",
              "      <td>1</td>\n",
              "      <td></td>\n",
              "      <td></td>\n",
              "      <td>3</td>\n",
              "      <td>2</td>\n",
              "      <td>1</td>\n",
              "      <td>2</td>\n",
              "      <td></td>\n",
              "      <td>3</td>\n",
              "      <td></td>\n",
              "      <td></td>\n",
              "      <td>4</td>\n",
              "      <td>23</td>\n",
              "      <td></td>\n",
              "      <td>...</td>\n",
              "      <td>NaN</td>\n",
              "      <td>NaN</td>\n",
              "      <td>NaN</td>\n",
              "      <td>NaN</td>\n",
              "      <td>NaN</td>\n",
              "      <td>NaN</td>\n",
              "      <td>NaN</td>\n",
              "      <td>NaN</td>\n",
              "      <td>NaN</td>\n",
              "      <td>NaN</td>\n",
              "      <td>NaN</td>\n",
              "      <td>NaN</td>\n",
              "      <td>NaN</td>\n",
              "      <td>NaN</td>\n",
              "      <td>NaN</td>\n",
              "      <td>NaN</td>\n",
              "      <td>NaN</td>\n",
              "      <td>NaN</td>\n",
              "      <td>NaN</td>\n",
              "      <td>NaN</td>\n",
              "      <td>NaN</td>\n",
              "      <td>NaN</td>\n",
              "      <td>NaN</td>\n",
              "      <td>NaN</td>\n",
              "      <td>NaN</td>\n",
              "      <td>NaN</td>\n",
              "      <td>NaN</td>\n",
              "      <td>NaN</td>\n",
              "      <td>NaN</td>\n",
              "      <td>NaN</td>\n",
              "      <td>NaN</td>\n",
              "      <td>NaN</td>\n",
              "      <td>NaN</td>\n",
              "      <td>NaN</td>\n",
              "      <td>NaN</td>\n",
              "      <td>NaN</td>\n",
              "      <td>NaN</td>\n",
              "      <td>NaN</td>\n",
              "      <td>NaN</td>\n",
              "      <td>NaN</td>\n",
              "    </tr>\n",
              "    <tr>\n",
              "      <th>28154</th>\n",
              "      <td>5367015</td>\n",
              "      <td>1</td>\n",
              "      <td>3</td>\n",
              "      <td>1</td>\n",
              "      <td>1</td>\n",
              "      <td>8</td>\n",
              "      <td>2000</td>\n",
              "      <td>20</td>\n",
              "      <td>3</td>\n",
              "      <td>6</td>\n",
              "      <td>6</td>\n",
              "      <td>1</td>\n",
              "      <td>1</td>\n",
              "      <td></td>\n",
              "      <td></td>\n",
              "      <td></td>\n",
              "      <td></td>\n",
              "      <td></td>\n",
              "      <td></td>\n",
              "      <td></td>\n",
              "      <td></td>\n",
              "      <td></td>\n",
              "      <td></td>\n",
              "      <td></td>\n",
              "      <td>1</td>\n",
              "      <td></td>\n",
              "      <td>1</td>\n",
              "      <td></td>\n",
              "      <td></td>\n",
              "      <td>3</td>\n",
              "      <td>2</td>\n",
              "      <td>1</td>\n",
              "      <td>2</td>\n",
              "      <td></td>\n",
              "      <td>5</td>\n",
              "      <td>2</td>\n",
              "      <td></td>\n",
              "      <td>11</td>\n",
              "      <td>23</td>\n",
              "      <td></td>\n",
              "      <td>...</td>\n",
              "      <td>NaN</td>\n",
              "      <td>NaN</td>\n",
              "      <td>NaN</td>\n",
              "      <td>NaN</td>\n",
              "      <td>NaN</td>\n",
              "      <td>NaN</td>\n",
              "      <td>NaN</td>\n",
              "      <td>NaN</td>\n",
              "      <td>NaN</td>\n",
              "      <td>NaN</td>\n",
              "      <td>NaN</td>\n",
              "      <td>NaN</td>\n",
              "      <td>NaN</td>\n",
              "      <td>NaN</td>\n",
              "      <td>NaN</td>\n",
              "      <td>NaN</td>\n",
              "      <td>NaN</td>\n",
              "      <td>NaN</td>\n",
              "      <td>NaN</td>\n",
              "      <td>NaN</td>\n",
              "      <td>NaN</td>\n",
              "      <td>NaN</td>\n",
              "      <td>NaN</td>\n",
              "      <td>1.0</td>\n",
              "      <td>4</td>\n",
              "      <td></td>\n",
              "      <td>2</td>\n",
              "      <td></td>\n",
              "      <td></td>\n",
              "      <td>4</td>\n",
              "      <td></td>\n",
              "      <td>2</td>\n",
              "      <td></td>\n",
              "      <td>2.0</td>\n",
              "      <td></td>\n",
              "      <td></td>\n",
              "      <td></td>\n",
              "      <td></td>\n",
              "      <td>2</td>\n",
              "      <td>1.2</td>\n",
              "    </tr>\n",
              "  </tbody>\n",
              "</table>\n",
              "<p>28155 rows × 249 columns</p>\n",
              "</div>"
            ],
            "text/plain": [
              "       DIRECTORIO  SECUENCIA_P  ORDEN  HOGAR  ...  P1884 P1807 P6921  p7440\n",
              "0         5332772            1      1      1  ...                  2    1.4\n",
              "1         5332772            1      2      1  ...    NaN   NaN   NaN    NaN\n",
              "2         5332772            1      3      1  ...                  2       \n",
              "3         5332773            1      1      1  ...    NaN   NaN   NaN    NaN\n",
              "4         5332773            1      2      1  ...    NaN   NaN   NaN    NaN\n",
              "...           ...          ...    ...    ...  ...    ...   ...   ...    ...\n",
              "28150     5367014            1      4      1  ...    NaN   NaN   NaN    NaN\n",
              "28151     5367014            1      5      1  ...    NaN   NaN   NaN    NaN\n",
              "28152     5367015            1      1      1  ...                  2    1.1\n",
              "28153     5367015            1      2      1  ...    NaN   NaN   NaN    NaN\n",
              "28154     5367015            1      3      1  ...                  2    1.2\n",
              "\n",
              "[28155 rows x 249 columns]"
            ]
          },
          "metadata": {},
          "execution_count": 36
        }
      ]
    },
    {
      "cell_type": "code",
      "metadata": {
        "id": "MmjSUm0Mb_5W"
      },
      "source": [
        ""
      ],
      "execution_count": null,
      "outputs": []
    },
    {
      "cell_type": "markdown",
      "metadata": {
        "id": "jaPKwBBA4II3"
      },
      "source": [
        "##FEBRERO"
      ]
    },
    {
      "cell_type": "code",
      "metadata": {
        "id": "qZg3uBwnWRcS"
      },
      "source": [
        "import numpy as np\n",
        "import pandas as pd\n",
        "data_desocupados_febrero = pd.read_excel('/content/DESOCUPADOS FEBRERO.xlsx')\n",
        "data_ocupados_febrero = pd.read_excel('/content/OCUPADOS FEBRERO.xlsx')\n",
        "data_inactivos_febrero = pd.read_excel('/content/INACTIVOS FEBRERO.xlsx')\n",
        "data_fuerza_t_febrero = pd.read_excel('/content/FUERZA DE TRABAJO FEBRERO.xlsx')\n",
        "data_caracteristicas_febrero = pd.read_excel('/content/CARACTERISTICAS GENERALES FEBRERO.xlsx')"
      ],
      "execution_count": null,
      "outputs": []
    },
    {
      "cell_type": "code",
      "metadata": {
        "id": "3YNt2ufCYhAk"
      },
      "source": [
        "del data_desocupados_febrero['fex_c_2011']\n",
        "del data_ocupados_febrero['fex_c_2011']\n",
        "del data_inactivos_febrero['fex_c_2011']\n",
        "del data_fuerza_t_febrero['fex_c_2011']\n",
        "del data_caracteristicas_febrero['fex_c_2011']"
      ],
      "execution_count": null,
      "outputs": []
    },
    {
      "cell_type": "code",
      "metadata": {
        "id": "URn3Ra9fYu1w"
      },
      "source": [
        "del data_desocupados_febrero['AREA']\n",
        "del data_inactivos_febrero['AREA']\n",
        "del data_fuerza_t_febrero['AREA']\n",
        "del data_ocupados_febrero['AREA']\n",
        "del data_caracteristicas_febrero['AREA']"
      ],
      "execution_count": null,
      "outputs": []
    },
    {
      "cell_type": "code",
      "metadata": {
        "id": "aRa2Y0NSY236"
      },
      "source": [
        "del data_ocupados_febrero['REGIS']\n",
        "del data_desocupados_febrero['REGIS']\n",
        "del data_inactivos_febrero['REGIS']\n",
        "del data_fuerza_t_febrero['REGIS']\n",
        "del data_caracteristicas_febrero['REGIS']"
      ],
      "execution_count": null,
      "outputs": []
    },
    {
      "cell_type": "code",
      "metadata": {
        "id": "ZwF4d7yTY-rD"
      },
      "source": [
        "del data_desocupados_febrero['DSI']\n",
        "del data_inactivos_febrero['INI']\n",
        "del data_fuerza_t_febrero['FT']\n",
        "del data_ocupados_febrero['OCI']"
      ],
      "execution_count": null,
      "outputs": []
    },
    {
      "cell_type": "code",
      "metadata": {
        "id": "0kp5p92xY-jn"
      },
      "source": [
        "del data_fuerza_t_febrero['MES']"
      ],
      "execution_count": null,
      "outputs": []
    },
    {
      "cell_type": "code",
      "metadata": {
        "id": "EYOTB_dXhu7z"
      },
      "source": [
        "del data_desocupados_febrero['MES']\n",
        "del data_ocupados_febrero['MES']\n",
        "del data_inactivos_febrero['MES']\n",
        "del data_caracteristicas_febrero['MES']"
      ],
      "execution_count": null,
      "outputs": []
    },
    {
      "cell_type": "code",
      "metadata": {
        "id": "ptquddPLY-T-"
      },
      "source": [
        "del data_caracteristicas_febrero['P6016']\n",
        "del data_caracteristicas_febrero['P6080S1']\n",
        "del data_caracteristicas_febrero['P6081S1'] \n",
        "del data_caracteristicas_febrero['P6083S1'] \n",
        "del data_caracteristicas_febrero['P6071S1'] \n",
        "del data_caracteristicas_febrero['P3246']\n",
        "del data_caracteristicas_febrero['P6110'] \n",
        "del data_caracteristicas_febrero['P6120'] \n",
        "del data_caracteristicas_febrero['P6210S1'] \n"
      ],
      "execution_count": null,
      "outputs": []
    },
    {
      "cell_type": "code",
      "metadata": {
        "id": "0G3V9reRY-Qh"
      },
      "source": [
        "del data_desocupados_febrero['P7280S1']\n",
        "del data_desocupados_febrero['P7350S1'] \n",
        "del data_desocupados_febrero['P7360']\n",
        "del data_desocupados_febrero['P7420']\n",
        "del data_desocupados_febrero['P7420S7A1']"
      ],
      "execution_count": null,
      "outputs": []
    },
    {
      "cell_type": "code",
      "metadata": {
        "id": "EEjtwKxMZSbq"
      },
      "source": [
        "del data_ocupados_febrero['P6810S1']"
      ],
      "execution_count": null,
      "outputs": []
    },
    {
      "cell_type": "code",
      "metadata": {
        "id": "R7AstcxBZkXV"
      },
      "source": [
        "del data_ocupados_febrero['P6400']\n",
        "del data_ocupados_febrero['P6410']\n",
        "del data_ocupados_febrero['P6410S1'] \n",
        "del data_ocupados_febrero['P6590S1'] \n",
        "del data_ocupados_febrero['P6600S1'] "
      ],
      "execution_count": null,
      "outputs": []
    },
    {
      "cell_type": "code",
      "metadata": {
        "id": "elzlUbWdZwYd"
      },
      "source": [
        "del data_fuerza_t_febrero['P6230']"
      ],
      "execution_count": null,
      "outputs": []
    },
    {
      "cell_type": "code",
      "metadata": {
        "id": "RCK1ghcoZxkF"
      },
      "source": [
        "data_ocupados_febrero.insert(4,\"Estado\",\"Ocupados\")\n",
        "data_desocupados_febrero.insert(4,\"Estado\",\"Desocupados\")\n",
        "data_inactivos_febrero.insert(4,\"Estado\",\"Inactivos\")"
      ],
      "execution_count": null,
      "outputs": []
    },
    {
      "cell_type": "markdown",
      "metadata": {
        "id": "x7fWYpiDZ9FA"
      },
      "source": [
        "#DUPLICADOS FEBRERO"
      ]
    },
    {
      "cell_type": "code",
      "metadata": {
        "id": "Ig5mHokFZ61F"
      },
      "source": [
        "data_desocupados_febrero = data_desocupados_febrero.drop_duplicates()"
      ],
      "execution_count": null,
      "outputs": []
    },
    {
      "cell_type": "code",
      "metadata": {
        "id": "SQdoFf9taClb"
      },
      "source": [
        "data_ocupados_febrero = data_ocupados_febrero.drop_duplicates()"
      ],
      "execution_count": null,
      "outputs": []
    },
    {
      "cell_type": "code",
      "metadata": {
        "id": "fch_lE5AaChb"
      },
      "source": [
        "data_inactivos_febrero = data_inactivos_febrero.drop_duplicates()"
      ],
      "execution_count": null,
      "outputs": []
    },
    {
      "cell_type": "code",
      "metadata": {
        "id": "HaLetTeOaCed"
      },
      "source": [
        "data_fuerza_t_febrero = data_fuerza_t_febrero.drop_duplicates()"
      ],
      "execution_count": null,
      "outputs": []
    },
    {
      "cell_type": "code",
      "metadata": {
        "id": "KxFce5tuaCb0"
      },
      "source": [
        "data_caracteristicas_febrero = data_caracteristicas_febrero.drop_duplicates()"
      ],
      "execution_count": null,
      "outputs": []
    },
    {
      "cell_type": "code",
      "metadata": {
        "colab": {
          "base_uri": "https://localhost:8080/"
        },
        "id": "ZJHDMN5CaCMj",
        "outputId": "47316f43-3a4e-4f3a-e9fa-cb7ad01c088d"
      },
      "source": [
        "data_desocupados_febrero.shape"
      ],
      "execution_count": null,
      "outputs": [
        {
          "output_type": "execute_result",
          "data": {
            "text/plain": [
              "(2505, 33)"
            ]
          },
          "metadata": {},
          "execution_count": 55
        }
      ]
    },
    {
      "cell_type": "code",
      "metadata": {
        "colab": {
          "base_uri": "https://localhost:8080/"
        },
        "id": "J2TgRoYsahS1",
        "outputId": "8d27d2da-9388-41cd-bb8d-365d44c40d3d"
      },
      "source": [
        "data_ocupados_febrero.shape"
      ],
      "execution_count": null,
      "outputs": [
        {
          "output_type": "execute_result",
          "data": {
            "text/plain": [
              "(12367, 155)"
            ]
          },
          "metadata": {},
          "execution_count": 56
        }
      ]
    },
    {
      "cell_type": "code",
      "metadata": {
        "colab": {
          "base_uri": "https://localhost:8080/"
        },
        "id": "bVHFf_8Hai6d",
        "outputId": "276cf957-fb80-4253-a1e3-d0c1bf13ccf2"
      },
      "source": [
        "data_inactivos_febrero.shape"
      ],
      "execution_count": null,
      "outputs": [
        {
          "output_type": "execute_result",
          "data": {
            "text/plain": [
              "(9596, 23)"
            ]
          },
          "metadata": {},
          "execution_count": 57
        }
      ]
    },
    {
      "cell_type": "code",
      "metadata": {
        "colab": {
          "base_uri": "https://localhost:8080/"
        },
        "id": "rTjylws3ala5",
        "outputId": "4acab60e-37dc-4803-9ed4-88f40e7f6f38"
      },
      "source": [
        "data_caracteristicas_febrero.shape"
      ],
      "execution_count": null,
      "outputs": [
        {
          "output_type": "execute_result",
          "data": {
            "text/plain": [
              "(28962, 39)"
            ]
          },
          "metadata": {},
          "execution_count": 58
        }
      ]
    },
    {
      "cell_type": "code",
      "metadata": {
        "colab": {
          "base_uri": "https://localhost:8080/"
        },
        "id": "hZrx6DiJavTQ",
        "outputId": "3f9d13b0-4952-40d2-dd67-a508cc49af81"
      },
      "source": [
        "data_fuerza_t_febrero.shape"
      ],
      "execution_count": null,
      "outputs": [
        {
          "output_type": "execute_result",
          "data": {
            "text/plain": [
              "(24468, 21)"
            ]
          },
          "metadata": {},
          "execution_count": 59
        }
      ]
    },
    {
      "cell_type": "code",
      "metadata": {
        "id": "22dUP35yayx7"
      },
      "source": [
        ""
      ],
      "execution_count": null,
      "outputs": []
    },
    {
      "cell_type": "markdown",
      "metadata": {
        "id": "e60qpsTza2nv"
      },
      "source": [
        "#CONCATENAR FEBRERO"
      ]
    },
    {
      "cell_type": "code",
      "metadata": {
        "id": "Hi6uxcoOa1rj"
      },
      "source": [
        "dt2_febrero = pd.concat([data_ocupados_febrero, data_desocupados_febrero,data_inactivos_febrero])"
      ],
      "execution_count": null,
      "outputs": []
    },
    {
      "cell_type": "code",
      "metadata": {
        "id": "MROO6UdsbH8m"
      },
      "source": [
        "dt1_febrero = pd.merge(data_caracteristicas_febrero,data_fuerza_t_febrero,on = ['DIRECTORIO','SECUENCIA_P','ORDEN','HOGAR','DPTO'],how  = 'outer')"
      ],
      "execution_count": null,
      "outputs": []
    },
    {
      "cell_type": "code",
      "metadata": {
        "id": "SJSXmS8LbSIW"
      },
      "source": [
        "Base_febrero = pd.merge(dt1_febrero,dt2_febrero,how  = 'outer')"
      ],
      "execution_count": null,
      "outputs": []
    },
    {
      "cell_type": "code",
      "metadata": {
        "colab": {
          "base_uri": "https://localhost:8080/",
          "height": 439
        },
        "id": "vNdR-jGWbXKc",
        "outputId": "faf8d5f9-9882-4fbf-a4d6-ddf3d7758bf0"
      },
      "source": [
        "Base_febrero"
      ],
      "execution_count": null,
      "outputs": [
        {
          "output_type": "execute_result",
          "data": {
            "text/html": [
              "<div>\n",
              "<style scoped>\n",
              "    .dataframe tbody tr th:only-of-type {\n",
              "        vertical-align: middle;\n",
              "    }\n",
              "\n",
              "    .dataframe tbody tr th {\n",
              "        vertical-align: top;\n",
              "    }\n",
              "\n",
              "    .dataframe thead th {\n",
              "        text-align: right;\n",
              "    }\n",
              "</style>\n",
              "<table border=\"1\" class=\"dataframe\">\n",
              "  <thead>\n",
              "    <tr style=\"text-align: right;\">\n",
              "      <th></th>\n",
              "      <th>DIRECTORIO</th>\n",
              "      <th>SECUENCIA_P</th>\n",
              "      <th>ORDEN</th>\n",
              "      <th>HOGAR</th>\n",
              "      <th>P6020</th>\n",
              "      <th>P6030S1</th>\n",
              "      <th>P6030S3</th>\n",
              "      <th>P6040</th>\n",
              "      <th>P6050</th>\n",
              "      <th>P6080</th>\n",
              "      <th>P6070</th>\n",
              "      <th>P6081</th>\n",
              "      <th>P6083</th>\n",
              "      <th>P6071</th>\n",
              "      <th>P3147S1</th>\n",
              "      <th>P3147S2</th>\n",
              "      <th>P3147S3</th>\n",
              "      <th>P3147S4</th>\n",
              "      <th>P3147S5</th>\n",
              "      <th>P3147S6</th>\n",
              "      <th>P3147S7</th>\n",
              "      <th>P3147S8</th>\n",
              "      <th>P3147S9</th>\n",
              "      <th>P3147S10</th>\n",
              "      <th>P3147S11</th>\n",
              "      <th>P3147S10A1</th>\n",
              "      <th>P6090</th>\n",
              "      <th>P6140</th>\n",
              "      <th>P6150</th>\n",
              "      <th>P6100</th>\n",
              "      <th>P6125</th>\n",
              "      <th>P6160</th>\n",
              "      <th>P6170</th>\n",
              "      <th>P6175</th>\n",
              "      <th>P6210</th>\n",
              "      <th>P6220</th>\n",
              "      <th>P6269</th>\n",
              "      <th>ESC</th>\n",
              "      <th>DPTO</th>\n",
              "      <th>P6290</th>\n",
              "      <th>...</th>\n",
              "      <th>P7320</th>\n",
              "      <th>P7350</th>\n",
              "      <th>P9460</th>\n",
              "      <th>P7390</th>\n",
              "      <th>P7390S1</th>\n",
              "      <th>P7420S1</th>\n",
              "      <th>P7420S2</th>\n",
              "      <th>P7420S3</th>\n",
              "      <th>P7420S4</th>\n",
              "      <th>P7420S5</th>\n",
              "      <th>P7420S6</th>\n",
              "      <th>P7420S7</th>\n",
              "      <th>P7420S8</th>\n",
              "      <th>P7422</th>\n",
              "      <th>P7422S1</th>\n",
              "      <th>P1806</th>\n",
              "      <th>P1519</th>\n",
              "      <th>P1883</th>\n",
              "      <th>RAMA2D_D_R4</th>\n",
              "      <th>OFICIO1</th>\n",
              "      <th>OFICIO2</th>\n",
              "      <th>DSCY</th>\n",
              "      <th>RAMA4D_D_R4</th>\n",
              "      <th>P7430</th>\n",
              "      <th>P7450</th>\n",
              "      <th>P7450S1</th>\n",
              "      <th>P7452</th>\n",
              "      <th>P7454</th>\n",
              "      <th>P7456</th>\n",
              "      <th>P7458</th>\n",
              "      <th>P7458S1</th>\n",
              "      <th>P7460</th>\n",
              "      <th>P7470</th>\n",
              "      <th>P7472</th>\n",
              "      <th>P7472S1</th>\n",
              "      <th>P744</th>\n",
              "      <th>P1884</th>\n",
              "      <th>P1807</th>\n",
              "      <th>P6921</th>\n",
              "      <th>p7440</th>\n",
              "    </tr>\n",
              "  </thead>\n",
              "  <tbody>\n",
              "    <tr>\n",
              "      <th>0</th>\n",
              "      <td>5367062</td>\n",
              "      <td>1</td>\n",
              "      <td>1</td>\n",
              "      <td>1</td>\n",
              "      <td>2</td>\n",
              "      <td>9</td>\n",
              "      <td>1970</td>\n",
              "      <td>50</td>\n",
              "      <td>1</td>\n",
              "      <td>6</td>\n",
              "      <td>6</td>\n",
              "      <td>2</td>\n",
              "      <td>3</td>\n",
              "      <td></td>\n",
              "      <td></td>\n",
              "      <td></td>\n",
              "      <td>1</td>\n",
              "      <td></td>\n",
              "      <td>1</td>\n",
              "      <td></td>\n",
              "      <td></td>\n",
              "      <td></td>\n",
              "      <td>1</td>\n",
              "      <td></td>\n",
              "      <td></td>\n",
              "      <td></td>\n",
              "      <td>1</td>\n",
              "      <td></td>\n",
              "      <td></td>\n",
              "      <td>1</td>\n",
              "      <td>2</td>\n",
              "      <td>1</td>\n",
              "      <td>2</td>\n",
              "      <td></td>\n",
              "      <td>3</td>\n",
              "      <td></td>\n",
              "      <td></td>\n",
              "      <td>2</td>\n",
              "      <td>5</td>\n",
              "      <td></td>\n",
              "      <td>...</td>\n",
              "      <td>NaN</td>\n",
              "      <td>NaN</td>\n",
              "      <td>NaN</td>\n",
              "      <td>NaN</td>\n",
              "      <td>NaN</td>\n",
              "      <td>NaN</td>\n",
              "      <td>NaN</td>\n",
              "      <td>NaN</td>\n",
              "      <td>NaN</td>\n",
              "      <td>NaN</td>\n",
              "      <td>NaN</td>\n",
              "      <td>NaN</td>\n",
              "      <td>NaN</td>\n",
              "      <td>NaN</td>\n",
              "      <td>NaN</td>\n",
              "      <td>NaN</td>\n",
              "      <td>NaN</td>\n",
              "      <td>NaN</td>\n",
              "      <td>NaN</td>\n",
              "      <td>NaN</td>\n",
              "      <td>NaN</td>\n",
              "      <td>NaN</td>\n",
              "      <td>NaN</td>\n",
              "      <td>1.0</td>\n",
              "      <td>3</td>\n",
              "      <td></td>\n",
              "      <td>2</td>\n",
              "      <td></td>\n",
              "      <td></td>\n",
              "      <td>9</td>\n",
              "      <td></td>\n",
              "      <td>2</td>\n",
              "      <td></td>\n",
              "      <td>2.0</td>\n",
              "      <td></td>\n",
              "      <td>2</td>\n",
              "      <td></td>\n",
              "      <td>908000</td>\n",
              "      <td>2</td>\n",
              "      <td>3</td>\n",
              "    </tr>\n",
              "    <tr>\n",
              "      <th>1</th>\n",
              "      <td>5367063</td>\n",
              "      <td>1</td>\n",
              "      <td>1</td>\n",
              "      <td>1</td>\n",
              "      <td>2</td>\n",
              "      <td>8</td>\n",
              "      <td>1968</td>\n",
              "      <td>52</td>\n",
              "      <td>1</td>\n",
              "      <td>6</td>\n",
              "      <td>5</td>\n",
              "      <td>3</td>\n",
              "      <td>3</td>\n",
              "      <td></td>\n",
              "      <td></td>\n",
              "      <td></td>\n",
              "      <td></td>\n",
              "      <td></td>\n",
              "      <td></td>\n",
              "      <td></td>\n",
              "      <td></td>\n",
              "      <td></td>\n",
              "      <td>1</td>\n",
              "      <td></td>\n",
              "      <td></td>\n",
              "      <td></td>\n",
              "      <td>1</td>\n",
              "      <td></td>\n",
              "      <td></td>\n",
              "      <td>3</td>\n",
              "      <td>2</td>\n",
              "      <td>1</td>\n",
              "      <td>2</td>\n",
              "      <td></td>\n",
              "      <td>4</td>\n",
              "      <td></td>\n",
              "      <td></td>\n",
              "      <td>8</td>\n",
              "      <td>5</td>\n",
              "      <td></td>\n",
              "      <td>...</td>\n",
              "      <td>NaN</td>\n",
              "      <td>NaN</td>\n",
              "      <td>NaN</td>\n",
              "      <td>NaN</td>\n",
              "      <td>NaN</td>\n",
              "      <td>NaN</td>\n",
              "      <td>NaN</td>\n",
              "      <td>NaN</td>\n",
              "      <td>NaN</td>\n",
              "      <td>NaN</td>\n",
              "      <td>NaN</td>\n",
              "      <td>NaN</td>\n",
              "      <td>NaN</td>\n",
              "      <td>NaN</td>\n",
              "      <td>NaN</td>\n",
              "      <td>NaN</td>\n",
              "      <td>NaN</td>\n",
              "      <td>NaN</td>\n",
              "      <td>NaN</td>\n",
              "      <td>NaN</td>\n",
              "      <td>NaN</td>\n",
              "      <td>NaN</td>\n",
              "      <td>NaN</td>\n",
              "      <td>1.0</td>\n",
              "      <td>4</td>\n",
              "      <td></td>\n",
              "      <td>2</td>\n",
              "      <td></td>\n",
              "      <td></td>\n",
              "      <td>4</td>\n",
              "      <td></td>\n",
              "      <td>2</td>\n",
              "      <td></td>\n",
              "      <td>2.0</td>\n",
              "      <td></td>\n",
              "      <td></td>\n",
              "      <td></td>\n",
              "      <td></td>\n",
              "      <td>2</td>\n",
              "      <td>3</td>\n",
              "    </tr>\n",
              "    <tr>\n",
              "      <th>2</th>\n",
              "      <td>5367063</td>\n",
              "      <td>1</td>\n",
              "      <td>2</td>\n",
              "      <td>1</td>\n",
              "      <td>1</td>\n",
              "      <td>5</td>\n",
              "      <td>1987</td>\n",
              "      <td>33</td>\n",
              "      <td>3</td>\n",
              "      <td>6</td>\n",
              "      <td>6</td>\n",
              "      <td>3</td>\n",
              "      <td>1</td>\n",
              "      <td></td>\n",
              "      <td></td>\n",
              "      <td>1</td>\n",
              "      <td></td>\n",
              "      <td></td>\n",
              "      <td></td>\n",
              "      <td></td>\n",
              "      <td></td>\n",
              "      <td></td>\n",
              "      <td></td>\n",
              "      <td></td>\n",
              "      <td></td>\n",
              "      <td></td>\n",
              "      <td>1</td>\n",
              "      <td></td>\n",
              "      <td></td>\n",
              "      <td>3</td>\n",
              "      <td>2</td>\n",
              "      <td>1</td>\n",
              "      <td>2</td>\n",
              "      <td></td>\n",
              "      <td>5</td>\n",
              "      <td>2</td>\n",
              "      <td></td>\n",
              "      <td>11</td>\n",
              "      <td>5</td>\n",
              "      <td>1</td>\n",
              "      <td>...</td>\n",
              "      <td>44</td>\n",
              "      <td>1</td>\n",
              "      <td>2</td>\n",
              "      <td>1</td>\n",
              "      <td></td>\n",
              "      <td></td>\n",
              "      <td></td>\n",
              "      <td></td>\n",
              "      <td></td>\n",
              "      <td></td>\n",
              "      <td></td>\n",
              "      <td></td>\n",
              "      <td>1</td>\n",
              "      <td>2</td>\n",
              "      <td></td>\n",
              "      <td>1500000.0</td>\n",
              "      <td>2</td>\n",
              "      <td></td>\n",
              "      <td>43</td>\n",
              "      <td>95.0</td>\n",
              "      <td>95</td>\n",
              "      <td>2.0</td>\n",
              "      <td>4330</td>\n",
              "      <td>NaN</td>\n",
              "      <td>NaN</td>\n",
              "      <td>NaN</td>\n",
              "      <td>NaN</td>\n",
              "      <td>NaN</td>\n",
              "      <td>NaN</td>\n",
              "      <td>NaN</td>\n",
              "      <td>NaN</td>\n",
              "      <td>NaN</td>\n",
              "      <td>NaN</td>\n",
              "      <td>NaN</td>\n",
              "      <td>NaN</td>\n",
              "      <td>NaN</td>\n",
              "      <td>NaN</td>\n",
              "      <td>NaN</td>\n",
              "      <td>NaN</td>\n",
              "      <td>NaN</td>\n",
              "    </tr>\n",
              "    <tr>\n",
              "      <th>3</th>\n",
              "      <td>5367063</td>\n",
              "      <td>1</td>\n",
              "      <td>3</td>\n",
              "      <td>1</td>\n",
              "      <td>2</td>\n",
              "      <td>9</td>\n",
              "      <td>1991</td>\n",
              "      <td>29</td>\n",
              "      <td>3</td>\n",
              "      <td>6</td>\n",
              "      <td>6</td>\n",
              "      <td>3</td>\n",
              "      <td>1</td>\n",
              "      <td></td>\n",
              "      <td></td>\n",
              "      <td></td>\n",
              "      <td></td>\n",
              "      <td></td>\n",
              "      <td></td>\n",
              "      <td></td>\n",
              "      <td></td>\n",
              "      <td></td>\n",
              "      <td></td>\n",
              "      <td></td>\n",
              "      <td>1</td>\n",
              "      <td></td>\n",
              "      <td>1</td>\n",
              "      <td></td>\n",
              "      <td></td>\n",
              "      <td>3</td>\n",
              "      <td>2</td>\n",
              "      <td>1</td>\n",
              "      <td>2</td>\n",
              "      <td></td>\n",
              "      <td>5</td>\n",
              "      <td>2</td>\n",
              "      <td></td>\n",
              "      <td>11</td>\n",
              "      <td>5</td>\n",
              "      <td></td>\n",
              "      <td>...</td>\n",
              "      <td>104</td>\n",
              "      <td>1</td>\n",
              "      <td>2</td>\n",
              "      <td>1</td>\n",
              "      <td></td>\n",
              "      <td></td>\n",
              "      <td></td>\n",
              "      <td></td>\n",
              "      <td></td>\n",
              "      <td></td>\n",
              "      <td></td>\n",
              "      <td></td>\n",
              "      <td>1</td>\n",
              "      <td>2</td>\n",
              "      <td></td>\n",
              "      <td>908000.0</td>\n",
              "      <td>2</td>\n",
              "      <td></td>\n",
              "      <td>10</td>\n",
              "      <td>55.0</td>\n",
              "      <td>77</td>\n",
              "      <td>2.0</td>\n",
              "      <td>1081</td>\n",
              "      <td>NaN</td>\n",
              "      <td>NaN</td>\n",
              "      <td>NaN</td>\n",
              "      <td>NaN</td>\n",
              "      <td>NaN</td>\n",
              "      <td>NaN</td>\n",
              "      <td>NaN</td>\n",
              "      <td>NaN</td>\n",
              "      <td>NaN</td>\n",
              "      <td>NaN</td>\n",
              "      <td>NaN</td>\n",
              "      <td>NaN</td>\n",
              "      <td>NaN</td>\n",
              "      <td>NaN</td>\n",
              "      <td>NaN</td>\n",
              "      <td>NaN</td>\n",
              "      <td>NaN</td>\n",
              "    </tr>\n",
              "    <tr>\n",
              "      <th>4</th>\n",
              "      <td>5367063</td>\n",
              "      <td>1</td>\n",
              "      <td>4</td>\n",
              "      <td>1</td>\n",
              "      <td>1</td>\n",
              "      <td>2</td>\n",
              "      <td>2014</td>\n",
              "      <td>6</td>\n",
              "      <td>4</td>\n",
              "      <td>6</td>\n",
              "      <td></td>\n",
              "      <td>2</td>\n",
              "      <td>1</td>\n",
              "      <td></td>\n",
              "      <td></td>\n",
              "      <td></td>\n",
              "      <td></td>\n",
              "      <td></td>\n",
              "      <td></td>\n",
              "      <td></td>\n",
              "      <td></td>\n",
              "      <td></td>\n",
              "      <td></td>\n",
              "      <td></td>\n",
              "      <td></td>\n",
              "      <td></td>\n",
              "      <td>1</td>\n",
              "      <td></td>\n",
              "      <td></td>\n",
              "      <td>3</td>\n",
              "      <td>2</td>\n",
              "      <td>2</td>\n",
              "      <td>1</td>\n",
              "      <td>1</td>\n",
              "      <td>2</td>\n",
              "      <td></td>\n",
              "      <td></td>\n",
              "      <td>0</td>\n",
              "      <td>5</td>\n",
              "      <td>NaN</td>\n",
              "      <td>...</td>\n",
              "      <td>NaN</td>\n",
              "      <td>NaN</td>\n",
              "      <td>NaN</td>\n",
              "      <td>NaN</td>\n",
              "      <td>NaN</td>\n",
              "      <td>NaN</td>\n",
              "      <td>NaN</td>\n",
              "      <td>NaN</td>\n",
              "      <td>NaN</td>\n",
              "      <td>NaN</td>\n",
              "      <td>NaN</td>\n",
              "      <td>NaN</td>\n",
              "      <td>NaN</td>\n",
              "      <td>NaN</td>\n",
              "      <td>NaN</td>\n",
              "      <td>NaN</td>\n",
              "      <td>NaN</td>\n",
              "      <td>NaN</td>\n",
              "      <td>NaN</td>\n",
              "      <td>NaN</td>\n",
              "      <td>NaN</td>\n",
              "      <td>NaN</td>\n",
              "      <td>NaN</td>\n",
              "      <td>NaN</td>\n",
              "      <td>NaN</td>\n",
              "      <td>NaN</td>\n",
              "      <td>NaN</td>\n",
              "      <td>NaN</td>\n",
              "      <td>NaN</td>\n",
              "      <td>NaN</td>\n",
              "      <td>NaN</td>\n",
              "      <td>NaN</td>\n",
              "      <td>NaN</td>\n",
              "      <td>NaN</td>\n",
              "      <td>NaN</td>\n",
              "      <td>NaN</td>\n",
              "      <td>NaN</td>\n",
              "      <td>NaN</td>\n",
              "      <td>NaN</td>\n",
              "      <td>NaN</td>\n",
              "    </tr>\n",
              "    <tr>\n",
              "      <th>...</th>\n",
              "      <td>...</td>\n",
              "      <td>...</td>\n",
              "      <td>...</td>\n",
              "      <td>...</td>\n",
              "      <td>...</td>\n",
              "      <td>...</td>\n",
              "      <td>...</td>\n",
              "      <td>...</td>\n",
              "      <td>...</td>\n",
              "      <td>...</td>\n",
              "      <td>...</td>\n",
              "      <td>...</td>\n",
              "      <td>...</td>\n",
              "      <td>...</td>\n",
              "      <td>...</td>\n",
              "      <td>...</td>\n",
              "      <td>...</td>\n",
              "      <td>...</td>\n",
              "      <td>...</td>\n",
              "      <td>...</td>\n",
              "      <td>...</td>\n",
              "      <td>...</td>\n",
              "      <td>...</td>\n",
              "      <td>...</td>\n",
              "      <td>...</td>\n",
              "      <td>...</td>\n",
              "      <td>...</td>\n",
              "      <td>...</td>\n",
              "      <td>...</td>\n",
              "      <td>...</td>\n",
              "      <td>...</td>\n",
              "      <td>...</td>\n",
              "      <td>...</td>\n",
              "      <td>...</td>\n",
              "      <td>...</td>\n",
              "      <td>...</td>\n",
              "      <td>...</td>\n",
              "      <td>...</td>\n",
              "      <td>...</td>\n",
              "      <td>...</td>\n",
              "      <td>...</td>\n",
              "      <td>...</td>\n",
              "      <td>...</td>\n",
              "      <td>...</td>\n",
              "      <td>...</td>\n",
              "      <td>...</td>\n",
              "      <td>...</td>\n",
              "      <td>...</td>\n",
              "      <td>...</td>\n",
              "      <td>...</td>\n",
              "      <td>...</td>\n",
              "      <td>...</td>\n",
              "      <td>...</td>\n",
              "      <td>...</td>\n",
              "      <td>...</td>\n",
              "      <td>...</td>\n",
              "      <td>...</td>\n",
              "      <td>...</td>\n",
              "      <td>...</td>\n",
              "      <td>...</td>\n",
              "      <td>...</td>\n",
              "      <td>...</td>\n",
              "      <td>...</td>\n",
              "      <td>...</td>\n",
              "      <td>...</td>\n",
              "      <td>...</td>\n",
              "      <td>...</td>\n",
              "      <td>...</td>\n",
              "      <td>...</td>\n",
              "      <td>...</td>\n",
              "      <td>...</td>\n",
              "      <td>...</td>\n",
              "      <td>...</td>\n",
              "      <td>...</td>\n",
              "      <td>...</td>\n",
              "      <td>...</td>\n",
              "      <td>...</td>\n",
              "      <td>...</td>\n",
              "      <td>...</td>\n",
              "      <td>...</td>\n",
              "      <td>...</td>\n",
              "    </tr>\n",
              "    <tr>\n",
              "      <th>28957</th>\n",
              "      <td>5392562</td>\n",
              "      <td>1</td>\n",
              "      <td>2</td>\n",
              "      <td>1</td>\n",
              "      <td>2</td>\n",
              "      <td>5</td>\n",
              "      <td>1976</td>\n",
              "      <td>44</td>\n",
              "      <td>2</td>\n",
              "      <td>6</td>\n",
              "      <td>2</td>\n",
              "      <td>2</td>\n",
              "      <td>1</td>\n",
              "      <td>1</td>\n",
              "      <td></td>\n",
              "      <td></td>\n",
              "      <td></td>\n",
              "      <td></td>\n",
              "      <td></td>\n",
              "      <td></td>\n",
              "      <td></td>\n",
              "      <td></td>\n",
              "      <td></td>\n",
              "      <td></td>\n",
              "      <td>1</td>\n",
              "      <td></td>\n",
              "      <td>1</td>\n",
              "      <td></td>\n",
              "      <td></td>\n",
              "      <td>3</td>\n",
              "      <td>2</td>\n",
              "      <td>1</td>\n",
              "      <td>2</td>\n",
              "      <td></td>\n",
              "      <td>6</td>\n",
              "      <td>3</td>\n",
              "      <td></td>\n",
              "      <td>13</td>\n",
              "      <td>8</td>\n",
              "      <td>2</td>\n",
              "      <td>...</td>\n",
              "      <td>53</td>\n",
              "      <td>1</td>\n",
              "      <td>2</td>\n",
              "      <td>1</td>\n",
              "      <td></td>\n",
              "      <td></td>\n",
              "      <td></td>\n",
              "      <td></td>\n",
              "      <td></td>\n",
              "      <td></td>\n",
              "      <td></td>\n",
              "      <td></td>\n",
              "      <td>1</td>\n",
              "      <td>2</td>\n",
              "      <td></td>\n",
              "      <td>1200000.0</td>\n",
              "      <td>2</td>\n",
              "      <td></td>\n",
              "      <td>43</td>\n",
              "      <td>99.0</td>\n",
              "      <td>99</td>\n",
              "      <td>2.0</td>\n",
              "      <td>4322</td>\n",
              "      <td>NaN</td>\n",
              "      <td>NaN</td>\n",
              "      <td>NaN</td>\n",
              "      <td>NaN</td>\n",
              "      <td>NaN</td>\n",
              "      <td>NaN</td>\n",
              "      <td>NaN</td>\n",
              "      <td>NaN</td>\n",
              "      <td>NaN</td>\n",
              "      <td>NaN</td>\n",
              "      <td>NaN</td>\n",
              "      <td>NaN</td>\n",
              "      <td>NaN</td>\n",
              "      <td>NaN</td>\n",
              "      <td>NaN</td>\n",
              "      <td>NaN</td>\n",
              "      <td>NaN</td>\n",
              "    </tr>\n",
              "    <tr>\n",
              "      <th>28958</th>\n",
              "      <td>5392562</td>\n",
              "      <td>1</td>\n",
              "      <td>3</td>\n",
              "      <td>1</td>\n",
              "      <td>2</td>\n",
              "      <td>11</td>\n",
              "      <td>2003</td>\n",
              "      <td>17</td>\n",
              "      <td>3</td>\n",
              "      <td>6</td>\n",
              "      <td>6</td>\n",
              "      <td>2</td>\n",
              "      <td>1</td>\n",
              "      <td></td>\n",
              "      <td></td>\n",
              "      <td></td>\n",
              "      <td></td>\n",
              "      <td></td>\n",
              "      <td></td>\n",
              "      <td></td>\n",
              "      <td></td>\n",
              "      <td></td>\n",
              "      <td></td>\n",
              "      <td></td>\n",
              "      <td>1</td>\n",
              "      <td></td>\n",
              "      <td>1</td>\n",
              "      <td></td>\n",
              "      <td></td>\n",
              "      <td>3</td>\n",
              "      <td>2</td>\n",
              "      <td>1</td>\n",
              "      <td>1</td>\n",
              "      <td>1</td>\n",
              "      <td>5</td>\n",
              "      <td>1</td>\n",
              "      <td></td>\n",
              "      <td>10</td>\n",
              "      <td>8</td>\n",
              "      <td></td>\n",
              "      <td>...</td>\n",
              "      <td>NaN</td>\n",
              "      <td>NaN</td>\n",
              "      <td>NaN</td>\n",
              "      <td>NaN</td>\n",
              "      <td>NaN</td>\n",
              "      <td>NaN</td>\n",
              "      <td>NaN</td>\n",
              "      <td>NaN</td>\n",
              "      <td>NaN</td>\n",
              "      <td>NaN</td>\n",
              "      <td>NaN</td>\n",
              "      <td>NaN</td>\n",
              "      <td>NaN</td>\n",
              "      <td>NaN</td>\n",
              "      <td>NaN</td>\n",
              "      <td>NaN</td>\n",
              "      <td>NaN</td>\n",
              "      <td>NaN</td>\n",
              "      <td>NaN</td>\n",
              "      <td>NaN</td>\n",
              "      <td>NaN</td>\n",
              "      <td>NaN</td>\n",
              "      <td>NaN</td>\n",
              "      <td>2.0</td>\n",
              "      <td></td>\n",
              "      <td></td>\n",
              "      <td></td>\n",
              "      <td>2</td>\n",
              "      <td></td>\n",
              "      <td></td>\n",
              "      <td>.</td>\n",
              "      <td>2</td>\n",
              "      <td></td>\n",
              "      <td>2.0</td>\n",
              "      <td></td>\n",
              "      <td></td>\n",
              "      <td></td>\n",
              "      <td></td>\n",
              "      <td>2</td>\n",
              "      <td></td>\n",
              "    </tr>\n",
              "    <tr>\n",
              "      <th>28959</th>\n",
              "      <td>5392562</td>\n",
              "      <td>1</td>\n",
              "      <td>4</td>\n",
              "      <td>1</td>\n",
              "      <td>1</td>\n",
              "      <td>2</td>\n",
              "      <td>1998</td>\n",
              "      <td>23</td>\n",
              "      <td>3</td>\n",
              "      <td>6</td>\n",
              "      <td>2</td>\n",
              "      <td>2</td>\n",
              "      <td>1</td>\n",
              "      <td>1</td>\n",
              "      <td></td>\n",
              "      <td></td>\n",
              "      <td></td>\n",
              "      <td></td>\n",
              "      <td></td>\n",
              "      <td></td>\n",
              "      <td></td>\n",
              "      <td></td>\n",
              "      <td></td>\n",
              "      <td></td>\n",
              "      <td>1</td>\n",
              "      <td></td>\n",
              "      <td>2</td>\n",
              "      <td>1</td>\n",
              "      <td>36</td>\n",
              "      <td></td>\n",
              "      <td>2</td>\n",
              "      <td>1</td>\n",
              "      <td>2</td>\n",
              "      <td></td>\n",
              "      <td>5</td>\n",
              "      <td>2</td>\n",
              "      <td></td>\n",
              "      <td>11</td>\n",
              "      <td>8</td>\n",
              "      <td></td>\n",
              "      <td>...</td>\n",
              "      <td>NaN</td>\n",
              "      <td>NaN</td>\n",
              "      <td>NaN</td>\n",
              "      <td>NaN</td>\n",
              "      <td>NaN</td>\n",
              "      <td>NaN</td>\n",
              "      <td>NaN</td>\n",
              "      <td>NaN</td>\n",
              "      <td>NaN</td>\n",
              "      <td>NaN</td>\n",
              "      <td>NaN</td>\n",
              "      <td>NaN</td>\n",
              "      <td>NaN</td>\n",
              "      <td>NaN</td>\n",
              "      <td>NaN</td>\n",
              "      <td>NaN</td>\n",
              "      <td>NaN</td>\n",
              "      <td>NaN</td>\n",
              "      <td>NaN</td>\n",
              "      <td>NaN</td>\n",
              "      <td>NaN</td>\n",
              "      <td>NaN</td>\n",
              "      <td>NaN</td>\n",
              "      <td>NaN</td>\n",
              "      <td>NaN</td>\n",
              "      <td>NaN</td>\n",
              "      <td>NaN</td>\n",
              "      <td>NaN</td>\n",
              "      <td>NaN</td>\n",
              "      <td>NaN</td>\n",
              "      <td>NaN</td>\n",
              "      <td>NaN</td>\n",
              "      <td>NaN</td>\n",
              "      <td>NaN</td>\n",
              "      <td>NaN</td>\n",
              "      <td>NaN</td>\n",
              "      <td>NaN</td>\n",
              "      <td>NaN</td>\n",
              "      <td>NaN</td>\n",
              "      <td>NaN</td>\n",
              "    </tr>\n",
              "    <tr>\n",
              "      <th>28960</th>\n",
              "      <td>5392562</td>\n",
              "      <td>1</td>\n",
              "      <td>5</td>\n",
              "      <td>1</td>\n",
              "      <td>2</td>\n",
              "      <td>4</td>\n",
              "      <td>2001</td>\n",
              "      <td>19</td>\n",
              "      <td>5</td>\n",
              "      <td>6</td>\n",
              "      <td>2</td>\n",
              "      <td>2</td>\n",
              "      <td>2</td>\n",
              "      <td>1</td>\n",
              "      <td></td>\n",
              "      <td></td>\n",
              "      <td></td>\n",
              "      <td></td>\n",
              "      <td></td>\n",
              "      <td></td>\n",
              "      <td></td>\n",
              "      <td></td>\n",
              "      <td></td>\n",
              "      <td></td>\n",
              "      <td>1</td>\n",
              "      <td></td>\n",
              "      <td>1</td>\n",
              "      <td></td>\n",
              "      <td></td>\n",
              "      <td>1</td>\n",
              "      <td>2</td>\n",
              "      <td>1</td>\n",
              "      <td>2</td>\n",
              "      <td></td>\n",
              "      <td>6</td>\n",
              "      <td>3</td>\n",
              "      <td></td>\n",
              "      <td>14</td>\n",
              "      <td>8</td>\n",
              "      <td>2</td>\n",
              "      <td>...</td>\n",
              "      <td></td>\n",
              "      <td></td>\n",
              "      <td></td>\n",
              "      <td></td>\n",
              "      <td></td>\n",
              "      <td></td>\n",
              "      <td></td>\n",
              "      <td></td>\n",
              "      <td></td>\n",
              "      <td></td>\n",
              "      <td></td>\n",
              "      <td></td>\n",
              "      <td></td>\n",
              "      <td></td>\n",
              "      <td></td>\n",
              "      <td>1000000.0</td>\n",
              "      <td></td>\n",
              "      <td></td>\n",
              "      <td></td>\n",
              "      <td>59.0</td>\n",
              "      <td></td>\n",
              "      <td>1.0</td>\n",
              "      <td>.</td>\n",
              "      <td>NaN</td>\n",
              "      <td>NaN</td>\n",
              "      <td>NaN</td>\n",
              "      <td>NaN</td>\n",
              "      <td>NaN</td>\n",
              "      <td>NaN</td>\n",
              "      <td>NaN</td>\n",
              "      <td>NaN</td>\n",
              "      <td>NaN</td>\n",
              "      <td>NaN</td>\n",
              "      <td>NaN</td>\n",
              "      <td>NaN</td>\n",
              "      <td>NaN</td>\n",
              "      <td>NaN</td>\n",
              "      <td>NaN</td>\n",
              "      <td>NaN</td>\n",
              "      <td>NaN</td>\n",
              "    </tr>\n",
              "    <tr>\n",
              "      <th>28961</th>\n",
              "      <td>5392562</td>\n",
              "      <td>1</td>\n",
              "      <td>6</td>\n",
              "      <td>1</td>\n",
              "      <td>2</td>\n",
              "      <td>6</td>\n",
              "      <td>1946</td>\n",
              "      <td>74</td>\n",
              "      <td>5</td>\n",
              "      <td>6</td>\n",
              "      <td>5</td>\n",
              "      <td>3</td>\n",
              "      <td>3</td>\n",
              "      <td></td>\n",
              "      <td></td>\n",
              "      <td></td>\n",
              "      <td></td>\n",
              "      <td></td>\n",
              "      <td></td>\n",
              "      <td></td>\n",
              "      <td></td>\n",
              "      <td></td>\n",
              "      <td></td>\n",
              "      <td></td>\n",
              "      <td>1</td>\n",
              "      <td></td>\n",
              "      <td>1</td>\n",
              "      <td></td>\n",
              "      <td></td>\n",
              "      <td>3</td>\n",
              "      <td>2</td>\n",
              "      <td>1</td>\n",
              "      <td>2</td>\n",
              "      <td></td>\n",
              "      <td>3</td>\n",
              "      <td></td>\n",
              "      <td></td>\n",
              "      <td>5</td>\n",
              "      <td>8</td>\n",
              "      <td></td>\n",
              "      <td>...</td>\n",
              "      <td>NaN</td>\n",
              "      <td>NaN</td>\n",
              "      <td>NaN</td>\n",
              "      <td>NaN</td>\n",
              "      <td>NaN</td>\n",
              "      <td>NaN</td>\n",
              "      <td>NaN</td>\n",
              "      <td>NaN</td>\n",
              "      <td>NaN</td>\n",
              "      <td>NaN</td>\n",
              "      <td>NaN</td>\n",
              "      <td>NaN</td>\n",
              "      <td>NaN</td>\n",
              "      <td>NaN</td>\n",
              "      <td>NaN</td>\n",
              "      <td>NaN</td>\n",
              "      <td>NaN</td>\n",
              "      <td>NaN</td>\n",
              "      <td>NaN</td>\n",
              "      <td>NaN</td>\n",
              "      <td>NaN</td>\n",
              "      <td>NaN</td>\n",
              "      <td>NaN</td>\n",
              "      <td>1.0</td>\n",
              "      <td>3</td>\n",
              "      <td></td>\n",
              "      <td>2</td>\n",
              "      <td></td>\n",
              "      <td></td>\n",
              "      <td>9</td>\n",
              "      <td></td>\n",
              "      <td>2</td>\n",
              "      <td></td>\n",
              "      <td>2.0</td>\n",
              "      <td></td>\n",
              "      <td></td>\n",
              "      <td></td>\n",
              "      <td></td>\n",
              "      <td>2</td>\n",
              "      <td>4</td>\n",
              "    </tr>\n",
              "  </tbody>\n",
              "</table>\n",
              "<p>28962 rows × 249 columns</p>\n",
              "</div>"
            ],
            "text/plain": [
              "       DIRECTORIO  SECUENCIA_P  ORDEN  HOGAR  ...  P1884   P1807 P6921  p7440\n",
              "0         5367062            1      1      1  ...         908000     2      3\n",
              "1         5367063            1      1      1  ...                    2      3\n",
              "2         5367063            1      2      1  ...    NaN     NaN   NaN    NaN\n",
              "3         5367063            1      3      1  ...    NaN     NaN   NaN    NaN\n",
              "4         5367063            1      4      1  ...    NaN     NaN   NaN    NaN\n",
              "...           ...          ...    ...    ...  ...    ...     ...   ...    ...\n",
              "28957     5392562            1      2      1  ...    NaN     NaN   NaN    NaN\n",
              "28958     5392562            1      3      1  ...                    2       \n",
              "28959     5392562            1      4      1  ...    NaN     NaN   NaN    NaN\n",
              "28960     5392562            1      5      1  ...    NaN     NaN   NaN    NaN\n",
              "28961     5392562            1      6      1  ...                    2      4\n",
              "\n",
              "[28962 rows x 249 columns]"
            ]
          },
          "metadata": {},
          "execution_count": 63
        }
      ]
    },
    {
      "cell_type": "code",
      "metadata": {
        "id": "151U2B77bYHk"
      },
      "source": [
        ""
      ],
      "execution_count": null,
      "outputs": []
    },
    {
      "cell_type": "markdown",
      "metadata": {
        "id": "-72oC7utb7Qh"
      },
      "source": [
        "#MARZO"
      ]
    },
    {
      "cell_type": "code",
      "metadata": {
        "id": "Xm8kw0Rvb6RX"
      },
      "source": [
        "import numpy as np\n",
        "import pandas as pd\n",
        "data_desocupados_marzo = pd.read_excel('/content/DESOCUPADOS MARZO.xlsx')\n",
        "data_ocupados_marzo = pd.read_excel('/content/OCUPADOS MARZO.xlsx')\n",
        "data_inactivos_marzo = pd.read_excel('/content/INACTIVOS MARZO.xlsx')\n",
        "data_fuerza_t_marzo = pd.read_excel('/content/FUERZA DE TRABAJO MARZO.xlsx')\n",
        "data_caracteristicas_marzo = pd.read_excel('/content/CARACTERISTICAS GENERALES MARZO.xlsx')"
      ],
      "execution_count": null,
      "outputs": []
    },
    {
      "cell_type": "code",
      "metadata": {
        "id": "s5fOCUXfcS9i"
      },
      "source": [
        "del data_desocupados_marzo['fex_c_2011']\n",
        "del data_ocupados_marzo['fex_c_2011']\n",
        "del data_inactivos_marzo['fex_c_2011']\n",
        "del data_fuerza_t_marzo['fex_c_2011']\n",
        "del data_caracteristicas_marzo['fex_c_2011']"
      ],
      "execution_count": null,
      "outputs": []
    },
    {
      "cell_type": "code",
      "metadata": {
        "id": "vOB4ngLSc0vF"
      },
      "source": [
        "del data_desocupados_marzo['AREA']\n",
        "del data_inactivos_marzo['AREA']\n",
        "del data_fuerza_t_marzo['AREA']\n",
        "del data_ocupados_marzo['AREA']\n",
        "del data_caracteristicas_marzo['AREA']"
      ],
      "execution_count": null,
      "outputs": []
    },
    {
      "cell_type": "code",
      "metadata": {
        "id": "fIkik4Qxc8-x"
      },
      "source": [
        "del data_ocupados_marzo['REGIS']\n",
        "del data_desocupados_marzo['REGIS']\n",
        "del data_inactivos_marzo['REGIS']\n",
        "del data_fuerza_t_marzo['REGIS']\n",
        "del data_caracteristicas_marzo['REGIS']"
      ],
      "execution_count": null,
      "outputs": []
    },
    {
      "cell_type": "code",
      "metadata": {
        "id": "6l0UgUnidH7p"
      },
      "source": [
        "del data_desocupados_marzo['DSI']\n",
        "del data_inactivos_marzo['INI']\n",
        "del data_fuerza_t_marzo['FT']\n",
        "del data_ocupados_marzo['OCI']"
      ],
      "execution_count": null,
      "outputs": []
    },
    {
      "cell_type": "code",
      "metadata": {
        "id": "iP4SBqbddN-8"
      },
      "source": [
        "del data_caracteristicas_marzo['P6016']\n",
        "del data_caracteristicas_marzo['P6080S1']\n",
        "del data_caracteristicas_marzo['P6081S1'] \n",
        "del data_caracteristicas_marzo['P6083S1'] \n",
        "del data_caracteristicas_marzo['P6071S1'] \n",
        "del data_caracteristicas_marzo['P3246']\n",
        "del data_caracteristicas_marzo['P6110'] \n",
        "del data_caracteristicas_marzo['P6120'] \n",
        "del data_caracteristicas_marzo['P6210S1'] \n"
      ],
      "execution_count": null,
      "outputs": []
    },
    {
      "cell_type": "code",
      "metadata": {
        "id": "3oJTbCEFdbSi"
      },
      "source": [
        "del data_caracteristicas_marzo['MES']\n",
        "del data_ocupados_marzo['MES']\n",
        "del data_desocupados_marzo['MES']\n",
        "del data_fuerza_t_marzo['MES']\n",
        "del data_inactivos_marzo['MES']\n"
      ],
      "execution_count": null,
      "outputs": []
    },
    {
      "cell_type": "code",
      "metadata": {
        "id": "n61SEFCVjuXh"
      },
      "source": [
        "del data_desocupados_marzo['P7280S1']\n",
        "del data_desocupados_marzo['P7350S1'] \n",
        "del data_desocupados_marzo['P7360']\n",
        "del data_desocupados_marzo['P7420']\n",
        "del data_desocupados_marzo['P7420S7A1']"
      ],
      "execution_count": null,
      "outputs": []
    },
    {
      "cell_type": "code",
      "metadata": {
        "id": "lCvY-C0Mjvwz"
      },
      "source": [
        "del data_ocupados_marzo['P6810S1']\n",
        "del data_ocupados_marzo['P6400']\n",
        "del data_ocupados_marzo['P6410']\n",
        "del data_ocupados_marzo['P6410S1'] \n",
        "del data_ocupados_marzo['P6590S1'] \n",
        "del data_ocupados_marzo['P6600S1'] \n"
      ],
      "execution_count": null,
      "outputs": []
    },
    {
      "cell_type": "code",
      "metadata": {
        "id": "vX4rGY_djvt0"
      },
      "source": [
        "del data_fuerza_t_marzo['P6230']"
      ],
      "execution_count": null,
      "outputs": []
    },
    {
      "cell_type": "code",
      "metadata": {
        "id": "xPYjXsDb2-j_"
      },
      "source": [
        "data_ocupados_marzo.insert(4,\"Estado\",\"Ocupados\")\n",
        "data_desocupados_marzo.insert(4,\"Estado\",\"Desocupados\")\n",
        "data_inactivos_marzo.insert(4,\"Estado\",\"Inactivos\")"
      ],
      "execution_count": null,
      "outputs": []
    },
    {
      "cell_type": "markdown",
      "metadata": {
        "id": "ROO9Zr6B2K5i"
      },
      "source": [
        "#DUPLICADOS MARZO"
      ]
    },
    {
      "cell_type": "code",
      "metadata": {
        "id": "xB3uWOHhjvqf"
      },
      "source": [
        "data_desocupados_marzo = data_desocupados_marzo.drop_duplicates()\n",
        "data_ocupados_marzo = data_ocupados_marzo.drop_duplicates()\n",
        "data_inactivos_marzo = data_inactivos_marzo.drop_duplicates()\n",
        "data_caracteristicas_marzo = data_caracteristicas_marzo.drop_duplicates()\n",
        "data_fuerza_t_marzo = data_fuerza_t_marzo.drop_duplicates()"
      ],
      "execution_count": null,
      "outputs": []
    },
    {
      "cell_type": "code",
      "metadata": {
        "colab": {
          "base_uri": "https://localhost:8080/"
        },
        "id": "er-fadIIjvmf",
        "outputId": "65db548c-e2fb-41d0-a17f-4c39a54210a8"
      },
      "source": [
        "data_desocupados_marzo.shape"
      ],
      "execution_count": null,
      "outputs": [
        {
          "output_type": "execute_result",
          "data": {
            "text/plain": [
              "(2296, 33)"
            ]
          },
          "metadata": {},
          "execution_count": 76
        }
      ]
    },
    {
      "cell_type": "code",
      "metadata": {
        "colab": {
          "base_uri": "https://localhost:8080/"
        },
        "id": "D5tEjE1_2iDW",
        "outputId": "55ecaeb9-a6d8-4db9-e241-a24bb23c600e"
      },
      "source": [
        "data_ocupados_marzo.shape"
      ],
      "execution_count": null,
      "outputs": [
        {
          "output_type": "execute_result",
          "data": {
            "text/plain": [
              "(12254, 155)"
            ]
          },
          "metadata": {},
          "execution_count": 77
        }
      ]
    },
    {
      "cell_type": "code",
      "metadata": {
        "colab": {
          "base_uri": "https://localhost:8080/"
        },
        "id": "qGfyiXgT2h7u",
        "outputId": "46713138-7ff9-459a-80e2-f2c1ab46b590"
      },
      "source": [
        "data_inactivos_marzo.shape"
      ],
      "execution_count": null,
      "outputs": [
        {
          "output_type": "execute_result",
          "data": {
            "text/plain": [
              "(9413, 23)"
            ]
          },
          "metadata": {},
          "execution_count": 78
        }
      ]
    },
    {
      "cell_type": "code",
      "metadata": {
        "colab": {
          "base_uri": "https://localhost:8080/"
        },
        "id": "HNApCHnC2hz3",
        "outputId": "9abe7277-9127-40b3-ac22-749f02907675"
      },
      "source": [
        "data_caracteristicas_marzo.shape"
      ],
      "execution_count": null,
      "outputs": [
        {
          "output_type": "execute_result",
          "data": {
            "text/plain": [
              "(28256, 39)"
            ]
          },
          "metadata": {},
          "execution_count": 79
        }
      ]
    },
    {
      "cell_type": "code",
      "metadata": {
        "colab": {
          "base_uri": "https://localhost:8080/"
        },
        "id": "CuTmqmXH2hr1",
        "outputId": "5b952bfa-15f7-4e4d-f072-ba1d713d6348"
      },
      "source": [
        "data_fuerza_t_marzo.shape"
      ],
      "execution_count": null,
      "outputs": [
        {
          "output_type": "execute_result",
          "data": {
            "text/plain": [
              "(23963, 21)"
            ]
          },
          "metadata": {},
          "execution_count": 80
        }
      ]
    },
    {
      "cell_type": "code",
      "metadata": {
        "id": "59EH9tnZ3BqI"
      },
      "source": [
        ""
      ],
      "execution_count": null,
      "outputs": []
    },
    {
      "cell_type": "markdown",
      "metadata": {
        "id": "yY6Ukrwh22w1"
      },
      "source": [
        "##CONCATENAR MARZO"
      ]
    },
    {
      "cell_type": "code",
      "metadata": {
        "id": "uZxa7rW32hib"
      },
      "source": [
        "dt2_marzo = pd.concat([data_ocupados_marzo, data_desocupados_marzo,data_inactivos_marzo])"
      ],
      "execution_count": null,
      "outputs": []
    },
    {
      "cell_type": "code",
      "metadata": {
        "id": "y6__cwPljviF"
      },
      "source": [
        "dt1_marzo = pd.merge(data_caracteristicas_marzo,data_fuerza_t_marzo,on = ['DIRECTORIO','SECUENCIA_P','ORDEN','HOGAR','DPTO'],how  = 'outer')"
      ],
      "execution_count": null,
      "outputs": []
    },
    {
      "cell_type": "code",
      "metadata": {
        "id": "UZ64U0eUjvdh"
      },
      "source": [
        "Base_marzo = pd.merge(dt1_marzo,dt2_marzo,how  = 'outer')"
      ],
      "execution_count": null,
      "outputs": []
    },
    {
      "cell_type": "code",
      "metadata": {
        "colab": {
          "base_uri": "https://localhost:8080/",
          "height": 439
        },
        "id": "cLo45URN3gy8",
        "outputId": "d469329e-7114-4fb5-d41d-a6136165206e"
      },
      "source": [
        "Base_marzo"
      ],
      "execution_count": null,
      "outputs": [
        {
          "output_type": "execute_result",
          "data": {
            "text/html": [
              "<div>\n",
              "<style scoped>\n",
              "    .dataframe tbody tr th:only-of-type {\n",
              "        vertical-align: middle;\n",
              "    }\n",
              "\n",
              "    .dataframe tbody tr th {\n",
              "        vertical-align: top;\n",
              "    }\n",
              "\n",
              "    .dataframe thead th {\n",
              "        text-align: right;\n",
              "    }\n",
              "</style>\n",
              "<table border=\"1\" class=\"dataframe\">\n",
              "  <thead>\n",
              "    <tr style=\"text-align: right;\">\n",
              "      <th></th>\n",
              "      <th>DIRECTORIO</th>\n",
              "      <th>SECUENCIA_P</th>\n",
              "      <th>ORDEN</th>\n",
              "      <th>HOGAR</th>\n",
              "      <th>P6020</th>\n",
              "      <th>P6030S1</th>\n",
              "      <th>P6030S3</th>\n",
              "      <th>P6040</th>\n",
              "      <th>P6050</th>\n",
              "      <th>P6080</th>\n",
              "      <th>P6070</th>\n",
              "      <th>P6081</th>\n",
              "      <th>P6083</th>\n",
              "      <th>P6071</th>\n",
              "      <th>P3147S1</th>\n",
              "      <th>P3147S2</th>\n",
              "      <th>P3147S3</th>\n",
              "      <th>P3147S4</th>\n",
              "      <th>P3147S5</th>\n",
              "      <th>P3147S6</th>\n",
              "      <th>P3147S7</th>\n",
              "      <th>P3147S8</th>\n",
              "      <th>P3147S9</th>\n",
              "      <th>P3147S10</th>\n",
              "      <th>P3147S11</th>\n",
              "      <th>P3147S10A1</th>\n",
              "      <th>P6090</th>\n",
              "      <th>P6140</th>\n",
              "      <th>P6150</th>\n",
              "      <th>P6100</th>\n",
              "      <th>P6125</th>\n",
              "      <th>P6160</th>\n",
              "      <th>P6170</th>\n",
              "      <th>P6175</th>\n",
              "      <th>P6210</th>\n",
              "      <th>P6220</th>\n",
              "      <th>P6269</th>\n",
              "      <th>ESC</th>\n",
              "      <th>DPTO</th>\n",
              "      <th>P6290</th>\n",
              "      <th>...</th>\n",
              "      <th>P7320</th>\n",
              "      <th>P7350</th>\n",
              "      <th>P9460</th>\n",
              "      <th>P7390</th>\n",
              "      <th>P7390S1</th>\n",
              "      <th>P7420S1</th>\n",
              "      <th>P7420S2</th>\n",
              "      <th>P7420S3</th>\n",
              "      <th>P7420S4</th>\n",
              "      <th>P7420S5</th>\n",
              "      <th>P7420S6</th>\n",
              "      <th>P7420S7</th>\n",
              "      <th>P7420S8</th>\n",
              "      <th>P7422</th>\n",
              "      <th>P7422S1</th>\n",
              "      <th>P1806</th>\n",
              "      <th>P1519</th>\n",
              "      <th>P1883</th>\n",
              "      <th>RAMA2D_D_R4</th>\n",
              "      <th>OFICIO1</th>\n",
              "      <th>OFICIO2</th>\n",
              "      <th>DSCY</th>\n",
              "      <th>RAMA4D_D_R4</th>\n",
              "      <th>P7430</th>\n",
              "      <th>P7450</th>\n",
              "      <th>P7450S1</th>\n",
              "      <th>P7452</th>\n",
              "      <th>P7454</th>\n",
              "      <th>P7456</th>\n",
              "      <th>P7458</th>\n",
              "      <th>P7458S1</th>\n",
              "      <th>P7460</th>\n",
              "      <th>P7470</th>\n",
              "      <th>P7472</th>\n",
              "      <th>P7472S1</th>\n",
              "      <th>P744</th>\n",
              "      <th>P1884</th>\n",
              "      <th>P1807</th>\n",
              "      <th>P6921</th>\n",
              "      <th>p7440</th>\n",
              "    </tr>\n",
              "  </thead>\n",
              "  <tbody>\n",
              "    <tr>\n",
              "      <th>0</th>\n",
              "      <td>5392695</td>\n",
              "      <td>1</td>\n",
              "      <td>1</td>\n",
              "      <td>1</td>\n",
              "      <td>1</td>\n",
              "      <td>1</td>\n",
              "      <td>1997</td>\n",
              "      <td>24</td>\n",
              "      <td>1</td>\n",
              "      <td>6</td>\n",
              "      <td>6</td>\n",
              "      <td>2</td>\n",
              "      <td>2</td>\n",
              "      <td></td>\n",
              "      <td>1</td>\n",
              "      <td></td>\n",
              "      <td></td>\n",
              "      <td></td>\n",
              "      <td></td>\n",
              "      <td></td>\n",
              "      <td></td>\n",
              "      <td></td>\n",
              "      <td></td>\n",
              "      <td></td>\n",
              "      <td></td>\n",
              "      <td></td>\n",
              "      <td>1</td>\n",
              "      <td></td>\n",
              "      <td></td>\n",
              "      <td>1</td>\n",
              "      <td>2</td>\n",
              "      <td>1</td>\n",
              "      <td>2</td>\n",
              "      <td></td>\n",
              "      <td>6</td>\n",
              "      <td>4</td>\n",
              "      <td></td>\n",
              "      <td>16</td>\n",
              "      <td>17</td>\n",
              "      <td></td>\n",
              "      <td>...</td>\n",
              "      <td>NaN</td>\n",
              "      <td>NaN</td>\n",
              "      <td>NaN</td>\n",
              "      <td>NaN</td>\n",
              "      <td>NaN</td>\n",
              "      <td>NaN</td>\n",
              "      <td>NaN</td>\n",
              "      <td>NaN</td>\n",
              "      <td>NaN</td>\n",
              "      <td>NaN</td>\n",
              "      <td>NaN</td>\n",
              "      <td>NaN</td>\n",
              "      <td>NaN</td>\n",
              "      <td>NaN</td>\n",
              "      <td>NaN</td>\n",
              "      <td>NaN</td>\n",
              "      <td>NaN</td>\n",
              "      <td>NaN</td>\n",
              "      <td>NaN</td>\n",
              "      <td>NaN</td>\n",
              "      <td>NaN</td>\n",
              "      <td>NaN</td>\n",
              "      <td>NaN</td>\n",
              "      <td>NaN</td>\n",
              "      <td>NaN</td>\n",
              "      <td>NaN</td>\n",
              "      <td>NaN</td>\n",
              "      <td>NaN</td>\n",
              "      <td>NaN</td>\n",
              "      <td>NaN</td>\n",
              "      <td>NaN</td>\n",
              "      <td>NaN</td>\n",
              "      <td>NaN</td>\n",
              "      <td>NaN</td>\n",
              "      <td>NaN</td>\n",
              "      <td>NaN</td>\n",
              "      <td>NaN</td>\n",
              "      <td>NaN</td>\n",
              "      <td>NaN</td>\n",
              "      <td>NaN</td>\n",
              "    </tr>\n",
              "    <tr>\n",
              "      <th>1</th>\n",
              "      <td>5392695</td>\n",
              "      <td>1</td>\n",
              "      <td>2</td>\n",
              "      <td>1</td>\n",
              "      <td>1</td>\n",
              "      <td>5</td>\n",
              "      <td>2001</td>\n",
              "      <td>19</td>\n",
              "      <td>5</td>\n",
              "      <td>6</td>\n",
              "      <td>6</td>\n",
              "      <td>2</td>\n",
              "      <td>2</td>\n",
              "      <td></td>\n",
              "      <td>1</td>\n",
              "      <td></td>\n",
              "      <td></td>\n",
              "      <td></td>\n",
              "      <td></td>\n",
              "      <td></td>\n",
              "      <td></td>\n",
              "      <td></td>\n",
              "      <td></td>\n",
              "      <td></td>\n",
              "      <td></td>\n",
              "      <td></td>\n",
              "      <td>1</td>\n",
              "      <td></td>\n",
              "      <td></td>\n",
              "      <td>1</td>\n",
              "      <td>2</td>\n",
              "      <td>1</td>\n",
              "      <td>1</td>\n",
              "      <td>2</td>\n",
              "      <td>6</td>\n",
              "      <td>2</td>\n",
              "      <td>2</td>\n",
              "      <td>11</td>\n",
              "      <td>17</td>\n",
              "      <td></td>\n",
              "      <td>...</td>\n",
              "      <td>NaN</td>\n",
              "      <td>NaN</td>\n",
              "      <td>NaN</td>\n",
              "      <td>NaN</td>\n",
              "      <td>NaN</td>\n",
              "      <td>NaN</td>\n",
              "      <td>NaN</td>\n",
              "      <td>NaN</td>\n",
              "      <td>NaN</td>\n",
              "      <td>NaN</td>\n",
              "      <td>NaN</td>\n",
              "      <td>NaN</td>\n",
              "      <td>NaN</td>\n",
              "      <td>NaN</td>\n",
              "      <td>NaN</td>\n",
              "      <td>NaN</td>\n",
              "      <td>NaN</td>\n",
              "      <td>NaN</td>\n",
              "      <td>NaN</td>\n",
              "      <td>NaN</td>\n",
              "      <td>NaN</td>\n",
              "      <td>NaN</td>\n",
              "      <td>NaN</td>\n",
              "      <td>2.0</td>\n",
              "      <td></td>\n",
              "      <td></td>\n",
              "      <td></td>\n",
              "      <td>2</td>\n",
              "      <td></td>\n",
              "      <td></td>\n",
              "      <td>.</td>\n",
              "      <td>2</td>\n",
              "      <td></td>\n",
              "      <td>2.0</td>\n",
              "      <td></td>\n",
              "      <td></td>\n",
              "      <td></td>\n",
              "      <td></td>\n",
              "      <td>2</td>\n",
              "      <td></td>\n",
              "    </tr>\n",
              "    <tr>\n",
              "      <th>2</th>\n",
              "      <td>5392696</td>\n",
              "      <td>1</td>\n",
              "      <td>1</td>\n",
              "      <td>1</td>\n",
              "      <td>1</td>\n",
              "      <td>3</td>\n",
              "      <td>1982</td>\n",
              "      <td>38</td>\n",
              "      <td>1</td>\n",
              "      <td>6</td>\n",
              "      <td>2</td>\n",
              "      <td>2</td>\n",
              "      <td>2</td>\n",
              "      <td>1</td>\n",
              "      <td></td>\n",
              "      <td></td>\n",
              "      <td></td>\n",
              "      <td></td>\n",
              "      <td></td>\n",
              "      <td></td>\n",
              "      <td></td>\n",
              "      <td></td>\n",
              "      <td></td>\n",
              "      <td></td>\n",
              "      <td>1</td>\n",
              "      <td></td>\n",
              "      <td>1</td>\n",
              "      <td></td>\n",
              "      <td></td>\n",
              "      <td>1</td>\n",
              "      <td>2</td>\n",
              "      <td>1</td>\n",
              "      <td>2</td>\n",
              "      <td></td>\n",
              "      <td>5</td>\n",
              "      <td>2</td>\n",
              "      <td></td>\n",
              "      <td>11</td>\n",
              "      <td>17</td>\n",
              "      <td></td>\n",
              "      <td>...</td>\n",
              "      <td>NaN</td>\n",
              "      <td>NaN</td>\n",
              "      <td>NaN</td>\n",
              "      <td>NaN</td>\n",
              "      <td>NaN</td>\n",
              "      <td>NaN</td>\n",
              "      <td>NaN</td>\n",
              "      <td>NaN</td>\n",
              "      <td>NaN</td>\n",
              "      <td>NaN</td>\n",
              "      <td>NaN</td>\n",
              "      <td>NaN</td>\n",
              "      <td>NaN</td>\n",
              "      <td>NaN</td>\n",
              "      <td>NaN</td>\n",
              "      <td>NaN</td>\n",
              "      <td>NaN</td>\n",
              "      <td>NaN</td>\n",
              "      <td>NaN</td>\n",
              "      <td>NaN</td>\n",
              "      <td>NaN</td>\n",
              "      <td>NaN</td>\n",
              "      <td>NaN</td>\n",
              "      <td>NaN</td>\n",
              "      <td>NaN</td>\n",
              "      <td>NaN</td>\n",
              "      <td>NaN</td>\n",
              "      <td>NaN</td>\n",
              "      <td>NaN</td>\n",
              "      <td>NaN</td>\n",
              "      <td>NaN</td>\n",
              "      <td>NaN</td>\n",
              "      <td>NaN</td>\n",
              "      <td>NaN</td>\n",
              "      <td>NaN</td>\n",
              "      <td>NaN</td>\n",
              "      <td>NaN</td>\n",
              "      <td>NaN</td>\n",
              "      <td>NaN</td>\n",
              "      <td>NaN</td>\n",
              "    </tr>\n",
              "    <tr>\n",
              "      <th>3</th>\n",
              "      <td>5392696</td>\n",
              "      <td>1</td>\n",
              "      <td>2</td>\n",
              "      <td>1</td>\n",
              "      <td>2</td>\n",
              "      <td>3</td>\n",
              "      <td>1976</td>\n",
              "      <td>44</td>\n",
              "      <td>2</td>\n",
              "      <td>6</td>\n",
              "      <td>2</td>\n",
              "      <td>1</td>\n",
              "      <td>3</td>\n",
              "      <td>1</td>\n",
              "      <td></td>\n",
              "      <td></td>\n",
              "      <td></td>\n",
              "      <td></td>\n",
              "      <td></td>\n",
              "      <td></td>\n",
              "      <td></td>\n",
              "      <td></td>\n",
              "      <td></td>\n",
              "      <td></td>\n",
              "      <td>1</td>\n",
              "      <td></td>\n",
              "      <td>1</td>\n",
              "      <td></td>\n",
              "      <td></td>\n",
              "      <td>1</td>\n",
              "      <td>2</td>\n",
              "      <td>1</td>\n",
              "      <td>2</td>\n",
              "      <td></td>\n",
              "      <td>4</td>\n",
              "      <td></td>\n",
              "      <td></td>\n",
              "      <td>7</td>\n",
              "      <td>17</td>\n",
              "      <td></td>\n",
              "      <td>...</td>\n",
              "      <td>NaN</td>\n",
              "      <td>NaN</td>\n",
              "      <td>NaN</td>\n",
              "      <td>NaN</td>\n",
              "      <td>NaN</td>\n",
              "      <td>NaN</td>\n",
              "      <td>NaN</td>\n",
              "      <td>NaN</td>\n",
              "      <td>NaN</td>\n",
              "      <td>NaN</td>\n",
              "      <td>NaN</td>\n",
              "      <td>NaN</td>\n",
              "      <td>NaN</td>\n",
              "      <td>NaN</td>\n",
              "      <td>NaN</td>\n",
              "      <td>NaN</td>\n",
              "      <td>NaN</td>\n",
              "      <td>NaN</td>\n",
              "      <td>NaN</td>\n",
              "      <td>NaN</td>\n",
              "      <td>NaN</td>\n",
              "      <td>NaN</td>\n",
              "      <td>NaN</td>\n",
              "      <td>2.0</td>\n",
              "      <td></td>\n",
              "      <td></td>\n",
              "      <td></td>\n",
              "      <td>2</td>\n",
              "      <td></td>\n",
              "      <td></td>\n",
              "      <td>.</td>\n",
              "      <td>2</td>\n",
              "      <td></td>\n",
              "      <td>2.0</td>\n",
              "      <td></td>\n",
              "      <td></td>\n",
              "      <td></td>\n",
              "      <td></td>\n",
              "      <td>2</td>\n",
              "      <td></td>\n",
              "    </tr>\n",
              "    <tr>\n",
              "      <th>4</th>\n",
              "      <td>5392696</td>\n",
              "      <td>1</td>\n",
              "      <td>3</td>\n",
              "      <td>1</td>\n",
              "      <td>2</td>\n",
              "      <td>7</td>\n",
              "      <td>1999</td>\n",
              "      <td>21</td>\n",
              "      <td>3</td>\n",
              "      <td>6</td>\n",
              "      <td>6</td>\n",
              "      <td>2</td>\n",
              "      <td>1</td>\n",
              "      <td></td>\n",
              "      <td></td>\n",
              "      <td></td>\n",
              "      <td></td>\n",
              "      <td></td>\n",
              "      <td></td>\n",
              "      <td></td>\n",
              "      <td></td>\n",
              "      <td></td>\n",
              "      <td></td>\n",
              "      <td></td>\n",
              "      <td>1</td>\n",
              "      <td></td>\n",
              "      <td>1</td>\n",
              "      <td></td>\n",
              "      <td></td>\n",
              "      <td>1</td>\n",
              "      <td>2</td>\n",
              "      <td>1</td>\n",
              "      <td>2</td>\n",
              "      <td></td>\n",
              "      <td>6</td>\n",
              "      <td>3</td>\n",
              "      <td></td>\n",
              "      <td>13</td>\n",
              "      <td>17</td>\n",
              "      <td></td>\n",
              "      <td>...</td>\n",
              "      <td>NaN</td>\n",
              "      <td>NaN</td>\n",
              "      <td>NaN</td>\n",
              "      <td>NaN</td>\n",
              "      <td>NaN</td>\n",
              "      <td>NaN</td>\n",
              "      <td>NaN</td>\n",
              "      <td>NaN</td>\n",
              "      <td>NaN</td>\n",
              "      <td>NaN</td>\n",
              "      <td>NaN</td>\n",
              "      <td>NaN</td>\n",
              "      <td>NaN</td>\n",
              "      <td>NaN</td>\n",
              "      <td>NaN</td>\n",
              "      <td>NaN</td>\n",
              "      <td>NaN</td>\n",
              "      <td>NaN</td>\n",
              "      <td>NaN</td>\n",
              "      <td>NaN</td>\n",
              "      <td>NaN</td>\n",
              "      <td>NaN</td>\n",
              "      <td>NaN</td>\n",
              "      <td>NaN</td>\n",
              "      <td>NaN</td>\n",
              "      <td>NaN</td>\n",
              "      <td>NaN</td>\n",
              "      <td>NaN</td>\n",
              "      <td>NaN</td>\n",
              "      <td>NaN</td>\n",
              "      <td>NaN</td>\n",
              "      <td>NaN</td>\n",
              "      <td>NaN</td>\n",
              "      <td>NaN</td>\n",
              "      <td>NaN</td>\n",
              "      <td>NaN</td>\n",
              "      <td>NaN</td>\n",
              "      <td>NaN</td>\n",
              "      <td>NaN</td>\n",
              "      <td>NaN</td>\n",
              "    </tr>\n",
              "    <tr>\n",
              "      <th>...</th>\n",
              "      <td>...</td>\n",
              "      <td>...</td>\n",
              "      <td>...</td>\n",
              "      <td>...</td>\n",
              "      <td>...</td>\n",
              "      <td>...</td>\n",
              "      <td>...</td>\n",
              "      <td>...</td>\n",
              "      <td>...</td>\n",
              "      <td>...</td>\n",
              "      <td>...</td>\n",
              "      <td>...</td>\n",
              "      <td>...</td>\n",
              "      <td>...</td>\n",
              "      <td>...</td>\n",
              "      <td>...</td>\n",
              "      <td>...</td>\n",
              "      <td>...</td>\n",
              "      <td>...</td>\n",
              "      <td>...</td>\n",
              "      <td>...</td>\n",
              "      <td>...</td>\n",
              "      <td>...</td>\n",
              "      <td>...</td>\n",
              "      <td>...</td>\n",
              "      <td>...</td>\n",
              "      <td>...</td>\n",
              "      <td>...</td>\n",
              "      <td>...</td>\n",
              "      <td>...</td>\n",
              "      <td>...</td>\n",
              "      <td>...</td>\n",
              "      <td>...</td>\n",
              "      <td>...</td>\n",
              "      <td>...</td>\n",
              "      <td>...</td>\n",
              "      <td>...</td>\n",
              "      <td>...</td>\n",
              "      <td>...</td>\n",
              "      <td>...</td>\n",
              "      <td>...</td>\n",
              "      <td>...</td>\n",
              "      <td>...</td>\n",
              "      <td>...</td>\n",
              "      <td>...</td>\n",
              "      <td>...</td>\n",
              "      <td>...</td>\n",
              "      <td>...</td>\n",
              "      <td>...</td>\n",
              "      <td>...</td>\n",
              "      <td>...</td>\n",
              "      <td>...</td>\n",
              "      <td>...</td>\n",
              "      <td>...</td>\n",
              "      <td>...</td>\n",
              "      <td>...</td>\n",
              "      <td>...</td>\n",
              "      <td>...</td>\n",
              "      <td>...</td>\n",
              "      <td>...</td>\n",
              "      <td>...</td>\n",
              "      <td>...</td>\n",
              "      <td>...</td>\n",
              "      <td>...</td>\n",
              "      <td>...</td>\n",
              "      <td>...</td>\n",
              "      <td>...</td>\n",
              "      <td>...</td>\n",
              "      <td>...</td>\n",
              "      <td>...</td>\n",
              "      <td>...</td>\n",
              "      <td>...</td>\n",
              "      <td>...</td>\n",
              "      <td>...</td>\n",
              "      <td>...</td>\n",
              "      <td>...</td>\n",
              "      <td>...</td>\n",
              "      <td>...</td>\n",
              "      <td>...</td>\n",
              "      <td>...</td>\n",
              "      <td>...</td>\n",
              "    </tr>\n",
              "    <tr>\n",
              "      <th>28251</th>\n",
              "      <td>5418236</td>\n",
              "      <td>1</td>\n",
              "      <td>1</td>\n",
              "      <td>1</td>\n",
              "      <td>2</td>\n",
              "      <td>12</td>\n",
              "      <td>1954</td>\n",
              "      <td>66</td>\n",
              "      <td>1</td>\n",
              "      <td>6</td>\n",
              "      <td>4</td>\n",
              "      <td>3</td>\n",
              "      <td>3</td>\n",
              "      <td></td>\n",
              "      <td></td>\n",
              "      <td></td>\n",
              "      <td></td>\n",
              "      <td></td>\n",
              "      <td></td>\n",
              "      <td></td>\n",
              "      <td></td>\n",
              "      <td></td>\n",
              "      <td></td>\n",
              "      <td></td>\n",
              "      <td>1</td>\n",
              "      <td></td>\n",
              "      <td>1</td>\n",
              "      <td></td>\n",
              "      <td></td>\n",
              "      <td>1</td>\n",
              "      <td>2</td>\n",
              "      <td>1</td>\n",
              "      <td>2</td>\n",
              "      <td></td>\n",
              "      <td>5</td>\n",
              "      <td>2</td>\n",
              "      <td></td>\n",
              "      <td>11</td>\n",
              "      <td>66</td>\n",
              "      <td></td>\n",
              "      <td>...</td>\n",
              "      <td>NaN</td>\n",
              "      <td>NaN</td>\n",
              "      <td>NaN</td>\n",
              "      <td>NaN</td>\n",
              "      <td>NaN</td>\n",
              "      <td>NaN</td>\n",
              "      <td>NaN</td>\n",
              "      <td>NaN</td>\n",
              "      <td>NaN</td>\n",
              "      <td>NaN</td>\n",
              "      <td>NaN</td>\n",
              "      <td>NaN</td>\n",
              "      <td>NaN</td>\n",
              "      <td>NaN</td>\n",
              "      <td>NaN</td>\n",
              "      <td>NaN</td>\n",
              "      <td>NaN</td>\n",
              "      <td>NaN</td>\n",
              "      <td>NaN</td>\n",
              "      <td>NaN</td>\n",
              "      <td>NaN</td>\n",
              "      <td>NaN</td>\n",
              "      <td>NaN</td>\n",
              "      <td>1.0</td>\n",
              "      <td>5</td>\n",
              "      <td></td>\n",
              "      <td>2</td>\n",
              "      <td></td>\n",
              "      <td></td>\n",
              "      <td>10</td>\n",
              "      <td></td>\n",
              "      <td>3</td>\n",
              "      <td></td>\n",
              "      <td>2.0</td>\n",
              "      <td></td>\n",
              "      <td></td>\n",
              "      <td></td>\n",
              "      <td></td>\n",
              "      <td>3</td>\n",
              "      <td>3</td>\n",
              "    </tr>\n",
              "    <tr>\n",
              "      <th>28252</th>\n",
              "      <td>5418236</td>\n",
              "      <td>1</td>\n",
              "      <td>2</td>\n",
              "      <td>1</td>\n",
              "      <td>1</td>\n",
              "      <td>5</td>\n",
              "      <td>1991</td>\n",
              "      <td>29</td>\n",
              "      <td>3</td>\n",
              "      <td>6</td>\n",
              "      <td>6</td>\n",
              "      <td>2</td>\n",
              "      <td>1</td>\n",
              "      <td></td>\n",
              "      <td></td>\n",
              "      <td></td>\n",
              "      <td></td>\n",
              "      <td></td>\n",
              "      <td></td>\n",
              "      <td></td>\n",
              "      <td></td>\n",
              "      <td></td>\n",
              "      <td></td>\n",
              "      <td></td>\n",
              "      <td>1</td>\n",
              "      <td></td>\n",
              "      <td>1</td>\n",
              "      <td></td>\n",
              "      <td></td>\n",
              "      <td>1</td>\n",
              "      <td>2</td>\n",
              "      <td>1</td>\n",
              "      <td>2</td>\n",
              "      <td></td>\n",
              "      <td>5</td>\n",
              "      <td>2</td>\n",
              "      <td></td>\n",
              "      <td>11</td>\n",
              "      <td>66</td>\n",
              "      <td></td>\n",
              "      <td>...</td>\n",
              "      <td>NaN</td>\n",
              "      <td>NaN</td>\n",
              "      <td>NaN</td>\n",
              "      <td>NaN</td>\n",
              "      <td>NaN</td>\n",
              "      <td>NaN</td>\n",
              "      <td>NaN</td>\n",
              "      <td>NaN</td>\n",
              "      <td>NaN</td>\n",
              "      <td>NaN</td>\n",
              "      <td>NaN</td>\n",
              "      <td>NaN</td>\n",
              "      <td>NaN</td>\n",
              "      <td>NaN</td>\n",
              "      <td>NaN</td>\n",
              "      <td>NaN</td>\n",
              "      <td>NaN</td>\n",
              "      <td>NaN</td>\n",
              "      <td>NaN</td>\n",
              "      <td>NaN</td>\n",
              "      <td>NaN</td>\n",
              "      <td>NaN</td>\n",
              "      <td>NaN</td>\n",
              "      <td>NaN</td>\n",
              "      <td>NaN</td>\n",
              "      <td>NaN</td>\n",
              "      <td>NaN</td>\n",
              "      <td>NaN</td>\n",
              "      <td>NaN</td>\n",
              "      <td>NaN</td>\n",
              "      <td>NaN</td>\n",
              "      <td>NaN</td>\n",
              "      <td>NaN</td>\n",
              "      <td>NaN</td>\n",
              "      <td>NaN</td>\n",
              "      <td>NaN</td>\n",
              "      <td>NaN</td>\n",
              "      <td>NaN</td>\n",
              "      <td>NaN</td>\n",
              "      <td>NaN</td>\n",
              "    </tr>\n",
              "    <tr>\n",
              "      <th>28253</th>\n",
              "      <td>5418236</td>\n",
              "      <td>1</td>\n",
              "      <td>3</td>\n",
              "      <td>1</td>\n",
              "      <td>2</td>\n",
              "      <td>1</td>\n",
              "      <td>1970</td>\n",
              "      <td>51</td>\n",
              "      <td>5</td>\n",
              "      <td>6</td>\n",
              "      <td>4</td>\n",
              "      <td>3</td>\n",
              "      <td>3</td>\n",
              "      <td></td>\n",
              "      <td></td>\n",
              "      <td></td>\n",
              "      <td></td>\n",
              "      <td></td>\n",
              "      <td></td>\n",
              "      <td></td>\n",
              "      <td></td>\n",
              "      <td></td>\n",
              "      <td></td>\n",
              "      <td></td>\n",
              "      <td>1</td>\n",
              "      <td></td>\n",
              "      <td>1</td>\n",
              "      <td></td>\n",
              "      <td></td>\n",
              "      <td>1</td>\n",
              "      <td>2</td>\n",
              "      <td>1</td>\n",
              "      <td>2</td>\n",
              "      <td></td>\n",
              "      <td>4</td>\n",
              "      <td></td>\n",
              "      <td></td>\n",
              "      <td>6</td>\n",
              "      <td>66</td>\n",
              "      <td></td>\n",
              "      <td>...</td>\n",
              "      <td>NaN</td>\n",
              "      <td>NaN</td>\n",
              "      <td>NaN</td>\n",
              "      <td>NaN</td>\n",
              "      <td>NaN</td>\n",
              "      <td>NaN</td>\n",
              "      <td>NaN</td>\n",
              "      <td>NaN</td>\n",
              "      <td>NaN</td>\n",
              "      <td>NaN</td>\n",
              "      <td>NaN</td>\n",
              "      <td>NaN</td>\n",
              "      <td>NaN</td>\n",
              "      <td>NaN</td>\n",
              "      <td>NaN</td>\n",
              "      <td>NaN</td>\n",
              "      <td>NaN</td>\n",
              "      <td>NaN</td>\n",
              "      <td>NaN</td>\n",
              "      <td>NaN</td>\n",
              "      <td>NaN</td>\n",
              "      <td>NaN</td>\n",
              "      <td>NaN</td>\n",
              "      <td>NaN</td>\n",
              "      <td>NaN</td>\n",
              "      <td>NaN</td>\n",
              "      <td>NaN</td>\n",
              "      <td>NaN</td>\n",
              "      <td>NaN</td>\n",
              "      <td>NaN</td>\n",
              "      <td>NaN</td>\n",
              "      <td>NaN</td>\n",
              "      <td>NaN</td>\n",
              "      <td>NaN</td>\n",
              "      <td>NaN</td>\n",
              "      <td>NaN</td>\n",
              "      <td>NaN</td>\n",
              "      <td>NaN</td>\n",
              "      <td>NaN</td>\n",
              "      <td>NaN</td>\n",
              "    </tr>\n",
              "    <tr>\n",
              "      <th>28254</th>\n",
              "      <td>5418237</td>\n",
              "      <td>1</td>\n",
              "      <td>1</td>\n",
              "      <td>1</td>\n",
              "      <td>2</td>\n",
              "      <td>9</td>\n",
              "      <td>1976</td>\n",
              "      <td>44</td>\n",
              "      <td>1</td>\n",
              "      <td>6</td>\n",
              "      <td>6</td>\n",
              "      <td>3</td>\n",
              "      <td>1</td>\n",
              "      <td></td>\n",
              "      <td></td>\n",
              "      <td>1</td>\n",
              "      <td>1</td>\n",
              "      <td></td>\n",
              "      <td></td>\n",
              "      <td></td>\n",
              "      <td>1</td>\n",
              "      <td></td>\n",
              "      <td></td>\n",
              "      <td></td>\n",
              "      <td></td>\n",
              "      <td></td>\n",
              "      <td>1</td>\n",
              "      <td></td>\n",
              "      <td></td>\n",
              "      <td>3</td>\n",
              "      <td>2</td>\n",
              "      <td>1</td>\n",
              "      <td>2</td>\n",
              "      <td></td>\n",
              "      <td>5</td>\n",
              "      <td>2</td>\n",
              "      <td></td>\n",
              "      <td>11</td>\n",
              "      <td>66</td>\n",
              "      <td>2</td>\n",
              "      <td>...</td>\n",
              "      <td>8</td>\n",
              "      <td>1</td>\n",
              "      <td>2</td>\n",
              "      <td>8</td>\n",
              "      <td></td>\n",
              "      <td></td>\n",
              "      <td></td>\n",
              "      <td></td>\n",
              "      <td></td>\n",
              "      <td></td>\n",
              "      <td></td>\n",
              "      <td></td>\n",
              "      <td>1</td>\n",
              "      <td>2</td>\n",
              "      <td></td>\n",
              "      <td>1000000.0</td>\n",
              "      <td>2</td>\n",
              "      <td></td>\n",
              "      <td>14</td>\n",
              "      <td>79.0</td>\n",
              "      <td>79</td>\n",
              "      <td>1.0</td>\n",
              "      <td>1410</td>\n",
              "      <td>NaN</td>\n",
              "      <td>NaN</td>\n",
              "      <td>NaN</td>\n",
              "      <td>NaN</td>\n",
              "      <td>NaN</td>\n",
              "      <td>NaN</td>\n",
              "      <td>NaN</td>\n",
              "      <td>NaN</td>\n",
              "      <td>NaN</td>\n",
              "      <td>NaN</td>\n",
              "      <td>NaN</td>\n",
              "      <td>NaN</td>\n",
              "      <td>NaN</td>\n",
              "      <td>NaN</td>\n",
              "      <td>NaN</td>\n",
              "      <td>NaN</td>\n",
              "      <td>NaN</td>\n",
              "    </tr>\n",
              "    <tr>\n",
              "      <th>28255</th>\n",
              "      <td>5418237</td>\n",
              "      <td>1</td>\n",
              "      <td>2</td>\n",
              "      <td>1</td>\n",
              "      <td>2</td>\n",
              "      <td>12</td>\n",
              "      <td>1947</td>\n",
              "      <td>73</td>\n",
              "      <td>5</td>\n",
              "      <td>6</td>\n",
              "      <td>5</td>\n",
              "      <td>3</td>\n",
              "      <td>3</td>\n",
              "      <td></td>\n",
              "      <td></td>\n",
              "      <td></td>\n",
              "      <td>1</td>\n",
              "      <td>1</td>\n",
              "      <td></td>\n",
              "      <td></td>\n",
              "      <td></td>\n",
              "      <td></td>\n",
              "      <td>1</td>\n",
              "      <td></td>\n",
              "      <td></td>\n",
              "      <td></td>\n",
              "      <td>1</td>\n",
              "      <td></td>\n",
              "      <td></td>\n",
              "      <td>1</td>\n",
              "      <td>2</td>\n",
              "      <td>1</td>\n",
              "      <td>2</td>\n",
              "      <td></td>\n",
              "      <td>3</td>\n",
              "      <td></td>\n",
              "      <td></td>\n",
              "      <td>2</td>\n",
              "      <td>66</td>\n",
              "      <td></td>\n",
              "      <td>...</td>\n",
              "      <td>NaN</td>\n",
              "      <td>NaN</td>\n",
              "      <td>NaN</td>\n",
              "      <td>NaN</td>\n",
              "      <td>NaN</td>\n",
              "      <td>NaN</td>\n",
              "      <td>NaN</td>\n",
              "      <td>NaN</td>\n",
              "      <td>NaN</td>\n",
              "      <td>NaN</td>\n",
              "      <td>NaN</td>\n",
              "      <td>NaN</td>\n",
              "      <td>NaN</td>\n",
              "      <td>NaN</td>\n",
              "      <td>NaN</td>\n",
              "      <td>NaN</td>\n",
              "      <td>NaN</td>\n",
              "      <td>NaN</td>\n",
              "      <td>NaN</td>\n",
              "      <td>NaN</td>\n",
              "      <td>NaN</td>\n",
              "      <td>NaN</td>\n",
              "      <td>NaN</td>\n",
              "      <td>1.0</td>\n",
              "      <td>5</td>\n",
              "      <td></td>\n",
              "      <td>2</td>\n",
              "      <td></td>\n",
              "      <td></td>\n",
              "      <td>10</td>\n",
              "      <td></td>\n",
              "      <td>3</td>\n",
              "      <td></td>\n",
              "      <td>2.0</td>\n",
              "      <td></td>\n",
              "      <td></td>\n",
              "      <td></td>\n",
              "      <td></td>\n",
              "      <td>3</td>\n",
              "      <td>4</td>\n",
              "    </tr>\n",
              "  </tbody>\n",
              "</table>\n",
              "<p>28256 rows × 249 columns</p>\n",
              "</div>"
            ],
            "text/plain": [
              "       DIRECTORIO  SECUENCIA_P  ORDEN  HOGAR  ...  P1884 P1807 P6921  p7440\n",
              "0         5392695            1      1      1  ...    NaN   NaN   NaN    NaN\n",
              "1         5392695            1      2      1  ...                  2       \n",
              "2         5392696            1      1      1  ...    NaN   NaN   NaN    NaN\n",
              "3         5392696            1      2      1  ...                  2       \n",
              "4         5392696            1      3      1  ...    NaN   NaN   NaN    NaN\n",
              "...           ...          ...    ...    ...  ...    ...   ...   ...    ...\n",
              "28251     5418236            1      1      1  ...                  3      3\n",
              "28252     5418236            1      2      1  ...    NaN   NaN   NaN    NaN\n",
              "28253     5418236            1      3      1  ...    NaN   NaN   NaN    NaN\n",
              "28254     5418237            1      1      1  ...    NaN   NaN   NaN    NaN\n",
              "28255     5418237            1      2      1  ...                  3      4\n",
              "\n",
              "[28256 rows x 249 columns]"
            ]
          },
          "metadata": {},
          "execution_count": 84
        }
      ]
    },
    {
      "cell_type": "code",
      "metadata": {
        "id": "wYDrl_JH3gpx"
      },
      "source": [
        ""
      ],
      "execution_count": null,
      "outputs": []
    },
    {
      "cell_type": "markdown",
      "metadata": {
        "id": "X0Wrlt603u34"
      },
      "source": [
        "#ABRIL"
      ]
    },
    {
      "cell_type": "code",
      "metadata": {
        "id": "znsWQjWr3xWo"
      },
      "source": [
        "import numpy as np\n",
        "import pandas as pd\n",
        "data_desocupados_abril = pd.read_excel('/content/DESOCUPADOS ABRIL.xlsx')\n",
        "data_ocupados_abril = pd.read_excel('/content/OCUPADOS_ABRIL.xlsx')\n",
        "data_inactivos_abril = pd.read_excel('/content/INACTIVOS ABRIL.xlsx')\n",
        "data_fuerza_t_abril = pd.read_excel('/content/FUERZA DE TRABAJO ABRIL.xlsx')\n",
        "data_caracteristicas_abril = pd.read_excel('/content/CARACTERISTICAS GENERALES ABRIL.xlsx')"
      ],
      "execution_count": null,
      "outputs": []
    },
    {
      "cell_type": "code",
      "metadata": {
        "id": "qVnGI2cD3xRh"
      },
      "source": [
        "del data_desocupados_abril['fex_c_2011']\n",
        "del data_ocupados_abril['fex_c_2011']\n",
        "del data_inactivos_abril['fex_c_2011']\n",
        "del data_fuerza_t_abril['fex_c_2011']\n",
        "del data_caracteristicas_abril['fex_c_2011']"
      ],
      "execution_count": null,
      "outputs": []
    },
    {
      "cell_type": "code",
      "metadata": {
        "id": "Z9t4T7iG4_Yb"
      },
      "source": [
        "del data_desocupados_abril['AREA']\n",
        "del data_inactivos_abril['AREA']\n",
        "del data_fuerza_t_abril['AREA']\n",
        "del data_ocupados_abril['AREA']\n",
        "del data_caracteristicas_abril['AREA']"
      ],
      "execution_count": null,
      "outputs": []
    },
    {
      "cell_type": "code",
      "metadata": {
        "id": "KSTkCQpd5J_g"
      },
      "source": [
        "del data_ocupados_abril['REGIS']\n",
        "del data_desocupados_abril['REGIS']\n",
        "del data_inactivos_abril['REGIS']\n",
        "del data_fuerza_t_abril['REGIS']\n",
        "del data_caracteristicas_abril['REGIS']"
      ],
      "execution_count": null,
      "outputs": []
    },
    {
      "cell_type": "code",
      "metadata": {
        "id": "sA-q80Bs5J68"
      },
      "source": [
        "del data_desocupados_abril['DSI']\n",
        "del data_inactivos_abril['INI']\n",
        "del data_fuerza_t_abril['FT']\n",
        "del data_ocupados_abril['OCI']"
      ],
      "execution_count": null,
      "outputs": []
    },
    {
      "cell_type": "code",
      "metadata": {
        "id": "IICPHjBK5J2F"
      },
      "source": [
        "del data_caracteristicas_abril['P6016']\n",
        "del data_caracteristicas_abril['P6080S1']\n",
        "del data_caracteristicas_abril['P6081S1'] \n",
        "del data_caracteristicas_abril['P6083S1'] \n",
        "del data_caracteristicas_abril['P6071S1'] \n",
        "del data_caracteristicas_abril['P3246']\n",
        "del data_caracteristicas_abril['P6110'] \n",
        "del data_caracteristicas_abril['P6120'] \n",
        "del data_caracteristicas_abril['P6210S1'] \n",
        "del data_caracteristicas_abril['MES']"
      ],
      "execution_count": null,
      "outputs": []
    },
    {
      "cell_type": "code",
      "metadata": {
        "id": "HWia2-zv5Jxc"
      },
      "source": [
        "del data_desocupados_abril['MES']\n",
        "del data_ocupados_abril['MES']\n",
        "del data_inactivos_abril['MES']\n",
        "del data_fuerza_t_abril['MES']"
      ],
      "execution_count": null,
      "outputs": []
    },
    {
      "cell_type": "code",
      "metadata": {
        "id": "hZo3otaf5Jr-"
      },
      "source": [
        "del data_ocupados_abril['P6810S1']\n",
        "del data_ocupados_abril['P6400']\n",
        "del data_ocupados_abril['P6410']\n",
        "del data_ocupados_abril['P6410S1'] \n",
        "del data_ocupados_abril['P6590S1'] \n",
        "del data_ocupados_abril['P6600S1'] \n"
      ],
      "execution_count": null,
      "outputs": []
    },
    {
      "cell_type": "code",
      "metadata": {
        "id": "kyOCoMn0640N"
      },
      "source": [
        "del data_desocupados_abril['P7280S1']\n",
        "del data_desocupados_abril['P7350S1'] \n",
        "del data_desocupados_abril['P7360']\n",
        "del data_desocupados_abril['P7420']\n",
        "del data_desocupados_abril['P7420S7A1']"
      ],
      "execution_count": null,
      "outputs": []
    },
    {
      "cell_type": "code",
      "metadata": {
        "id": "R0zJ27eY5Jk3"
      },
      "source": [
        "del data_fuerza_t_abril['P6230']"
      ],
      "execution_count": null,
      "outputs": []
    },
    {
      "cell_type": "code",
      "metadata": {
        "id": "AHajUu5H5Jcl"
      },
      "source": [
        "data_ocupados_abril.insert(4,\"Estado\",\"Ocupados\")\n",
        "data_desocupados_abril.insert(4,\"Estado\",\"Desocupados\")\n",
        "data_inactivos_abril.insert(4,\"Estado\",\"Inactivos\")"
      ],
      "execution_count": null,
      "outputs": []
    },
    {
      "cell_type": "markdown",
      "metadata": {
        "id": "X5Ji5Xnv6MVM"
      },
      "source": [
        "#DUPLICADOS ABRIL"
      ]
    },
    {
      "cell_type": "code",
      "metadata": {
        "id": "eWVBT6gu6SO_"
      },
      "source": [
        "data_desocupados_abril = data_desocupados_abril.drop_duplicates()\n",
        "data_ocupados_abril = data_ocupados_abril.drop_duplicates()\n",
        "data_inactivos_abril = data_inactivos_abril.drop_duplicates()\n",
        "data_caracteristicas_abril = data_caracteristicas_abril.drop_duplicates()\n",
        "data_fuerza_t_abril = data_fuerza_t_abril.drop_duplicates()"
      ],
      "execution_count": null,
      "outputs": []
    },
    {
      "cell_type": "code",
      "metadata": {
        "colab": {
          "base_uri": "https://localhost:8080/"
        },
        "id": "8-LEFvaJ6cY2",
        "outputId": "97afdd2e-ed7e-4b61-a814-9a2a87e7398d"
      },
      "source": [
        "data_desocupados_abril.shape"
      ],
      "execution_count": null,
      "outputs": [
        {
          "output_type": "execute_result",
          "data": {
            "text/plain": [
              "(2346, 33)"
            ]
          },
          "metadata": {},
          "execution_count": 98
        }
      ]
    },
    {
      "cell_type": "code",
      "metadata": {
        "colab": {
          "base_uri": "https://localhost:8080/"
        },
        "id": "bor1A9jQ7GpW",
        "outputId": "5c1b5073-4af2-43c0-efd2-77c0591ce048"
      },
      "source": [
        "data_ocupados_abril.shape"
      ],
      "execution_count": null,
      "outputs": [
        {
          "output_type": "execute_result",
          "data": {
            "text/plain": [
              "(12108, 155)"
            ]
          },
          "metadata": {},
          "execution_count": 99
        }
      ]
    },
    {
      "cell_type": "code",
      "metadata": {
        "colab": {
          "base_uri": "https://localhost:8080/"
        },
        "id": "icuQWad57MAB",
        "outputId": "09627875-3021-49a8-eae7-eb420b7c9620"
      },
      "source": [
        "data_inactivos_abril.shape"
      ],
      "execution_count": null,
      "outputs": [
        {
          "output_type": "execute_result",
          "data": {
            "text/plain": [
              "(9719, 23)"
            ]
          },
          "metadata": {},
          "execution_count": 100
        }
      ]
    },
    {
      "cell_type": "code",
      "metadata": {
        "colab": {
          "base_uri": "https://localhost:8080/"
        },
        "id": "lXhVSmSL7OdM",
        "outputId": "b6adbd6f-8c88-4369-bff3-c6ef3ae2603b"
      },
      "source": [
        "data_caracteristicas_abril.shape"
      ],
      "execution_count": null,
      "outputs": [
        {
          "output_type": "execute_result",
          "data": {
            "text/plain": [
              "(28511, 39)"
            ]
          },
          "metadata": {},
          "execution_count": 101
        }
      ]
    },
    {
      "cell_type": "code",
      "metadata": {
        "colab": {
          "base_uri": "https://localhost:8080/"
        },
        "id": "tBMG8O-Q7SSO",
        "outputId": "182e0fd3-bcf6-4953-f222-cca750914bcd"
      },
      "source": [
        "data_fuerza_t_abril.shape"
      ],
      "execution_count": null,
      "outputs": [
        {
          "output_type": "execute_result",
          "data": {
            "text/plain": [
              "(24173, 21)"
            ]
          },
          "metadata": {},
          "execution_count": 102
        }
      ]
    },
    {
      "cell_type": "markdown",
      "metadata": {
        "id": "9_9zzh_Y3JLK"
      },
      "source": [
        "##GENERALIDADES"
      ]
    },
    {
      "cell_type": "code",
      "metadata": {
        "colab": {
          "base_uri": "https://localhost:8080/",
          "height": 163
        },
        "id": "aqEoJtPrjvGo",
        "outputId": "e5577ace-4f03-457f-9126-363f9c5570f6"
      },
      "source": [
        "data_caracteristicas_enero.shape"
      ],
      "execution_count": null,
      "outputs": [
        {
          "output_type": "error",
          "ename": "NameError",
          "evalue": "ignored",
          "traceback": [
            "\u001b[0;31m---------------------------------------------------------------------------\u001b[0m",
            "\u001b[0;31mNameError\u001b[0m                                 Traceback (most recent call last)",
            "\u001b[0;32m<ipython-input-116-c57040fd0a9e>\u001b[0m in \u001b[0;36m<module>\u001b[0;34m()\u001b[0m\n\u001b[0;32m----> 1\u001b[0;31m \u001b[0mdata_caracteristicas_enero\u001b[0m\u001b[0;34m.\u001b[0m\u001b[0mshape\u001b[0m\u001b[0;34m\u001b[0m\u001b[0;34m\u001b[0m\u001b[0m\n\u001b[0m",
            "\u001b[0;31mNameError\u001b[0m: name 'data_caracteristicas_enero' is not defined"
          ]
        }
      ]
    },
    {
      "cell_type": "code",
      "metadata": {
        "id": "OvLllqXMj4jc"
      },
      "source": [
        "data_caracteristicas_febrero.shape"
      ],
      "execution_count": null,
      "outputs": []
    },
    {
      "cell_type": "code",
      "metadata": {
        "id": "BGB_ABoMj_Q-"
      },
      "source": [
        "data_desocupados_enero.shape"
      ],
      "execution_count": null,
      "outputs": []
    },
    {
      "cell_type": "code",
      "metadata": {
        "id": "EjVv-ZrKkHP0"
      },
      "source": [
        "data_desocupados_febrero.shape"
      ],
      "execution_count": null,
      "outputs": []
    },
    {
      "cell_type": "code",
      "metadata": {
        "id": "U_jxw8sqkJdH"
      },
      "source": [
        "data_ocupados_enero.shape"
      ],
      "execution_count": null,
      "outputs": []
    },
    {
      "cell_type": "code",
      "metadata": {
        "id": "bIUDxfmTkQ9K"
      },
      "source": [
        "data_ocupados_febrero.shape"
      ],
      "execution_count": null,
      "outputs": []
    },
    {
      "cell_type": "code",
      "metadata": {
        "id": "suGROipBkT66"
      },
      "source": [
        "data_inactivos_enero.shape"
      ],
      "execution_count": null,
      "outputs": []
    },
    {
      "cell_type": "code",
      "metadata": {
        "id": "ixgL5sqUkXg4"
      },
      "source": [
        "data_inactivos_febrero.shape"
      ],
      "execution_count": null,
      "outputs": []
    },
    {
      "cell_type": "code",
      "metadata": {
        "id": "I997MLPGkY44"
      },
      "source": [
        "data_fuerza_t_enero.shape"
      ],
      "execution_count": null,
      "outputs": []
    },
    {
      "cell_type": "code",
      "metadata": {
        "id": "Z30PwZM3kait"
      },
      "source": [
        "data_fuerza_t_febrero.shape"
      ],
      "execution_count": null,
      "outputs": []
    },
    {
      "cell_type": "code",
      "metadata": {
        "id": "Z1ClBfwUkcUB"
      },
      "source": [
        ""
      ],
      "execution_count": null,
      "outputs": []
    },
    {
      "cell_type": "markdown",
      "metadata": {
        "id": "IyB5rsow2DOv"
      },
      "source": [
        ""
      ]
    },
    {
      "cell_type": "markdown",
      "metadata": {
        "id": "yNpFklpa7ZzW"
      },
      "source": [
        "#CONCATENAR ABRIL"
      ]
    },
    {
      "cell_type": "code",
      "metadata": {
        "id": "8rOl5zwX7f3q"
      },
      "source": [
        "dt2_abril = pd.concat([data_ocupados_abril, data_desocupados_abril,data_inactivos_abril])"
      ],
      "execution_count": null,
      "outputs": []
    },
    {
      "cell_type": "code",
      "metadata": {
        "id": "YcjJbnms7qrY"
      },
      "source": [
        "dt1_abril = pd.merge(data_caracteristicas_abril,data_fuerza_t_abril,on = ['DIRECTORIO','SECUENCIA_P','ORDEN','HOGAR','DPTO'],how  = 'outer')"
      ],
      "execution_count": null,
      "outputs": []
    },
    {
      "cell_type": "code",
      "metadata": {
        "id": "ESNhbibj7xhH"
      },
      "source": [
        "Base_abril = pd.merge(dt1_abril,dt2_abril,how  = 'outer')"
      ],
      "execution_count": null,
      "outputs": []
    },
    {
      "cell_type": "code",
      "metadata": {
        "colab": {
          "base_uri": "https://localhost:8080/",
          "height": 439
        },
        "id": "iSw3ZtbW7xay",
        "outputId": "a00ad2d2-ceaf-4a97-ea26-8ac0455b688a"
      },
      "source": [
        "Base_abril"
      ],
      "execution_count": null,
      "outputs": [
        {
          "output_type": "execute_result",
          "data": {
            "text/html": [
              "<div>\n",
              "<style scoped>\n",
              "    .dataframe tbody tr th:only-of-type {\n",
              "        vertical-align: middle;\n",
              "    }\n",
              "\n",
              "    .dataframe tbody tr th {\n",
              "        vertical-align: top;\n",
              "    }\n",
              "\n",
              "    .dataframe thead th {\n",
              "        text-align: right;\n",
              "    }\n",
              "</style>\n",
              "<table border=\"1\" class=\"dataframe\">\n",
              "  <thead>\n",
              "    <tr style=\"text-align: right;\">\n",
              "      <th></th>\n",
              "      <th>DIRECTORIO</th>\n",
              "      <th>SECUENCIA_P</th>\n",
              "      <th>ORDEN</th>\n",
              "      <th>HOGAR</th>\n",
              "      <th>P6020</th>\n",
              "      <th>P6030S1</th>\n",
              "      <th>P6030S3</th>\n",
              "      <th>P6040</th>\n",
              "      <th>P6050</th>\n",
              "      <th>P6080</th>\n",
              "      <th>P6070</th>\n",
              "      <th>P6081</th>\n",
              "      <th>P6083</th>\n",
              "      <th>P6071</th>\n",
              "      <th>P3147S1</th>\n",
              "      <th>P3147S2</th>\n",
              "      <th>P3147S3</th>\n",
              "      <th>P3147S4</th>\n",
              "      <th>P3147S5</th>\n",
              "      <th>P3147S6</th>\n",
              "      <th>P3147S7</th>\n",
              "      <th>P3147S8</th>\n",
              "      <th>P3147S9</th>\n",
              "      <th>P3147S10</th>\n",
              "      <th>P3147S11</th>\n",
              "      <th>P3147S10A1</th>\n",
              "      <th>P6090</th>\n",
              "      <th>P6140</th>\n",
              "      <th>P6150</th>\n",
              "      <th>P6100</th>\n",
              "      <th>P6125</th>\n",
              "      <th>P6160</th>\n",
              "      <th>P6170</th>\n",
              "      <th>P6175</th>\n",
              "      <th>P6210</th>\n",
              "      <th>P6220</th>\n",
              "      <th>P6269</th>\n",
              "      <th>ESC</th>\n",
              "      <th>DPTO</th>\n",
              "      <th>P6290</th>\n",
              "      <th>...</th>\n",
              "      <th>P7320</th>\n",
              "      <th>P7350</th>\n",
              "      <th>P9460</th>\n",
              "      <th>P7390</th>\n",
              "      <th>P7390S1</th>\n",
              "      <th>P7420S1</th>\n",
              "      <th>P7420S2</th>\n",
              "      <th>P7420S3</th>\n",
              "      <th>P7420S4</th>\n",
              "      <th>P7420S5</th>\n",
              "      <th>P7420S6</th>\n",
              "      <th>P7420S7</th>\n",
              "      <th>P7420S8</th>\n",
              "      <th>P7422</th>\n",
              "      <th>P7422S1</th>\n",
              "      <th>P1806</th>\n",
              "      <th>P1519</th>\n",
              "      <th>P1883</th>\n",
              "      <th>RAMA2D_D_R4</th>\n",
              "      <th>OFICIO1</th>\n",
              "      <th>OFICIO2</th>\n",
              "      <th>DSCY</th>\n",
              "      <th>RAMA4D_D_R4</th>\n",
              "      <th>P7430</th>\n",
              "      <th>P7450</th>\n",
              "      <th>P7450S1</th>\n",
              "      <th>P7452</th>\n",
              "      <th>P7454</th>\n",
              "      <th>P7456</th>\n",
              "      <th>P7458</th>\n",
              "      <th>P7458S1</th>\n",
              "      <th>P7460</th>\n",
              "      <th>P7470</th>\n",
              "      <th>P7472</th>\n",
              "      <th>P7472S1</th>\n",
              "      <th>P744</th>\n",
              "      <th>P1884</th>\n",
              "      <th>P1807</th>\n",
              "      <th>P6921</th>\n",
              "      <th>p7440</th>\n",
              "    </tr>\n",
              "  </thead>\n",
              "  <tbody>\n",
              "    <tr>\n",
              "      <th>0</th>\n",
              "      <td>5418283</td>\n",
              "      <td>1</td>\n",
              "      <td>1</td>\n",
              "      <td>1</td>\n",
              "      <td>2</td>\n",
              "      <td>1</td>\n",
              "      <td>1948</td>\n",
              "      <td>73</td>\n",
              "      <td>1</td>\n",
              "      <td>6</td>\n",
              "      <td>5</td>\n",
              "      <td>3</td>\n",
              "      <td>3</td>\n",
              "      <td></td>\n",
              "      <td></td>\n",
              "      <td></td>\n",
              "      <td>1</td>\n",
              "      <td>1</td>\n",
              "      <td></td>\n",
              "      <td></td>\n",
              "      <td></td>\n",
              "      <td></td>\n",
              "      <td>1</td>\n",
              "      <td></td>\n",
              "      <td></td>\n",
              "      <td></td>\n",
              "      <td>1</td>\n",
              "      <td></td>\n",
              "      <td></td>\n",
              "      <td>1</td>\n",
              "      <td>2</td>\n",
              "      <td>1</td>\n",
              "      <td>2</td>\n",
              "      <td></td>\n",
              "      <td>3</td>\n",
              "      <td></td>\n",
              "      <td></td>\n",
              "      <td>3</td>\n",
              "      <td>5</td>\n",
              "      <td></td>\n",
              "      <td>...</td>\n",
              "      <td>NaN</td>\n",
              "      <td>NaN</td>\n",
              "      <td>NaN</td>\n",
              "      <td>NaN</td>\n",
              "      <td>NaN</td>\n",
              "      <td>NaN</td>\n",
              "      <td>NaN</td>\n",
              "      <td>NaN</td>\n",
              "      <td>NaN</td>\n",
              "      <td>NaN</td>\n",
              "      <td>NaN</td>\n",
              "      <td>NaN</td>\n",
              "      <td>NaN</td>\n",
              "      <td>NaN</td>\n",
              "      <td>NaN</td>\n",
              "      <td>NaN</td>\n",
              "      <td>NaN</td>\n",
              "      <td>NaN</td>\n",
              "      <td>NaN</td>\n",
              "      <td>NaN</td>\n",
              "      <td>NaN</td>\n",
              "      <td>NaN</td>\n",
              "      <td>NaN</td>\n",
              "      <td>1.0</td>\n",
              "      <td>4</td>\n",
              "      <td></td>\n",
              "      <td>2</td>\n",
              "      <td></td>\n",
              "      <td></td>\n",
              "      <td>4</td>\n",
              "      <td></td>\n",
              "      <td>2</td>\n",
              "      <td></td>\n",
              "      <td>2.0</td>\n",
              "      <td></td>\n",
              "      <td></td>\n",
              "      <td></td>\n",
              "      <td></td>\n",
              "      <td>2</td>\n",
              "      <td>4</td>\n",
              "    </tr>\n",
              "    <tr>\n",
              "      <th>1</th>\n",
              "      <td>5418283</td>\n",
              "      <td>1</td>\n",
              "      <td>2</td>\n",
              "      <td>1</td>\n",
              "      <td>2</td>\n",
              "      <td>8</td>\n",
              "      <td>1994</td>\n",
              "      <td>26</td>\n",
              "      <td>4</td>\n",
              "      <td>6</td>\n",
              "      <td>6</td>\n",
              "      <td>2</td>\n",
              "      <td>2</td>\n",
              "      <td></td>\n",
              "      <td></td>\n",
              "      <td></td>\n",
              "      <td></td>\n",
              "      <td></td>\n",
              "      <td></td>\n",
              "      <td></td>\n",
              "      <td></td>\n",
              "      <td>1</td>\n",
              "      <td></td>\n",
              "      <td></td>\n",
              "      <td></td>\n",
              "      <td></td>\n",
              "      <td>1</td>\n",
              "      <td></td>\n",
              "      <td></td>\n",
              "      <td>1</td>\n",
              "      <td>2</td>\n",
              "      <td>1</td>\n",
              "      <td>2</td>\n",
              "      <td></td>\n",
              "      <td>6</td>\n",
              "      <td>4</td>\n",
              "      <td></td>\n",
              "      <td>16</td>\n",
              "      <td>5</td>\n",
              "      <td></td>\n",
              "      <td>...</td>\n",
              "      <td>NaN</td>\n",
              "      <td>NaN</td>\n",
              "      <td>NaN</td>\n",
              "      <td>NaN</td>\n",
              "      <td>NaN</td>\n",
              "      <td>NaN</td>\n",
              "      <td>NaN</td>\n",
              "      <td>NaN</td>\n",
              "      <td>NaN</td>\n",
              "      <td>NaN</td>\n",
              "      <td>NaN</td>\n",
              "      <td>NaN</td>\n",
              "      <td>NaN</td>\n",
              "      <td>NaN</td>\n",
              "      <td>NaN</td>\n",
              "      <td>NaN</td>\n",
              "      <td>NaN</td>\n",
              "      <td>NaN</td>\n",
              "      <td>NaN</td>\n",
              "      <td>NaN</td>\n",
              "      <td>NaN</td>\n",
              "      <td>NaN</td>\n",
              "      <td>NaN</td>\n",
              "      <td>NaN</td>\n",
              "      <td>NaN</td>\n",
              "      <td>NaN</td>\n",
              "      <td>NaN</td>\n",
              "      <td>NaN</td>\n",
              "      <td>NaN</td>\n",
              "      <td>NaN</td>\n",
              "      <td>NaN</td>\n",
              "      <td>NaN</td>\n",
              "      <td>NaN</td>\n",
              "      <td>NaN</td>\n",
              "      <td>NaN</td>\n",
              "      <td>NaN</td>\n",
              "      <td>NaN</td>\n",
              "      <td>NaN</td>\n",
              "      <td>NaN</td>\n",
              "      <td>NaN</td>\n",
              "    </tr>\n",
              "    <tr>\n",
              "      <th>2</th>\n",
              "      <td>5418284</td>\n",
              "      <td>1</td>\n",
              "      <td>1</td>\n",
              "      <td>1</td>\n",
              "      <td>1</td>\n",
              "      <td>10</td>\n",
              "      <td>1995</td>\n",
              "      <td>25</td>\n",
              "      <td>1</td>\n",
              "      <td>5</td>\n",
              "      <td>6</td>\n",
              "      <td>2</td>\n",
              "      <td>2</td>\n",
              "      <td></td>\n",
              "      <td></td>\n",
              "      <td></td>\n",
              "      <td></td>\n",
              "      <td></td>\n",
              "      <td>1</td>\n",
              "      <td></td>\n",
              "      <td>1</td>\n",
              "      <td></td>\n",
              "      <td></td>\n",
              "      <td></td>\n",
              "      <td></td>\n",
              "      <td></td>\n",
              "      <td>1</td>\n",
              "      <td></td>\n",
              "      <td></td>\n",
              "      <td>3</td>\n",
              "      <td>2</td>\n",
              "      <td>1</td>\n",
              "      <td>2</td>\n",
              "      <td></td>\n",
              "      <td>5</td>\n",
              "      <td>2</td>\n",
              "      <td></td>\n",
              "      <td>11</td>\n",
              "      <td>5</td>\n",
              "      <td></td>\n",
              "      <td>...</td>\n",
              "      <td>NaN</td>\n",
              "      <td>NaN</td>\n",
              "      <td>NaN</td>\n",
              "      <td>NaN</td>\n",
              "      <td>NaN</td>\n",
              "      <td>NaN</td>\n",
              "      <td>NaN</td>\n",
              "      <td>NaN</td>\n",
              "      <td>NaN</td>\n",
              "      <td>NaN</td>\n",
              "      <td>NaN</td>\n",
              "      <td>NaN</td>\n",
              "      <td>NaN</td>\n",
              "      <td>NaN</td>\n",
              "      <td>NaN</td>\n",
              "      <td>NaN</td>\n",
              "      <td>NaN</td>\n",
              "      <td>NaN</td>\n",
              "      <td>NaN</td>\n",
              "      <td>NaN</td>\n",
              "      <td>NaN</td>\n",
              "      <td>NaN</td>\n",
              "      <td>NaN</td>\n",
              "      <td>NaN</td>\n",
              "      <td>NaN</td>\n",
              "      <td>NaN</td>\n",
              "      <td>NaN</td>\n",
              "      <td>NaN</td>\n",
              "      <td>NaN</td>\n",
              "      <td>NaN</td>\n",
              "      <td>NaN</td>\n",
              "      <td>NaN</td>\n",
              "      <td>NaN</td>\n",
              "      <td>NaN</td>\n",
              "      <td>NaN</td>\n",
              "      <td>NaN</td>\n",
              "      <td>NaN</td>\n",
              "      <td>NaN</td>\n",
              "      <td>NaN</td>\n",
              "      <td>NaN</td>\n",
              "    </tr>\n",
              "    <tr>\n",
              "      <th>3</th>\n",
              "      <td>5418284</td>\n",
              "      <td>1</td>\n",
              "      <td>2</td>\n",
              "      <td>1</td>\n",
              "      <td>2</td>\n",
              "      <td>9</td>\n",
              "      <td>1989</td>\n",
              "      <td>31</td>\n",
              "      <td>5</td>\n",
              "      <td>5</td>\n",
              "      <td>6</td>\n",
              "      <td>2</td>\n",
              "      <td>2</td>\n",
              "      <td></td>\n",
              "      <td></td>\n",
              "      <td></td>\n",
              "      <td></td>\n",
              "      <td>1</td>\n",
              "      <td></td>\n",
              "      <td></td>\n",
              "      <td></td>\n",
              "      <td>1</td>\n",
              "      <td></td>\n",
              "      <td></td>\n",
              "      <td></td>\n",
              "      <td></td>\n",
              "      <td>1</td>\n",
              "      <td></td>\n",
              "      <td></td>\n",
              "      <td>1</td>\n",
              "      <td>2</td>\n",
              "      <td>1</td>\n",
              "      <td>2</td>\n",
              "      <td></td>\n",
              "      <td>6</td>\n",
              "      <td>2</td>\n",
              "      <td>2</td>\n",
              "      <td>13</td>\n",
              "      <td>5</td>\n",
              "      <td></td>\n",
              "      <td>...</td>\n",
              "      <td>NaN</td>\n",
              "      <td>NaN</td>\n",
              "      <td>NaN</td>\n",
              "      <td>NaN</td>\n",
              "      <td>NaN</td>\n",
              "      <td>NaN</td>\n",
              "      <td>NaN</td>\n",
              "      <td>NaN</td>\n",
              "      <td>NaN</td>\n",
              "      <td>NaN</td>\n",
              "      <td>NaN</td>\n",
              "      <td>NaN</td>\n",
              "      <td>NaN</td>\n",
              "      <td>NaN</td>\n",
              "      <td>NaN</td>\n",
              "      <td>NaN</td>\n",
              "      <td>NaN</td>\n",
              "      <td>NaN</td>\n",
              "      <td>NaN</td>\n",
              "      <td>NaN</td>\n",
              "      <td>NaN</td>\n",
              "      <td>NaN</td>\n",
              "      <td>NaN</td>\n",
              "      <td>NaN</td>\n",
              "      <td>NaN</td>\n",
              "      <td>NaN</td>\n",
              "      <td>NaN</td>\n",
              "      <td>NaN</td>\n",
              "      <td>NaN</td>\n",
              "      <td>NaN</td>\n",
              "      <td>NaN</td>\n",
              "      <td>NaN</td>\n",
              "      <td>NaN</td>\n",
              "      <td>NaN</td>\n",
              "      <td>NaN</td>\n",
              "      <td>NaN</td>\n",
              "      <td>NaN</td>\n",
              "      <td>NaN</td>\n",
              "      <td>NaN</td>\n",
              "      <td>NaN</td>\n",
              "    </tr>\n",
              "    <tr>\n",
              "      <th>4</th>\n",
              "      <td>5418284</td>\n",
              "      <td>1</td>\n",
              "      <td>3</td>\n",
              "      <td>1</td>\n",
              "      <td>2</td>\n",
              "      <td>1</td>\n",
              "      <td>2012</td>\n",
              "      <td>9</td>\n",
              "      <td>5</td>\n",
              "      <td>5</td>\n",
              "      <td></td>\n",
              "      <td>2</td>\n",
              "      <td>1</td>\n",
              "      <td></td>\n",
              "      <td></td>\n",
              "      <td></td>\n",
              "      <td></td>\n",
              "      <td></td>\n",
              "      <td></td>\n",
              "      <td></td>\n",
              "      <td></td>\n",
              "      <td></td>\n",
              "      <td></td>\n",
              "      <td></td>\n",
              "      <td></td>\n",
              "      <td></td>\n",
              "      <td>1</td>\n",
              "      <td></td>\n",
              "      <td></td>\n",
              "      <td>1</td>\n",
              "      <td>2</td>\n",
              "      <td>1</td>\n",
              "      <td>1</td>\n",
              "      <td>1</td>\n",
              "      <td>3</td>\n",
              "      <td></td>\n",
              "      <td></td>\n",
              "      <td>2</td>\n",
              "      <td>5</td>\n",
              "      <td>NaN</td>\n",
              "      <td>...</td>\n",
              "      <td>NaN</td>\n",
              "      <td>NaN</td>\n",
              "      <td>NaN</td>\n",
              "      <td>NaN</td>\n",
              "      <td>NaN</td>\n",
              "      <td>NaN</td>\n",
              "      <td>NaN</td>\n",
              "      <td>NaN</td>\n",
              "      <td>NaN</td>\n",
              "      <td>NaN</td>\n",
              "      <td>NaN</td>\n",
              "      <td>NaN</td>\n",
              "      <td>NaN</td>\n",
              "      <td>NaN</td>\n",
              "      <td>NaN</td>\n",
              "      <td>NaN</td>\n",
              "      <td>NaN</td>\n",
              "      <td>NaN</td>\n",
              "      <td>NaN</td>\n",
              "      <td>NaN</td>\n",
              "      <td>NaN</td>\n",
              "      <td>NaN</td>\n",
              "      <td>NaN</td>\n",
              "      <td>NaN</td>\n",
              "      <td>NaN</td>\n",
              "      <td>NaN</td>\n",
              "      <td>NaN</td>\n",
              "      <td>NaN</td>\n",
              "      <td>NaN</td>\n",
              "      <td>NaN</td>\n",
              "      <td>NaN</td>\n",
              "      <td>NaN</td>\n",
              "      <td>NaN</td>\n",
              "      <td>NaN</td>\n",
              "      <td>NaN</td>\n",
              "      <td>NaN</td>\n",
              "      <td>NaN</td>\n",
              "      <td>NaN</td>\n",
              "      <td>NaN</td>\n",
              "      <td>NaN</td>\n",
              "    </tr>\n",
              "    <tr>\n",
              "      <th>...</th>\n",
              "      <td>...</td>\n",
              "      <td>...</td>\n",
              "      <td>...</td>\n",
              "      <td>...</td>\n",
              "      <td>...</td>\n",
              "      <td>...</td>\n",
              "      <td>...</td>\n",
              "      <td>...</td>\n",
              "      <td>...</td>\n",
              "      <td>...</td>\n",
              "      <td>...</td>\n",
              "      <td>...</td>\n",
              "      <td>...</td>\n",
              "      <td>...</td>\n",
              "      <td>...</td>\n",
              "      <td>...</td>\n",
              "      <td>...</td>\n",
              "      <td>...</td>\n",
              "      <td>...</td>\n",
              "      <td>...</td>\n",
              "      <td>...</td>\n",
              "      <td>...</td>\n",
              "      <td>...</td>\n",
              "      <td>...</td>\n",
              "      <td>...</td>\n",
              "      <td>...</td>\n",
              "      <td>...</td>\n",
              "      <td>...</td>\n",
              "      <td>...</td>\n",
              "      <td>...</td>\n",
              "      <td>...</td>\n",
              "      <td>...</td>\n",
              "      <td>...</td>\n",
              "      <td>...</td>\n",
              "      <td>...</td>\n",
              "      <td>...</td>\n",
              "      <td>...</td>\n",
              "      <td>...</td>\n",
              "      <td>...</td>\n",
              "      <td>...</td>\n",
              "      <td>...</td>\n",
              "      <td>...</td>\n",
              "      <td>...</td>\n",
              "      <td>...</td>\n",
              "      <td>...</td>\n",
              "      <td>...</td>\n",
              "      <td>...</td>\n",
              "      <td>...</td>\n",
              "      <td>...</td>\n",
              "      <td>...</td>\n",
              "      <td>...</td>\n",
              "      <td>...</td>\n",
              "      <td>...</td>\n",
              "      <td>...</td>\n",
              "      <td>...</td>\n",
              "      <td>...</td>\n",
              "      <td>...</td>\n",
              "      <td>...</td>\n",
              "      <td>...</td>\n",
              "      <td>...</td>\n",
              "      <td>...</td>\n",
              "      <td>...</td>\n",
              "      <td>...</td>\n",
              "      <td>...</td>\n",
              "      <td>...</td>\n",
              "      <td>...</td>\n",
              "      <td>...</td>\n",
              "      <td>...</td>\n",
              "      <td>...</td>\n",
              "      <td>...</td>\n",
              "      <td>...</td>\n",
              "      <td>...</td>\n",
              "      <td>...</td>\n",
              "      <td>...</td>\n",
              "      <td>...</td>\n",
              "      <td>...</td>\n",
              "      <td>...</td>\n",
              "      <td>...</td>\n",
              "      <td>...</td>\n",
              "      <td>...</td>\n",
              "      <td>...</td>\n",
              "    </tr>\n",
              "    <tr>\n",
              "      <th>28506</th>\n",
              "      <td>5443717</td>\n",
              "      <td>1</td>\n",
              "      <td>4</td>\n",
              "      <td>1</td>\n",
              "      <td>1</td>\n",
              "      <td>6</td>\n",
              "      <td>2001</td>\n",
              "      <td>19</td>\n",
              "      <td>3</td>\n",
              "      <td>6</td>\n",
              "      <td>6</td>\n",
              "      <td>1</td>\n",
              "      <td>1</td>\n",
              "      <td></td>\n",
              "      <td></td>\n",
              "      <td></td>\n",
              "      <td></td>\n",
              "      <td></td>\n",
              "      <td></td>\n",
              "      <td></td>\n",
              "      <td></td>\n",
              "      <td></td>\n",
              "      <td></td>\n",
              "      <td></td>\n",
              "      <td>1</td>\n",
              "      <td></td>\n",
              "      <td>1</td>\n",
              "      <td></td>\n",
              "      <td></td>\n",
              "      <td>3</td>\n",
              "      <td>2</td>\n",
              "      <td>1</td>\n",
              "      <td>2</td>\n",
              "      <td></td>\n",
              "      <td>5</td>\n",
              "      <td>2</td>\n",
              "      <td></td>\n",
              "      <td>11</td>\n",
              "      <td>8</td>\n",
              "      <td></td>\n",
              "      <td>...</td>\n",
              "      <td>NaN</td>\n",
              "      <td>NaN</td>\n",
              "      <td>NaN</td>\n",
              "      <td>NaN</td>\n",
              "      <td>NaN</td>\n",
              "      <td>NaN</td>\n",
              "      <td>NaN</td>\n",
              "      <td>NaN</td>\n",
              "      <td>NaN</td>\n",
              "      <td>NaN</td>\n",
              "      <td>NaN</td>\n",
              "      <td>NaN</td>\n",
              "      <td>NaN</td>\n",
              "      <td>NaN</td>\n",
              "      <td>NaN</td>\n",
              "      <td>NaN</td>\n",
              "      <td>NaN</td>\n",
              "      <td>NaN</td>\n",
              "      <td>NaN</td>\n",
              "      <td>NaN</td>\n",
              "      <td>NaN</td>\n",
              "      <td>NaN</td>\n",
              "      <td>NaN</td>\n",
              "      <td>2.0</td>\n",
              "      <td></td>\n",
              "      <td></td>\n",
              "      <td></td>\n",
              "      <td>2</td>\n",
              "      <td></td>\n",
              "      <td></td>\n",
              "      <td>.</td>\n",
              "      <td>2</td>\n",
              "      <td></td>\n",
              "      <td>2.0</td>\n",
              "      <td></td>\n",
              "      <td></td>\n",
              "      <td></td>\n",
              "      <td></td>\n",
              "      <td>2</td>\n",
              "      <td></td>\n",
              "    </tr>\n",
              "    <tr>\n",
              "      <th>28507</th>\n",
              "      <td>5443718</td>\n",
              "      <td>1</td>\n",
              "      <td>1</td>\n",
              "      <td>1</td>\n",
              "      <td>2</td>\n",
              "      <td>1</td>\n",
              "      <td>1989</td>\n",
              "      <td>32</td>\n",
              "      <td>1</td>\n",
              "      <td>6</td>\n",
              "      <td>6</td>\n",
              "      <td>2</td>\n",
              "      <td>1</td>\n",
              "      <td></td>\n",
              "      <td></td>\n",
              "      <td></td>\n",
              "      <td></td>\n",
              "      <td>1</td>\n",
              "      <td></td>\n",
              "      <td></td>\n",
              "      <td></td>\n",
              "      <td></td>\n",
              "      <td></td>\n",
              "      <td></td>\n",
              "      <td></td>\n",
              "      <td></td>\n",
              "      <td>2</td>\n",
              "      <td>1</td>\n",
              "      <td>12</td>\n",
              "      <td></td>\n",
              "      <td>2</td>\n",
              "      <td>1</td>\n",
              "      <td>2</td>\n",
              "      <td></td>\n",
              "      <td>5</td>\n",
              "      <td>2</td>\n",
              "      <td></td>\n",
              "      <td>11</td>\n",
              "      <td>66</td>\n",
              "      <td></td>\n",
              "      <td>...</td>\n",
              "      <td>NaN</td>\n",
              "      <td>NaN</td>\n",
              "      <td>NaN</td>\n",
              "      <td>NaN</td>\n",
              "      <td>NaN</td>\n",
              "      <td>NaN</td>\n",
              "      <td>NaN</td>\n",
              "      <td>NaN</td>\n",
              "      <td>NaN</td>\n",
              "      <td>NaN</td>\n",
              "      <td>NaN</td>\n",
              "      <td>NaN</td>\n",
              "      <td>NaN</td>\n",
              "      <td>NaN</td>\n",
              "      <td>NaN</td>\n",
              "      <td>NaN</td>\n",
              "      <td>NaN</td>\n",
              "      <td>NaN</td>\n",
              "      <td>NaN</td>\n",
              "      <td>NaN</td>\n",
              "      <td>NaN</td>\n",
              "      <td>NaN</td>\n",
              "      <td>NaN</td>\n",
              "      <td>NaN</td>\n",
              "      <td>NaN</td>\n",
              "      <td>NaN</td>\n",
              "      <td>NaN</td>\n",
              "      <td>NaN</td>\n",
              "      <td>NaN</td>\n",
              "      <td>NaN</td>\n",
              "      <td>NaN</td>\n",
              "      <td>NaN</td>\n",
              "      <td>NaN</td>\n",
              "      <td>NaN</td>\n",
              "      <td>NaN</td>\n",
              "      <td>NaN</td>\n",
              "      <td>NaN</td>\n",
              "      <td>NaN</td>\n",
              "      <td>NaN</td>\n",
              "      <td>NaN</td>\n",
              "    </tr>\n",
              "    <tr>\n",
              "      <th>28508</th>\n",
              "      <td>5443718</td>\n",
              "      <td>1</td>\n",
              "      <td>2</td>\n",
              "      <td>1</td>\n",
              "      <td>1</td>\n",
              "      <td>3</td>\n",
              "      <td>2008</td>\n",
              "      <td>13</td>\n",
              "      <td>3</td>\n",
              "      <td>6</td>\n",
              "      <td>6</td>\n",
              "      <td>2</td>\n",
              "      <td>1</td>\n",
              "      <td></td>\n",
              "      <td></td>\n",
              "      <td></td>\n",
              "      <td></td>\n",
              "      <td></td>\n",
              "      <td></td>\n",
              "      <td></td>\n",
              "      <td></td>\n",
              "      <td>1</td>\n",
              "      <td></td>\n",
              "      <td></td>\n",
              "      <td></td>\n",
              "      <td></td>\n",
              "      <td>2</td>\n",
              "      <td>1</td>\n",
              "      <td>12</td>\n",
              "      <td></td>\n",
              "      <td>2</td>\n",
              "      <td>1</td>\n",
              "      <td>1</td>\n",
              "      <td>1</td>\n",
              "      <td>4</td>\n",
              "      <td></td>\n",
              "      <td></td>\n",
              "      <td>7</td>\n",
              "      <td>66</td>\n",
              "      <td></td>\n",
              "      <td>...</td>\n",
              "      <td>NaN</td>\n",
              "      <td>NaN</td>\n",
              "      <td>NaN</td>\n",
              "      <td>NaN</td>\n",
              "      <td>NaN</td>\n",
              "      <td>NaN</td>\n",
              "      <td>NaN</td>\n",
              "      <td>NaN</td>\n",
              "      <td>NaN</td>\n",
              "      <td>NaN</td>\n",
              "      <td>NaN</td>\n",
              "      <td>NaN</td>\n",
              "      <td>NaN</td>\n",
              "      <td>NaN</td>\n",
              "      <td>NaN</td>\n",
              "      <td>NaN</td>\n",
              "      <td>NaN</td>\n",
              "      <td>NaN</td>\n",
              "      <td>NaN</td>\n",
              "      <td>NaN</td>\n",
              "      <td>NaN</td>\n",
              "      <td>NaN</td>\n",
              "      <td>NaN</td>\n",
              "      <td>2.0</td>\n",
              "      <td></td>\n",
              "      <td></td>\n",
              "      <td></td>\n",
              "      <td>2</td>\n",
              "      <td></td>\n",
              "      <td></td>\n",
              "      <td>.</td>\n",
              "      <td></td>\n",
              "      <td></td>\n",
              "      <td>2.0</td>\n",
              "      <td></td>\n",
              "      <td></td>\n",
              "      <td></td>\n",
              "      <td></td>\n",
              "      <td></td>\n",
              "      <td></td>\n",
              "    </tr>\n",
              "    <tr>\n",
              "      <th>28509</th>\n",
              "      <td>5443718</td>\n",
              "      <td>1</td>\n",
              "      <td>3</td>\n",
              "      <td>1</td>\n",
              "      <td>2</td>\n",
              "      <td>1</td>\n",
              "      <td>1966</td>\n",
              "      <td>55</td>\n",
              "      <td>5</td>\n",
              "      <td>6</td>\n",
              "      <td>6</td>\n",
              "      <td>2</td>\n",
              "      <td>2</td>\n",
              "      <td></td>\n",
              "      <td></td>\n",
              "      <td></td>\n",
              "      <td></td>\n",
              "      <td>1</td>\n",
              "      <td></td>\n",
              "      <td></td>\n",
              "      <td></td>\n",
              "      <td></td>\n",
              "      <td></td>\n",
              "      <td></td>\n",
              "      <td></td>\n",
              "      <td></td>\n",
              "      <td>2</td>\n",
              "      <td>1</td>\n",
              "      <td>12</td>\n",
              "      <td></td>\n",
              "      <td>2</td>\n",
              "      <td>1</td>\n",
              "      <td>2</td>\n",
              "      <td></td>\n",
              "      <td>3</td>\n",
              "      <td></td>\n",
              "      <td></td>\n",
              "      <td>5</td>\n",
              "      <td>66</td>\n",
              "      <td></td>\n",
              "      <td>...</td>\n",
              "      <td>NaN</td>\n",
              "      <td>NaN</td>\n",
              "      <td>NaN</td>\n",
              "      <td>NaN</td>\n",
              "      <td>NaN</td>\n",
              "      <td>NaN</td>\n",
              "      <td>NaN</td>\n",
              "      <td>NaN</td>\n",
              "      <td>NaN</td>\n",
              "      <td>NaN</td>\n",
              "      <td>NaN</td>\n",
              "      <td>NaN</td>\n",
              "      <td>NaN</td>\n",
              "      <td>NaN</td>\n",
              "      <td>NaN</td>\n",
              "      <td>NaN</td>\n",
              "      <td>NaN</td>\n",
              "      <td>NaN</td>\n",
              "      <td>NaN</td>\n",
              "      <td>NaN</td>\n",
              "      <td>NaN</td>\n",
              "      <td>NaN</td>\n",
              "      <td>NaN</td>\n",
              "      <td>NaN</td>\n",
              "      <td>NaN</td>\n",
              "      <td>NaN</td>\n",
              "      <td>NaN</td>\n",
              "      <td>NaN</td>\n",
              "      <td>NaN</td>\n",
              "      <td>NaN</td>\n",
              "      <td>NaN</td>\n",
              "      <td>NaN</td>\n",
              "      <td>NaN</td>\n",
              "      <td>NaN</td>\n",
              "      <td>NaN</td>\n",
              "      <td>NaN</td>\n",
              "      <td>NaN</td>\n",
              "      <td>NaN</td>\n",
              "      <td>NaN</td>\n",
              "      <td>NaN</td>\n",
              "    </tr>\n",
              "    <tr>\n",
              "      <th>28510</th>\n",
              "      <td>5443718</td>\n",
              "      <td>1</td>\n",
              "      <td>4</td>\n",
              "      <td>1</td>\n",
              "      <td>1</td>\n",
              "      <td>5</td>\n",
              "      <td>1994</td>\n",
              "      <td>27</td>\n",
              "      <td>9</td>\n",
              "      <td>6</td>\n",
              "      <td>6</td>\n",
              "      <td>2</td>\n",
              "      <td>2</td>\n",
              "      <td></td>\n",
              "      <td></td>\n",
              "      <td></td>\n",
              "      <td></td>\n",
              "      <td>1</td>\n",
              "      <td></td>\n",
              "      <td></td>\n",
              "      <td></td>\n",
              "      <td></td>\n",
              "      <td></td>\n",
              "      <td></td>\n",
              "      <td></td>\n",
              "      <td></td>\n",
              "      <td>1</td>\n",
              "      <td></td>\n",
              "      <td></td>\n",
              "      <td>1</td>\n",
              "      <td>2</td>\n",
              "      <td>1</td>\n",
              "      <td>2</td>\n",
              "      <td></td>\n",
              "      <td>6</td>\n",
              "      <td>3</td>\n",
              "      <td></td>\n",
              "      <td>13</td>\n",
              "      <td>66</td>\n",
              "      <td></td>\n",
              "      <td>...</td>\n",
              "      <td>NaN</td>\n",
              "      <td>NaN</td>\n",
              "      <td>NaN</td>\n",
              "      <td>NaN</td>\n",
              "      <td>NaN</td>\n",
              "      <td>NaN</td>\n",
              "      <td>NaN</td>\n",
              "      <td>NaN</td>\n",
              "      <td>NaN</td>\n",
              "      <td>NaN</td>\n",
              "      <td>NaN</td>\n",
              "      <td>NaN</td>\n",
              "      <td>NaN</td>\n",
              "      <td>NaN</td>\n",
              "      <td>NaN</td>\n",
              "      <td>NaN</td>\n",
              "      <td>NaN</td>\n",
              "      <td>NaN</td>\n",
              "      <td>NaN</td>\n",
              "      <td>NaN</td>\n",
              "      <td>NaN</td>\n",
              "      <td>NaN</td>\n",
              "      <td>NaN</td>\n",
              "      <td>NaN</td>\n",
              "      <td>NaN</td>\n",
              "      <td>NaN</td>\n",
              "      <td>NaN</td>\n",
              "      <td>NaN</td>\n",
              "      <td>NaN</td>\n",
              "      <td>NaN</td>\n",
              "      <td>NaN</td>\n",
              "      <td>NaN</td>\n",
              "      <td>NaN</td>\n",
              "      <td>NaN</td>\n",
              "      <td>NaN</td>\n",
              "      <td>NaN</td>\n",
              "      <td>NaN</td>\n",
              "      <td>NaN</td>\n",
              "      <td>NaN</td>\n",
              "      <td>NaN</td>\n",
              "    </tr>\n",
              "  </tbody>\n",
              "</table>\n",
              "<p>28511 rows × 249 columns</p>\n",
              "</div>"
            ],
            "text/plain": [
              "       DIRECTORIO  SECUENCIA_P  ORDEN  HOGAR  ...  P1884 P1807 P6921  p7440\n",
              "0         5418283            1      1      1  ...                  2      4\n",
              "1         5418283            1      2      1  ...    NaN   NaN   NaN    NaN\n",
              "2         5418284            1      1      1  ...    NaN   NaN   NaN    NaN\n",
              "3         5418284            1      2      1  ...    NaN   NaN   NaN    NaN\n",
              "4         5418284            1      3      1  ...    NaN   NaN   NaN    NaN\n",
              "...           ...          ...    ...    ...  ...    ...   ...   ...    ...\n",
              "28506     5443717            1      4      1  ...                  2       \n",
              "28507     5443718            1      1      1  ...    NaN   NaN   NaN    NaN\n",
              "28508     5443718            1      2      1  ...                          \n",
              "28509     5443718            1      3      1  ...    NaN   NaN   NaN    NaN\n",
              "28510     5443718            1      4      1  ...    NaN   NaN   NaN    NaN\n",
              "\n",
              "[28511 rows x 249 columns]"
            ]
          },
          "metadata": {},
          "execution_count": 106
        }
      ]
    },
    {
      "cell_type": "markdown",
      "metadata": {
        "id": "eU2SOj3379A_"
      },
      "source": [
        "#MAYO\n"
      ]
    },
    {
      "cell_type": "code",
      "metadata": {
        "id": "CT0hMQP38DGe"
      },
      "source": [
        "import numpy as np\n",
        "import pandas as pd\n",
        "data_desocupados_mayo = pd.read_excel('/content/DESOCUPADOS MAYO.xlsx')\n",
        "data_ocupados_mayo = pd.read_excel('/content/OCUPADOS_MAYO.xlsx')\n",
        "data_inactivos_mayo = pd.read_excel('/content/INACTIVOS MAYO.xlsx')\n",
        "data_fuerza_t_mayo = pd.read_excel('/content/FUERZA DE TRABAJO MAYO.xlsx')\n",
        "data_caracteristicas_mayo = pd.read_excel('/content/CARACTERISTICAS GENERALES MAYO.xlsx')"
      ],
      "execution_count": null,
      "outputs": []
    },
    {
      "cell_type": "code",
      "metadata": {
        "id": "ETV25Hkb8XIi"
      },
      "source": [
        "del data_desocupados_mayo['fex_c_2011']\n",
        "del data_ocupados_mayo['fex_c_2011']\n",
        "del data_inactivos_mayo['fex_c_2011']\n",
        "del data_fuerza_t_mayo['fex_c_2011']\n",
        "del data_caracteristicas_mayo['fex_c_2011']\n",
        "del data_desocupados_mayo['AREA']\n",
        "del data_inactivos_mayo['AREA']\n",
        "del data_fuerza_t_mayo['AREA']\n",
        "del data_ocupados_mayo['AREA']\n",
        "del data_caracteristicas_mayo['AREA']\n",
        "del data_ocupados_mayo['REGIS']\n",
        "del data_desocupados_mayo['REGIS']\n",
        "del data_inactivos_mayo['REGIS']\n",
        "del data_fuerza_t_mayo['REGIS']\n",
        "del data_caracteristicas_mayo['REGIS']\n",
        "del data_desocupados_mayo['DSI']\n",
        "del data_inactivos_mayo['INI']\n",
        "del data_fuerza_t_mayo['FT']\n",
        "del data_ocupados_mayo['OCI']\n",
        "del data_caracteristicas_mayo['P6016']\n",
        "del data_caracteristicas_mayo['P6080S1']\n",
        "del data_caracteristicas_mayo['P6081S1'] \n",
        "del data_caracteristicas_mayo['P6083S1'] \n",
        "del data_caracteristicas_mayo['P6071S1'] \n",
        "del data_caracteristicas_mayo['P3246']\n",
        "del data_caracteristicas_mayo['P6110'] \n",
        "del data_caracteristicas_mayo['P6120'] \n",
        "del data_caracteristicas_mayo['P6210S1'] \n",
        "del data_caracteristicas_mayo['MES']\n",
        "del data_desocupados_mayo['MES']\n",
        "del data_ocupados_mayo['MES']\n",
        "del data_inactivos_mayo['MES']\n",
        "del data_fuerza_t_mayo['MES']\n",
        "del data_ocupados_mayo['P6810S1']\n",
        "del data_ocupados_mayo['P6400']\n",
        "del data_ocupados_mayo['P6410']\n",
        "del data_ocupados_mayo['P6410S1'] \n",
        "del data_ocupados_mayo['P6590S1'] \n",
        "del data_ocupados_mayo['P6600S1'] \n",
        "del data_desocupados_mayo['P7280S1']\n",
        "del data_desocupados_mayo['P7350S1'] \n",
        "del data_desocupados_mayo['P7360']\n",
        "del data_desocupados_mayo['P7420']\n",
        "del data_desocupados_mayo['P7420S7A1']\n",
        "del data_fuerza_t_mayo['P6230']"
      ],
      "execution_count": null,
      "outputs": []
    },
    {
      "cell_type": "code",
      "metadata": {
        "id": "8X1_x7Of8XF2"
      },
      "source": [
        "data_ocupados_mayo.insert(4,\"Estado\",\"Ocupados\")\n",
        "data_desocupados_mayo.insert(4,\"Estado\",\"Desocupados\")\n",
        "data_inactivos_mayo.insert(4,\"Estado\",\"Inactivos\")"
      ],
      "execution_count": null,
      "outputs": []
    },
    {
      "cell_type": "markdown",
      "metadata": {
        "id": "4s4-Oz7Q9V0b"
      },
      "source": [
        "#DUPLICADOS MAYO"
      ]
    },
    {
      "cell_type": "code",
      "metadata": {
        "id": "YBfZjmKx9ZDT"
      },
      "source": [
        "data_desocupados_mayo = data_desocupados_mayo.drop_duplicates()\n",
        "data_ocupados_mayo  = data_ocupados_mayo.drop_duplicates()\n",
        "data_inactivos_mayo  = data_inactivos_mayo.drop_duplicates()\n",
        "data_caracteristicas_mayo  = data_caracteristicas_mayo.drop_duplicates()\n",
        "data_fuerza_t_mayo  = data_fuerza_t_mayo.drop_duplicates()"
      ],
      "execution_count": null,
      "outputs": []
    },
    {
      "cell_type": "code",
      "metadata": {
        "colab": {
          "base_uri": "https://localhost:8080/"
        },
        "id": "OAAGexMY9m-V",
        "outputId": "e26b5ef1-ec19-4dd9-a394-eb46e325ffa9"
      },
      "source": [
        "data_desocupados_mayo.shape"
      ],
      "execution_count": null,
      "outputs": [
        {
          "output_type": "execute_result",
          "data": {
            "text/plain": [
              "(2292, 33)"
            ]
          },
          "metadata": {},
          "execution_count": 111
        }
      ]
    },
    {
      "cell_type": "code",
      "metadata": {
        "colab": {
          "base_uri": "https://localhost:8080/"
        },
        "id": "QrjEj3bz9ppv",
        "outputId": "694a450d-e081-4914-d5a5-d91f775410d0"
      },
      "source": [
        "data_ocupados_mayo.shape"
      ],
      "execution_count": null,
      "outputs": [
        {
          "output_type": "execute_result",
          "data": {
            "text/plain": [
              "(12134, 155)"
            ]
          },
          "metadata": {},
          "execution_count": 112
        }
      ]
    },
    {
      "cell_type": "code",
      "metadata": {
        "colab": {
          "base_uri": "https://localhost:8080/"
        },
        "id": "sWuDPb5G9riT",
        "outputId": "2a453a2f-ea46-4814-e3d6-3bad31226360"
      },
      "source": [
        "data_inactivos_mayo.shape"
      ],
      "execution_count": null,
      "outputs": [
        {
          "output_type": "execute_result",
          "data": {
            "text/plain": [
              "(9472, 23)"
            ]
          },
          "metadata": {},
          "execution_count": 113
        }
      ]
    },
    {
      "cell_type": "code",
      "metadata": {
        "colab": {
          "base_uri": "https://localhost:8080/"
        },
        "id": "L09Xf6-P9u-A",
        "outputId": "45fb1a04-1f6d-40e7-911d-3df8800eb2fd"
      },
      "source": [
        "data_caracteristicas_mayo.shape"
      ],
      "execution_count": null,
      "outputs": [
        {
          "output_type": "execute_result",
          "data": {
            "text/plain": [
              "(28362, 39)"
            ]
          },
          "metadata": {},
          "execution_count": 114
        }
      ]
    },
    {
      "cell_type": "code",
      "metadata": {
        "colab": {
          "base_uri": "https://localhost:8080/"
        },
        "id": "EpIPCgI590y5",
        "outputId": "d118c22a-f1d7-48f1-a3c1-86803b43a45b"
      },
      "source": [
        "data_fuerza_t_mayo.shape"
      ],
      "execution_count": null,
      "outputs": [
        {
          "output_type": "execute_result",
          "data": {
            "text/plain": [
              "(23898, 21)"
            ]
          },
          "metadata": {},
          "execution_count": 115
        }
      ]
    },
    {
      "cell_type": "markdown",
      "metadata": {
        "id": "Ut8QsEfz94PX"
      },
      "source": [
        "#CONCATENAR MAYO"
      ]
    },
    {
      "cell_type": "code",
      "metadata": {
        "id": "DiOuHYZn97hs"
      },
      "source": [
        "dt2_mayo = pd.concat([data_ocupados_mayo, data_desocupados_mayo,data_inactivos_mayo])"
      ],
      "execution_count": null,
      "outputs": []
    },
    {
      "cell_type": "code",
      "metadata": {
        "id": "dvSJJkDH97XK"
      },
      "source": [
        "dt1_mayo = pd.merge(data_caracteristicas_mayo,data_fuerza_t_mayo,on = ['DIRECTORIO','SECUENCIA_P','ORDEN','HOGAR','DPTO'],how  = 'outer')"
      ],
      "execution_count": null,
      "outputs": []
    },
    {
      "cell_type": "code",
      "metadata": {
        "id": "r_ZLfnE_-K1Q"
      },
      "source": [
        "Base_mayo = pd.merge(dt1_mayo,dt2_mayo,how  = 'outer')"
      ],
      "execution_count": null,
      "outputs": []
    },
    {
      "cell_type": "code",
      "metadata": {
        "colab": {
          "base_uri": "https://localhost:8080/",
          "height": 439
        },
        "id": "m6dOY2NR-PR3",
        "outputId": "2110a68e-247c-4200-f467-2e94afe2e7ba"
      },
      "source": [
        "Base_mayo"
      ],
      "execution_count": null,
      "outputs": [
        {
          "output_type": "execute_result",
          "data": {
            "text/html": [
              "<div>\n",
              "<style scoped>\n",
              "    .dataframe tbody tr th:only-of-type {\n",
              "        vertical-align: middle;\n",
              "    }\n",
              "\n",
              "    .dataframe tbody tr th {\n",
              "        vertical-align: top;\n",
              "    }\n",
              "\n",
              "    .dataframe thead th {\n",
              "        text-align: right;\n",
              "    }\n",
              "</style>\n",
              "<table border=\"1\" class=\"dataframe\">\n",
              "  <thead>\n",
              "    <tr style=\"text-align: right;\">\n",
              "      <th></th>\n",
              "      <th>DIRECTORIO</th>\n",
              "      <th>SECUENCIA_P</th>\n",
              "      <th>ORDEN</th>\n",
              "      <th>HOGAR</th>\n",
              "      <th>P6020</th>\n",
              "      <th>P6030S1</th>\n",
              "      <th>P6030S3</th>\n",
              "      <th>P6040</th>\n",
              "      <th>P6050</th>\n",
              "      <th>P6080</th>\n",
              "      <th>P6070</th>\n",
              "      <th>P6081</th>\n",
              "      <th>P6083</th>\n",
              "      <th>P6071</th>\n",
              "      <th>P3147S1</th>\n",
              "      <th>P3147S2</th>\n",
              "      <th>P3147S3</th>\n",
              "      <th>P3147S4</th>\n",
              "      <th>P3147S5</th>\n",
              "      <th>P3147S6</th>\n",
              "      <th>P3147S7</th>\n",
              "      <th>P3147S8</th>\n",
              "      <th>P3147S9</th>\n",
              "      <th>P3147S10</th>\n",
              "      <th>P3147S11</th>\n",
              "      <th>P3147S10A1</th>\n",
              "      <th>P6090</th>\n",
              "      <th>P6140</th>\n",
              "      <th>P6150</th>\n",
              "      <th>P6100</th>\n",
              "      <th>P6125</th>\n",
              "      <th>P6160</th>\n",
              "      <th>P6170</th>\n",
              "      <th>P6175</th>\n",
              "      <th>P6210</th>\n",
              "      <th>P6220</th>\n",
              "      <th>P6269</th>\n",
              "      <th>ESC</th>\n",
              "      <th>DPTO</th>\n",
              "      <th>P6290</th>\n",
              "      <th>...</th>\n",
              "      <th>P7320</th>\n",
              "      <th>P7350</th>\n",
              "      <th>P9460</th>\n",
              "      <th>P7390</th>\n",
              "      <th>P7390S1</th>\n",
              "      <th>P7420S1</th>\n",
              "      <th>P7420S2</th>\n",
              "      <th>P7420S3</th>\n",
              "      <th>P7420S4</th>\n",
              "      <th>P7420S5</th>\n",
              "      <th>P7420S6</th>\n",
              "      <th>P7420S7</th>\n",
              "      <th>P7420S8</th>\n",
              "      <th>P7422</th>\n",
              "      <th>P7422S1</th>\n",
              "      <th>P1806</th>\n",
              "      <th>P1519</th>\n",
              "      <th>P1883</th>\n",
              "      <th>RAMA2D_D_R4</th>\n",
              "      <th>OFICIO1</th>\n",
              "      <th>OFICIO2</th>\n",
              "      <th>DSCY</th>\n",
              "      <th>RAMA4D_D_R4</th>\n",
              "      <th>P7430</th>\n",
              "      <th>P7450</th>\n",
              "      <th>P7450S1</th>\n",
              "      <th>P7452</th>\n",
              "      <th>P7454</th>\n",
              "      <th>P7456</th>\n",
              "      <th>P7458</th>\n",
              "      <th>P7458S1</th>\n",
              "      <th>P7460</th>\n",
              "      <th>P7470</th>\n",
              "      <th>P7472</th>\n",
              "      <th>P7472S1</th>\n",
              "      <th>P744</th>\n",
              "      <th>P1884</th>\n",
              "      <th>P1807</th>\n",
              "      <th>P6921</th>\n",
              "      <th>p7440</th>\n",
              "    </tr>\n",
              "  </thead>\n",
              "  <tbody>\n",
              "    <tr>\n",
              "      <th>0</th>\n",
              "      <td>5443993</td>\n",
              "      <td>1</td>\n",
              "      <td>1</td>\n",
              "      <td>1</td>\n",
              "      <td>1</td>\n",
              "      <td>11</td>\n",
              "      <td>1970</td>\n",
              "      <td>50</td>\n",
              "      <td>1</td>\n",
              "      <td>6</td>\n",
              "      <td>2</td>\n",
              "      <td>3</td>\n",
              "      <td>3</td>\n",
              "      <td>1</td>\n",
              "      <td></td>\n",
              "      <td></td>\n",
              "      <td></td>\n",
              "      <td>1</td>\n",
              "      <td></td>\n",
              "      <td></td>\n",
              "      <td></td>\n",
              "      <td></td>\n",
              "      <td></td>\n",
              "      <td></td>\n",
              "      <td></td>\n",
              "      <td></td>\n",
              "      <td>1</td>\n",
              "      <td></td>\n",
              "      <td></td>\n",
              "      <td>3</td>\n",
              "      <td>2</td>\n",
              "      <td>1</td>\n",
              "      <td>2</td>\n",
              "      <td></td>\n",
              "      <td>4</td>\n",
              "      <td></td>\n",
              "      <td></td>\n",
              "      <td>8</td>\n",
              "      <td>5</td>\n",
              "      <td></td>\n",
              "      <td>...</td>\n",
              "      <td>NaN</td>\n",
              "      <td>NaN</td>\n",
              "      <td>NaN</td>\n",
              "      <td>NaN</td>\n",
              "      <td>NaN</td>\n",
              "      <td>NaN</td>\n",
              "      <td>NaN</td>\n",
              "      <td>NaN</td>\n",
              "      <td>NaN</td>\n",
              "      <td>NaN</td>\n",
              "      <td>NaN</td>\n",
              "      <td>NaN</td>\n",
              "      <td>NaN</td>\n",
              "      <td>NaN</td>\n",
              "      <td>NaN</td>\n",
              "      <td>NaN</td>\n",
              "      <td>NaN</td>\n",
              "      <td>NaN</td>\n",
              "      <td>NaN</td>\n",
              "      <td>NaN</td>\n",
              "      <td>NaN</td>\n",
              "      <td>NaN</td>\n",
              "      <td>NaN</td>\n",
              "      <td>NaN</td>\n",
              "      <td>NaN</td>\n",
              "      <td>NaN</td>\n",
              "      <td>NaN</td>\n",
              "      <td>NaN</td>\n",
              "      <td>NaN</td>\n",
              "      <td>NaN</td>\n",
              "      <td>NaN</td>\n",
              "      <td>NaN</td>\n",
              "      <td>NaN</td>\n",
              "      <td>NaN</td>\n",
              "      <td>NaN</td>\n",
              "      <td>NaN</td>\n",
              "      <td>NaN</td>\n",
              "      <td>NaN</td>\n",
              "      <td>NaN</td>\n",
              "      <td>NaN</td>\n",
              "    </tr>\n",
              "    <tr>\n",
              "      <th>1</th>\n",
              "      <td>5443993</td>\n",
              "      <td>1</td>\n",
              "      <td>2</td>\n",
              "      <td>1</td>\n",
              "      <td>2</td>\n",
              "      <td>6</td>\n",
              "      <td>1978</td>\n",
              "      <td>42</td>\n",
              "      <td>2</td>\n",
              "      <td>6</td>\n",
              "      <td>2</td>\n",
              "      <td>2</td>\n",
              "      <td>2</td>\n",
              "      <td>1</td>\n",
              "      <td></td>\n",
              "      <td></td>\n",
              "      <td></td>\n",
              "      <td></td>\n",
              "      <td></td>\n",
              "      <td></td>\n",
              "      <td></td>\n",
              "      <td></td>\n",
              "      <td></td>\n",
              "      <td></td>\n",
              "      <td>1</td>\n",
              "      <td></td>\n",
              "      <td>1</td>\n",
              "      <td></td>\n",
              "      <td></td>\n",
              "      <td>3</td>\n",
              "      <td>2</td>\n",
              "      <td>1</td>\n",
              "      <td>2</td>\n",
              "      <td></td>\n",
              "      <td>4</td>\n",
              "      <td></td>\n",
              "      <td></td>\n",
              "      <td>9</td>\n",
              "      <td>5</td>\n",
              "      <td></td>\n",
              "      <td>...</td>\n",
              "      <td>NaN</td>\n",
              "      <td>NaN</td>\n",
              "      <td>NaN</td>\n",
              "      <td>NaN</td>\n",
              "      <td>NaN</td>\n",
              "      <td>NaN</td>\n",
              "      <td>NaN</td>\n",
              "      <td>NaN</td>\n",
              "      <td>NaN</td>\n",
              "      <td>NaN</td>\n",
              "      <td>NaN</td>\n",
              "      <td>NaN</td>\n",
              "      <td>NaN</td>\n",
              "      <td>NaN</td>\n",
              "      <td>NaN</td>\n",
              "      <td>NaN</td>\n",
              "      <td>NaN</td>\n",
              "      <td>NaN</td>\n",
              "      <td>NaN</td>\n",
              "      <td>NaN</td>\n",
              "      <td>NaN</td>\n",
              "      <td>NaN</td>\n",
              "      <td>NaN</td>\n",
              "      <td>NaN</td>\n",
              "      <td>NaN</td>\n",
              "      <td>NaN</td>\n",
              "      <td>NaN</td>\n",
              "      <td>NaN</td>\n",
              "      <td>NaN</td>\n",
              "      <td>NaN</td>\n",
              "      <td>NaN</td>\n",
              "      <td>NaN</td>\n",
              "      <td>NaN</td>\n",
              "      <td>NaN</td>\n",
              "      <td>NaN</td>\n",
              "      <td>NaN</td>\n",
              "      <td>NaN</td>\n",
              "      <td>NaN</td>\n",
              "      <td>NaN</td>\n",
              "      <td>NaN</td>\n",
              "    </tr>\n",
              "    <tr>\n",
              "      <th>2</th>\n",
              "      <td>5443993</td>\n",
              "      <td>1</td>\n",
              "      <td>3</td>\n",
              "      <td>1</td>\n",
              "      <td>1</td>\n",
              "      <td>9</td>\n",
              "      <td>1997</td>\n",
              "      <td>23</td>\n",
              "      <td>3</td>\n",
              "      <td>6</td>\n",
              "      <td>6</td>\n",
              "      <td>1</td>\n",
              "      <td>1</td>\n",
              "      <td></td>\n",
              "      <td></td>\n",
              "      <td></td>\n",
              "      <td></td>\n",
              "      <td></td>\n",
              "      <td></td>\n",
              "      <td></td>\n",
              "      <td></td>\n",
              "      <td>1</td>\n",
              "      <td>1</td>\n",
              "      <td></td>\n",
              "      <td></td>\n",
              "      <td></td>\n",
              "      <td>1</td>\n",
              "      <td></td>\n",
              "      <td></td>\n",
              "      <td>3</td>\n",
              "      <td>2</td>\n",
              "      <td>1</td>\n",
              "      <td>1</td>\n",
              "      <td>1</td>\n",
              "      <td>6</td>\n",
              "      <td>2</td>\n",
              "      <td>2</td>\n",
              "      <td>15</td>\n",
              "      <td>5</td>\n",
              "      <td></td>\n",
              "      <td>...</td>\n",
              "      <td>NaN</td>\n",
              "      <td>NaN</td>\n",
              "      <td>NaN</td>\n",
              "      <td>NaN</td>\n",
              "      <td>NaN</td>\n",
              "      <td>NaN</td>\n",
              "      <td>NaN</td>\n",
              "      <td>NaN</td>\n",
              "      <td>NaN</td>\n",
              "      <td>NaN</td>\n",
              "      <td>NaN</td>\n",
              "      <td>NaN</td>\n",
              "      <td>NaN</td>\n",
              "      <td>NaN</td>\n",
              "      <td>NaN</td>\n",
              "      <td>NaN</td>\n",
              "      <td>NaN</td>\n",
              "      <td>NaN</td>\n",
              "      <td>NaN</td>\n",
              "      <td>NaN</td>\n",
              "      <td>NaN</td>\n",
              "      <td>NaN</td>\n",
              "      <td>NaN</td>\n",
              "      <td>2.0</td>\n",
              "      <td></td>\n",
              "      <td></td>\n",
              "      <td></td>\n",
              "      <td>2</td>\n",
              "      <td></td>\n",
              "      <td></td>\n",
              "      <td>.</td>\n",
              "      <td>2</td>\n",
              "      <td></td>\n",
              "      <td>2.0</td>\n",
              "      <td></td>\n",
              "      <td></td>\n",
              "      <td></td>\n",
              "      <td></td>\n",
              "      <td>2</td>\n",
              "      <td></td>\n",
              "    </tr>\n",
              "    <tr>\n",
              "      <th>3</th>\n",
              "      <td>5443993</td>\n",
              "      <td>1</td>\n",
              "      <td>4</td>\n",
              "      <td>1</td>\n",
              "      <td>1</td>\n",
              "      <td>5</td>\n",
              "      <td>2000</td>\n",
              "      <td>21</td>\n",
              "      <td>3</td>\n",
              "      <td>6</td>\n",
              "      <td>6</td>\n",
              "      <td>1</td>\n",
              "      <td>1</td>\n",
              "      <td></td>\n",
              "      <td></td>\n",
              "      <td></td>\n",
              "      <td></td>\n",
              "      <td></td>\n",
              "      <td>1</td>\n",
              "      <td></td>\n",
              "      <td></td>\n",
              "      <td></td>\n",
              "      <td></td>\n",
              "      <td></td>\n",
              "      <td></td>\n",
              "      <td></td>\n",
              "      <td>1</td>\n",
              "      <td></td>\n",
              "      <td></td>\n",
              "      <td>3</td>\n",
              "      <td>2</td>\n",
              "      <td>1</td>\n",
              "      <td>2</td>\n",
              "      <td></td>\n",
              "      <td>6</td>\n",
              "      <td>2</td>\n",
              "      <td>2</td>\n",
              "      <td>12</td>\n",
              "      <td>5</td>\n",
              "      <td></td>\n",
              "      <td>...</td>\n",
              "      <td>NaN</td>\n",
              "      <td>NaN</td>\n",
              "      <td>NaN</td>\n",
              "      <td>NaN</td>\n",
              "      <td>NaN</td>\n",
              "      <td>NaN</td>\n",
              "      <td>NaN</td>\n",
              "      <td>NaN</td>\n",
              "      <td>NaN</td>\n",
              "      <td>NaN</td>\n",
              "      <td>NaN</td>\n",
              "      <td>NaN</td>\n",
              "      <td>NaN</td>\n",
              "      <td>NaN</td>\n",
              "      <td>NaN</td>\n",
              "      <td>NaN</td>\n",
              "      <td>NaN</td>\n",
              "      <td>NaN</td>\n",
              "      <td>NaN</td>\n",
              "      <td>NaN</td>\n",
              "      <td>NaN</td>\n",
              "      <td>NaN</td>\n",
              "      <td>NaN</td>\n",
              "      <td>NaN</td>\n",
              "      <td>NaN</td>\n",
              "      <td>NaN</td>\n",
              "      <td>NaN</td>\n",
              "      <td>NaN</td>\n",
              "      <td>NaN</td>\n",
              "      <td>NaN</td>\n",
              "      <td>NaN</td>\n",
              "      <td>NaN</td>\n",
              "      <td>NaN</td>\n",
              "      <td>NaN</td>\n",
              "      <td>NaN</td>\n",
              "      <td>NaN</td>\n",
              "      <td>NaN</td>\n",
              "      <td>NaN</td>\n",
              "      <td>NaN</td>\n",
              "      <td>NaN</td>\n",
              "    </tr>\n",
              "    <tr>\n",
              "      <th>4</th>\n",
              "      <td>5443994</td>\n",
              "      <td>1</td>\n",
              "      <td>1</td>\n",
              "      <td>1</td>\n",
              "      <td>1</td>\n",
              "      <td>5</td>\n",
              "      <td>1976</td>\n",
              "      <td>45</td>\n",
              "      <td>1</td>\n",
              "      <td>6</td>\n",
              "      <td>3</td>\n",
              "      <td>3</td>\n",
              "      <td>2</td>\n",
              "      <td>1</td>\n",
              "      <td></td>\n",
              "      <td></td>\n",
              "      <td></td>\n",
              "      <td></td>\n",
              "      <td></td>\n",
              "      <td></td>\n",
              "      <td></td>\n",
              "      <td></td>\n",
              "      <td></td>\n",
              "      <td></td>\n",
              "      <td>1</td>\n",
              "      <td></td>\n",
              "      <td>1</td>\n",
              "      <td></td>\n",
              "      <td></td>\n",
              "      <td>1</td>\n",
              "      <td>2</td>\n",
              "      <td>1</td>\n",
              "      <td>2</td>\n",
              "      <td></td>\n",
              "      <td>6</td>\n",
              "      <td>4</td>\n",
              "      <td></td>\n",
              "      <td>21</td>\n",
              "      <td>5</td>\n",
              "      <td></td>\n",
              "      <td>...</td>\n",
              "      <td>NaN</td>\n",
              "      <td>NaN</td>\n",
              "      <td>NaN</td>\n",
              "      <td>NaN</td>\n",
              "      <td>NaN</td>\n",
              "      <td>NaN</td>\n",
              "      <td>NaN</td>\n",
              "      <td>NaN</td>\n",
              "      <td>NaN</td>\n",
              "      <td>NaN</td>\n",
              "      <td>NaN</td>\n",
              "      <td>NaN</td>\n",
              "      <td>NaN</td>\n",
              "      <td>NaN</td>\n",
              "      <td>NaN</td>\n",
              "      <td>NaN</td>\n",
              "      <td>NaN</td>\n",
              "      <td>NaN</td>\n",
              "      <td>NaN</td>\n",
              "      <td>NaN</td>\n",
              "      <td>NaN</td>\n",
              "      <td>NaN</td>\n",
              "      <td>NaN</td>\n",
              "      <td>NaN</td>\n",
              "      <td>NaN</td>\n",
              "      <td>NaN</td>\n",
              "      <td>NaN</td>\n",
              "      <td>NaN</td>\n",
              "      <td>NaN</td>\n",
              "      <td>NaN</td>\n",
              "      <td>NaN</td>\n",
              "      <td>NaN</td>\n",
              "      <td>NaN</td>\n",
              "      <td>NaN</td>\n",
              "      <td>NaN</td>\n",
              "      <td>NaN</td>\n",
              "      <td>NaN</td>\n",
              "      <td>NaN</td>\n",
              "      <td>NaN</td>\n",
              "      <td>NaN</td>\n",
              "    </tr>\n",
              "    <tr>\n",
              "      <th>...</th>\n",
              "      <td>...</td>\n",
              "      <td>...</td>\n",
              "      <td>...</td>\n",
              "      <td>...</td>\n",
              "      <td>...</td>\n",
              "      <td>...</td>\n",
              "      <td>...</td>\n",
              "      <td>...</td>\n",
              "      <td>...</td>\n",
              "      <td>...</td>\n",
              "      <td>...</td>\n",
              "      <td>...</td>\n",
              "      <td>...</td>\n",
              "      <td>...</td>\n",
              "      <td>...</td>\n",
              "      <td>...</td>\n",
              "      <td>...</td>\n",
              "      <td>...</td>\n",
              "      <td>...</td>\n",
              "      <td>...</td>\n",
              "      <td>...</td>\n",
              "      <td>...</td>\n",
              "      <td>...</td>\n",
              "      <td>...</td>\n",
              "      <td>...</td>\n",
              "      <td>...</td>\n",
              "      <td>...</td>\n",
              "      <td>...</td>\n",
              "      <td>...</td>\n",
              "      <td>...</td>\n",
              "      <td>...</td>\n",
              "      <td>...</td>\n",
              "      <td>...</td>\n",
              "      <td>...</td>\n",
              "      <td>...</td>\n",
              "      <td>...</td>\n",
              "      <td>...</td>\n",
              "      <td>...</td>\n",
              "      <td>...</td>\n",
              "      <td>...</td>\n",
              "      <td>...</td>\n",
              "      <td>...</td>\n",
              "      <td>...</td>\n",
              "      <td>...</td>\n",
              "      <td>...</td>\n",
              "      <td>...</td>\n",
              "      <td>...</td>\n",
              "      <td>...</td>\n",
              "      <td>...</td>\n",
              "      <td>...</td>\n",
              "      <td>...</td>\n",
              "      <td>...</td>\n",
              "      <td>...</td>\n",
              "      <td>...</td>\n",
              "      <td>...</td>\n",
              "      <td>...</td>\n",
              "      <td>...</td>\n",
              "      <td>...</td>\n",
              "      <td>...</td>\n",
              "      <td>...</td>\n",
              "      <td>...</td>\n",
              "      <td>...</td>\n",
              "      <td>...</td>\n",
              "      <td>...</td>\n",
              "      <td>...</td>\n",
              "      <td>...</td>\n",
              "      <td>...</td>\n",
              "      <td>...</td>\n",
              "      <td>...</td>\n",
              "      <td>...</td>\n",
              "      <td>...</td>\n",
              "      <td>...</td>\n",
              "      <td>...</td>\n",
              "      <td>...</td>\n",
              "      <td>...</td>\n",
              "      <td>...</td>\n",
              "      <td>...</td>\n",
              "      <td>...</td>\n",
              "      <td>...</td>\n",
              "      <td>...</td>\n",
              "      <td>...</td>\n",
              "    </tr>\n",
              "    <tr>\n",
              "      <th>28357</th>\n",
              "      <td>5468832</td>\n",
              "      <td>1</td>\n",
              "      <td>8</td>\n",
              "      <td>1</td>\n",
              "      <td>1</td>\n",
              "      <td>3</td>\n",
              "      <td>2017</td>\n",
              "      <td>4</td>\n",
              "      <td>4</td>\n",
              "      <td>6</td>\n",
              "      <td></td>\n",
              "      <td>2</td>\n",
              "      <td>1</td>\n",
              "      <td></td>\n",
              "      <td></td>\n",
              "      <td></td>\n",
              "      <td></td>\n",
              "      <td></td>\n",
              "      <td></td>\n",
              "      <td></td>\n",
              "      <td></td>\n",
              "      <td></td>\n",
              "      <td></td>\n",
              "      <td></td>\n",
              "      <td></td>\n",
              "      <td></td>\n",
              "      <td>1</td>\n",
              "      <td></td>\n",
              "      <td></td>\n",
              "      <td>1</td>\n",
              "      <td>2</td>\n",
              "      <td>2</td>\n",
              "      <td>1</td>\n",
              "      <td>2</td>\n",
              "      <td>2</td>\n",
              "      <td></td>\n",
              "      <td></td>\n",
              "      <td>0</td>\n",
              "      <td>5</td>\n",
              "      <td>NaN</td>\n",
              "      <td>...</td>\n",
              "      <td>NaN</td>\n",
              "      <td>NaN</td>\n",
              "      <td>NaN</td>\n",
              "      <td>NaN</td>\n",
              "      <td>NaN</td>\n",
              "      <td>NaN</td>\n",
              "      <td>NaN</td>\n",
              "      <td>NaN</td>\n",
              "      <td>NaN</td>\n",
              "      <td>NaN</td>\n",
              "      <td>NaN</td>\n",
              "      <td>NaN</td>\n",
              "      <td>NaN</td>\n",
              "      <td>NaN</td>\n",
              "      <td>NaN</td>\n",
              "      <td>NaN</td>\n",
              "      <td>NaN</td>\n",
              "      <td>NaN</td>\n",
              "      <td>NaN</td>\n",
              "      <td>NaN</td>\n",
              "      <td>NaN</td>\n",
              "      <td>NaN</td>\n",
              "      <td>NaN</td>\n",
              "      <td>NaN</td>\n",
              "      <td>NaN</td>\n",
              "      <td>NaN</td>\n",
              "      <td>NaN</td>\n",
              "      <td>NaN</td>\n",
              "      <td>NaN</td>\n",
              "      <td>NaN</td>\n",
              "      <td>NaN</td>\n",
              "      <td>NaN</td>\n",
              "      <td>NaN</td>\n",
              "      <td>NaN</td>\n",
              "      <td>NaN</td>\n",
              "      <td>NaN</td>\n",
              "      <td>NaN</td>\n",
              "      <td>NaN</td>\n",
              "      <td>NaN</td>\n",
              "      <td>NaN</td>\n",
              "    </tr>\n",
              "    <tr>\n",
              "      <th>28358</th>\n",
              "      <td>5468833</td>\n",
              "      <td>1</td>\n",
              "      <td>1</td>\n",
              "      <td>1</td>\n",
              "      <td>1</td>\n",
              "      <td>8</td>\n",
              "      <td>1962</td>\n",
              "      <td>58</td>\n",
              "      <td>1</td>\n",
              "      <td>6</td>\n",
              "      <td>3</td>\n",
              "      <td>3</td>\n",
              "      <td>3</td>\n",
              "      <td>1</td>\n",
              "      <td></td>\n",
              "      <td></td>\n",
              "      <td></td>\n",
              "      <td>1</td>\n",
              "      <td></td>\n",
              "      <td></td>\n",
              "      <td></td>\n",
              "      <td></td>\n",
              "      <td>1</td>\n",
              "      <td></td>\n",
              "      <td></td>\n",
              "      <td></td>\n",
              "      <td>1</td>\n",
              "      <td></td>\n",
              "      <td></td>\n",
              "      <td>1</td>\n",
              "      <td>2</td>\n",
              "      <td>1</td>\n",
              "      <td>2</td>\n",
              "      <td></td>\n",
              "      <td>3</td>\n",
              "      <td></td>\n",
              "      <td></td>\n",
              "      <td>5</td>\n",
              "      <td>5</td>\n",
              "      <td></td>\n",
              "      <td>...</td>\n",
              "      <td>NaN</td>\n",
              "      <td>NaN</td>\n",
              "      <td>NaN</td>\n",
              "      <td>NaN</td>\n",
              "      <td>NaN</td>\n",
              "      <td>NaN</td>\n",
              "      <td>NaN</td>\n",
              "      <td>NaN</td>\n",
              "      <td>NaN</td>\n",
              "      <td>NaN</td>\n",
              "      <td>NaN</td>\n",
              "      <td>NaN</td>\n",
              "      <td>NaN</td>\n",
              "      <td>NaN</td>\n",
              "      <td>NaN</td>\n",
              "      <td>NaN</td>\n",
              "      <td>NaN</td>\n",
              "      <td>NaN</td>\n",
              "      <td>NaN</td>\n",
              "      <td>NaN</td>\n",
              "      <td>NaN</td>\n",
              "      <td>NaN</td>\n",
              "      <td>NaN</td>\n",
              "      <td>NaN</td>\n",
              "      <td>NaN</td>\n",
              "      <td>NaN</td>\n",
              "      <td>NaN</td>\n",
              "      <td>NaN</td>\n",
              "      <td>NaN</td>\n",
              "      <td>NaN</td>\n",
              "      <td>NaN</td>\n",
              "      <td>NaN</td>\n",
              "      <td>NaN</td>\n",
              "      <td>NaN</td>\n",
              "      <td>NaN</td>\n",
              "      <td>NaN</td>\n",
              "      <td>NaN</td>\n",
              "      <td>NaN</td>\n",
              "      <td>NaN</td>\n",
              "      <td>NaN</td>\n",
              "    </tr>\n",
              "    <tr>\n",
              "      <th>28359</th>\n",
              "      <td>5468833</td>\n",
              "      <td>1</td>\n",
              "      <td>2</td>\n",
              "      <td>1</td>\n",
              "      <td>2</td>\n",
              "      <td>11</td>\n",
              "      <td>1967</td>\n",
              "      <td>53</td>\n",
              "      <td>2</td>\n",
              "      <td>6</td>\n",
              "      <td>3</td>\n",
              "      <td>3</td>\n",
              "      <td>2</td>\n",
              "      <td>1</td>\n",
              "      <td></td>\n",
              "      <td></td>\n",
              "      <td></td>\n",
              "      <td>1</td>\n",
              "      <td></td>\n",
              "      <td></td>\n",
              "      <td></td>\n",
              "      <td></td>\n",
              "      <td>1</td>\n",
              "      <td></td>\n",
              "      <td></td>\n",
              "      <td></td>\n",
              "      <td>1</td>\n",
              "      <td></td>\n",
              "      <td></td>\n",
              "      <td>1</td>\n",
              "      <td>2</td>\n",
              "      <td>1</td>\n",
              "      <td>2</td>\n",
              "      <td></td>\n",
              "      <td>3</td>\n",
              "      <td></td>\n",
              "      <td></td>\n",
              "      <td>5</td>\n",
              "      <td>5</td>\n",
              "      <td></td>\n",
              "      <td>...</td>\n",
              "      <td>NaN</td>\n",
              "      <td>NaN</td>\n",
              "      <td>NaN</td>\n",
              "      <td>NaN</td>\n",
              "      <td>NaN</td>\n",
              "      <td>NaN</td>\n",
              "      <td>NaN</td>\n",
              "      <td>NaN</td>\n",
              "      <td>NaN</td>\n",
              "      <td>NaN</td>\n",
              "      <td>NaN</td>\n",
              "      <td>NaN</td>\n",
              "      <td>NaN</td>\n",
              "      <td>NaN</td>\n",
              "      <td>NaN</td>\n",
              "      <td>NaN</td>\n",
              "      <td>NaN</td>\n",
              "      <td>NaN</td>\n",
              "      <td>NaN</td>\n",
              "      <td>NaN</td>\n",
              "      <td>NaN</td>\n",
              "      <td>NaN</td>\n",
              "      <td>NaN</td>\n",
              "      <td>1.0</td>\n",
              "      <td>8</td>\n",
              "      <td></td>\n",
              "      <td>2</td>\n",
              "      <td></td>\n",
              "      <td></td>\n",
              "      <td>9</td>\n",
              "      <td></td>\n",
              "      <td>1</td>\n",
              "      <td>2</td>\n",
              "      <td>2.0</td>\n",
              "      <td></td>\n",
              "      <td></td>\n",
              "      <td></td>\n",
              "      <td></td>\n",
              "      <td>1</td>\n",
              "      <td>4</td>\n",
              "    </tr>\n",
              "    <tr>\n",
              "      <th>28360</th>\n",
              "      <td>5468833</td>\n",
              "      <td>1</td>\n",
              "      <td>3</td>\n",
              "      <td>1</td>\n",
              "      <td>1</td>\n",
              "      <td>10</td>\n",
              "      <td>1994</td>\n",
              "      <td>26</td>\n",
              "      <td>3</td>\n",
              "      <td>6</td>\n",
              "      <td>6</td>\n",
              "      <td>1</td>\n",
              "      <td>1</td>\n",
              "      <td></td>\n",
              "      <td></td>\n",
              "      <td></td>\n",
              "      <td></td>\n",
              "      <td></td>\n",
              "      <td></td>\n",
              "      <td></td>\n",
              "      <td></td>\n",
              "      <td></td>\n",
              "      <td></td>\n",
              "      <td></td>\n",
              "      <td>1</td>\n",
              "      <td></td>\n",
              "      <td>1</td>\n",
              "      <td></td>\n",
              "      <td></td>\n",
              "      <td>3</td>\n",
              "      <td>2</td>\n",
              "      <td>1</td>\n",
              "      <td>2</td>\n",
              "      <td></td>\n",
              "      <td>5</td>\n",
              "      <td>2</td>\n",
              "      <td></td>\n",
              "      <td>11</td>\n",
              "      <td>5</td>\n",
              "      <td></td>\n",
              "      <td>...</td>\n",
              "      <td>NaN</td>\n",
              "      <td>NaN</td>\n",
              "      <td>NaN</td>\n",
              "      <td>NaN</td>\n",
              "      <td>NaN</td>\n",
              "      <td>NaN</td>\n",
              "      <td>NaN</td>\n",
              "      <td>NaN</td>\n",
              "      <td>NaN</td>\n",
              "      <td>NaN</td>\n",
              "      <td>NaN</td>\n",
              "      <td>NaN</td>\n",
              "      <td>NaN</td>\n",
              "      <td>NaN</td>\n",
              "      <td>NaN</td>\n",
              "      <td>NaN</td>\n",
              "      <td>NaN</td>\n",
              "      <td>NaN</td>\n",
              "      <td>NaN</td>\n",
              "      <td>NaN</td>\n",
              "      <td>NaN</td>\n",
              "      <td>NaN</td>\n",
              "      <td>NaN</td>\n",
              "      <td>NaN</td>\n",
              "      <td>NaN</td>\n",
              "      <td>NaN</td>\n",
              "      <td>NaN</td>\n",
              "      <td>NaN</td>\n",
              "      <td>NaN</td>\n",
              "      <td>NaN</td>\n",
              "      <td>NaN</td>\n",
              "      <td>NaN</td>\n",
              "      <td>NaN</td>\n",
              "      <td>NaN</td>\n",
              "      <td>NaN</td>\n",
              "      <td>NaN</td>\n",
              "      <td>NaN</td>\n",
              "      <td>NaN</td>\n",
              "      <td>NaN</td>\n",
              "      <td>NaN</td>\n",
              "    </tr>\n",
              "    <tr>\n",
              "      <th>28361</th>\n",
              "      <td>5468833</td>\n",
              "      <td>1</td>\n",
              "      <td>4</td>\n",
              "      <td>1</td>\n",
              "      <td>1</td>\n",
              "      <td>12</td>\n",
              "      <td>1990</td>\n",
              "      <td>30</td>\n",
              "      <td>3</td>\n",
              "      <td>6</td>\n",
              "      <td>4</td>\n",
              "      <td>1</td>\n",
              "      <td>1</td>\n",
              "      <td></td>\n",
              "      <td></td>\n",
              "      <td></td>\n",
              "      <td></td>\n",
              "      <td></td>\n",
              "      <td></td>\n",
              "      <td></td>\n",
              "      <td></td>\n",
              "      <td></td>\n",
              "      <td>1</td>\n",
              "      <td></td>\n",
              "      <td></td>\n",
              "      <td></td>\n",
              "      <td>1</td>\n",
              "      <td></td>\n",
              "      <td></td>\n",
              "      <td>1</td>\n",
              "      <td>2</td>\n",
              "      <td>1</td>\n",
              "      <td>2</td>\n",
              "      <td></td>\n",
              "      <td>6</td>\n",
              "      <td>3</td>\n",
              "      <td></td>\n",
              "      <td>15</td>\n",
              "      <td>5</td>\n",
              "      <td></td>\n",
              "      <td>...</td>\n",
              "      <td>NaN</td>\n",
              "      <td>NaN</td>\n",
              "      <td>NaN</td>\n",
              "      <td>NaN</td>\n",
              "      <td>NaN</td>\n",
              "      <td>NaN</td>\n",
              "      <td>NaN</td>\n",
              "      <td>NaN</td>\n",
              "      <td>NaN</td>\n",
              "      <td>NaN</td>\n",
              "      <td>NaN</td>\n",
              "      <td>NaN</td>\n",
              "      <td>NaN</td>\n",
              "      <td>NaN</td>\n",
              "      <td>NaN</td>\n",
              "      <td>NaN</td>\n",
              "      <td>NaN</td>\n",
              "      <td>NaN</td>\n",
              "      <td>NaN</td>\n",
              "      <td>NaN</td>\n",
              "      <td>NaN</td>\n",
              "      <td>NaN</td>\n",
              "      <td>NaN</td>\n",
              "      <td>NaN</td>\n",
              "      <td>NaN</td>\n",
              "      <td>NaN</td>\n",
              "      <td>NaN</td>\n",
              "      <td>NaN</td>\n",
              "      <td>NaN</td>\n",
              "      <td>NaN</td>\n",
              "      <td>NaN</td>\n",
              "      <td>NaN</td>\n",
              "      <td>NaN</td>\n",
              "      <td>NaN</td>\n",
              "      <td>NaN</td>\n",
              "      <td>NaN</td>\n",
              "      <td>NaN</td>\n",
              "      <td>NaN</td>\n",
              "      <td>NaN</td>\n",
              "      <td>NaN</td>\n",
              "    </tr>\n",
              "  </tbody>\n",
              "</table>\n",
              "<p>28362 rows × 249 columns</p>\n",
              "</div>"
            ],
            "text/plain": [
              "       DIRECTORIO  SECUENCIA_P  ORDEN  HOGAR  ...  P1884 P1807 P6921  p7440\n",
              "0         5443993            1      1      1  ...    NaN   NaN   NaN    NaN\n",
              "1         5443993            1      2      1  ...    NaN   NaN   NaN    NaN\n",
              "2         5443993            1      3      1  ...                  2       \n",
              "3         5443993            1      4      1  ...    NaN   NaN   NaN    NaN\n",
              "4         5443994            1      1      1  ...    NaN   NaN   NaN    NaN\n",
              "...           ...          ...    ...    ...  ...    ...   ...   ...    ...\n",
              "28357     5468832            1      8      1  ...    NaN   NaN   NaN    NaN\n",
              "28358     5468833            1      1      1  ...    NaN   NaN   NaN    NaN\n",
              "28359     5468833            1      2      1  ...                  1      4\n",
              "28360     5468833            1      3      1  ...    NaN   NaN   NaN    NaN\n",
              "28361     5468833            1      4      1  ...    NaN   NaN   NaN    NaN\n",
              "\n",
              "[28362 rows x 249 columns]"
            ]
          },
          "metadata": {},
          "execution_count": 119
        }
      ]
    },
    {
      "cell_type": "markdown",
      "metadata": {
        "id": "5K7Yh7Dk-Ssm"
      },
      "source": [
        "#JUNIO"
      ]
    },
    {
      "cell_type": "code",
      "metadata": {
        "id": "GlxhvrCr-UxG"
      },
      "source": [
        "import numpy as np\n",
        "import pandas as pd\n",
        "data_desocupados_junio = pd.read_excel('/content/DESOCUPADOS JUNIO.xlsx')\n",
        "data_ocupados_junio = pd.read_excel('/content/OCUPADOS JUNIO.xlsx')\n",
        "data_inactivos_junio = pd.read_excel('/content/INACTIVOS JUNIO.xlsx')\n",
        "data_fuerza_t_junio = pd.read_excel('/content/FUERZA DE TRABAJO JUNIO.xlsx')\n",
        "data_caracteristicas_junio = pd.read_excel('/content/CARACTERICAS GENERALES JUNIO.xlsx')"
      ],
      "execution_count": null,
      "outputs": []
    },
    {
      "cell_type": "code",
      "metadata": {
        "colab": {
          "base_uri": "https://localhost:8080/",
          "height": 439
        },
        "id": "1ToxeE6je1Nk",
        "outputId": "8428a421-f64d-4985-e7f2-8b1172e0ae97"
      },
      "source": [
        "data_caracteristicas_junio"
      ],
      "execution_count": null,
      "outputs": [
        {
          "output_type": "execute_result",
          "data": {
            "text/html": [
              "<div>\n",
              "<style scoped>\n",
              "    .dataframe tbody tr th:only-of-type {\n",
              "        vertical-align: middle;\n",
              "    }\n",
              "\n",
              "    .dataframe tbody tr th {\n",
              "        vertical-align: top;\n",
              "    }\n",
              "\n",
              "    .dataframe thead th {\n",
              "        text-align: right;\n",
              "    }\n",
              "</style>\n",
              "<table border=\"1\" class=\"dataframe\">\n",
              "  <thead>\n",
              "    <tr style=\"text-align: right;\">\n",
              "      <th></th>\n",
              "      <th>DIRECTORIO</th>\n",
              "      <th>SECUENCIA_P</th>\n",
              "      <th>ORDEN</th>\n",
              "      <th>HOGAR</th>\n",
              "      <th>REGIS</th>\n",
              "      <th>P6016</th>\n",
              "      <th>P6020</th>\n",
              "      <th>P6030S1</th>\n",
              "      <th>P6030S3</th>\n",
              "      <th>P6040</th>\n",
              "      <th>P6050</th>\n",
              "      <th>P6080</th>\n",
              "      <th>P6080S1</th>\n",
              "      <th>P6070</th>\n",
              "      <th>P6081</th>\n",
              "      <th>P6081S1</th>\n",
              "      <th>P6083</th>\n",
              "      <th>P6083S1</th>\n",
              "      <th>P6071</th>\n",
              "      <th>P6071S1</th>\n",
              "      <th>P3147S1</th>\n",
              "      <th>P3147S2</th>\n",
              "      <th>P3147S3</th>\n",
              "      <th>P3147S4</th>\n",
              "      <th>P3147S5</th>\n",
              "      <th>P3147S6</th>\n",
              "      <th>P3147S7</th>\n",
              "      <th>P3147S8</th>\n",
              "      <th>P3147S9</th>\n",
              "      <th>P3147S10</th>\n",
              "      <th>P3147S11</th>\n",
              "      <th>P3147S10A1</th>\n",
              "      <th>P3246</th>\n",
              "      <th>P6090</th>\n",
              "      <th>P6140</th>\n",
              "      <th>P6150</th>\n",
              "      <th>P6100</th>\n",
              "      <th>P6110</th>\n",
              "      <th>P6120</th>\n",
              "      <th>P6125</th>\n",
              "      <th>P6160</th>\n",
              "      <th>P6170</th>\n",
              "      <th>P6175</th>\n",
              "      <th>P6210</th>\n",
              "      <th>P6210S1</th>\n",
              "      <th>P6220</th>\n",
              "      <th>P6269</th>\n",
              "      <th>AREA</th>\n",
              "      <th>ESC</th>\n",
              "      <th>MES</th>\n",
              "      <th>DPTO</th>\n",
              "      <th>fex_c_2011</th>\n",
              "    </tr>\n",
              "  </thead>\n",
              "  <tbody>\n",
              "    <tr>\n",
              "      <th>0</th>\n",
              "      <td>5468958</td>\n",
              "      <td>1</td>\n",
              "      <td>1</td>\n",
              "      <td>1</td>\n",
              "      <td>10</td>\n",
              "      <td>1</td>\n",
              "      <td>2</td>\n",
              "      <td>12</td>\n",
              "      <td>1992</td>\n",
              "      <td>28</td>\n",
              "      <td>1</td>\n",
              "      <td>5</td>\n",
              "      <td></td>\n",
              "      <td>6</td>\n",
              "      <td>3</td>\n",
              "      <td></td>\n",
              "      <td>1</td>\n",
              "      <td>3</td>\n",
              "      <td></td>\n",
              "      <td></td>\n",
              "      <td></td>\n",
              "      <td></td>\n",
              "      <td></td>\n",
              "      <td>1</td>\n",
              "      <td></td>\n",
              "      <td></td>\n",
              "      <td></td>\n",
              "      <td></td>\n",
              "      <td></td>\n",
              "      <td></td>\n",
              "      <td></td>\n",
              "      <td></td>\n",
              "      <td>2</td>\n",
              "      <td>1</td>\n",
              "      <td></td>\n",
              "      <td></td>\n",
              "      <td>1</td>\n",
              "      <td>1</td>\n",
              "      <td>64000</td>\n",
              "      <td>2</td>\n",
              "      <td>1</td>\n",
              "      <td>2</td>\n",
              "      <td></td>\n",
              "      <td>6</td>\n",
              "      <td>2</td>\n",
              "      <td>3</td>\n",
              "      <td></td>\n",
              "      <td>5</td>\n",
              "      <td>13</td>\n",
              "      <td>6</td>\n",
              "      <td>5</td>\n",
              "      <td>1442.391087</td>\n",
              "    </tr>\n",
              "    <tr>\n",
              "      <th>1</th>\n",
              "      <td>5468958</td>\n",
              "      <td>1</td>\n",
              "      <td>2</td>\n",
              "      <td>1</td>\n",
              "      <td>10</td>\n",
              "      <td>1</td>\n",
              "      <td>1</td>\n",
              "      <td>8</td>\n",
              "      <td>2012</td>\n",
              "      <td>8</td>\n",
              "      <td>3</td>\n",
              "      <td>5</td>\n",
              "      <td></td>\n",
              "      <td></td>\n",
              "      <td>2</td>\n",
              "      <td></td>\n",
              "      <td>1</td>\n",
              "      <td>1</td>\n",
              "      <td></td>\n",
              "      <td></td>\n",
              "      <td></td>\n",
              "      <td></td>\n",
              "      <td></td>\n",
              "      <td></td>\n",
              "      <td></td>\n",
              "      <td></td>\n",
              "      <td></td>\n",
              "      <td></td>\n",
              "      <td></td>\n",
              "      <td></td>\n",
              "      <td></td>\n",
              "      <td></td>\n",
              "      <td></td>\n",
              "      <td>1</td>\n",
              "      <td></td>\n",
              "      <td></td>\n",
              "      <td>1</td>\n",
              "      <td>5</td>\n",
              "      <td></td>\n",
              "      <td>2</td>\n",
              "      <td>1</td>\n",
              "      <td>1</td>\n",
              "      <td>1</td>\n",
              "      <td>3</td>\n",
              "      <td>2</td>\n",
              "      <td></td>\n",
              "      <td></td>\n",
              "      <td>5</td>\n",
              "      <td>2</td>\n",
              "      <td>6</td>\n",
              "      <td>5</td>\n",
              "      <td>1442.391087</td>\n",
              "    </tr>\n",
              "    <tr>\n",
              "      <th>2</th>\n",
              "      <td>5468958</td>\n",
              "      <td>1</td>\n",
              "      <td>3</td>\n",
              "      <td>1</td>\n",
              "      <td>10</td>\n",
              "      <td>3</td>\n",
              "      <td>2</td>\n",
              "      <td>11</td>\n",
              "      <td>1967</td>\n",
              "      <td>53</td>\n",
              "      <td>5</td>\n",
              "      <td>5</td>\n",
              "      <td></td>\n",
              "      <td>6</td>\n",
              "      <td>3</td>\n",
              "      <td></td>\n",
              "      <td>2</td>\n",
              "      <td></td>\n",
              "      <td></td>\n",
              "      <td></td>\n",
              "      <td></td>\n",
              "      <td></td>\n",
              "      <td>1</td>\n",
              "      <td>1</td>\n",
              "      <td></td>\n",
              "      <td></td>\n",
              "      <td></td>\n",
              "      <td></td>\n",
              "      <td></td>\n",
              "      <td></td>\n",
              "      <td></td>\n",
              "      <td></td>\n",
              "      <td></td>\n",
              "      <td>1</td>\n",
              "      <td></td>\n",
              "      <td></td>\n",
              "      <td>3</td>\n",
              "      <td></td>\n",
              "      <td></td>\n",
              "      <td>2</td>\n",
              "      <td>1</td>\n",
              "      <td>2</td>\n",
              "      <td></td>\n",
              "      <td>3</td>\n",
              "      <td>3</td>\n",
              "      <td></td>\n",
              "      <td></td>\n",
              "      <td>5</td>\n",
              "      <td>3</td>\n",
              "      <td>6</td>\n",
              "      <td>5</td>\n",
              "      <td>1442.391087</td>\n",
              "    </tr>\n",
              "    <tr>\n",
              "      <th>3</th>\n",
              "      <td>5468958</td>\n",
              "      <td>1</td>\n",
              "      <td>4</td>\n",
              "      <td>1</td>\n",
              "      <td>10</td>\n",
              "      <td>4</td>\n",
              "      <td>1</td>\n",
              "      <td>8</td>\n",
              "      <td>2006</td>\n",
              "      <td>14</td>\n",
              "      <td>5</td>\n",
              "      <td>5</td>\n",
              "      <td></td>\n",
              "      <td>6</td>\n",
              "      <td>3</td>\n",
              "      <td></td>\n",
              "      <td>2</td>\n",
              "      <td></td>\n",
              "      <td></td>\n",
              "      <td></td>\n",
              "      <td></td>\n",
              "      <td></td>\n",
              "      <td></td>\n",
              "      <td></td>\n",
              "      <td></td>\n",
              "      <td></td>\n",
              "      <td></td>\n",
              "      <td>1</td>\n",
              "      <td></td>\n",
              "      <td></td>\n",
              "      <td></td>\n",
              "      <td></td>\n",
              "      <td></td>\n",
              "      <td>1</td>\n",
              "      <td></td>\n",
              "      <td></td>\n",
              "      <td>3</td>\n",
              "      <td></td>\n",
              "      <td></td>\n",
              "      <td>2</td>\n",
              "      <td>1</td>\n",
              "      <td>1</td>\n",
              "      <td>1</td>\n",
              "      <td>4</td>\n",
              "      <td>8</td>\n",
              "      <td></td>\n",
              "      <td></td>\n",
              "      <td>5</td>\n",
              "      <td>8</td>\n",
              "      <td>6</td>\n",
              "      <td>5</td>\n",
              "      <td>1442.391087</td>\n",
              "    </tr>\n",
              "    <tr>\n",
              "      <th>4</th>\n",
              "      <td>5468958</td>\n",
              "      <td>1</td>\n",
              "      <td>5</td>\n",
              "      <td>1</td>\n",
              "      <td>10</td>\n",
              "      <td>5</td>\n",
              "      <td>1</td>\n",
              "      <td>1</td>\n",
              "      <td>2007</td>\n",
              "      <td>14</td>\n",
              "      <td>5</td>\n",
              "      <td>5</td>\n",
              "      <td></td>\n",
              "      <td>6</td>\n",
              "      <td>2</td>\n",
              "      <td></td>\n",
              "      <td>2</td>\n",
              "      <td></td>\n",
              "      <td></td>\n",
              "      <td></td>\n",
              "      <td></td>\n",
              "      <td></td>\n",
              "      <td></td>\n",
              "      <td></td>\n",
              "      <td></td>\n",
              "      <td></td>\n",
              "      <td></td>\n",
              "      <td>1</td>\n",
              "      <td></td>\n",
              "      <td></td>\n",
              "      <td></td>\n",
              "      <td></td>\n",
              "      <td></td>\n",
              "      <td>1</td>\n",
              "      <td></td>\n",
              "      <td></td>\n",
              "      <td>1</td>\n",
              "      <td>5</td>\n",
              "      <td></td>\n",
              "      <td>2</td>\n",
              "      <td>1</td>\n",
              "      <td>1</td>\n",
              "      <td>1</td>\n",
              "      <td>4</td>\n",
              "      <td>8</td>\n",
              "      <td></td>\n",
              "      <td></td>\n",
              "      <td>5</td>\n",
              "      <td>8</td>\n",
              "      <td>6</td>\n",
              "      <td>5</td>\n",
              "      <td>1442.391087</td>\n",
              "    </tr>\n",
              "    <tr>\n",
              "      <th>...</th>\n",
              "      <td>...</td>\n",
              "      <td>...</td>\n",
              "      <td>...</td>\n",
              "      <td>...</td>\n",
              "      <td>...</td>\n",
              "      <td>...</td>\n",
              "      <td>...</td>\n",
              "      <td>...</td>\n",
              "      <td>...</td>\n",
              "      <td>...</td>\n",
              "      <td>...</td>\n",
              "      <td>...</td>\n",
              "      <td>...</td>\n",
              "      <td>...</td>\n",
              "      <td>...</td>\n",
              "      <td>...</td>\n",
              "      <td>...</td>\n",
              "      <td>...</td>\n",
              "      <td>...</td>\n",
              "      <td>...</td>\n",
              "      <td>...</td>\n",
              "      <td>...</td>\n",
              "      <td>...</td>\n",
              "      <td>...</td>\n",
              "      <td>...</td>\n",
              "      <td>...</td>\n",
              "      <td>...</td>\n",
              "      <td>...</td>\n",
              "      <td>...</td>\n",
              "      <td>...</td>\n",
              "      <td>...</td>\n",
              "      <td>...</td>\n",
              "      <td>...</td>\n",
              "      <td>...</td>\n",
              "      <td>...</td>\n",
              "      <td>...</td>\n",
              "      <td>...</td>\n",
              "      <td>...</td>\n",
              "      <td>...</td>\n",
              "      <td>...</td>\n",
              "      <td>...</td>\n",
              "      <td>...</td>\n",
              "      <td>...</td>\n",
              "      <td>...</td>\n",
              "      <td>...</td>\n",
              "      <td>...</td>\n",
              "      <td>...</td>\n",
              "      <td>...</td>\n",
              "      <td>...</td>\n",
              "      <td>...</td>\n",
              "      <td>...</td>\n",
              "      <td>...</td>\n",
              "    </tr>\n",
              "    <tr>\n",
              "      <th>27725</th>\n",
              "      <td>5494047</td>\n",
              "      <td>1</td>\n",
              "      <td>2</td>\n",
              "      <td>1</td>\n",
              "      <td>10</td>\n",
              "      <td>2</td>\n",
              "      <td>1</td>\n",
              "      <td>7</td>\n",
              "      <td>1983</td>\n",
              "      <td>37</td>\n",
              "      <td>2</td>\n",
              "      <td>6</td>\n",
              "      <td></td>\n",
              "      <td>2</td>\n",
              "      <td>3</td>\n",
              "      <td></td>\n",
              "      <td>2</td>\n",
              "      <td></td>\n",
              "      <td>1</td>\n",
              "      <td>1</td>\n",
              "      <td></td>\n",
              "      <td></td>\n",
              "      <td></td>\n",
              "      <td></td>\n",
              "      <td></td>\n",
              "      <td></td>\n",
              "      <td></td>\n",
              "      <td></td>\n",
              "      <td></td>\n",
              "      <td></td>\n",
              "      <td>1</td>\n",
              "      <td></td>\n",
              "      <td></td>\n",
              "      <td>2</td>\n",
              "      <td>1</td>\n",
              "      <td>12</td>\n",
              "      <td></td>\n",
              "      <td></td>\n",
              "      <td></td>\n",
              "      <td>9</td>\n",
              "      <td>1</td>\n",
              "      <td>2</td>\n",
              "      <td></td>\n",
              "      <td>3</td>\n",
              "      <td>5</td>\n",
              "      <td></td>\n",
              "      <td></td>\n",
              "      <td>66</td>\n",
              "      <td>5</td>\n",
              "      <td>6</td>\n",
              "      <td>66</td>\n",
              "      <td>422.469753</td>\n",
              "    </tr>\n",
              "    <tr>\n",
              "      <th>27726</th>\n",
              "      <td>5494047</td>\n",
              "      <td>1</td>\n",
              "      <td>3</td>\n",
              "      <td>1</td>\n",
              "      <td>10</td>\n",
              "      <td>3</td>\n",
              "      <td>2</td>\n",
              "      <td>7</td>\n",
              "      <td>1999</td>\n",
              "      <td>22</td>\n",
              "      <td>3</td>\n",
              "      <td>6</td>\n",
              "      <td></td>\n",
              "      <td>6</td>\n",
              "      <td>1</td>\n",
              "      <td>2</td>\n",
              "      <td>1</td>\n",
              "      <td>1</td>\n",
              "      <td></td>\n",
              "      <td></td>\n",
              "      <td></td>\n",
              "      <td></td>\n",
              "      <td></td>\n",
              "      <td></td>\n",
              "      <td></td>\n",
              "      <td></td>\n",
              "      <td></td>\n",
              "      <td></td>\n",
              "      <td></td>\n",
              "      <td></td>\n",
              "      <td>1</td>\n",
              "      <td></td>\n",
              "      <td></td>\n",
              "      <td>2</td>\n",
              "      <td>1</td>\n",
              "      <td>12</td>\n",
              "      <td></td>\n",
              "      <td></td>\n",
              "      <td></td>\n",
              "      <td>2</td>\n",
              "      <td>1</td>\n",
              "      <td>2</td>\n",
              "      <td></td>\n",
              "      <td>5</td>\n",
              "      <td>11</td>\n",
              "      <td>2</td>\n",
              "      <td></td>\n",
              "      <td>66</td>\n",
              "      <td>11</td>\n",
              "      <td>6</td>\n",
              "      <td>66</td>\n",
              "      <td>422.469753</td>\n",
              "    </tr>\n",
              "    <tr>\n",
              "      <th>27727</th>\n",
              "      <td>5494047</td>\n",
              "      <td>1</td>\n",
              "      <td>4</td>\n",
              "      <td>1</td>\n",
              "      <td>10</td>\n",
              "      <td>4</td>\n",
              "      <td>2</td>\n",
              "      <td>7</td>\n",
              "      <td>2001</td>\n",
              "      <td>20</td>\n",
              "      <td>3</td>\n",
              "      <td>6</td>\n",
              "      <td></td>\n",
              "      <td>6</td>\n",
              "      <td>1</td>\n",
              "      <td>2</td>\n",
              "      <td>1</td>\n",
              "      <td>1</td>\n",
              "      <td></td>\n",
              "      <td></td>\n",
              "      <td></td>\n",
              "      <td></td>\n",
              "      <td></td>\n",
              "      <td></td>\n",
              "      <td></td>\n",
              "      <td></td>\n",
              "      <td></td>\n",
              "      <td></td>\n",
              "      <td></td>\n",
              "      <td></td>\n",
              "      <td>1</td>\n",
              "      <td></td>\n",
              "      <td></td>\n",
              "      <td>2</td>\n",
              "      <td>1</td>\n",
              "      <td>12</td>\n",
              "      <td></td>\n",
              "      <td></td>\n",
              "      <td></td>\n",
              "      <td>2</td>\n",
              "      <td>1</td>\n",
              "      <td>2</td>\n",
              "      <td></td>\n",
              "      <td>5</td>\n",
              "      <td>11</td>\n",
              "      <td>2</td>\n",
              "      <td></td>\n",
              "      <td>66</td>\n",
              "      <td>11</td>\n",
              "      <td>6</td>\n",
              "      <td>66</td>\n",
              "      <td>422.469753</td>\n",
              "    </tr>\n",
              "    <tr>\n",
              "      <th>27728</th>\n",
              "      <td>5494047</td>\n",
              "      <td>1</td>\n",
              "      <td>5</td>\n",
              "      <td>1</td>\n",
              "      <td>10</td>\n",
              "      <td>1</td>\n",
              "      <td>2</td>\n",
              "      <td>11</td>\n",
              "      <td>2009</td>\n",
              "      <td>11</td>\n",
              "      <td>3</td>\n",
              "      <td>6</td>\n",
              "      <td></td>\n",
              "      <td>6</td>\n",
              "      <td>1</td>\n",
              "      <td>2</td>\n",
              "      <td>1</td>\n",
              "      <td>1</td>\n",
              "      <td></td>\n",
              "      <td></td>\n",
              "      <td></td>\n",
              "      <td></td>\n",
              "      <td></td>\n",
              "      <td></td>\n",
              "      <td></td>\n",
              "      <td></td>\n",
              "      <td></td>\n",
              "      <td></td>\n",
              "      <td></td>\n",
              "      <td></td>\n",
              "      <td>1</td>\n",
              "      <td></td>\n",
              "      <td></td>\n",
              "      <td>2</td>\n",
              "      <td>1</td>\n",
              "      <td>6</td>\n",
              "      <td></td>\n",
              "      <td></td>\n",
              "      <td></td>\n",
              "      <td>2</td>\n",
              "      <td>1</td>\n",
              "      <td>2</td>\n",
              "      <td></td>\n",
              "      <td>3</td>\n",
              "      <td>5</td>\n",
              "      <td></td>\n",
              "      <td></td>\n",
              "      <td>66</td>\n",
              "      <td>5</td>\n",
              "      <td>6</td>\n",
              "      <td>66</td>\n",
              "      <td>422.469753</td>\n",
              "    </tr>\n",
              "    <tr>\n",
              "      <th>27729</th>\n",
              "      <td>5494047</td>\n",
              "      <td>1</td>\n",
              "      <td>6</td>\n",
              "      <td>1</td>\n",
              "      <td>10</td>\n",
              "      <td>6</td>\n",
              "      <td>1</td>\n",
              "      <td>12</td>\n",
              "      <td>1987</td>\n",
              "      <td>33</td>\n",
              "      <td>5</td>\n",
              "      <td>6</td>\n",
              "      <td></td>\n",
              "      <td>6</td>\n",
              "      <td>3</td>\n",
              "      <td></td>\n",
              "      <td>2</td>\n",
              "      <td></td>\n",
              "      <td></td>\n",
              "      <td></td>\n",
              "      <td></td>\n",
              "      <td></td>\n",
              "      <td></td>\n",
              "      <td></td>\n",
              "      <td></td>\n",
              "      <td></td>\n",
              "      <td></td>\n",
              "      <td></td>\n",
              "      <td></td>\n",
              "      <td></td>\n",
              "      <td>1</td>\n",
              "      <td></td>\n",
              "      <td></td>\n",
              "      <td>2</td>\n",
              "      <td>1</td>\n",
              "      <td>6</td>\n",
              "      <td></td>\n",
              "      <td></td>\n",
              "      <td></td>\n",
              "      <td>2</td>\n",
              "      <td>1</td>\n",
              "      <td>2</td>\n",
              "      <td></td>\n",
              "      <td>3</td>\n",
              "      <td>5</td>\n",
              "      <td></td>\n",
              "      <td></td>\n",
              "      <td>66</td>\n",
              "      <td>5</td>\n",
              "      <td>6</td>\n",
              "      <td>66</td>\n",
              "      <td>422.469753</td>\n",
              "    </tr>\n",
              "  </tbody>\n",
              "</table>\n",
              "<p>27730 rows × 52 columns</p>\n",
              "</div>"
            ],
            "text/plain": [
              "       DIRECTORIO  SECUENCIA_P  ORDEN  HOGAR  ...  ESC  MES  DPTO   fex_c_2011\n",
              "0         5468958            1      1      1  ...   13    6     5  1442.391087\n",
              "1         5468958            1      2      1  ...    2    6     5  1442.391087\n",
              "2         5468958            1      3      1  ...    3    6     5  1442.391087\n",
              "3         5468958            1      4      1  ...    8    6     5  1442.391087\n",
              "4         5468958            1      5      1  ...    8    6     5  1442.391087\n",
              "...           ...          ...    ...    ...  ...  ...  ...   ...          ...\n",
              "27725     5494047            1      2      1  ...    5    6    66   422.469753\n",
              "27726     5494047            1      3      1  ...   11    6    66   422.469753\n",
              "27727     5494047            1      4      1  ...   11    6    66   422.469753\n",
              "27728     5494047            1      5      1  ...    5    6    66   422.469753\n",
              "27729     5494047            1      6      1  ...    5    6    66   422.469753\n",
              "\n",
              "[27730 rows x 52 columns]"
            ]
          },
          "metadata": {},
          "execution_count": 121
        }
      ]
    },
    {
      "cell_type": "code",
      "metadata": {
        "id": "N237jdpr-UnA"
      },
      "source": [
        "del data_desocupados_junio['fex_c_2011']\n",
        "del data_ocupados_junio['fex_c_2011']\n",
        "del data_inactivos_junio['fex_c_2011']\n",
        "del data_fuerza_t_junio['fex_c_2011']\n",
        "del data_caracteristicas_junio['fex_c_2011']\n",
        "del data_desocupados_junio['AREA']\n",
        "del data_inactivos_junio['AREA']\n",
        "del data_fuerza_t_junio['AREA']\n",
        "del data_ocupados_junio['AREA']\n",
        "del data_caracteristicas_junio['AREA']\n",
        "del data_ocupados_junio['REGIS']\n",
        "del data_desocupados_junio['REGIS']\n",
        "del data_inactivos_junio['REGIS']\n",
        "del data_fuerza_t_junio['REGIS']\n",
        "del data_caracteristicas_junio['REGIS']\n",
        "del data_desocupados_junio['DSI']\n",
        "del data_inactivos_junio['INI']\n",
        "del data_fuerza_t_junio['FT']\n",
        "del data_ocupados_junio['OCI']\n",
        "del data_caracteristicas_junio['P6016']\n",
        "del data_caracteristicas_junio['P6080S1']\n",
        "del data_caracteristicas_junio['P6081S1'] \n",
        "del data_caracteristicas_junio['P6083S1'] \n",
        "del data_caracteristicas_junio['P6071S1'] \n",
        "del data_caracteristicas_junio['P3246']\n",
        "del data_caracteristicas_junio['P6110'] \n",
        "del data_caracteristicas_junio['P6120'] \n",
        "del data_caracteristicas_junio['P6210S1'] \n",
        "del data_caracteristicas_junio['MES']\n",
        "del data_desocupados_junio['MES']\n",
        "del data_ocupados_junio['MES']\n",
        "del data_inactivos_junio['MES']\n",
        "del data_fuerza_t_junio['MES']\n",
        "del data_ocupados_junio['P6810S1']\n",
        "del data_ocupados_junio['P6400']\n",
        "del data_ocupados_junio['P6410']\n",
        "del data_ocupados_junio['P6410S1'] \n",
        "del data_ocupados_junio['P6590S1'] \n",
        "del data_ocupados_junio['P6600S1'] \n",
        "del data_desocupados_junio['P7280S1']\n",
        "del data_desocupados_junio['P7350S1'] \n",
        "del data_desocupados_junio['P7360']\n",
        "del data_desocupados_junio['P7420']\n",
        "del data_desocupados_junio['P7420S7A1']\n",
        "del data_fuerza_t_junio['P6230']"
      ],
      "execution_count": null,
      "outputs": []
    },
    {
      "cell_type": "code",
      "metadata": {
        "id": "h50zcIIdBo5R"
      },
      "source": [
        "data_ocupados_junio.insert(4,\"Estado\",\"Ocupados\")\n",
        "data_desocupados_junio.insert(4,\"Estado\",\"Desocupados\")\n",
        "data_inactivos_junio.insert(4,\"Estado\",\"Inactivos\")"
      ],
      "execution_count": null,
      "outputs": []
    },
    {
      "cell_type": "markdown",
      "metadata": {
        "id": "6T_IwvJGCHIH"
      },
      "source": [
        "#DUPLICADOS JUNIO"
      ]
    },
    {
      "cell_type": "code",
      "metadata": {
        "id": "292J1XNyCL-u"
      },
      "source": [
        "data_desocupados_junio = data_desocupados_junio.drop_duplicates()\n",
        "data_ocupados_junio = data_ocupados_junio.drop_duplicates()\n",
        "data_inactivos_junio= data_inactivos_junio.drop_duplicates()\n",
        "data_caracteristicas_junio  = data_caracteristicas_junio.drop_duplicates()\n",
        "data_fuerza_t_junio= data_fuerza_t_junio.drop_duplicates()"
      ],
      "execution_count": null,
      "outputs": []
    },
    {
      "cell_type": "code",
      "metadata": {
        "colab": {
          "base_uri": "https://localhost:8080/"
        },
        "id": "bd0ebVnACZaE",
        "outputId": "a7dccd70-73d1-41cb-f288-f3b7ec03cece"
      },
      "source": [
        "data_desocupados_junio.shape"
      ],
      "execution_count": null,
      "outputs": [
        {
          "output_type": "execute_result",
          "data": {
            "text/plain": [
              "(2344, 33)"
            ]
          },
          "metadata": {},
          "execution_count": 125
        }
      ]
    },
    {
      "cell_type": "code",
      "metadata": {
        "colab": {
          "base_uri": "https://localhost:8080/"
        },
        "id": "Z0IDOohmCa7_",
        "outputId": "c4e25bfa-95d7-4c67-ad82-501f2b4d6845"
      },
      "source": [
        "data_ocupados_junio.shape"
      ],
      "execution_count": null,
      "outputs": [
        {
          "output_type": "execute_result",
          "data": {
            "text/plain": [
              "(11791, 155)"
            ]
          },
          "metadata": {},
          "execution_count": 126
        }
      ]
    },
    {
      "cell_type": "code",
      "metadata": {
        "colab": {
          "base_uri": "https://localhost:8080/"
        },
        "id": "A3j6-b-PCeuv",
        "outputId": "b3eb2382-5adf-4e80-ebd4-d8e86150efe8"
      },
      "source": [
        "data_inactivos_junio.shape"
      ],
      "execution_count": null,
      "outputs": [
        {
          "output_type": "execute_result",
          "data": {
            "text/plain": [
              "(9453, 23)"
            ]
          },
          "metadata": {},
          "execution_count": 127
        }
      ]
    },
    {
      "cell_type": "code",
      "metadata": {
        "colab": {
          "base_uri": "https://localhost:8080/"
        },
        "id": "KHKLY8EfCghO",
        "outputId": "ee353fef-6ed2-46d0-8ed6-3b495528e8d2"
      },
      "source": [
        "data_fuerza_t_junio.shape"
      ],
      "execution_count": null,
      "outputs": [
        {
          "output_type": "execute_result",
          "data": {
            "text/plain": [
              "(23588, 21)"
            ]
          },
          "metadata": {},
          "execution_count": 128
        }
      ]
    },
    {
      "cell_type": "code",
      "metadata": {
        "colab": {
          "base_uri": "https://localhost:8080/"
        },
        "id": "Bdz8MpRBCiPt",
        "outputId": "a419dc5c-2d48-4eae-a643-ef5a4d573cc6"
      },
      "source": [
        "data_caracteristicas_junio.shape"
      ],
      "execution_count": null,
      "outputs": [
        {
          "output_type": "execute_result",
          "data": {
            "text/plain": [
              "(27730, 39)"
            ]
          },
          "metadata": {},
          "execution_count": 129
        }
      ]
    },
    {
      "cell_type": "markdown",
      "metadata": {
        "id": "zXFxL2nPClvG"
      },
      "source": [
        "#CONCATENAR JUNIO"
      ]
    },
    {
      "cell_type": "code",
      "metadata": {
        "id": "QlxIZFV0Cocn"
      },
      "source": [
        "dt2_junio = pd.concat([data_ocupados_junio, data_desocupados_junio,data_inactivos_junio])"
      ],
      "execution_count": null,
      "outputs": []
    },
    {
      "cell_type": "code",
      "metadata": {
        "id": "-R7pOEc3CwAt"
      },
      "source": [
        "dt1_junio = pd.merge(data_caracteristicas_junio,data_fuerza_t_junio,on = ['DIRECTORIO','SECUENCIA_P','ORDEN','HOGAR','DPTO'],how  = 'outer')"
      ],
      "execution_count": null,
      "outputs": []
    },
    {
      "cell_type": "code",
      "metadata": {
        "id": "KpD4xw5UC33D"
      },
      "source": [
        "Base_junio = pd.merge(dt1_junio,dt2_junio,how  = 'outer')"
      ],
      "execution_count": null,
      "outputs": []
    },
    {
      "cell_type": "code",
      "metadata": {
        "colab": {
          "base_uri": "https://localhost:8080/",
          "height": 439
        },
        "id": "N40257I-C8sp",
        "outputId": "4c27e9a2-32f2-4431-c395-88a28be67881"
      },
      "source": [
        "Base_junio"
      ],
      "execution_count": null,
      "outputs": [
        {
          "output_type": "execute_result",
          "data": {
            "text/html": [
              "<div>\n",
              "<style scoped>\n",
              "    .dataframe tbody tr th:only-of-type {\n",
              "        vertical-align: middle;\n",
              "    }\n",
              "\n",
              "    .dataframe tbody tr th {\n",
              "        vertical-align: top;\n",
              "    }\n",
              "\n",
              "    .dataframe thead th {\n",
              "        text-align: right;\n",
              "    }\n",
              "</style>\n",
              "<table border=\"1\" class=\"dataframe\">\n",
              "  <thead>\n",
              "    <tr style=\"text-align: right;\">\n",
              "      <th></th>\n",
              "      <th>DIRECTORIO</th>\n",
              "      <th>SECUENCIA_P</th>\n",
              "      <th>ORDEN</th>\n",
              "      <th>HOGAR</th>\n",
              "      <th>P6020</th>\n",
              "      <th>P6030S1</th>\n",
              "      <th>P6030S3</th>\n",
              "      <th>P6040</th>\n",
              "      <th>P6050</th>\n",
              "      <th>P6080</th>\n",
              "      <th>P6070</th>\n",
              "      <th>P6081</th>\n",
              "      <th>P6083</th>\n",
              "      <th>P6071</th>\n",
              "      <th>P3147S1</th>\n",
              "      <th>P3147S2</th>\n",
              "      <th>P3147S3</th>\n",
              "      <th>P3147S4</th>\n",
              "      <th>P3147S5</th>\n",
              "      <th>P3147S6</th>\n",
              "      <th>P3147S7</th>\n",
              "      <th>P3147S8</th>\n",
              "      <th>P3147S9</th>\n",
              "      <th>P3147S10</th>\n",
              "      <th>P3147S11</th>\n",
              "      <th>P3147S10A1</th>\n",
              "      <th>P6090</th>\n",
              "      <th>P6140</th>\n",
              "      <th>P6150</th>\n",
              "      <th>P6100</th>\n",
              "      <th>P6125</th>\n",
              "      <th>P6160</th>\n",
              "      <th>P6170</th>\n",
              "      <th>P6175</th>\n",
              "      <th>P6210</th>\n",
              "      <th>P6220</th>\n",
              "      <th>P6269</th>\n",
              "      <th>ESC</th>\n",
              "      <th>DPTO</th>\n",
              "      <th>P6290</th>\n",
              "      <th>...</th>\n",
              "      <th>P7320</th>\n",
              "      <th>P7350</th>\n",
              "      <th>P9460</th>\n",
              "      <th>P7390</th>\n",
              "      <th>P7390S1</th>\n",
              "      <th>P7420S1</th>\n",
              "      <th>P7420S2</th>\n",
              "      <th>P7420S3</th>\n",
              "      <th>P7420S4</th>\n",
              "      <th>P7420S5</th>\n",
              "      <th>P7420S6</th>\n",
              "      <th>P7420S7</th>\n",
              "      <th>P7420S8</th>\n",
              "      <th>P7422</th>\n",
              "      <th>P7422S1</th>\n",
              "      <th>P1806</th>\n",
              "      <th>P1519</th>\n",
              "      <th>P1883</th>\n",
              "      <th>RAMA2D_D_R4</th>\n",
              "      <th>OFICIO1</th>\n",
              "      <th>OFICIO2</th>\n",
              "      <th>DSCY</th>\n",
              "      <th>RAMA4D_D_R4</th>\n",
              "      <th>P7430</th>\n",
              "      <th>P7450</th>\n",
              "      <th>P7450S1</th>\n",
              "      <th>P7452</th>\n",
              "      <th>P7454</th>\n",
              "      <th>P7456</th>\n",
              "      <th>P7458</th>\n",
              "      <th>P7458S1</th>\n",
              "      <th>P7460</th>\n",
              "      <th>P7470</th>\n",
              "      <th>P7472</th>\n",
              "      <th>P7472S1</th>\n",
              "      <th>P744</th>\n",
              "      <th>P1884</th>\n",
              "      <th>P1807</th>\n",
              "      <th>P6921</th>\n",
              "      <th>p7440</th>\n",
              "    </tr>\n",
              "  </thead>\n",
              "  <tbody>\n",
              "    <tr>\n",
              "      <th>0</th>\n",
              "      <td>5468958</td>\n",
              "      <td>1</td>\n",
              "      <td>1</td>\n",
              "      <td>1</td>\n",
              "      <td>2</td>\n",
              "      <td>12</td>\n",
              "      <td>1992</td>\n",
              "      <td>28</td>\n",
              "      <td>1</td>\n",
              "      <td>5</td>\n",
              "      <td>6</td>\n",
              "      <td>3</td>\n",
              "      <td>1</td>\n",
              "      <td></td>\n",
              "      <td></td>\n",
              "      <td></td>\n",
              "      <td></td>\n",
              "      <td>1</td>\n",
              "      <td></td>\n",
              "      <td></td>\n",
              "      <td></td>\n",
              "      <td></td>\n",
              "      <td></td>\n",
              "      <td></td>\n",
              "      <td></td>\n",
              "      <td></td>\n",
              "      <td>1</td>\n",
              "      <td></td>\n",
              "      <td></td>\n",
              "      <td>1</td>\n",
              "      <td>2</td>\n",
              "      <td>1</td>\n",
              "      <td>2</td>\n",
              "      <td></td>\n",
              "      <td>6</td>\n",
              "      <td>3</td>\n",
              "      <td></td>\n",
              "      <td>13</td>\n",
              "      <td>5</td>\n",
              "      <td></td>\n",
              "      <td>...</td>\n",
              "      <td>NaN</td>\n",
              "      <td>NaN</td>\n",
              "      <td>NaN</td>\n",
              "      <td>NaN</td>\n",
              "      <td>NaN</td>\n",
              "      <td>NaN</td>\n",
              "      <td>NaN</td>\n",
              "      <td>NaN</td>\n",
              "      <td>NaN</td>\n",
              "      <td>NaN</td>\n",
              "      <td>NaN</td>\n",
              "      <td>NaN</td>\n",
              "      <td>NaN</td>\n",
              "      <td>NaN</td>\n",
              "      <td>NaN</td>\n",
              "      <td>NaN</td>\n",
              "      <td>NaN</td>\n",
              "      <td>NaN</td>\n",
              "      <td>NaN</td>\n",
              "      <td>NaN</td>\n",
              "      <td>NaN</td>\n",
              "      <td>NaN</td>\n",
              "      <td>NaN</td>\n",
              "      <td>NaN</td>\n",
              "      <td>NaN</td>\n",
              "      <td>NaN</td>\n",
              "      <td>NaN</td>\n",
              "      <td>NaN</td>\n",
              "      <td>NaN</td>\n",
              "      <td>NaN</td>\n",
              "      <td>NaN</td>\n",
              "      <td>NaN</td>\n",
              "      <td>NaN</td>\n",
              "      <td>NaN</td>\n",
              "      <td>NaN</td>\n",
              "      <td>NaN</td>\n",
              "      <td>NaN</td>\n",
              "      <td>NaN</td>\n",
              "      <td>NaN</td>\n",
              "      <td>NaN</td>\n",
              "    </tr>\n",
              "    <tr>\n",
              "      <th>1</th>\n",
              "      <td>5468958</td>\n",
              "      <td>1</td>\n",
              "      <td>2</td>\n",
              "      <td>1</td>\n",
              "      <td>1</td>\n",
              "      <td>8</td>\n",
              "      <td>2012</td>\n",
              "      <td>8</td>\n",
              "      <td>3</td>\n",
              "      <td>5</td>\n",
              "      <td></td>\n",
              "      <td>2</td>\n",
              "      <td>1</td>\n",
              "      <td></td>\n",
              "      <td></td>\n",
              "      <td></td>\n",
              "      <td></td>\n",
              "      <td></td>\n",
              "      <td></td>\n",
              "      <td></td>\n",
              "      <td></td>\n",
              "      <td></td>\n",
              "      <td></td>\n",
              "      <td></td>\n",
              "      <td></td>\n",
              "      <td></td>\n",
              "      <td>1</td>\n",
              "      <td></td>\n",
              "      <td></td>\n",
              "      <td>1</td>\n",
              "      <td>2</td>\n",
              "      <td>1</td>\n",
              "      <td>1</td>\n",
              "      <td>1</td>\n",
              "      <td>3</td>\n",
              "      <td></td>\n",
              "      <td></td>\n",
              "      <td>2</td>\n",
              "      <td>5</td>\n",
              "      <td>NaN</td>\n",
              "      <td>...</td>\n",
              "      <td>NaN</td>\n",
              "      <td>NaN</td>\n",
              "      <td>NaN</td>\n",
              "      <td>NaN</td>\n",
              "      <td>NaN</td>\n",
              "      <td>NaN</td>\n",
              "      <td>NaN</td>\n",
              "      <td>NaN</td>\n",
              "      <td>NaN</td>\n",
              "      <td>NaN</td>\n",
              "      <td>NaN</td>\n",
              "      <td>NaN</td>\n",
              "      <td>NaN</td>\n",
              "      <td>NaN</td>\n",
              "      <td>NaN</td>\n",
              "      <td>NaN</td>\n",
              "      <td>NaN</td>\n",
              "      <td>NaN</td>\n",
              "      <td>NaN</td>\n",
              "      <td>NaN</td>\n",
              "      <td>NaN</td>\n",
              "      <td>NaN</td>\n",
              "      <td>NaN</td>\n",
              "      <td>NaN</td>\n",
              "      <td>NaN</td>\n",
              "      <td>NaN</td>\n",
              "      <td>NaN</td>\n",
              "      <td>NaN</td>\n",
              "      <td>NaN</td>\n",
              "      <td>NaN</td>\n",
              "      <td>NaN</td>\n",
              "      <td>NaN</td>\n",
              "      <td>NaN</td>\n",
              "      <td>NaN</td>\n",
              "      <td>NaN</td>\n",
              "      <td>NaN</td>\n",
              "      <td>NaN</td>\n",
              "      <td>NaN</td>\n",
              "      <td>NaN</td>\n",
              "      <td>NaN</td>\n",
              "    </tr>\n",
              "    <tr>\n",
              "      <th>2</th>\n",
              "      <td>5468958</td>\n",
              "      <td>1</td>\n",
              "      <td>3</td>\n",
              "      <td>1</td>\n",
              "      <td>2</td>\n",
              "      <td>11</td>\n",
              "      <td>1967</td>\n",
              "      <td>53</td>\n",
              "      <td>5</td>\n",
              "      <td>5</td>\n",
              "      <td>6</td>\n",
              "      <td>3</td>\n",
              "      <td>2</td>\n",
              "      <td></td>\n",
              "      <td></td>\n",
              "      <td></td>\n",
              "      <td>1</td>\n",
              "      <td>1</td>\n",
              "      <td></td>\n",
              "      <td></td>\n",
              "      <td></td>\n",
              "      <td></td>\n",
              "      <td></td>\n",
              "      <td></td>\n",
              "      <td></td>\n",
              "      <td></td>\n",
              "      <td>1</td>\n",
              "      <td></td>\n",
              "      <td></td>\n",
              "      <td>3</td>\n",
              "      <td>2</td>\n",
              "      <td>1</td>\n",
              "      <td>2</td>\n",
              "      <td></td>\n",
              "      <td>3</td>\n",
              "      <td></td>\n",
              "      <td></td>\n",
              "      <td>3</td>\n",
              "      <td>5</td>\n",
              "      <td></td>\n",
              "      <td>...</td>\n",
              "      <td>NaN</td>\n",
              "      <td>NaN</td>\n",
              "      <td>NaN</td>\n",
              "      <td>NaN</td>\n",
              "      <td>NaN</td>\n",
              "      <td>NaN</td>\n",
              "      <td>NaN</td>\n",
              "      <td>NaN</td>\n",
              "      <td>NaN</td>\n",
              "      <td>NaN</td>\n",
              "      <td>NaN</td>\n",
              "      <td>NaN</td>\n",
              "      <td>NaN</td>\n",
              "      <td>NaN</td>\n",
              "      <td>NaN</td>\n",
              "      <td>NaN</td>\n",
              "      <td>NaN</td>\n",
              "      <td>NaN</td>\n",
              "      <td>NaN</td>\n",
              "      <td>NaN</td>\n",
              "      <td>NaN</td>\n",
              "      <td>NaN</td>\n",
              "      <td>NaN</td>\n",
              "      <td>NaN</td>\n",
              "      <td>NaN</td>\n",
              "      <td>NaN</td>\n",
              "      <td>NaN</td>\n",
              "      <td>NaN</td>\n",
              "      <td>NaN</td>\n",
              "      <td>NaN</td>\n",
              "      <td>NaN</td>\n",
              "      <td>NaN</td>\n",
              "      <td>NaN</td>\n",
              "      <td>NaN</td>\n",
              "      <td>NaN</td>\n",
              "      <td>NaN</td>\n",
              "      <td>NaN</td>\n",
              "      <td>NaN</td>\n",
              "      <td>NaN</td>\n",
              "      <td>NaN</td>\n",
              "    </tr>\n",
              "    <tr>\n",
              "      <th>3</th>\n",
              "      <td>5468958</td>\n",
              "      <td>1</td>\n",
              "      <td>4</td>\n",
              "      <td>1</td>\n",
              "      <td>1</td>\n",
              "      <td>8</td>\n",
              "      <td>2006</td>\n",
              "      <td>14</td>\n",
              "      <td>5</td>\n",
              "      <td>5</td>\n",
              "      <td>6</td>\n",
              "      <td>3</td>\n",
              "      <td>2</td>\n",
              "      <td></td>\n",
              "      <td></td>\n",
              "      <td></td>\n",
              "      <td></td>\n",
              "      <td></td>\n",
              "      <td></td>\n",
              "      <td></td>\n",
              "      <td></td>\n",
              "      <td>1</td>\n",
              "      <td></td>\n",
              "      <td></td>\n",
              "      <td></td>\n",
              "      <td></td>\n",
              "      <td>1</td>\n",
              "      <td></td>\n",
              "      <td></td>\n",
              "      <td>3</td>\n",
              "      <td>2</td>\n",
              "      <td>1</td>\n",
              "      <td>1</td>\n",
              "      <td>1</td>\n",
              "      <td>4</td>\n",
              "      <td></td>\n",
              "      <td></td>\n",
              "      <td>8</td>\n",
              "      <td>5</td>\n",
              "      <td></td>\n",
              "      <td>...</td>\n",
              "      <td>NaN</td>\n",
              "      <td>NaN</td>\n",
              "      <td>NaN</td>\n",
              "      <td>NaN</td>\n",
              "      <td>NaN</td>\n",
              "      <td>NaN</td>\n",
              "      <td>NaN</td>\n",
              "      <td>NaN</td>\n",
              "      <td>NaN</td>\n",
              "      <td>NaN</td>\n",
              "      <td>NaN</td>\n",
              "      <td>NaN</td>\n",
              "      <td>NaN</td>\n",
              "      <td>NaN</td>\n",
              "      <td>NaN</td>\n",
              "      <td>NaN</td>\n",
              "      <td>NaN</td>\n",
              "      <td>NaN</td>\n",
              "      <td>NaN</td>\n",
              "      <td>NaN</td>\n",
              "      <td>NaN</td>\n",
              "      <td>NaN</td>\n",
              "      <td>NaN</td>\n",
              "      <td>2.0</td>\n",
              "      <td></td>\n",
              "      <td></td>\n",
              "      <td></td>\n",
              "      <td>2</td>\n",
              "      <td></td>\n",
              "      <td></td>\n",
              "      <td>.</td>\n",
              "      <td></td>\n",
              "      <td></td>\n",
              "      <td>2.0</td>\n",
              "      <td></td>\n",
              "      <td></td>\n",
              "      <td></td>\n",
              "      <td></td>\n",
              "      <td></td>\n",
              "      <td></td>\n",
              "    </tr>\n",
              "    <tr>\n",
              "      <th>4</th>\n",
              "      <td>5468958</td>\n",
              "      <td>1</td>\n",
              "      <td>5</td>\n",
              "      <td>1</td>\n",
              "      <td>1</td>\n",
              "      <td>1</td>\n",
              "      <td>2007</td>\n",
              "      <td>14</td>\n",
              "      <td>5</td>\n",
              "      <td>5</td>\n",
              "      <td>6</td>\n",
              "      <td>2</td>\n",
              "      <td>2</td>\n",
              "      <td></td>\n",
              "      <td></td>\n",
              "      <td></td>\n",
              "      <td></td>\n",
              "      <td></td>\n",
              "      <td></td>\n",
              "      <td></td>\n",
              "      <td></td>\n",
              "      <td>1</td>\n",
              "      <td></td>\n",
              "      <td></td>\n",
              "      <td></td>\n",
              "      <td></td>\n",
              "      <td>1</td>\n",
              "      <td></td>\n",
              "      <td></td>\n",
              "      <td>1</td>\n",
              "      <td>2</td>\n",
              "      <td>1</td>\n",
              "      <td>1</td>\n",
              "      <td>1</td>\n",
              "      <td>4</td>\n",
              "      <td></td>\n",
              "      <td></td>\n",
              "      <td>8</td>\n",
              "      <td>5</td>\n",
              "      <td></td>\n",
              "      <td>...</td>\n",
              "      <td>NaN</td>\n",
              "      <td>NaN</td>\n",
              "      <td>NaN</td>\n",
              "      <td>NaN</td>\n",
              "      <td>NaN</td>\n",
              "      <td>NaN</td>\n",
              "      <td>NaN</td>\n",
              "      <td>NaN</td>\n",
              "      <td>NaN</td>\n",
              "      <td>NaN</td>\n",
              "      <td>NaN</td>\n",
              "      <td>NaN</td>\n",
              "      <td>NaN</td>\n",
              "      <td>NaN</td>\n",
              "      <td>NaN</td>\n",
              "      <td>NaN</td>\n",
              "      <td>NaN</td>\n",
              "      <td>NaN</td>\n",
              "      <td>NaN</td>\n",
              "      <td>NaN</td>\n",
              "      <td>NaN</td>\n",
              "      <td>NaN</td>\n",
              "      <td>NaN</td>\n",
              "      <td>2.0</td>\n",
              "      <td></td>\n",
              "      <td></td>\n",
              "      <td></td>\n",
              "      <td>2</td>\n",
              "      <td></td>\n",
              "      <td></td>\n",
              "      <td>.</td>\n",
              "      <td></td>\n",
              "      <td></td>\n",
              "      <td>2.0</td>\n",
              "      <td></td>\n",
              "      <td></td>\n",
              "      <td></td>\n",
              "      <td></td>\n",
              "      <td></td>\n",
              "      <td></td>\n",
              "    </tr>\n",
              "    <tr>\n",
              "      <th>...</th>\n",
              "      <td>...</td>\n",
              "      <td>...</td>\n",
              "      <td>...</td>\n",
              "      <td>...</td>\n",
              "      <td>...</td>\n",
              "      <td>...</td>\n",
              "      <td>...</td>\n",
              "      <td>...</td>\n",
              "      <td>...</td>\n",
              "      <td>...</td>\n",
              "      <td>...</td>\n",
              "      <td>...</td>\n",
              "      <td>...</td>\n",
              "      <td>...</td>\n",
              "      <td>...</td>\n",
              "      <td>...</td>\n",
              "      <td>...</td>\n",
              "      <td>...</td>\n",
              "      <td>...</td>\n",
              "      <td>...</td>\n",
              "      <td>...</td>\n",
              "      <td>...</td>\n",
              "      <td>...</td>\n",
              "      <td>...</td>\n",
              "      <td>...</td>\n",
              "      <td>...</td>\n",
              "      <td>...</td>\n",
              "      <td>...</td>\n",
              "      <td>...</td>\n",
              "      <td>...</td>\n",
              "      <td>...</td>\n",
              "      <td>...</td>\n",
              "      <td>...</td>\n",
              "      <td>...</td>\n",
              "      <td>...</td>\n",
              "      <td>...</td>\n",
              "      <td>...</td>\n",
              "      <td>...</td>\n",
              "      <td>...</td>\n",
              "      <td>...</td>\n",
              "      <td>...</td>\n",
              "      <td>...</td>\n",
              "      <td>...</td>\n",
              "      <td>...</td>\n",
              "      <td>...</td>\n",
              "      <td>...</td>\n",
              "      <td>...</td>\n",
              "      <td>...</td>\n",
              "      <td>...</td>\n",
              "      <td>...</td>\n",
              "      <td>...</td>\n",
              "      <td>...</td>\n",
              "      <td>...</td>\n",
              "      <td>...</td>\n",
              "      <td>...</td>\n",
              "      <td>...</td>\n",
              "      <td>...</td>\n",
              "      <td>...</td>\n",
              "      <td>...</td>\n",
              "      <td>...</td>\n",
              "      <td>...</td>\n",
              "      <td>...</td>\n",
              "      <td>...</td>\n",
              "      <td>...</td>\n",
              "      <td>...</td>\n",
              "      <td>...</td>\n",
              "      <td>...</td>\n",
              "      <td>...</td>\n",
              "      <td>...</td>\n",
              "      <td>...</td>\n",
              "      <td>...</td>\n",
              "      <td>...</td>\n",
              "      <td>...</td>\n",
              "      <td>...</td>\n",
              "      <td>...</td>\n",
              "      <td>...</td>\n",
              "      <td>...</td>\n",
              "      <td>...</td>\n",
              "      <td>...</td>\n",
              "      <td>...</td>\n",
              "      <td>...</td>\n",
              "    </tr>\n",
              "    <tr>\n",
              "      <th>27725</th>\n",
              "      <td>5494047</td>\n",
              "      <td>1</td>\n",
              "      <td>2</td>\n",
              "      <td>1</td>\n",
              "      <td>1</td>\n",
              "      <td>7</td>\n",
              "      <td>1983</td>\n",
              "      <td>37</td>\n",
              "      <td>2</td>\n",
              "      <td>6</td>\n",
              "      <td>2</td>\n",
              "      <td>3</td>\n",
              "      <td>2</td>\n",
              "      <td>1</td>\n",
              "      <td></td>\n",
              "      <td></td>\n",
              "      <td></td>\n",
              "      <td></td>\n",
              "      <td></td>\n",
              "      <td></td>\n",
              "      <td></td>\n",
              "      <td></td>\n",
              "      <td></td>\n",
              "      <td></td>\n",
              "      <td>1</td>\n",
              "      <td></td>\n",
              "      <td>2</td>\n",
              "      <td>1</td>\n",
              "      <td>12</td>\n",
              "      <td></td>\n",
              "      <td>9</td>\n",
              "      <td>1</td>\n",
              "      <td>2</td>\n",
              "      <td></td>\n",
              "      <td>3</td>\n",
              "      <td></td>\n",
              "      <td></td>\n",
              "      <td>5</td>\n",
              "      <td>66</td>\n",
              "      <td></td>\n",
              "      <td>...</td>\n",
              "      <td>NaN</td>\n",
              "      <td>NaN</td>\n",
              "      <td>NaN</td>\n",
              "      <td>NaN</td>\n",
              "      <td>NaN</td>\n",
              "      <td>NaN</td>\n",
              "      <td>NaN</td>\n",
              "      <td>NaN</td>\n",
              "      <td>NaN</td>\n",
              "      <td>NaN</td>\n",
              "      <td>NaN</td>\n",
              "      <td>NaN</td>\n",
              "      <td>NaN</td>\n",
              "      <td>NaN</td>\n",
              "      <td>NaN</td>\n",
              "      <td>NaN</td>\n",
              "      <td>NaN</td>\n",
              "      <td>NaN</td>\n",
              "      <td>NaN</td>\n",
              "      <td>NaN</td>\n",
              "      <td>NaN</td>\n",
              "      <td>NaN</td>\n",
              "      <td>NaN</td>\n",
              "      <td>NaN</td>\n",
              "      <td>NaN</td>\n",
              "      <td>NaN</td>\n",
              "      <td>NaN</td>\n",
              "      <td>NaN</td>\n",
              "      <td>NaN</td>\n",
              "      <td>NaN</td>\n",
              "      <td>NaN</td>\n",
              "      <td>NaN</td>\n",
              "      <td>NaN</td>\n",
              "      <td>NaN</td>\n",
              "      <td>NaN</td>\n",
              "      <td>NaN</td>\n",
              "      <td>NaN</td>\n",
              "      <td>NaN</td>\n",
              "      <td>NaN</td>\n",
              "      <td>NaN</td>\n",
              "    </tr>\n",
              "    <tr>\n",
              "      <th>27726</th>\n",
              "      <td>5494047</td>\n",
              "      <td>1</td>\n",
              "      <td>3</td>\n",
              "      <td>1</td>\n",
              "      <td>2</td>\n",
              "      <td>7</td>\n",
              "      <td>1999</td>\n",
              "      <td>22</td>\n",
              "      <td>3</td>\n",
              "      <td>6</td>\n",
              "      <td>6</td>\n",
              "      <td>1</td>\n",
              "      <td>1</td>\n",
              "      <td></td>\n",
              "      <td></td>\n",
              "      <td></td>\n",
              "      <td></td>\n",
              "      <td></td>\n",
              "      <td></td>\n",
              "      <td></td>\n",
              "      <td></td>\n",
              "      <td></td>\n",
              "      <td></td>\n",
              "      <td></td>\n",
              "      <td>1</td>\n",
              "      <td></td>\n",
              "      <td>2</td>\n",
              "      <td>1</td>\n",
              "      <td>12</td>\n",
              "      <td></td>\n",
              "      <td>2</td>\n",
              "      <td>1</td>\n",
              "      <td>2</td>\n",
              "      <td></td>\n",
              "      <td>5</td>\n",
              "      <td>2</td>\n",
              "      <td></td>\n",
              "      <td>11</td>\n",
              "      <td>66</td>\n",
              "      <td></td>\n",
              "      <td>...</td>\n",
              "      <td>NaN</td>\n",
              "      <td>NaN</td>\n",
              "      <td>NaN</td>\n",
              "      <td>NaN</td>\n",
              "      <td>NaN</td>\n",
              "      <td>NaN</td>\n",
              "      <td>NaN</td>\n",
              "      <td>NaN</td>\n",
              "      <td>NaN</td>\n",
              "      <td>NaN</td>\n",
              "      <td>NaN</td>\n",
              "      <td>NaN</td>\n",
              "      <td>NaN</td>\n",
              "      <td>NaN</td>\n",
              "      <td>NaN</td>\n",
              "      <td>NaN</td>\n",
              "      <td>NaN</td>\n",
              "      <td>NaN</td>\n",
              "      <td>NaN</td>\n",
              "      <td>NaN</td>\n",
              "      <td>NaN</td>\n",
              "      <td>NaN</td>\n",
              "      <td>NaN</td>\n",
              "      <td>NaN</td>\n",
              "      <td>NaN</td>\n",
              "      <td>NaN</td>\n",
              "      <td>NaN</td>\n",
              "      <td>NaN</td>\n",
              "      <td>NaN</td>\n",
              "      <td>NaN</td>\n",
              "      <td>NaN</td>\n",
              "      <td>NaN</td>\n",
              "      <td>NaN</td>\n",
              "      <td>NaN</td>\n",
              "      <td>NaN</td>\n",
              "      <td>NaN</td>\n",
              "      <td>NaN</td>\n",
              "      <td>NaN</td>\n",
              "      <td>NaN</td>\n",
              "      <td>NaN</td>\n",
              "    </tr>\n",
              "    <tr>\n",
              "      <th>27727</th>\n",
              "      <td>5494047</td>\n",
              "      <td>1</td>\n",
              "      <td>4</td>\n",
              "      <td>1</td>\n",
              "      <td>2</td>\n",
              "      <td>7</td>\n",
              "      <td>2001</td>\n",
              "      <td>20</td>\n",
              "      <td>3</td>\n",
              "      <td>6</td>\n",
              "      <td>6</td>\n",
              "      <td>1</td>\n",
              "      <td>1</td>\n",
              "      <td></td>\n",
              "      <td></td>\n",
              "      <td></td>\n",
              "      <td></td>\n",
              "      <td></td>\n",
              "      <td></td>\n",
              "      <td></td>\n",
              "      <td></td>\n",
              "      <td></td>\n",
              "      <td></td>\n",
              "      <td></td>\n",
              "      <td>1</td>\n",
              "      <td></td>\n",
              "      <td>2</td>\n",
              "      <td>1</td>\n",
              "      <td>12</td>\n",
              "      <td></td>\n",
              "      <td>2</td>\n",
              "      <td>1</td>\n",
              "      <td>2</td>\n",
              "      <td></td>\n",
              "      <td>5</td>\n",
              "      <td>2</td>\n",
              "      <td></td>\n",
              "      <td>11</td>\n",
              "      <td>66</td>\n",
              "      <td></td>\n",
              "      <td>...</td>\n",
              "      <td>NaN</td>\n",
              "      <td>NaN</td>\n",
              "      <td>NaN</td>\n",
              "      <td>NaN</td>\n",
              "      <td>NaN</td>\n",
              "      <td>NaN</td>\n",
              "      <td>NaN</td>\n",
              "      <td>NaN</td>\n",
              "      <td>NaN</td>\n",
              "      <td>NaN</td>\n",
              "      <td>NaN</td>\n",
              "      <td>NaN</td>\n",
              "      <td>NaN</td>\n",
              "      <td>NaN</td>\n",
              "      <td>NaN</td>\n",
              "      <td>NaN</td>\n",
              "      <td>NaN</td>\n",
              "      <td>NaN</td>\n",
              "      <td>NaN</td>\n",
              "      <td>NaN</td>\n",
              "      <td>NaN</td>\n",
              "      <td>NaN</td>\n",
              "      <td>NaN</td>\n",
              "      <td>NaN</td>\n",
              "      <td>NaN</td>\n",
              "      <td>NaN</td>\n",
              "      <td>NaN</td>\n",
              "      <td>NaN</td>\n",
              "      <td>NaN</td>\n",
              "      <td>NaN</td>\n",
              "      <td>NaN</td>\n",
              "      <td>NaN</td>\n",
              "      <td>NaN</td>\n",
              "      <td>NaN</td>\n",
              "      <td>NaN</td>\n",
              "      <td>NaN</td>\n",
              "      <td>NaN</td>\n",
              "      <td>NaN</td>\n",
              "      <td>NaN</td>\n",
              "      <td>NaN</td>\n",
              "    </tr>\n",
              "    <tr>\n",
              "      <th>27728</th>\n",
              "      <td>5494047</td>\n",
              "      <td>1</td>\n",
              "      <td>5</td>\n",
              "      <td>1</td>\n",
              "      <td>2</td>\n",
              "      <td>11</td>\n",
              "      <td>2009</td>\n",
              "      <td>11</td>\n",
              "      <td>3</td>\n",
              "      <td>6</td>\n",
              "      <td>6</td>\n",
              "      <td>1</td>\n",
              "      <td>1</td>\n",
              "      <td></td>\n",
              "      <td></td>\n",
              "      <td></td>\n",
              "      <td></td>\n",
              "      <td></td>\n",
              "      <td></td>\n",
              "      <td></td>\n",
              "      <td></td>\n",
              "      <td></td>\n",
              "      <td></td>\n",
              "      <td></td>\n",
              "      <td>1</td>\n",
              "      <td></td>\n",
              "      <td>2</td>\n",
              "      <td>1</td>\n",
              "      <td>6</td>\n",
              "      <td></td>\n",
              "      <td>2</td>\n",
              "      <td>1</td>\n",
              "      <td>2</td>\n",
              "      <td></td>\n",
              "      <td>3</td>\n",
              "      <td></td>\n",
              "      <td></td>\n",
              "      <td>5</td>\n",
              "      <td>66</td>\n",
              "      <td>NaN</td>\n",
              "      <td>...</td>\n",
              "      <td>NaN</td>\n",
              "      <td>NaN</td>\n",
              "      <td>NaN</td>\n",
              "      <td>NaN</td>\n",
              "      <td>NaN</td>\n",
              "      <td>NaN</td>\n",
              "      <td>NaN</td>\n",
              "      <td>NaN</td>\n",
              "      <td>NaN</td>\n",
              "      <td>NaN</td>\n",
              "      <td>NaN</td>\n",
              "      <td>NaN</td>\n",
              "      <td>NaN</td>\n",
              "      <td>NaN</td>\n",
              "      <td>NaN</td>\n",
              "      <td>NaN</td>\n",
              "      <td>NaN</td>\n",
              "      <td>NaN</td>\n",
              "      <td>NaN</td>\n",
              "      <td>NaN</td>\n",
              "      <td>NaN</td>\n",
              "      <td>NaN</td>\n",
              "      <td>NaN</td>\n",
              "      <td>NaN</td>\n",
              "      <td>NaN</td>\n",
              "      <td>NaN</td>\n",
              "      <td>NaN</td>\n",
              "      <td>NaN</td>\n",
              "      <td>NaN</td>\n",
              "      <td>NaN</td>\n",
              "      <td>NaN</td>\n",
              "      <td>NaN</td>\n",
              "      <td>NaN</td>\n",
              "      <td>NaN</td>\n",
              "      <td>NaN</td>\n",
              "      <td>NaN</td>\n",
              "      <td>NaN</td>\n",
              "      <td>NaN</td>\n",
              "      <td>NaN</td>\n",
              "      <td>NaN</td>\n",
              "    </tr>\n",
              "    <tr>\n",
              "      <th>27729</th>\n",
              "      <td>5494047</td>\n",
              "      <td>1</td>\n",
              "      <td>6</td>\n",
              "      <td>1</td>\n",
              "      <td>1</td>\n",
              "      <td>12</td>\n",
              "      <td>1987</td>\n",
              "      <td>33</td>\n",
              "      <td>5</td>\n",
              "      <td>6</td>\n",
              "      <td>6</td>\n",
              "      <td>3</td>\n",
              "      <td>2</td>\n",
              "      <td></td>\n",
              "      <td></td>\n",
              "      <td></td>\n",
              "      <td></td>\n",
              "      <td></td>\n",
              "      <td></td>\n",
              "      <td></td>\n",
              "      <td></td>\n",
              "      <td></td>\n",
              "      <td></td>\n",
              "      <td></td>\n",
              "      <td>1</td>\n",
              "      <td></td>\n",
              "      <td>2</td>\n",
              "      <td>1</td>\n",
              "      <td>6</td>\n",
              "      <td></td>\n",
              "      <td>2</td>\n",
              "      <td>1</td>\n",
              "      <td>2</td>\n",
              "      <td></td>\n",
              "      <td>3</td>\n",
              "      <td></td>\n",
              "      <td></td>\n",
              "      <td>5</td>\n",
              "      <td>66</td>\n",
              "      <td></td>\n",
              "      <td>...</td>\n",
              "      <td>NaN</td>\n",
              "      <td>NaN</td>\n",
              "      <td>NaN</td>\n",
              "      <td>NaN</td>\n",
              "      <td>NaN</td>\n",
              "      <td>NaN</td>\n",
              "      <td>NaN</td>\n",
              "      <td>NaN</td>\n",
              "      <td>NaN</td>\n",
              "      <td>NaN</td>\n",
              "      <td>NaN</td>\n",
              "      <td>NaN</td>\n",
              "      <td>NaN</td>\n",
              "      <td>NaN</td>\n",
              "      <td>NaN</td>\n",
              "      <td>NaN</td>\n",
              "      <td>NaN</td>\n",
              "      <td>NaN</td>\n",
              "      <td>NaN</td>\n",
              "      <td>NaN</td>\n",
              "      <td>NaN</td>\n",
              "      <td>NaN</td>\n",
              "      <td>NaN</td>\n",
              "      <td>NaN</td>\n",
              "      <td>NaN</td>\n",
              "      <td>NaN</td>\n",
              "      <td>NaN</td>\n",
              "      <td>NaN</td>\n",
              "      <td>NaN</td>\n",
              "      <td>NaN</td>\n",
              "      <td>NaN</td>\n",
              "      <td>NaN</td>\n",
              "      <td>NaN</td>\n",
              "      <td>NaN</td>\n",
              "      <td>NaN</td>\n",
              "      <td>NaN</td>\n",
              "      <td>NaN</td>\n",
              "      <td>NaN</td>\n",
              "      <td>NaN</td>\n",
              "      <td>NaN</td>\n",
              "    </tr>\n",
              "  </tbody>\n",
              "</table>\n",
              "<p>27730 rows × 249 columns</p>\n",
              "</div>"
            ],
            "text/plain": [
              "       DIRECTORIO  SECUENCIA_P  ORDEN  HOGAR  ...  P1884 P1807 P6921  p7440\n",
              "0         5468958            1      1      1  ...    NaN   NaN   NaN    NaN\n",
              "1         5468958            1      2      1  ...    NaN   NaN   NaN    NaN\n",
              "2         5468958            1      3      1  ...    NaN   NaN   NaN    NaN\n",
              "3         5468958            1      4      1  ...                          \n",
              "4         5468958            1      5      1  ...                          \n",
              "...           ...          ...    ...    ...  ...    ...   ...   ...    ...\n",
              "27725     5494047            1      2      1  ...    NaN   NaN   NaN    NaN\n",
              "27726     5494047            1      3      1  ...    NaN   NaN   NaN    NaN\n",
              "27727     5494047            1      4      1  ...    NaN   NaN   NaN    NaN\n",
              "27728     5494047            1      5      1  ...    NaN   NaN   NaN    NaN\n",
              "27729     5494047            1      6      1  ...    NaN   NaN   NaN    NaN\n",
              "\n",
              "[27730 rows x 249 columns]"
            ]
          },
          "metadata": {},
          "execution_count": 133
        }
      ]
    },
    {
      "cell_type": "markdown",
      "metadata": {
        "id": "rCa1YAPhEv1W"
      },
      "source": [
        "#CONCATENACION BASES"
      ]
    },
    {
      "cell_type": "code",
      "metadata": {
        "id": "nX_dh0edEy8Y"
      },
      "source": [
        "Base_enero.insert(5,\"Mes\",\"Enero\")\n",
        "Base_febrero.insert(5,\"Mes\",\"Febrero\")\n",
        "Base_marzo.insert(5,\"Mes\",\"Marzo\")\n",
        "Base_abril.insert(5,\"Mes\",\"Abril\")\n",
        "Base_mayo.insert(5,\"Mes\",\"Mayo\")\n",
        "Base_junio.insert(5,\"Mes\",\"Junio\")"
      ],
      "execution_count": null,
      "outputs": []
    },
    {
      "cell_type": "code",
      "metadata": {
        "id": "B98Ul_aBFA9h"
      },
      "source": [
        "dt_total = pd.concat([Base_enero, Base_febrero,Base_marzo, Base_abril, Base_mayo, Base_junio])"
      ],
      "execution_count": null,
      "outputs": []
    },
    {
      "cell_type": "code",
      "metadata": {
        "id": "zN1z0TxGKasF"
      },
      "source": [
        "Base_X = pd.merge(Base_enero,Base_febrero,how  = 'inner')\n"
      ],
      "execution_count": null,
      "outputs": []
    },
    {
      "cell_type": "code",
      "metadata": {
        "colab": {
          "base_uri": "https://localhost:8080/",
          "height": 98
        },
        "id": "NGtmYON6LJ72",
        "outputId": "b4d7f245-6038-48f1-c53a-84b0fe68c2c7"
      },
      "source": [
        "Base_X"
      ],
      "execution_count": null,
      "outputs": [
        {
          "output_type": "execute_result",
          "data": {
            "text/html": [
              "<div>\n",
              "<style scoped>\n",
              "    .dataframe tbody tr th:only-of-type {\n",
              "        vertical-align: middle;\n",
              "    }\n",
              "\n",
              "    .dataframe tbody tr th {\n",
              "        vertical-align: top;\n",
              "    }\n",
              "\n",
              "    .dataframe thead th {\n",
              "        text-align: right;\n",
              "    }\n",
              "</style>\n",
              "<table border=\"1\" class=\"dataframe\">\n",
              "  <thead>\n",
              "    <tr style=\"text-align: right;\">\n",
              "      <th></th>\n",
              "      <th>DIRECTORIO</th>\n",
              "      <th>SECUENCIA_P</th>\n",
              "      <th>ORDEN</th>\n",
              "      <th>HOGAR</th>\n",
              "      <th>P6020</th>\n",
              "      <th>Mes</th>\n",
              "      <th>P6030S1</th>\n",
              "      <th>P6030S3</th>\n",
              "      <th>P6040</th>\n",
              "      <th>P6050</th>\n",
              "      <th>P6080</th>\n",
              "      <th>P6070</th>\n",
              "      <th>P6081</th>\n",
              "      <th>P6083</th>\n",
              "      <th>P6071</th>\n",
              "      <th>P3147S1</th>\n",
              "      <th>P3147S2</th>\n",
              "      <th>P3147S3</th>\n",
              "      <th>P3147S4</th>\n",
              "      <th>P3147S5</th>\n",
              "      <th>P3147S6</th>\n",
              "      <th>P3147S7</th>\n",
              "      <th>P3147S8</th>\n",
              "      <th>P3147S9</th>\n",
              "      <th>P3147S10</th>\n",
              "      <th>P3147S11</th>\n",
              "      <th>P3147S10A1</th>\n",
              "      <th>P6090</th>\n",
              "      <th>P6140</th>\n",
              "      <th>P6150</th>\n",
              "      <th>P6100</th>\n",
              "      <th>P6125</th>\n",
              "      <th>P6160</th>\n",
              "      <th>P6170</th>\n",
              "      <th>P6175</th>\n",
              "      <th>P6210</th>\n",
              "      <th>P6220</th>\n",
              "      <th>P6269</th>\n",
              "      <th>ESC</th>\n",
              "      <th>DPTO</th>\n",
              "      <th>...</th>\n",
              "      <th>P7320</th>\n",
              "      <th>P7350</th>\n",
              "      <th>P9460</th>\n",
              "      <th>P7390</th>\n",
              "      <th>P7390S1</th>\n",
              "      <th>P7420S1</th>\n",
              "      <th>P7420S2</th>\n",
              "      <th>P7420S3</th>\n",
              "      <th>P7420S4</th>\n",
              "      <th>P7420S5</th>\n",
              "      <th>P7420S6</th>\n",
              "      <th>P7420S7</th>\n",
              "      <th>P7420S8</th>\n",
              "      <th>P7422</th>\n",
              "      <th>P7422S1</th>\n",
              "      <th>P1806</th>\n",
              "      <th>P1519</th>\n",
              "      <th>P1883</th>\n",
              "      <th>RAMA2D_D_R4</th>\n",
              "      <th>OFICIO1</th>\n",
              "      <th>OFICIO2</th>\n",
              "      <th>DSCY</th>\n",
              "      <th>RAMA4D_D_R4</th>\n",
              "      <th>P7430</th>\n",
              "      <th>P7450</th>\n",
              "      <th>P7450S1</th>\n",
              "      <th>P7452</th>\n",
              "      <th>P7454</th>\n",
              "      <th>P7456</th>\n",
              "      <th>P7458</th>\n",
              "      <th>P7458S1</th>\n",
              "      <th>P7460</th>\n",
              "      <th>P7470</th>\n",
              "      <th>P7472</th>\n",
              "      <th>P7472S1</th>\n",
              "      <th>P744</th>\n",
              "      <th>P1884</th>\n",
              "      <th>P1807</th>\n",
              "      <th>P6921</th>\n",
              "      <th>p7440</th>\n",
              "    </tr>\n",
              "  </thead>\n",
              "  <tbody>\n",
              "  </tbody>\n",
              "</table>\n",
              "<p>0 rows × 250 columns</p>\n",
              "</div>"
            ],
            "text/plain": [
              "Empty DataFrame\n",
              "Columns: [DIRECTORIO, SECUENCIA_P, ORDEN, HOGAR, P6020, Mes, P6030S1, P6030S3, P6040, P6050, P6080, P6070, P6081, P6083, P6071, P3147S1, P3147S2, P3147S3, P3147S4, P3147S5, P3147S6, P3147S7, P3147S8, P3147S9, P3147S10, P3147S11, P3147S10A1, P6090, P6140, P6150, P6100, P6125, P6160, P6170, P6175, P6210, P6220, P6269, ESC, DPTO, P6290, P6290S1, P6240, P6240S1, P6250, P6260, P6270, P6280, P6300, P6310, P6310S1, P6320, P6330, P6340, P6350, P6351, Estado, P388, P6440, P6450, P6460, P6460S1, P6422, P6424S1, P6424S2, P6424S3, P6426, P6430S1, P6480, P6480S1, P9440, P6500, P6510, P6510S1, P6510S2, P6590, P6600, P6610, P6610S1, P6620, P6620S1, P6585S1, P6585S1A1, P6585S1A2, P6585S2, P6585S2A1, P6585S2A2, P6585S3, P6585S3A1, P6585S3A2, P6585S4, P6585S4A1, P6585S4A2, P6545, P6545S1, P6545S2, P6580, P6580S1, P6580S2, P6630S1, ...]\n",
              "Index: []\n",
              "\n",
              "[0 rows x 250 columns]"
            ]
          },
          "metadata": {},
          "execution_count": 137
        }
      ]
    },
    {
      "cell_type": "code",
      "metadata": {
        "colab": {
          "base_uri": "https://localhost:8080/",
          "height": 98
        },
        "id": "bSN0y_5_LXFM",
        "outputId": "fe7c9d10-1c14-4794-d272-9951bb765fd4"
      },
      "source": [
        "pd.merge(Base_enero,Base_marzo,how  = 'inner')"
      ],
      "execution_count": null,
      "outputs": [
        {
          "output_type": "execute_result",
          "data": {
            "text/html": [
              "<div>\n",
              "<style scoped>\n",
              "    .dataframe tbody tr th:only-of-type {\n",
              "        vertical-align: middle;\n",
              "    }\n",
              "\n",
              "    .dataframe tbody tr th {\n",
              "        vertical-align: top;\n",
              "    }\n",
              "\n",
              "    .dataframe thead th {\n",
              "        text-align: right;\n",
              "    }\n",
              "</style>\n",
              "<table border=\"1\" class=\"dataframe\">\n",
              "  <thead>\n",
              "    <tr style=\"text-align: right;\">\n",
              "      <th></th>\n",
              "      <th>DIRECTORIO</th>\n",
              "      <th>SECUENCIA_P</th>\n",
              "      <th>ORDEN</th>\n",
              "      <th>HOGAR</th>\n",
              "      <th>P6020</th>\n",
              "      <th>Mes</th>\n",
              "      <th>P6030S1</th>\n",
              "      <th>P6030S3</th>\n",
              "      <th>P6040</th>\n",
              "      <th>P6050</th>\n",
              "      <th>P6080</th>\n",
              "      <th>P6070</th>\n",
              "      <th>P6081</th>\n",
              "      <th>P6083</th>\n",
              "      <th>P6071</th>\n",
              "      <th>P3147S1</th>\n",
              "      <th>P3147S2</th>\n",
              "      <th>P3147S3</th>\n",
              "      <th>P3147S4</th>\n",
              "      <th>P3147S5</th>\n",
              "      <th>P3147S6</th>\n",
              "      <th>P3147S7</th>\n",
              "      <th>P3147S8</th>\n",
              "      <th>P3147S9</th>\n",
              "      <th>P3147S10</th>\n",
              "      <th>P3147S11</th>\n",
              "      <th>P3147S10A1</th>\n",
              "      <th>P6090</th>\n",
              "      <th>P6140</th>\n",
              "      <th>P6150</th>\n",
              "      <th>P6100</th>\n",
              "      <th>P6125</th>\n",
              "      <th>P6160</th>\n",
              "      <th>P6170</th>\n",
              "      <th>P6175</th>\n",
              "      <th>P6210</th>\n",
              "      <th>P6220</th>\n",
              "      <th>P6269</th>\n",
              "      <th>ESC</th>\n",
              "      <th>DPTO</th>\n",
              "      <th>...</th>\n",
              "      <th>P7320</th>\n",
              "      <th>P7350</th>\n",
              "      <th>P9460</th>\n",
              "      <th>P7390</th>\n",
              "      <th>P7390S1</th>\n",
              "      <th>P7420S1</th>\n",
              "      <th>P7420S2</th>\n",
              "      <th>P7420S3</th>\n",
              "      <th>P7420S4</th>\n",
              "      <th>P7420S5</th>\n",
              "      <th>P7420S6</th>\n",
              "      <th>P7420S7</th>\n",
              "      <th>P7420S8</th>\n",
              "      <th>P7422</th>\n",
              "      <th>P7422S1</th>\n",
              "      <th>P1806</th>\n",
              "      <th>P1519</th>\n",
              "      <th>P1883</th>\n",
              "      <th>RAMA2D_D_R4</th>\n",
              "      <th>OFICIO1</th>\n",
              "      <th>OFICIO2</th>\n",
              "      <th>DSCY</th>\n",
              "      <th>RAMA4D_D_R4</th>\n",
              "      <th>P7430</th>\n",
              "      <th>P7450</th>\n",
              "      <th>P7450S1</th>\n",
              "      <th>P7452</th>\n",
              "      <th>P7454</th>\n",
              "      <th>P7456</th>\n",
              "      <th>P7458</th>\n",
              "      <th>P7458S1</th>\n",
              "      <th>P7460</th>\n",
              "      <th>P7470</th>\n",
              "      <th>P7472</th>\n",
              "      <th>P7472S1</th>\n",
              "      <th>P744</th>\n",
              "      <th>P1884</th>\n",
              "      <th>P1807</th>\n",
              "      <th>P6921</th>\n",
              "      <th>p7440</th>\n",
              "    </tr>\n",
              "  </thead>\n",
              "  <tbody>\n",
              "  </tbody>\n",
              "</table>\n",
              "<p>0 rows × 250 columns</p>\n",
              "</div>"
            ],
            "text/plain": [
              "Empty DataFrame\n",
              "Columns: [DIRECTORIO, SECUENCIA_P, ORDEN, HOGAR, P6020, Mes, P6030S1, P6030S3, P6040, P6050, P6080, P6070, P6081, P6083, P6071, P3147S1, P3147S2, P3147S3, P3147S4, P3147S5, P3147S6, P3147S7, P3147S8, P3147S9, P3147S10, P3147S11, P3147S10A1, P6090, P6140, P6150, P6100, P6125, P6160, P6170, P6175, P6210, P6220, P6269, ESC, DPTO, P6290, P6290S1, P6240, P6240S1, P6250, P6260, P6270, P6280, P6300, P6310, P6310S1, P6320, P6330, P6340, P6350, P6351, Estado, P388, P6440, P6450, P6460, P6460S1, P6422, P6424S1, P6424S2, P6424S3, P6426, P6430S1, P6480, P6480S1, P9440, P6500, P6510, P6510S1, P6510S2, P6590, P6600, P6610, P6610S1, P6620, P6620S1, P6585S1, P6585S1A1, P6585S1A2, P6585S2, P6585S2A1, P6585S2A2, P6585S3, P6585S3A1, P6585S3A2, P6585S4, P6585S4A1, P6585S4A2, P6545, P6545S1, P6545S2, P6580, P6580S1, P6580S2, P6630S1, ...]\n",
              "Index: []\n",
              "\n",
              "[0 rows x 250 columns]"
            ]
          },
          "metadata": {},
          "execution_count": 138
        }
      ]
    },
    {
      "cell_type": "code",
      "metadata": {
        "colab": {
          "base_uri": "https://localhost:8080/",
          "height": 49
        },
        "id": "cQcIzZa5Laja",
        "outputId": "891af966-dbf8-410f-f3b2-566181086a69"
      },
      "source": [
        "pd.merge(Base_enero['DIRECTORIO'],Base_abril['DIRECTORIO'],how  = 'inner')"
      ],
      "execution_count": null,
      "outputs": [
        {
          "output_type": "execute_result",
          "data": {
            "text/html": [
              "<div>\n",
              "<style scoped>\n",
              "    .dataframe tbody tr th:only-of-type {\n",
              "        vertical-align: middle;\n",
              "    }\n",
              "\n",
              "    .dataframe tbody tr th {\n",
              "        vertical-align: top;\n",
              "    }\n",
              "\n",
              "    .dataframe thead th {\n",
              "        text-align: right;\n",
              "    }\n",
              "</style>\n",
              "<table border=\"1\" class=\"dataframe\">\n",
              "  <thead>\n",
              "    <tr style=\"text-align: right;\">\n",
              "      <th></th>\n",
              "      <th>DIRECTORIO</th>\n",
              "    </tr>\n",
              "  </thead>\n",
              "  <tbody>\n",
              "  </tbody>\n",
              "</table>\n",
              "</div>"
            ],
            "text/plain": [
              "Empty DataFrame\n",
              "Columns: [DIRECTORIO]\n",
              "Index: []"
            ]
          },
          "metadata": {},
          "execution_count": 139
        }
      ]
    },
    {
      "cell_type": "code",
      "metadata": {
        "colab": {
          "base_uri": "https://localhost:8080/",
          "height": 98
        },
        "id": "8QeRs-GpLc93",
        "outputId": "3a8f8075-5a1d-44e3-ca27-9a7d706c0460"
      },
      "source": [
        "pd.merge(Base_enero,Base_mayo,how  = 'inner')"
      ],
      "execution_count": null,
      "outputs": [
        {
          "output_type": "execute_result",
          "data": {
            "text/html": [
              "<div>\n",
              "<style scoped>\n",
              "    .dataframe tbody tr th:only-of-type {\n",
              "        vertical-align: middle;\n",
              "    }\n",
              "\n",
              "    .dataframe tbody tr th {\n",
              "        vertical-align: top;\n",
              "    }\n",
              "\n",
              "    .dataframe thead th {\n",
              "        text-align: right;\n",
              "    }\n",
              "</style>\n",
              "<table border=\"1\" class=\"dataframe\">\n",
              "  <thead>\n",
              "    <tr style=\"text-align: right;\">\n",
              "      <th></th>\n",
              "      <th>DIRECTORIO</th>\n",
              "      <th>SECUENCIA_P</th>\n",
              "      <th>ORDEN</th>\n",
              "      <th>HOGAR</th>\n",
              "      <th>P6020</th>\n",
              "      <th>Mes</th>\n",
              "      <th>P6030S1</th>\n",
              "      <th>P6030S3</th>\n",
              "      <th>P6040</th>\n",
              "      <th>P6050</th>\n",
              "      <th>P6080</th>\n",
              "      <th>P6070</th>\n",
              "      <th>P6081</th>\n",
              "      <th>P6083</th>\n",
              "      <th>P6071</th>\n",
              "      <th>P3147S1</th>\n",
              "      <th>P3147S2</th>\n",
              "      <th>P3147S3</th>\n",
              "      <th>P3147S4</th>\n",
              "      <th>P3147S5</th>\n",
              "      <th>P3147S6</th>\n",
              "      <th>P3147S7</th>\n",
              "      <th>P3147S8</th>\n",
              "      <th>P3147S9</th>\n",
              "      <th>P3147S10</th>\n",
              "      <th>P3147S11</th>\n",
              "      <th>P3147S10A1</th>\n",
              "      <th>P6090</th>\n",
              "      <th>P6140</th>\n",
              "      <th>P6150</th>\n",
              "      <th>P6100</th>\n",
              "      <th>P6125</th>\n",
              "      <th>P6160</th>\n",
              "      <th>P6170</th>\n",
              "      <th>P6175</th>\n",
              "      <th>P6210</th>\n",
              "      <th>P6220</th>\n",
              "      <th>P6269</th>\n",
              "      <th>ESC</th>\n",
              "      <th>DPTO</th>\n",
              "      <th>...</th>\n",
              "      <th>P7320</th>\n",
              "      <th>P7350</th>\n",
              "      <th>P9460</th>\n",
              "      <th>P7390</th>\n",
              "      <th>P7390S1</th>\n",
              "      <th>P7420S1</th>\n",
              "      <th>P7420S2</th>\n",
              "      <th>P7420S3</th>\n",
              "      <th>P7420S4</th>\n",
              "      <th>P7420S5</th>\n",
              "      <th>P7420S6</th>\n",
              "      <th>P7420S7</th>\n",
              "      <th>P7420S8</th>\n",
              "      <th>P7422</th>\n",
              "      <th>P7422S1</th>\n",
              "      <th>P1806</th>\n",
              "      <th>P1519</th>\n",
              "      <th>P1883</th>\n",
              "      <th>RAMA2D_D_R4</th>\n",
              "      <th>OFICIO1</th>\n",
              "      <th>OFICIO2</th>\n",
              "      <th>DSCY</th>\n",
              "      <th>RAMA4D_D_R4</th>\n",
              "      <th>P7430</th>\n",
              "      <th>P7450</th>\n",
              "      <th>P7450S1</th>\n",
              "      <th>P7452</th>\n",
              "      <th>P7454</th>\n",
              "      <th>P7456</th>\n",
              "      <th>P7458</th>\n",
              "      <th>P7458S1</th>\n",
              "      <th>P7460</th>\n",
              "      <th>P7470</th>\n",
              "      <th>P7472</th>\n",
              "      <th>P7472S1</th>\n",
              "      <th>P744</th>\n",
              "      <th>P1884</th>\n",
              "      <th>P1807</th>\n",
              "      <th>P6921</th>\n",
              "      <th>p7440</th>\n",
              "    </tr>\n",
              "  </thead>\n",
              "  <tbody>\n",
              "  </tbody>\n",
              "</table>\n",
              "<p>0 rows × 250 columns</p>\n",
              "</div>"
            ],
            "text/plain": [
              "Empty DataFrame\n",
              "Columns: [DIRECTORIO, SECUENCIA_P, ORDEN, HOGAR, P6020, Mes, P6030S1, P6030S3, P6040, P6050, P6080, P6070, P6081, P6083, P6071, P3147S1, P3147S2, P3147S3, P3147S4, P3147S5, P3147S6, P3147S7, P3147S8, P3147S9, P3147S10, P3147S11, P3147S10A1, P6090, P6140, P6150, P6100, P6125, P6160, P6170, P6175, P6210, P6220, P6269, ESC, DPTO, P6290, P6290S1, P6240, P6240S1, P6250, P6260, P6270, P6280, P6300, P6310, P6310S1, P6320, P6330, P6340, P6350, P6351, Estado, P388, P6440, P6450, P6460, P6460S1, P6422, P6424S1, P6424S2, P6424S3, P6426, P6430S1, P6480, P6480S1, P9440, P6500, P6510, P6510S1, P6510S2, P6590, P6600, P6610, P6610S1, P6620, P6620S1, P6585S1, P6585S1A1, P6585S1A2, P6585S2, P6585S2A1, P6585S2A2, P6585S3, P6585S3A1, P6585S3A2, P6585S4, P6585S4A1, P6585S4A2, P6545, P6545S1, P6545S2, P6580, P6580S1, P6580S2, P6630S1, ...]\n",
              "Index: []\n",
              "\n",
              "[0 rows x 250 columns]"
            ]
          },
          "metadata": {},
          "execution_count": 140
        }
      ]
    },
    {
      "cell_type": "code",
      "metadata": {
        "colab": {
          "base_uri": "https://localhost:8080/",
          "height": 49
        },
        "id": "s1sRQrOaLfi3",
        "outputId": "ac3fa5d6-25ab-4fd7-a029-690d3d338070"
      },
      "source": [
        "pd.merge(Base_enero['DIRECTORIO'],Base_junio['DIRECTORIO'],how  = 'inner')"
      ],
      "execution_count": null,
      "outputs": [
        {
          "output_type": "execute_result",
          "data": {
            "text/html": [
              "<div>\n",
              "<style scoped>\n",
              "    .dataframe tbody tr th:only-of-type {\n",
              "        vertical-align: middle;\n",
              "    }\n",
              "\n",
              "    .dataframe tbody tr th {\n",
              "        vertical-align: top;\n",
              "    }\n",
              "\n",
              "    .dataframe thead th {\n",
              "        text-align: right;\n",
              "    }\n",
              "</style>\n",
              "<table border=\"1\" class=\"dataframe\">\n",
              "  <thead>\n",
              "    <tr style=\"text-align: right;\">\n",
              "      <th></th>\n",
              "      <th>DIRECTORIO</th>\n",
              "    </tr>\n",
              "  </thead>\n",
              "  <tbody>\n",
              "  </tbody>\n",
              "</table>\n",
              "</div>"
            ],
            "text/plain": [
              "Empty DataFrame\n",
              "Columns: [DIRECTORIO]\n",
              "Index: []"
            ]
          },
          "metadata": {},
          "execution_count": 141
        }
      ]
    },
    {
      "cell_type": "code",
      "metadata": {
        "colab": {
          "base_uri": "https://localhost:8080/",
          "height": 473
        },
        "id": "MwP17XKkJItI",
        "outputId": "c9bf0f38-8649-4eac-a5ce-7cb6a02ca32b"
      },
      "source": [
        "dt_total"
      ],
      "execution_count": null,
      "outputs": [
        {
          "output_type": "execute_result",
          "data": {
            "text/html": [
              "<div>\n",
              "<style scoped>\n",
              "    .dataframe tbody tr th:only-of-type {\n",
              "        vertical-align: middle;\n",
              "    }\n",
              "\n",
              "    .dataframe tbody tr th {\n",
              "        vertical-align: top;\n",
              "    }\n",
              "\n",
              "    .dataframe thead th {\n",
              "        text-align: right;\n",
              "    }\n",
              "</style>\n",
              "<table border=\"1\" class=\"dataframe\">\n",
              "  <thead>\n",
              "    <tr style=\"text-align: right;\">\n",
              "      <th></th>\n",
              "      <th>DIRECTORIO</th>\n",
              "      <th>SECUENCIA_P</th>\n",
              "      <th>ORDEN</th>\n",
              "      <th>HOGAR</th>\n",
              "      <th>P6020</th>\n",
              "      <th>Mes</th>\n",
              "      <th>P6030S1</th>\n",
              "      <th>P6030S3</th>\n",
              "      <th>P6040</th>\n",
              "      <th>P6050</th>\n",
              "      <th>P6080</th>\n",
              "      <th>P6070</th>\n",
              "      <th>P6081</th>\n",
              "      <th>P6083</th>\n",
              "      <th>P6071</th>\n",
              "      <th>P3147S1</th>\n",
              "      <th>P3147S2</th>\n",
              "      <th>P3147S3</th>\n",
              "      <th>P3147S4</th>\n",
              "      <th>P3147S5</th>\n",
              "      <th>P3147S6</th>\n",
              "      <th>P3147S7</th>\n",
              "      <th>P3147S8</th>\n",
              "      <th>P3147S9</th>\n",
              "      <th>P3147S10</th>\n",
              "      <th>P3147S11</th>\n",
              "      <th>P3147S10A1</th>\n",
              "      <th>P6090</th>\n",
              "      <th>P6140</th>\n",
              "      <th>P6150</th>\n",
              "      <th>P6100</th>\n",
              "      <th>P6125</th>\n",
              "      <th>P6160</th>\n",
              "      <th>P6170</th>\n",
              "      <th>P6175</th>\n",
              "      <th>P6210</th>\n",
              "      <th>P6220</th>\n",
              "      <th>P6269</th>\n",
              "      <th>ESC</th>\n",
              "      <th>DPTO</th>\n",
              "      <th>...</th>\n",
              "      <th>P7320</th>\n",
              "      <th>P7350</th>\n",
              "      <th>P9460</th>\n",
              "      <th>P7390</th>\n",
              "      <th>P7390S1</th>\n",
              "      <th>P7420S1</th>\n",
              "      <th>P7420S2</th>\n",
              "      <th>P7420S3</th>\n",
              "      <th>P7420S4</th>\n",
              "      <th>P7420S5</th>\n",
              "      <th>P7420S6</th>\n",
              "      <th>P7420S7</th>\n",
              "      <th>P7420S8</th>\n",
              "      <th>P7422</th>\n",
              "      <th>P7422S1</th>\n",
              "      <th>P1806</th>\n",
              "      <th>P1519</th>\n",
              "      <th>P1883</th>\n",
              "      <th>RAMA2D_D_R4</th>\n",
              "      <th>OFICIO1</th>\n",
              "      <th>OFICIO2</th>\n",
              "      <th>DSCY</th>\n",
              "      <th>RAMA4D_D_R4</th>\n",
              "      <th>P7430</th>\n",
              "      <th>P7450</th>\n",
              "      <th>P7450S1</th>\n",
              "      <th>P7452</th>\n",
              "      <th>P7454</th>\n",
              "      <th>P7456</th>\n",
              "      <th>P7458</th>\n",
              "      <th>P7458S1</th>\n",
              "      <th>P7460</th>\n",
              "      <th>P7470</th>\n",
              "      <th>P7472</th>\n",
              "      <th>P7472S1</th>\n",
              "      <th>P744</th>\n",
              "      <th>P1884</th>\n",
              "      <th>P1807</th>\n",
              "      <th>P6921</th>\n",
              "      <th>p7440</th>\n",
              "    </tr>\n",
              "  </thead>\n",
              "  <tbody>\n",
              "    <tr>\n",
              "      <th>0</th>\n",
              "      <td>5332772</td>\n",
              "      <td>1</td>\n",
              "      <td>1</td>\n",
              "      <td>1</td>\n",
              "      <td>2</td>\n",
              "      <td>Enero</td>\n",
              "      <td>8</td>\n",
              "      <td>1964</td>\n",
              "      <td>56</td>\n",
              "      <td>1</td>\n",
              "      <td>6</td>\n",
              "      <td>2</td>\n",
              "      <td>3</td>\n",
              "      <td>3</td>\n",
              "      <td>1</td>\n",
              "      <td></td>\n",
              "      <td></td>\n",
              "      <td></td>\n",
              "      <td>1</td>\n",
              "      <td></td>\n",
              "      <td></td>\n",
              "      <td>1</td>\n",
              "      <td></td>\n",
              "      <td></td>\n",
              "      <td></td>\n",
              "      <td></td>\n",
              "      <td></td>\n",
              "      <td>1</td>\n",
              "      <td></td>\n",
              "      <td></td>\n",
              "      <td>1</td>\n",
              "      <td>2</td>\n",
              "      <td>1</td>\n",
              "      <td>2</td>\n",
              "      <td></td>\n",
              "      <td>3</td>\n",
              "      <td></td>\n",
              "      <td></td>\n",
              "      <td>3</td>\n",
              "      <td>68</td>\n",
              "      <td>...</td>\n",
              "      <td>NaN</td>\n",
              "      <td>NaN</td>\n",
              "      <td>NaN</td>\n",
              "      <td>NaN</td>\n",
              "      <td>NaN</td>\n",
              "      <td>NaN</td>\n",
              "      <td>NaN</td>\n",
              "      <td>NaN</td>\n",
              "      <td>NaN</td>\n",
              "      <td>NaN</td>\n",
              "      <td>NaN</td>\n",
              "      <td>NaN</td>\n",
              "      <td>NaN</td>\n",
              "      <td>NaN</td>\n",
              "      <td>NaN</td>\n",
              "      <td>NaN</td>\n",
              "      <td>NaN</td>\n",
              "      <td>NaN</td>\n",
              "      <td>NaN</td>\n",
              "      <td>NaN</td>\n",
              "      <td>NaN</td>\n",
              "      <td>NaN</td>\n",
              "      <td>NaN</td>\n",
              "      <td>1.0</td>\n",
              "      <td>9</td>\n",
              "      <td>AISLAMIENTO PREVENTIVO OBLIGATORIO</td>\n",
              "      <td>2</td>\n",
              "      <td></td>\n",
              "      <td></td>\n",
              "      <td>12</td>\n",
              "      <td>TEMOR AL CONTAGIO COVID 19</td>\n",
              "      <td>2</td>\n",
              "      <td></td>\n",
              "      <td>2.0</td>\n",
              "      <td></td>\n",
              "      <td></td>\n",
              "      <td></td>\n",
              "      <td></td>\n",
              "      <td>2</td>\n",
              "      <td>1.4</td>\n",
              "    </tr>\n",
              "    <tr>\n",
              "      <th>1</th>\n",
              "      <td>5332772</td>\n",
              "      <td>1</td>\n",
              "      <td>2</td>\n",
              "      <td>1</td>\n",
              "      <td>1</td>\n",
              "      <td>Enero</td>\n",
              "      <td>1</td>\n",
              "      <td>1967</td>\n",
              "      <td>53</td>\n",
              "      <td>2</td>\n",
              "      <td>6</td>\n",
              "      <td>2</td>\n",
              "      <td>3</td>\n",
              "      <td>2</td>\n",
              "      <td>1</td>\n",
              "      <td></td>\n",
              "      <td></td>\n",
              "      <td></td>\n",
              "      <td>1</td>\n",
              "      <td></td>\n",
              "      <td></td>\n",
              "      <td></td>\n",
              "      <td></td>\n",
              "      <td></td>\n",
              "      <td></td>\n",
              "      <td></td>\n",
              "      <td></td>\n",
              "      <td>1</td>\n",
              "      <td></td>\n",
              "      <td></td>\n",
              "      <td>1</td>\n",
              "      <td>2</td>\n",
              "      <td>1</td>\n",
              "      <td>2</td>\n",
              "      <td></td>\n",
              "      <td>5</td>\n",
              "      <td>2</td>\n",
              "      <td></td>\n",
              "      <td>11</td>\n",
              "      <td>68</td>\n",
              "      <td>...</td>\n",
              "      <td>NaN</td>\n",
              "      <td>NaN</td>\n",
              "      <td>NaN</td>\n",
              "      <td>NaN</td>\n",
              "      <td>NaN</td>\n",
              "      <td>NaN</td>\n",
              "      <td>NaN</td>\n",
              "      <td>NaN</td>\n",
              "      <td>NaN</td>\n",
              "      <td>NaN</td>\n",
              "      <td>NaN</td>\n",
              "      <td>NaN</td>\n",
              "      <td>NaN</td>\n",
              "      <td>NaN</td>\n",
              "      <td>NaN</td>\n",
              "      <td>NaN</td>\n",
              "      <td>NaN</td>\n",
              "      <td>NaN</td>\n",
              "      <td>NaN</td>\n",
              "      <td>NaN</td>\n",
              "      <td>NaN</td>\n",
              "      <td>NaN</td>\n",
              "      <td>NaN</td>\n",
              "      <td>NaN</td>\n",
              "      <td>NaN</td>\n",
              "      <td>NaN</td>\n",
              "      <td>NaN</td>\n",
              "      <td>NaN</td>\n",
              "      <td>NaN</td>\n",
              "      <td>NaN</td>\n",
              "      <td>NaN</td>\n",
              "      <td>NaN</td>\n",
              "      <td>NaN</td>\n",
              "      <td>NaN</td>\n",
              "      <td>NaN</td>\n",
              "      <td>NaN</td>\n",
              "      <td>NaN</td>\n",
              "      <td>NaN</td>\n",
              "      <td>NaN</td>\n",
              "      <td>NaN</td>\n",
              "    </tr>\n",
              "    <tr>\n",
              "      <th>2</th>\n",
              "      <td>5332772</td>\n",
              "      <td>1</td>\n",
              "      <td>3</td>\n",
              "      <td>1</td>\n",
              "      <td>2</td>\n",
              "      <td>Enero</td>\n",
              "      <td>10</td>\n",
              "      <td>2002</td>\n",
              "      <td>18</td>\n",
              "      <td>3</td>\n",
              "      <td>6</td>\n",
              "      <td>6</td>\n",
              "      <td>1</td>\n",
              "      <td>1</td>\n",
              "      <td></td>\n",
              "      <td></td>\n",
              "      <td></td>\n",
              "      <td></td>\n",
              "      <td></td>\n",
              "      <td></td>\n",
              "      <td></td>\n",
              "      <td></td>\n",
              "      <td></td>\n",
              "      <td></td>\n",
              "      <td></td>\n",
              "      <td>1</td>\n",
              "      <td></td>\n",
              "      <td>1</td>\n",
              "      <td></td>\n",
              "      <td></td>\n",
              "      <td>3</td>\n",
              "      <td>2</td>\n",
              "      <td>1</td>\n",
              "      <td>1</td>\n",
              "      <td>1</td>\n",
              "      <td>6</td>\n",
              "      <td>2</td>\n",
              "      <td>2</td>\n",
              "      <td>11</td>\n",
              "      <td>68</td>\n",
              "      <td>...</td>\n",
              "      <td>NaN</td>\n",
              "      <td>NaN</td>\n",
              "      <td>NaN</td>\n",
              "      <td>NaN</td>\n",
              "      <td>NaN</td>\n",
              "      <td>NaN</td>\n",
              "      <td>NaN</td>\n",
              "      <td>NaN</td>\n",
              "      <td>NaN</td>\n",
              "      <td>NaN</td>\n",
              "      <td>NaN</td>\n",
              "      <td>NaN</td>\n",
              "      <td>NaN</td>\n",
              "      <td>NaN</td>\n",
              "      <td>NaN</td>\n",
              "      <td>NaN</td>\n",
              "      <td>NaN</td>\n",
              "      <td>NaN</td>\n",
              "      <td>NaN</td>\n",
              "      <td>NaN</td>\n",
              "      <td>NaN</td>\n",
              "      <td>NaN</td>\n",
              "      <td>NaN</td>\n",
              "      <td>2.0</td>\n",
              "      <td></td>\n",
              "      <td></td>\n",
              "      <td></td>\n",
              "      <td>2</td>\n",
              "      <td></td>\n",
              "      <td></td>\n",
              "      <td>.</td>\n",
              "      <td>2</td>\n",
              "      <td></td>\n",
              "      <td>2.0</td>\n",
              "      <td></td>\n",
              "      <td></td>\n",
              "      <td></td>\n",
              "      <td></td>\n",
              "      <td>2</td>\n",
              "      <td></td>\n",
              "    </tr>\n",
              "    <tr>\n",
              "      <th>3</th>\n",
              "      <td>5332773</td>\n",
              "      <td>1</td>\n",
              "      <td>1</td>\n",
              "      <td>1</td>\n",
              "      <td>1</td>\n",
              "      <td>Enero</td>\n",
              "      <td>10</td>\n",
              "      <td>2000</td>\n",
              "      <td>20</td>\n",
              "      <td>1</td>\n",
              "      <td>6</td>\n",
              "      <td>1</td>\n",
              "      <td>3</td>\n",
              "      <td>2</td>\n",
              "      <td>1</td>\n",
              "      <td></td>\n",
              "      <td></td>\n",
              "      <td></td>\n",
              "      <td>1</td>\n",
              "      <td></td>\n",
              "      <td></td>\n",
              "      <td>1</td>\n",
              "      <td></td>\n",
              "      <td></td>\n",
              "      <td></td>\n",
              "      <td></td>\n",
              "      <td></td>\n",
              "      <td>2</td>\n",
              "      <td>1</td>\n",
              "      <td>12</td>\n",
              "      <td></td>\n",
              "      <td>2</td>\n",
              "      <td>1</td>\n",
              "      <td>2</td>\n",
              "      <td></td>\n",
              "      <td>5</td>\n",
              "      <td>1</td>\n",
              "      <td></td>\n",
              "      <td>10</td>\n",
              "      <td>68</td>\n",
              "      <td>...</td>\n",
              "      <td>NaN</td>\n",
              "      <td>NaN</td>\n",
              "      <td>NaN</td>\n",
              "      <td>NaN</td>\n",
              "      <td>NaN</td>\n",
              "      <td>NaN</td>\n",
              "      <td>NaN</td>\n",
              "      <td>NaN</td>\n",
              "      <td>NaN</td>\n",
              "      <td>NaN</td>\n",
              "      <td>NaN</td>\n",
              "      <td>NaN</td>\n",
              "      <td>NaN</td>\n",
              "      <td>NaN</td>\n",
              "      <td>NaN</td>\n",
              "      <td>NaN</td>\n",
              "      <td>NaN</td>\n",
              "      <td>NaN</td>\n",
              "      <td>NaN</td>\n",
              "      <td>NaN</td>\n",
              "      <td>NaN</td>\n",
              "      <td>NaN</td>\n",
              "      <td>NaN</td>\n",
              "      <td>NaN</td>\n",
              "      <td>NaN</td>\n",
              "      <td>NaN</td>\n",
              "      <td>NaN</td>\n",
              "      <td>NaN</td>\n",
              "      <td>NaN</td>\n",
              "      <td>NaN</td>\n",
              "      <td>NaN</td>\n",
              "      <td>NaN</td>\n",
              "      <td>NaN</td>\n",
              "      <td>NaN</td>\n",
              "      <td>NaN</td>\n",
              "      <td>NaN</td>\n",
              "      <td>NaN</td>\n",
              "      <td>NaN</td>\n",
              "      <td>NaN</td>\n",
              "      <td>NaN</td>\n",
              "    </tr>\n",
              "    <tr>\n",
              "      <th>4</th>\n",
              "      <td>5332773</td>\n",
              "      <td>1</td>\n",
              "      <td>2</td>\n",
              "      <td>1</td>\n",
              "      <td>2</td>\n",
              "      <td>Enero</td>\n",
              "      <td>7</td>\n",
              "      <td>2003</td>\n",
              "      <td>17</td>\n",
              "      <td>2</td>\n",
              "      <td>6</td>\n",
              "      <td>1</td>\n",
              "      <td>2</td>\n",
              "      <td>2</td>\n",
              "      <td>1</td>\n",
              "      <td></td>\n",
              "      <td></td>\n",
              "      <td></td>\n",
              "      <td></td>\n",
              "      <td></td>\n",
              "      <td></td>\n",
              "      <td></td>\n",
              "      <td></td>\n",
              "      <td></td>\n",
              "      <td></td>\n",
              "      <td>1</td>\n",
              "      <td></td>\n",
              "      <td>1</td>\n",
              "      <td></td>\n",
              "      <td></td>\n",
              "      <td>3</td>\n",
              "      <td>2</td>\n",
              "      <td>1</td>\n",
              "      <td>2</td>\n",
              "      <td></td>\n",
              "      <td>5</td>\n",
              "      <td>2</td>\n",
              "      <td></td>\n",
              "      <td>11</td>\n",
              "      <td>68</td>\n",
              "      <td>...</td>\n",
              "      <td>2</td>\n",
              "      <td>1</td>\n",
              "      <td>2</td>\n",
              "      <td>8</td>\n",
              "      <td></td>\n",
              "      <td></td>\n",
              "      <td></td>\n",
              "      <td></td>\n",
              "      <td></td>\n",
              "      <td></td>\n",
              "      <td></td>\n",
              "      <td></td>\n",
              "      <td>1</td>\n",
              "      <td>1</td>\n",
              "      <td>320000</td>\n",
              "      <td>877803.0</td>\n",
              "      <td>2</td>\n",
              "      <td></td>\n",
              "      <td>47</td>\n",
              "      <td>45.0</td>\n",
              "      <td>45</td>\n",
              "      <td>1.0</td>\n",
              "      <td>4782</td>\n",
              "      <td>NaN</td>\n",
              "      <td>NaN</td>\n",
              "      <td>NaN</td>\n",
              "      <td>NaN</td>\n",
              "      <td>NaN</td>\n",
              "      <td>NaN</td>\n",
              "      <td>NaN</td>\n",
              "      <td>NaN</td>\n",
              "      <td>NaN</td>\n",
              "      <td>NaN</td>\n",
              "      <td>NaN</td>\n",
              "      <td>NaN</td>\n",
              "      <td>NaN</td>\n",
              "      <td>NaN</td>\n",
              "      <td>NaN</td>\n",
              "      <td>NaN</td>\n",
              "      <td>NaN</td>\n",
              "    </tr>\n",
              "    <tr>\n",
              "      <th>...</th>\n",
              "      <td>...</td>\n",
              "      <td>...</td>\n",
              "      <td>...</td>\n",
              "      <td>...</td>\n",
              "      <td>...</td>\n",
              "      <td>...</td>\n",
              "      <td>...</td>\n",
              "      <td>...</td>\n",
              "      <td>...</td>\n",
              "      <td>...</td>\n",
              "      <td>...</td>\n",
              "      <td>...</td>\n",
              "      <td>...</td>\n",
              "      <td>...</td>\n",
              "      <td>...</td>\n",
              "      <td>...</td>\n",
              "      <td>...</td>\n",
              "      <td>...</td>\n",
              "      <td>...</td>\n",
              "      <td>...</td>\n",
              "      <td>...</td>\n",
              "      <td>...</td>\n",
              "      <td>...</td>\n",
              "      <td>...</td>\n",
              "      <td>...</td>\n",
              "      <td>...</td>\n",
              "      <td>...</td>\n",
              "      <td>...</td>\n",
              "      <td>...</td>\n",
              "      <td>...</td>\n",
              "      <td>...</td>\n",
              "      <td>...</td>\n",
              "      <td>...</td>\n",
              "      <td>...</td>\n",
              "      <td>...</td>\n",
              "      <td>...</td>\n",
              "      <td>...</td>\n",
              "      <td>...</td>\n",
              "      <td>...</td>\n",
              "      <td>...</td>\n",
              "      <td>...</td>\n",
              "      <td>...</td>\n",
              "      <td>...</td>\n",
              "      <td>...</td>\n",
              "      <td>...</td>\n",
              "      <td>...</td>\n",
              "      <td>...</td>\n",
              "      <td>...</td>\n",
              "      <td>...</td>\n",
              "      <td>...</td>\n",
              "      <td>...</td>\n",
              "      <td>...</td>\n",
              "      <td>...</td>\n",
              "      <td>...</td>\n",
              "      <td>...</td>\n",
              "      <td>...</td>\n",
              "      <td>...</td>\n",
              "      <td>...</td>\n",
              "      <td>...</td>\n",
              "      <td>...</td>\n",
              "      <td>...</td>\n",
              "      <td>...</td>\n",
              "      <td>...</td>\n",
              "      <td>...</td>\n",
              "      <td>...</td>\n",
              "      <td>...</td>\n",
              "      <td>...</td>\n",
              "      <td>...</td>\n",
              "      <td>...</td>\n",
              "      <td>...</td>\n",
              "      <td>...</td>\n",
              "      <td>...</td>\n",
              "      <td>...</td>\n",
              "      <td>...</td>\n",
              "      <td>...</td>\n",
              "      <td>...</td>\n",
              "      <td>...</td>\n",
              "      <td>...</td>\n",
              "      <td>...</td>\n",
              "      <td>...</td>\n",
              "      <td>...</td>\n",
              "    </tr>\n",
              "    <tr>\n",
              "      <th>27725</th>\n",
              "      <td>5494047</td>\n",
              "      <td>1</td>\n",
              "      <td>2</td>\n",
              "      <td>1</td>\n",
              "      <td>1</td>\n",
              "      <td>Junio</td>\n",
              "      <td>7</td>\n",
              "      <td>1983</td>\n",
              "      <td>37</td>\n",
              "      <td>2</td>\n",
              "      <td>6</td>\n",
              "      <td>2</td>\n",
              "      <td>3</td>\n",
              "      <td>2</td>\n",
              "      <td>1</td>\n",
              "      <td></td>\n",
              "      <td></td>\n",
              "      <td></td>\n",
              "      <td></td>\n",
              "      <td></td>\n",
              "      <td></td>\n",
              "      <td></td>\n",
              "      <td></td>\n",
              "      <td></td>\n",
              "      <td></td>\n",
              "      <td>1</td>\n",
              "      <td></td>\n",
              "      <td>2</td>\n",
              "      <td>1</td>\n",
              "      <td>12</td>\n",
              "      <td></td>\n",
              "      <td>9</td>\n",
              "      <td>1</td>\n",
              "      <td>2</td>\n",
              "      <td></td>\n",
              "      <td>3</td>\n",
              "      <td></td>\n",
              "      <td></td>\n",
              "      <td>5</td>\n",
              "      <td>66</td>\n",
              "      <td>...</td>\n",
              "      <td>NaN</td>\n",
              "      <td>NaN</td>\n",
              "      <td>NaN</td>\n",
              "      <td>NaN</td>\n",
              "      <td>NaN</td>\n",
              "      <td>NaN</td>\n",
              "      <td>NaN</td>\n",
              "      <td>NaN</td>\n",
              "      <td>NaN</td>\n",
              "      <td>NaN</td>\n",
              "      <td>NaN</td>\n",
              "      <td>NaN</td>\n",
              "      <td>NaN</td>\n",
              "      <td>NaN</td>\n",
              "      <td>NaN</td>\n",
              "      <td>NaN</td>\n",
              "      <td>NaN</td>\n",
              "      <td>NaN</td>\n",
              "      <td>NaN</td>\n",
              "      <td>NaN</td>\n",
              "      <td>NaN</td>\n",
              "      <td>NaN</td>\n",
              "      <td>NaN</td>\n",
              "      <td>NaN</td>\n",
              "      <td>NaN</td>\n",
              "      <td>NaN</td>\n",
              "      <td>NaN</td>\n",
              "      <td>NaN</td>\n",
              "      <td>NaN</td>\n",
              "      <td>NaN</td>\n",
              "      <td>NaN</td>\n",
              "      <td>NaN</td>\n",
              "      <td>NaN</td>\n",
              "      <td>NaN</td>\n",
              "      <td>NaN</td>\n",
              "      <td>NaN</td>\n",
              "      <td>NaN</td>\n",
              "      <td>NaN</td>\n",
              "      <td>NaN</td>\n",
              "      <td>NaN</td>\n",
              "    </tr>\n",
              "    <tr>\n",
              "      <th>27726</th>\n",
              "      <td>5494047</td>\n",
              "      <td>1</td>\n",
              "      <td>3</td>\n",
              "      <td>1</td>\n",
              "      <td>2</td>\n",
              "      <td>Junio</td>\n",
              "      <td>7</td>\n",
              "      <td>1999</td>\n",
              "      <td>22</td>\n",
              "      <td>3</td>\n",
              "      <td>6</td>\n",
              "      <td>6</td>\n",
              "      <td>1</td>\n",
              "      <td>1</td>\n",
              "      <td></td>\n",
              "      <td></td>\n",
              "      <td></td>\n",
              "      <td></td>\n",
              "      <td></td>\n",
              "      <td></td>\n",
              "      <td></td>\n",
              "      <td></td>\n",
              "      <td></td>\n",
              "      <td></td>\n",
              "      <td></td>\n",
              "      <td>1</td>\n",
              "      <td></td>\n",
              "      <td>2</td>\n",
              "      <td>1</td>\n",
              "      <td>12</td>\n",
              "      <td></td>\n",
              "      <td>2</td>\n",
              "      <td>1</td>\n",
              "      <td>2</td>\n",
              "      <td></td>\n",
              "      <td>5</td>\n",
              "      <td>2</td>\n",
              "      <td></td>\n",
              "      <td>11</td>\n",
              "      <td>66</td>\n",
              "      <td>...</td>\n",
              "      <td>NaN</td>\n",
              "      <td>NaN</td>\n",
              "      <td>NaN</td>\n",
              "      <td>NaN</td>\n",
              "      <td>NaN</td>\n",
              "      <td>NaN</td>\n",
              "      <td>NaN</td>\n",
              "      <td>NaN</td>\n",
              "      <td>NaN</td>\n",
              "      <td>NaN</td>\n",
              "      <td>NaN</td>\n",
              "      <td>NaN</td>\n",
              "      <td>NaN</td>\n",
              "      <td>NaN</td>\n",
              "      <td>NaN</td>\n",
              "      <td>NaN</td>\n",
              "      <td>NaN</td>\n",
              "      <td>NaN</td>\n",
              "      <td>NaN</td>\n",
              "      <td>NaN</td>\n",
              "      <td>NaN</td>\n",
              "      <td>NaN</td>\n",
              "      <td>NaN</td>\n",
              "      <td>NaN</td>\n",
              "      <td>NaN</td>\n",
              "      <td>NaN</td>\n",
              "      <td>NaN</td>\n",
              "      <td>NaN</td>\n",
              "      <td>NaN</td>\n",
              "      <td>NaN</td>\n",
              "      <td>NaN</td>\n",
              "      <td>NaN</td>\n",
              "      <td>NaN</td>\n",
              "      <td>NaN</td>\n",
              "      <td>NaN</td>\n",
              "      <td>NaN</td>\n",
              "      <td>NaN</td>\n",
              "      <td>NaN</td>\n",
              "      <td>NaN</td>\n",
              "      <td>NaN</td>\n",
              "    </tr>\n",
              "    <tr>\n",
              "      <th>27727</th>\n",
              "      <td>5494047</td>\n",
              "      <td>1</td>\n",
              "      <td>4</td>\n",
              "      <td>1</td>\n",
              "      <td>2</td>\n",
              "      <td>Junio</td>\n",
              "      <td>7</td>\n",
              "      <td>2001</td>\n",
              "      <td>20</td>\n",
              "      <td>3</td>\n",
              "      <td>6</td>\n",
              "      <td>6</td>\n",
              "      <td>1</td>\n",
              "      <td>1</td>\n",
              "      <td></td>\n",
              "      <td></td>\n",
              "      <td></td>\n",
              "      <td></td>\n",
              "      <td></td>\n",
              "      <td></td>\n",
              "      <td></td>\n",
              "      <td></td>\n",
              "      <td></td>\n",
              "      <td></td>\n",
              "      <td></td>\n",
              "      <td>1</td>\n",
              "      <td></td>\n",
              "      <td>2</td>\n",
              "      <td>1</td>\n",
              "      <td>12</td>\n",
              "      <td></td>\n",
              "      <td>2</td>\n",
              "      <td>1</td>\n",
              "      <td>2</td>\n",
              "      <td></td>\n",
              "      <td>5</td>\n",
              "      <td>2</td>\n",
              "      <td></td>\n",
              "      <td>11</td>\n",
              "      <td>66</td>\n",
              "      <td>...</td>\n",
              "      <td>NaN</td>\n",
              "      <td>NaN</td>\n",
              "      <td>NaN</td>\n",
              "      <td>NaN</td>\n",
              "      <td>NaN</td>\n",
              "      <td>NaN</td>\n",
              "      <td>NaN</td>\n",
              "      <td>NaN</td>\n",
              "      <td>NaN</td>\n",
              "      <td>NaN</td>\n",
              "      <td>NaN</td>\n",
              "      <td>NaN</td>\n",
              "      <td>NaN</td>\n",
              "      <td>NaN</td>\n",
              "      <td>NaN</td>\n",
              "      <td>NaN</td>\n",
              "      <td>NaN</td>\n",
              "      <td>NaN</td>\n",
              "      <td>NaN</td>\n",
              "      <td>NaN</td>\n",
              "      <td>NaN</td>\n",
              "      <td>NaN</td>\n",
              "      <td>NaN</td>\n",
              "      <td>NaN</td>\n",
              "      <td>NaN</td>\n",
              "      <td>NaN</td>\n",
              "      <td>NaN</td>\n",
              "      <td>NaN</td>\n",
              "      <td>NaN</td>\n",
              "      <td>NaN</td>\n",
              "      <td>NaN</td>\n",
              "      <td>NaN</td>\n",
              "      <td>NaN</td>\n",
              "      <td>NaN</td>\n",
              "      <td>NaN</td>\n",
              "      <td>NaN</td>\n",
              "      <td>NaN</td>\n",
              "      <td>NaN</td>\n",
              "      <td>NaN</td>\n",
              "      <td>NaN</td>\n",
              "    </tr>\n",
              "    <tr>\n",
              "      <th>27728</th>\n",
              "      <td>5494047</td>\n",
              "      <td>1</td>\n",
              "      <td>5</td>\n",
              "      <td>1</td>\n",
              "      <td>2</td>\n",
              "      <td>Junio</td>\n",
              "      <td>11</td>\n",
              "      <td>2009</td>\n",
              "      <td>11</td>\n",
              "      <td>3</td>\n",
              "      <td>6</td>\n",
              "      <td>6</td>\n",
              "      <td>1</td>\n",
              "      <td>1</td>\n",
              "      <td></td>\n",
              "      <td></td>\n",
              "      <td></td>\n",
              "      <td></td>\n",
              "      <td></td>\n",
              "      <td></td>\n",
              "      <td></td>\n",
              "      <td></td>\n",
              "      <td></td>\n",
              "      <td></td>\n",
              "      <td></td>\n",
              "      <td>1</td>\n",
              "      <td></td>\n",
              "      <td>2</td>\n",
              "      <td>1</td>\n",
              "      <td>6</td>\n",
              "      <td></td>\n",
              "      <td>2</td>\n",
              "      <td>1</td>\n",
              "      <td>2</td>\n",
              "      <td></td>\n",
              "      <td>3</td>\n",
              "      <td></td>\n",
              "      <td></td>\n",
              "      <td>5</td>\n",
              "      <td>66</td>\n",
              "      <td>...</td>\n",
              "      <td>NaN</td>\n",
              "      <td>NaN</td>\n",
              "      <td>NaN</td>\n",
              "      <td>NaN</td>\n",
              "      <td>NaN</td>\n",
              "      <td>NaN</td>\n",
              "      <td>NaN</td>\n",
              "      <td>NaN</td>\n",
              "      <td>NaN</td>\n",
              "      <td>NaN</td>\n",
              "      <td>NaN</td>\n",
              "      <td>NaN</td>\n",
              "      <td>NaN</td>\n",
              "      <td>NaN</td>\n",
              "      <td>NaN</td>\n",
              "      <td>NaN</td>\n",
              "      <td>NaN</td>\n",
              "      <td>NaN</td>\n",
              "      <td>NaN</td>\n",
              "      <td>NaN</td>\n",
              "      <td>NaN</td>\n",
              "      <td>NaN</td>\n",
              "      <td>NaN</td>\n",
              "      <td>NaN</td>\n",
              "      <td>NaN</td>\n",
              "      <td>NaN</td>\n",
              "      <td>NaN</td>\n",
              "      <td>NaN</td>\n",
              "      <td>NaN</td>\n",
              "      <td>NaN</td>\n",
              "      <td>NaN</td>\n",
              "      <td>NaN</td>\n",
              "      <td>NaN</td>\n",
              "      <td>NaN</td>\n",
              "      <td>NaN</td>\n",
              "      <td>NaN</td>\n",
              "      <td>NaN</td>\n",
              "      <td>NaN</td>\n",
              "      <td>NaN</td>\n",
              "      <td>NaN</td>\n",
              "    </tr>\n",
              "    <tr>\n",
              "      <th>27729</th>\n",
              "      <td>5494047</td>\n",
              "      <td>1</td>\n",
              "      <td>6</td>\n",
              "      <td>1</td>\n",
              "      <td>1</td>\n",
              "      <td>Junio</td>\n",
              "      <td>12</td>\n",
              "      <td>1987</td>\n",
              "      <td>33</td>\n",
              "      <td>5</td>\n",
              "      <td>6</td>\n",
              "      <td>6</td>\n",
              "      <td>3</td>\n",
              "      <td>2</td>\n",
              "      <td></td>\n",
              "      <td></td>\n",
              "      <td></td>\n",
              "      <td></td>\n",
              "      <td></td>\n",
              "      <td></td>\n",
              "      <td></td>\n",
              "      <td></td>\n",
              "      <td></td>\n",
              "      <td></td>\n",
              "      <td></td>\n",
              "      <td>1</td>\n",
              "      <td></td>\n",
              "      <td>2</td>\n",
              "      <td>1</td>\n",
              "      <td>6</td>\n",
              "      <td></td>\n",
              "      <td>2</td>\n",
              "      <td>1</td>\n",
              "      <td>2</td>\n",
              "      <td></td>\n",
              "      <td>3</td>\n",
              "      <td></td>\n",
              "      <td></td>\n",
              "      <td>5</td>\n",
              "      <td>66</td>\n",
              "      <td>...</td>\n",
              "      <td>NaN</td>\n",
              "      <td>NaN</td>\n",
              "      <td>NaN</td>\n",
              "      <td>NaN</td>\n",
              "      <td>NaN</td>\n",
              "      <td>NaN</td>\n",
              "      <td>NaN</td>\n",
              "      <td>NaN</td>\n",
              "      <td>NaN</td>\n",
              "      <td>NaN</td>\n",
              "      <td>NaN</td>\n",
              "      <td>NaN</td>\n",
              "      <td>NaN</td>\n",
              "      <td>NaN</td>\n",
              "      <td>NaN</td>\n",
              "      <td>NaN</td>\n",
              "      <td>NaN</td>\n",
              "      <td>NaN</td>\n",
              "      <td>NaN</td>\n",
              "      <td>NaN</td>\n",
              "      <td>NaN</td>\n",
              "      <td>NaN</td>\n",
              "      <td>NaN</td>\n",
              "      <td>NaN</td>\n",
              "      <td>NaN</td>\n",
              "      <td>NaN</td>\n",
              "      <td>NaN</td>\n",
              "      <td>NaN</td>\n",
              "      <td>NaN</td>\n",
              "      <td>NaN</td>\n",
              "      <td>NaN</td>\n",
              "      <td>NaN</td>\n",
              "      <td>NaN</td>\n",
              "      <td>NaN</td>\n",
              "      <td>NaN</td>\n",
              "      <td>NaN</td>\n",
              "      <td>NaN</td>\n",
              "      <td>NaN</td>\n",
              "      <td>NaN</td>\n",
              "      <td>NaN</td>\n",
              "    </tr>\n",
              "  </tbody>\n",
              "</table>\n",
              "<p>169976 rows × 250 columns</p>\n",
              "</div>"
            ],
            "text/plain": [
              "       DIRECTORIO  SECUENCIA_P  ORDEN  HOGAR  ...  P1884 P1807 P6921 p7440\n",
              "0         5332772            1      1      1  ...                  2   1.4\n",
              "1         5332772            1      2      1  ...    NaN   NaN   NaN   NaN\n",
              "2         5332772            1      3      1  ...                  2      \n",
              "3         5332773            1      1      1  ...    NaN   NaN   NaN   NaN\n",
              "4         5332773            1      2      1  ...    NaN   NaN   NaN   NaN\n",
              "...           ...          ...    ...    ...  ...    ...   ...   ...   ...\n",
              "27725     5494047            1      2      1  ...    NaN   NaN   NaN   NaN\n",
              "27726     5494047            1      3      1  ...    NaN   NaN   NaN   NaN\n",
              "27727     5494047            1      4      1  ...    NaN   NaN   NaN   NaN\n",
              "27728     5494047            1      5      1  ...    NaN   NaN   NaN   NaN\n",
              "27729     5494047            1      6      1  ...    NaN   NaN   NaN   NaN\n",
              "\n",
              "[169976 rows x 250 columns]"
            ]
          },
          "metadata": {},
          "execution_count": 142
        }
      ]
    },
    {
      "cell_type": "markdown",
      "metadata": {
        "id": "hAWq5sItnGuA"
      },
      "source": [
        "# Medidas descriptivas\n",
        "\n",
        "\n"
      ]
    },
    {
      "cell_type": "markdown",
      "metadata": {
        "id": "LTyutBUBof7u"
      },
      "source": [
        "Base medidas descriptivas"
      ]
    },
    {
      "cell_type": "code",
      "metadata": {
        "id": "lPfClF5hooVb"
      },
      "source": [
        "dt_total2 = dt_total.loc[:,['DIRECTORIO','SECUENCIA_P','ORDEN','HOGAR','DPTO','P6020','Mes','Estado','P6040','P6070','P6210','P6480','P9440','P6500','P6590','P6610','P6585S2','P6585S4','P6630S6','P6640','P6920','P7320','P6320','P7422','P7422S1','P7458', 'P7472']]\n",
        "dt_total2"
      ],
      "execution_count": null,
      "outputs": []
    },
    {
      "cell_type": "code",
      "metadata": {
        "id": "fRyXmCtyot37"
      },
      "source": [
        "dt_total2['Estado']= dt_total2['Estado'].fillna('Otro')\n",
        "dt_total2"
      ],
      "execution_count": null,
      "outputs": []
    },
    {
      "cell_type": "code",
      "metadata": {
        "id": "qbKFCCGjoxrO"
      },
      "source": [
        "dt_total2.isna().sum()"
      ],
      "execution_count": null,
      "outputs": []
    },
    {
      "cell_type": "code",
      "metadata": {
        "id": "5lNDZ1lunYEy"
      },
      "source": [
        "Estado = dt_total2.groupby(['Estado']).describe()\n",
        "Estado = Estado['P6040']\n",
        "Estado"
      ],
      "execution_count": null,
      "outputs": []
    },
    {
      "cell_type": "code",
      "metadata": {
        "id": "z_Gxy5_2nZUW"
      },
      "source": [
        "Estado = ['Desocupados','Inactivos', 'Ocupados','Otro']\n",
        "datos = [34.698277,43.042140,40.315574,5.797273]\n",
        "plt.bar(Estado, datos)\n",
        "plt.title(\"Edad promedio según estado laboral\")\n",
        "plt.xlabel(\"Estado\")\n",
        "plt.ylabel(\"Frecuencia\")\n",
        "plt.show()"
      ],
      "execution_count": null,
      "outputs": []
    },
    {
      "cell_type": "markdown",
      "metadata": {
        "id": "29AxF6EvnhhE"
      },
      "source": [
        "Promedio por edad segun sexo y mes\n"
      ]
    },
    {
      "cell_type": "code",
      "metadata": {
        "id": "GkF9uo2AngyM"
      },
      "source": [
        "Mes_Sexo = dt_total2.groupby(['Mes','P6020'])\n",
        "Promedio_edad_Sexo = Mes_Sexo['P6040'].describe()\n",
        "Promedio_edad_Sexo "
      ],
      "execution_count": null,
      "outputs": []
    },
    {
      "cell_type": "code",
      "metadata": {
        "id": "VbSrn4zpnqLs"
      },
      "source": [
        "Hombre = np.array(Promedio_edad_Sexo['mean'])[0:11:2]\n",
        "Mujer = np.array(Promedio_edad_Sexo['mean'])[1:12:2]\n",
        " \n",
        " \n",
        "numero_de_grupos = len(Hombre)\n",
        "indice_barras = np.arange(numero_de_grupos)\n",
        "ancho_barras =0.35\n",
        " \n",
        "plt.bar(indice_barras, Hombre, width=ancho_barras, label='Hombres')\n",
        "plt.bar(indice_barras + ancho_barras, Mujer, width=ancho_barras, label='Mujeres')\n",
        "plt.legend(loc='best')\n",
        "\n",
        "plt.xticks(indice_barras + ancho_barras, ('Abril', 'Enero', 'Febrero', 'Junio','Marzo','Mayo'))\n",
        " \n",
        "plt.ylabel('Promedio de edad')\n",
        "plt.xlabel('Mes')\n",
        "plt.title('Promedio mensual de edad por hombres y mujeres')\n",
        " \n",
        "plt.show()"
      ],
      "execution_count": null,
      "outputs": []
    },
    {
      "cell_type": "markdown",
      "metadata": {
        "id": "nmVhBUxgntss"
      },
      "source": [
        "Estado laboral según mes "
      ]
    },
    {
      "cell_type": "code",
      "metadata": {
        "id": "fZIiEnCPnxvN"
      },
      "source": [
        "Mes_Estado = dt_total2.groupby(['Mes','Estado'])\n",
        "Cantidad_estado_sexo_Mes = pd.DataFrame(Mes_Estado['Estado'].count())\n",
        "Cantidad_estado_sexo_Mes"
      ],
      "execution_count": null,
      "outputs": []
    },
    {
      "cell_type": "code",
      "metadata": {
        "id": "gO2BHJlan4Qv"
      },
      "source": [
        "Desocupados = np.array(Cantidad_estado_sexo_Mes['Estado'])[0:23:4]\n",
        "Inactivos = np.array(Cantidad_estado_sexo_Mes['Estado'])[1:24:4]\n",
        "Ocupados = np.array(Cantidad_estado_sexo_Mes['Estado'])[2:25:4]\n",
        "Otros = np.array(Cantidad_estado_sexo_Mes['Estado'])[3:26:4]\n",
        " \n",
        "numero_de_grupos = len(Desocupados)\n",
        "indice_barras = np.arange(numero_de_grupos)\n",
        "ancho_barras =0.09\n",
        " \n",
        "plt.bar(indice_barras, Desocupados, width=ancho_barras, label='Desocupados')\n",
        "plt.bar(indice_barras+ ancho_barras , Inactivos, width=ancho_barras, label='Inactivos')\n",
        "plt.bar(indice_barras+ ancho_barras+ ancho_barras , Ocupados, width=ancho_barras, label='Ocupados')\n",
        "plt.bar(indice_barras+ ancho_barras+ ancho_barras + ancho_barras, Otros, width=ancho_barras, label='Otros')\n",
        "\n",
        "plt.legend(loc='best')\n",
        "\n",
        "plt.xticks(indice_barras + ancho_barras, ('Abril', 'Enero', 'Febrero', 'Junio','Marzo','Mayo'))\n",
        " \n",
        "plt.ylabel('Cantidad de individuos')\n",
        "plt.xlabel('Mes')\n",
        "plt.title('Cantidad de individuos según estado laboral y mes')\n",
        "\n",
        "plt.legend()\n",
        "\n",
        "plt.show()"
      ],
      "execution_count": null,
      "outputs": []
    },
    {
      "cell_type": "markdown",
      "metadata": {
        "id": "_yvphv2goCaO"
      },
      "source": [
        "Estado laboral según sexo\n"
      ]
    },
    {
      "cell_type": "code",
      "metadata": {
        "id": "mTgezHaIn9S7"
      },
      "source": [
        "Sexo_Estado = dt_total2.groupby(['P6020','Estado'])\n",
        "Sexo_Estado = pd.DataFrame(Sexo_Estado['Estado'].count())\n",
        "Sexo_Estado"
      ],
      "execution_count": null,
      "outputs": []
    },
    {
      "cell_type": "code",
      "metadata": {
        "id": "9LXxxuzqoGVE"
      },
      "source": [
        "Desocupados = np.array(Sexo_Estado['Estado'])[0:7:4]\n",
        "Inactivos = np.array(Sexo_Estado['Estado'])[1:8:4]\n",
        "Ocupados = np.array(Sexo_Estado['Estado'])[2:9:4]\n",
        "Otros = np.array(Sexo_Estado['Estado'])[3:10:4]\n",
        " \n",
        "numero_de_grupos = len(Desocupados)\n",
        "indice_barras = np.arange(numero_de_grupos)\n",
        "ancho_barras =0.09\n",
        " \n",
        "plt.bar(indice_barras, Desocupados, width=ancho_barras, label='Desocupados')\n",
        "plt.bar(indice_barras+ ancho_barras , Inactivos, width=ancho_barras, label='Inactivos')\n",
        "plt.bar(indice_barras+ ancho_barras+ ancho_barras , Ocupados, width=ancho_barras, label='Ocupados')\n",
        "plt.bar(indice_barras+ ancho_barras+ ancho_barras + ancho_barras, Otros, width=ancho_barras, label='Otros')\n",
        "\n",
        "plt.legend(loc='best')\n",
        "\n",
        "plt.xticks(indice_barras + ancho_barras, ('Hombres', 'Mujeres'))\n",
        " \n",
        "plt.ylabel('Cantidad de individuos')\n",
        "plt.xlabel('Sexo')\n",
        "plt.title('Cantidad de individuos según estado laboral y sexo')\n",
        "\n",
        "plt.legend()\n",
        "\n",
        "plt.show()"
      ],
      "execution_count": null,
      "outputs": []
    },
    {
      "cell_type": "markdown",
      "metadata": {
        "id": "klcflUxzoTN-"
      },
      "source": [
        "Estado laboral según departamento"
      ]
    },
    {
      "cell_type": "code",
      "metadata": {
        "id": "TwypeVcEoNYc"
      },
      "source": [
        "Dept_Estado = dt_total2.groupby(['DPTO','Estado'])\n",
        "Dept_Estado = pd.DataFrame(Dept_Estado['DPTO'].count())\n",
        "Dept_Estado"
      ],
      "execution_count": null,
      "outputs": []
    },
    {
      "cell_type": "code",
      "metadata": {
        "id": "1xf1bKrnoY5k"
      },
      "source": [
        "plt.figure(figsize= (20,5))\n",
        "Desocupados = np.array(Dept_Estado['DPTO'])[0:51:4]\n",
        "Inactivos = np.array(Dept_Estado['DPTO'])[1:52:4]\n",
        "Ocupados = np.array(Dept_Estado['DPTO'])[2:53:4]\n",
        "Otros = np.array(Dept_Estado['DPTO'])[3:54:4]\n",
        " \n",
        "numero_de_grupos = len(Desocupados)\n",
        "indice_barras = np.arange(numero_de_grupos)\n",
        "ancho_barras =0.09\n",
        " \n",
        "plt.bar(indice_barras, Desocupados, width=ancho_barras, label='Desocupados')\n",
        "plt.bar(indice_barras+ ancho_barras , Inactivos, width=ancho_barras, label='Inactivos')\n",
        "plt.bar(indice_barras+ ancho_barras+ ancho_barras , Ocupados, width=ancho_barras, label='Ocupados')\n",
        "plt.bar(indice_barras+ ancho_barras+ ancho_barras + ancho_barras, Otros, width=ancho_barras, label='Otros')\n",
        "\n",
        "plt.legend(loc='best')\n",
        "\n",
        "plt.xticks(indice_barras + ancho_barras, ('Antioquia', 'Atlantico','Bogota','Bolivar','Caldas', 'Cordoba','Cordoba','Meta','Narinio','Norte Santander', 'Risaralda','Santander','Tolima','Valle del Cauca'),rotation=80)\n",
        " \n",
        "plt.ylabel('Cantidad de individuos')\n",
        "plt.xlabel('Sexo')\n",
        "plt.title('Cantidad de individuos según estado laboral y sexo')\n",
        "\n",
        "plt.legend()\n",
        "\n",
        "\n",
        "plt.show()"
      ],
      "execution_count": null,
      "outputs": []
    },
    {
      "cell_type": "markdown",
      "metadata": {
        "id": "d2VdRx-ds7IF"
      },
      "source": [
        "\n",
        "\n",
        "#DESCRIPCIÓN ECONÓMICA ENERO"
      ]
    },
    {
      "cell_type": "markdown",
      "metadata": {
        "id": "aLY7uu4ex52I"
      },
      "source": [
        "La poblacion total para el mes de enero del año 2021 se divide especificamente en dos grupos. Para el primero se toma la poblacion menor de 12 años de edad donde se encontraron 4.204 menores. En el segundo grupo se seleccionaron las personas mayores E IGUALES a 12 años ya consideradas dentro de la poblacion en edad de trabajar (PET) donde se evidenciaron 23.951 individuos."
      ]
    },
    {
      "cell_type": "code",
      "metadata": {
        "colab": {
          "base_uri": "https://localhost:8080/"
        },
        "id": "dyGHaTlZtOmV",
        "outputId": "a09b0d5a-3e27-454f-c9b2-8c05a26b420e"
      },
      "source": [
        "#POBLACION MENOR DE 12 AÑOS\n",
        "edad_menores_enero = Base_enero.loc[:, 'P6040'] < 12\n",
        "sum(edad_menores_enero)"
      ],
      "execution_count": null,
      "outputs": [
        {
          "output_type": "execute_result",
          "data": {
            "text/plain": [
              "4204"
            ]
          },
          "metadata": {},
          "execution_count": 415
        }
      ]
    },
    {
      "cell_type": "code",
      "metadata": {
        "colab": {
          "base_uri": "https://localhost:8080/"
        },
        "id": "4qzEx4j5wo4H",
        "outputId": "214ecc9d-e8d5-4776-f978-6ac396460909"
      },
      "source": [
        "#POBLACION EN EDAD DE TRABAJAR\n",
        "edad_mayores_enero = Base_enero.loc[:, 'P6040'] >= 12\n",
        "PET = sum(edad_mayores_enero)\n",
        "PET"
      ],
      "execution_count": null,
      "outputs": [
        {
          "output_type": "execute_result",
          "data": {
            "text/plain": [
              "23951"
            ]
          },
          "metadata": {},
          "execution_count": 457
        }
      ]
    },
    {
      "cell_type": "code",
      "metadata": {
        "colab": {
          "base_uri": "https://localhost:8080/"
        },
        "id": "vPD91-MmUkY7",
        "outputId": "bdcc4c59-4abc-4643-d626-71616df304ea"
      },
      "source": [
        "PT = 23951 + 4204\n",
        "PT"
      ],
      "execution_count": null,
      "outputs": [
        {
          "output_type": "execute_result",
          "data": {
            "text/plain": [
              "28155"
            ]
          },
          "metadata": {},
          "execution_count": 449
        }
      ]
    },
    {
      "cell_type": "markdown",
      "metadata": {
        "id": "NIdr0ulF1FFM"
      },
      "source": [
        "Asi mismo, la poblacion en edad de trabajar (PET) puede dividirse en poblacion economicamente activa (PEA) y poblacion economicamente inactiva.\n",
        "Dentro de la PEA podemos hablar acerca de aquellos individuos que se encuentran desocupados y ocupados. "
      ]
    },
    {
      "cell_type": "code",
      "metadata": {
        "colab": {
          "base_uri": "https://localhost:8080/"
        },
        "id": "pOKEGeVa08q3",
        "outputId": "c144efdd-6e6f-4891-8dc2-d640d03ab7ba"
      },
      "source": [
        "#POBLACION ECONOMICAMENTE ACTIVA [OCUPADOS]\n",
        "ocupados_enero = Base_enero.loc[:, 'Estado'] == 'Ocupados'\n",
        "O = sum(ocupados_enero)\n",
        "O"
      ],
      "execution_count": null,
      "outputs": [
        {
          "output_type": "execute_result",
          "data": {
            "text/plain": [
              "11699"
            ]
          },
          "metadata": {},
          "execution_count": 467
        }
      ]
    },
    {
      "cell_type": "code",
      "metadata": {
        "colab": {
          "base_uri": "https://localhost:8080/"
        },
        "id": "Pp75FvJ4xxRR",
        "outputId": "a4a5f436-c2eb-43cf-fe3f-c7223940075c"
      },
      "source": [
        "#POBLACION ECONOMICAMENTE ACTIVA [DESOCUPADOS]\n",
        "desocupados_enero = Base_enero.loc[:, 'Estado'] == 'Desocupados'\n",
        "D = sum(desocupados_enero)\n",
        "D"
      ],
      "execution_count": null,
      "outputs": [
        {
          "output_type": "execute_result",
          "data": {
            "text/plain": [
              "2663"
            ]
          },
          "metadata": {},
          "execution_count": 459
        }
      ]
    },
    {
      "cell_type": "code",
      "metadata": {
        "colab": {
          "base_uri": "https://localhost:8080/"
        },
        "id": "BbInYzyM57PR",
        "outputId": "9920a523-691f-4921-a214-9c43a971753d"
      },
      "source": [
        "#LA PEA SERIA IGUAL A \n",
        "PEA = 11699 + 2663\n",
        "PEA"
      ],
      "execution_count": null,
      "outputs": [
        {
          "output_type": "execute_result",
          "data": {
            "text/plain": [
              "14362"
            ]
          },
          "metadata": {},
          "execution_count": 413
        }
      ]
    },
    {
      "cell_type": "code",
      "metadata": {
        "colab": {
          "base_uri": "https://localhost:8080/"
        },
        "id": "U6fxxc812MlA",
        "outputId": "a2eb9b91-f401-4475-846a-671a13f7c723"
      },
      "source": [
        "#POBLACION ECONOMICAMENTE INACTIVA\n",
        "inactivos_enero = Base_enero.loc[:, 'Estado'] == 'Inactivos'\n",
        "sum(inactivos_enero)"
      ],
      "execution_count": null,
      "outputs": [
        {
          "output_type": "execute_result",
          "data": {
            "text/plain": [
              "9589"
            ]
          },
          "metadata": {},
          "execution_count": 419
        }
      ]
    },
    {
      "cell_type": "code",
      "metadata": {
        "colab": {
          "base_uri": "https://localhost:8080/"
        },
        "id": "xfniOd6U2dql",
        "outputId": "e81b0ab9-e992-462a-ba47-189f862b4538"
      },
      "source": [
        "11699 + 2663 + 9589"
      ],
      "execution_count": null,
      "outputs": [
        {
          "output_type": "execute_result",
          "data": {
            "text/plain": [
              "23951"
            ]
          },
          "metadata": {},
          "execution_count": 420
        }
      ]
    },
    {
      "cell_type": "code",
      "metadata": {
        "colab": {
          "base_uri": "https://localhost:8080/"
        },
        "id": "bPTomivH22tn",
        "outputId": "f5647e65-a8f9-40fd-d8c5-61fd4550af36"
      },
      "source": [
        "niños = Base_enero.loc[:, 'P6040'] <= 12\n",
        "df_niños = Base_enero.loc[niños]\n",
        "sum(df_niños['Estado'] == 'Ocupados')"
      ],
      "execution_count": null,
      "outputs": [
        {
          "output_type": "execute_result",
          "data": {
            "text/plain": [
              "5"
            ]
          },
          "metadata": {},
          "execution_count": 409
        }
      ]
    },
    {
      "cell_type": "code",
      "metadata": {
        "id": "vak4mOHk3U4f"
      },
      "source": [
        "#HAY 5 NIÑOS MENORES O IGUALES A 12 AÑOS QUE PUEDEN ENCONTRARSE COMPLETAMENTE EMPLEADOS O SUBEMPLEADOS PARA EL AÑO ENERO DEL 2021."
      ],
      "execution_count": null,
      "outputs": []
    },
    {
      "cell_type": "code",
      "metadata": {
        "colab": {
          "base_uri": "https://localhost:8080/"
        },
        "id": "vBFWSvNW3t6S",
        "outputId": "f07a8fee-127d-4941-9cd8-3a9b85ff6449"
      },
      "source": [
        "niños_d = Base_enero.loc[:, 'P6040'] <= 12\n",
        "df_niños_d = Base_enero.loc[niños_d]\n",
        "sum(df_niños_d['Estado'] == 'Desocupados')"
      ],
      "execution_count": null,
      "outputs": [
        {
          "output_type": "execute_result",
          "data": {
            "text/plain": [
              "1"
            ]
          },
          "metadata": {},
          "execution_count": 410
        }
      ]
    },
    {
      "cell_type": "code",
      "metadata": {
        "colab": {
          "base_uri": "https://localhost:8080/"
        },
        "id": "WCSa15Ay33Ts",
        "outputId": "a8f69c92-34ac-42f7-ec0d-ceb007294a05"
      },
      "source": [
        "niños_i = Base_enero.loc[:, 'P6040'] == 12\n",
        "df_niños_i = Base_enero.loc[niños_i]\n",
        "sum(df_niños_i['Estado'] == 'Inactivos')"
      ],
      "execution_count": null,
      "outputs": [
        {
          "output_type": "execute_result",
          "data": {
            "text/plain": [
              "412"
            ]
          },
          "metadata": {},
          "execution_count": 414
        }
      ]
    },
    {
      "cell_type": "markdown",
      "metadata": {
        "id": "YU8KtRb77avL"
      },
      "source": [
        "HAY 412 NIÑOS DE 12 AÑOS QUE ESTAN DENTRO DE LA POBLACION ECONOMICAMENTE INACTIVA YA QUE tienen edad de trabajar pero no necesitan hacerlo, no pueden o no están interesados en tener una ocupación remunerada"
      ]
    },
    {
      "cell_type": "markdown",
      "metadata": {
        "id": "0rklUZca6GAj"
      },
      "source": [
        "LOS INDIVIDUOS QUE SE ENCONTRARON DENTRO DE LA POBLACION ECONOMICAMENTE ACTIVA Y QUE ESTAN OCUPADOS, ALGUNOS DE ELLOS PUEDEN DEDICARSE A SER COMPLETAMENTE EMPLEADOS, ES DECIR, AQUELLOS QUIENES CUENTAN CON UN CONTRATO LABORAL. POR OTRA PARTE, TAMBIEN EXISTEN LOS SUBEMPLEADOS QUIENES ESTAN DENTRO DE LA INFORMALIDAD Y PUEDEN GANAR MEJOR. ALGUNOS DE ELLOS SON EXPLOTADOS LABORALMENTE POR TRABAJAR MAS DE LAS HORAS ESTABLECIDAS SIENDO MAL REMUNERADOS. "
      ]
    },
    {
      "cell_type": "code",
      "metadata": {
        "colab": {
          "base_uri": "https://localhost:8080/"
        },
        "id": "r3lZbUcF4Sp2",
        "outputId": "d79cd58e-e69a-41fd-adec-6c79f36866ab"
      },
      "source": [
        "#DE ACUERDO A LA PREGUNTA ¿Para realizar este trabajo, tiene usted algún tipo de contrato? (verbal o escrito)\n",
        "#INDIVIDUOS QUE RESPONDIERON QUE SI:\n",
        "con = Base_enero.loc[:, 'P6440'] == 1\n",
        "sum(con)"
      ],
      "execution_count": null,
      "outputs": [
        {
          "output_type": "execute_result",
          "data": {
            "text/plain": [
              "6621"
            ]
          },
          "metadata": {},
          "execution_count": 421
        }
      ]
    },
    {
      "cell_type": "code",
      "metadata": {
        "colab": {
          "base_uri": "https://localhost:8080/"
        },
        "id": "NbBxcvFY_ACg",
        "outputId": "81c8a3eb-4095-4554-8999-1dbdbaa8120b"
      },
      "source": [
        "#INDIVIDUOS QUE RESPONDIERON NO A LA PREGUNTA:\n",
        "con2 = Base_enero.loc[:, 'P6440'] == 2\n",
        "sum(con2)"
      ],
      "execution_count": null,
      "outputs": [
        {
          "output_type": "execute_result",
          "data": {
            "text/plain": [
              "5078"
            ]
          },
          "metadata": {},
          "execution_count": 422
        }
      ]
    },
    {
      "cell_type": "markdown",
      "metadata": {
        "id": "Z7rxtA8g_P1D"
      },
      "source": [
        "UNA GRAN CANTIDAD DE INDIVIDUOS PERTENECEN O ESTAN RECIBIENDO INGRESOS POR MEDIO DE UN TRABAJO INFORMAL PARA ENERO DEL AÑO 2021"
      ]
    },
    {
      "cell_type": "code",
      "metadata": {
        "colab": {
          "base_uri": "https://localhost:8080/"
        },
        "id": "1YSgp8zU_NoV",
        "outputId": "4dcb4d2b-790d-4dbb-bf0f-fbfaeabe52c4"
      },
      "source": [
        "con3 = Base_enero.loc[:, 'P6450'] == 1 #VERBAL\n",
        "sum(con3) "
      ],
      "execution_count": null,
      "outputs": [
        {
          "output_type": "execute_result",
          "data": {
            "text/plain": [
              "1854"
            ]
          },
          "metadata": {},
          "execution_count": 424
        }
      ]
    },
    {
      "cell_type": "code",
      "metadata": {
        "colab": {
          "base_uri": "https://localhost:8080/"
        },
        "id": "9mnUnVKZA3Ng",
        "outputId": "95689475-860a-4bce-bd1b-436cc20e5103"
      },
      "source": [
        "con4 = Base_enero.loc[:, 'P6450'] == 2 #ESCRITO\n",
        "sum(con4) "
      ],
      "execution_count": null,
      "outputs": [
        {
          "output_type": "execute_result",
          "data": {
            "text/plain": [
              "4767"
            ]
          },
          "metadata": {},
          "execution_count": 425
        }
      ]
    },
    {
      "cell_type": "markdown",
      "metadata": {
        "id": "mxXQ4ZT7B1yA"
      },
      "source": [
        "1.854 INDIVIDUOS CUENTAN CON UN CONTRATO VERBAL, SOLAMENTE 4.767 PERSONAS DEL TOTAL DE LA POBLACION ECONOMICAMENTE ACTIVA (14.362) TIENEN UN TRABAJO FORMAL."
      ]
    },
    {
      "cell_type": "code",
      "metadata": {
        "colab": {
          "base_uri": "https://localhost:8080/"
        },
        "id": "YfY0gYcyBvrA",
        "outputId": "022bd7a1-b396-447b-9c89-0cb46c042cb9"
      },
      "source": [
        "S = 5078 + 1854\n",
        "S"
      ],
      "execution_count": null,
      "outputs": [
        {
          "output_type": "execute_result",
          "data": {
            "text/plain": [
              "6932"
            ]
          },
          "metadata": {},
          "execution_count": 470
        }
      ]
    },
    {
      "cell_type": "markdown",
      "metadata": {
        "id": "u8wS5nQ-DIBY"
      },
      "source": [
        "6.932 INDIVIDUOS NO CUENTAN CON UN TRABAJO FORMAL. HAY QUE TENER EN CUENTA QUE ALGUNOS DE ELLOS PUEDEN TRABAJAR EN EMPRESAS FAMILIARES.\n",
        "\n",
        "POR OTRA PARTE, SI HABLAMOS DE AQUELLOS QUE ESTAN OCUPADOS Y QUE SI CUENTAN CON UN CONTRATO..."
      ]
    },
    {
      "cell_type": "code",
      "metadata": {
        "colab": {
          "base_uri": "https://localhost:8080/"
        },
        "id": "Taii60_xDG6Q",
        "outputId": "e352bd45-9137-4eff-9f72-dd398e89992a"
      },
      "source": [
        "#¿el contrato de trabajo de ... Es a término indefinido o a término fijo?\n",
        "cont = Base_enero.loc[:, 'P6460'] == 1 #A término Indefinido\n",
        "sum(cont) "
      ],
      "execution_count": null,
      "outputs": [
        {
          "output_type": "execute_result",
          "data": {
            "text/plain": [
              "3402"
            ]
          },
          "metadata": {},
          "execution_count": 430
        }
      ]
    },
    {
      "cell_type": "code",
      "metadata": {
        "colab": {
          "base_uri": "https://localhost:8080/"
        },
        "id": "d-9JI9jGETHz",
        "outputId": "d599bca4-a1bd-4538-90f9-05ed6ec623df"
      },
      "source": [
        "cont1 = Base_enero.loc[:, 'P6460'] == 2 #A término fijo\n",
        "sum(cont1) "
      ],
      "execution_count": null,
      "outputs": [
        {
          "output_type": "execute_result",
          "data": {
            "text/plain": [
              "1364"
            ]
          },
          "metadata": {},
          "execution_count": 431
        }
      ]
    },
    {
      "cell_type": "markdown",
      "metadata": {
        "id": "WcBYb0hKEfCB"
      },
      "source": [
        "SE PUEDE EVIDENCIAR QUE 3.402 TIENEN UN CONTRATO A TERMINO INDEFINIDO LO QUE LES PERMITE TENER UNA MAYOR DURACION EN SUS EMPLEOS.\n"
      ]
    },
    {
      "cell_type": "code",
      "metadata": {
        "id": "0TR-hwwIHqKb"
      },
      "source": [
        "#El objeto de la pregunta es determinar que prestaciones recibe la persona de acuerdo con el contrato que tiene\n",
        "#actualmente."
      ],
      "execution_count": null,
      "outputs": []
    },
    {
      "cell_type": "code",
      "metadata": {
        "colab": {
          "base_uri": "https://localhost:8080/"
        },
        "id": "LW7vjV3dEbym",
        "outputId": "9264869b-0d18-4ea4-d553-552c42e7566a"
      },
      "source": [
        "#CONTRATO ESCRITO\n",
        "con4 = Base_enero.loc[:, 'P6450'] == 2 \n",
        "df_con3= Base_enero.loc[con4]\n",
        "sum(df_con3['P6424S1'] == 1) #SI RECIBE VACACIONES"
      ],
      "execution_count": null,
      "outputs": [
        {
          "output_type": "execute_result",
          "data": {
            "text/plain": [
              "4283"
            ]
          },
          "metadata": {},
          "execution_count": 440
        }
      ]
    },
    {
      "cell_type": "markdown",
      "metadata": {
        "id": "P--GmHQDNtH_"
      },
      "source": [
        "APROXIMADAMENTE 4.263 PERSONAS DE 4.767 QUE TIENEN UN CONTRATO ESCRITO RECIBEN VACACIONES."
      ]
    },
    {
      "cell_type": "code",
      "metadata": {
        "colab": {
          "base_uri": "https://localhost:8080/"
        },
        "id": "xpaflbz_ImO-",
        "outputId": "82125d3d-3a51-4530-80b1-b5ed733b0f4e"
      },
      "source": [
        "#CONTRATO VERBAL\n",
        "con3 = Base_enero.loc[:, 'P6450'] == 1 \n",
        "df_con4= Base_enero.loc[con3]\n",
        "sum(df_con4['P6424S1'] == 2) #no reciben vacaciones"
      ],
      "execution_count": null,
      "outputs": [
        {
          "output_type": "execute_result",
          "data": {
            "text/plain": [
              "1727"
            ]
          },
          "metadata": {},
          "execution_count": 435
        }
      ]
    },
    {
      "cell_type": "markdown",
      "metadata": {
        "id": "m7jpd3NjJA3X"
      },
      "source": [
        "APROXIMADAMENTE 1727 PERSONAS QUE TIENEN CONTRATOS VERBALES NO TIENEN DERECHO A VACACIONES CON SUELDO."
      ]
    },
    {
      "cell_type": "code",
      "metadata": {
        "colab": {
          "base_uri": "https://localhost:8080/"
        },
        "id": "y8d7Q6L6I73k",
        "outputId": "094f8823-940c-440f-e6a0-3c47da076547"
      },
      "source": [
        "cont = Base_enero.loc[:, 'P6460'] == 1 #A término Indefinido\n",
        "df_in= Base_enero.loc[cont]\n",
        "sum(df_in['P6424S2'] == 1) #SI RECIBE PRIMA DE NAVIDAD"
      ],
      "execution_count": null,
      "outputs": [
        {
          "output_type": "execute_result",
          "data": {
            "text/plain": [
              "915"
            ]
          },
          "metadata": {},
          "execution_count": 438
        }
      ]
    },
    {
      "cell_type": "code",
      "metadata": {
        "colab": {
          "base_uri": "https://localhost:8080/"
        },
        "id": "N9vetRlKLv0T",
        "outputId": "bb418232-c5cc-4312-9c89-bf2f35dcb1ce"
      },
      "source": [
        "cont1 = Base_enero.loc[:, 'P6460'] == 2 #A término fijo\n",
        "df_in1= Base_enero.loc[cont1]\n",
        "sum(df_in1['P6424S2'] == 1) #SI RECIBE PRIMA DE NAVIDAD"
      ],
      "execution_count": null,
      "outputs": [
        {
          "output_type": "execute_result",
          "data": {
            "text/plain": [
              "122"
            ]
          },
          "metadata": {},
          "execution_count": 441
        }
      ]
    },
    {
      "cell_type": "markdown",
      "metadata": {
        "id": "G_OesLZWNvv5"
      },
      "source": [
        "SE PUEDE DECIR QUE HAY 793 PERSONAS MAS QUE TIENEN DERECHO A RECIBIR SU PRIMA DE NAVIDAD POR TENER UN CONTRATO A TERMINO INDEFINIDO"
      ]
    },
    {
      "cell_type": "code",
      "metadata": {
        "colab": {
          "base_uri": "https://localhost:8080/"
        },
        "id": "0P1qYY81Nd0b",
        "outputId": "7955cdac-e4c7-41a1-84b1-6ccceeca4384"
      },
      "source": [
        "cont = Base_enero.loc[:, 'P6460'] == 1 #A término Indefinido\n",
        "df_in= Base_enero.loc[cont]\n",
        "sum(df_in['P6424S3'] == 1) #SI RECIBE CESANTIAS"
      ],
      "execution_count": null,
      "outputs": [
        {
          "output_type": "execute_result",
          "data": {
            "text/plain": [
              "3282"
            ]
          },
          "metadata": {},
          "execution_count": 443
        }
      ]
    },
    {
      "cell_type": "code",
      "metadata": {
        "colab": {
          "base_uri": "https://localhost:8080/"
        },
        "id": "tfA0TBIJOXiY",
        "outputId": "e7fdd0f0-1610-4e28-faa9-cbbd1ab01e3e"
      },
      "source": [
        "cont1 = Base_enero.loc[:, 'P6460'] == 2 #A término fijo\n",
        "df_in1= Base_enero.loc[cont1]\n",
        "sum(df_in1['P6424S3'] == 1) #SI RECIBE CESANTIAS"
      ],
      "execution_count": null,
      "outputs": [
        {
          "output_type": "execute_result",
          "data": {
            "text/plain": [
              "1053"
            ]
          },
          "metadata": {},
          "execution_count": 444
        }
      ]
    },
    {
      "cell_type": "markdown",
      "metadata": {
        "id": "54Bcn2pVOjqo"
      },
      "source": [
        "SE PUEDE DECIR QUE HAY 3.282 INDIVIDUOS QUE TIENEN UN CONTRATO A TERMINO INDEFINIDO TIENEN DERECHO A RECIBIR CESANTIAS, MIENTRAS QUIENES TRABAJAN A TERMINO FIJO NO LAS TIENEN."
      ]
    },
    {
      "cell_type": "code",
      "metadata": {
        "id": "0z6oTn4-Otvu"
      },
      "source": [
        "cont = Base_enero.loc[:, 'P6460'] == 1 #A término Indefinido\n",
        "df_in= Base_enero.loc[cont]\n",
        "sum(df_in['P6424S3'] == 1) #SI RECIBE CESANTIAS"
      ],
      "execution_count": null,
      "outputs": []
    },
    {
      "cell_type": "markdown",
      "metadata": {
        "id": "xDGC6Ky8SEw6"
      },
      "source": [
        "YA SI SE REALIZA UN ENFOQUE HACIA AQUELLOS INDIVIDUOS DESOCUPADOS DE LA POBLACION ECONOMICAMENTE ACTIVA SE PUEDE HABLAR ACERCA DE UN DESEMPLEO ABIERTO EL CUAL INDICA LA PERMANECIA DE LA BUSQUEDA DE TRABAJO. SE DICE QUE, PARA LOS INDIVIDUOS QUE YA SUPERARON EL AÑO O LAS 52 SEMANAS DE ESTAR BUSCANDO EMPLEO ENTRAN EN LA CATEGORIA DE DESEMPLEO OCULTO. ES PROBABLE QUE ESTOS INDIVIDUOS CESEN Y PUEDAN LLEGAN A CLASIFICARSE DENTRO DE LA INACTIVIDAD. "
      ]
    },
    {
      "cell_type": "code",
      "metadata": {
        "colab": {
          "base_uri": "https://localhost:8080/"
        },
        "id": "GK0Bc2WcS1H2",
        "outputId": "4d0b5400-188a-4707-cfac-b13f6102f792"
      },
      "source": [
        "#DESEMPLETO ABIERTO\n",
        "des = Base_enero.loc[:, 'P7250'] <= 52  #DESEMPLEO ABIERTO\n",
        "DA = sum(des)\n",
        "DA\n"
      ],
      "execution_count": null,
      "outputs": [
        {
          "output_type": "execute_result",
          "data": {
            "text/plain": [
              "2528"
            ]
          },
          "metadata": {},
          "execution_count": 463
        }
      ]
    },
    {
      "cell_type": "code",
      "metadata": {
        "colab": {
          "base_uri": "https://localhost:8080/"
        },
        "id": "2aHQ4oiPTLc6",
        "outputId": "4e940050-df38-4141-dc81-016f00486eb9"
      },
      "source": [
        "des1 = Base_enero.loc[:, 'P7250'] > 52 #DESEMPLEO OCULTO\n",
        "DO = sum(des1)\n",
        "DO"
      ],
      "execution_count": null,
      "outputs": [
        {
          "output_type": "execute_result",
          "data": {
            "text/plain": [
              "135"
            ]
          },
          "metadata": {},
          "execution_count": 461
        }
      ]
    },
    {
      "cell_type": "markdown",
      "metadata": {
        "id": "tpr_YHB1T3C5"
      },
      "source": [
        "135 DE LAS 2663 PERSONAS QUE SE ENCUENTRAN DESOCUPADAS PUEDEN LLEGAR A ENTRAR A LA INACTIVIDAD A CAUSA DE NO ENCONTRAR UN EMPLEO DESPUES DE PASADAS LAS 52 SEMANAS."
      ]
    },
    {
      "cell_type": "markdown",
      "metadata": {
        "id": "x71ZM7BIURE-"
      },
      "source": [
        "#TASAS IMPORTANTES ENERO"
      ]
    },
    {
      "cell_type": "code",
      "metadata": {
        "colab": {
          "base_uri": "https://localhost:8080/"
        },
        "id": "Nicu3-PPTtA3",
        "outputId": "59cba242-e672-439d-afbb-f02dbb99cdb8"
      },
      "source": [
        "#TASA BRUTA DE PARTICIPACION\n",
        "TBP = PEA/PT\n",
        "(TBP)*100"
      ],
      "execution_count": null,
      "outputs": [
        {
          "output_type": "execute_result",
          "data": {
            "text/plain": [
              "51.01047771266205"
            ]
          },
          "metadata": {},
          "execution_count": 452
        }
      ]
    },
    {
      "cell_type": "markdown",
      "metadata": {
        "id": "NJtc4BAkUyit"
      },
      "source": [
        "LA FUERZA LABORAL ESTIMADA REPRESENTADA EN COLOMBIA PARA ENERO DEL AÑO 2021 ES DEL 51,01%."
      ]
    },
    {
      "cell_type": "code",
      "metadata": {
        "colab": {
          "base_uri": "https://localhost:8080/"
        },
        "id": "Bc2gDSmlUrIW",
        "outputId": "e0671310-a5d3-4a5f-89de-464d2a2a3dc7"
      },
      "source": [
        "#TASA GLOBAL DE PARTICIPACION\n",
        "#EXCLUYE A LOS NIÑOS Y MENORES DE 12 AÑOS\n",
        "TGP = PEA/PET\n",
        "TGP*100"
      ],
      "execution_count": null,
      "outputs": [
        {
          "output_type": "execute_result",
          "data": {
            "text/plain": [
              "59.964093357271096"
            ]
          },
          "metadata": {},
          "execution_count": 458
        }
      ]
    },
    {
      "cell_type": "markdown",
      "metadata": {
        "id": "SQwe0e9FX6sb"
      },
      "source": [
        "LA FUERZA LABORAL ESTIMADA REPRESENTADA EN COLOMBIA PARA ENERO DEL AÑO 2021 ES DEL 59,96%. AQUI SE REFLEJA LA PRESION DE LA POBLACION SOBRE EL MERCADO LABORAL."
      ]
    },
    {
      "cell_type": "code",
      "metadata": {
        "colab": {
          "base_uri": "https://localhost:8080/"
        },
        "id": "VLTj01e7XaJD",
        "outputId": "2e6c3d1c-decb-4473-ff0d-41a61c9f56c1"
      },
      "source": [
        "#TASA DESOCUPADOS\n",
        "TD = (D/PEA)*100\n",
        "TD\n"
      ],
      "execution_count": null,
      "outputs": [
        {
          "output_type": "execute_result",
          "data": {
            "text/plain": [
              "18.54198579585016"
            ]
          },
          "metadata": {},
          "execution_count": 460
        }
      ]
    },
    {
      "cell_type": "markdown",
      "metadata": {
        "id": "wt1wbpt5Y6p-"
      },
      "source": [
        "Se estima que el 18.54% DE LA POBLACION ECONOMICAMENTE ACTIVA SE ENCUENTRA DESEMPLEADA."
      ]
    },
    {
      "cell_type": "code",
      "metadata": {
        "colab": {
          "base_uri": "https://localhost:8080/"
        },
        "id": "lCcQx5wZYkrj",
        "outputId": "204f6080-2ceb-46ad-9320-8ea502d7f17b"
      },
      "source": [
        "#TASA DESOCUPADOS OCULTOS\n",
        "TDO = (DO/PEA)*100\n",
        "TDO"
      ],
      "execution_count": null,
      "outputs": [
        {
          "output_type": "execute_result",
          "data": {
            "text/plain": [
              "0.9399805041080629"
            ]
          },
          "metadata": {},
          "execution_count": 462
        }
      ]
    },
    {
      "cell_type": "code",
      "metadata": {
        "colab": {
          "base_uri": "https://localhost:8080/"
        },
        "id": "4v0L4USwZSoM",
        "outputId": "cbe9e460-5489-4009-ef6b-d80e0d7397fa"
      },
      "source": [
        "#TASA DESOCUPADOS ABIERTO\n",
        "TDA = (DA/PEA)*100\n",
        "TDA"
      ],
      "execution_count": null,
      "outputs": [
        {
          "output_type": "execute_result",
          "data": {
            "text/plain": [
              "17.6020052917421"
            ]
          },
          "metadata": {},
          "execution_count": 464
        }
      ]
    },
    {
      "cell_type": "code",
      "metadata": {
        "colab": {
          "base_uri": "https://localhost:8080/"
        },
        "id": "HMAh9hL5ZbFs",
        "outputId": "8673241a-adbe-4c67-933a-fa40cf94521e"
      },
      "source": [
        "TDO + TDA"
      ],
      "execution_count": null,
      "outputs": [
        {
          "output_type": "execute_result",
          "data": {
            "text/plain": [
              "18.541985795850163"
            ]
          },
          "metadata": {},
          "execution_count": 466
        }
      ]
    },
    {
      "cell_type": "markdown",
      "metadata": {
        "id": "mSWA8B3vZmsh"
      },
      "source": [
        "Se estima que el 0.93% DE LA POBLACION ECONOMICAMENTE ACTIVA SE ENCUENTRA EN DESEMPLEO OCULTO MIENTRAS QUE EL 17.60% SE ENCUENTRA EN DESEMPLEO ABIERTO. ESTO QUIERE DECIR QUE LA MAYORIA DE LA POBLACION DESOCUPADA ESTA PERMANENTEMENTE BUSCANDO UN TRABAJO."
      ]
    },
    {
      "cell_type": "code",
      "metadata": {
        "colab": {
          "base_uri": "https://localhost:8080/"
        },
        "id": "pQkk76_WZb2g",
        "outputId": "f5e25c0b-5f21-479e-d10b-177f58194896"
      },
      "source": [
        "#TASA DE OCUPACION\n",
        "TO = (O/PET)*100\n",
        "TO"
      ],
      "execution_count": null,
      "outputs": [
        {
          "output_type": "execute_result",
          "data": {
            "text/plain": [
              "48.845559684355564"
            ]
          },
          "metadata": {},
          "execution_count": 469
        }
      ]
    },
    {
      "cell_type": "markdown",
      "metadata": {
        "id": "ekDkXJcpaRU1"
      },
      "source": [
        "Se estima que el 48.84% DE LA POBLACION EN EDAD DE TRABAJAR SE ENCUENTRA OCUPADA O CON EMPLEO. "
      ]
    },
    {
      "cell_type": "markdown",
      "metadata": {
        "id": "OM2ar-87bD0-"
      },
      "source": [
        "De acuerdo a los indicadores anteriores es importante decir que en Colombia para Enero del año 2021 la tasa de desemplo fue alta en comparacion con el mes anterior que fue del 15,9%. Asi mismo, si miramos las tasas de desempleo de Canada estas no superan el 6,7%."
      ]
    },
    {
      "cell_type": "code",
      "metadata": {
        "colab": {
          "base_uri": "https://localhost:8080/"
        },
        "id": "_8tL7odXaM6E",
        "outputId": "1760ec3d-be76-42eb-df4c-83abba8141c6"
      },
      "source": [
        "#TASA DE SUBEMPLEO\n",
        "TS = (S/PEA)*100\n",
        "TS"
      ],
      "execution_count": null,
      "outputs": [
        {
          "output_type": "execute_result",
          "data": {
            "text/plain": [
              "48.26625818131179"
            ]
          },
          "metadata": {},
          "execution_count": 471
        }
      ]
    },
    {
      "cell_type": "markdown",
      "metadata": {
        "id": "zjOSaBV3cyjs"
      },
      "source": [
        "Se puede estimar que el 48.26% DE LA POBLACION ECONOMICAMENTE ACTIVA TIENEN UN TRABAJO INFORMAL O SON SUBEMPLEADOS."
      ]
    },
    {
      "cell_type": "markdown",
      "metadata": {
        "id": "TISqjjQ9eO9_"
      },
      "source": [
        "#DESCRIPCIÓN ECONÓMICA FEBRERO"
      ]
    },
    {
      "cell_type": "markdown",
      "metadata": {
        "id": "eCP8lvwreO-A"
      },
      "source": [
        "La poblacion total para el mes de febrero del año 2021 se divide especificamente en dos grupos. Para el primero se toma la poblacion menor de 12 años de edad donde se encontraron 4.494 menores. En el segundo grupo se seleccionaron las personas mayores E IGUALES a 12 años ya consideradas dentro de la poblacion en edad de trabajar (PET) donde se evidenciaron 24.468 individuos."
      ]
    },
    {
      "cell_type": "code",
      "metadata": {
        "colab": {
          "base_uri": "https://localhost:8080/"
        },
        "id": "5hbepcFzeO-A",
        "outputId": "e064232f-4ba3-48d5-e72b-7d4be764ae40"
      },
      "source": [
        "#POBLACION MENOR DE 12 AÑOS\n",
        "edad_menores_febrero = Base_febrero.loc[:, 'P6040'] < 12\n",
        "sum(edad_menores_febrero)"
      ],
      "execution_count": null,
      "outputs": [
        {
          "output_type": "execute_result",
          "data": {
            "text/plain": [
              "4494"
            ]
          },
          "metadata": {},
          "execution_count": 240
        }
      ]
    },
    {
      "cell_type": "code",
      "metadata": {
        "colab": {
          "base_uri": "https://localhost:8080/"
        },
        "id": "Vf6V3uEReO-O",
        "outputId": "392f48a4-7f28-4bb7-c143-907e5d3ffae9"
      },
      "source": [
        "#POBLACION EN EDAD DE TRABAJAR\n",
        "edad_mayores_febrero = Base_febrero.loc[:, 'P6040'] >= 12\n",
        "PET = sum(edad_mayores_febrero)\n",
        "PET"
      ],
      "execution_count": null,
      "outputs": [
        {
          "output_type": "execute_result",
          "data": {
            "text/plain": [
              "24468"
            ]
          },
          "metadata": {},
          "execution_count": 241
        }
      ]
    },
    {
      "cell_type": "code",
      "metadata": {
        "colab": {
          "base_uri": "https://localhost:8080/"
        },
        "id": "y9dCYuqOeO-P",
        "outputId": "1db30640-c402-40b6-c38f-85567b779f2b"
      },
      "source": [
        "PT = 24468 + 4494\n",
        "PT"
      ],
      "execution_count": null,
      "outputs": [
        {
          "output_type": "execute_result",
          "data": {
            "text/plain": [
              "28962"
            ]
          },
          "metadata": {},
          "execution_count": 242
        }
      ]
    },
    {
      "cell_type": "markdown",
      "metadata": {
        "id": "7GL7-AJHeO-P"
      },
      "source": [
        "Asi mismo, la poblacion en edad de trabajar (PET) puede dividirse en poblacion economicamente activa (PEA) y poblacion economicamente inactiva.\n",
        "Dentro de la PEA podemos hablar acerca de aquellos individuos que se encuentran desocupados y ocupados. "
      ]
    },
    {
      "cell_type": "code",
      "metadata": {
        "colab": {
          "base_uri": "https://localhost:8080/"
        },
        "id": "6MDJe-t4eO-Q",
        "outputId": "583a25b8-482c-46d0-daf7-d0bcceb1efaf"
      },
      "source": [
        "#POBLACION ECONOMICAMENTE ACTIVA [OCUPADOS]\n",
        "ocupados_febrero = Base_febrero.loc[:, 'Estado'] == 'Ocupados'\n",
        "O = sum(ocupados_febrero)\n",
        "O"
      ],
      "execution_count": null,
      "outputs": [
        {
          "output_type": "execute_result",
          "data": {
            "text/plain": [
              "12367"
            ]
          },
          "metadata": {},
          "execution_count": 243
        }
      ]
    },
    {
      "cell_type": "code",
      "metadata": {
        "colab": {
          "base_uri": "https://localhost:8080/"
        },
        "id": "tjmHyGvxeO-R",
        "outputId": "ad438fdf-e423-4e35-9a42-00407e641b26"
      },
      "source": [
        "#POBLACION ECONOMICAMENTE ACTIVA [DESOCUPADOS]\n",
        "desocupados_febrero = Base_febrero.loc[:, 'Estado'] == 'Desocupados'\n",
        "D = sum(desocupados_febrero)\n",
        "D"
      ],
      "execution_count": null,
      "outputs": [
        {
          "output_type": "execute_result",
          "data": {
            "text/plain": [
              "2505"
            ]
          },
          "metadata": {},
          "execution_count": 244
        }
      ]
    },
    {
      "cell_type": "code",
      "metadata": {
        "colab": {
          "base_uri": "https://localhost:8080/"
        },
        "id": "TLCUgYieeO-T",
        "outputId": "fa7a099a-022d-4b9b-e06e-6e3709c78944"
      },
      "source": [
        "#LA PEA SERIA IGUAL A \n",
        "PEA = 12367 + 2505\n",
        "PEA"
      ],
      "execution_count": null,
      "outputs": [
        {
          "output_type": "execute_result",
          "data": {
            "text/plain": [
              "14872"
            ]
          },
          "metadata": {},
          "execution_count": 245
        }
      ]
    },
    {
      "cell_type": "code",
      "metadata": {
        "colab": {
          "base_uri": "https://localhost:8080/"
        },
        "id": "khJM6HqueO-U",
        "outputId": "51f08b34-035a-4422-9dc3-332a2ad3f4a6"
      },
      "source": [
        "#POBLACION ECONOMICAMENTE INACTIVA\n",
        "inactivos_febrero = Base_febrero.loc[:, 'Estado'] == 'Inactivos'\n",
        "sum(inactivos_febrero)"
      ],
      "execution_count": null,
      "outputs": [
        {
          "output_type": "execute_result",
          "data": {
            "text/plain": [
              "9596"
            ]
          },
          "metadata": {},
          "execution_count": 246
        }
      ]
    },
    {
      "cell_type": "code",
      "metadata": {
        "colab": {
          "base_uri": "https://localhost:8080/"
        },
        "id": "Dy5DyRwFeO-W",
        "outputId": "dc28f7aa-8f1b-4b64-e2fc-581c3f06611f"
      },
      "source": [
        "12367 + 2505 + 9596"
      ],
      "execution_count": null,
      "outputs": [
        {
          "output_type": "execute_result",
          "data": {
            "text/plain": [
              "24468"
            ]
          },
          "metadata": {},
          "execution_count": 247
        }
      ]
    },
    {
      "cell_type": "code",
      "metadata": {
        "colab": {
          "base_uri": "https://localhost:8080/"
        },
        "id": "xGpO-7NIeO-X",
        "outputId": "f96efd83-7278-4b9b-be8c-a1c9d15654ac"
      },
      "source": [
        "niños = Base_febrero.loc[:, 'P6040'] <= 12\n",
        "df_niños = Base_febrero.loc[niños]\n",
        "sum(df_niños['Estado'] == 'Ocupados')"
      ],
      "execution_count": null,
      "outputs": [
        {
          "output_type": "execute_result",
          "data": {
            "text/plain": [
              "4"
            ]
          },
          "metadata": {},
          "execution_count": 248
        }
      ]
    },
    {
      "cell_type": "code",
      "metadata": {
        "id": "6H1k5YrneO-Z"
      },
      "source": [
        "#HAY 4 NIÑOS MENORES O IGUALES A 12 AÑOS QUE PUEDEN ENCONTRARSE COMPLETAMENTE EMPLEADOS O SUBEMPLEADOS PARA EL AÑO FEBRERO DEL 2021."
      ],
      "execution_count": null,
      "outputs": []
    },
    {
      "cell_type": "code",
      "metadata": {
        "colab": {
          "base_uri": "https://localhost:8080/"
        },
        "id": "DAH-0pCxeO-Z",
        "outputId": "7110a8c4-4758-4be7-d699-a0d3663de2f3"
      },
      "source": [
        "niños_d = Base_febrero.loc[:, 'P6040'] <= 12\n",
        "df_niños_d = Base_febrero.loc[niños_d]\n",
        "sum(df_niños_d['Estado'] == 'Desocupados')"
      ],
      "execution_count": null,
      "outputs": [
        {
          "output_type": "execute_result",
          "data": {
            "text/plain": [
              "0"
            ]
          },
          "metadata": {},
          "execution_count": 250
        }
      ]
    },
    {
      "cell_type": "code",
      "metadata": {
        "colab": {
          "base_uri": "https://localhost:8080/"
        },
        "id": "S1Wi8mubeO-a",
        "outputId": "54ada0e4-1072-43a8-b0bf-eb556f5ce27c"
      },
      "source": [
        "niños_i = Base_febrero.loc[:, 'P6040'] == 12\n",
        "df_niños_i = Base_febrero.loc[niños_i]\n",
        "sum(df_niños_i['Estado'] == 'Inactivos')"
      ],
      "execution_count": null,
      "outputs": [
        {
          "output_type": "execute_result",
          "data": {
            "text/plain": [
              "438"
            ]
          },
          "metadata": {},
          "execution_count": 251
        }
      ]
    },
    {
      "cell_type": "markdown",
      "metadata": {
        "id": "j0E8QIEneO-b"
      },
      "source": [
        "HAY 438 NIÑOS DE 12 AÑOS QUE ESTAN DENTRO DE LA POBLACION ECONOMICAMENTE INACTIVA YA QUE tienen edad de trabajar pero no necesitan hacerlo, no pueden o no están interesados en tener una ocupación remunerada"
      ]
    },
    {
      "cell_type": "markdown",
      "metadata": {
        "id": "znlDiFtweO-c"
      },
      "source": [
        "LOS INDIVIDUOS QUE SE ENCONTRARON DENTRO DE LA POBLACION ECONOMICAMENTE ACTIVA Y QUE ESTAN OCUPADOS, ALGUNOS DE ELLOS PUEDEN DEDICARSE A SER COMPLETAMENTE EMPLEADOS, ES DECIR, AQUELLOS QUIENES CUENTAN CON UN CONTRATO LABORAL. POR OTRA PARTE, TAMBIEN EXISTEN LOS SUBEMPLEADOS QUIENES ESTAN DENTRO DE LA INFORMALIDAD Y PUEDEN GANAR MEJOR. ALGUNOS DE ELLOS SON EXPLOTADOS LABORALMENTE POR TRABAJAR MAS DE LAS HORAS ESTABLECIDAS SIENDO MAL REMUNERADOS. "
      ]
    },
    {
      "cell_type": "code",
      "metadata": {
        "colab": {
          "base_uri": "https://localhost:8080/"
        },
        "id": "O8KeUPqXeO-d",
        "outputId": "35423b12-a773-4001-c60e-6e7e948f2581"
      },
      "source": [
        "#DE ACUERDO A LA PREGUNTA ¿Para realizar este trabajo, tiene usted algún tipo de contrato? (verbal o escrito)\n",
        "#INDIVIDUOS QUE RESPONDIERON QUE SI:\n",
        "con = Base_febrero.loc[:, 'P6440'] == 1\n",
        "sum(con)"
      ],
      "execution_count": null,
      "outputs": [
        {
          "output_type": "execute_result",
          "data": {
            "text/plain": [
              "7127"
            ]
          },
          "metadata": {},
          "execution_count": 252
        }
      ]
    },
    {
      "cell_type": "code",
      "metadata": {
        "colab": {
          "base_uri": "https://localhost:8080/"
        },
        "id": "Mw75RsgpeO-d",
        "outputId": "75701130-52c1-4738-e9f1-eb78ddbe129d"
      },
      "source": [
        "#INDIVIDUOS QUE RESPONDIERON NO A LA PREGUNTA:\n",
        "con2 = Base_febrero.loc[:, 'P6440'] == 2\n",
        "sum(con2)"
      ],
      "execution_count": null,
      "outputs": [
        {
          "output_type": "execute_result",
          "data": {
            "text/plain": [
              "5240"
            ]
          },
          "metadata": {},
          "execution_count": 253
        }
      ]
    },
    {
      "cell_type": "markdown",
      "metadata": {
        "id": "01DhwNRgeO-e"
      },
      "source": [
        "UNA GRAN CANTIDAD DE INDIVIDUOS PERTENECEN O ESTAN RECIBIENDO INGRESOS POR MEDIO DE UN TRABAJO INFORMAL PARA FEBRERO DEL AÑO 2021, sin embargo, para febrero de este año predominan los individuos que si tienen algun tipo de contrato "
      ]
    },
    {
      "cell_type": "code",
      "metadata": {
        "colab": {
          "base_uri": "https://localhost:8080/"
        },
        "id": "3xgXrAdJeO-e",
        "outputId": "26ebaf02-8116-4510-f5f6-972fe64fd220"
      },
      "source": [
        "con3 = Base_febrero.loc[:, 'P6450'] == 1 #VERBAL\n",
        "sum(con3) "
      ],
      "execution_count": null,
      "outputs": [
        {
          "output_type": "execute_result",
          "data": {
            "text/plain": [
              "1967"
            ]
          },
          "metadata": {},
          "execution_count": 254
        }
      ]
    },
    {
      "cell_type": "code",
      "metadata": {
        "colab": {
          "base_uri": "https://localhost:8080/"
        },
        "id": "c0ck3lSNeO-f",
        "outputId": "9a226e73-656c-4a69-e406-bab02647686f"
      },
      "source": [
        "con4 = Base_febrero.loc[:, 'P6450'] == 2 #ESCRITO\n",
        "sum(con4) "
      ],
      "execution_count": null,
      "outputs": [
        {
          "output_type": "execute_result",
          "data": {
            "text/plain": [
              "5159"
            ]
          },
          "metadata": {},
          "execution_count": 255
        }
      ]
    },
    {
      "cell_type": "markdown",
      "metadata": {
        "id": "4_iJnuN2eO-g"
      },
      "source": [
        "1.967 INDIVIDUOS CUENTAN CON UN CONTRATO VERBAL, SOLAMENTE 5.159 PERSONAS DEL TOTAL DE LA POBLACION ECONOMICAMENTE ACTIVA (14.872) TIENEN UN TRABAJO FORMAL."
      ]
    },
    {
      "cell_type": "code",
      "metadata": {
        "colab": {
          "base_uri": "https://localhost:8080/"
        },
        "id": "x5dbyt7geO-g",
        "outputId": "54404c5f-4d12-4dd4-f2f8-2ba68dcfa5f5"
      },
      "source": [
        "S = 5240 + 1967\n",
        "S"
      ],
      "execution_count": null,
      "outputs": [
        {
          "output_type": "execute_result",
          "data": {
            "text/plain": [
              "7207"
            ]
          },
          "metadata": {},
          "execution_count": 256
        }
      ]
    },
    {
      "cell_type": "markdown",
      "metadata": {
        "id": "wR2J-7oweO-h"
      },
      "source": [
        "7207 INDIVIDUOS NO CUENTAN CON UN TRABAJO FORMAL. HAY QUE TENER EN CUENTA QUE ALGUNOS DE ELLOS PUEDEN TRABAJAR EN EMPRESAS FAMILIARES.\n",
        "\n",
        "POR OTRA PARTE, SI HABLAMOS DE AQUELLOS QUE ESTAN OCUPADOS Y QUE SI CUENTAN CON UN CONTRATO..."
      ]
    },
    {
      "cell_type": "code",
      "metadata": {
        "colab": {
          "base_uri": "https://localhost:8080/"
        },
        "id": "GABxZ05UeO-j",
        "outputId": "33ecaef3-dfa3-4b0a-d2bb-070e10d961a5"
      },
      "source": [
        "#¿el contrato de trabajo de ... Es a término indefinido o a término fijo?\n",
        "cont = Base_febrero.loc[:, 'P6460'] == 1 #A término Indefinido\n",
        "sum(cont) "
      ],
      "execution_count": null,
      "outputs": [
        {
          "output_type": "execute_result",
          "data": {
            "text/plain": [
              "3587"
            ]
          },
          "metadata": {},
          "execution_count": 257
        }
      ]
    },
    {
      "cell_type": "code",
      "metadata": {
        "colab": {
          "base_uri": "https://localhost:8080/"
        },
        "id": "i-vyYEvneO-k",
        "outputId": "ec5a4016-0642-4893-ef4b-4e6b27dce548"
      },
      "source": [
        "cont1 = Base_febrero.loc[:, 'P6460'] == 2 #A término fijo\n",
        "sum(cont1) "
      ],
      "execution_count": null,
      "outputs": [
        {
          "output_type": "execute_result",
          "data": {
            "text/plain": [
              "1570"
            ]
          },
          "metadata": {},
          "execution_count": 258
        }
      ]
    },
    {
      "cell_type": "markdown",
      "metadata": {
        "id": "FGgNT2R0eO-l"
      },
      "source": [
        "SE PUEDE EVIDENCIAR QUE 3.587 INDIVIDUOS TIENEN UN CONTRATO A TERMINO INDEFINIDO LO QUE LES PERMITE TENER UNA MAYOR DURACION EN SUS EMPLEOS.\n"
      ]
    },
    {
      "cell_type": "code",
      "metadata": {
        "id": "rj8NUDFHeO-m"
      },
      "source": [
        "#El objeto de la pregunta es determinar que prestaciones recibe la persona de acuerdo con el contrato que tiene\n",
        "#actualmente."
      ],
      "execution_count": null,
      "outputs": []
    },
    {
      "cell_type": "code",
      "metadata": {
        "colab": {
          "base_uri": "https://localhost:8080/"
        },
        "id": "DBzpqn25eO-n",
        "outputId": "b0df7bac-c61b-493c-d5bb-f7904c3fbae1"
      },
      "source": [
        "#CONTRATO ESCRITO\n",
        "con4 = Base_febrero.loc[:, 'P6450'] == 2 \n",
        "df_con3= Base_febrero.loc[con4]\n",
        "sum(df_con3['P6424S1'] == 1) #SI RECIBE VACACIONES"
      ],
      "execution_count": null,
      "outputs": [
        {
          "output_type": "execute_result",
          "data": {
            "text/plain": [
              "4551"
            ]
          },
          "metadata": {},
          "execution_count": 260
        }
      ]
    },
    {
      "cell_type": "markdown",
      "metadata": {
        "id": "wA1gmtJbeO-o"
      },
      "source": [
        "APROXIMADAMENTE 4.551 PERSONAS DE 5.159 QUE TIENEN UN CONTRATO ESCRITO RECIBEN VACACIONES."
      ]
    },
    {
      "cell_type": "code",
      "metadata": {
        "colab": {
          "base_uri": "https://localhost:8080/"
        },
        "id": "ZntMhDGEeO-o",
        "outputId": "4ed0ab9a-7a0b-4cff-8e48-1bb60570f007"
      },
      "source": [
        "#CONTRATO VERBAL\n",
        "con3 = Base_febrero.loc[:, 'P6450'] == 1 \n",
        "df_con4= Base_febrero.loc[con3]\n",
        "sum(df_con4['P6424S1'] == 2) #no reciben vacaciones"
      ],
      "execution_count": null,
      "outputs": [
        {
          "output_type": "execute_result",
          "data": {
            "text/plain": [
              "1809"
            ]
          },
          "metadata": {},
          "execution_count": 261
        }
      ]
    },
    {
      "cell_type": "markdown",
      "metadata": {
        "id": "1e-OpnnneO-p"
      },
      "source": [
        "APROXIMADAMENTE 1.809 PERSONAS QUE TIENEN CONTRATOS VERBALES NO TIENEN DERECHO A VACACIONES CON SUELDO."
      ]
    },
    {
      "cell_type": "code",
      "metadata": {
        "colab": {
          "base_uri": "https://localhost:8080/"
        },
        "id": "IZMMIT9PeO-p",
        "outputId": "c74d03ab-89c4-4956-d444-813206a793c6"
      },
      "source": [
        "cont = Base_febrero.loc[:, 'P6460'] == 1 #A término Indefinido\n",
        "df_in= Base_febrero.loc[cont]\n",
        "sum(df_in['P6424S2'] == 1) #SI RECIBE PRIMA DE NAVIDAD"
      ],
      "execution_count": null,
      "outputs": [
        {
          "output_type": "execute_result",
          "data": {
            "text/plain": [
              "901"
            ]
          },
          "metadata": {},
          "execution_count": 262
        }
      ]
    },
    {
      "cell_type": "code",
      "metadata": {
        "colab": {
          "base_uri": "https://localhost:8080/"
        },
        "id": "ugNZtn0ReO-q",
        "outputId": "52c13205-f511-4669-a7f6-f996501e6b59"
      },
      "source": [
        "cont1 = Base_febrero.loc[:, 'P6460'] == 2 #A término fijo\n",
        "df_in1= Base_febrero.loc[cont1]\n",
        "sum(df_in1['P6424S2'] == 1) #SI RECIBE PRIMA DE NAVIDAD"
      ],
      "execution_count": null,
      "outputs": [
        {
          "output_type": "execute_result",
          "data": {
            "text/plain": [
              "156"
            ]
          },
          "metadata": {},
          "execution_count": 263
        }
      ]
    },
    {
      "cell_type": "markdown",
      "metadata": {
        "id": "zsicHXDMeO-q"
      },
      "source": [
        "SE PUEDE DECIR QUE HAY 745 PERSONAS MAS QUE TIENEN DERECHO A RECIBIR SU PRIMA DE NAVIDAD POR TENER UN CONTRATO A TERMINO INDEFINIDO"
      ]
    },
    {
      "cell_type": "code",
      "metadata": {
        "colab": {
          "base_uri": "https://localhost:8080/"
        },
        "id": "NK2CI4mNeO-r",
        "outputId": "251fd433-4396-46cb-adc9-241f93391464"
      },
      "source": [
        "cont = Base_febrero.loc[:, 'P6460'] == 1 #A término Indefinido\n",
        "df_in= Base_febrero.loc[cont]\n",
        "sum(df_in['P6424S3'] == 1) #SI RECIBE CESANTIAS"
      ],
      "execution_count": null,
      "outputs": [
        {
          "output_type": "execute_result",
          "data": {
            "text/plain": [
              "3449"
            ]
          },
          "metadata": {},
          "execution_count": 264
        }
      ]
    },
    {
      "cell_type": "code",
      "metadata": {
        "colab": {
          "base_uri": "https://localhost:8080/"
        },
        "id": "Q8_C2tW6eO-r",
        "outputId": "906fdbec-03c5-4f83-b5dc-6ba8db233e90"
      },
      "source": [
        "cont1 = Base_febrero.loc[:, 'P6460'] == 2 #A término fijo\n",
        "df_in1= Base_febrero.loc[cont1]\n",
        "sum(df_in1['P6424S3'] == 1) #SI RECIBE CESANTIAS"
      ],
      "execution_count": null,
      "outputs": [
        {
          "output_type": "execute_result",
          "data": {
            "text/plain": [
              "1198"
            ]
          },
          "metadata": {},
          "execution_count": 265
        }
      ]
    },
    {
      "cell_type": "markdown",
      "metadata": {
        "id": "JhrupctQeO-s"
      },
      "source": [
        "SE PUEDE DECIR QUE HAY 3.449 INDIVIDUOS QUE TIENEN UN CONTRATO A TERMINO INDEFINIDO TIENEN DERECHO A RECIBIR CESANTIAS, MIENTRAS QUIENES TRABAJAN A TERMINO FIJO NO LAS TIENEN."
      ]
    },
    {
      "cell_type": "markdown",
      "metadata": {
        "id": "Hp134r1JeO-s"
      },
      "source": [
        "YA SI SE REALIZA UN ENFOQUE HACIA AQUELLOS INDIVIDUOS DESOCUPADOS DE LA POBLACION ECONOMICAMENTE ACTIVA SE PUEDE HABLAR ACERCA DE UN DESEMPLEO ABIERTO EL CUAL INDICA LA PERMANECIA DE LA BUSQUEDA DE TRABAJO. SE DICE QUE, PARA LOS INDIVIDUOS QUE YA SUPERARON EL AÑO O LAS 52 SEMANAS DE ESTAR BUSCANDO EMPLEO ENTRAN EN LA CATEGORIA DE DESEMPLEO OCULTO. ES PROBABLE QUE ESTOS INDIVIDUOS CESEN Y PUEDAN LLEGAN A CLASIFICARSE DENTRO DE LA INACTIVIDAD. "
      ]
    },
    {
      "cell_type": "code",
      "metadata": {
        "colab": {
          "base_uri": "https://localhost:8080/"
        },
        "id": "r4D1IZKgeO-t",
        "outputId": "984c9fc8-0d31-4d42-eca3-619f0d943e71"
      },
      "source": [
        "#DESEMPLETO ABIERTO\n",
        "des = Base_febrero.loc[:, 'P7250'] <= 52  #DESEMPLEO ABIERTO\n",
        "DA = sum(des)\n",
        "DA\n"
      ],
      "execution_count": null,
      "outputs": [
        {
          "output_type": "execute_result",
          "data": {
            "text/plain": [
              "2336"
            ]
          },
          "metadata": {},
          "execution_count": 266
        }
      ]
    },
    {
      "cell_type": "code",
      "metadata": {
        "colab": {
          "base_uri": "https://localhost:8080/"
        },
        "id": "BYliNscneO-t",
        "outputId": "355aa567-62f0-4121-b3f1-10c966e17fec"
      },
      "source": [
        "des1 = Base_febrero.loc[:, 'P7250'] > 52 #DESEMPLEO OCULTO\n",
        "DO = sum(des1)\n",
        "DO"
      ],
      "execution_count": null,
      "outputs": [
        {
          "output_type": "execute_result",
          "data": {
            "text/plain": [
              "169"
            ]
          },
          "metadata": {},
          "execution_count": 267
        }
      ]
    },
    {
      "cell_type": "markdown",
      "metadata": {
        "id": "jz09m-FgeO-u"
      },
      "source": [
        "169 DE LAS 2505 PERSONAS QUE SE ENCUENTRAN DESOCUPADAS PUEDEN LLEGAR A ENTRAR A LA INACTIVIDAD A CAUSA DE NO ENCONTRAR UN EMPLEO DESPUES DE PASADAS LAS 52 SEMANAS."
      ]
    },
    {
      "cell_type": "markdown",
      "metadata": {
        "id": "Iph0bDoTwzwZ"
      },
      "source": [
        "#TASAS IMPORTANTES FEBRERO"
      ]
    },
    {
      "cell_type": "code",
      "metadata": {
        "colab": {
          "base_uri": "https://localhost:8080/"
        },
        "id": "ggwu9UpDxNMY",
        "outputId": "b658fdd1-06e0-4b0e-bcbd-915d790d2b64"
      },
      "source": [
        "#TASA BRUTA DE PARTICIPACION\n",
        "TBP = PEA/PT\n",
        "(TBP)*100"
      ],
      "execution_count": null,
      "outputs": [
        {
          "output_type": "execute_result",
          "data": {
            "text/plain": [
              "51.35004488640287"
            ]
          },
          "metadata": {},
          "execution_count": 268
        }
      ]
    },
    {
      "cell_type": "markdown",
      "metadata": {
        "id": "WVGXAPbzxNMl"
      },
      "source": [
        "LA FUERZA LABORAL ESTIMADA REPRESENTADA EN COLOMBIA PARA ENERO DEL AÑO 2021 ES DEL 51,35%."
      ]
    },
    {
      "cell_type": "code",
      "metadata": {
        "colab": {
          "base_uri": "https://localhost:8080/"
        },
        "id": "qaAFRrsCxNMm",
        "outputId": "22b23eb3-80fc-4fc7-fc56-5f03318332a3"
      },
      "source": [
        "#TASA GLOBAL DE PARTICIPACION\n",
        "#EXCLUYE A LOS NIÑOS Y MENORES DE 12 AÑOS\n",
        "TGP = PEA/PET\n",
        "TGP*100"
      ],
      "execution_count": null,
      "outputs": [
        {
          "output_type": "execute_result",
          "data": {
            "text/plain": [
              "60.781428804969764"
            ]
          },
          "metadata": {},
          "execution_count": 269
        }
      ]
    },
    {
      "cell_type": "markdown",
      "metadata": {
        "id": "lAMqaXV8xNMn"
      },
      "source": [
        "LA FUERZA LABORAL ESTIMADA REPRESENTADA EN COLOMBIA PARA ENERO DEL AÑO 2021 ES DEL 60,78%. AQUI SE REFLEJA LA PRESION DE LA POBLACION SOBRE EL MERCADO LABORAL."
      ]
    },
    {
      "cell_type": "code",
      "metadata": {
        "colab": {
          "base_uri": "https://localhost:8080/"
        },
        "id": "qdXuPwKYxNMo",
        "outputId": "eba96fe9-1af7-40b7-84f8-248bb9c0d721"
      },
      "source": [
        "#TASA DESOCUPADOS\n",
        "TD = (D/PEA)*100\n",
        "TD\n"
      ],
      "execution_count": null,
      "outputs": [
        {
          "output_type": "execute_result",
          "data": {
            "text/plain": [
              "16.843733189887036"
            ]
          },
          "metadata": {},
          "execution_count": 270
        }
      ]
    },
    {
      "cell_type": "markdown",
      "metadata": {
        "id": "MWOfzaxLxNMo"
      },
      "source": [
        "SE ESTIMA QUE EL 16.84% DE LA POBLACION ECONOMICAMENTE ACTIVA SE ENCUENTRA DESEMPLEADA."
      ]
    },
    {
      "cell_type": "code",
      "metadata": {
        "colab": {
          "base_uri": "https://localhost:8080/"
        },
        "id": "ajq52NrkxNMp",
        "outputId": "f6ab9a3e-07fe-4438-87b9-0e88994823be"
      },
      "source": [
        "#TASA DESOCUPADOS OCULTOS\n",
        "TDO = (DO/PEA)*100\n",
        "TDO"
      ],
      "execution_count": null,
      "outputs": [
        {
          "output_type": "execute_result",
          "data": {
            "text/plain": [
              "1.1363636363636365"
            ]
          },
          "metadata": {},
          "execution_count": 271
        }
      ]
    },
    {
      "cell_type": "code",
      "metadata": {
        "colab": {
          "base_uri": "https://localhost:8080/"
        },
        "id": "Fm_GtZHKxNMq",
        "outputId": "3d6102cc-6f71-47df-b2cc-9187b581504a"
      },
      "source": [
        "#TASA DESOCUPADOS ABIERTO\n",
        "TDA = (DA/PEA)*100\n",
        "TDA"
      ],
      "execution_count": null,
      "outputs": [
        {
          "output_type": "execute_result",
          "data": {
            "text/plain": [
              "15.707369553523401"
            ]
          },
          "metadata": {},
          "execution_count": 272
        }
      ]
    },
    {
      "cell_type": "code",
      "metadata": {
        "colab": {
          "base_uri": "https://localhost:8080/"
        },
        "id": "HJm3notfxNMr",
        "outputId": "0fe65e93-0678-4374-b6ef-5072170a1dde"
      },
      "source": [
        "TDO + TDA"
      ],
      "execution_count": null,
      "outputs": [
        {
          "output_type": "execute_result",
          "data": {
            "text/plain": [
              "16.843733189887036"
            ]
          },
          "metadata": {},
          "execution_count": 273
        }
      ]
    },
    {
      "cell_type": "markdown",
      "metadata": {
        "id": "tlk1M0PcxNMs"
      },
      "source": [
        "SE ESTIMA QUE EL 1.13% DE LA POBLACION ECONOMICAMENTE ACTIVA SE ENCUENTRA EN DESEMPLEO OCULTO MIENTRAS QUE EL 15.70% SE ENCUENTRA EN DESEMPLEO ABIERTO. ESTO QUIERE DECIR QUE LA MAYORIA DE LA POBLACION DESOCUPADA ESTA PERMANENTEMENTE BUSCANDO UN TRABAJO."
      ]
    },
    {
      "cell_type": "code",
      "metadata": {
        "colab": {
          "base_uri": "https://localhost:8080/"
        },
        "id": "DYuALWn3xNMt",
        "outputId": "fc446e81-e286-458b-e5fc-27c9c9d996df"
      },
      "source": [
        "#TASA DE OCUPACION\n",
        "TO = (O/PET)*100\n",
        "TO"
      ],
      "execution_count": null,
      "outputs": [
        {
          "output_type": "execute_result",
          "data": {
            "text/plain": [
              "50.543567108059506"
            ]
          },
          "metadata": {},
          "execution_count": 274
        }
      ]
    },
    {
      "cell_type": "markdown",
      "metadata": {
        "id": "e5aK5ah8xNMt"
      },
      "source": [
        "SE ESTIMA QUE EL 50.54% DE LA POBLACION EN EDAD DE TRABAJAR SE ENCUENTRA OCUPADA O CON EMPLEO. "
      ]
    },
    {
      "cell_type": "code",
      "metadata": {
        "colab": {
          "base_uri": "https://localhost:8080/"
        },
        "id": "62mQlmlVxNMu",
        "outputId": "269613a0-5695-4e62-9724-e7e47b2e818a"
      },
      "source": [
        "#TASA DE SUBEMPLEO\n",
        "TS = (S/PEA)*100\n",
        "TS"
      ],
      "execution_count": null,
      "outputs": [
        {
          "output_type": "execute_result",
          "data": {
            "text/plain": [
              "48.460193652501346"
            ]
          },
          "metadata": {},
          "execution_count": 275
        }
      ]
    },
    {
      "cell_type": "markdown",
      "metadata": {
        "id": "fzZpjmJ1xNMu"
      },
      "source": [
        "SE PUEDE ESTIMAR QUE EL 48.46% DE LA POBLACION ECONOMICAMENTE ACTIVA TIENEN UN TRABAJO INFORMAL O SON SUBEMPLEADOS."
      ]
    },
    {
      "cell_type": "markdown",
      "metadata": {
        "id": "mV-uXqfZGUkd"
      },
      "source": [
        "#DESCRIPCIÓN ECONÓMICA MARZO"
      ]
    },
    {
      "cell_type": "markdown",
      "metadata": {
        "id": "B7mapA49GUki"
      },
      "source": [
        "La poblacion total para el mes de marzo del año 2021 se divide especificamente en dos grupos. Para el primero se toma la poblacion menor de 12 años de edad donde se encontraron 4.293 menores. En el segundo grupo se seleccionaron las personas mayores E IGUALES a 12 años ya consideradas dentro de la poblacion en edad de trabajar (PET) donde se evidenciaron 23.963 individuos."
      ]
    },
    {
      "cell_type": "code",
      "metadata": {
        "colab": {
          "base_uri": "https://localhost:8080/"
        },
        "id": "HzISA6FFGUkk",
        "outputId": "e9bf052a-feb8-4721-bb87-2f667b025534"
      },
      "source": [
        "#POBLACION MENOR DE 12 AÑOS\n",
        "edad_menores_marzo = Base_marzo.loc[:, 'P6040'] < 12\n",
        "sum(edad_menores_marzo)"
      ],
      "execution_count": null,
      "outputs": [
        {
          "output_type": "execute_result",
          "data": {
            "text/plain": [
              "4293"
            ]
          },
          "metadata": {},
          "execution_count": 181
        }
      ]
    },
    {
      "cell_type": "code",
      "metadata": {
        "colab": {
          "base_uri": "https://localhost:8080/"
        },
        "id": "1RT0yUTTGUkn",
        "outputId": "9b7ea80c-65f8-479a-c3d6-4755149fdced"
      },
      "source": [
        "#POBLACION EN EDAD DE TRABAJAR\n",
        "edad_mayores_marzo = Base_marzo.loc[:, 'P6040'] >= 12\n",
        "PET = sum(edad_mayores_marzo)\n",
        "PET"
      ],
      "execution_count": null,
      "outputs": [
        {
          "output_type": "execute_result",
          "data": {
            "text/plain": [
              "23963"
            ]
          },
          "metadata": {},
          "execution_count": 182
        }
      ]
    },
    {
      "cell_type": "code",
      "metadata": {
        "colab": {
          "base_uri": "https://localhost:8080/"
        },
        "id": "UrAMQ7KQGUko",
        "outputId": "7e7953f1-6057-45bf-ea5b-7bb3a0d3b90f"
      },
      "source": [
        "PT = 23963 + 4293\n",
        "PT"
      ],
      "execution_count": null,
      "outputs": [
        {
          "output_type": "execute_result",
          "data": {
            "text/plain": [
              "28256"
            ]
          },
          "metadata": {},
          "execution_count": 183
        }
      ]
    },
    {
      "cell_type": "markdown",
      "metadata": {
        "id": "fG1By-esGUkp"
      },
      "source": [
        "Asi mismo, la poblacion en edad de trabajar (PET) puede dividirse en poblacion economicamente activa (PEA) y poblacion economicamente inactiva.\n",
        "Dentro de la PEA podemos hablar acerca de aquellos individuos que se encuentran desocupados y ocupados. "
      ]
    },
    {
      "cell_type": "code",
      "metadata": {
        "colab": {
          "base_uri": "https://localhost:8080/"
        },
        "id": "qLiwbUapGUkq",
        "outputId": "0f3895f7-156a-484a-98e9-44bf880c22c0"
      },
      "source": [
        "#POBLACION ECONOMICAMENTE ACTIVA [OCUPADOS]\n",
        "ocupados_marzo = Base_marzo.loc[:, 'Estado'] == 'Ocupados'\n",
        "O = sum(ocupados_marzo)\n",
        "O"
      ],
      "execution_count": null,
      "outputs": [
        {
          "output_type": "execute_result",
          "data": {
            "text/plain": [
              "12254"
            ]
          },
          "metadata": {},
          "execution_count": 184
        }
      ]
    },
    {
      "cell_type": "code",
      "metadata": {
        "colab": {
          "base_uri": "https://localhost:8080/"
        },
        "id": "i7cnB2vvGUku",
        "outputId": "5d8fc72a-15ce-4534-9ced-66f8aaa4dadf"
      },
      "source": [
        "#POBLACION ECONOMICAMENTE ACTIVA [DESOCUPADOS]\n",
        "desocupados_marzo = Base_marzo.loc[:, 'Estado'] == 'Desocupados'\n",
        "D = sum(desocupados_marzo)\n",
        "D"
      ],
      "execution_count": null,
      "outputs": [
        {
          "output_type": "execute_result",
          "data": {
            "text/plain": [
              "2296"
            ]
          },
          "metadata": {},
          "execution_count": 185
        }
      ]
    },
    {
      "cell_type": "code",
      "metadata": {
        "colab": {
          "base_uri": "https://localhost:8080/"
        },
        "id": "OyPtM2HCGUkv",
        "outputId": "a7f65be8-36f7-43e6-a6d1-a1aac58e63e2"
      },
      "source": [
        "#LA PEA SERIA IGUAL A \n",
        "PEA = 12254 + 2296\n",
        "PEA"
      ],
      "execution_count": null,
      "outputs": [
        {
          "output_type": "execute_result",
          "data": {
            "text/plain": [
              "14550"
            ]
          },
          "metadata": {},
          "execution_count": 186
        }
      ]
    },
    {
      "cell_type": "code",
      "metadata": {
        "colab": {
          "base_uri": "https://localhost:8080/"
        },
        "id": "OfCHkMblGUkx",
        "outputId": "ad3bdccc-708e-4653-ec5f-a6645653b09b"
      },
      "source": [
        "#POBLACION ECONOMICAMENTE INACTIVA\n",
        "inactivos_marzo = Base_marzo.loc[:, 'Estado'] == 'Inactivos'\n",
        "sum(inactivos_marzo)"
      ],
      "execution_count": null,
      "outputs": [
        {
          "output_type": "execute_result",
          "data": {
            "text/plain": [
              "9413"
            ]
          },
          "metadata": {},
          "execution_count": 187
        }
      ]
    },
    {
      "cell_type": "code",
      "metadata": {
        "colab": {
          "base_uri": "https://localhost:8080/"
        },
        "id": "w5XFKo2lGUky",
        "outputId": "10070717-399b-4857-ceda-be821b05e736"
      },
      "source": [
        "12254 + 2296 + 9413 #COMPROBACION PET"
      ],
      "execution_count": null,
      "outputs": [
        {
          "output_type": "execute_result",
          "data": {
            "text/plain": [
              "23963"
            ]
          },
          "metadata": {},
          "execution_count": 188
        }
      ]
    },
    {
      "cell_type": "code",
      "metadata": {
        "colab": {
          "base_uri": "https://localhost:8080/"
        },
        "id": "xoegVW0KGUk1",
        "outputId": "554661db-79e6-4551-d7c5-184d05747470"
      },
      "source": [
        "niños = Base_marzo.loc[:, 'P6040'] <= 12\n",
        "df_niños = Base_marzo.loc[niños]\n",
        "sum(df_niños['Estado'] == 'Ocupados')"
      ],
      "execution_count": null,
      "outputs": [
        {
          "output_type": "execute_result",
          "data": {
            "text/plain": [
              "3"
            ]
          },
          "metadata": {},
          "execution_count": 189
        }
      ]
    },
    {
      "cell_type": "code",
      "metadata": {
        "id": "vGteyGUzGUk3"
      },
      "source": [
        "#HAY 3 NIÑOS MENORES O IGUALES A 12 AÑOS QUE PUEDEN ENCONTRARSE COMPLETAMENTE EMPLEADOS O SUBEMPLEADOS PARA EL AÑO MARZO DEL 2021."
      ],
      "execution_count": null,
      "outputs": []
    },
    {
      "cell_type": "code",
      "metadata": {
        "colab": {
          "base_uri": "https://localhost:8080/"
        },
        "id": "FUmO4xehGUk4",
        "outputId": "4d882cc2-3c86-4e84-d42a-5124aff2df5d"
      },
      "source": [
        "niños_d = Base_marzo.loc[:, 'P6040'] <= 12\n",
        "df_niños_d = Base_marzo.loc[niños_d]\n",
        "sum(df_niños_d['Estado'] == 'Desocupados')"
      ],
      "execution_count": null,
      "outputs": [
        {
          "output_type": "execute_result",
          "data": {
            "text/plain": [
              "0"
            ]
          },
          "metadata": {},
          "execution_count": 191
        }
      ]
    },
    {
      "cell_type": "code",
      "metadata": {
        "colab": {
          "base_uri": "https://localhost:8080/"
        },
        "id": "1w6VBvZFGUk6",
        "outputId": "f1ed8631-c7b1-47e9-fa74-a38e8a61af60"
      },
      "source": [
        "niños_i = Base_marzo.loc[:, 'P6040'] == 12\n",
        "df_niños_i = Base_marzo.loc[niños_i]\n",
        "sum(df_niños_i['Estado'] == 'Inactivos')"
      ],
      "execution_count": null,
      "outputs": [
        {
          "output_type": "execute_result",
          "data": {
            "text/plain": [
              "391"
            ]
          },
          "metadata": {},
          "execution_count": 192
        }
      ]
    },
    {
      "cell_type": "markdown",
      "metadata": {
        "id": "8pWbOjhFGUk8"
      },
      "source": [
        "HAY 391 NIÑOS DE 12 AÑOS QUE ESTAN DENTRO DE LA POBLACION ECONOMICAMENTE INACTIVA YA QUE tienen edad de trabajar pero no necesitan hacerlo, no pueden o no están interesados en tener una ocupación remunerada"
      ]
    },
    {
      "cell_type": "markdown",
      "metadata": {
        "id": "KBLA_mR4GUk9"
      },
      "source": [
        "LOS INDIVIDUOS QUE SE ENCONTRARON DENTRO DE LA POBLACION ECONOMICAMENTE ACTIVA Y QUE ESTAN OCUPADOS, ALGUNOS DE ELLOS PUEDEN DEDICARSE A SER COMPLETAMENTE EMPLEADOS, ES DECIR, AQUELLOS QUIENES CUENTAN CON UN CONTRATO LABORAL. POR OTRA PARTE, TAMBIEN EXISTEN LOS SUBEMPLEADOS QUIENES ESTAN DENTRO DE LA INFORMALIDAD Y PUEDEN GANAR MEJOR. ALGUNOS DE ELLOS SON EXPLOTADOS LABORALMENTE POR TRABAJAR MAS DE LAS HORAS ESTABLECIDAS SIENDO MAL REMUNERADOS. "
      ]
    },
    {
      "cell_type": "code",
      "metadata": {
        "colab": {
          "base_uri": "https://localhost:8080/"
        },
        "id": "7j4pRZz9GUk-",
        "outputId": "3734b407-c698-4913-c7a9-a05ee5d79583"
      },
      "source": [
        "#DE ACUERDO A LA PREGUNTA ¿Para realizar este trabajo, tiene usted algún tipo de contrato? (verbal o escrito)\n",
        "#INDIVIDUOS QUE RESPONDIERON QUE SI:\n",
        "con = Base_marzo.loc[:, 'P6440'] == 1\n",
        "sum(con)"
      ],
      "execution_count": null,
      "outputs": [
        {
          "output_type": "execute_result",
          "data": {
            "text/plain": [
              "7064"
            ]
          },
          "metadata": {},
          "execution_count": 193
        }
      ]
    },
    {
      "cell_type": "code",
      "metadata": {
        "colab": {
          "base_uri": "https://localhost:8080/"
        },
        "id": "U9XmfO2sGUk_",
        "outputId": "d5a7241a-20bf-464b-93b7-6a7fd7abc2ce"
      },
      "source": [
        "#INDIVIDUOS QUE RESPONDIERON NO A LA PREGUNTA:\n",
        "con2 = Base_marzo.loc[:, 'P6440'] == 2\n",
        "sum(con2)"
      ],
      "execution_count": null,
      "outputs": [
        {
          "output_type": "execute_result",
          "data": {
            "text/plain": [
              "5190"
            ]
          },
          "metadata": {},
          "execution_count": 194
        }
      ]
    },
    {
      "cell_type": "markdown",
      "metadata": {
        "id": "6csgHDVPGUlB"
      },
      "source": [
        "UNA GRAN CANTIDAD DE INDIVIDUOS PERTENECEN O ESTAN RECIBIENDO INGRESOS POR MEDIO DE UN TRABAJO INFORMAL PARA MARZO DEL AÑO 2021, sin embargo, para febrero de este año predominan los individuos que si tienen algun tipo de contrato "
      ]
    },
    {
      "cell_type": "code",
      "metadata": {
        "colab": {
          "base_uri": "https://localhost:8080/"
        },
        "id": "Fl-vz7DyGUlC",
        "outputId": "75ff605c-1dde-4a51-aeb2-5009c6d3a091"
      },
      "source": [
        "con3 = Base_marzo.loc[:, 'P6450'] == 1 #VERBAL\n",
        "sum(con3) "
      ],
      "execution_count": null,
      "outputs": [
        {
          "output_type": "execute_result",
          "data": {
            "text/plain": [
              "2044"
            ]
          },
          "metadata": {},
          "execution_count": 195
        }
      ]
    },
    {
      "cell_type": "code",
      "metadata": {
        "colab": {
          "base_uri": "https://localhost:8080/"
        },
        "id": "ZVoTaQ3RGUlD",
        "outputId": "29f1d3ff-2f55-453c-f3d9-dc143706fef5"
      },
      "source": [
        "con4 = Base_marzo.loc[:, 'P6450'] == 2 #ESCRITO\n",
        "sum(con4) "
      ],
      "execution_count": null,
      "outputs": [
        {
          "output_type": "execute_result",
          "data": {
            "text/plain": [
              "5017"
            ]
          },
          "metadata": {},
          "execution_count": 196
        }
      ]
    },
    {
      "cell_type": "markdown",
      "metadata": {
        "id": "wlsCEfl8GUlD"
      },
      "source": [
        "2.044 INDIVIDUOS CUENTAN CON UN CONTRATO VERBAL, SOLAMENTE 5.017 PERSONAS DEL TOTAL DE LA POBLACION ECONOMICAMENTE ACTIVA (14.550) TIENEN UN TRABAJO FORMAL."
      ]
    },
    {
      "cell_type": "code",
      "metadata": {
        "colab": {
          "base_uri": "https://localhost:8080/"
        },
        "id": "IBJS1nFOGUlE",
        "outputId": "ef49e18d-d414-4788-9421-cbda82ee39d8"
      },
      "source": [
        "S = 5190 + 2044\n",
        "S"
      ],
      "execution_count": null,
      "outputs": [
        {
          "output_type": "execute_result",
          "data": {
            "text/plain": [
              "7234"
            ]
          },
          "metadata": {},
          "execution_count": 197
        }
      ]
    },
    {
      "cell_type": "markdown",
      "metadata": {
        "id": "Nr6dwuLMGUlE"
      },
      "source": [
        "7234 INDIVIDUOS NO CUENTAN CON UN TRABAJO FORMAL. HAY QUE TENER EN CUENTA QUE ALGUNOS DE ELLOS PUEDEN TRABAJAR EN EMPRESAS FAMILIARES.\n",
        "\n",
        "POR OTRA PARTE, SI HABLAMOS DE AQUELLOS QUE ESTAN OCUPADOS Y QUE SI CUENTAN CON UN CONTRATO..."
      ]
    },
    {
      "cell_type": "code",
      "metadata": {
        "colab": {
          "base_uri": "https://localhost:8080/"
        },
        "id": "vBkcmF_TGUlF",
        "outputId": "ec0c22c4-497a-43d3-dbb8-14914f5ca999"
      },
      "source": [
        "#¿el contrato de trabajo de ... Es a término indefinido o a término fijo?\n",
        "cont = Base_marzo.loc[:, 'P6460'] == 1 #A término Indefinido\n",
        "sum(cont) "
      ],
      "execution_count": null,
      "outputs": [
        {
          "output_type": "execute_result",
          "data": {
            "text/plain": [
              "3376"
            ]
          },
          "metadata": {},
          "execution_count": 198
        }
      ]
    },
    {
      "cell_type": "code",
      "metadata": {
        "colab": {
          "base_uri": "https://localhost:8080/"
        },
        "id": "VPemEFimGUlF",
        "outputId": "153ea39d-c408-448a-8eb5-148c4926a760"
      },
      "source": [
        "cont1 = Base_marzo.loc[:, 'P6460'] == 2 #A término fijo\n",
        "sum(cont1) "
      ],
      "execution_count": null,
      "outputs": [
        {
          "output_type": "execute_result",
          "data": {
            "text/plain": [
              "1627"
            ]
          },
          "metadata": {},
          "execution_count": 199
        }
      ]
    },
    {
      "cell_type": "markdown",
      "metadata": {
        "id": "_ZQ3wnTEGUlG"
      },
      "source": [
        "SE PUEDE EVIDENCIAR QUE 3.376 INDIVIDUOS TIENEN UN CONTRATO A TERMINO INDEFINIDO LO QUE LES PERMITE TENER UNA MAYOR DURACION EN SUS EMPLEOS.\n"
      ]
    },
    {
      "cell_type": "code",
      "metadata": {
        "id": "MiOIetpoGUlG"
      },
      "source": [
        "#El objeto de la pregunta es determinar que prestaciones recibe la persona de acuerdo con el contrato que tiene\n",
        "#actualmente."
      ],
      "execution_count": null,
      "outputs": []
    },
    {
      "cell_type": "code",
      "metadata": {
        "colab": {
          "base_uri": "https://localhost:8080/"
        },
        "id": "Sco87sBlGUlG",
        "outputId": "164e648a-2593-419b-eeef-a762b7a43a5e"
      },
      "source": [
        "#CONTRATO ESCRITO\n",
        "con4 = Base_marzo.loc[:, 'P6450'] == 2 \n",
        "df_con3= Base_marzo.loc[con4]\n",
        "sum(df_con3['P6424S1'] == 1) #SI RECIBE VACACIONES"
      ],
      "execution_count": null,
      "outputs": [
        {
          "output_type": "execute_result",
          "data": {
            "text/plain": [
              "4285"
            ]
          },
          "metadata": {},
          "execution_count": 201
        }
      ]
    },
    {
      "cell_type": "markdown",
      "metadata": {
        "id": "ovTcbt2xGUlH"
      },
      "source": [
        "APROXIMADAMENTE 4.285 PERSONAS DE 5.017 QUE TIENEN UN CONTRATO ESCRITO RECIBEN VACACIONES."
      ]
    },
    {
      "cell_type": "code",
      "metadata": {
        "colab": {
          "base_uri": "https://localhost:8080/"
        },
        "id": "oftiAayWGUlH",
        "outputId": "12c50339-af2d-475c-814b-83b2ef8c4122"
      },
      "source": [
        "#CONTRATO VERBAL\n",
        "con3 = Base_marzo.loc[:, 'P6450'] == 1 \n",
        "df_con4= Base_marzo.loc[con3]\n",
        "sum(df_con4['P6424S1'] == 2) #no reciben vacaciones"
      ],
      "execution_count": null,
      "outputs": [
        {
          "output_type": "execute_result",
          "data": {
            "text/plain": [
              "1882"
            ]
          },
          "metadata": {},
          "execution_count": 202
        }
      ]
    },
    {
      "cell_type": "markdown",
      "metadata": {
        "id": "LowKh_jPGUlI"
      },
      "source": [
        "APROXIMADAMENTE 1.882 PERSONAS QUE TIENEN CONTRATOS VERBALES NO TIENEN DERECHO A VACACIONES CON SUELDO."
      ]
    },
    {
      "cell_type": "code",
      "metadata": {
        "colab": {
          "base_uri": "https://localhost:8080/"
        },
        "id": "TDfTysR-GUlJ",
        "outputId": "29cf67c8-10fb-4209-f529-4f3ac7279565"
      },
      "source": [
        "cont = Base_marzo.loc[:, 'P6460'] == 1 #A término Indefinido\n",
        "df_in= Base_marzo.loc[cont]\n",
        "sum(df_in['P6424S2'] == 1) #SI RECIBE PRIMA DE NAVIDAD"
      ],
      "execution_count": null,
      "outputs": [
        {
          "output_type": "execute_result",
          "data": {
            "text/plain": [
              "923"
            ]
          },
          "metadata": {},
          "execution_count": 203
        }
      ]
    },
    {
      "cell_type": "code",
      "metadata": {
        "colab": {
          "base_uri": "https://localhost:8080/"
        },
        "id": "trMYS_ZQGUlJ",
        "outputId": "f974dd8e-b0cf-4717-d663-eeb4942d435a"
      },
      "source": [
        "cont1 = Base_marzo.loc[:, 'P6460'] == 2 #A término fijo\n",
        "df_in1= Base_marzo.loc[cont1]\n",
        "sum(df_in1['P6424S2'] == 1) #SI RECIBE PRIMA DE NAVIDAD"
      ],
      "execution_count": null,
      "outputs": [
        {
          "output_type": "execute_result",
          "data": {
            "text/plain": [
              "189"
            ]
          },
          "metadata": {},
          "execution_count": 204
        }
      ]
    },
    {
      "cell_type": "markdown",
      "metadata": {
        "id": "2eiMzIOoGUlK"
      },
      "source": [
        "SE PUEDE DECIR QUE HAY 734 PERSONAS MAS QUE TIENEN DERECHO A RECIBIR SU PRIMA DE NAVIDAD POR TENER UN CONTRATO A TERMINO INDEFINIDO"
      ]
    },
    {
      "cell_type": "code",
      "metadata": {
        "colab": {
          "base_uri": "https://localhost:8080/"
        },
        "id": "shdUVVaoGUlK",
        "outputId": "d3ab4f26-aa97-4dfe-abb0-adc8c135683c"
      },
      "source": [
        "cont = Base_marzo.loc[:, 'P6460'] == 1 #A término Indefinido\n",
        "df_in= Base_marzo.loc[cont]\n",
        "sum(df_in['P6424S3'] == 1) #SI RECIBE CESANTIAS"
      ],
      "execution_count": null,
      "outputs": [
        {
          "output_type": "execute_result",
          "data": {
            "text/plain": [
              "3211"
            ]
          },
          "metadata": {},
          "execution_count": 205
        }
      ]
    },
    {
      "cell_type": "code",
      "metadata": {
        "colab": {
          "base_uri": "https://localhost:8080/"
        },
        "id": "a04ib91wGUlK",
        "outputId": "2a055cc3-9ee5-4a4f-c035-eea9321d191f"
      },
      "source": [
        "cont1 = Base_marzo.loc[:, 'P6460'] == 2 #A término fijo\n",
        "df_in1= Base_marzo.loc[cont1]\n",
        "sum(df_in1['P6424S3'] == 1) #SI RECIBE CESANTIAS"
      ],
      "execution_count": null,
      "outputs": [
        {
          "output_type": "execute_result",
          "data": {
            "text/plain": [
              "1209"
            ]
          },
          "metadata": {},
          "execution_count": 206
        }
      ]
    },
    {
      "cell_type": "markdown",
      "metadata": {
        "id": "HrD36as1GUlL"
      },
      "source": [
        "SE PUEDE DECIR QUE HAY 3.211 INDIVIDUOS QUE TIENEN UN CONTRATO A TERMINO INDEFINIDO TIENEN DERECHO A RECIBIR CESANTIAS, MIENTRAS QUIENES TRABAJAN A TERMINO FIJO NO LAS TIENEN."
      ]
    },
    {
      "cell_type": "markdown",
      "metadata": {
        "id": "x1Gc43P_GUlL"
      },
      "source": [
        "YA SI SE REALIZA UN ENFOQUE HACIA AQUELLOS INDIVIDUOS DESOCUPADOS DE LA POBLACION ECONOMICAMENTE ACTIVA SE PUEDE HABLAR ACERCA DE UN DESEMPLEO ABIERTO EL CUAL INDICA LA PERMANECIA DE LA BUSQUEDA DE TRABAJO. SE DICE QUE, PARA LOS INDIVIDUOS QUE YA SUPERARON EL AÑO O LAS 52 SEMANAS DE ESTAR BUSCANDO EMPLEO ENTRAN EN LA CATEGORIA DE DESEMPLEO OCULTO. ES PROBABLE QUE ESTOS INDIVIDUOS CESEN Y PUEDAN LLEGAN A CLASIFICARSE DENTRO DE LA INACTIVIDAD. "
      ]
    },
    {
      "cell_type": "code",
      "metadata": {
        "colab": {
          "base_uri": "https://localhost:8080/"
        },
        "id": "tK3QKi34GUlM",
        "outputId": "1125df14-92db-4af9-c54f-7dc321ca77b7"
      },
      "source": [
        "#DESEMPLETO ABIERTO\n",
        "des = Base_marzo.loc[:, 'P7250'] <= 52  #DESEMPLEO ABIERTO\n",
        "DA = sum(des)\n",
        "DA\n"
      ],
      "execution_count": null,
      "outputs": [
        {
          "output_type": "execute_result",
          "data": {
            "text/plain": [
              "2114"
            ]
          },
          "metadata": {},
          "execution_count": 207
        }
      ]
    },
    {
      "cell_type": "code",
      "metadata": {
        "colab": {
          "base_uri": "https://localhost:8080/"
        },
        "id": "LwmuTfI7GUlM",
        "outputId": "3b484e2c-ce0a-4421-b0bf-181bed6e94fb"
      },
      "source": [
        "des1 = Base_marzo.loc[:, 'P7250'] > 52 #DESEMPLEO OCULTO\n",
        "DO = sum(des1)\n",
        "DO"
      ],
      "execution_count": null,
      "outputs": [
        {
          "output_type": "execute_result",
          "data": {
            "text/plain": [
              "182"
            ]
          },
          "metadata": {},
          "execution_count": 208
        }
      ]
    },
    {
      "cell_type": "markdown",
      "metadata": {
        "id": "4ovhn6aJGUlN"
      },
      "source": [
        "182 DE LAS 2.296 PERSONAS QUE SE ENCUENTRAN DESOCUPADAS PUEDEN LLEGAR A ENTRAR A LA INACTIVIDAD A CAUSA DE NO ENCONTRAR UN EMPLEO DESPUES DE PASADAS LAS 52 SEMANAS."
      ]
    },
    {
      "cell_type": "markdown",
      "metadata": {
        "id": "2Y4nNZ_bKv4J"
      },
      "source": [
        "#TASAS IMPORTANTES MARZO"
      ]
    },
    {
      "cell_type": "code",
      "metadata": {
        "colab": {
          "base_uri": "https://localhost:8080/"
        },
        "id": "P5liauA7Kv4J",
        "outputId": "1bffb826-e236-4f78-ed5a-91af1964b191"
      },
      "source": [
        "#TASA BRUTA DE PARTICIPACION\n",
        "TBP = PEA/PT\n",
        "(TBP)*100"
      ],
      "execution_count": null,
      "outputs": [
        {
          "output_type": "execute_result",
          "data": {
            "text/plain": [
              "51.49348810872028"
            ]
          },
          "metadata": {},
          "execution_count": 209
        }
      ]
    },
    {
      "cell_type": "markdown",
      "metadata": {
        "id": "wu3vFT9bKv4K"
      },
      "source": [
        "LA FUERZA LABORAL ESTIMADA REPRESENTADA EN COLOMBIA PARA ENERO DEL AÑO 2021 ES DEL 51,49%."
      ]
    },
    {
      "cell_type": "code",
      "metadata": {
        "colab": {
          "base_uri": "https://localhost:8080/"
        },
        "id": "y6LHqE_1Kv4L",
        "outputId": "43f53936-9c11-4625-b0c1-216b9a22a958"
      },
      "source": [
        "#TASA GLOBAL DE PARTICIPACION\n",
        "#EXCLUYE A LOS NIÑOS Y MENORES DE 12 AÑOS\n",
        "TGP = PEA/PET\n",
        "TGP*100"
      ],
      "execution_count": null,
      "outputs": [
        {
          "output_type": "execute_result",
          "data": {
            "text/plain": [
              "60.718607853774564"
            ]
          },
          "metadata": {},
          "execution_count": 210
        }
      ]
    },
    {
      "cell_type": "markdown",
      "metadata": {
        "id": "GJlyOBUzKv4L"
      },
      "source": [
        "LA FUERZA LABORAL ESTIMADA REPRESENTADA EN COLOMBIA PARA ENERO DEL AÑO 2021 ES DEL 60,71%. AQUI SE REFLEJA LA PRESION DE LA POBLACION SOBRE EL MERCADO LABORAL."
      ]
    },
    {
      "cell_type": "code",
      "metadata": {
        "colab": {
          "base_uri": "https://localhost:8080/"
        },
        "id": "u8MeZLBfKv4M",
        "outputId": "115837d3-2735-49eb-b8c4-6fff97e6771e"
      },
      "source": [
        "#TASA DESOCUPADOS\n",
        "TD = (D/PEA)*100\n",
        "TD\n"
      ],
      "execution_count": null,
      "outputs": [
        {
          "output_type": "execute_result",
          "data": {
            "text/plain": [
              "15.780068728522338"
            ]
          },
          "metadata": {},
          "execution_count": 66
        }
      ]
    },
    {
      "cell_type": "markdown",
      "metadata": {
        "id": "xB4yi-euKv4M"
      },
      "source": [
        "SE ESTIMA QUE EL 15.78% DE LA POBLACION ECONOMICAMENTE ACTIVA SE ENCUENTRA DESEMPLEADA."
      ]
    },
    {
      "cell_type": "code",
      "metadata": {
        "colab": {
          "base_uri": "https://localhost:8080/"
        },
        "id": "rjODUmboKv4N",
        "outputId": "4857f837-8065-4f3e-e178-5923487f750c"
      },
      "source": [
        "#TASA DESOCUPADOS OCULTOS\n",
        "TDO = (DO/PEA)*100\n",
        "TDO"
      ],
      "execution_count": null,
      "outputs": [
        {
          "output_type": "execute_result",
          "data": {
            "text/plain": [
              "1.2508591065292096"
            ]
          },
          "metadata": {},
          "execution_count": 67
        }
      ]
    },
    {
      "cell_type": "code",
      "metadata": {
        "colab": {
          "base_uri": "https://localhost:8080/"
        },
        "id": "CC5OTkwkKv4O",
        "outputId": "798cdc13-91d4-47bf-d36b-1b7f136d14c2"
      },
      "source": [
        "#TASA DESOCUPADOS ABIERTO\n",
        "TDA = (DA/PEA)*100\n",
        "TDA"
      ],
      "execution_count": null,
      "outputs": [
        {
          "output_type": "execute_result",
          "data": {
            "text/plain": [
              "14.529209621993127"
            ]
          },
          "metadata": {},
          "execution_count": 68
        }
      ]
    },
    {
      "cell_type": "code",
      "metadata": {
        "colab": {
          "base_uri": "https://localhost:8080/"
        },
        "id": "xHJ8RNIxKv4O",
        "outputId": "f04f06d7-2c13-497c-b1bf-8f9a40c0ddab"
      },
      "source": [
        "TDO + TDA"
      ],
      "execution_count": null,
      "outputs": [
        {
          "output_type": "execute_result",
          "data": {
            "text/plain": [
              "15.780068728522338"
            ]
          },
          "metadata": {},
          "execution_count": 69
        }
      ]
    },
    {
      "cell_type": "markdown",
      "metadata": {
        "id": "F9VfEqAIKv4P"
      },
      "source": [
        "SE ESTIMA QUE EL 1.25% DE LA POBLACION ECONOMICAMENTE ACTIVA SE ENCUENTRA EN DESEMPLEO OCULTO MIENTRAS QUE EL 14.52% SE ENCUENTRA EN DESEMPLEO ABIERTO. ESTO QUIERE DECIR QUE LA MAYORIA DE LA POBLACION DESOCUPADA ESTA PERMANENTEMENTE BUSCANDO UN TRABAJO."
      ]
    },
    {
      "cell_type": "code",
      "metadata": {
        "colab": {
          "base_uri": "https://localhost:8080/"
        },
        "id": "VQVDEzS1Kv4P",
        "outputId": "76e64780-232c-438f-b9e9-bcc6a6f111c9"
      },
      "source": [
        "#TASA DE OCUPACION\n",
        "TO = (O/PET)*100\n",
        "TO"
      ],
      "execution_count": null,
      "outputs": [
        {
          "output_type": "execute_result",
          "data": {
            "text/plain": [
              "51.13716980344698"
            ]
          },
          "metadata": {},
          "execution_count": 71
        }
      ]
    },
    {
      "cell_type": "markdown",
      "metadata": {
        "id": "T9j6GFUZKv4Q"
      },
      "source": [
        "SE ESTIMA QUE EL 51.13% DE LA POBLACION EN EDAD DE TRABAJAR SE ENCUENTRA OCUPADA O CON EMPLEO. "
      ]
    },
    {
      "cell_type": "code",
      "metadata": {
        "colab": {
          "base_uri": "https://localhost:8080/"
        },
        "id": "Efi4PZwOKv4Q",
        "outputId": "dacf533d-4525-493a-a933-57b5912bbe69"
      },
      "source": [
        "#TASA DE SUBEMPLEO\n",
        "TS = (S/PEA)*100\n",
        "TS"
      ],
      "execution_count": null,
      "outputs": [
        {
          "output_type": "execute_result",
          "data": {
            "text/plain": [
              "49.718213058419245"
            ]
          },
          "metadata": {},
          "execution_count": 211
        }
      ]
    },
    {
      "cell_type": "markdown",
      "metadata": {
        "id": "4t33XTfjKv4R"
      },
      "source": [
        "SE PUEDE ESTIMAR QUE EL 49.71% DE LA POBLACION ECONOMICAMENTE ACTIVA TIENEN UN TRABAJO INFORMAL O SON SUBEMPLEADOS."
      ]
    },
    {
      "cell_type": "markdown",
      "metadata": {
        "id": "Euh6VC0XNjhK"
      },
      "source": [
        "#DESCRIPCIÓN ECONÓMICA ABRIL"
      ]
    },
    {
      "cell_type": "markdown",
      "metadata": {
        "id": "f23M9146NjhK"
      },
      "source": [
        "La poblacion total para el mes de abril del año 2021 se divide especificamente en dos grupos. Para el primero se toma la poblacion menor de 12 años de edad donde se encontraron 4.338 menores. En el segundo grupo se seleccionaron las personas mayores E IGUALES a 12 años ya consideradas dentro de la poblacion en edad de trabajar (PET) donde se evidenciaron 24.173 individuos."
      ]
    },
    {
      "cell_type": "code",
      "metadata": {
        "colab": {
          "base_uri": "https://localhost:8080/"
        },
        "id": "ElWBE9iDNjhL",
        "outputId": "57867c2f-491a-4957-d708-a68e947cd1e2"
      },
      "source": [
        "#POBLACION MENOR DE 12 AÑOS\n",
        "edad_menores_abril = Base_abril.loc[:, 'P6040'] < 12\n",
        "sum(edad_menores_abril)"
      ],
      "execution_count": null,
      "outputs": [
        {
          "output_type": "execute_result",
          "data": {
            "text/plain": [
              "4338"
            ]
          },
          "metadata": {},
          "execution_count": 212
        }
      ]
    },
    {
      "cell_type": "code",
      "metadata": {
        "colab": {
          "base_uri": "https://localhost:8080/"
        },
        "id": "YPMrnnWCNjhM",
        "outputId": "36d2d3ef-ad82-4e89-dce1-bb7025e73da6"
      },
      "source": [
        "#POBLACION EN EDAD DE TRABAJAR\n",
        "edad_mayores_abril = Base_abril.loc[:, 'P6040'] >= 12\n",
        "PET = sum(edad_mayores_abril)\n",
        "PET"
      ],
      "execution_count": null,
      "outputs": [
        {
          "output_type": "execute_result",
          "data": {
            "text/plain": [
              "24173"
            ]
          },
          "metadata": {},
          "execution_count": 213
        }
      ]
    },
    {
      "cell_type": "code",
      "metadata": {
        "id": "-O__ZEwUNjhN",
        "colab": {
          "base_uri": "https://localhost:8080/"
        },
        "outputId": "ea712258-1d80-4e9b-843b-c96e675cb6d8"
      },
      "source": [
        "PT = 24173 + 4338\n",
        "PT"
      ],
      "execution_count": null,
      "outputs": [
        {
          "output_type": "execute_result",
          "data": {
            "text/plain": [
              "28511"
            ]
          },
          "metadata": {},
          "execution_count": 214
        }
      ]
    },
    {
      "cell_type": "markdown",
      "metadata": {
        "id": "YebUS8O8NjhO"
      },
      "source": [
        "Asi mismo, la poblacion en edad de trabajar (PET) puede dividirse en poblacion economicamente activa (PEA) y poblacion economicamente inactiva.\n",
        "Dentro de la PEA podemos hablar acerca de aquellos individuos que se encuentran desocupados y ocupados. "
      ]
    },
    {
      "cell_type": "code",
      "metadata": {
        "id": "1GRNBvjqNjhP",
        "colab": {
          "base_uri": "https://localhost:8080/"
        },
        "outputId": "0f721fe7-85fe-42e2-ee09-0626b04ea143"
      },
      "source": [
        "#POBLACION ECONOMICAMENTE ACTIVA [OCUPADOS]\n",
        "ocupados_abril = Base_abril.loc[:, 'Estado'] == 'Ocupados'\n",
        "O = sum(ocupados_abril)\n",
        "O"
      ],
      "execution_count": null,
      "outputs": [
        {
          "output_type": "execute_result",
          "data": {
            "text/plain": [
              "12108"
            ]
          },
          "metadata": {},
          "execution_count": 215
        }
      ]
    },
    {
      "cell_type": "code",
      "metadata": {
        "id": "EK6YRg89NjhQ",
        "colab": {
          "base_uri": "https://localhost:8080/"
        },
        "outputId": "0f10ca6c-2440-4314-ac08-c9bf6538650e"
      },
      "source": [
        "#POBLACION ECONOMICAMENTE ACTIVA [DESOCUPADOS]\n",
        "desocupados_abril = Base_abril.loc[:, 'Estado'] == 'Desocupados'\n",
        "D = sum(desocupados_abril)\n",
        "D"
      ],
      "execution_count": null,
      "outputs": [
        {
          "output_type": "execute_result",
          "data": {
            "text/plain": [
              "2346"
            ]
          },
          "metadata": {},
          "execution_count": 216
        }
      ]
    },
    {
      "cell_type": "code",
      "metadata": {
        "id": "pJpWixURNjhR",
        "colab": {
          "base_uri": "https://localhost:8080/"
        },
        "outputId": "5997080d-4336-4653-dd8e-4ed2a05218b0"
      },
      "source": [
        "#LA PEA SERIA IGUAL A \n",
        "PEA = 12108 + 2346\n",
        "PEA"
      ],
      "execution_count": null,
      "outputs": [
        {
          "output_type": "execute_result",
          "data": {
            "text/plain": [
              "14454"
            ]
          },
          "metadata": {},
          "execution_count": 217
        }
      ]
    },
    {
      "cell_type": "code",
      "metadata": {
        "id": "CdPaFuAbNjhS",
        "colab": {
          "base_uri": "https://localhost:8080/"
        },
        "outputId": "a2a19885-2578-48b6-b101-412976454d85"
      },
      "source": [
        "#POBLACION ECONOMICAMENTE INACTIVA\n",
        "inactivos_abril = Base_abril.loc[:, 'Estado'] == 'Inactivos'\n",
        "sum(inactivos_abril)"
      ],
      "execution_count": null,
      "outputs": [
        {
          "output_type": "execute_result",
          "data": {
            "text/plain": [
              "9719"
            ]
          },
          "metadata": {},
          "execution_count": 218
        }
      ]
    },
    {
      "cell_type": "code",
      "metadata": {
        "id": "FhAH-AHkNjhT",
        "colab": {
          "base_uri": "https://localhost:8080/"
        },
        "outputId": "31af0cd0-f5ac-4302-d44f-eae30efd84b6"
      },
      "source": [
        "12108 + 2346 + 9719 #COMPROBACION PET"
      ],
      "execution_count": null,
      "outputs": [
        {
          "output_type": "execute_result",
          "data": {
            "text/plain": [
              "24173"
            ]
          },
          "metadata": {},
          "execution_count": 219
        }
      ]
    },
    {
      "cell_type": "code",
      "metadata": {
        "id": "l3uq35lENjhU",
        "colab": {
          "base_uri": "https://localhost:8080/"
        },
        "outputId": "a7455d4a-f657-47ed-f296-12a641442579"
      },
      "source": [
        "niños = Base_abril.loc[:, 'P6040'] <= 12\n",
        "df_niños = Base_abril.loc[niños]\n",
        "sum(df_niños['Estado'] == 'Ocupados')"
      ],
      "execution_count": null,
      "outputs": [
        {
          "output_type": "execute_result",
          "data": {
            "text/plain": [
              "1"
            ]
          },
          "metadata": {},
          "execution_count": 220
        }
      ]
    },
    {
      "cell_type": "code",
      "metadata": {
        "id": "e4SuIF0SNjhV"
      },
      "source": [
        "#HAY 1 NIÑOS MENORES O IGUALES A 12 AÑOS QUE PUEDEN ENCONTRARSE COMPLETAMENTE EMPLEADOS O SUBEMPLEADOS PARA EL AÑO ABRIL DEL 2021."
      ],
      "execution_count": null,
      "outputs": []
    },
    {
      "cell_type": "code",
      "metadata": {
        "id": "fpAZWmEPNjhV",
        "colab": {
          "base_uri": "https://localhost:8080/"
        },
        "outputId": "b73d9fa6-4768-4cff-d7d2-2e437663a390"
      },
      "source": [
        "niños_d = Base_abril.loc[:, 'P6040'] <= 12\n",
        "df_niños_d = Base_abril.loc[niños_d]\n",
        "sum(df_niños_d['Estado'] == 'Desocupados')"
      ],
      "execution_count": null,
      "outputs": [
        {
          "output_type": "execute_result",
          "data": {
            "text/plain": [
              "0"
            ]
          },
          "metadata": {},
          "execution_count": 222
        }
      ]
    },
    {
      "cell_type": "code",
      "metadata": {
        "id": "0ELlLXPaNjhW",
        "colab": {
          "base_uri": "https://localhost:8080/"
        },
        "outputId": "472a1ae0-3319-44f0-f4ab-6f0a87a89ca4"
      },
      "source": [
        "niños_i = Base_abril.loc[:, 'P6040'] == 12\n",
        "df_niños_i = Base_abril.loc[niños_i]\n",
        "sum(df_niños_i['Estado'] == 'Inactivos')"
      ],
      "execution_count": null,
      "outputs": [
        {
          "output_type": "execute_result",
          "data": {
            "text/plain": [
              "417"
            ]
          },
          "metadata": {},
          "execution_count": 223
        }
      ]
    },
    {
      "cell_type": "markdown",
      "metadata": {
        "id": "FdmiBjlcNjhX"
      },
      "source": [
        "HAY 417 NIÑOS DE 12 AÑOS QUE ESTAN DENTRO DE LA POBLACION ECONOMICAMENTE INACTIVA YA QUE tienen edad de trabajar pero no necesitan hacerlo, no pueden o no están interesados en tener una ocupación remunerada"
      ]
    },
    {
      "cell_type": "markdown",
      "metadata": {
        "id": "D2wW2ZMNNjhX"
      },
      "source": [
        "LOS INDIVIDUOS QUE SE ENCONTRARON DENTRO DE LA POBLACION ECONOMICAMENTE ACTIVA Y QUE ESTAN OCUPADOS, ALGUNOS DE ELLOS PUEDEN DEDICARSE A SER COMPLETAMENTE EMPLEADOS, ES DECIR, AQUELLOS QUIENES CUENTAN CON UN CONTRATO LABORAL. POR OTRA PARTE, TAMBIEN EXISTEN LOS SUBEMPLEADOS QUIENES ESTAN DENTRO DE LA INFORMALIDAD Y PUEDEN GANAR MEJOR. ALGUNOS DE ELLOS SON EXPLOTADOS LABORALMENTE POR TRABAJAR MAS DE LAS HORAS ESTABLECIDAS SIENDO MAL REMUNERADOS. "
      ]
    },
    {
      "cell_type": "code",
      "metadata": {
        "id": "3zCNQhMqNjhY",
        "colab": {
          "base_uri": "https://localhost:8080/"
        },
        "outputId": "1d1e01f2-5baa-4bd7-c975-64c500367145"
      },
      "source": [
        "#DE ACUERDO A LA PREGUNTA ¿Para realizar este trabajo, tiene usted algún tipo de contrato? (verbal o escrito)\n",
        "#INDIVIDUOS QUE RESPONDIERON QUE SI:\n",
        "con = Base_abril.loc[:, 'P6440'] == 1\n",
        "sum(con)"
      ],
      "execution_count": null,
      "outputs": [
        {
          "output_type": "execute_result",
          "data": {
            "text/plain": [
              "7022"
            ]
          },
          "metadata": {},
          "execution_count": 224
        }
      ]
    },
    {
      "cell_type": "code",
      "metadata": {
        "id": "yKUP6V5SNjhY",
        "colab": {
          "base_uri": "https://localhost:8080/"
        },
        "outputId": "0b65c90f-2612-48db-bbd7-716e98a39e81"
      },
      "source": [
        "#INDIVIDUOS QUE RESPONDIERON NO A LA PREGUNTA:\n",
        "con2 = Base_abril.loc[:, 'P6440'] == 2\n",
        "sum(con2)"
      ],
      "execution_count": null,
      "outputs": [
        {
          "output_type": "execute_result",
          "data": {
            "text/plain": [
              "5086"
            ]
          },
          "metadata": {},
          "execution_count": 225
        }
      ]
    },
    {
      "cell_type": "markdown",
      "metadata": {
        "id": "PUCUhA-ENjhZ"
      },
      "source": [
        "UNA GRAN CANTIDAD DE INDIVIDUOS PERTENECEN O ESTAN RECIBIENDO INGRESOS POR MEDIO DE UN TRABAJO INFORMAL PARA ABRIL DEL AÑO 2021, sin embargo, para febrero de este año predominan los individuos que si tienen algun tipo de contrato "
      ]
    },
    {
      "cell_type": "code",
      "metadata": {
        "id": "SzwzwgsXNjha",
        "colab": {
          "base_uri": "https://localhost:8080/"
        },
        "outputId": "e85eb156-cc29-470c-d2c8-d2e9b288c6f6"
      },
      "source": [
        "con3 = Base_abril.loc[:, 'P6450'] == 1 #VERBAL\n",
        "sum(con3) "
      ],
      "execution_count": null,
      "outputs": [
        {
          "output_type": "execute_result",
          "data": {
            "text/plain": [
              "1991"
            ]
          },
          "metadata": {},
          "execution_count": 226
        }
      ]
    },
    {
      "cell_type": "code",
      "metadata": {
        "id": "iNMe_6a-Njha",
        "colab": {
          "base_uri": "https://localhost:8080/"
        },
        "outputId": "e5f1a9a6-6700-4b9f-a578-921ead65e85c"
      },
      "source": [
        "con4 = Base_abril.loc[:, 'P6450'] == 2 #ESCRITO\n",
        "sum(con4) "
      ],
      "execution_count": null,
      "outputs": [
        {
          "output_type": "execute_result",
          "data": {
            "text/plain": [
              "5024"
            ]
          },
          "metadata": {},
          "execution_count": 227
        }
      ]
    },
    {
      "cell_type": "markdown",
      "metadata": {
        "id": "tjQccmnyNjhb"
      },
      "source": [
        "1.991 INDIVIDUOS CUENTAN CON UN CONTRATO VERBAL, SOLAMENTE 5.024 PERSONAS DEL TOTAL DE LA POBLACION ECONOMICAMENTE ACTIVA (14.454) TIENEN UN TRABAJO FORMAL."
      ]
    },
    {
      "cell_type": "code",
      "metadata": {
        "id": "1pdZPWnxNjhb",
        "colab": {
          "base_uri": "https://localhost:8080/"
        },
        "outputId": "2271bb09-1994-4257-9138-1089f4a38e39"
      },
      "source": [
        "S = 5086 + 1991\n",
        "S"
      ],
      "execution_count": null,
      "outputs": [
        {
          "output_type": "execute_result",
          "data": {
            "text/plain": [
              "7077"
            ]
          },
          "metadata": {},
          "execution_count": 228
        }
      ]
    },
    {
      "cell_type": "markdown",
      "metadata": {
        "id": "tWlb9U6kNjhc"
      },
      "source": [
        "7.077 INDIVIDUOS NO CUENTAN CON UN TRABAJO FORMAL. HAY QUE TENER EN CUENTA QUE ALGUNOS DE ELLOS PUEDEN TRABAJAR EN EMPRESAS FAMILIARES.\n",
        "\n",
        "POR OTRA PARTE, SI HABLAMOS DE AQUELLOS QUE ESTAN OCUPADOS Y QUE SI CUENTAN CON UN CONTRATO..."
      ]
    },
    {
      "cell_type": "code",
      "metadata": {
        "id": "Qf9zK0FONjhe",
        "colab": {
          "base_uri": "https://localhost:8080/"
        },
        "outputId": "5bed391f-f4e4-48b4-b803-85309a69582d"
      },
      "source": [
        "#¿el contrato de trabajo de ... Es a término indefinido o a término fijo?\n",
        "cont = Base_abril.loc[:, 'P6460'] == 1 #A término Indefinido\n",
        "sum(cont) "
      ],
      "execution_count": null,
      "outputs": [
        {
          "output_type": "execute_result",
          "data": {
            "text/plain": [
              "3319"
            ]
          },
          "metadata": {},
          "execution_count": 229
        }
      ]
    },
    {
      "cell_type": "code",
      "metadata": {
        "id": "cy8_RXaMNjhf",
        "colab": {
          "base_uri": "https://localhost:8080/"
        },
        "outputId": "7d5cc0c8-688a-4cbb-cd75-586b474cfd15"
      },
      "source": [
        "cont1 = Base_abril.loc[:, 'P6460'] == 2 #A término fijo\n",
        "sum(cont1) "
      ],
      "execution_count": null,
      "outputs": [
        {
          "output_type": "execute_result",
          "data": {
            "text/plain": [
              "1692"
            ]
          },
          "metadata": {},
          "execution_count": 230
        }
      ]
    },
    {
      "cell_type": "markdown",
      "metadata": {
        "id": "u2JuQtPwNjhg"
      },
      "source": [
        "SE PUEDE EVIDENCIAR QUE 3.319 INDIVIDUOS TIENEN UN CONTRATO A TERMINO INDEFINIDO LO QUE LES PERMITE TENER UNA MAYOR DURACION EN SUS EMPLEOS.\n"
      ]
    },
    {
      "cell_type": "code",
      "metadata": {
        "id": "xivdFquANjhh"
      },
      "source": [
        "#El objeto de la pregunta es determinar que prestaciones recibe la persona de acuerdo con el contrato que tiene\n",
        "#actualmente."
      ],
      "execution_count": null,
      "outputs": []
    },
    {
      "cell_type": "code",
      "metadata": {
        "id": "FzWGBX-JNjhi",
        "colab": {
          "base_uri": "https://localhost:8080/"
        },
        "outputId": "94a9a0d3-1119-494b-a7c4-35026134bd47"
      },
      "source": [
        "#CONTRATO ESCRITO\n",
        "con4 = Base_abril.loc[:, 'P6450'] == 2 \n",
        "df_con3= Base_abril.loc[con4]\n",
        "sum(df_con3['P6424S1'] == 1) #SI RECIBE VACACIONES"
      ],
      "execution_count": null,
      "outputs": [
        {
          "output_type": "execute_result",
          "data": {
            "text/plain": [
              "4211"
            ]
          },
          "metadata": {},
          "execution_count": 232
        }
      ]
    },
    {
      "cell_type": "markdown",
      "metadata": {
        "id": "rnkbZJM-Njhk"
      },
      "source": [
        "APROXIMADAMENTE 4.211 PERSONAS DE 5.024 QUE TIENEN UN CONTRATO ESCRITO RECIBEN VACACIONES."
      ]
    },
    {
      "cell_type": "code",
      "metadata": {
        "id": "E3MmK5CGNjhl",
        "colab": {
          "base_uri": "https://localhost:8080/"
        },
        "outputId": "5b8aeca4-b34d-463d-a5a1-d450ba589f0b"
      },
      "source": [
        "#CONTRATO VERBAL\n",
        "con3 = Base_abril.loc[:, 'P6450'] == 1 \n",
        "df_con4= Base_abril.loc[con3]\n",
        "sum(df_con4['P6424S1'] == 2) #no reciben vacaciones"
      ],
      "execution_count": null,
      "outputs": [
        {
          "output_type": "execute_result",
          "data": {
            "text/plain": [
              "1853"
            ]
          },
          "metadata": {},
          "execution_count": 233
        }
      ]
    },
    {
      "cell_type": "markdown",
      "metadata": {
        "id": "zaovF49cNjhm"
      },
      "source": [
        "APROXIMADAMENTE 1.853 PERSONAS QUE TIENEN CONTRATOS VERBALES NO TIENEN DERECHO A VACACIONES CON SUELDO."
      ]
    },
    {
      "cell_type": "code",
      "metadata": {
        "id": "wLe3efNJNjhn",
        "colab": {
          "base_uri": "https://localhost:8080/"
        },
        "outputId": "92212b0b-b4c3-42b5-9ccc-9b3794496271"
      },
      "source": [
        "cont = Base_abril.loc[:, 'P6460'] == 1 #A término Indefinido\n",
        "df_in= Base_abril.loc[cont]\n",
        "sum(df_in['P6424S2'] == 1) #SI RECIBE PRIMA DE NAVIDAD"
      ],
      "execution_count": null,
      "outputs": [
        {
          "output_type": "execute_result",
          "data": {
            "text/plain": [
              "929"
            ]
          },
          "metadata": {},
          "execution_count": 234
        }
      ]
    },
    {
      "cell_type": "code",
      "metadata": {
        "id": "8TSufHRINjho",
        "colab": {
          "base_uri": "https://localhost:8080/"
        },
        "outputId": "09eda0d5-c708-4b08-829e-d5aa3d146931"
      },
      "source": [
        "cont1 = Base_abril.loc[:, 'P6460'] == 2 #A término fijo\n",
        "df_in1= Base_abril.loc[cont1]\n",
        "sum(df_in1['P6424S2'] == 1) #SI RECIBE PRIMA DE NAVIDAD"
      ],
      "execution_count": null,
      "outputs": [
        {
          "output_type": "execute_result",
          "data": {
            "text/plain": [
              "248"
            ]
          },
          "metadata": {},
          "execution_count": 235
        }
      ]
    },
    {
      "cell_type": "markdown",
      "metadata": {
        "id": "xMgXGDcWNjhp"
      },
      "source": [
        "SE PUEDE DECIR QUE HAY 681 PERSONAS MAS QUE TIENEN DERECHO A RECIBIR SU PRIMA DE NAVIDAD POR TENER UN CONTRATO A TERMINO INDEFINIDO"
      ]
    },
    {
      "cell_type": "code",
      "metadata": {
        "id": "Wvs_zFMkNjhq",
        "colab": {
          "base_uri": "https://localhost:8080/"
        },
        "outputId": "d19e2f85-8729-4bcd-ac03-4153f1bff095"
      },
      "source": [
        "cont = Base_abril.loc[:, 'P6460'] == 1 #A término Indefinido\n",
        "df_in= Base_abril.loc[cont]\n",
        "sum(df_in['P6424S3'] == 1) #SI RECIBE CESANTIAS"
      ],
      "execution_count": null,
      "outputs": [
        {
          "output_type": "execute_result",
          "data": {
            "text/plain": [
              "3162"
            ]
          },
          "metadata": {},
          "execution_count": 236
        }
      ]
    },
    {
      "cell_type": "code",
      "metadata": {
        "id": "IN9_2nPiNjhr",
        "colab": {
          "base_uri": "https://localhost:8080/"
        },
        "outputId": "391270bc-1e30-498e-f397-d5001e44c6da"
      },
      "source": [
        "cont1 = Base_abril.loc[:, 'P6460'] == 2 #A término fijo\n",
        "df_in1= Base_abril.loc[cont1]\n",
        "sum(df_in1['P6424S3'] == 1) #SI RECIBE CESANTIAS"
      ],
      "execution_count": null,
      "outputs": [
        {
          "output_type": "execute_result",
          "data": {
            "text/plain": [
              "1246"
            ]
          },
          "metadata": {},
          "execution_count": 237
        }
      ]
    },
    {
      "cell_type": "markdown",
      "metadata": {
        "id": "aY3mmYpuNjhs"
      },
      "source": [
        "SE PUEDE DECIR QUE HAY 3.162 INDIVIDUOS QUE TIENEN UN CONTRATO A TERMINO INDEFINIDO TIENEN DERECHO A RECIBIR CESANTIAS, MIENTRAS QUIENES TRABAJAN A TERMINO FIJO NO LAS TIENEN."
      ]
    },
    {
      "cell_type": "markdown",
      "metadata": {
        "id": "tsXpkiw8Njht"
      },
      "source": [
        "YA SI SE REALIZA UN ENFOQUE HACIA AQUELLOS INDIVIDUOS DESOCUPADOS DE LA POBLACION ECONOMICAMENTE ACTIVA SE PUEDE HABLAR ACERCA DE UN DESEMPLEO ABIERTO EL CUAL INDICA LA PERMANECIA DE LA BUSQUEDA DE TRABAJO. SE DICE QUE, PARA LOS INDIVIDUOS QUE YA SUPERARON EL AÑO O LAS 52 SEMANAS DE ESTAR BUSCANDO EMPLEO ENTRAN EN LA CATEGORIA DE DESEMPLEO OCULTO. ES PROBABLE QUE ESTOS INDIVIDUOS CESEN Y PUEDAN LLEGAN A CLASIFICARSE DENTRO DE LA INACTIVIDAD. "
      ]
    },
    {
      "cell_type": "code",
      "metadata": {
        "id": "vRKqC1N-Njht",
        "colab": {
          "base_uri": "https://localhost:8080/"
        },
        "outputId": "be725bfa-94cb-4cae-862e-ae6644b60113"
      },
      "source": [
        "#DESEMPLETO ABIERTO\n",
        "des = Base_abril.loc[:, 'P7250'] <= 52  #DESEMPLEO ABIERTO\n",
        "DA = sum(des)\n",
        "DA\n"
      ],
      "execution_count": null,
      "outputs": [
        {
          "output_type": "execute_result",
          "data": {
            "text/plain": [
              "2093"
            ]
          },
          "metadata": {},
          "execution_count": 238
        }
      ]
    },
    {
      "cell_type": "code",
      "metadata": {
        "id": "xDLsAdoSNjhu",
        "colab": {
          "base_uri": "https://localhost:8080/"
        },
        "outputId": "4e6a82f2-d434-43c4-eee3-46ecea3454b2"
      },
      "source": [
        "des1 = Base_abril.loc[:, 'P7250'] > 52 #DESEMPLEO OCULTO\n",
        "DO = sum(des1)\n",
        "DO"
      ],
      "execution_count": null,
      "outputs": [
        {
          "output_type": "execute_result",
          "data": {
            "text/plain": [
              "253"
            ]
          },
          "metadata": {},
          "execution_count": 239
        }
      ]
    },
    {
      "cell_type": "markdown",
      "metadata": {
        "id": "u3VaJN9hNjhv"
      },
      "source": [
        "253 DE LAS 2346 PERSONAS QUE SE ENCUENTRAN DESOCUPADAS PUEDEN LLEGAR A ENTRAR A LA INACTIVIDAD A CAUSA DE NO ENCONTRAR UN EMPLEO DESPUES DE PASADAS LAS 52 SEMANAS."
      ]
    },
    {
      "cell_type": "markdown",
      "metadata": {
        "id": "x0UU8BNJTg0t"
      },
      "source": [
        "#TASAS IMPORTANTES ABRIL"
      ]
    },
    {
      "cell_type": "code",
      "metadata": {
        "colab": {
          "base_uri": "https://localhost:8080/"
        },
        "id": "QzR5q8hDTg0u",
        "outputId": "8f2a444e-a6e7-4b5e-9183-f762910224e7"
      },
      "source": [
        "#TASA BRUTA DE PARTICIPACION\n",
        "TBP = PEA/PT\n",
        "(TBP)*100"
      ],
      "execution_count": null,
      "outputs": [
        {
          "output_type": "execute_result",
          "data": {
            "text/plain": [
              "50.69622251060994"
            ]
          },
          "metadata": {},
          "execution_count": 150
        }
      ]
    },
    {
      "cell_type": "markdown",
      "metadata": {
        "id": "KA-8xhMiTg0v"
      },
      "source": [
        "LA FUERZA LABORAL ESTIMADA REPRESENTADA EN COLOMBIA PARA ENERO DEL AÑO 2021 ES DEL 50,69%."
      ]
    },
    {
      "cell_type": "code",
      "metadata": {
        "colab": {
          "base_uri": "https://localhost:8080/"
        },
        "id": "LJigZtHRTg0w",
        "outputId": "c6907b9e-1e7c-49c0-991a-db569b6ffc40"
      },
      "source": [
        "#TASA GLOBAL DE PARTICIPACION\n",
        "#EXCLUYE A LOS NIÑOS Y MENORES DE 12 AÑOS\n",
        "TGP = PEA/PET\n",
        "TGP*100"
      ],
      "execution_count": null,
      "outputs": [
        {
          "output_type": "execute_result",
          "data": {
            "text/plain": [
              "59.79398502461424"
            ]
          },
          "metadata": {},
          "execution_count": 151
        }
      ]
    },
    {
      "cell_type": "markdown",
      "metadata": {
        "id": "Xjq7lj6ETg0x"
      },
      "source": [
        "LA FUERZA LABORAL ESTIMADA REPRESENTADA EN COLOMBIA PARA ENERO DEL AÑO 2021 ES DEL 59,79%. AQUI SE REFLEJA LA PRESION DE LA POBLACION SOBRE EL MERCADO LABORAL."
      ]
    },
    {
      "cell_type": "code",
      "metadata": {
        "colab": {
          "base_uri": "https://localhost:8080/"
        },
        "id": "ptjqcj1lTg0x",
        "outputId": "489ec7e6-45a5-4b5f-ffdb-1030376dbf71"
      },
      "source": [
        "#TASA DESOCUPADOS\n",
        "TD = (D/PEA)*100\n",
        "TD\n"
      ],
      "execution_count": null,
      "outputs": [
        {
          "output_type": "execute_result",
          "data": {
            "text/plain": [
              "16.230801162308012"
            ]
          },
          "metadata": {},
          "execution_count": 152
        }
      ]
    },
    {
      "cell_type": "markdown",
      "metadata": {
        "id": "gzlS9bkGTg0y"
      },
      "source": [
        "SE ESTIMA QUE EL 16.23% DE LA POBLACION ECONOMICAMENTE ACTIVA SE ENCUENTRA DESEMPLEADA."
      ]
    },
    {
      "cell_type": "code",
      "metadata": {
        "colab": {
          "base_uri": "https://localhost:8080/"
        },
        "id": "aDVwOSOLTg0y",
        "outputId": "0050498b-ab0a-4086-b64e-1f1b04471535"
      },
      "source": [
        "#TASA DESOCUPADOS OCULTOS\n",
        "TDO = (DO/PEA)*100\n",
        "TDO"
      ],
      "execution_count": null,
      "outputs": [
        {
          "output_type": "execute_result",
          "data": {
            "text/plain": [
              "1.750380517503805"
            ]
          },
          "metadata": {},
          "execution_count": 153
        }
      ]
    },
    {
      "cell_type": "code",
      "metadata": {
        "colab": {
          "base_uri": "https://localhost:8080/"
        },
        "id": "ORyjwzvJTg0z",
        "outputId": "0426ef63-a9b8-4ffb-8c5f-6c4c54f02911"
      },
      "source": [
        "#TASA DESOCUPADOS ABIERTO\n",
        "TDA = (DA/PEA)*100\n",
        "TDA"
      ],
      "execution_count": null,
      "outputs": [
        {
          "output_type": "execute_result",
          "data": {
            "text/plain": [
              "14.480420644804207"
            ]
          },
          "metadata": {},
          "execution_count": 154
        }
      ]
    },
    {
      "cell_type": "code",
      "metadata": {
        "colab": {
          "base_uri": "https://localhost:8080/"
        },
        "id": "1nqgYiDyTg01",
        "outputId": "07213a1b-fa48-42de-caee-8845fa9200f7"
      },
      "source": [
        "TDO + TDA"
      ],
      "execution_count": null,
      "outputs": [
        {
          "output_type": "execute_result",
          "data": {
            "text/plain": [
              "16.230801162308012"
            ]
          },
          "metadata": {},
          "execution_count": 155
        }
      ]
    },
    {
      "cell_type": "markdown",
      "metadata": {
        "id": "X6AnVzWCTg01"
      },
      "source": [
        "SE ESTIMA QUE El 1.75% DE LA POBLACION ECONOMICAMENTE ACTIVA SE ENCUENTRA EN DESEMPLEO OCULTO MIENTRAS QUE EL 14.48% SE ENCUENTRA EN DESEMPLEO ABIERTO. ESTO QUIERE DECIR QUE LA MAYORIA DE LA POBLACION DESOCUPADA ESTA PERMANENTEMENTE BUSCANDO UN TRABAJO."
      ]
    },
    {
      "cell_type": "code",
      "metadata": {
        "colab": {
          "base_uri": "https://localhost:8080/"
        },
        "id": "7DYPT9fKTg02",
        "outputId": "8f8cfb83-77e7-4c14-fceb-8cb19d67345c"
      },
      "source": [
        "#TASA DE OCUPACION\n",
        "TO = (O/PET)*100\n",
        "TO"
      ],
      "execution_count": null,
      "outputs": [
        {
          "output_type": "execute_result",
          "data": {
            "text/plain": [
              "50.088942208248874"
            ]
          },
          "metadata": {},
          "execution_count": 156
        }
      ]
    },
    {
      "cell_type": "markdown",
      "metadata": {
        "id": "UWyeji8uTg03"
      },
      "source": [
        "SE ESTIMA QUE EL 50.08% DE LA POBLACION EN EDAD DE TRABAJAR SE ENCUENTRA OCUPADA O CON EMPLEO. "
      ]
    },
    {
      "cell_type": "code",
      "metadata": {
        "colab": {
          "base_uri": "https://localhost:8080/"
        },
        "id": "TOurmC6JTg03",
        "outputId": "6daa6797-328c-48fc-ad15-e342f3e5981f"
      },
      "source": [
        "#TASA DE SUBEMPLEO\n",
        "TS = (S/PEA)*100\n",
        "TS"
      ],
      "execution_count": null,
      "outputs": [
        {
          "output_type": "execute_result",
          "data": {
            "text/plain": [
              "48.96222498962225"
            ]
          },
          "metadata": {},
          "execution_count": 157
        }
      ]
    },
    {
      "cell_type": "markdown",
      "metadata": {
        "id": "kRhzjZ6aTg04"
      },
      "source": [
        "SE PUEDE ESTIMAR QUE EL 48.96% DE LA POBLACION ECONOMICAMENTE ACTIVA TIENEN UN TRABAJO INFORMAL O SON SUBEMPLEADOS."
      ]
    },
    {
      "cell_type": "markdown",
      "metadata": {
        "id": "AN_zjcVIVhm8"
      },
      "source": [
        "#DESCRIPCIÓN ECONÓMICA MAYO"
      ]
    },
    {
      "cell_type": "markdown",
      "metadata": {
        "id": "-7ugTPqMVhm-"
      },
      "source": [
        "La poblacion total para el mes de mayo del año 2021 se divide especificamente en dos grupos. Para el primero se toma la poblacion menor de 12 años de edad donde se encontraron 4.464 menores. En el segundo grupo se seleccionaron las personas mayores E IGUALES a 12 años ya consideradas dentro de la poblacion en edad de trabajar (PET) donde se evidenciaron 23.898 individuos."
      ]
    },
    {
      "cell_type": "code",
      "metadata": {
        "colab": {
          "base_uri": "https://localhost:8080/"
        },
        "id": "HSSwuX-9Vhm-",
        "outputId": "ae6ada35-4b24-4187-a947-af1b90fa8e2d"
      },
      "source": [
        "#POBLACION MENOR DE 12 AÑOS\n",
        "edad_menores_mayo = Base_mayo.loc[:, 'P6040'] < 12\n",
        "sum(edad_menores_mayo)"
      ],
      "execution_count": null,
      "outputs": [
        {
          "output_type": "execute_result",
          "data": {
            "text/plain": [
              "4464"
            ]
          },
          "metadata": {},
          "execution_count": 143
        }
      ]
    },
    {
      "cell_type": "code",
      "metadata": {
        "colab": {
          "base_uri": "https://localhost:8080/"
        },
        "id": "7Egp0I7TVhnA",
        "outputId": "239de652-d57b-4fd7-9dc3-6b81aae32973"
      },
      "source": [
        "#POBLACION EN EDAD DE TRABAJAR\n",
        "edad_mayores_mayo = Base_mayo.loc[:, 'P6040'] >= 12\n",
        "PET = sum(edad_mayores_mayo)\n",
        "PET"
      ],
      "execution_count": null,
      "outputs": [
        {
          "output_type": "execute_result",
          "data": {
            "text/plain": [
              "23898"
            ]
          },
          "metadata": {},
          "execution_count": 144
        }
      ]
    },
    {
      "cell_type": "code",
      "metadata": {
        "colab": {
          "base_uri": "https://localhost:8080/"
        },
        "id": "7WLdmu1wVhnA",
        "outputId": "eed0c47f-1866-4255-bd4d-c2eaa835eb26"
      },
      "source": [
        "PT = 23898 + 4464\n",
        "PT"
      ],
      "execution_count": null,
      "outputs": [
        {
          "output_type": "execute_result",
          "data": {
            "text/plain": [
              "28362"
            ]
          },
          "metadata": {},
          "execution_count": 145
        }
      ]
    },
    {
      "cell_type": "code",
      "metadata": {
        "colab": {
          "base_uri": "https://localhost:8080/"
        },
        "id": "o3SC_oZUXEST",
        "outputId": "9efd687e-11a0-47f4-f514-6a9783f3aea1"
      },
      "source": [
        "Base_mayo.shape"
      ],
      "execution_count": null,
      "outputs": [
        {
          "output_type": "execute_result",
          "data": {
            "text/plain": [
              "(28362, 250)"
            ]
          },
          "metadata": {},
          "execution_count": 146
        }
      ]
    },
    {
      "cell_type": "markdown",
      "metadata": {
        "id": "5Oug4dUpVhnB"
      },
      "source": [
        "Asi mismo, la poblacion en edad de trabajar (PET) puede dividirse en poblacion economicamente activa (PEA) y poblacion economicamente inactiva.\n",
        "Dentro de la PEA podemos hablar acerca de aquellos individuos que se encuentran desocupados y ocupados. "
      ]
    },
    {
      "cell_type": "code",
      "metadata": {
        "colab": {
          "base_uri": "https://localhost:8080/"
        },
        "id": "MQRE2883VhnB",
        "outputId": "60b667f8-92f3-4266-b647-ae1c4e8da8fe"
      },
      "source": [
        "#POBLACION ECONOMICAMENTE ACTIVA [OCUPADOS]\n",
        "ocupados_mayo = Base_mayo.loc[:, 'Estado'] == 'Ocupados'\n",
        "O = sum(ocupados_mayo)\n",
        "O"
      ],
      "execution_count": null,
      "outputs": [
        {
          "output_type": "execute_result",
          "data": {
            "text/plain": [
              "12134"
            ]
          },
          "metadata": {},
          "execution_count": 147
        }
      ]
    },
    {
      "cell_type": "code",
      "metadata": {
        "colab": {
          "base_uri": "https://localhost:8080/"
        },
        "id": "kQKzL9K-VhnC",
        "outputId": "e23fc550-9d33-47f2-f7d0-ddf510ba8e07"
      },
      "source": [
        "#POBLACION ECONOMICAMENTE ACTIVA [DESOCUPADOS]\n",
        "desocupados_mayo = Base_mayo.loc[:, 'Estado'] == 'Desocupados'\n",
        "D = sum(desocupados_mayo)\n",
        "D"
      ],
      "execution_count": null,
      "outputs": [
        {
          "output_type": "execute_result",
          "data": {
            "text/plain": [
              "2292"
            ]
          },
          "metadata": {},
          "execution_count": 148
        }
      ]
    },
    {
      "cell_type": "code",
      "metadata": {
        "colab": {
          "base_uri": "https://localhost:8080/"
        },
        "id": "N45w8mKBVhnD",
        "outputId": "e74f0337-9a1d-4934-ff51-3cf90378982f"
      },
      "source": [
        "#LA PEA SERIA IGUAL A \n",
        "PEA = 12134 + 2292\n",
        "PEA"
      ],
      "execution_count": null,
      "outputs": [
        {
          "output_type": "execute_result",
          "data": {
            "text/plain": [
              "14426"
            ]
          },
          "metadata": {},
          "execution_count": 149
        }
      ]
    },
    {
      "cell_type": "code",
      "metadata": {
        "colab": {
          "base_uri": "https://localhost:8080/"
        },
        "id": "t0TlG1sEVhnD",
        "outputId": "5d7e048d-2fff-4302-fd5e-2ee58be008eb"
      },
      "source": [
        "#POBLACION ECONOMICAMENTE INACTIVA\n",
        "inactivos_mayo = Base_mayo.loc[:, 'Estado'] == 'Inactivos'\n",
        "sum(inactivos_mayo)"
      ],
      "execution_count": null,
      "outputs": [
        {
          "output_type": "execute_result",
          "data": {
            "text/plain": [
              "9472"
            ]
          },
          "metadata": {},
          "execution_count": 150
        }
      ]
    },
    {
      "cell_type": "code",
      "metadata": {
        "colab": {
          "base_uri": "https://localhost:8080/"
        },
        "id": "3cNkECFIVhnE",
        "outputId": "acb35db4-d0d4-4b99-b205-d89d3cf12269"
      },
      "source": [
        "12134 + 2292 + 9472 #COMPROBACION PET"
      ],
      "execution_count": null,
      "outputs": [
        {
          "output_type": "execute_result",
          "data": {
            "text/plain": [
              "23898"
            ]
          },
          "metadata": {},
          "execution_count": 151
        }
      ]
    },
    {
      "cell_type": "code",
      "metadata": {
        "colab": {
          "base_uri": "https://localhost:8080/"
        },
        "id": "imlA-dqDVhnF",
        "outputId": "93548ded-2af8-4fe5-d5ca-03f1997372f3"
      },
      "source": [
        "niños = Base_mayo.loc[:, 'P6040'] <= 12\n",
        "df_niños = Base_mayo.loc[niños]\n",
        "sum(df_niños['Estado'] == 'Ocupados')"
      ],
      "execution_count": null,
      "outputs": [
        {
          "output_type": "execute_result",
          "data": {
            "text/plain": [
              "3"
            ]
          },
          "metadata": {},
          "execution_count": 152
        }
      ]
    },
    {
      "cell_type": "code",
      "metadata": {
        "id": "HjTyGiDWVhnF"
      },
      "source": [
        "#HAY 3 NIÑOS MENORES O IGUALES A 12 AÑOS QUE PUEDEN ENCONTRARSE COMPLETAMENTE EMPLEADOS O SUBEMPLEADOS PARA EL AÑO MAYO DEL 2021."
      ],
      "execution_count": null,
      "outputs": []
    },
    {
      "cell_type": "code",
      "metadata": {
        "colab": {
          "base_uri": "https://localhost:8080/"
        },
        "id": "k0Lt95n8VhnG",
        "outputId": "a315341a-d18a-412a-b43b-ba6dad914701"
      },
      "source": [
        "niños_d = Base_mayo.loc[:, 'P6040'] <= 12\n",
        "df_niños_d = Base_mayo.loc[niños_d]\n",
        "sum(df_niños_d['Estado'] == 'Desocupados')"
      ],
      "execution_count": null,
      "outputs": [
        {
          "output_type": "execute_result",
          "data": {
            "text/plain": [
              "0"
            ]
          },
          "metadata": {},
          "execution_count": 154
        }
      ]
    },
    {
      "cell_type": "code",
      "metadata": {
        "colab": {
          "base_uri": "https://localhost:8080/"
        },
        "id": "xOPBwid4VhnG",
        "outputId": "ec3ca112-9983-4ef2-f002-eed9b9531d61"
      },
      "source": [
        "niños_i = Base_mayo.loc[:, 'P6040'] == 12\n",
        "df_niños_i = Base_mayo.loc[niños_i]\n",
        "sum(df_niños_i['Estado'] == 'Inactivos')"
      ],
      "execution_count": null,
      "outputs": [
        {
          "output_type": "execute_result",
          "data": {
            "text/plain": [
              "411"
            ]
          },
          "metadata": {},
          "execution_count": 155
        }
      ]
    },
    {
      "cell_type": "markdown",
      "metadata": {
        "id": "L-KiW0ekVhnH"
      },
      "source": [
        "HAY 411 NIÑOS DE 12 AÑOS QUE ESTAN DENTRO DE LA POBLACION ECONOMICAMENTE INACTIVA YA QUE tienen edad de trabajar pero no necesitan hacerlo, no pueden o no están interesados en tener una ocupación remunerada"
      ]
    },
    {
      "cell_type": "markdown",
      "metadata": {
        "id": "UppB8wH2VhnH"
      },
      "source": [
        "LOS INDIVIDUOS QUE SE ENCONTRARON DENTRO DE LA POBLACION ECONOMICAMENTE ACTIVA Y QUE ESTAN OCUPADOS, ALGUNOS DE ELLOS PUEDEN DEDICARSE A SER COMPLETAMENTE EMPLEADOS, ES DECIR, AQUELLOS QUIENES CUENTAN CON UN CONTRATO LABORAL. POR OTRA PARTE, TAMBIEN EXISTEN LOS SUBEMPLEADOS QUIENES ESTAN DENTRO DE LA INFORMALIDAD Y PUEDEN GANAR MEJOR. ALGUNOS DE ELLOS SON EXPLOTADOS LABORALMENTE POR TRABAJAR MAS DE LAS HORAS ESTABLECIDAS SIENDO MAL REMUNERADOS. "
      ]
    },
    {
      "cell_type": "code",
      "metadata": {
        "colab": {
          "base_uri": "https://localhost:8080/"
        },
        "id": "COxAsfsZVhnI",
        "outputId": "de50a16a-a025-4749-89c2-a5227db33b30"
      },
      "source": [
        "#DE ACUERDO A LA PREGUNTA ¿Para realizar este trabajo, tiene usted algún tipo de contrato? (verbal o escrito)\n",
        "#INDIVIDUOS QUE RESPONDIERON QUE SI:\n",
        "con = Base_mayo.loc[:, 'P6440'] == 1\n",
        "sum(con)"
      ],
      "execution_count": null,
      "outputs": [
        {
          "output_type": "execute_result",
          "data": {
            "text/plain": [
              "7028"
            ]
          },
          "metadata": {},
          "execution_count": 156
        }
      ]
    },
    {
      "cell_type": "code",
      "metadata": {
        "colab": {
          "base_uri": "https://localhost:8080/"
        },
        "id": "k7BkQ3uUVhnJ",
        "outputId": "8db4d71c-f611-4a79-aca5-f01823aa3e8b"
      },
      "source": [
        "#INDIVIDUOS QUE RESPONDIERON NO A LA PREGUNTA:\n",
        "con2 = Base_mayo.loc[:, 'P6440'] == 2\n",
        "sum(con2)"
      ],
      "execution_count": null,
      "outputs": [
        {
          "output_type": "execute_result",
          "data": {
            "text/plain": [
              "5106"
            ]
          },
          "metadata": {},
          "execution_count": 157
        }
      ]
    },
    {
      "cell_type": "markdown",
      "metadata": {
        "id": "OOOprq5xVhnJ"
      },
      "source": [
        "UNA GRAN CANTIDAD DE INDIVIDUOS PERTENECEN O ESTAN RECIBIENDO INGRESOS POR MEDIO DE UN TRABAJO INFORMAL PARA MAYO DEL AÑO 2021, sin embargo, para febrero de este año predominan los individuos que si tienen algun tipo de contrato "
      ]
    },
    {
      "cell_type": "code",
      "metadata": {
        "colab": {
          "base_uri": "https://localhost:8080/"
        },
        "id": "b7-7kYpeVhnK",
        "outputId": "d304d365-1917-4037-e227-7a106068a33b"
      },
      "source": [
        "con3 = Base_mayo.loc[:, 'P6450'] == 1 #VERBAL\n",
        "sum(con3) "
      ],
      "execution_count": null,
      "outputs": [
        {
          "output_type": "execute_result",
          "data": {
            "text/plain": [
              "1931"
            ]
          },
          "metadata": {},
          "execution_count": 158
        }
      ]
    },
    {
      "cell_type": "code",
      "metadata": {
        "colab": {
          "base_uri": "https://localhost:8080/"
        },
        "id": "ILhYj4oaVhnK",
        "outputId": "dab9d888-ecec-429c-ea63-8ccabaa41882"
      },
      "source": [
        "con4 = Base_mayo.loc[:, 'P6450'] == 2 #ESCRITO\n",
        "sum(con4) "
      ],
      "execution_count": null,
      "outputs": [
        {
          "output_type": "execute_result",
          "data": {
            "text/plain": [
              "5093"
            ]
          },
          "metadata": {},
          "execution_count": 159
        }
      ]
    },
    {
      "cell_type": "markdown",
      "metadata": {
        "id": "jpOsLeuwVhnL"
      },
      "source": [
        "1.931 INDIVIDUOS CUENTAN CON UN CONTRATO VERBAL, SOLAMENTE 5.093 PERSONAS DEL TOTAL DE LA POBLACION ECONOMICAMENTE ACTIVA (14.426) TIENEN UN TRABAJO FORMAL."
      ]
    },
    {
      "cell_type": "code",
      "metadata": {
        "colab": {
          "base_uri": "https://localhost:8080/"
        },
        "id": "R_H6_o5YVhnM",
        "outputId": "5272226b-0c44-4aac-95d0-414ab394621c"
      },
      "source": [
        "S = 5106 + 1931\n",
        "S"
      ],
      "execution_count": null,
      "outputs": [
        {
          "output_type": "execute_result",
          "data": {
            "text/plain": [
              "7037"
            ]
          },
          "metadata": {},
          "execution_count": 160
        }
      ]
    },
    {
      "cell_type": "markdown",
      "metadata": {
        "id": "eO0azJplVhnN"
      },
      "source": [
        "7037 INDIVIDUOS NO CUENTAN CON UN TRABAJO FORMAL. HAY QUE TENER EN CUENTA QUE ALGUNOS DE ELLOS PUEDEN TRABAJAR EN EMPRESAS FAMILIARES.\n",
        "\n",
        "POR OTRA PARTE, SI HABLAMOS DE AQUELLOS QUE ESTAN OCUPADOS Y QUE SI CUENTAN CON UN CONTRATO..."
      ]
    },
    {
      "cell_type": "code",
      "metadata": {
        "colab": {
          "base_uri": "https://localhost:8080/"
        },
        "id": "Y_dhQKH7VhnN",
        "outputId": "369b3189-62d0-475e-c6e9-da9666963af4"
      },
      "source": [
        "#¿el contrato de trabajo de ... Es a término indefinido o a término fijo?\n",
        "cont = Base_mayo.loc[:, 'P6460'] == 1 #A término Indefinido\n",
        "sum(cont) "
      ],
      "execution_count": null,
      "outputs": [
        {
          "output_type": "execute_result",
          "data": {
            "text/plain": [
              "3447"
            ]
          },
          "metadata": {},
          "execution_count": 161
        }
      ]
    },
    {
      "cell_type": "code",
      "metadata": {
        "colab": {
          "base_uri": "https://localhost:8080/"
        },
        "id": "dEH845BPVhnO",
        "outputId": "dc43c1c9-ebb9-492e-faf6-d52c5fd57b9c"
      },
      "source": [
        "cont1 = Base_mayo.loc[:, 'P6460'] == 2 #A término fijo\n",
        "sum(cont1) "
      ],
      "execution_count": null,
      "outputs": [
        {
          "output_type": "execute_result",
          "data": {
            "text/plain": [
              "1641"
            ]
          },
          "metadata": {},
          "execution_count": 162
        }
      ]
    },
    {
      "cell_type": "markdown",
      "metadata": {
        "id": "1Nu9daXnVhnO"
      },
      "source": [
        "SE PUEDE EVIDENCIAR QUE 3.477 INDIVIDUOS TIENEN UN CONTRATO A TERMINO INDEFINIDO LO QUE LES PERMITE TENER UNA MAYOR DURACION EN SUS EMPLEOS.\n"
      ]
    },
    {
      "cell_type": "code",
      "metadata": {
        "id": "ee86b8LfVhnP"
      },
      "source": [
        "#El objeto de la pregunta es determinar que prestaciones recibe la persona de acuerdo con el contrato que tiene\n",
        "#actualmente."
      ],
      "execution_count": null,
      "outputs": []
    },
    {
      "cell_type": "code",
      "metadata": {
        "colab": {
          "base_uri": "https://localhost:8080/"
        },
        "id": "zULFRFc6VhnP",
        "outputId": "07a42c68-75c4-433f-84cc-79aa9090355e"
      },
      "source": [
        "#CONTRATO ESCRITO\n",
        "con4 = Base_mayo.loc[:, 'P6450'] == 2 \n",
        "df_con3= Base_mayo.loc[con4]\n",
        "sum(df_con3['P6424S1'] == 1) #SI RECIBE VACACIONES"
      ],
      "execution_count": null,
      "outputs": [
        {
          "output_type": "execute_result",
          "data": {
            "text/plain": [
              "4266"
            ]
          },
          "metadata": {},
          "execution_count": 164
        }
      ]
    },
    {
      "cell_type": "markdown",
      "metadata": {
        "id": "jRA0m_cHVhnP"
      },
      "source": [
        "APROXIMADAMENTE 4.266 PERSONAS DE 5.093 QUE TIENEN UN CONTRATO ESCRITO RECIBEN VACACIONES."
      ]
    },
    {
      "cell_type": "code",
      "metadata": {
        "colab": {
          "base_uri": "https://localhost:8080/"
        },
        "id": "Pe_k5Dp7VhnQ",
        "outputId": "188a9046-59eb-4ae0-8a1a-89c643cb2a97"
      },
      "source": [
        "#CONTRATO VERBAL\n",
        "con3 = Base_mayo.loc[:, 'P6450'] == 1 \n",
        "df_con4= Base_mayo.loc[con3]\n",
        "sum(df_con4['P6424S1'] == 2) #no reciben vacaciones"
      ],
      "execution_count": null,
      "outputs": [
        {
          "output_type": "execute_result",
          "data": {
            "text/plain": [
              "1776"
            ]
          },
          "metadata": {},
          "execution_count": 165
        }
      ]
    },
    {
      "cell_type": "markdown",
      "metadata": {
        "id": "5XplZTtbVhnQ"
      },
      "source": [
        "APROXIMADAMENTE 1.776 PERSONAS QUE TIENEN CONTRATOS VERBALES NO TIENEN DERECHO A VACACIONES CON SUELDO."
      ]
    },
    {
      "cell_type": "code",
      "metadata": {
        "colab": {
          "base_uri": "https://localhost:8080/"
        },
        "id": "vZWkbzCQVhnR",
        "outputId": "a3320e7f-7c27-4041-a10d-392f5b551eff"
      },
      "source": [
        "cont = Base_mayo.loc[:, 'P6460'] == 1 #A término Indefinido\n",
        "df_in= Base_mayo.loc[cont]\n",
        "sum(df_in['P6424S2'] == 1) #SI RECIBE PRIMA DE NAVIDAD"
      ],
      "execution_count": null,
      "outputs": [
        {
          "output_type": "execute_result",
          "data": {
            "text/plain": [
              "931"
            ]
          },
          "metadata": {},
          "execution_count": 166
        }
      ]
    },
    {
      "cell_type": "code",
      "metadata": {
        "colab": {
          "base_uri": "https://localhost:8080/"
        },
        "id": "D3dg33AvVhnS",
        "outputId": "c1f8a6e6-6f1a-435b-a5d1-d7d9facf9e01"
      },
      "source": [
        "cont1 = Base_mayo.loc[:, 'P6460'] == 2 #A término fijo\n",
        "df_in1= Base_mayo.loc[cont1]\n",
        "sum(df_in1['P6424S2'] == 1) #SI RECIBE PRIMA DE NAVIDAD"
      ],
      "execution_count": null,
      "outputs": [
        {
          "output_type": "execute_result",
          "data": {
            "text/plain": [
              "184"
            ]
          },
          "metadata": {},
          "execution_count": 167
        }
      ]
    },
    {
      "cell_type": "code",
      "metadata": {
        "colab": {
          "base_uri": "https://localhost:8080/"
        },
        "id": "09IBZE7wYoA2",
        "outputId": "298ddae9-58dd-439a-be67-f9fff4a7ea87"
      },
      "source": [
        "931 - 184"
      ],
      "execution_count": null,
      "outputs": [
        {
          "output_type": "execute_result",
          "data": {
            "text/plain": [
              "747"
            ]
          },
          "metadata": {},
          "execution_count": 168
        }
      ]
    },
    {
      "cell_type": "markdown",
      "metadata": {
        "id": "gbUgcoNMVhnT"
      },
      "source": [
        "SE PUEDE DECIR QUE HAY 747 PERSONAS MAS QUE TIENEN DERECHO A RECIBIR SU PRIMA DE NAVIDAD POR TENER UN CONTRATO A TERMINO INDEFINIDO"
      ]
    },
    {
      "cell_type": "code",
      "metadata": {
        "colab": {
          "base_uri": "https://localhost:8080/"
        },
        "id": "eb1fWOV_VhnT",
        "outputId": "1d5179fa-c011-4fec-f1e4-d803c913e1f9"
      },
      "source": [
        "cont = Base_mayo.loc[:, 'P6460'] == 1 #A término Indefinido\n",
        "df_in= Base_mayo.loc[cont]\n",
        "sum(df_in['P6424S3'] == 1) #SI RECIBE CESANTIAS"
      ],
      "execution_count": null,
      "outputs": [
        {
          "output_type": "execute_result",
          "data": {
            "text/plain": [
              "3317"
            ]
          },
          "metadata": {},
          "execution_count": 169
        }
      ]
    },
    {
      "cell_type": "code",
      "metadata": {
        "colab": {
          "base_uri": "https://localhost:8080/"
        },
        "id": "3O1RHiXVVhnU",
        "outputId": "7a3a6a9f-313e-44c5-9d1b-f69fb54cf28f"
      },
      "source": [
        "cont1 = Base_mayo.loc[:, 'P6460'] == 2 #A término fijo\n",
        "df_in1= Base_mayo.loc[cont1]\n",
        "sum(df_in1['P6424S3'] == 1) #SI RECIBE CESANTIAS"
      ],
      "execution_count": null,
      "outputs": [
        {
          "output_type": "execute_result",
          "data": {
            "text/plain": [
              "1171"
            ]
          },
          "metadata": {},
          "execution_count": 170
        }
      ]
    },
    {
      "cell_type": "markdown",
      "metadata": {
        "id": "-l2hpFkmVhnU"
      },
      "source": [
        "SE PUEDE DECIR QUE HAY 3.317 INDIVIDUOS QUE TIENEN UN CONTRATO A TERMINO INDEFINIDO TIENEN DERECHO A RECIBIR CESANTIAS, MIENTRAS QUIENES TRABAJAN A TERMINO FIJO NO LAS TIENEN."
      ]
    },
    {
      "cell_type": "markdown",
      "metadata": {
        "id": "o6hKYnNpVhnV"
      },
      "source": [
        "YA SI SE REALIZA UN ENFOQUE HACIA AQUELLOS INDIVIDUOS DESOCUPADOS DE LA POBLACION ECONOMICAMENTE ACTIVA SE PUEDE HABLAR ACERCA DE UN DESEMPLEO ABIERTO EL CUAL INDICA LA PERMANECIA DE LA BUSQUEDA DE TRABAJO. SE DICE QUE, PARA LOS INDIVIDUOS QUE YA SUPERARON EL AÑO O LAS 52 SEMANAS DE ESTAR BUSCANDO EMPLEO ENTRAN EN LA CATEGORIA DE DESEMPLEO OCULTO. ES PROBABLE QUE ESTOS INDIVIDUOS CESEN Y PUEDAN LLEGAN A CLASIFICARSE DENTRO DE LA INACTIVIDAD. "
      ]
    },
    {
      "cell_type": "code",
      "metadata": {
        "colab": {
          "base_uri": "https://localhost:8080/"
        },
        "id": "3w8vAPwtVhnV",
        "outputId": "37581444-7de4-40d8-aadb-515dd86d998b"
      },
      "source": [
        "#DESEMPLETO ABIERTO\n",
        "des = Base_mayo.loc[:, 'P7250'] <= 52  #DESEMPLEO ABIERTO\n",
        "DA = sum(des)\n",
        "DA\n"
      ],
      "execution_count": null,
      "outputs": [
        {
          "output_type": "execute_result",
          "data": {
            "text/plain": [
              "2000"
            ]
          },
          "metadata": {},
          "execution_count": 171
        }
      ]
    },
    {
      "cell_type": "code",
      "metadata": {
        "colab": {
          "base_uri": "https://localhost:8080/"
        },
        "id": "Mxkx444yVhnW",
        "outputId": "74e3c266-bf8e-441c-fd83-c9235b03ef23"
      },
      "source": [
        "des1 = Base_mayo.loc[:, 'P7250'] > 52 #DESEMPLEO OCULTO\n",
        "DO = sum(des1)\n",
        "DO"
      ],
      "execution_count": null,
      "outputs": [
        {
          "output_type": "execute_result",
          "data": {
            "text/plain": [
              "292"
            ]
          },
          "metadata": {},
          "execution_count": 172
        }
      ]
    },
    {
      "cell_type": "markdown",
      "metadata": {
        "id": "3C8gZ7VUVhnX"
      },
      "source": [
        "292 DE LAS 2.292 PERSONAS QUE SE ENCUENTRAN DESOCUPADAS PUEDEN LLEGAR A ENTRAR A LA INACTIVIDAD A CAUSA DE NO ENCONTRAR UN EMPLEO DESPUES DE PASADAS LAS 52 SEMANAS."
      ]
    },
    {
      "cell_type": "markdown",
      "metadata": {
        "id": "PuNWDioCZGjo"
      },
      "source": [
        "#TASAS IMPORTANTES MAYO"
      ]
    },
    {
      "cell_type": "code",
      "metadata": {
        "colab": {
          "base_uri": "https://localhost:8080/"
        },
        "id": "j9YlMSH9ZGjp",
        "outputId": "08f59683-fad3-4619-f7a4-421cb9663e3c"
      },
      "source": [
        "#TASA BRUTA DE PARTICIPACION\n",
        "TBP = PEA/PT\n",
        "(TBP)*100"
      ],
      "execution_count": null,
      "outputs": [
        {
          "output_type": "execute_result",
          "data": {
            "text/plain": [
              "50.863831887737106"
            ]
          },
          "metadata": {},
          "execution_count": 173
        }
      ]
    },
    {
      "cell_type": "markdown",
      "metadata": {
        "id": "Ilc6fvcSZGjs"
      },
      "source": [
        "LA FUERZA LABORAL ESTIMADA REPRESENTADA EN COLOMBIA PARA ENERO DEL AÑO 2021 ES DEL 50,86%."
      ]
    },
    {
      "cell_type": "code",
      "metadata": {
        "colab": {
          "base_uri": "https://localhost:8080/"
        },
        "id": "qkzhKKZAZGjs",
        "outputId": "403cec7c-4c4c-4039-bea1-b80212053b99"
      },
      "source": [
        "#TASA GLOBAL DE PARTICIPACION\n",
        "#EXCLUYE A LOS NIÑOS Y MENORES DE 12 AÑOS\n",
        "TGP = PEA/PET\n",
        "TGP*100"
      ],
      "execution_count": null,
      "outputs": [
        {
          "output_type": "execute_result",
          "data": {
            "text/plain": [
              "60.36488409071888"
            ]
          },
          "metadata": {},
          "execution_count": 174
        }
      ]
    },
    {
      "cell_type": "markdown",
      "metadata": {
        "id": "yBF4DchmZGju"
      },
      "source": [
        "LA FUERZA LABORAL ESTIMADA REPRESENTADA EN COLOMBIA PARA ENERO DEL AÑO 2021 ES DEL 60,36%. AQUI SE REFLEJA LA PRESION DE LA POBLACION SOBRE EL MERCADO LABORAL."
      ]
    },
    {
      "cell_type": "code",
      "metadata": {
        "colab": {
          "base_uri": "https://localhost:8080/"
        },
        "id": "YDKYlRz4ZGjv",
        "outputId": "f5217b96-a1d7-4789-85c3-94ffa4706ed7"
      },
      "source": [
        "#TASA DESOCUPADOS\n",
        "TD = (D/PEA)*100\n",
        "TD\n"
      ],
      "execution_count": null,
      "outputs": [
        {
          "output_type": "execute_result",
          "data": {
            "text/plain": [
              "15.887980036046029"
            ]
          },
          "metadata": {},
          "execution_count": 175
        }
      ]
    },
    {
      "cell_type": "markdown",
      "metadata": {
        "id": "kUXPSOtTZGjw"
      },
      "source": [
        "SE ESTIMA QUE EL 15.88% DE LA POBLACION ECONOMICAMENTE ACTIVA SE ENCUENTRA DESEMPLEADA."
      ]
    },
    {
      "cell_type": "code",
      "metadata": {
        "colab": {
          "base_uri": "https://localhost:8080/"
        },
        "id": "VaoB3UbrZGjx",
        "outputId": "6ee7332a-56c4-464a-e303-3706f9ecd029"
      },
      "source": [
        "#TASA DESOCUPADOS OCULTOS\n",
        "TDO = (DO/PEA)*100\n",
        "TDO"
      ],
      "execution_count": null,
      "outputs": [
        {
          "output_type": "execute_result",
          "data": {
            "text/plain": [
              "2.024123111049494"
            ]
          },
          "metadata": {},
          "execution_count": 176
        }
      ]
    },
    {
      "cell_type": "code",
      "metadata": {
        "colab": {
          "base_uri": "https://localhost:8080/"
        },
        "id": "lBc9m1IjZGjy",
        "outputId": "87428a0c-b865-4329-e00a-aae419edf145"
      },
      "source": [
        "#TASA DESOCUPADOS ABIERTO\n",
        "TDA = (DA/PEA)*100\n",
        "TDA"
      ],
      "execution_count": null,
      "outputs": [
        {
          "output_type": "execute_result",
          "data": {
            "text/plain": [
              "13.863856924996535"
            ]
          },
          "metadata": {},
          "execution_count": 177
        }
      ]
    },
    {
      "cell_type": "code",
      "metadata": {
        "colab": {
          "base_uri": "https://localhost:8080/"
        },
        "id": "1O_0hEnjZGjz",
        "outputId": "ccb391f8-1c66-4cbe-d83e-615c0914af7b"
      },
      "source": [
        "TDO + TDA"
      ],
      "execution_count": null,
      "outputs": [
        {
          "output_type": "execute_result",
          "data": {
            "text/plain": [
              "15.887980036046029"
            ]
          },
          "metadata": {},
          "execution_count": 178
        }
      ]
    },
    {
      "cell_type": "markdown",
      "metadata": {
        "id": "Cy7-MZt6ZGj0"
      },
      "source": [
        "SE ESTIMA QUE El 2.02% DE LA POBLACION ECONOMICAMENTE ACTIVA SE ENCUENTRA EN DESEMPLEO OCULTO MIENTRAS QUE EL 13.86% SE ENCUENTRA EN DESEMPLEO ABIERTO. ESTO QUIERE DECIR QUE LA MAYORIA DE LA POBLACION DESOCUPADA ESTA PERMANENTEMENTE BUSCANDO UN TRABAJO."
      ]
    },
    {
      "cell_type": "code",
      "metadata": {
        "colab": {
          "base_uri": "https://localhost:8080/"
        },
        "id": "d7068LFsZGj1",
        "outputId": "7ce208cb-5046-4a2d-b893-8f49d11a8791"
      },
      "source": [
        "#TASA DE OCUPACION\n",
        "TO = (O/PET)*100\n",
        "TO"
      ],
      "execution_count": null,
      "outputs": [
        {
          "output_type": "execute_result",
          "data": {
            "text/plain": [
              "50.77412335760315"
            ]
          },
          "metadata": {},
          "execution_count": 179
        }
      ]
    },
    {
      "cell_type": "markdown",
      "metadata": {
        "id": "Pc0vR5epZGj2"
      },
      "source": [
        "SE ESTIMA QUE EL 50.77% DE LA POBLACION EN EDAD DE TRABAJAR SE ENCUENTRA OCUPADA O CON EMPLEO. "
      ]
    },
    {
      "cell_type": "code",
      "metadata": {
        "colab": {
          "base_uri": "https://localhost:8080/"
        },
        "id": "JGAcFTzQZGj4",
        "outputId": "4c470139-b15c-4a38-c9d5-11da3040d9c4"
      },
      "source": [
        "#TASA DE SUBEMPLEO\n",
        "TS = (S/PEA)*100\n",
        "TS"
      ],
      "execution_count": null,
      "outputs": [
        {
          "output_type": "execute_result",
          "data": {
            "text/plain": [
              "48.7799805906003"
            ]
          },
          "metadata": {},
          "execution_count": 180
        }
      ]
    },
    {
      "cell_type": "markdown",
      "metadata": {
        "id": "VKnd7jK3ZGj5"
      },
      "source": [
        "SE PUEDE DECIR QUE EL 48.77% DE LA POBLACION ECONOMICAMENTE ACTIVA TIENEN UN TRABAJO INFORMAL O SON SUBEMPLEADOS."
      ]
    },
    {
      "cell_type": "markdown",
      "metadata": {
        "id": "BGGnjGRcdf6z"
      },
      "source": [
        "#DESCRIPCIÓN ECONÓMICA JUNIO"
      ]
    },
    {
      "cell_type": "markdown",
      "metadata": {
        "id": "FCy4CvNWdf60"
      },
      "source": [
        "La poblacion total para el mes de junio del año 2021 se divide especificamente en dos grupos. Para el primero se toma la poblacion menor de 12 años de edad donde se encontraron 4.142 menores. En el segundo grupo se seleccionaron las personas mayores E IGUALES a 12 años ya consideradas dentro de la poblacion en edad de trabajar (PET) donde se evidenciaron 23.588 individuos."
      ]
    },
    {
      "cell_type": "code",
      "metadata": {
        "colab": {
          "base_uri": "https://localhost:8080/"
        },
        "id": "EiZx2EQSdf60",
        "outputId": "cddc39fe-368c-4430-b6df-4ae6bacd5cda"
      },
      "source": [
        "#POBLACION MENOR DE 12 AÑOS\n",
        "edad_menores_junio = Base_junio.loc[:, 'P6040'] < 12\n",
        "sum(edad_menores_junio)"
      ],
      "execution_count": null,
      "outputs": [
        {
          "output_type": "execute_result",
          "data": {
            "text/plain": [
              "4142"
            ]
          },
          "metadata": {},
          "execution_count": 21
        }
      ]
    },
    {
      "cell_type": "code",
      "metadata": {
        "colab": {
          "base_uri": "https://localhost:8080/"
        },
        "id": "Vkdg8X00df62",
        "outputId": "8867bc60-acc3-4a80-8284-a3dfd941b367"
      },
      "source": [
        "#POBLACION EN EDAD DE TRABAJAR\n",
        "edad_mayores_junio = Base_junio.loc[:, 'P6040'] >= 12\n",
        "PET = sum(edad_mayores_junio)\n",
        "PET"
      ],
      "execution_count": null,
      "outputs": [
        {
          "output_type": "execute_result",
          "data": {
            "text/plain": [
              "23588"
            ]
          },
          "metadata": {},
          "execution_count": 22
        }
      ]
    },
    {
      "cell_type": "code",
      "metadata": {
        "colab": {
          "base_uri": "https://localhost:8080/"
        },
        "id": "-s_xB9hRdf63",
        "outputId": "e5cf8a6f-0208-4770-ac3b-48c2264e8279"
      },
      "source": [
        "PT = 23588 + 4142\n",
        "PT"
      ],
      "execution_count": null,
      "outputs": [
        {
          "output_type": "execute_result",
          "data": {
            "text/plain": [
              "27730"
            ]
          },
          "metadata": {},
          "execution_count": 23
        }
      ]
    },
    {
      "cell_type": "code",
      "metadata": {
        "colab": {
          "base_uri": "https://localhost:8080/"
        },
        "id": "B-25PAN6hhDp",
        "outputId": "5db68702-499c-42fc-f01f-189f50fc3956"
      },
      "source": [
        "Base_junio.shape"
      ],
      "execution_count": null,
      "outputs": [
        {
          "output_type": "execute_result",
          "data": {
            "text/plain": [
              "(27730, 249)"
            ]
          },
          "metadata": {},
          "execution_count": 24
        }
      ]
    },
    {
      "cell_type": "markdown",
      "metadata": {
        "id": "iSwEAhV2df63"
      },
      "source": [
        "Asi mismo, la poblacion en edad de trabajar (PET) puede dividirse en poblacion economicamente activa (PEA) y poblacion economicamente inactiva.\n",
        "Dentro de la PEA podemos hablar acerca de aquellos individuos que se encuentran desocupados y ocupados. "
      ]
    },
    {
      "cell_type": "code",
      "metadata": {
        "colab": {
          "base_uri": "https://localhost:8080/"
        },
        "id": "zmOTuvcndf64",
        "outputId": "134dc41c-a8aa-495a-d6ee-dd27d3ab04cf"
      },
      "source": [
        "#POBLACION ECONOMICAMENTE ACTIVA [OCUPADOS]\n",
        "ocupados_junio = Base_junio.loc[:, 'Estado'] == 'Ocupados'\n",
        "O = sum(ocupados_junio)\n",
        "O"
      ],
      "execution_count": null,
      "outputs": [
        {
          "output_type": "execute_result",
          "data": {
            "text/plain": [
              "11791"
            ]
          },
          "metadata": {},
          "execution_count": 25
        }
      ]
    },
    {
      "cell_type": "code",
      "metadata": {
        "colab": {
          "base_uri": "https://localhost:8080/"
        },
        "id": "4CGSZt9tdf65",
        "outputId": "ce888908-ed2e-42d4-c9b7-c5f50c6adcaf"
      },
      "source": [
        "#POBLACION ECONOMICAMENTE ACTIVA [DESOCUPADOS]\n",
        "desocupados_junio = Base_junio.loc[:, 'Estado'] == 'Desocupados'\n",
        "D = sum(desocupados_junio)\n",
        "D"
      ],
      "execution_count": null,
      "outputs": [
        {
          "output_type": "execute_result",
          "data": {
            "text/plain": [
              "2344"
            ]
          },
          "metadata": {},
          "execution_count": 26
        }
      ]
    },
    {
      "cell_type": "code",
      "metadata": {
        "colab": {
          "base_uri": "https://localhost:8080/"
        },
        "id": "MsJVJo_bdf66",
        "outputId": "a7b6606d-118f-4158-d8d7-4d7b22fc06bb"
      },
      "source": [
        "#LA PEA SERIA IGUAL A \n",
        "PEA = 11791 + 2344\n",
        "PEA"
      ],
      "execution_count": null,
      "outputs": [
        {
          "output_type": "execute_result",
          "data": {
            "text/plain": [
              "14135"
            ]
          },
          "metadata": {},
          "execution_count": 27
        }
      ]
    },
    {
      "cell_type": "code",
      "metadata": {
        "colab": {
          "base_uri": "https://localhost:8080/"
        },
        "id": "7ZszU0HRdf66",
        "outputId": "71dd30b0-e284-46ee-fbd2-4eaea4935601"
      },
      "source": [
        "#POBLACION ECONOMICAMENTE INACTIVA\n",
        "inactivos_junio = Base_junio.loc[:, 'Estado'] == 'Inactivos'\n",
        "sum(inactivos_junio)"
      ],
      "execution_count": null,
      "outputs": [
        {
          "output_type": "execute_result",
          "data": {
            "text/plain": [
              "9453"
            ]
          },
          "metadata": {},
          "execution_count": 28
        }
      ]
    },
    {
      "cell_type": "code",
      "metadata": {
        "colab": {
          "base_uri": "https://localhost:8080/"
        },
        "id": "J27t1UB1df67",
        "outputId": "bf4ac70a-cc76-4efb-a99f-b8c19634cf2e"
      },
      "source": [
        "11791 + 2344 + 9453 #COMPROBACION DEL PET"
      ],
      "execution_count": null,
      "outputs": [
        {
          "output_type": "execute_result",
          "data": {
            "text/plain": [
              "23588"
            ]
          },
          "metadata": {},
          "execution_count": 29
        }
      ]
    },
    {
      "cell_type": "code",
      "metadata": {
        "colab": {
          "base_uri": "https://localhost:8080/"
        },
        "id": "RGiVmJAKdf68",
        "outputId": "2b08ed4b-cc0d-4bcc-f30c-81052ba9bc4e"
      },
      "source": [
        "niños = Base_junio.loc[:, 'P6040'] <= 12\n",
        "df_niños = Base_junio.loc[niños]\n",
        "sum(df_niños['Estado'] == 'Ocupados')"
      ],
      "execution_count": null,
      "outputs": [
        {
          "output_type": "execute_result",
          "data": {
            "text/plain": [
              "4"
            ]
          },
          "metadata": {},
          "execution_count": 30
        }
      ]
    },
    {
      "cell_type": "code",
      "metadata": {
        "id": "Ixo4zwfNdf69"
      },
      "source": [
        "#HAY 4 NIÑOS MENORES O IGUALES A 12 AÑOS QUE PUEDEN ENCONTRARSE COMPLETAMENTE EMPLEADOS O SUBEMPLEADOS PARA EL AÑO JUNIO DEL 2021."
      ],
      "execution_count": null,
      "outputs": []
    },
    {
      "cell_type": "code",
      "metadata": {
        "colab": {
          "base_uri": "https://localhost:8080/"
        },
        "id": "4fTysNbKdf69",
        "outputId": "5e11db8b-108f-4029-ef47-e0f77ca02a73"
      },
      "source": [
        "niños_d = Base_junio.loc[:, 'P6040'] <= 12\n",
        "df_niños_d = Base_junio.loc[niños_d]\n",
        "sum(df_niños_d['Estado'] == 'Desocupados')"
      ],
      "execution_count": null,
      "outputs": [
        {
          "output_type": "execute_result",
          "data": {
            "text/plain": [
              "0"
            ]
          },
          "metadata": {},
          "execution_count": 31
        }
      ]
    },
    {
      "cell_type": "code",
      "metadata": {
        "colab": {
          "base_uri": "https://localhost:8080/"
        },
        "id": "gvW65wMUdf6-",
        "outputId": "7fd78973-f3c1-4ea3-cd07-3b49910950f5"
      },
      "source": [
        "niños_i = Base_junio.loc[:, 'P6040'] == 12\n",
        "df_niños_i = Base_junio.loc[niños_i]\n",
        "sum(df_niños_i['Estado'] == 'Inactivos')"
      ],
      "execution_count": null,
      "outputs": [
        {
          "output_type": "execute_result",
          "data": {
            "text/plain": [
              "418"
            ]
          },
          "metadata": {},
          "execution_count": 32
        }
      ]
    },
    {
      "cell_type": "markdown",
      "metadata": {
        "id": "t5P2DIoidf6_"
      },
      "source": [
        "HAY 418 NIÑOS DE 12 AÑOS QUE ESTAN DENTRO DE LA POBLACION ECONOMICAMENTE INACTIVA YA QUE tienen edad de trabajar pero no necesitan hacerlo, no pueden o no están interesados en tener una ocupación remunerada"
      ]
    },
    {
      "cell_type": "markdown",
      "metadata": {
        "id": "ZN86_kdGdf6_"
      },
      "source": [
        "LOS INDIVIDUOS QUE SE ENCONTRARON DENTRO DE LA POBLACION ECONOMICAMENTE ACTIVA Y QUE ESTAN OCUPADOS, ALGUNOS DE ELLOS PUEDEN DEDICARSE A SER COMPLETAMENTE EMPLEADOS, ES DECIR, AQUELLOS QUIENES CUENTAN CON UN CONTRATO LABORAL. POR OTRA PARTE, TAMBIEN EXISTEN LOS SUBEMPLEADOS QUIENES ESTAN DENTRO DE LA INFORMALIDAD Y PUEDEN GANAR MEJOR. ALGUNOS DE ELLOS SON EXPLOTADOS LABORALMENTE POR TRABAJAR MAS DE LAS HORAS ESTABLECIDAS SIENDO MAL REMUNERADOS. "
      ]
    },
    {
      "cell_type": "code",
      "metadata": {
        "colab": {
          "base_uri": "https://localhost:8080/"
        },
        "id": "lCxiJjahdf7A",
        "outputId": "7fc3a41d-0420-4fe3-edf5-4eda114929dc"
      },
      "source": [
        "#DE ACUERDO A LA PREGUNTA ¿Para realizar este trabajo, tiene usted algún tipo de contrato? (verbal o escrito)\n",
        "#INDIVIDUOS QUE RESPONDIERON QUE SI:\n",
        "con = Base_junio.loc[:, 'P6440'] == 1\n",
        "sum(con)"
      ],
      "execution_count": null,
      "outputs": [
        {
          "output_type": "execute_result",
          "data": {
            "text/plain": [
              "6839"
            ]
          },
          "metadata": {},
          "execution_count": 33
        }
      ]
    },
    {
      "cell_type": "code",
      "metadata": {
        "colab": {
          "base_uri": "https://localhost:8080/"
        },
        "id": "laEM1o8Zdf7A",
        "outputId": "c317b2ae-47be-4195-9493-69fc8859cf70"
      },
      "source": [
        "#INDIVIDUOS QUE RESPONDIERON NO A LA PREGUNTA:\n",
        "con2 = Base_junio.loc[:, 'P6440'] == 2\n",
        "sum(con2)"
      ],
      "execution_count": null,
      "outputs": [
        {
          "output_type": "execute_result",
          "data": {
            "text/plain": [
              "4952"
            ]
          },
          "metadata": {},
          "execution_count": 34
        }
      ]
    },
    {
      "cell_type": "markdown",
      "metadata": {
        "id": "JS98agY2df7A"
      },
      "source": [
        "UNA GRAN CANTIDAD DE INDIVIDUOS PERTENECEN O ESTAN RECIBIENDO INGRESOS POR MEDIO DE UN TRABAJO INFORMAL PARA JUNIO DEL AÑO 2021"
      ]
    },
    {
      "cell_type": "code",
      "metadata": {
        "colab": {
          "base_uri": "https://localhost:8080/"
        },
        "id": "6Wy3qLHrdf7B",
        "outputId": "eb65e9db-d3d3-4643-bb87-21d96136ec65"
      },
      "source": [
        "con3 = Base_junio.loc[:, 'P6450'] == 1 #VERBAL\n",
        "sum(con3) "
      ],
      "execution_count": null,
      "outputs": [
        {
          "output_type": "execute_result",
          "data": {
            "text/plain": [
              "1854"
            ]
          },
          "metadata": {},
          "execution_count": 35
        }
      ]
    },
    {
      "cell_type": "code",
      "metadata": {
        "colab": {
          "base_uri": "https://localhost:8080/"
        },
        "id": "SuRejOPxdf7B",
        "outputId": "23950ff6-6904-4ff1-ff3d-3db51e95c7b5"
      },
      "source": [
        "con4 = Base_junio.loc[:, 'P6450'] == 2 #ESCRITO\n",
        "sum(con4) "
      ],
      "execution_count": null,
      "outputs": [
        {
          "output_type": "execute_result",
          "data": {
            "text/plain": [
              "4985"
            ]
          },
          "metadata": {},
          "execution_count": 36
        }
      ]
    },
    {
      "cell_type": "markdown",
      "metadata": {
        "id": "BRpFJjaCdf7C"
      },
      "source": [
        "1.854 INDIVIDUOS CUENTAN CON UN CONTRATO VERBAL, SOLAMENTE 4.985 PERSONAS DEL TOTAL DE LA POBLACION ECONOMICAMENTE ACTIVA (14.362) TIENEN UN TRABAJO FORMAL."
      ]
    },
    {
      "cell_type": "code",
      "metadata": {
        "colab": {
          "base_uri": "https://localhost:8080/"
        },
        "id": "kXUCEHd2df7C",
        "outputId": "3384f4f5-7c1a-4f3b-ebdc-1cb346c4205e"
      },
      "source": [
        "S = 4952 + 1854\n",
        "S"
      ],
      "execution_count": null,
      "outputs": [
        {
          "output_type": "execute_result",
          "data": {
            "text/plain": [
              "6806"
            ]
          },
          "metadata": {},
          "execution_count": 37
        }
      ]
    },
    {
      "cell_type": "markdown",
      "metadata": {
        "id": "xDzuVfy_df7D"
      },
      "source": [
        "6.806 INDIVIDUOS NO CUENTAN CON UN TRABAJO FORMAL. HAY QUE TENER EN CUENTA QUE ALGUNOS DE ELLOS PUEDEN TRABAJAR EN EMPRESAS FAMILIARES.\n",
        "\n",
        "POR OTRA PARTE, SI HABLAMOS DE AQUELLOS QUE ESTAN OCUPADOS Y QUE SI CUENTAN CON UN CONTRATO..."
      ]
    },
    {
      "cell_type": "code",
      "metadata": {
        "colab": {
          "base_uri": "https://localhost:8080/"
        },
        "id": "02-146M1df7D",
        "outputId": "00c45913-7cbe-4748-9463-3f2efaa3d8d9"
      },
      "source": [
        "#¿el contrato de trabajo de ... Es a término indefinido o a término fijo?\n",
        "cont = Base_junio.loc[:, 'P6460'] == 1 #A término Indefinido\n",
        "sum(cont) "
      ],
      "execution_count": null,
      "outputs": [
        {
          "output_type": "execute_result",
          "data": {
            "text/plain": [
              "3262"
            ]
          },
          "metadata": {},
          "execution_count": 38
        }
      ]
    },
    {
      "cell_type": "code",
      "metadata": {
        "colab": {
          "base_uri": "https://localhost:8080/"
        },
        "id": "4_cL3dN5df7E",
        "outputId": "c95652d3-043d-4b92-f7f4-783f76cd6b7c"
      },
      "source": [
        "cont1 = Base_junio.loc[:, 'P6460'] == 2 #A término fijo\n",
        "sum(cont1) "
      ],
      "execution_count": null,
      "outputs": [
        {
          "output_type": "execute_result",
          "data": {
            "text/plain": [
              "1715"
            ]
          },
          "metadata": {},
          "execution_count": 39
        }
      ]
    },
    {
      "cell_type": "markdown",
      "metadata": {
        "id": "hPY6IuTPdf7E"
      },
      "source": [
        "SE PUEDE EVIDENCIAR QUE 3.262 TIENEN UN CONTRATO A TERMINO INDEFINIDO LO QUE LES PERMITE TENER UNA MAYOR DURACION EN SUS EMPLEOS.\n"
      ]
    },
    {
      "cell_type": "code",
      "metadata": {
        "id": "vQgsg8A2df7F"
      },
      "source": [
        "#El objeto de la pregunta es determinar que prestaciones recibe la persona de acuerdo con el contrato que tiene\n",
        "#actualmente."
      ],
      "execution_count": null,
      "outputs": []
    },
    {
      "cell_type": "code",
      "metadata": {
        "colab": {
          "base_uri": "https://localhost:8080/"
        },
        "id": "jMneSWB6df7F",
        "outputId": "9cee5e0f-e4a8-459b-fbd7-7c313140eb30"
      },
      "source": [
        "#CONTRATO ESCRITO\n",
        "con4 = Base_junio.loc[:, 'P6450'] == 2 \n",
        "df_con3= Base_junio.loc[con4]\n",
        "sum(df_con3['P6424S1'] == 1) #SI RECIBE VACACIONES"
      ],
      "execution_count": null,
      "outputs": [
        {
          "output_type": "execute_result",
          "data": {
            "text/plain": [
              "4118"
            ]
          },
          "metadata": {},
          "execution_count": 40
        }
      ]
    },
    {
      "cell_type": "markdown",
      "metadata": {
        "id": "6sHMfpXddf7F"
      },
      "source": [
        "APROXIMADAMENTE 4.118 PERSONAS DE 4.985 QUE TIENEN UN CONTRATO ESCRITO RECIBEN VACACIONES."
      ]
    },
    {
      "cell_type": "code",
      "metadata": {
        "colab": {
          "base_uri": "https://localhost:8080/"
        },
        "id": "lWBBsbtNdf7G",
        "outputId": "b38c433c-9d2f-4d0a-8db4-a584468a4561"
      },
      "source": [
        "#CONTRATO VERBAL\n",
        "con3 = Base_junio.loc[:, 'P6450'] == 1 \n",
        "df_con4= Base_junio.loc[con3]\n",
        "sum(df_con4['P6424S1'] == 2) #no reciben vacaciones"
      ],
      "execution_count": null,
      "outputs": [
        {
          "output_type": "execute_result",
          "data": {
            "text/plain": [
              "1723"
            ]
          },
          "metadata": {},
          "execution_count": 41
        }
      ]
    },
    {
      "cell_type": "markdown",
      "metadata": {
        "id": "E3jQYz6Ndf7G"
      },
      "source": [
        "APROXIMADAMENTE 1723 PERSONAS QUE TIENEN CONTRATOS VERBALES NO TIENEN DERECHO A VACACIONES CON SUELDO."
      ]
    },
    {
      "cell_type": "code",
      "metadata": {
        "colab": {
          "base_uri": "https://localhost:8080/"
        },
        "id": "7jD_yugPdf7G",
        "outputId": "58320f7f-4ceb-4363-f712-7f6e475c8d89"
      },
      "source": [
        "cont = Base_junio.loc[:, 'P6460'] == 1 #A término Indefinido\n",
        "df_in= Base_junio.loc[cont]\n",
        "sum(df_in['P6424S2'] == 1) #SI RECIBE PRIMA DE NAVIDAD"
      ],
      "execution_count": null,
      "outputs": [
        {
          "output_type": "execute_result",
          "data": {
            "text/plain": [
              "780"
            ]
          },
          "metadata": {},
          "execution_count": 42
        }
      ]
    },
    {
      "cell_type": "code",
      "metadata": {
        "colab": {
          "base_uri": "https://localhost:8080/"
        },
        "id": "kXeju_AOdf7H",
        "outputId": "8ed20700-e048-4857-a631-7ec6ff6c4612"
      },
      "source": [
        "cont1 = Base_junio.loc[:, 'P6460'] == 2 #A término fijo\n",
        "df_in1= Base_junio.loc[cont1]\n",
        "sum(df_in1['P6424S2'] == 1) #SI RECIBE PRIMA DE NAVIDAD"
      ],
      "execution_count": null,
      "outputs": [
        {
          "output_type": "execute_result",
          "data": {
            "text/plain": [
              "159"
            ]
          },
          "metadata": {},
          "execution_count": 43
        }
      ]
    },
    {
      "cell_type": "code",
      "metadata": {
        "colab": {
          "base_uri": "https://localhost:8080/"
        },
        "id": "bsyMAViVjOom",
        "outputId": "2354e167-c2be-44a1-92ac-37132befdaeb"
      },
      "source": [
        "780 - 159"
      ],
      "execution_count": null,
      "outputs": [
        {
          "output_type": "execute_result",
          "data": {
            "text/plain": [
              "621"
            ]
          },
          "metadata": {},
          "execution_count": 44
        }
      ]
    },
    {
      "cell_type": "markdown",
      "metadata": {
        "id": "xyDi3rSLdf7I"
      },
      "source": [
        "SE PUEDE DECIR QUE HAY 621 PERSONAS MAS QUE TIENEN DERECHO A RECIBIR SU PRIMA DE NAVIDAD POR TENER UN CONTRATO A TERMINO INDEFINIDO"
      ]
    },
    {
      "cell_type": "code",
      "metadata": {
        "colab": {
          "base_uri": "https://localhost:8080/"
        },
        "id": "kizlZ1efdf7I",
        "outputId": "9a00003c-4c0c-4666-e2c3-8e4028179b0e"
      },
      "source": [
        "cont = Base_junio.loc[:, 'P6460'] == 1 #A término Indefinido\n",
        "df_in= Base_junio.loc[cont]\n",
        "sum(df_in['P6424S3'] == 1) #SI RECIBE CESANTIAS"
      ],
      "execution_count": null,
      "outputs": [
        {
          "output_type": "execute_result",
          "data": {
            "text/plain": [
              "3122"
            ]
          },
          "metadata": {},
          "execution_count": 45
        }
      ]
    },
    {
      "cell_type": "code",
      "metadata": {
        "colab": {
          "base_uri": "https://localhost:8080/"
        },
        "id": "mR2FJlmFdf7J",
        "outputId": "6af06ef2-5046-4b8c-b9f2-556022df0487"
      },
      "source": [
        "cont1 = Base_junio.loc[:, 'P6460'] == 2 #A término fijo\n",
        "df_in1= Base_junio.loc[cont1]\n",
        "sum(df_in1['P6424S3'] == 1) #SI RECIBE CESANTIAS"
      ],
      "execution_count": null,
      "outputs": [
        {
          "output_type": "execute_result",
          "data": {
            "text/plain": [
              "1212"
            ]
          },
          "metadata": {},
          "execution_count": 46
        }
      ]
    },
    {
      "cell_type": "markdown",
      "metadata": {
        "id": "Nz-ujzDodf7J"
      },
      "source": [
        "SE PUEDE DECIR QUE HAY 3.122 INDIVIDUOS QUE TIENEN UN CONTRATO A TERMINO INDEFINIDO TIENEN DERECHO A RECIBIR CESANTIAS, MIENTRAS QUIENES TRABAJAN A TERMINO FIJO NO LAS TIENEN."
      ]
    },
    {
      "cell_type": "markdown",
      "metadata": {
        "id": "wIVYhTR4df7K"
      },
      "source": [
        "YA SI SE REALIZA UN ENFOQUE HACIA AQUELLOS INDIVIDUOS DESOCUPADOS DE LA POBLACION ECONOMICAMENTE ACTIVA SE PUEDE HABLAR ACERCA DE UN DESEMPLEO ABIERTO EL CUAL INDICA LA PERMANECIA DE LA BUSQUEDA DE TRABAJO. SE DICE QUE, PARA LOS INDIVIDUOS QUE YA SUPERARON EL AÑO O LAS 52 SEMANAS DE ESTAR BUSCANDO EMPLEO ENTRAN EN LA CATEGORIA DE DESEMPLEO OCULTO. ES PROBABLE QUE ESTOS INDIVIDUOS CESEN Y PUEDAN LLEGAN A CLASIFICARSE DENTRO DE LA INACTIVIDAD. "
      ]
    },
    {
      "cell_type": "code",
      "metadata": {
        "colab": {
          "base_uri": "https://localhost:8080/"
        },
        "id": "gl88Un7Vdf7K",
        "outputId": "7f5774f7-5c78-4845-a2e3-d66aa93b043c"
      },
      "source": [
        "#DESEMPLETO ABIERTO\n",
        "des = Base_junio.loc[:, 'P7250'] <= 52  #DESEMPLEO ABIERTO\n",
        "DA = sum(des)\n",
        "DA\n"
      ],
      "execution_count": null,
      "outputs": [
        {
          "output_type": "execute_result",
          "data": {
            "text/plain": [
              "2019"
            ]
          },
          "metadata": {},
          "execution_count": 48
        }
      ]
    },
    {
      "cell_type": "code",
      "metadata": {
        "colab": {
          "base_uri": "https://localhost:8080/"
        },
        "id": "NJ2KaiBEdf7K",
        "outputId": "2b47f4d4-2360-4d5b-ca71-535e645882cb"
      },
      "source": [
        "des1 = Base_junio.loc[:, 'P7250'] > 52 #DESEMPLEO OCULTO\n",
        "DO = sum(des1)\n",
        "DO"
      ],
      "execution_count": null,
      "outputs": [
        {
          "output_type": "execute_result",
          "data": {
            "text/plain": [
              "325"
            ]
          },
          "metadata": {},
          "execution_count": 49
        }
      ]
    },
    {
      "cell_type": "markdown",
      "metadata": {
        "id": "vozcBTBNdf7L"
      },
      "source": [
        "325 DE LAS 2344 PERSONAS QUE SE ENCUENTRAN DESOCUPADAS PUEDEN LLEGAR A ENTRAR A LA INACTIVIDAD A CAUSA DE NO ENCONTRAR UN EMPLEO DESPUES DE PASADAS LAS 52 SEMANAS."
      ]
    },
    {
      "cell_type": "markdown",
      "metadata": {
        "id": "tCqREGu9jvtv"
      },
      "source": [
        "#TASAS IMPORTANTES JUNIO"
      ]
    },
    {
      "cell_type": "code",
      "metadata": {
        "colab": {
          "base_uri": "https://localhost:8080/"
        },
        "id": "Yo2xYxSMjvtw",
        "outputId": "8dbf20d7-4ec7-4f99-b5f1-2fcf717715c9"
      },
      "source": [
        "#TASA BRUTA DE PARTICIPACION\n",
        "TBP = PEA/PT\n",
        "(TBP)*100"
      ],
      "execution_count": null,
      "outputs": [
        {
          "output_type": "execute_result",
          "data": {
            "text/plain": [
              "50.97367472051929"
            ]
          },
          "metadata": {},
          "execution_count": 50
        }
      ]
    },
    {
      "cell_type": "markdown",
      "metadata": {
        "id": "kVVekL0Ljvtx"
      },
      "source": [
        "LA FUERZA LABORAL ESTIMADA REPRESENTADA EN COLOMBIA PARA ENERO DEL AÑO 2021 ES DEL 50,97%."
      ]
    },
    {
      "cell_type": "code",
      "metadata": {
        "colab": {
          "base_uri": "https://localhost:8080/"
        },
        "id": "hmB6Fysgjvtz",
        "outputId": "91f60c4c-114f-4a62-acf6-bb9007952594"
      },
      "source": [
        "#TASA GLOBAL DE PARTICIPACION\n",
        "#EXCLUYE A LOS NIÑOS Y MENORES DE 12 AÑOS\n",
        "TGP = PEA/PET\n",
        "TGP*100"
      ],
      "execution_count": null,
      "outputs": [
        {
          "output_type": "execute_result",
          "data": {
            "text/plain": [
              "59.92453790062744"
            ]
          },
          "metadata": {},
          "execution_count": 51
        }
      ]
    },
    {
      "cell_type": "markdown",
      "metadata": {
        "id": "nUOpnHSvjvtz"
      },
      "source": [
        "LA FUERZA LABORAL ESTIMADA REPRESENTADA EN COLOMBIA PARA ENERO DEL AÑO 2021 ES DEL 50,92%. AQUI SE REFLEJA LA PRESION DE LA POBLACION SOBRE EL MERCADO LABORAL."
      ]
    },
    {
      "cell_type": "code",
      "metadata": {
        "colab": {
          "base_uri": "https://localhost:8080/"
        },
        "id": "lCXyNK9Sjvt0",
        "outputId": "6e59f473-a45c-4470-cf17-a1799e943c90"
      },
      "source": [
        "#TASA DESOCUPADOS\n",
        "TD = (D/PEA)*100\n",
        "TD\n"
      ],
      "execution_count": null,
      "outputs": [
        {
          "output_type": "execute_result",
          "data": {
            "text/plain": [
              "16.582950123806157"
            ]
          },
          "metadata": {},
          "execution_count": 52
        }
      ]
    },
    {
      "cell_type": "markdown",
      "metadata": {
        "id": "atQ9H7zKjvt1"
      },
      "source": [
        "SE ESTIMA QUE EL 16,58% DE LA POBLACION ECONOMICAMENTE ACTIVA SE ENCUENTRA DESEMPLEADA."
      ]
    },
    {
      "cell_type": "code",
      "metadata": {
        "colab": {
          "base_uri": "https://localhost:8080/"
        },
        "id": "dLZ-cG0Ajvt1",
        "outputId": "8e140012-339c-4006-96f6-610a40db08d1"
      },
      "source": [
        "#TASA DESOCUPADOS OCULTOS\n",
        "TDO = (DO/PEA)*100\n",
        "TDO"
      ],
      "execution_count": null,
      "outputs": [
        {
          "output_type": "execute_result",
          "data": {
            "text/plain": [
              "2.2992571630703926"
            ]
          },
          "metadata": {},
          "execution_count": 53
        }
      ]
    },
    {
      "cell_type": "code",
      "metadata": {
        "colab": {
          "base_uri": "https://localhost:8080/"
        },
        "id": "8w26hWokjvt2",
        "outputId": "f8be6397-0d3d-42ee-cee9-fd2cb522c3df"
      },
      "source": [
        "#TASA DESOCUPADOS ABIERTO\n",
        "TDA = (DA/PEA)*100\n",
        "TDA"
      ],
      "execution_count": null,
      "outputs": [
        {
          "output_type": "execute_result",
          "data": {
            "text/plain": [
              "14.283692960735761"
            ]
          },
          "metadata": {},
          "execution_count": 54
        }
      ]
    },
    {
      "cell_type": "code",
      "metadata": {
        "colab": {
          "base_uri": "https://localhost:8080/"
        },
        "id": "3xfj6Ts-jvt3",
        "outputId": "2f4788d7-c1d1-43ec-ea9d-4701dda724ed"
      },
      "source": [
        "TDO + TDA"
      ],
      "execution_count": null,
      "outputs": [
        {
          "output_type": "execute_result",
          "data": {
            "text/plain": [
              "16.582950123806153"
            ]
          },
          "metadata": {},
          "execution_count": 55
        }
      ]
    },
    {
      "cell_type": "markdown",
      "metadata": {
        "id": "GHIL9Wtpjvt4"
      },
      "source": [
        "SE ESTIMA QUE El 2.29% DE LA POBLACION ECONOMICAMENTE ACTIVA SE ENCUENTRA EN DESEMPLEO OCULTO MIENTRAS QUE EL 14,28% SE ENCUENTRA EN DESEMPLEO ABIERTO. ESTO QUIERE DECIR QUE LA MAYORIA DE LA POBLACION DESOCUPADA ESTA PERMANENTEMENTE BUSCANDO UN TRABAJO."
      ]
    },
    {
      "cell_type": "code",
      "metadata": {
        "colab": {
          "base_uri": "https://localhost:8080/"
        },
        "id": "1UACAqCHjvt5",
        "outputId": "316dae8c-e73d-4629-f1ec-9ed41a92e50b"
      },
      "source": [
        "#TASA DE OCUPACION\n",
        "TO = (O/PET)*100\n",
        "TO"
      ],
      "execution_count": null,
      "outputs": [
        {
          "output_type": "execute_result",
          "data": {
            "text/plain": [
              "49.987281668645075"
            ]
          },
          "metadata": {},
          "execution_count": 56
        }
      ]
    },
    {
      "cell_type": "markdown",
      "metadata": {
        "id": "E_SsjnUBjvt6"
      },
      "source": [
        "SE ESTIMA QUE EL 49.98% DE LA POBLACION EN EDAD DE TRABAJAR SE ENCUENTRA OCUPADA O CON EMPLEO. "
      ]
    },
    {
      "cell_type": "code",
      "metadata": {
        "colab": {
          "base_uri": "https://localhost:8080/"
        },
        "id": "ltNC7TnAjvt6",
        "outputId": "3d0572e6-3fb6-4cf3-d062-213673c0548b"
      },
      "source": [
        "#TASA DE SUBEMPLEO\n",
        "TS = (S/PEA)*100\n",
        "TS"
      ],
      "execution_count": null,
      "outputs": [
        {
          "output_type": "execute_result",
          "data": {
            "text/plain": [
              "48.14998231340644"
            ]
          },
          "metadata": {},
          "execution_count": 57
        }
      ]
    },
    {
      "cell_type": "markdown",
      "metadata": {
        "id": "wJ_Q5OfIjvt7"
      },
      "source": [
        "SE PUEDE ESTIMAR QUE EL 48.14% DE LA POBLACION ECONOMICAMENTE ACTIVA TIENEN UN TRABAJO INFORMAL O SON SUBEMPLEADOS."
      ]
    },
    {
      "cell_type": "markdown",
      "metadata": {
        "id": "AV2_kNuwGxWq"
      },
      "source": [
        "#GRAFICAS RELEVANTES"
      ]
    },
    {
      "cell_type": "markdown",
      "metadata": {
        "id": "fbJfAGcILvkp"
      },
      "source": [
        "**¿Por qué la mayor tasa de desempleo presentada de los primeros 6 meses para el año 2021 es la de enero?**"
      ]
    },
    {
      "cell_type": "code",
      "metadata": {
        "colab": {
          "base_uri": "https://localhost:8080/",
          "height": 295
        },
        "id": "W9ECB6QEG1Uj",
        "outputId": "8b4b6a67-fda1-4f7b-df6b-c2700d1c0730"
      },
      "source": [
        "#GRAFICA DESOCUPADOS\n",
        "import matplotlib.pyplot as plt\n",
        "import numpy as np\n",
        "y = [18.5,16.8,15.7,16.2, 15.8, 16.5]\n",
        "plt.plot(y)\n",
        "plt.xlabel('MESES')\n",
        "plt.ylabel('TASA DESOCUPADOS')\n",
        "plt.title('GRAFICO TASA DESOCUPADOS')\n",
        "plt.show()"
      ],
      "execution_count": null,
      "outputs": [
        {
          "output_type": "display_data",
          "data": {
            "image/png": "[encoded data removed]",
            "text/plain": [
              "<Figure size 432x288 with 1 Axes>"
            ]
          },
          "metadata": {
            "needs_background": "light"
          }
        }
      ]
    },
    {
      "cell_type": "code",
      "metadata": {
        "id": "20VZOJ82KCof"
      },
      "source": [
        "cc = ['ENERO','FEBRERO','MARZO','ABRIL','MAYO','JUNIO']\n",
        "data = [18.5,16.8,15.7,16.2, 15.8, 16.5]"
      ],
      "execution_count": null,
      "outputs": []
    },
    {
      "cell_type": "code",
      "metadata": {
        "colab": {
          "base_uri": "https://localhost:8080/",
          "height": 295
        },
        "id": "TbUGySA1LRD_",
        "outputId": "acfa305b-8b1d-4a38-ecf5-8969c338a21f"
      },
      "source": [
        "plt.bar(cc,data)\n",
        "plt.title('GRAFICO TASA DESOCUPADOS')\n",
        "plt.xlabel('MES')\n",
        "plt.ylabel('TASA')\n",
        "plt.show()"
      ],
      "execution_count": null,
      "outputs": [
        {
          "output_type": "display_data",
          "data": {
            "image/png": "[encoded data removed]",
            "text/plain": [
              "<Figure size 432x288 with 1 Axes>"
            ]
          },
          "metadata": {
            "needs_background": "light"
          }
        }
      ]
    },
    {
      "cell_type": "markdown",
      "metadata": {
        "id": "6Utj4VyOL6Z1"
      },
      "source": [
        "*De acuerdo a los graficos presentados anteriormente se puede evidenciar que la tasa que demuestra la mayor tasa de desocupados es Enero con un 18.5%. Esto ocurre principalmente porque el desempleo es estacional. Por ejemplo, en diciembre aumenta la ocupación porque las empresas contratan trabajadores temporales con un contrato a termino fijo, no obstante, luego en enero muchos vuelven a quedar vacantes y aumenta el indicador para esta tasa. Sin embargo, segun el DANE, para enero del año 2020 la tasa de desempleo fue de 13%. Este considerable aumento se genero debido a las cuarentenas y restricciones que se vivieron en Colombia. Segun el periodico Portafolio se configuró como la tasa de desocupación más alta para ese mes desde que se tienen registros. El 25 de febrero de este año el DANE reporto que comparado con el mismo mes del año pasado se perdieron 1,5 millones de puestos de trabajo, que estuvieron concentrados en las 13 principales ciudades del país, en las que se destruyeron un millón de empleos.*"
      ]
    },
    {
      "cell_type": "code",
      "metadata": {
        "id": "cJ_M-Lz_RH9e"
      },
      "source": [
        "#GRAFICA OCUPADOS\n",
        "import matplotlib.pyplot as plt\n",
        "co = ['ENERO','FEBRERO','MARZO','ABRIL','MAYO','JUNIO']\n",
        "x = [48.8,50.5,51.1,50.0,50.7,49.9]"
      ],
      "execution_count": null,
      "outputs": []
    },
    {
      "cell_type": "code",
      "metadata": {
        "colab": {
          "base_uri": "https://localhost:8080/",
          "height": 295
        },
        "id": "2eb4twGmTF3R",
        "outputId": "9cf306dc-61f9-461d-8cdf-f249c72c1d18"
      },
      "source": [
        "plt.bar(co,x)\n",
        "plt.title('GRAFICO TASA OCUPADOS')\n",
        "plt.xlabel('MES')\n",
        "plt.ylabel('TASA')\n",
        "plt.show()"
      ],
      "execution_count": null,
      "outputs": [
        {
          "output_type": "display_data",
          "data": {
            "image/png": "[encoded data removed]",
            "text/plain": [
              "<Figure size 432x288 with 1 Axes>"
            ]
          },
          "metadata": {
            "needs_background": "light"
          }
        }
      ]
    },
    {
      "cell_type": "code",
      "metadata": {
        "colab": {
          "base_uri": "https://localhost:8080/",
          "height": 295
        },
        "id": "iPwLW3LkaCPY",
        "outputId": "b1d52dd3-f418-40f0-ed14-a4ff5f64c26c"
      },
      "source": [
        "#GRAFICA SUBEMPLEO\n",
        "co = ['ENERO','FEBRERO','MARZO','ABRIL','MAYO','JUNIO']\n",
        "s = [48.26,48.46,49.71,48.96,48.77,48.14]\n",
        "plt.bar(co,s)\n",
        "plt.title('GRAFICO TASA SUBEMPLEO')\n",
        "plt.xlabel('MES')\n",
        "plt.ylabel('TASA')\n",
        "plt.show()\n"
      ],
      "execution_count": null,
      "outputs": [
        {
          "output_type": "display_data",
          "data": {
            "image/png": "[encoded data removed]",
            "text/plain": [
              "<Figure size 432x288 with 1 Axes>"
            ]
          },
          "metadata": {
            "needs_background": "light"
          }
        }
      ]
    },
    {
      "cell_type": "code",
      "metadata": {
        "colab": {
          "base_uri": "https://localhost:8080/"
        },
        "id": "WriXK2-abG4E",
        "outputId": "b45825be-e506-4d4f-dbb4-0d2a795cc589"
      },
      "source": [
        "import statistics as stats\n",
        "stats.mean([48.26,48.46,49.71,48.96,48.77,48.14])"
      ],
      "execution_count": null,
      "outputs": [
        {
          "output_type": "execute_result",
          "data": {
            "text/plain": [
              "48.71666666666667"
            ]
          },
          "metadata": {},
          "execution_count": 307
        }
      ]
    },
    {
      "cell_type": "markdown",
      "metadata": {
        "id": "ym4V_ej2UspG"
      },
      "source": [
        "*De acuerdo al grafico anterior se puede evidenciar que la tasa de ocupacion mas baja es la del mes de enero. Sin embargo, casi todas las tasas durante los primeros seis meses del año 2021 son muy similares. \n",
        "Por otro lado, segun la OCED Estados Unidos, alrededor del 70% de la población en edad laboral (entre 15 y 64 años) tiene un empleo remunerado. Mientras que Colombia se tiene una tasa estimada de ocupacion que dificilmente alcanza el 50%.*\n",
        "\n",
        "*Se puede estimar que en promedio el 48.71% de la poblacion económicamente activa tienen un trabajo informal o son subempleados entre los meses enero a junio del año 2021, es decir, la poblacion que se encuentra clasificada en este tipo de empleo no cuenta con un contrato laboral en su empleo, y si lo tiene, es verbal.*"
      ]
    },
    {
      "cell_type": "code",
      "metadata": {
        "colab": {
          "base_uri": "https://localhost:8080/",
          "height": 295
        },
        "id": "sLISI8gSXLkn",
        "outputId": "4fb2cc7b-3823-4da4-adbe-e5ac3efcfa88"
      },
      "source": [
        "#GRAFICA DESEMPLEO OCULTO\n",
        "cd = ['ENERO','FEBRERO','MARZO','ABRIL','MAYO','JUNIO']\n",
        "z = x = [0.93,1.13,1.25,1.75,2.02,2.29]\n",
        "plt.bar(cd,z)\n",
        "plt.title('GRAFICO TASA DESEMPLEO OCULTO')\n",
        "plt.xlabel('MES')\n",
        "plt.ylabel('TASA')\n",
        "plt.show()"
      ],
      "execution_count": null,
      "outputs": [
        {
          "output_type": "display_data",
          "data": {
            "image/png": "[encoded data removed]",
            "text/plain": [
              "<Figure size 432x288 with 1 Axes>"
            ]
          },
          "metadata": {
            "needs_background": "light"
          }
        }
      ]
    },
    {
      "cell_type": "markdown",
      "metadata": {
        "id": "tFYvFI3RYAhY"
      },
      "source": [
        "*De acuerdo a la grafica anterior se puede decir que la tasa de desempleo oculto para los primeros 6 meses del año 2021 tiene una tendencia creciente. Esto es un resultado negativo debido a que un cierto porcentaje de la población lleva un año o mas buscando empleo. Si comparamos las cifras de Colombia para este año contra las de Estados unidos: USA tuvo el porcentaje de la fuerza laboral que ha estado desempleada durante un año o más es en la actualidad del 0.7%.* \n"
      ]
    },
    {
      "cell_type": "code",
      "metadata": {
        "id": "0L8DMfoMfY4L"
      },
      "source": [
        "import pandas as pd\n",
        "\n",
        "d = {'PEA': pd.Series([14362,14872,14550,14454,14426,14135], index= ['ENERO','FEBRERO','MARZO','ABRIL','MAYO','JUNIO']),\n",
        "     'PET': pd.Series([23951,24468,23963,24173,23898,23588], index= ['ENERO','FEBRERO','MARZO','ABRIL','MAYO','JUNIO'])}"
      ],
      "execution_count": null,
      "outputs": []
    },
    {
      "cell_type": "code",
      "metadata": {
        "id": "W1j_yY70foSG"
      },
      "source": [
        "df = pd.DataFrame(d)"
      ],
      "execution_count": null,
      "outputs": []
    },
    {
      "cell_type": "code",
      "metadata": {
        "colab": {
          "base_uri": "https://localhost:8080/",
          "height": 235
        },
        "id": "KSaBQ5rSfqS1",
        "outputId": "f417e471-5566-497f-e8b7-9e9f98bba332"
      },
      "source": [
        "df"
      ],
      "execution_count": null,
      "outputs": [
        {
          "output_type": "execute_result",
          "data": {
            "text/html": [
              "<div>\n",
              "<style scoped>\n",
              "    .dataframe tbody tr th:only-of-type {\n",
              "        vertical-align: middle;\n",
              "    }\n",
              "\n",
              "    .dataframe tbody tr th {\n",
              "        vertical-align: top;\n",
              "    }\n",
              "\n",
              "    .dataframe thead th {\n",
              "        text-align: right;\n",
              "    }\n",
              "</style>\n",
              "<table border=\"1\" class=\"dataframe\">\n",
              "  <thead>\n",
              "    <tr style=\"text-align: right;\">\n",
              "      <th></th>\n",
              "      <th>PEA</th>\n",
              "      <th>PET</th>\n",
              "    </tr>\n",
              "  </thead>\n",
              "  <tbody>\n",
              "    <tr>\n",
              "      <th>ENERO</th>\n",
              "      <td>14362</td>\n",
              "      <td>23951</td>\n",
              "    </tr>\n",
              "    <tr>\n",
              "      <th>FEBRERO</th>\n",
              "      <td>14872</td>\n",
              "      <td>24468</td>\n",
              "    </tr>\n",
              "    <tr>\n",
              "      <th>MARZO</th>\n",
              "      <td>14550</td>\n",
              "      <td>23963</td>\n",
              "    </tr>\n",
              "    <tr>\n",
              "      <th>ABRIL</th>\n",
              "      <td>14454</td>\n",
              "      <td>24173</td>\n",
              "    </tr>\n",
              "    <tr>\n",
              "      <th>MAYO</th>\n",
              "      <td>14426</td>\n",
              "      <td>23898</td>\n",
              "    </tr>\n",
              "    <tr>\n",
              "      <th>JUNIO</th>\n",
              "      <td>14135</td>\n",
              "      <td>23588</td>\n",
              "    </tr>\n",
              "  </tbody>\n",
              "</table>\n",
              "</div>"
            ],
            "text/plain": [
              "           PEA    PET\n",
              "ENERO    14362  23951\n",
              "FEBRERO  14872  24468\n",
              "MARZO    14550  23963\n",
              "ABRIL    14454  24173\n",
              "MAYO     14426  23898\n",
              "JUNIO    14135  23588"
            ]
          },
          "metadata": {},
          "execution_count": 318
        }
      ]
    },
    {
      "cell_type": "code",
      "metadata": {
        "colab": {
          "base_uri": "https://localhost:8080/",
          "height": 319
        },
        "id": "YfQQzlULfsTm",
        "outputId": "54c4cbfa-afa2-431c-c195-a0ca50928e54"
      },
      "source": [
        "df.plot(kind = 'bar')"
      ],
      "execution_count": null,
      "outputs": [
        {
          "output_type": "execute_result",
          "data": {
            "text/plain": [
              "<matplotlib.axes._subplots.AxesSubplot at 0x7f9b45f4fe50>"
            ]
          },
          "metadata": {},
          "execution_count": 319
        },
        {
          "output_type": "display_data",
          "data": {
            "image/png": "[encoded data removed]",
            "text/plain": [
              "<Figure size 432x288 with 1 Axes>"
            ]
          },
          "metadata": {
            "needs_background": "light"
          }
        }
      ]
    },
    {
      "cell_type": "code",
      "metadata": {
        "id": "BrLFmlyMmIp1"
      },
      "source": [
        "TBP_G = [51.01,51.35,51.49,50.69,50.86,50.97]\n",
        "TGP_G = [59.96,60.78,60.71,59.79,60.36,59.92]\n",
        "t = {'TBP': pd.Series([51.01,51.35,51.49,50.69,50.86,50.97], index= ['ENERO','FEBRERO','MARZO','ABRIL','MAYO','JUNIO']),\n",
        "     'TGP': pd.Series([59.96,60.78,60.71,59.79,60.36,59.92], index= ['ENERO','FEBRERO','MARZO','ABRIL','MAYO','JUNIO'])}"
      ],
      "execution_count": null,
      "outputs": []
    },
    {
      "cell_type": "code",
      "metadata": {
        "id": "TdwQ5AYJnb2b"
      },
      "source": [
        "dfg = pd.DataFrame(t)"
      ],
      "execution_count": null,
      "outputs": []
    },
    {
      "cell_type": "code",
      "metadata": {
        "colab": {
          "base_uri": "https://localhost:8080/",
          "height": 235
        },
        "id": "uHKEaVUwnf8C",
        "outputId": "f64e99e3-0f56-4838-810c-1050cb0f1de5"
      },
      "source": [
        "dfg"
      ],
      "execution_count": null,
      "outputs": [
        {
          "output_type": "execute_result",
          "data": {
            "text/html": [
              "<div>\n",
              "<style scoped>\n",
              "    .dataframe tbody tr th:only-of-type {\n",
              "        vertical-align: middle;\n",
              "    }\n",
              "\n",
              "    .dataframe tbody tr th {\n",
              "        vertical-align: top;\n",
              "    }\n",
              "\n",
              "    .dataframe thead th {\n",
              "        text-align: right;\n",
              "    }\n",
              "</style>\n",
              "<table border=\"1\" class=\"dataframe\">\n",
              "  <thead>\n",
              "    <tr style=\"text-align: right;\">\n",
              "      <th></th>\n",
              "      <th>TBP</th>\n",
              "      <th>TGP</th>\n",
              "    </tr>\n",
              "  </thead>\n",
              "  <tbody>\n",
              "    <tr>\n",
              "      <th>ENERO</th>\n",
              "      <td>51.01</td>\n",
              "      <td>59.96</td>\n",
              "    </tr>\n",
              "    <tr>\n",
              "      <th>FEBRERO</th>\n",
              "      <td>51.35</td>\n",
              "      <td>60.78</td>\n",
              "    </tr>\n",
              "    <tr>\n",
              "      <th>MARZO</th>\n",
              "      <td>51.49</td>\n",
              "      <td>60.71</td>\n",
              "    </tr>\n",
              "    <tr>\n",
              "      <th>ABRIL</th>\n",
              "      <td>50.69</td>\n",
              "      <td>59.79</td>\n",
              "    </tr>\n",
              "    <tr>\n",
              "      <th>MAYO</th>\n",
              "      <td>50.86</td>\n",
              "      <td>60.36</td>\n",
              "    </tr>\n",
              "    <tr>\n",
              "      <th>JUNIO</th>\n",
              "      <td>50.97</td>\n",
              "      <td>59.92</td>\n",
              "    </tr>\n",
              "  </tbody>\n",
              "</table>\n",
              "</div>"
            ],
            "text/plain": [
              "           TBP    TGP\n",
              "ENERO    51.01  59.96\n",
              "FEBRERO  51.35  60.78\n",
              "MARZO    51.49  60.71\n",
              "ABRIL    50.69  59.79\n",
              "MAYO     50.86  60.36\n",
              "JUNIO    50.97  59.92"
            ]
          },
          "metadata": {},
          "execution_count": 322
        }
      ]
    },
    {
      "cell_type": "code",
      "metadata": {
        "colab": {
          "base_uri": "https://localhost:8080/",
          "height": 319
        },
        "id": "p2fdJbDjngSK",
        "outputId": "1edd4ee1-9267-431c-bc88-7cfc27096b82"
      },
      "source": [
        "dfg.plot(kind = 'bar')"
      ],
      "execution_count": null,
      "outputs": [
        {
          "output_type": "execute_result",
          "data": {
            "text/plain": [
              "<matplotlib.axes._subplots.AxesSubplot at 0x7f9b46888710>"
            ]
          },
          "metadata": {},
          "execution_count": 323
        },
        {
          "output_type": "display_data",
          "data": {
            "image/png": "[encoded data removed]",
            "text/plain": [
              "<Figure size 432x288 with 1 Axes>"
            ]
          },
          "metadata": {
            "needs_background": "light"
          }
        }
      ]
    },
    {
      "cell_type": "markdown",
      "metadata": {
        "id": "7wdA6XKhnneO"
      },
      "source": [
        "*Finalmente, si se observa los ultimos dos graficos anteriores correspondientes a la PEA, PET, TBP y TGP no se ven cambios significativos en el transcurso de los primeros 6 meses del año 2021.*"
      ]
    },
    {
      "cell_type": "markdown",
      "metadata": {
        "id": "-zH5XUkwx_0t"
      },
      "source": [
        "#CLASIFICACIÓN LABORAL DE LA POBLACIÓN [MILES DE PERSONAS DURANTE EL PRIMER TRIMESTRE de 2021]"
      ]
    },
    {
      "cell_type": "code",
      "metadata": {
        "colab": {
          "base_uri": "https://localhost:8080/"
        },
        "id": "HC5-99BwyFdZ",
        "outputId": "7a03c050-3b9b-43ad-bab1-a430362a2c21"
      },
      "source": [
        "PT_PRIMER_TRIMESTRE = 28155 + 28962 + 28256\n",
        "PT_PRIMER_TRIMESTRE"
      ],
      "execution_count": null,
      "outputs": [
        {
          "output_type": "execute_result",
          "data": {
            "text/plain": [
              "85373"
            ]
          },
          "metadata": {},
          "execution_count": 324
        }
      ]
    },
    {
      "cell_type": "code",
      "metadata": {
        "colab": {
          "base_uri": "https://localhost:8080/"
        },
        "id": "AggpJVv11Qpc",
        "outputId": "fa1cc09b-2c35-401c-9114-91b8e7c2c1c6"
      },
      "source": [
        "masculino_e = Base_enero.loc[:, 'P6020'] == 1\n",
        "masculino_enero = sum(masculino_e)\n",
        "masculino_enero"
      ],
      "execution_count": null,
      "outputs": [
        {
          "output_type": "execute_result",
          "data": {
            "text/plain": [
              "13152"
            ]
          },
          "metadata": {},
          "execution_count": 330
        }
      ]
    },
    {
      "cell_type": "code",
      "metadata": {
        "colab": {
          "base_uri": "https://localhost:8080/"
        },
        "id": "OgtEZ4w021ow",
        "outputId": "a2cb7a87-5b33-4198-ea1a-9c425f9cd572"
      },
      "source": [
        "femenino_enero = 28155 - masculino_enero\n",
        "femenino_enero"
      ],
      "execution_count": null,
      "outputs": [
        {
          "output_type": "execute_result",
          "data": {
            "text/plain": [
              "15003"
            ]
          },
          "metadata": {},
          "execution_count": 331
        }
      ]
    },
    {
      "cell_type": "code",
      "metadata": {
        "colab": {
          "base_uri": "https://localhost:8080/"
        },
        "id": "wWvjDkde3Eql",
        "outputId": "ca902e51-6068-4094-8509-bacf6ef9b5e8"
      },
      "source": [
        "masculino_f = Base_febrero.loc[:, 'P6020'] == 1\n",
        "masculino_febrero = sum(masculino_f)\n",
        "masculino_febrero"
      ],
      "execution_count": null,
      "outputs": [
        {
          "output_type": "execute_result",
          "data": {
            "text/plain": [
              "13620"
            ]
          },
          "metadata": {},
          "execution_count": 332
        }
      ]
    },
    {
      "cell_type": "code",
      "metadata": {
        "colab": {
          "base_uri": "https://localhost:8080/"
        },
        "id": "KYgx9YUQ3VQ8",
        "outputId": "649be92d-61b0-43b6-db53-dbab5619ad6a"
      },
      "source": [
        "femenino_febrero = 28962 - masculino_febrero\n",
        "femenino_febrero"
      ],
      "execution_count": null,
      "outputs": [
        {
          "output_type": "execute_result",
          "data": {
            "text/plain": [
              "15342"
            ]
          },
          "metadata": {},
          "execution_count": 333
        }
      ]
    },
    {
      "cell_type": "code",
      "metadata": {
        "colab": {
          "base_uri": "https://localhost:8080/"
        },
        "id": "Hjx-xP103avj",
        "outputId": "fbf2caef-620a-41ab-b23c-b82d82184104"
      },
      "source": [
        "masculino_mar = Base_marzo.loc[:, 'P6020'] == 1\n",
        "masculino_marzo = sum(masculino_mar)\n",
        "masculino_marzo"
      ],
      "execution_count": null,
      "outputs": [
        {
          "output_type": "execute_result",
          "data": {
            "text/plain": [
              "13152"
            ]
          },
          "metadata": {},
          "execution_count": 334
        }
      ]
    },
    {
      "cell_type": "code",
      "metadata": {
        "colab": {
          "base_uri": "https://localhost:8080/"
        },
        "id": "22l1OeqO3iJZ",
        "outputId": "a5cb78e4-40ca-43b5-9e42-a55b8c4e797b"
      },
      "source": [
        "femenino_marzo = 28256 - masculino_marzo\n",
        "femenino_marzo"
      ],
      "execution_count": null,
      "outputs": [
        {
          "output_type": "execute_result",
          "data": {
            "text/plain": [
              "15104"
            ]
          },
          "metadata": {},
          "execution_count": 336
        }
      ]
    },
    {
      "cell_type": "code",
      "metadata": {
        "colab": {
          "base_uri": "https://localhost:8080/"
        },
        "id": "X_18eDU93ow8",
        "outputId": "1712273d-ddae-4a7d-85c5-75ade55364b1"
      },
      "source": [
        "mas_t = masculino_enero + masculino_febrero + masculino_marzo\n",
        "mas_t"
      ],
      "execution_count": null,
      "outputs": [
        {
          "output_type": "execute_result",
          "data": {
            "text/plain": [
              "39924"
            ]
          },
          "metadata": {},
          "execution_count": 339
        }
      ]
    },
    {
      "cell_type": "code",
      "metadata": {
        "colab": {
          "base_uri": "https://localhost:8080/"
        },
        "id": "zOaPrGFM3y4W",
        "outputId": "40e797e8-c191-417f-a8a7-9138c6fdcb08"
      },
      "source": [
        "fem_t = femenino_enero + femenino_febrero + femenino_marzo\n",
        "fem_t "
      ],
      "execution_count": null,
      "outputs": [
        {
          "output_type": "execute_result",
          "data": {
            "text/plain": [
              "45449"
            ]
          },
          "metadata": {},
          "execution_count": 340
        }
      ]
    },
    {
      "cell_type": "code",
      "metadata": {
        "colab": {
          "base_uri": "https://localhost:8080/"
        },
        "id": "GD-X3n6s3-Yt",
        "outputId": "be969502-d6b1-4b12-de0d-11ac7d966cb5"
      },
      "source": [
        "#PORCENTAJES HOMBRES\n",
        "(mas_t/PT_PRIMER_TRIMESTRE)*100"
      ],
      "execution_count": null,
      "outputs": [
        {
          "output_type": "execute_result",
          "data": {
            "text/plain": [
              "46.764199454159986"
            ]
          },
          "metadata": {},
          "execution_count": 343
        }
      ]
    },
    {
      "cell_type": "code",
      "metadata": {
        "colab": {
          "base_uri": "https://localhost:8080/"
        },
        "id": "bClu_X6N4Mql",
        "outputId": "dda07b14-aec1-47ed-b34c-80f2cb64d7df"
      },
      "source": [
        "#PORCENTAJE MUJERES\n",
        "(fem_t/PT_PRIMER_TRIMESTRE)*100"
      ],
      "execution_count": null,
      "outputs": [
        {
          "output_type": "execute_result",
          "data": {
            "text/plain": [
              "53.235800545840014"
            ]
          },
          "metadata": {},
          "execution_count": 344
        }
      ]
    },
    {
      "cell_type": "code",
      "metadata": {
        "colab": {
          "base_uri": "https://localhost:8080/"
        },
        "id": "mMD-Y9az4W7J",
        "outputId": "b35f6fe6-65ff-4a4d-cf1c-24cce1c83ffb"
      },
      "source": [
        "#POBLACION MENOR DE 12 AÑOS\n",
        "MENOR_T = sum(edad_menores_enero) + sum(edad_menores_febrero) + sum(edad_menores_marzo)\n",
        "MENOR_T"
      ],
      "execution_count": null,
      "outputs": [
        {
          "output_type": "execute_result",
          "data": {
            "text/plain": [
              "12991"
            ]
          },
          "metadata": {},
          "execution_count": 351
        }
      ]
    },
    {
      "cell_type": "code",
      "metadata": {
        "colab": {
          "base_uri": "https://localhost:8080/"
        },
        "id": "auArra_z4xcF",
        "outputId": "e44fb687-c3cf-4c85-aa07-097866664f98"
      },
      "source": [
        "PET_PRIMER_TRIMESTRE = 23951 + 24468 + 23963\n",
        "PET_PRIMER_TRIMESTRE"
      ],
      "execution_count": null,
      "outputs": [
        {
          "output_type": "execute_result",
          "data": {
            "text/plain": [
              "72382"
            ]
          },
          "metadata": {},
          "execution_count": 350
        }
      ]
    },
    {
      "cell_type": "code",
      "metadata": {
        "colab": {
          "base_uri": "https://localhost:8080/"
        },
        "id": "W9Jo2PjH5gaR",
        "outputId": "53cfad9c-2d25-44be-ab2a-7e739a299262"
      },
      "source": [
        "#CUANTOS HOMBRES HAY EN PET ENERO\n",
        "masculino_e = Base_enero.loc[:, 'P6020'] == 1\n",
        "df_masculino = Base_enero.loc[masculino_e]\n",
        "ed_m_enero= df_masculino.loc[:, 'P6040'] >= 12\n",
        "PET_M = sum(ed_m_enero)\n",
        "PET_M"
      ],
      "execution_count": null,
      "outputs": [
        {
          "output_type": "execute_result",
          "data": {
            "text/plain": [
              "11108"
            ]
          },
          "metadata": {},
          "execution_count": 356
        }
      ]
    },
    {
      "cell_type": "code",
      "metadata": {
        "colab": {
          "base_uri": "https://localhost:8080/"
        },
        "id": "AZxRo6Zv6vDC",
        "outputId": "95703c2d-2bee-44d5-b998-737d4c98ae89"
      },
      "source": [
        "#CUANTAS MUJERES HAY EN PET ENERO\n",
        "femenino_e = Base_enero.loc[:, 'P6020'] == 2\n",
        "df_femenino = Base_enero.loc[femenino_e]\n",
        "ed_f_enero= df_femenino.loc[:, 'P6040'] >= 12\n",
        "PET_F = sum(ed_f_enero)\n",
        "PET_F"
      ],
      "execution_count": null,
      "outputs": [
        {
          "output_type": "execute_result",
          "data": {
            "text/plain": [
              "12843"
            ]
          },
          "metadata": {},
          "execution_count": 357
        }
      ]
    },
    {
      "cell_type": "code",
      "metadata": {
        "colab": {
          "base_uri": "https://localhost:8080/"
        },
        "id": "v0oOg9eu7mvp",
        "outputId": "d835d83d-1403-437a-f16f-8480269ee997"
      },
      "source": [
        "PET_T_E = PET_M  + PET_F\n",
        "PET_T_E"
      ],
      "execution_count": null,
      "outputs": [
        {
          "output_type": "execute_result",
          "data": {
            "text/plain": [
              "23951"
            ]
          },
          "metadata": {},
          "execution_count": 359
        }
      ]
    },
    {
      "cell_type": "code",
      "metadata": {
        "colab": {
          "base_uri": "https://localhost:8080/"
        },
        "id": "UR7q7qQm7oFK",
        "outputId": "029c5e4a-c60d-4008-db19-74fcfddf3f0f"
      },
      "source": [
        "#CUANTOS HOMBRES HAY EN PET FEBRERO\n",
        "masculino_e_f = Base_febrero.loc[:, 'P6020'] == 1\n",
        "df_masculino_f = Base_febrero.loc[masculino_e_f]\n",
        "ed_m_febrero= df_masculino_f.loc[:, 'P6040'] >= 12\n",
        "PET_M_F = sum(ed_m_febrero)\n",
        "PET_M_F"
      ],
      "execution_count": null,
      "outputs": [
        {
          "output_type": "execute_result",
          "data": {
            "text/plain": [
              "11258"
            ]
          },
          "metadata": {},
          "execution_count": 360
        }
      ]
    },
    {
      "cell_type": "code",
      "metadata": {
        "colab": {
          "base_uri": "https://localhost:8080/"
        },
        "id": "VLssf0Ox8O9a",
        "outputId": "36cc5f2b-d2ae-4d31-f840-a0969e55a2ec"
      },
      "source": [
        "#CUANTAS MUJERES HAY EN PET FEBRERO\n",
        "femenino_e_f = Base_febrero.loc[:, 'P6020'] == 2\n",
        "df_femenino_f = Base_febrero.loc[femenino_e_f]\n",
        "ed_f_febrero= df_femenino_f.loc[:, 'P6040'] >= 12\n",
        "PET_F_F = sum(ed_f_febrero)\n",
        "PET_F_F"
      ],
      "execution_count": null,
      "outputs": [
        {
          "output_type": "execute_result",
          "data": {
            "text/plain": [
              "13210"
            ]
          },
          "metadata": {},
          "execution_count": 361
        }
      ]
    },
    {
      "cell_type": "code",
      "metadata": {
        "colab": {
          "base_uri": "https://localhost:8080/"
        },
        "id": "S3fB2z1w8e3Z",
        "outputId": "a9a98861-435b-4367-d5ed-56a82d3310c6"
      },
      "source": [
        "PET_T_F = PET_M_F + PET_F_F\n",
        "PET_T_F"
      ],
      "execution_count": null,
      "outputs": [
        {
          "output_type": "execute_result",
          "data": {
            "text/plain": [
              "24468"
            ]
          },
          "metadata": {},
          "execution_count": 363
        }
      ]
    },
    {
      "cell_type": "code",
      "metadata": {
        "colab": {
          "base_uri": "https://localhost:8080/"
        },
        "id": "mN87_UtK8iBM",
        "outputId": "173ddfb2-f330-4376-c394-2e15eacb3b4f"
      },
      "source": [
        "#CUANTOS HOMBRES HAY EN PET MARZO\n",
        "masculino_e_m = Base_marzo.loc[:, 'P6020'] == 1\n",
        "df_masculino_m = Base_marzo.loc[masculino_e_m]\n",
        "ed_m_marzo= df_masculino_m.loc[:, 'P6040'] >= 12\n",
        "PET_M_M = sum(ed_m_marzo)\n",
        "PET_M_M"
      ],
      "execution_count": null,
      "outputs": [
        {
          "output_type": "execute_result",
          "data": {
            "text/plain": [
              "10956"
            ]
          },
          "metadata": {},
          "execution_count": 364
        }
      ]
    },
    {
      "cell_type": "code",
      "metadata": {
        "colab": {
          "base_uri": "https://localhost:8080/"
        },
        "id": "DW0GeeP588OY",
        "outputId": "877a8b63-cd1b-47cf-bcda-db21a76a785d"
      },
      "source": [
        "#CUANTAS MUJERES HAY EN PET MARZO\n",
        "femenino_e_m = Base_marzo.loc[:, 'P6020'] == 2\n",
        "df_femenino_m = Base_marzo.loc[femenino_e_m]\n",
        "ed_f_marzo= df_femenino_m.loc[:, 'P6040'] >= 12\n",
        "PET_F_M= sum(ed_f_marzo)\n",
        "PET_F_M"
      ],
      "execution_count": null,
      "outputs": [
        {
          "output_type": "execute_result",
          "data": {
            "text/plain": [
              "13007"
            ]
          },
          "metadata": {},
          "execution_count": 365
        }
      ]
    },
    {
      "cell_type": "code",
      "metadata": {
        "colab": {
          "base_uri": "https://localhost:8080/"
        },
        "id": "2PGucftL9HBY",
        "outputId": "54bb9236-6da9-4d49-8f6e-c4f1163ef64f"
      },
      "source": [
        "PET_T_M = PET_M_M + PET_F_M\n",
        "PET_T_M"
      ],
      "execution_count": null,
      "outputs": [
        {
          "output_type": "execute_result",
          "data": {
            "text/plain": [
              "23963"
            ]
          },
          "metadata": {},
          "execution_count": 367
        }
      ]
    },
    {
      "cell_type": "code",
      "metadata": {
        "colab": {
          "base_uri": "https://localhost:8080/"
        },
        "id": "UupqqeuM9J-L",
        "outputId": "eaea7a36-bbfc-4b69-992d-8d93dc5bed1e"
      },
      "source": [
        "#SUMAS\n",
        "PET_HOMBRES = PET_M + PET_M_F + PET_M_M\n",
        "PET_HOMBRES\n"
      ],
      "execution_count": null,
      "outputs": [
        {
          "output_type": "execute_result",
          "data": {
            "text/plain": [
              "33322"
            ]
          },
          "metadata": {},
          "execution_count": 368
        }
      ]
    },
    {
      "cell_type": "code",
      "metadata": {
        "colab": {
          "base_uri": "https://localhost:8080/"
        },
        "id": "JQJPsuxq9lZ9",
        "outputId": "ab3bbb3e-17d1-47c2-cd51-9707f9374e90"
      },
      "source": [
        "PET_MUJERES = PET_F + PET_F_F + PET_F_M\n",
        "PET_MUJERES"
      ],
      "execution_count": null,
      "outputs": [
        {
          "output_type": "execute_result",
          "data": {
            "text/plain": [
              "39060"
            ]
          },
          "metadata": {},
          "execution_count": 369
        }
      ]
    },
    {
      "cell_type": "code",
      "metadata": {
        "colab": {
          "base_uri": "https://localhost:8080/"
        },
        "id": "vafVi79H906a",
        "outputId": "829e9e78-1819-4974-88a5-77f25b129a83"
      },
      "source": [
        "PET_T_E + PET_T_F + PET_T_M"
      ],
      "execution_count": null,
      "outputs": [
        {
          "output_type": "execute_result",
          "data": {
            "text/plain": [
              "72382"
            ]
          },
          "metadata": {},
          "execution_count": 371
        }
      ]
    },
    {
      "cell_type": "code",
      "metadata": {
        "colab": {
          "base_uri": "https://localhost:8080/"
        },
        "id": "PSzy405K9-CX",
        "outputId": "14889a08-8541-47e8-f833-83ef6d4f3f3c"
      },
      "source": [
        "#PORCENTAJE HOMBRES PET \n",
        "PET_H_POR = (PET_HOMBRES/PET_PRIMER_TRIMESTRE)*100\n",
        "PET_H_POR"
      ],
      "execution_count": null,
      "outputs": [
        {
          "output_type": "execute_result",
          "data": {
            "text/plain": [
              "46.036307369235445"
            ]
          },
          "metadata": {},
          "execution_count": 373
        }
      ]
    },
    {
      "cell_type": "code",
      "metadata": {
        "colab": {
          "base_uri": "https://localhost:8080/"
        },
        "id": "TlEAp3Kf-OwW",
        "outputId": "f0045c82-bb3c-49be-87a4-29959bcf77a4"
      },
      "source": [
        "#PORCENTAJE MUJERES PET \n",
        "PET_M_POR = (PET_MUJERES/PET_PRIMER_TRIMESTRE)*100\n",
        "PET_M_POR"
      ],
      "execution_count": null,
      "outputs": [
        {
          "output_type": "execute_result",
          "data": {
            "text/plain": [
              "53.96369263076456"
            ]
          },
          "metadata": {},
          "execution_count": 375
        }
      ]
    },
    {
      "cell_type": "code",
      "metadata": {
        "colab": {
          "base_uri": "https://localhost:8080/"
        },
        "id": "-XIX_vdv-byN",
        "outputId": "7701632c-2f21-4683-f826-e5b9642f5991"
      },
      "source": [
        "#POBLACION ECONOMICAMENTE ACTIVA (PEA)\n",
        "PEA_T_PRIMER_TRIMESTRE = 14362 + 14872 + 14550\n",
        "PEA_T_PRIMER_TRIMESTRE"
      ],
      "execution_count": null,
      "outputs": [
        {
          "output_type": "execute_result",
          "data": {
            "text/plain": [
              "43784"
            ]
          },
          "metadata": {},
          "execution_count": 377
        }
      ]
    },
    {
      "cell_type": "code",
      "metadata": {
        "colab": {
          "base_uri": "https://localhost:8080/"
        },
        "id": "9e7qSmn0_FXv",
        "outputId": "8d209c5c-0f64-4e8c-85d6-f87c81115bfd"
      },
      "source": [
        "#HOMBRES OCUPADOS ENERO\n",
        "ocupados_enero = Base_enero.loc[:, 'Estado'] == 'Ocupados'\n",
        "df_o_enero = Base_enero.loc[ocupados_enero]\n",
        "masculino_e_ocupados = df_o_enero.loc[:, 'P6020'] == 1 \n",
        "PEA_OCU_M = sum(masculino_e_ocupados)\n",
        "PEA_OCU_M\n"
      ],
      "execution_count": null,
      "outputs": [
        {
          "output_type": "execute_result",
          "data": {
            "text/plain": [
              "6523"
            ]
          },
          "metadata": {},
          "execution_count": 383
        }
      ]
    },
    {
      "cell_type": "code",
      "metadata": {
        "colab": {
          "base_uri": "https://localhost:8080/"
        },
        "id": "mLxsrl5TA1zc",
        "outputId": "aa40ce21-bc31-4bf3-dd8e-b12c1584420d"
      },
      "source": [
        "#MUJERES OCUPADAS ENERO\n",
        "PEA_OCU_F = 11699 - 6523\n",
        "PEA_OCU_F"
      ],
      "execution_count": null,
      "outputs": [
        {
          "output_type": "execute_result",
          "data": {
            "text/plain": [
              "5176"
            ]
          },
          "metadata": {},
          "execution_count": 382
        }
      ]
    },
    {
      "cell_type": "code",
      "metadata": {
        "colab": {
          "base_uri": "https://localhost:8080/"
        },
        "id": "26yRdmHOA8ZJ",
        "outputId": "0073217c-e5c8-4862-b334-06fc73160b8b"
      },
      "source": [
        "#HOMBRES DESOCUPADOS ENERO\n",
        "desocupados_enero = Base_enero.loc[:, 'Estado'] == 'Desocupados'\n",
        "df_d_enero = Base_enero.loc[desocupados_enero]\n",
        "masculino_e_desocupados = df_d_enero.loc[:, 'P6020'] == 1 \n",
        "PEA_DOCU_M = sum(masculino_e_desocupados)\n",
        "PEA_DOCU_M"
      ],
      "execution_count": null,
      "outputs": [
        {
          "output_type": "execute_result",
          "data": {
            "text/plain": [
              "1215"
            ]
          },
          "metadata": {},
          "execution_count": 388
        }
      ]
    },
    {
      "cell_type": "code",
      "metadata": {
        "colab": {
          "base_uri": "https://localhost:8080/"
        },
        "id": "jDQDFnbEBgVV",
        "outputId": "7f92d18f-3dbb-4112-cb87-c41f08729b72"
      },
      "source": [
        "#MUJERES DESOCUPADAS ENERO\n",
        "PEA_DOCU_F = 2663-1215\n",
        "PEA_DOCU_F"
      ],
      "execution_count": null,
      "outputs": [
        {
          "output_type": "execute_result",
          "data": {
            "text/plain": [
              "1448"
            ]
          },
          "metadata": {},
          "execution_count": 389
        }
      ]
    },
    {
      "cell_type": "code",
      "metadata": {
        "colab": {
          "base_uri": "https://localhost:8080/"
        },
        "id": "l2UUblsbBuL5",
        "outputId": "394f16ff-639a-48ab-b84b-a2c7c38c909f"
      },
      "source": [
        "#HOMBRES OCUPADOS FEBRERO\n",
        "ocupados_febrero = Base_febrero.loc[:, 'Estado'] == 'Ocupados'\n",
        "df_o_febrero = Base_febrero.loc[ocupados_febrero]\n",
        "masculino_f_ocupados = df_o_febrero.loc[:, 'P6020'] == 1 \n",
        "PEA_OCU_M_F = sum(masculino_f_ocupados)\n",
        "PEA_OCU_M_F"
      ],
      "execution_count": null,
      "outputs": [
        {
          "output_type": "execute_result",
          "data": {
            "text/plain": [
              "6822"
            ]
          },
          "metadata": {},
          "execution_count": 394
        }
      ]
    },
    {
      "cell_type": "code",
      "metadata": {
        "colab": {
          "base_uri": "https://localhost:8080/"
        },
        "id": "rjiglPnkCSqW",
        "outputId": "90d3b42e-2306-4520-bcaf-a979e8062173"
      },
      "source": [
        "#MUJERES OCUPADAS FEBRERO\n",
        "PEA_OCU_F_F = 12367-6822\n",
        "PEA_OCU_F_F"
      ],
      "execution_count": null,
      "outputs": [
        {
          "output_type": "execute_result",
          "data": {
            "text/plain": [
              "5545"
            ]
          },
          "metadata": {},
          "execution_count": 395
        }
      ]
    },
    {
      "cell_type": "code",
      "metadata": {
        "colab": {
          "base_uri": "https://localhost:8080/"
        },
        "id": "LkCCRhpdCR3d",
        "outputId": "f714abde-de27-4323-e847-ef8e60d28834"
      },
      "source": [
        "#HOMBRES DESOCUPADOS FEBRERO\n",
        "desocupados_febrero = Base_febrero.loc[:, 'Estado'] == 'Desocupados'\n",
        "df_d_febrero = Base_febrero.loc[desocupados_febrero]\n",
        "masculino_f_desocupados = df_d_febrero.loc[:, 'P6020'] == 1 \n",
        "PEA_DOCU_M_F = sum(masculino_f_desocupados)\n",
        "PEA_DOCU_M_F"
      ],
      "execution_count": null,
      "outputs": [
        {
          "output_type": "execute_result",
          "data": {
            "text/plain": [
              "1118"
            ]
          },
          "metadata": {},
          "execution_count": 400
        }
      ]
    },
    {
      "cell_type": "code",
      "metadata": {
        "colab": {
          "base_uri": "https://localhost:8080/"
        },
        "id": "0oOBP0RdC_q7",
        "outputId": "1afa534f-5ac2-4e12-8c7c-2bd3c7d840e5"
      },
      "source": [
        "#MUJERES DESOCUPADAS FEBRERO\n",
        "PEA_DOCU_F_F = 2505-1118\n",
        "PEA_DOCU_F_F"
      ],
      "execution_count": null,
      "outputs": [
        {
          "output_type": "execute_result",
          "data": {
            "text/plain": [
              "1387"
            ]
          },
          "metadata": {},
          "execution_count": 401
        }
      ]
    },
    {
      "cell_type": "code",
      "metadata": {
        "colab": {
          "base_uri": "https://localhost:8080/"
        },
        "id": "e_lI80pMDLqT",
        "outputId": "ff33f508-4682-4999-d1cd-01c84bdc1f06"
      },
      "source": [
        "#HOMBRES OCUPADOS MARZO\n",
        "ocupados_marzo = Base_marzo.loc[:, 'Estado'] == 'Ocupados'\n",
        "df_o_marzo = Base_marzo.loc[ocupados_marzo]\n",
        "masculino_mar_ocupados = df_o_marzo.loc[:, 'P6020'] == 1 \n",
        "PEA_OCU_M_MAR = sum(masculino_mar_ocupados)\n",
        "PEA_OCU_M_MAR"
      ],
      "execution_count": null,
      "outputs": [
        {
          "output_type": "execute_result",
          "data": {
            "text/plain": [
              "6682"
            ]
          },
          "metadata": {},
          "execution_count": 405
        }
      ]
    },
    {
      "cell_type": "code",
      "metadata": {
        "colab": {
          "base_uri": "https://localhost:8080/"
        },
        "id": "MruQR0MIDgaw",
        "outputId": "db347c17-f837-4a4e-b8ed-b5d3fa820169"
      },
      "source": [
        "#MUJERES OCUPADAS MARZO\n",
        "PEA_OCU_F_MAR = 12254-6682\n",
        "PEA_OCU_F_MAR "
      ],
      "execution_count": null,
      "outputs": [
        {
          "output_type": "execute_result",
          "data": {
            "text/plain": [
              "5572"
            ]
          },
          "metadata": {},
          "execution_count": 406
        }
      ]
    },
    {
      "cell_type": "code",
      "metadata": {
        "colab": {
          "base_uri": "https://localhost:8080/"
        },
        "id": "HbmxJ0VuDzwX",
        "outputId": "60ef5675-2153-467c-e709-f1bc4fced30b"
      },
      "source": [
        "#HOMBRES DESOCUPADOS MARZO\n",
        "desocupados_marzo = Base_marzo.loc[:, 'Estado'] == 'Desocupados'\n",
        "df_d_marzo = Base_marzo.loc[desocupados_marzo]\n",
        "masculino_mar_desocupados = df_d_marzo.loc[:, 'P6020'] == 1 \n",
        "PEA_DOCU_M_MAR = sum(masculino_mar_desocupados)\n",
        "PEA_DOCU_M_MAR"
      ],
      "execution_count": null,
      "outputs": [
        {
          "output_type": "execute_result",
          "data": {
            "text/plain": [
              "1022"
            ]
          },
          "metadata": {},
          "execution_count": 410
        }
      ]
    },
    {
      "cell_type": "code",
      "metadata": {
        "colab": {
          "base_uri": "https://localhost:8080/"
        },
        "id": "UEjnJ-BhEJsa",
        "outputId": "e06ffbe2-5d55-49df-90d3-0ea0b3c5c34d"
      },
      "source": [
        "#MUJERES DESOCUPADAS MARZO\n",
        "PEA_DOCU_F_MAR = 2296-1022\n",
        "PEA_DOCU_F_MAR"
      ],
      "execution_count": null,
      "outputs": [
        {
          "output_type": "execute_result",
          "data": {
            "text/plain": [
              "1274"
            ]
          },
          "metadata": {},
          "execution_count": 411
        }
      ]
    },
    {
      "cell_type": "code",
      "metadata": {
        "colab": {
          "base_uri": "https://localhost:8080/"
        },
        "id": "0vMdfmoQEWGW",
        "outputId": "6593f43b-fde2-4baf-b87b-768fd209b9fc"
      },
      "source": [
        "#SUMAS HOMBRES OCUPADOS\n",
        "PEA_H_OCU = PEA_OCU_M + PEA_OCU_M_F + PEA_OCU_M_MAR\n",
        "PEA_H_OCU"
      ],
      "execution_count": null,
      "outputs": [
        {
          "output_type": "execute_result",
          "data": {
            "text/plain": [
              "20027"
            ]
          },
          "metadata": {},
          "execution_count": 413
        }
      ]
    },
    {
      "cell_type": "code",
      "metadata": {
        "colab": {
          "base_uri": "https://localhost:8080/"
        },
        "id": "mXWSy4b_ElMf",
        "outputId": "ebe242a4-783e-4e26-cb60-dd403a36011a"
      },
      "source": [
        "#SUMAS HOMBRES DESOCUPADOS\n",
        "PEA_H_DOCU = PEA_DOCU_M + PEA_DOCU_M_F + PEA_DOCU_M_MAR\n",
        "PEA_H_DOCU"
      ],
      "execution_count": null,
      "outputs": [
        {
          "output_type": "execute_result",
          "data": {
            "text/plain": [
              "3355"
            ]
          },
          "metadata": {},
          "execution_count": 415
        }
      ]
    },
    {
      "cell_type": "code",
      "metadata": {
        "colab": {
          "base_uri": "https://localhost:8080/"
        },
        "id": "rHBF_AqNE_kW",
        "outputId": "b17f29c1-c2eb-4ef7-cb11-7294bc834b99"
      },
      "source": [
        "#HOMBRES QUE ESTAN EN LA POBLACION ECONOMICAMENTE ACTIVA\n",
        "PEA_T_T_H = PEA_H_OCU + PEA_H_DOCU\n",
        "PEA_T_T_H"
      ],
      "execution_count": null,
      "outputs": [
        {
          "output_type": "execute_result",
          "data": {
            "text/plain": [
              "23382"
            ]
          },
          "metadata": {},
          "execution_count": 417
        }
      ]
    },
    {
      "cell_type": "code",
      "metadata": {
        "colab": {
          "base_uri": "https://localhost:8080/"
        },
        "id": "z3lWDRKoFSQv",
        "outputId": "daabcbaa-b249-462c-e3aa-429686da5f65"
      },
      "source": [
        "#SUMAS MUJERES OCUPADAS\n",
        "PEA_M_OCU = PEA_OCU_F + PEA_OCU_F_F + PEA_OCU_F_MAR\n",
        "PEA_M_OCU"
      ],
      "execution_count": null,
      "outputs": [
        {
          "output_type": "execute_result",
          "data": {
            "text/plain": [
              "16293"
            ]
          },
          "metadata": {},
          "execution_count": 418
        }
      ]
    },
    {
      "cell_type": "code",
      "metadata": {
        "colab": {
          "base_uri": "https://localhost:8080/"
        },
        "id": "-mHQ7DM5F5U_",
        "outputId": "e6742db1-e200-4de0-8120-e644874c759d"
      },
      "source": [
        "#SUMA MUJERES DESOCUPADAS\n",
        "PEA_M_DOCU = PEA_DOCU_F + PEA_DOCU_F_F + PEA_DOCU_F_MAR\n",
        "PEA_M_DOCU"
      ],
      "execution_count": null,
      "outputs": [
        {
          "output_type": "execute_result",
          "data": {
            "text/plain": [
              "4109"
            ]
          },
          "metadata": {},
          "execution_count": 419
        }
      ]
    },
    {
      "cell_type": "code",
      "metadata": {
        "colab": {
          "base_uri": "https://localhost:8080/"
        },
        "id": "ohrEn0hfGHez",
        "outputId": "04ada9ec-f20a-46bc-bb5c-7a977eba6937"
      },
      "source": [
        "#MUJERES QUE ESTAN EN LA POBLACION ECONOMICAMENTE ACTIVA\n",
        "PEA_T_T_M = PEA_M_OCU + PEA_M_DOCU\n",
        "PEA_T_T_M"
      ],
      "execution_count": null,
      "outputs": [
        {
          "output_type": "execute_result",
          "data": {
            "text/plain": [
              "20402"
            ]
          },
          "metadata": {},
          "execution_count": 420
        }
      ]
    },
    {
      "cell_type": "code",
      "metadata": {
        "colab": {
          "base_uri": "https://localhost:8080/"
        },
        "id": "WrtIyGlIGP3q",
        "outputId": "56458125-74cc-4891-dd44-d7535e8a716e"
      },
      "source": [
        "PEA_T_T_T = PEA_T_T_M + PEA_T_T_H\n",
        "PEA_T_T_T"
      ],
      "execution_count": null,
      "outputs": [
        {
          "output_type": "execute_result",
          "data": {
            "text/plain": [
              "43784"
            ]
          },
          "metadata": {},
          "execution_count": 421
        }
      ]
    },
    {
      "cell_type": "code",
      "metadata": {
        "colab": {
          "base_uri": "https://localhost:8080/"
        },
        "id": "wZZZFQKCGWTS",
        "outputId": "a52b5b8e-6033-4574-82f7-15e4a804dec6"
      },
      "source": [
        "#PORCENTAJES\n",
        "#HOMBRES QUE ESTAN EN LA POBLACION ECONOMICAMENTE ACTIVA\n",
        "HH = (PEA_T_T_H/PEA_T_T_T)*100\n",
        "HH"
      ],
      "execution_count": null,
      "outputs": [
        {
          "output_type": "execute_result",
          "data": {
            "text/plain": [
              "53.40306961447104"
            ]
          },
          "metadata": {},
          "execution_count": 422
        }
      ]
    },
    {
      "cell_type": "code",
      "metadata": {
        "colab": {
          "base_uri": "https://localhost:8080/"
        },
        "id": "kF1q43rnHGIw",
        "outputId": "b56b5a24-5a2a-464c-9445-db66d81a1912"
      },
      "source": [
        "#MUJERES QUE ESTAN EN LA POBLACION ECONOMICAMENTE ACTIVA\n",
        "MM = (PEA_T_T_M/PEA_T_T_T)*100\n",
        "MM"
      ],
      "execution_count": null,
      "outputs": [
        {
          "output_type": "execute_result",
          "data": {
            "text/plain": [
              "46.596930385528964"
            ]
          },
          "metadata": {},
          "execution_count": 423
        }
      ]
    },
    {
      "cell_type": "code",
      "metadata": {
        "id": "peP6zmMkHL89"
      },
      "source": [
        ""
      ],
      "execution_count": null,
      "outputs": []
    },
    {
      "cell_type": "markdown",
      "metadata": {
        "id": "Sa1ZyDuw4ZcF"
      },
      "source": [
        "# Distribuciones"
      ]
    },
    {
      "cell_type": "code",
      "metadata": {
        "id": "MVyfhvWi4gt6"
      },
      "source": [
        "Valores = dt_total[\"P6500\"].drop_duplicates().dropna() != \" \"\n",
        "P6500 = pd.DataFrame(dt_total[\"P6500\"]).drop_duplicates().dropna() ; P6500\n",
        "plt.hist(P6500[Valores][\"P6500\"]/1000, bins = 30)"
      ],
      "execution_count": null,
      "outputs": []
    },
    {
      "cell_type": "code",
      "metadata": {
        "id": "kHx5YCdR4j8E"
      },
      "source": [
        "Valores = dt_total[\"P6850\"].drop_duplicates().dropna() != \" \"\n",
        "P6850 = pd.DataFrame(dt_total[\"P6850\"]).drop_duplicates().dropna() \n",
        "plt.hist(P6850[Valores][\"P6850\"], bins = 40)"
      ],
      "execution_count": null,
      "outputs": []
    },
    {
      "cell_type": "code",
      "metadata": {
        "id": "iC3Asbsr4orD"
      },
      "source": [
        "Valores = dt_total[\"P6790\"].drop_duplicates().dropna() != \" \"\n",
        "P6790 = pd.DataFrame(dt_total[\"P6790\"]).drop_duplicates().dropna() \n",
        "plt.hist(P6790[Valores][\"P6790\"], bins = 40)"
      ],
      "execution_count": null,
      "outputs": []
    },
    {
      "cell_type": "code",
      "metadata": {
        "id": "E67X2qpE4-rh"
      },
      "source": [
        "Valores = dt_total[\"P7320\"].drop_duplicates().dropna() != \" \"\n",
        "P7320 = pd.DataFrame(dt_total[\"P7320\"]).drop_duplicates().dropna() \n",
        "plt.hist(P7320[Valores][\"P7320\"], bins = 40)"
      ],
      "execution_count": null,
      "outputs": []
    },
    {
      "cell_type": "code",
      "metadata": {
        "id": "nn_Tt0sl5CHh"
      },
      "source": [
        "Valores = dt_total[\"P7422S1\"].drop_duplicates().dropna() != \" \"\n",
        "P7422S1 = pd.DataFrame(dt_total[\"P7422S1\"]).drop_duplicates().dropna() \n",
        "plt.hist(P7422S1[Valores][\"P7422S1\"], bins = 40)"
      ],
      "execution_count": null,
      "outputs": []
    },
    {
      "cell_type": "code",
      "metadata": {
        "id": "pqTF227L5GxS"
      },
      "source": [
        "Valores = dt_total[\"P1884\"].drop_duplicates().dropna() != \" \"\n",
        "P1884 = pd.DataFrame(dt_total[\"P1884\"]).drop_duplicates().dropna() \n",
        "plt.hist(P1884[Valores][\"P1884\"], bins = 40)"
      ],
      "execution_count": null,
      "outputs": []
    }
  ]
}