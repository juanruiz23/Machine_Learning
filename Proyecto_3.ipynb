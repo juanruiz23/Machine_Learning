{
  "nbformat": 4,
  "nbformat_minor": 0,
  "metadata": {
    "colab": {
      "name": "Proyecto 3.ipynb",
      "provenance": [],
      "collapsed_sections": []
    },
    "kernelspec": {
      "name": "python3",
      "display_name": "Python 3"
    },
    "language_info": {
      "name": "python"
    }
  },
  "cells": [
    {
      "cell_type": "markdown",
      "metadata": {
        "id": "GK0WuxAGSLr3"
      },
      "source": [
        "# Watermelon"
      ]
    },
    {
      "cell_type": "code",
      "metadata": {
        "id": "X6ljsDdoSG7B"
      },
      "source": [
        "def reparticion(w):\n",
        "  if (w>=1) and (w<=100) and type(w) == int: # Verificar si el peso de la sandia es entero y encuentra entre 0 y 100\n",
        "    if w%2 == 0: # Comprobar si el peso de la sandia es par, de ser asi, existira alguna forma de dividir la sandia en dos numeros pares.\n",
        "      print(\"Si\") # En caso de cumplirse esta condicion, se imprimera un \"Si\", dado que si es posible la division de la sandía\n",
        "    else:\n",
        "      print(\"No\") # Si no cumple la condicion de ser par, es impar, lo cual impide que se pueda dividir en dos partes pares.\n",
        "  else:\n",
        "    print(\" El peso de la sandia debe ser un numero entero entre 1 y 100\") # En caso que el dato ingresado no cumpla las condiciones requeridas."
      ],
      "execution_count": 1,
      "outputs": []
    },
    {
      "cell_type": "code",
      "metadata": {
        "colab": {
          "base_uri": "https://localhost:8080/"
        },
        "id": "F2qyViduSu7z",
        "outputId": "4dff5fe1-5ad3-4588-8311-c161d1ff9dc2"
      },
      "source": [
        "reparticion(8)"
      ],
      "execution_count": 3,
      "outputs": [
        {
          "output_type": "stream",
          "name": "stdout",
          "text": [
            "Si\n"
          ]
        }
      ]
    },
    {
      "cell_type": "markdown",
      "metadata": {
        "id": "CvBFjXTVTv46"
      },
      "source": [
        "# Way Too Long Words"
      ]
    },
    {
      "cell_type": "code",
      "metadata": {
        "id": "SlwJvrI3T00x"
      },
      "source": [
        "def escritura(n,*args): # Ingresar cantidad de palabras y cada una de las palabras.\n",
        "  for arg in args:\n",
        "    if (len(arg) >= 1) and (len(arg) <= 10): # Verificar si la longitud de las palabras esta entra 1 y 10 inclusive\n",
        "      print(arg) # Si se cumple esta condicion, no sera necesario escribir con una abreviatura espacial la palabra, se escribe de la misma forma.\n",
        "    else: # En caso de no cumplir la condicion, hallamos la primera letra y la ultima letra de la palabra.\n",
        "      reduccion = arg[0] + str(len(arg) - 2) + arg [len(arg) - 1] # Tambien calculamos la cantidad de letras que hay entre estas la primera y ultima letra\n",
        "      print(reduccion) # de la pabra, sumamos y imprimos\n",
        "\n"
      ],
      "execution_count": 4,
      "outputs": []
    },
    {
      "cell_type": "code",
      "metadata": {
        "colab": {
          "base_uri": "https://localhost:8080/"
        },
        "id": "Jo24DRv5UuUJ",
        "outputId": "927bd965-582d-4dad-acd3-d5777ab9db47"
      },
      "source": [
        "escritura(4, \"palabras\", \"localización\", \"internacionalización\", \"pneumonoultramicroscopicsilicovolcanoconiosis\")"
      ],
      "execution_count": 5,
      "outputs": [
        {
          "output_type": "stream",
          "name": "stdout",
          "text": [
            "palabras\n",
            "l10n\n",
            "i18n\n",
            "p43s\n"
          ]
        }
      ]
    },
    {
      "cell_type": "markdown",
      "metadata": {
        "id": "_PnPPbiSW5mO"
      },
      "source": [
        "## Team"
      ]
    },
    {
      "cell_type": "code",
      "metadata": {
        "id": "5JVzQ03HO6pv"
      },
      "source": [
        "def solucion(n,matriz): # El programa recibe la cantidad de problemas y la matriz correspondiente a si las amigas conocen o no la solución del problema.\n",
        "  a = 0                 \n",
        "  for i in range(n):\n",
        "    if sum(M[i]) >= 2: # Si la suma de la columna 1 es mayor a dos, quiere decir que por lo menos dos amigas conocen la solución del problema.\n",
        "      a +=  1  # Si se cumple esto, el grupo implementara el problema.\n",
        "    else:\n",
        "      a = a # Si no se cumple, el grupo no implementara el problema.\n",
        "  \n",
        "  print(a)"
      ],
      "execution_count": 191,
      "outputs": []
    },
    {
      "cell_type": "code",
      "metadata": {
        "colab": {
          "base_uri": "https://localhost:8080/"
        },
        "id": "t5SdPTduTKQF",
        "outputId": "23331b6f-06a1-43fa-c90a-7c4d36f806fd"
      },
      "source": [
        "M = [[1,1,1],\n",
        "     [1,1,1],\n",
        "     [1,0,0]]\n",
        "solucion(3,M)"
      ],
      "execution_count": 193,
      "outputs": [
        {
          "output_type": "stream",
          "name": "stdout",
          "text": [
            "2\n"
          ]
        }
      ]
    },
    {
      "cell_type": "markdown",
      "metadata": {
        "id": "Kg0mkI3EdDBF"
      },
      "source": [
        "# Next Round"
      ]
    },
    {
      "cell_type": "code",
      "metadata": {
        "id": "GJ2OZO0xtsge"
      },
      "source": [
        "def next_round(n,k,calificaciones):\n",
        "  contador = 0\n",
        "  calificacion_k = calificaciones[k] # Calificacion del k-esimo lugar\n",
        "  for i in range(8):\n",
        "    if (n>=1) and (n<=50) and (k>=1) and (k<=50) and (k<=n) and (calificaciones[i] >= 0) and (calificaciones[i] <= 100): # Condiciones\n",
        "      if a[i] >= calificacion_k: # Si la calificacion es mayor a la calificacion del k-esimo lugar avanzara a la sigueinte ronda.\n",
        "        contador = contador + 1\n",
        "      else:\n",
        "        contador = contador # Si no cumple la condicion no avanzara a la siguiente ronda\n",
        "    else:  \n",
        "      print(\"No estan cumpliendo las condiciones para los valores ingresados\") # En caso que las condiciones no se cumplan.\n",
        "  print(contador)"
      ],
      "execution_count": 196,
      "outputs": []
    },
    {
      "cell_type": "code",
      "metadata": {
        "colab": {
          "base_uri": "https://localhost:8080/"
        },
        "id": "59SzanRUvRe0",
        "outputId": "3f2e732d-934d-48bc-e038-38bde4ba807c"
      },
      "source": [
        "a = [10,9,8,7,7,7,5,5]\n",
        "next_round(8,5,a)"
      ],
      "execution_count": 197,
      "outputs": [
        {
          "output_type": "stream",
          "name": "stdout",
          "text": [
            "6\n"
          ]
        }
      ]
    },
    {
      "cell_type": "markdown",
      "metadata": {
        "id": "m5T5n-rijdw9"
      },
      "source": [
        "## Domino  piling"
      ]
    },
    {
      "cell_type": "code",
      "metadata": {
        "id": "YN4ILRc8koYU"
      },
      "source": [
        "import math\n",
        "def domino(M,N): # \n",
        "  if (M>=1) and (M<=16) and (N>=1) and (N<=16) and (M<=N): # Comprobar si se cumplen estas condiciones\n",
        "    return(math.floor(M*N/2)) # Como cada domino ocupa dos cuadros, cabran M*N/2 fichas de domino, el floor redonde hacia abajo a fin de no exederse de la\n",
        "  else: # cantidad máxima de dominós posibles\n",
        "    \" Los valores ingresados no son validos\""
      ],
      "execution_count": 101,
      "outputs": []
    },
    {
      "cell_type": "code",
      "metadata": {
        "colab": {
          "base_uri": "https://localhost:8080/"
        },
        "id": "6gu31U7Nl83R",
        "outputId": "0ff8f13a-3bfe-4f84-cb9f-6ca4e2bd054a"
      },
      "source": [
        "domino(3,3)"
      ],
      "execution_count": 103,
      "outputs": [
        {
          "output_type": "execute_result",
          "data": {
            "text/plain": [
              "4"
            ]
          },
          "metadata": {},
          "execution_count": 103
        }
      ]
    },
    {
      "cell_type": "code",
      "metadata": {
        "id": "XOyLijPlmC9z",
        "colab": {
          "base_uri": "https://localhost:8080/"
        },
        "outputId": "60c2a542-772a-4205-ee41-c26e10cb1ad7"
      },
      "source": [
        "domino(2,4)"
      ],
      "execution_count": 102,
      "outputs": [
        {
          "output_type": "execute_result",
          "data": {
            "text/plain": [
              "4"
            ]
          },
          "metadata": {},
          "execution_count": 102
        }
      ]
    },
    {
      "cell_type": "code",
      "metadata": {
        "id": "LaazAdXFha_1"
      },
      "source": [
        ""
      ],
      "execution_count": null,
      "outputs": []
    }
  ]
}