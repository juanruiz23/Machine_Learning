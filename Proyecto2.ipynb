{
  "nbformat": 4,
  "nbformat_minor": 0,
  "metadata": {
    "colab": {
      "name": "Proyecto2.ipynb",
      "provenance": [],
      "authorship_tag": "ABX9TyM9Qpbt49UKi/19ZbDdavv8",
      "include_colab_link": true
    },
    "kernelspec": {
      "name": "python3",
      "display_name": "Python 3"
    },
    "language_info": {
      "name": "python"
    }
  },
  "cells": [
    {
      "cell_type": "markdown",
      "metadata": {
        "id": "view-in-github",
        "colab_type": "text"
      },
      "source": [
        "<a href=\"https://colab.research.google.com/github/juanruiz23/Machine_Learning/blob/main/Proyecto2.ipynb\" target=\"_parent\"><img src=\"https://colab.research.google.com/assets/colab-badge.svg\" alt=\"Open In Colab\"/></a>"
      ]
    },
    {
      "cell_type": "code",
      "metadata": {
        "id": "x4zhsVMsDLBs"
      },
      "source": [
        "class Consumidor:\n",
        "\n",
        "  def __init__(self, dias_trabajo: int, monto_cuenta: float, capacidad_cuenta: float):\n",
        "    self.dias_trabajo = dias_trabajo\n",
        "    self.monto_cuenta = monto_cuenta\n",
        "    self.capacidad_cuenta = capacidad_cuenta\n",
        "  def laborado(self):\n",
        "    if self.dias_trabajo == 0:\n",
        "      print('Esta al día en sus pagos salariales.')\n",
        "    else:\n",
        "      print(f'Le deben {self.dias_trabajo} días trabajados')\n",
        "  \n",
        "  def estado_cuenta(self):\n",
        "    if (self.monto_cuenta >= -1*(self.capacidad_cuenta*0.15)) & (self.monto_cuenta <= self.capacidad_cuenta):\n",
        "       print(f'Usted cuenta con un saldo de ${self.monto_cuenta}, un cupo de credito de ${self.capacidad_cuenta*0.15} y la capacidad de su cuenta es de ${self.capacidad_cuenta}. ')\n",
        "    elif  self.monto_cuenta <= -1*(self.capacidad_cuenta*0.15):\n",
        "       print(f'Usted excedio el  cupo de credito el cual es de ${self.capacidad_cuenta*0.15}.')\n",
        "    else:\n",
        "       print(f'Usted excedio la capacidad de su cuenta la cual es de ${self.capacidad_cuenta}.')\n",
        "       \n",
        "       \n",
        "  def valor_dias(self,  pago_dia: float):\n",
        "    if pago_dia >= 0:\n",
        "       self.monto_cuenta = self.monto_cuenta + pago_dia*self.dias_trabajo\n",
        "       self.dias_trabajo = 0\n",
        "       print(f'Su monto es de ${self.monto_cuenta}.')\n",
        "    else:\n",
        "       print('Error de monto día laborado.')\n",
        "  \n",
        "  def comprar(self, valor_pagar):\n",
        "    if self.monto_cuenta >= -1*(self.capacidad_cuenta*0.15):\n",
        "       if (valor_pagar > 0):\n",
        "          self.monto_cuenta = self.monto_cuenta - valor_pagar\n",
        "          print(f'Su saldo es de ${self.monto_cuenta}.')\n",
        "       else:\n",
        "          print(f'Fondos insuficientes, cuenta con ${self.monto_cuenta}.')\n",
        "    else:\n",
        "      print(f'Fondos insuficientes, usted debe ${self.monto_cuenta}')\n",
        "    \n",
        "\n",
        "\n",
        "      \n",
        "\n",
        "\n",
        "    "
      ],
      "execution_count": 146,
      "outputs": []
    },
    {
      "cell_type": "code",
      "metadata": {
        "id": "D0tKlqcJEXSp"
      },
      "source": [
        "Consumidor_1 = Consumidor(10,-460000,3000000)"
      ],
      "execution_count": 147,
      "outputs": []
    },
    {
      "cell_type": "code",
      "metadata": {
        "colab": {
          "base_uri": "https://localhost:8080/"
        },
        "id": "miYTwBuPEihU",
        "outputId": "07b3b3fa-92f2-4af5-94c1-745b5f3c403a"
      },
      "source": [
        "Consumidor_1.dias_trabajo"
      ],
      "execution_count": 148,
      "outputs": [
        {
          "output_type": "execute_result",
          "data": {
            "text/plain": [
              "10"
            ]
          },
          "metadata": {},
          "execution_count": 148
        }
      ]
    },
    {
      "cell_type": "code",
      "metadata": {
        "colab": {
          "base_uri": "https://localhost:8080/"
        },
        "id": "Ao1eRR-uEoM0",
        "outputId": "cb7eddf2-9f46-48ce-9864-ad4ba25132e7"
      },
      "source": [
        "Consumidor_1.laborado()"
      ],
      "execution_count": 149,
      "outputs": [
        {
          "output_type": "stream",
          "name": "stdout",
          "text": [
            "Le deben 10 días trabajados\n"
          ]
        }
      ]
    },
    {
      "cell_type": "code",
      "metadata": {
        "colab": {
          "base_uri": "https://localhost:8080/"
        },
        "id": "6_cou0fcFeTV",
        "outputId": "eac60197-03b5-4a28-9c9f-91829910766f"
      },
      "source": [
        "Consumidor_1.valor_dias(50000)"
      ],
      "execution_count": 151,
      "outputs": [
        {
          "output_type": "stream",
          "name": "stdout",
          "text": [
            "Su monto es de $40000.\n"
          ]
        }
      ]
    },
    {
      "cell_type": "code",
      "metadata": {
        "colab": {
          "base_uri": "https://localhost:8080/"
        },
        "id": "casicg8KFnW1",
        "outputId": "20d9cff6-f06e-4593-a583-84dfa18fade1"
      },
      "source": [
        "Consumidor_1.laborado()"
      ],
      "execution_count": 153,
      "outputs": [
        {
          "output_type": "stream",
          "name": "stdout",
          "text": [
            "Esta al día en sus pagos salariales.\n"
          ]
        }
      ]
    },
    {
      "cell_type": "code",
      "metadata": {
        "colab": {
          "base_uri": "https://localhost:8080/"
        },
        "id": "h9b-g4OKRv1t",
        "outputId": "ef021bf7-bb62-4f72-b5c9-45b1427ea929"
      },
      "source": [
        "Consumidor_1.estado_cuenta()"
      ],
      "execution_count": 154,
      "outputs": [
        {
          "output_type": "stream",
          "name": "stdout",
          "text": [
            "Usted cuenta con un saldo de $40000, un cupo de credito de $450000.0 y la capacidad de su cuenta es de $3000000. \n"
          ]
        }
      ]
    },
    {
      "cell_type": "code",
      "metadata": {
        "colab": {
          "base_uri": "https://localhost:8080/"
        },
        "id": "6zVFZChwbk48",
        "outputId": "f126e9c4-d3ea-4e97-8980-8c09a1d0a836"
      },
      "source": [
        "Consumidor_1.comprar(2000)"
      ],
      "execution_count": 155,
      "outputs": [
        {
          "output_type": "stream",
          "name": "stdout",
          "text": [
            "Su saldo es de $38000.\n"
          ]
        }
      ]
    },
    {
      "cell_type": "code",
      "metadata": {
        "id": "3n_ZWpplcEvw"
      },
      "source": [
        ""
      ],
      "execution_count": null,
      "outputs": []
    }
  ]
}